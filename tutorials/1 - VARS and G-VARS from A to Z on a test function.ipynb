{
 "cells": [
  {
   "cell_type": "markdown",
   "id": "2f431f57",
   "metadata": {},
   "source": [
    "# Sensitivity Analysis (SA) with VARS and G-VARS:\n",
    "## Correlated/Uncorrelated and Uniformly/Non-uniformly Distributed Inputs\n",
    "\n",
    "Notebook developed by Saman Razavi, Cordell Blanchard, and Kasra Keshavarz\n",
    "\n",
    "\n",
    "### For the VARS method, please cite:\n",
    "\n",
    "Razavi, S., & Gupta, H. V. (2016). A new framework for comprehensive, robust, and efficient global sensitivity analysis: 1. Theory. Water Resources Research, 52(1), 423-439. https://agupubs.onlinelibrary.wiley.com/doi/full/10.1002/2015WR017558\n",
    "\n",
    "Razavi, S., & Gupta, H. V. (2016). A new framework for comprehensive, robust, and efficient global sensitivity analysis: 2. Application. Water Resources Research, 52(1), 440-455. https://agupubs.onlinelibrary.wiley.com/doi/abs/10.1002/2015WR017559\n",
    "\n",
    "### For the Generalized VARS (G-VARS) method, please cite:\n",
    "\n",
    "Do, N. C., & Razavi, S. (2020). Correlation effects? A major but often neglected component in sensitivity and uncertainty analysis. Water Resources Research, 56(3), e2019WR025436. https://doi.org/10.1029/2019WR025436"
   ]
  },
  {
   "cell_type": "markdown",
   "id": "f8eb2b4e",
   "metadata": {},
   "source": [
    "## Exercise 1: From A to Z on the Ishigami test function\n",
    "### Objectives:\n",
    "Experiment 1 | First, let's run SA on Ishigami via *VARS* when the inputs are uncorrelated and uniformly distributed - this is the classic setting in the literature and the objective is to set a benchmark for the rest of this exercise.\n",
    "\n",
    "Experiment 2 | Now, switch to *G-VARS* but keep the inputs uncorrelated and uniformly distributed - this module is essentially the same as the previous module but with a more generalized method, with the objective of testing if G-VARS can re-produce VARS results.\n",
    "\n",
    "Experiment 3 | Run *G-VARS* when the inputs are correlated but still uniformly distributed - the objective of this module is to assess the role of correlation between inputs on the SA results.\n",
    "\n",
    "Experiment 4 | Finally, run the previous experiment now with both correlated and non-uniformly distributed inputs - the objective of this module is to see what happens when the inputs follow other distributions such as normal or triangular distribution."
   ]
  },
  {
   "cell_type": "markdown",
   "id": "902275b2",
   "metadata": {},
   "source": [
    "First import the needed librares, including `VARS` for VARS, `GVARS` for G-VARS and the `Model` class for creating a wrapper around the desired model."
   ]
  },
  {
   "cell_type": "code",
   "execution_count": 1,
   "id": "0235268b-623d-4cb9-b9ea-73d37ecceb22",
   "metadata": {},
   "outputs": [],
   "source": [
    "import numpy as np\n",
    "import pandas as pd\n",
    "import matplotlib.pyplot as plt\n",
    "from scipy.stats import stats\n",
    "\n",
    "from varstool import VARS, GVARS, Model"
   ]
  },
  {
   "cell_type": "markdown",
   "id": "4842426e",
   "metadata": {},
   "source": [
    "### Introduce the Ishigami function for sensitivity analysis\n",
    "\n",
    "The Ishigami function is a function with three inputs. It is one of the most commonly used functions in the SA literature to test and compare the performance of different SA methods."
   ]
  },
  {
   "cell_type": "code",
   "execution_count": 2,
   "id": "1d9dcb9c",
   "metadata": {},
   "outputs": [],
   "source": [
    "def ishigami(x, a=7, b=0.1):\n",
    "    '''Ishigami test function'''\n",
    "    # check whether the input x is a dataframe\n",
    "    \n",
    "    if not isinstance(x, (pd.core.frame.DataFrame, pd.core.series.Series, np.ndarray, list)):\n",
    "        raise TypeError('`x` must be of type pandas.DataFrame, numpy.ndarray, pd.Series, or list')\n",
    "    \n",
    "    if len(x) > 3:\n",
    "        raise ValueError('`x` must have only three arguments at a time')\n",
    "    \n",
    "    return np.sin(x[0]) + a*(np.sin(x[1])**2) + b*(x[2]**4)*np.sin(x[0])"
   ]
  },
  {
   "cell_type": "markdown",
   "id": "06a16987",
   "metadata": {},
   "source": [
    "Wrap the function of interest with the `Model` class."
   ]
  },
  {
   "cell_type": "code",
   "execution_count": 3,
   "id": "aa4f8d72",
   "metadata": {},
   "outputs": [],
   "source": [
    "ishigami_model = Model(ishigami)"
   ]
  },
  {
   "cell_type": "markdown",
   "id": "6bcdb806",
   "metadata": {},
   "source": [
    "Let's run the wrapped function for an arbitrary input and check the output."
   ]
  },
  {
   "cell_type": "code",
   "execution_count": 4,
   "id": "277529fe",
   "metadata": {},
   "outputs": [
    {
     "data": {
      "text/plain": [
       "0.0"
      ]
     },
     "execution_count": 4,
     "metadata": {},
     "output_type": "execute_result"
    }
   ],
   "source": [
    "x=pd.Series({#name  #value\n",
    "             'x1'   : 0 ,\n",
    "             'x2'   : 0 ,\n",
    "             'x3'   : 0 ,\n",
    "             })\n",
    "ishigami_model(x)"
   ]
  },
  {
   "cell_type": "markdown",
   "id": "775f491f",
   "metadata": {},
   "source": [
    "### Set up the four SA experiments\n",
    "\n",
    "***\n",
    "<p><center>Table 1. The attributes of the STAR-VARS algorithm </center></p>\n",
    "\n",
    "| Attribute      | Description |\n",
    "| :-------------:|:----------- |\n",
    "|`paramaters`    | The name of every paramter along with its upper and lower bounds           |\n",
    "|`num_stars`     | The total number of stars centers for VARS analysis                        |\n",
    "|`delta_h`       | The sampling resolution of the STAR-VARS sampling to generate star points  |\n",
    "|`ivars_scales`  | The scales of interest for IVARS estimation, e.g, 0.1 and 0.5 correspond (0-0.1) and (0-0.5) <br /> note: can not have a scale larger than 0.5|\n",
    "|`star_centres`  | User-generated star centers - only used when a sampler is not chosen       |\n",
    "|`sampler`       | The sampling strategy: `rnd`, `lhs`, `plhs`, `sobol_seq`, or `halton_seq` for generation of star centers|\n",
    "|`slice_size`       | The slice size used when `plhs` sampling method is chosen|\n",
    "|`seed`          | The seed number for randomization of the sampling strategy specified by `sampler`, <br /> only needed if a sampler was chosen  |\n",
    "|`model`         | The wrapper of your model in the `Model` class|\n",
    "|`bootstrap_flag`| This is a `True`/`False` value to turn on/off bootstrapping of VARS results   |\n",
    "|`bootstrap_size`| The number of sampling iterations with replacement via bootstrapping |\n",
    "|`bootstrap_ci`  | The level of confidence used in bootstrap reporting         |\n",
    "|`grouping_flag` | This is a `True`/`False` value to turn on/off grouping of VARS results   |\n",
    "|`num_grps`      | The number of groups you want to split your model paramaters into, <br /> if left blank the optimal number of groups will be calculated by VARS|\n",
    "|`report_verbose`| this is a `True`/`False` value that if `True` will display a loading bar <br /> to show the progession of the VARS analysis, else there will be no progression loading bar|\n",
    "\n",
    "\n",
    "***\n",
    "<p><center>Table 2. The attributes that GVARS inherits from VARS </center></p>\n",
    "\n",
    "| Attribute      | Description |\n",
    "| :-------------:|:----------- |\n",
    "|`num_stars`     | The total number of stars centers for VARS analysis                        |\n",
    "|`ivars_scales`  | The scales of interest for IVARS estimation, e.g, 0.1 and 0.5 correspond (0-0.1) and (0-0.5) <br /> note: can not have a scale larger than 0.5|\n",
    "|`star_centres`  | User-generated star centers - only used when a sampler is not chosen       |\n",
    "|`sampler`       | The sampling strategy: `rnd`, `lhs`, `plhs`, `sobol_seq`, or `halton_seq` for generation of star centers|\n",
    "|`seed`          | The seed number for randomization of the sampling strategy specified by `sampler`, <br /> only needed if a sampler was chosen  |\n",
    "|`model`         | The wrapper of your model in the `Model` class|\n",
    "|`bootstrap_flag`| This is a `True`/`False` value to turn on/off bootstrapping of VARS results   |\n",
    "|`bootstrap_size`| The number of sampling iterations with replacement via bootstrapping |\n",
    "|`bootstrap_ci`  | The level of confidence used in bootstrap reporting         |\n",
    "|`grouping_flag` | This is a `True`/`False` value to turn on/off grouping of VARS results   |\n",
    "|`num_grps`      | The number of groups you want to split your model paramaters into, <br /> if left blank the optimal number of groups will be calculated by VARS|\n",
    "|`report_verbose`| this is a `True`/`False` value that if `True` will display a loading bar <br /> to show the progession of the VARS analysis, else there will be no progression loading bar|\n",
    "\n",
    "***\n",
    "In addition, GVARS has three unique attributes: `parameters`, `corr_mat`, and `num_dir_samples`, as explained in the following.\n",
    "\n",
    "`parameters` includes the name of every model parameter, the distribution it follows, and the parameters specifying that distribution. The distributions currently available and their parameters are listed in Table 2.\n",
    "\n",
    "<p><center>Table 2. The parameter distributions currently supported in GVARS </center></p>\n",
    "\n",
    "| Distribution type        | Distribution parameter 1 | Distribution parameter 2 | Distribution parameter 3 | Distribution identifier |\n",
    "| :-----------------------:|:-----------------------: |:-----------------------: |:-----------------------: |:----------: |\n",
    "|uniform                   | lower bound              | upper bound              | None                     |  `unif`     |\n",
    "|triangle                  | lower bound              | upper bound              | mode                     |  `triangle` |\n",
    "|normal                    | mean                     | standard deviation       | None                     |  `norm`     |\n",
    "|lognormal                 | mean                     | standard deviation       | None                     |  `lognorm`  |\n",
    "|exponential               | mean                     | standard deviation       | None                     |  `expo`     |\n",
    "|generalized extreme value | location                 | scale                    | shape                    |  `gev`      |\n",
    "\n",
    "\n",
    "`corr_mat` is the correlation matrix which includes the Pearson correlation between every pair of parameters and must be defined as a numpy array.\n",
    "\n",
    "\n",
    "`num_dir_samples` is the number of samples GVARS takes along each direction for every star center. \n",
    "***\n",
    "**A \"good-to-know\" peice for advanced users:**\n",
    "\n",
    "In GVARS, the star-based sampling is modified to work with `num_stars` and `num_dir_samples`. This is unlike VARS where the star-based sampling works with `num_stars` and `delta_h`.\n",
    "\n",
    "GVARS still needs `delta_h` as an attribute for estimating and reporting directional variograms (not for sampling). As a rule-of-thumb, the user may set `delta_h` to be the reciprocal of `num_dir_samples`. For example, if num_dir_samples = 10, we suggest delta_h = 0.1.\n",
    "\n",
    "An advanced user may try other values of `delta_h` to extract more accurate results. In general, the smaller the `delta_h`, the more granular the results. But, the tradeoff with smaller values would be to have fewer pairs in the bins when estimating variograms.\n"
   ]
  },
  {
   "cell_type": "code",
   "execution_count": 5,
   "id": "fd05b908",
   "metadata": {},
   "outputs": [],
   "source": [
    "# Define Experiment 1\n",
    "\n",
    "my_parameters = { 'x1': [ -3.14, 3.14 ], \n",
    "                  'x2': [ -3.14, 3.14 ], \n",
    "                  'x3': [ -3.14, 3.14 ], }\n",
    "\n",
    "experiment_1 = VARS(parameters     = my_parameters,\n",
    "                    num_stars      = 100,\n",
    "                    delta_h        = 0.1,\n",
    "                    ivars_scales   = (0.1, 0.3, 0.5),\n",
    "                    sampler        = 'lhs',\n",
    "                    seed           = 123456789,\n",
    "                    model          = ishigami_model,\n",
    "                    bootstrap_flag = True,\n",
    "                    bootstrap_size = 100,\n",
    "                    bootstrap_ci   = 0.9,\n",
    "                    grouping_flag  = True,\n",
    "                    num_grps       = 2,\n",
    "                    report_verbose = True,\n",
    "                    )"
   ]
  },
  {
   "cell_type": "code",
   "execution_count": 6,
   "id": "92c37730",
   "metadata": {},
   "outputs": [],
   "source": [
    "# Define Experiment 2\n",
    "\n",
    "my_parameters = { 'x1': (-3.14, 3.14, None, 'unif'), \n",
    "                  'x2': (-3.14, 3.14, None, 'unif'), \n",
    "                  'x3': (-3.14, 3.14, None, 'unif')}\n",
    "\n",
    "my_corr_mat = np.array([[ 1   ,  0 ,  0   ],\n",
    "                        [ 0   ,  1 ,  0   ],\n",
    "                        [ 0   ,  0 ,  1   ]])\n",
    "\n",
    "my_num_dir_samples = 10\n",
    "\n",
    "my_delta_h = 0.1\n",
    "# my_delta_h = 1 / my_num_dir_samples # or choose values such as 0.1\n",
    "\n",
    "experiment_2 = GVARS(parameters     = my_parameters,\n",
    "                    corr_mat        = my_corr_mat,\n",
    "                    num_stars       = 100,\n",
    "                    num_dir_samples = my_num_dir_samples,\n",
    "                    delta_h         = my_delta_h,\n",
    "                    ivars_scales    = (0.1, 0.3, 0.5),\n",
    "                    sampler         = 'plhs',\n",
    "                    slice_size      = 10,\n",
    "                    model           = ishigami_model,\n",
    "                    seed            = 123456789,\n",
    "                    bootstrap_flag  = True,\n",
    "                    bootstrap_size  = 100,\n",
    "                    bootstrap_ci    = 0.9,\n",
    "                    grouping_flag   = False,\n",
    "                    num_grps        = 2,\n",
    "                    report_verbose  = True,\n",
    "                    )"
   ]
  },
  {
   "cell_type": "code",
   "execution_count": 7,
   "id": "d9d95e99",
   "metadata": {},
   "outputs": [],
   "source": [
    "# Define Experiment 3\n",
    "\n",
    "my_parameters = { 'x1': (-3.14, 3.14, None, 'unif'), \n",
    "                  'x2': (-3.14, 3.14, None, 'unif'), \n",
    "                  'x3': (-3.14, 3.14, None, 'unif')}\n",
    "\n",
    "my_corr_mat = np.array([[ 1   ,  0 ,  0.8 ],\n",
    "                        [ 0   ,  1 ,  0   ],\n",
    "                        [ 0.8 ,  0 ,  1   ]])\n",
    "\n",
    "my_num_dir_samples = 10\n",
    "\n",
    "my_delta_h = 0.1\n",
    "# my_delta_h = 1 / my_num_dir_samples # or choose values such as 0.1\n",
    "\n",
    "experiment_3 = GVARS(parameters     = my_parameters,\n",
    "                    corr_mat        = my_corr_mat,\n",
    "                    num_stars       = 100,\n",
    "                    num_dir_samples = my_num_dir_samples,\n",
    "                    delta_h         = my_delta_h,\n",
    "                    ivars_scales    = (0.1, 0.3, 0.5),\n",
    "                    sampler         = 'plhs',\n",
    "                    slice_size      = 10,\n",
    "                    model           = ishigami_model,\n",
    "                    seed            = 123456789,\n",
    "                    bootstrap_flag  = True,\n",
    "                    bootstrap_size  = 100,\n",
    "                    bootstrap_ci    = 0.9,\n",
    "                    grouping_flag   = True,\n",
    "                    num_grps        = 2,\n",
    "                    report_verbose  = True,\n",
    "                    )"
   ]
  },
  {
   "cell_type": "code",
   "execution_count": 8,
   "id": "e0d00868",
   "metadata": {},
   "outputs": [],
   "source": [
    "# Define Experiment 4\n",
    "\n",
    "my_parameters = { 'x1': (-3.14, 3.14,  None, 'unif'    ), \n",
    "                  'x2': (  0  ,  1  ,  None, 'norm'    ), \n",
    "                  'x3': (-3.14, 3.14, -3.14, 'triangle')}\n",
    "\n",
    "my_corr_mat = np.array([[ 1   ,  0 ,  0.8 ],\n",
    "                        [ 0   ,  1 ,  0   ],\n",
    "                        [ 0.8 ,  0 ,  1   ]])\n",
    "\n",
    "my_num_dir_samples = 10\n",
    "\n",
    "my_delta_h = 0.1\n",
    "# my_delta_h = 1 / my_num_dir_samples # or choose values such as 0.1\n",
    "\n",
    "experiment_4 = GVARS(parameters     = my_parameters,\n",
    "                    corr_mat        = my_corr_mat,\n",
    "                    num_stars       = 100,\n",
    "                    num_dir_samples = my_num_dir_samples,\n",
    "                    delta_h         = my_delta_h,\n",
    "                    ivars_scales    = (0.1, 0.3, 0.5),\n",
    "                    sampler         = 'plhs',\n",
    "                    slice_size      = 10,\n",
    "                    model           = ishigami_model,\n",
    "                    seed            = 123456789,\n",
    "                    bootstrap_flag  = True,\n",
    "                    bootstrap_size  = 100,\n",
    "                    bootstrap_ci    = 0.9,\n",
    "                    grouping_flag   = True,\n",
    "                    num_grps        = 2,\n",
    "                    report_verbose  = True,\n",
    "                    )"
   ]
  },
  {
   "cell_type": "markdown",
   "id": "8f977677",
   "metadata": {},
   "source": [
    "### Run the SA experiments\n",
    "\n",
    "Now, run the four experiments defined above."
   ]
  },
  {
   "cell_type": "code",
   "execution_count": 9,
   "id": "81c6cb91",
   "metadata": {},
   "outputs": [
    {
     "data": {
      "text/plain": [
       "Star Centres: 100 Centers Loaded\n",
       "Star Points: Not Loaded\n",
       "Parameters: 3 paremeters set\n",
       "Delta h: 0.1\n",
       "Model: ishigami\n",
       "Seed Number: 123456789\n",
       "Bootstrap: On\n",
       "Bootstrap Size: 100\n",
       "Bootstrap CI: 0.9\n",
       "Grouping: On\n",
       "Number of Groups: 2\n",
       "Verbose: On\n",
       "VARS Analysis: Not Done"
      ]
     },
     "execution_count": 9,
     "metadata": {},
     "output_type": "execute_result"
    }
   ],
   "source": [
    "experiment_1.run_online()"
   ]
  },
  {
   "cell_type": "code",
   "execution_count": 10,
   "id": "3a8eba2d",
   "metadata": {},
   "outputs": [
    {
     "data": {
      "application/vnd.jupyter.widget-view+json": {
       "model_id": "ddbd1fe76b6c4e58be014a0d792e0121",
       "version_major": 2,
       "version_minor": 0
      },
      "text/plain": [
       "building fictive matrix:   0%|                                                                   | 0/2 [00:00<…"
      ]
     },
     "metadata": {},
     "output_type": "display_data"
    },
    {
     "data": {
      "application/vnd.jupyter.widget-view+json": {
       "model_id": "c5b3b36cdd844bb9885878f4fae6f0af",
       "version_major": 2,
       "version_minor": 0
      },
      "text/plain": [
       "generating star points\n",
       ":   0%|                                                                   | 0/8 [00:00<…"
      ]
     },
     "metadata": {},
     "output_type": "display_data"
    },
    {
     "data": {
      "application/vnd.jupyter.widget-view+json": {
       "model_id": "bf1ab6f7aabc4782bc1d80bf9f63c946",
       "version_major": 2,
       "version_minor": 0
      },
      "text/plain": [
       "model evaluation:   0%|                                                                       | 0/3000 [00:00<…"
      ]
     },
     "metadata": {},
     "output_type": "display_data"
    },
    {
     "data": {
      "application/vnd.jupyter.widget-view+json": {
       "model_id": "a45ea7e49d9f425c852dbf5240d21200",
       "version_major": 2,
       "version_minor": 0
      },
      "text/plain": [
       "building pairs:   0%|                                                                          | 0/300 [00:00<…"
      ]
     },
     "metadata": {},
     "output_type": "display_data"
    },
    {
     "data": {
      "application/vnd.jupyter.widget-view+json": {
       "model_id": "a2b56e226b8b4313a5d10aa2c1eaee26",
       "version_major": 2,
       "version_minor": 0
      },
      "text/plain": [
       "calculating 'h' values:   0%|          | 0/100 [00:00<?, ?it/s]"
      ]
     },
     "metadata": {},
     "output_type": "display_data"
    },
    {
     "data": {
      "application/vnd.jupyter.widget-view+json": {
       "model_id": "e7088db110fc49f8a75d0cc57f3df032",
       "version_major": 2,
       "version_minor": 0
      },
      "text/plain": [
       "binning and reording pairs based on 'h' values:   0%|          | 0/100 [00:00<?, ?it/s]"
      ]
     },
     "metadata": {},
     "output_type": "display_data"
    },
    {
     "data": {
      "application/vnd.jupyter.widget-view+json": {
       "model_id": "821e0b94b738432d9b75df2e0e9d979d",
       "version_major": 2,
       "version_minor": 0
      },
      "text/plain": [
       "VARS analysis:   0%|                                                                            | 0/10 [00:00<…"
      ]
     },
     "metadata": {},
     "output_type": "display_data"
    },
    {
     "data": {
      "application/vnd.jupyter.widget-view+json": {
       "model_id": "8d70edaaa334467ea6b0d9122d6aae44",
       "version_major": 2,
       "version_minor": 0
      },
      "text/plain": [
       "factor ranking:   0%|                                                                            | 0/2 [00:00<…"
      ]
     },
     "metadata": {},
     "output_type": "display_data"
    },
    {
     "data": {
      "application/vnd.jupyter.widget-view+json": {
       "model_id": "6dcf267e949d4996825e06f25179fd52",
       "version_major": 2,
       "version_minor": 0
      },
      "text/plain": [
       "bootstrapping:   0%|                                                                           | 0/100 [00:00<…"
      ]
     },
     "metadata": {},
     "output_type": "display_data"
    }
   ],
   "source": [
    "experiment_2.run_online()"
   ]
  },
  {
   "cell_type": "code",
   "execution_count": 11,
   "id": "6cc79581",
   "metadata": {},
   "outputs": [
    {
     "data": {
      "application/vnd.jupyter.widget-view+json": {
       "model_id": "612c2bf1849141e2a75d842f237f6d5a",
       "version_major": 2,
       "version_minor": 0
      },
      "text/plain": [
       "building fictive matrix:   0%|                                                                   | 0/2 [00:00<…"
      ]
     },
     "metadata": {},
     "output_type": "display_data"
    },
    {
     "data": {
      "application/vnd.jupyter.widget-view+json": {
       "model_id": "37f876602b0d493e834d9b4e6b8db7e4",
       "version_major": 2,
       "version_minor": 0
      },
      "text/plain": [
       "generating star points\n",
       ":   0%|                                                                   | 0/8 [00:00<…"
      ]
     },
     "metadata": {},
     "output_type": "display_data"
    },
    {
     "data": {
      "application/vnd.jupyter.widget-view+json": {
       "model_id": "1de0cc648738402b980bff464857929d",
       "version_major": 2,
       "version_minor": 0
      },
      "text/plain": [
       "model evaluation:   0%|                                                                       | 0/3000 [00:00<…"
      ]
     },
     "metadata": {},
     "output_type": "display_data"
    },
    {
     "data": {
      "application/vnd.jupyter.widget-view+json": {
       "model_id": "fed508cea14b4dc49d82405dac1b3db1",
       "version_major": 2,
       "version_minor": 0
      },
      "text/plain": [
       "building pairs:   0%|                                                                          | 0/300 [00:00<…"
      ]
     },
     "metadata": {},
     "output_type": "display_data"
    },
    {
     "data": {
      "application/vnd.jupyter.widget-view+json": {
       "model_id": "cee5ab06955d481188aba9a40f8749ec",
       "version_major": 2,
       "version_minor": 0
      },
      "text/plain": [
       "calculating 'h' values:   0%|          | 0/100 [00:00<?, ?it/s]"
      ]
     },
     "metadata": {},
     "output_type": "display_data"
    },
    {
     "data": {
      "application/vnd.jupyter.widget-view+json": {
       "model_id": "4f92f7f11cc54964bd58b3495ddd1de4",
       "version_major": 2,
       "version_minor": 0
      },
      "text/plain": [
       "binning and reording pairs based on 'h' values:   0%|          | 0/100 [00:00<?, ?it/s]"
      ]
     },
     "metadata": {},
     "output_type": "display_data"
    },
    {
     "data": {
      "application/vnd.jupyter.widget-view+json": {
       "model_id": "658b5cb06f304ba395a2eb1e4750a65b",
       "version_major": 2,
       "version_minor": 0
      },
      "text/plain": [
       "VARS analysis:   0%|                                                                            | 0/10 [00:00<…"
      ]
     },
     "metadata": {},
     "output_type": "display_data"
    },
    {
     "data": {
      "application/vnd.jupyter.widget-view+json": {
       "model_id": "1eebfff3140d4fedad5365b77343d3d1",
       "version_major": 2,
       "version_minor": 0
      },
      "text/plain": [
       "factor ranking:   0%|                                                                            | 0/2 [00:00<…"
      ]
     },
     "metadata": {},
     "output_type": "display_data"
    },
    {
     "data": {
      "application/vnd.jupyter.widget-view+json": {
       "model_id": "64fad791077d45edaaaa59fa0bc746bb",
       "version_major": 2,
       "version_minor": 0
      },
      "text/plain": [
       "bootstrapping and grouping:   0%|                                                              | 0/100 [00:00<…"
      ]
     },
     "metadata": {},
     "output_type": "display_data"
    }
   ],
   "source": [
    "experiment_3.run_online()"
   ]
  },
  {
   "cell_type": "code",
   "execution_count": 12,
   "id": "da29e0db",
   "metadata": {},
   "outputs": [
    {
     "data": {
      "application/vnd.jupyter.widget-view+json": {
       "model_id": "2d496657c10a40e09aaf2afae3bd4231",
       "version_major": 2,
       "version_minor": 0
      },
      "text/plain": [
       "building fictive matrix:   0%|                                                                   | 0/2 [00:00<…"
      ]
     },
     "metadata": {},
     "output_type": "display_data"
    },
    {
     "data": {
      "application/vnd.jupyter.widget-view+json": {
       "model_id": "e06a10c3e488480f94ecb40345053b4c",
       "version_major": 2,
       "version_minor": 0
      },
      "text/plain": [
       "generating star points\n",
       ":   0%|                                                                   | 0/8 [00:00<…"
      ]
     },
     "metadata": {},
     "output_type": "display_data"
    },
    {
     "data": {
      "application/vnd.jupyter.widget-view+json": {
       "model_id": "56468bd9e51548a392cc179467443647",
       "version_major": 2,
       "version_minor": 0
      },
      "text/plain": [
       "model evaluation:   0%|                                                                       | 0/3000 [00:00<…"
      ]
     },
     "metadata": {},
     "output_type": "display_data"
    },
    {
     "data": {
      "application/vnd.jupyter.widget-view+json": {
       "model_id": "bb8963644a674636ba60cfbacfbba1cd",
       "version_major": 2,
       "version_minor": 0
      },
      "text/plain": [
       "building pairs:   0%|                                                                          | 0/300 [00:00<…"
      ]
     },
     "metadata": {},
     "output_type": "display_data"
    },
    {
     "data": {
      "application/vnd.jupyter.widget-view+json": {
       "model_id": "68b2e852e538426fa5851a1d0eef706c",
       "version_major": 2,
       "version_minor": 0
      },
      "text/plain": [
       "calculating 'h' values:   0%|          | 0/100 [00:00<?, ?it/s]"
      ]
     },
     "metadata": {},
     "output_type": "display_data"
    },
    {
     "data": {
      "application/vnd.jupyter.widget-view+json": {
       "model_id": "7d53e26d9bb94be5bdcdcd270d3635b7",
       "version_major": 2,
       "version_minor": 0
      },
      "text/plain": [
       "binning and reording pairs based on 'h' values:   0%|          | 0/100 [00:00<?, ?it/s]"
      ]
     },
     "metadata": {},
     "output_type": "display_data"
    },
    {
     "data": {
      "application/vnd.jupyter.widget-view+json": {
       "model_id": "b74583d90b454941a2e258d03dca4321",
       "version_major": 2,
       "version_minor": 0
      },
      "text/plain": [
       "VARS analysis:   0%|                                                                            | 0/10 [00:00<…"
      ]
     },
     "metadata": {},
     "output_type": "display_data"
    },
    {
     "name": "stderr",
     "output_type": "stream",
     "text": [
      "C:\\Programs\\Anaconda3\\lib\\site-packages\\varstool\\varstool.py:1455: UserWarning: For some or all variables there are no results for the directional variogram for the following h values: 0.8, you may want to consider increasing the sample size.\n",
      "\n",
      "  warnings.warn(warning_string,\n"
     ]
    },
    {
     "data": {
      "application/vnd.jupyter.widget-view+json": {
       "model_id": "9a7a35f60c274599b78978da7f347158",
       "version_major": 2,
       "version_minor": 0
      },
      "text/plain": [
       "factor ranking:   0%|                                                                            | 0/2 [00:00<…"
      ]
     },
     "metadata": {},
     "output_type": "display_data"
    },
    {
     "data": {
      "application/vnd.jupyter.widget-view+json": {
       "model_id": "7aa2c71c60af40639af167e6bca8dc49",
       "version_major": 2,
       "version_minor": 0
      },
      "text/plain": [
       "bootstrapping and grouping:   0%|                                                              | 0/100 [00:00<…"
      ]
     },
     "metadata": {},
     "output_type": "display_data"
    }
   ],
   "source": [
    "experiment_4.run_online()"
   ]
  },
  {
   "cell_type": "markdown",
   "id": "1490cdde",
   "metadata": {},
   "source": [
    "### Check out the results\n",
    "\n",
    "Let's check out the results of the four SA experiments, including IVARS, VARS-TO, VARS-ABE, VARS-ACE, and directional variograms."
   ]
  },
  {
   "cell_type": "markdown",
   "id": "8925a8bb",
   "metadata": {},
   "source": [
    "**IVARS: Integrated variogram Across a Range of Scales** \n",
    "\n",
    "IVARS indices are the primary sensitivity indices by the VARS approach. First, print all the IVARS indices for the scale ranges of interest."
   ]
  },
  {
   "cell_type": "code",
   "execution_count": 13,
   "id": "b55a05fe",
   "metadata": {},
   "outputs": [
    {
     "ename": "AttributeError",
     "evalue": "'VARS' object has no attribute 'ivars'",
     "output_type": "error",
     "traceback": [
      "\u001b[1;31m---------------------------------------------------------------------------\u001b[0m",
      "\u001b[1;31mAttributeError\u001b[0m                            Traceback (most recent call last)",
      "\u001b[1;32m<ipython-input-13-6558c6582a49>\u001b[0m in \u001b[0;36m<module>\u001b[1;34m\u001b[0m\n\u001b[0;32m      1\u001b[0m \u001b[1;31m# IVARS from Experiment 1\u001b[0m\u001b[1;33m\u001b[0m\u001b[1;33m\u001b[0m\u001b[1;33m\u001b[0m\u001b[0m\n\u001b[0;32m      2\u001b[0m \u001b[0mcols\u001b[0m \u001b[1;33m=\u001b[0m \u001b[0mexperiment_1\u001b[0m\u001b[1;33m.\u001b[0m\u001b[0mparameters\u001b[0m\u001b[1;33m.\u001b[0m\u001b[0mkeys\u001b[0m\u001b[1;33m(\u001b[0m\u001b[1;33m)\u001b[0m\u001b[1;33m\u001b[0m\u001b[1;33m\u001b[0m\u001b[0m\n\u001b[1;32m----> 3\u001b[1;33m \u001b[0mexperiment_1\u001b[0m\u001b[1;33m.\u001b[0m\u001b[0mivars\u001b[0m\u001b[1;33m[\u001b[0m\u001b[0mcols\u001b[0m\u001b[1;33m]\u001b[0m\u001b[1;33m\u001b[0m\u001b[1;33m\u001b[0m\u001b[0m\n\u001b[0m",
      "\u001b[1;31mAttributeError\u001b[0m: 'VARS' object has no attribute 'ivars'"
     ]
    }
   ],
   "source": [
    "# IVARS from Experiment 1\n",
    "cols = experiment_1.parameters.keys()\n",
    "experiment_1.ivars[cols]"
   ]
  },
  {
   "cell_type": "code",
   "execution_count": null,
   "id": "81300a2c",
   "metadata": {},
   "outputs": [],
   "source": [
    "# IVARS from Experiment 2\n",
    "cols = experiment_2.parameters.keys()\n",
    "experiment_2.ivars[cols]"
   ]
  },
  {
   "cell_type": "code",
   "execution_count": null,
   "id": "5527c27b",
   "metadata": {},
   "outputs": [],
   "source": [
    "# IVARS from Experiment 3\n",
    "cols = experiment_3.parameters.keys()\n",
    "experiment_3.ivars[cols]"
   ]
  },
  {
   "cell_type": "code",
   "execution_count": null,
   "id": "aa43aa0b",
   "metadata": {},
   "outputs": [],
   "source": [
    "# IVARS from Experiment 4\n",
    "cols = experiment_4.parameters.keys()\n",
    "experiment_4.ivars[cols]"
   ]
  },
  {
   "cell_type": "markdown",
   "id": "90d9d9a9",
   "metadata": {},
   "source": [
    " Choose a scale range and plot the respective IVARS indices. Two points:\n",
    " \n",
    "    POINT1: IVARS-50 (h=[0-0.5]), called ***Total-Variogram Effect*** is the most comprehensive sensitivity index.\n",
    "    POINT2: Plotting sensitivity results in log scale helps us better differentiate less influential parameters."
   ]
  },
  {
   "cell_type": "code",
   "execution_count": null,
   "id": "b7d6b5b8",
   "metadata": {},
   "outputs": [],
   "source": [
    "# Plot IVARS from Experiment 1\n",
    "ivars_scale = 0.5 # Choose the scale range of interest, e.g., 0.1, 0.3, or 0.5\n",
    "\n",
    "cols = experiment_1.parameters.keys()                     \n",
    "fig_bar = plt.figure(figsize=(10,5))\n",
    "plt.gca().bar(cols, experiment_1.ivars.loc[pd.IndexSlice[ ivars_scale ]][cols], color='gold')\n",
    "plt.gca().set_title (r'Integrated variogram Across a Range of Scales', fontsize = 15)\n",
    "plt.gca().set_ylabel(r'IVARS-50 (Total-Variogram Effect)', fontsize = 13)\n",
    "plt.gca().set_xlabel(r'Model Parameter', fontsize=13)\n",
    "plt.gca().grid()\n",
    "plt.gca().set_yscale('linear')\n",
    "\n",
    "fig_bar = plt.figure(figsize=(10,5))\n",
    "plt.gca().bar(cols, experiment_1.ivars.loc[pd.IndexSlice[ ivars_scale ]][cols], color='gold')\n",
    "plt.gca().set_title (r'Integrated variogram Across a Range of Scales $[log-scale]$', fontsize = 15)\n",
    "plt.gca().set_ylabel(r'IVARS-50 (Total-Variogram Effect)', fontsize = 13)\n",
    "plt.gca().set_xlabel(r'Model Parameter', fontsize=13)\n",
    "plt.gca().grid()\n",
    "plt.gca().set_yscale('log')\n"
   ]
  },
  {
   "cell_type": "code",
   "execution_count": null,
   "id": "32e728ba",
   "metadata": {},
   "outputs": [],
   "source": [
    "# Plot IVARS from Experiment 2\n",
    "ivars_scale = 0.5 # Choose the scale range of interest, e.g., 0.1, 0.3, or 0.5\n",
    "\n",
    "cols = experiment_2.parameters.keys()                     \n",
    "fig_bar = plt.figure(figsize=(10,5))\n",
    "plt.gca().bar(cols, experiment_2.ivars.loc[pd.IndexSlice[ ivars_scale ]][cols], color='gold')\n",
    "plt.gca().set_title (r'Integrated variogram Across a Range of Scales', fontsize = 15)\n",
    "plt.gca().set_ylabel(r'IVARS-50 (Total-Variogram Effect)', fontsize = 13)\n",
    "plt.gca().set_xlabel(r'Model Parameter', fontsize=13)\n",
    "plt.gca().grid()\n",
    "plt.gca().set_yscale('linear')\n",
    "\n",
    "fig_bar = plt.figure(figsize=(10,5))\n",
    "plt.gca().bar(cols, experiment_2.ivars.loc[pd.IndexSlice[ ivars_scale ]][cols], color='gold')\n",
    "plt.gca().set_title (r'Integrated variogram Across a Range of Scales $[log-scale]$', fontsize = 15)\n",
    "plt.gca().set_ylabel(r'IVARS-50 (Total-Variogram Effect)', fontsize = 13)\n",
    "plt.gca().set_xlabel(r'Model Parameter', fontsize=13)\n",
    "plt.gca().grid()\n",
    "plt.gca().set_yscale('log')"
   ]
  },
  {
   "cell_type": "markdown",
   "id": "d5b6491f-8776-401c-96f9-59eded5db09a",
   "metadata": {},
   "source": [
    "Experiment 2 shows similar results to experiment 1 in terms of senstivity for each of the parameters as expected"
   ]
  },
  {
   "cell_type": "code",
   "execution_count": null,
   "id": "12cbd814",
   "metadata": {},
   "outputs": [],
   "source": [
    "# Plot IVARS from Experiment 3\n",
    "ivars_scale = 0.5 # Choose the scale range of interest, e.g., 0.1, 0.3, or 0.5\n",
    "\n",
    "cols = experiment_3.parameters.keys()                     \n",
    "fig_bar = plt.figure(figsize=(10,5))\n",
    "plt.gca().bar(cols, experiment_3.ivars.loc[pd.IndexSlice[ ivars_scale ]][cols], color='gold')\n",
    "plt.gca().set_title (r'Integrated variogram Across a Range of Scales', fontsize = 15)\n",
    "plt.gca().set_ylabel(r'IVARS-50 (Total-Variogram Effect)', fontsize = 13)\n",
    "plt.gca().set_xlabel(r'Model Parameter', fontsize=13)\n",
    "plt.gca().grid()\n",
    "plt.gca().set_yscale('linear')\n",
    "\n",
    "fig_bar = plt.figure(figsize=(10,5))\n",
    "plt.gca().bar(cols, experiment_3.ivars.loc[pd.IndexSlice[ ivars_scale ]][cols], color='gold')\n",
    "plt.gca().set_title (r'Integrated variogram Across a Range of Scales $[log-scale]$', fontsize = 15)\n",
    "plt.gca().set_ylabel(r'IVARS-50 (Total-Variogram Effect)', fontsize = 13)\n",
    "plt.gca().set_xlabel(r'Model Parameter', fontsize=13)\n",
    "plt.gca().grid()\n",
    "plt.gca().set_yscale('log')"
   ]
  },
  {
   "cell_type": "markdown",
   "id": "9fddb971-c4a7-4b48-9601-a7dda14f0e9e",
   "metadata": {},
   "source": [
    "The noticable difference in experiment 3 comes from the new correlation between `x1` and `x3`. This is shown in the plots as `x1` has drastically changed in terms of senstivity."
   ]
  },
  {
   "cell_type": "code",
   "execution_count": null,
   "id": "63d5757e",
   "metadata": {},
   "outputs": [],
   "source": [
    "# Plot IVARS from Experiment 4\n",
    "ivars_scale = 0.5 # Choose the scale range of interest, e.g., 0.1, 0.3, or 0.5\n",
    "\n",
    "cols = experiment_4.parameters.keys()                     \n",
    "fig_bar = plt.figure(figsize=(10,5))\n",
    "plt.gca().bar(cols, experiment_4.ivars.loc[pd.IndexSlice[ ivars_scale ]][cols], color='gold')\n",
    "plt.gca().set_title (r'Integrated variogram Across a Range of Scales', fontsize = 15)\n",
    "plt.gca().set_ylabel(r'IVARS-50 (Total-Variogram Effect)', fontsize = 13)\n",
    "plt.gca().set_xlabel(r'Model Parameter', fontsize=13)\n",
    "plt.gca().grid()\n",
    "plt.gca().set_yscale('linear')\n",
    "\n",
    "fig_bar = plt.figure(figsize=(10,5))\n",
    "plt.gca().bar(cols, experiment_4.ivars.loc[pd.IndexSlice[ ivars_scale ]][cols], color='gold')\n",
    "plt.gca().set_title (r'Integrated variogram Across a Range of Scales $[log-scale]$', fontsize = 15)\n",
    "plt.gca().set_ylabel(r'IVARS-50 (Total-Variogram Effect)', fontsize = 13)\n",
    "plt.gca().set_xlabel(r'Model Parameter', fontsize=13)\n",
    "plt.gca().grid()\n",
    "plt.gca().set_yscale('log')"
   ]
  },
  {
   "cell_type": "markdown",
   "id": "ca1ef2f8-205d-45f4-aa53-fd223653f4e2",
   "metadata": {},
   "source": [
    "Experiment 4 shows different results than the rest of the experiments due to the addition of both correlated parameters `x1` and `x2` along with there being non-uniformly distributed inputs."
   ]
  },
  {
   "cell_type": "markdown",
   "id": "869269dc",
   "metadata": {},
   "source": [
    "**VARS-TO: Sobol Total-Order Effect** \n",
    "\n",
    "In addition to the IVARS indices, VARS and GVARS estimate Sobol variance-based total-order effects as side products. Below, print them and plot them."
   ]
  },
  {
   "cell_type": "code",
   "execution_count": null,
   "id": "423c44a1",
   "metadata": {
    "scrolled": true
   },
   "outputs": [],
   "source": [
    "# VARS-TO from Experiment 1\n",
    "cols = experiment_1.parameters.keys()\n",
    "experiment_1.st.to_frame().T[cols]"
   ]
  },
  {
   "cell_type": "code",
   "execution_count": null,
   "id": "7c226cd6",
   "metadata": {},
   "outputs": [],
   "source": [
    "# VARS-TO from Experiment 2\n",
    "cols = experiment_2.parameters.keys()\n",
    "experiment_2.st.to_frame().T[cols]"
   ]
  },
  {
   "cell_type": "code",
   "execution_count": null,
   "id": "30156e72",
   "metadata": {},
   "outputs": [],
   "source": [
    "# VARS-TO from Experiment 3\n",
    "cols = experiment_3.parameters.keys()\n",
    "experiment_3.st.to_frame().T[cols]"
   ]
  },
  {
   "cell_type": "code",
   "execution_count": null,
   "id": "37ee8f83",
   "metadata": {},
   "outputs": [],
   "source": [
    "# VARS-TO from Experiment 4\n",
    "cols = experiment_4.parameters.keys()\n",
    "experiment_4.st.to_frame().T[cols]"
   ]
  },
  {
   "cell_type": "code",
   "execution_count": null,
   "id": "144804ea",
   "metadata": {},
   "outputs": [],
   "source": [
    "# Plot VARS-TO from Experiment 1\n",
    "cols = experiment_1.parameters.keys()                     \n",
    "fig_bar = plt.figure(figsize=(10,5))\n",
    "plt.gca().bar(cols, experiment_1.st.to_frame().T.iloc[0][cols], color='lightblue')\n",
    "plt.gca().set_title (r'Sobol Total-Order Effect', fontsize = 15)\n",
    "plt.gca().set_ylabel(r'VARS-TO (Total-Order Effect)', fontsize = 13)\n",
    "plt.gca().set_xlabel(r'Model Parameter', fontsize=13)\n",
    "plt.gca().grid()\n",
    "plt.gca().set_yscale('linear')\n",
    "\n",
    "fig_bar = plt.figure(figsize=(10,5))\n",
    "plt.gca().bar(cols, experiment_1.st.to_frame().T.iloc[0][cols], color='lightblue')\n",
    "plt.gca().set_title (r'Sobol Total-Order Effect $[log-scale]$', fontsize = 15)\n",
    "plt.gca().set_ylabel(r'VARS-TO (Total-Order Effect)', fontsize = 13)\n",
    "plt.gca().set_xlabel(r'Model Parameter', fontsize=13)\n",
    "plt.gca().grid()\n",
    "plt.gca().set_yscale('log')"
   ]
  },
  {
   "cell_type": "code",
   "execution_count": null,
   "id": "fc5273c2",
   "metadata": {},
   "outputs": [],
   "source": [
    "# Plot VARS-TO from Experiment 2\n",
    "cols = experiment_2.parameters.keys()                     \n",
    "fig_bar = plt.figure(figsize=(10,5))\n",
    "plt.gca().bar(cols, experiment_2.st.to_frame().T.iloc[0][cols], color='lightblue')\n",
    "plt.gca().set_title (r'Sobol Total-Order Effect', fontsize = 15)\n",
    "plt.gca().set_ylabel(r'VARS-TO (Total-Order Effect)', fontsize = 13)\n",
    "plt.gca().set_xlabel(r'Model Parameter', fontsize=13)\n",
    "plt.gca().grid()\n",
    "plt.gca().set_yscale('linear')\n",
    "\n",
    "fig_bar = plt.figure(figsize=(10,5))\n",
    "plt.gca().bar(cols, experiment_2.st.to_frame().T.iloc[0][cols], color='lightblue')\n",
    "plt.gca().set_title (r'Sobol Total-Order Effect $[log-scale]$', fontsize = 15)\n",
    "plt.gca().set_ylabel(r'VARS-TO (Total-Order Effect)', fontsize = 13)\n",
    "plt.gca().set_xlabel(r'Model Parameter', fontsize=13)\n",
    "plt.gca().grid()\n",
    "plt.gca().set_yscale('log')"
   ]
  },
  {
   "cell_type": "code",
   "execution_count": null,
   "id": "82c33bc3",
   "metadata": {},
   "outputs": [],
   "source": [
    "# Plot VARS-TO from Experiment 3\n",
    "cols = experiment_3.parameters.keys()                     \n",
    "fig_bar = plt.figure(figsize=(10,5))\n",
    "plt.gca().bar(cols, experiment_3.st.to_frame().T.iloc[0][cols], color='lightblue')\n",
    "plt.gca().set_title (r'Sobol Total-Order Effect', fontsize = 15)\n",
    "plt.gca().set_ylabel(r'VARS-TO (Total-Order Effect)', fontsize = 13)\n",
    "plt.gca().set_xlabel(r'Model Parameter', fontsize=13)\n",
    "plt.gca().grid()\n",
    "plt.gca().set_yscale('linear')\n",
    "\n",
    "fig_bar = plt.figure(figsize=(10,5))\n",
    "plt.gca().bar(cols, experiment_3.st.to_frame().T.iloc[0][cols], color='lightblue')\n",
    "plt.gca().set_title (r'Sobol Total-Order Effect $[log-scale]$', fontsize = 15)\n",
    "plt.gca().set_ylabel(r'VARS-TO (Total-Order Effect)', fontsize = 13)\n",
    "plt.gca().set_xlabel(r'Model Parameter', fontsize=13)\n",
    "plt.gca().grid()\n",
    "plt.gca().set_yscale('log')"
   ]
  },
  {
   "cell_type": "code",
   "execution_count": null,
   "id": "74eecc99",
   "metadata": {},
   "outputs": [],
   "source": [
    "# Plot VARS-TO from Experiment 4\n",
    "cols = experiment_4.parameters.keys()                     \n",
    "fig_bar = plt.figure(figsize=(10,5))\n",
    "plt.gca().bar(cols, experiment_4.st.to_frame().T.iloc[0][cols], color='lightblue')\n",
    "plt.gca().set_title (r'Sobol Total-Order Effect', fontsize = 15)\n",
    "plt.gca().set_ylabel(r'VARS-TO (Total-Order Effect)', fontsize = 13)\n",
    "plt.gca().set_xlabel(r'Model Parameter', fontsize=13)\n",
    "plt.gca().grid()\n",
    "plt.gca().set_yscale('linear')\n",
    "\n",
    "fig_bar = plt.figure(figsize=(10,5))\n",
    "plt.gca().bar(cols, experiment_4.st.to_frame().T.iloc[0][cols], color='lightblue')\n",
    "plt.gca().set_title (r'Sobol Total-Order Effect $[log-scale]$', fontsize = 15)\n",
    "plt.gca().set_ylabel(r'VARS-TO (Total-Order Effect)', fontsize = 13)\n",
    "plt.gca().set_xlabel(r'Model Parameter', fontsize=13)\n",
    "plt.gca().grid()\n",
    "plt.gca().set_yscale('log')"
   ]
  },
  {
   "cell_type": "markdown",
   "id": "dd7cf3b8-0ac0-40d9-afc8-9ebe90fa8b99",
   "metadata": {},
   "source": [
    "The Sobol Total-Order Effect approach confirms our analysis from the IVARS-50 approach as the results are similar in shape."
   ]
  },
  {
   "cell_type": "markdown",
   "id": "aa59db2e",
   "metadata": {},
   "source": [
    "**VARS-ABE & VARS-ACE: Morris Elementary Effects** \n",
    "\n",
    "In addition to the IVARS and Sobol indices, VARS and GVARS estimate various versions of Morris derivative-based elementary effects as side products, **mean ABsolute Elementary effect (ABE)** and **mean ACtual elementary effect (ACE)**.\n",
    "\n",
    "    POINT: In the derivative-based approach, the user needs to choose a delta (step size) for numerical estimation of derivatives. Recommended is to go with the smallest delta available here, which is equal to delta_h, but the user could choose any integer product of delta_h as well.\n",
    "\n",
    " Below, print VARS-ABE & VARS-ACE and then plot them."
   ]
  },
  {
   "cell_type": "code",
   "execution_count": null,
   "id": "e03cc880",
   "metadata": {},
   "outputs": [],
   "source": [
    "# delta_of_interest = experiment_1.maee.to_frame().unstack(level=0).index.min() # This lines chooses the smallest delta\n",
    "delta_of_interest = 0.1  # This line can be used to set other values for delta"
   ]
  },
  {
   "cell_type": "code",
   "execution_count": null,
   "id": "8f3c1cf7",
   "metadata": {},
   "outputs": [],
   "source": [
    "# VARS-ABE from Experiment 1\n",
    "experiment_1.maee.to_frame().unstack(level=0).loc[delta_of_interest].to_frame().T"
   ]
  },
  {
   "cell_type": "code",
   "execution_count": null,
   "id": "77ec1ed6",
   "metadata": {
    "scrolled": true
   },
   "outputs": [],
   "source": [
    "# VARS-ACE from Experiment 1\n",
    "experiment_1.mee.to_frame().unstack(level=0).loc[delta_of_interest].to_frame().T"
   ]
  },
  {
   "cell_type": "code",
   "execution_count": null,
   "id": "8b237122",
   "metadata": {},
   "outputs": [],
   "source": [
    "# VARS-ABE from Experiment 2\n",
    "experiment_2.maee.to_frame().unstack(level=0).loc[delta_of_interest].to_frame().T"
   ]
  },
  {
   "cell_type": "code",
   "execution_count": null,
   "id": "f167e09c",
   "metadata": {},
   "outputs": [],
   "source": [
    "# VARS-ACE from Experiment 2\n",
    "experiment_2.mee.to_frame().unstack(level=0).loc[delta_of_interest].to_frame().T"
   ]
  },
  {
   "cell_type": "code",
   "execution_count": null,
   "id": "3f8203ae",
   "metadata": {},
   "outputs": [],
   "source": [
    "# VARS-ABE from Experiment 3\n",
    "experiment_3.maee.to_frame().unstack(level=0).loc[delta_of_interest].to_frame().T"
   ]
  },
  {
   "cell_type": "code",
   "execution_count": null,
   "id": "ac56b404",
   "metadata": {},
   "outputs": [],
   "source": [
    "# VARS-ACE from Experiment 3\n",
    "experiment_3.mee.to_frame().unstack(level=0).loc[delta_of_interest].to_frame().T"
   ]
  },
  {
   "cell_type": "code",
   "execution_count": null,
   "id": "7430fbe6",
   "metadata": {},
   "outputs": [],
   "source": [
    "# VARS-ABE from Experiment 4\n",
    "experiment_4.maee.to_frame().unstack(level=0).loc[delta_of_interest].to_frame().T"
   ]
  },
  {
   "cell_type": "code",
   "execution_count": null,
   "id": "34190be3",
   "metadata": {},
   "outputs": [],
   "source": [
    "# VARS-ACE from Experiment 4\n",
    "experiment_4.mee.to_frame().unstack(level=0).loc[delta_of_interest].to_frame().T"
   ]
  },
  {
   "cell_type": "code",
   "execution_count": null,
   "id": "6c1c396d",
   "metadata": {},
   "outputs": [],
   "source": [
    "# Plot VARS-ACE and  VARS-ABE from Experiment 1\n",
    "cols = experiment_1.parameters.keys()                     \n",
    "fig_bar = plt.figure(figsize=(10,5))\n",
    "plt.gca().bar(cols, experiment_1.maee.to_frame().unstack(level=0).loc[delta_of_interest].to_frame().T.iloc[0], color='green')\n",
    "plt.gca().set_title (r'Mean Absolute Elementary Effect', fontsize = 15)\n",
    "plt.gca().set_ylabel(r'VARS-ABE', fontsize = 13)\n",
    "plt.gca().set_xlabel(r'Model Parameter', fontsize=13)\n",
    "plt.gca().grid()\n",
    "plt.gca().set_yscale('linear')\n",
    "\n",
    "fig_bar = plt.figure(figsize=(10,5))\n",
    "plt.gca().bar(cols, experiment_1.mee.to_frame().unstack(level=0).loc[delta_of_interest].to_frame().T.iloc[0], color='lightgreen')\n",
    "plt.gca().set_title (r'Mean Actual Elementary Effect ', fontsize = 15)\n",
    "plt.gca().set_ylabel(r'VARS-ACE', fontsize = 13)\n",
    "plt.gca().set_xlabel(r'Model Parameter', fontsize=13)\n",
    "plt.gca().grid()\n",
    "plt.gca().set_yscale('linear')"
   ]
  },
  {
   "cell_type": "code",
   "execution_count": null,
   "id": "ba1831bc",
   "metadata": {},
   "outputs": [],
   "source": [
    "# Plot VARS-ACE and  VARS-ABE from Experiment 2\n",
    "cols = experiment_2.parameters.keys()                     \n",
    "fig_bar = plt.figure(figsize=(10,5))\n",
    "plt.gca().bar(cols, experiment_2.maee.to_frame().unstack(level=0).loc[delta_of_interest].to_frame().T.iloc[0], color='green')\n",
    "plt.gca().set_title (r'Mean Absolute Elementary Effect', fontsize = 15)\n",
    "plt.gca().set_ylabel(r'VARS-ABE', fontsize = 13)\n",
    "plt.gca().set_xlabel(r'Model Parameter', fontsize=13)\n",
    "plt.gca().grid()\n",
    "plt.gca().set_yscale('linear')\n",
    "\n",
    "fig_bar = plt.figure(figsize=(10,5))\n",
    "plt.gca().bar(cols, experiment_2.mee.to_frame().unstack(level=0).loc[delta_of_interest].to_frame().T.iloc[0], color='lightgreen')\n",
    "plt.gca().set_title (r'Mean Actual Elementary Effect ', fontsize = 15)\n",
    "plt.gca().set_ylabel(r'VARS-ACE', fontsize = 13)\n",
    "plt.gca().set_xlabel(r'Model Parameter', fontsize=13)\n",
    "plt.gca().grid()\n",
    "plt.gca().set_yscale('linear')"
   ]
  },
  {
   "cell_type": "code",
   "execution_count": null,
   "id": "cd53b351",
   "metadata": {},
   "outputs": [],
   "source": [
    "# Plot VARS-ACE and  VARS-ABE from Experiment 3\n",
    "cols = experiment_3.parameters.keys()                     \n",
    "fig_bar = plt.figure(figsize=(10,5))\n",
    "plt.gca().bar(cols, experiment_3.maee.to_frame().unstack(level=0).loc[delta_of_interest].to_frame().T.iloc[0], color='green')\n",
    "plt.gca().set_title (r'Mean Absolute Elementary Effect', fontsize = 15)\n",
    "plt.gca().set_ylabel(r'VARS-ABE', fontsize = 13)\n",
    "plt.gca().set_xlabel(r'Model Parameter', fontsize=13)\n",
    "plt.gca().grid()\n",
    "plt.gca().set_yscale('linear')\n",
    "\n",
    "fig_bar = plt.figure(figsize=(10,5))\n",
    "plt.gca().bar(cols, experiment_3.mee.to_frame().unstack(level=0).loc[delta_of_interest].to_frame().T.iloc[0], color='lightgreen')\n",
    "plt.gca().set_title (r'Mean Actual Elementary Effect ', fontsize = 15)\n",
    "plt.gca().set_ylabel(r'VARS-ACE', fontsize = 13)\n",
    "plt.gca().set_xlabel(r'Model Parameter', fontsize=13)\n",
    "plt.gca().grid()\n",
    "plt.gca().set_yscale('linear')"
   ]
  },
  {
   "cell_type": "code",
   "execution_count": null,
   "id": "d614ef24",
   "metadata": {},
   "outputs": [],
   "source": [
    "# Plot VARS-ACE and  VARS-ABE from Experiment 4\n",
    "cols = experiment_4.parameters.keys()                     \n",
    "fig_bar = plt.figure(figsize=(10,5))\n",
    "plt.gca().bar(cols, experiment_4.maee.to_frame().unstack(level=0).loc[delta_of_interest].to_frame().T.iloc[0], color='green')\n",
    "plt.gca().set_title (r'Mean Absolute Elementary Effect', fontsize = 15)\n",
    "plt.gca().set_ylabel(r'VARS-ABE', fontsize = 13)\n",
    "plt.gca().set_xlabel(r'Model Parameter', fontsize=13)\n",
    "plt.gca().grid()\n",
    "plt.gca().set_yscale('linear')\n",
    "\n",
    "fig_bar = plt.figure(figsize=(10,5))\n",
    "plt.gca().bar(cols, experiment_4.mee.to_frame().unstack(level=0).loc[delta_of_interest].to_frame().T.iloc[0], color='lightgreen')\n",
    "plt.gca().set_title (r'Mean Actual Elementary Effect ', fontsize = 15)\n",
    "plt.gca().set_ylabel(r'VARS-ACE', fontsize = 13)\n",
    "plt.gca().set_xlabel(r'Model Parameter', fontsize=13)\n",
    "plt.gca().grid()\n",
    "plt.gca().set_yscale('linear')"
   ]
  },
  {
   "cell_type": "markdown",
   "id": "42752927-ab23-45a3-b6fb-401316362d54",
   "metadata": {},
   "source": [
    "As you may notice the derivate based approaches give us different results as the previous approaches (IVARS-50 and Sobol Total-Order Effect) were based on variograms and variance which are related to eachother. This gives us another perspective on the determination of different variable sensitivities."
   ]
  },
  {
   "cell_type": "markdown",
   "id": "1e57237c",
   "metadata": {},
   "source": [
    "**Directional Variograms - γ(h)** \n",
    "\n",
    "For advanced users of VARS, directional variograms may provide a wealth of information about the structure of the model response surface.\n",
    "\n",
    "    POINT: Variograms are most meaningful when h (perturbation scale) is between zero and 0.5 of the parameter ranges, but the user can investigate the entire perturbation range (0 – 1).\n",
    "    \n",
    " Below, print the directional variograms and then plot them."
   ]
  },
  {
   "cell_type": "code",
   "execution_count": null,
   "id": "53802da5",
   "metadata": {},
   "outputs": [],
   "source": [
    "# Directional Variograms from Experiment 1\n",
    "cols = experiment_1.parameters.keys()\n",
    "variograms1 = experiment_1.gamma.unstack(0)[cols].copy()\n",
    "variograms1"
   ]
  },
  {
   "cell_type": "code",
   "execution_count": null,
   "id": "501d1a57",
   "metadata": {},
   "outputs": [],
   "source": [
    "# Directional Variograms from Experiment 2\n",
    "cols = experiment_2.parameters.keys()                     \n",
    "variograms2 = experiment_2.gamma.unstack(0)[cols].copy()\n",
    "variograms2"
   ]
  },
  {
   "cell_type": "code",
   "execution_count": null,
   "id": "7e3476f5",
   "metadata": {},
   "outputs": [],
   "source": [
    "# Directional Variograms from Experiment 3\n",
    "cols = experiment_3.parameters.keys()                     \n",
    "variograms3 = experiment_3.gamma.unstack(0)[cols].copy()\n",
    "variograms3"
   ]
  },
  {
   "cell_type": "code",
   "execution_count": null,
   "id": "6d9d8232",
   "metadata": {},
   "outputs": [],
   "source": [
    "# Directional Variograms from Experiment 4\n",
    "cols = experiment_4.parameters.keys()                     \n",
    "variograms4 = experiment_4.gamma.unstack(0)[cols].copy()\n",
    "variograms4"
   ]
  },
  {
   "cell_type": "code",
   "execution_count": null,
   "id": "b85b357a",
   "metadata": {},
   "outputs": [],
   "source": [
    "# Plot Directional Variograms from Experiment 1\n",
    "\n",
    "plotting_scale = 0.5 # any number between delta_h and one.\n",
    "\n",
    "matrix_y = variograms1.loc[variograms1.index <= plotting_scale].to_numpy()\n",
    "column_x = variograms1.loc[variograms1.index <= plotting_scale].index.to_numpy()\n",
    "matrix_x = np.tile(column_x, (matrix_y.shape[1], 1)).T\n",
    "\n",
    "fig_cdf = plt.figure(figsize=(10,5))\n",
    "plt.gca().plot(matrix_x, matrix_y )\n",
    "plt.gca().set_title (r'Directional Variogram', fontsize = 15)\n",
    "plt.gca().set_ylabel(r'$γ(h)$', fontsize = 13)\n",
    "plt.gca().set_xlabel(r'$h$ (perturbation scale)', fontsize=13)\n",
    "plt.gca().set_yscale('linear')\n",
    "plt.gca().legend (cols, loc='upper left', fontsize = 10)\n",
    "plt.gca().grid()\n",
    "\n",
    "fig_cdf = plt.figure(figsize=(10,5))\n",
    "plt.gca().plot(matrix_x, matrix_y )\n",
    "plt.gca().set_title (r'Directional Variogram $[log-scale]$', fontsize = 15)\n",
    "plt.gca().set_ylabel(r'$γ(h)$', fontsize = 13)\n",
    "plt.gca().set_xlabel(r'$h$ (perturbation scale)', fontsize=13)\n",
    "plt.gca().set_yscale('log')\n",
    "plt.gca().legend (cols, loc='lower right', fontsize = 10)\n",
    "plt.gca().grid()"
   ]
  },
  {
   "cell_type": "code",
   "execution_count": null,
   "id": "f06f97fc",
   "metadata": {},
   "outputs": [],
   "source": [
    "# Plot Directional Variograms from Experiment 2\n",
    "\n",
    "plotting_scale = 0.5 # any number between delta_h and one.\n",
    "\n",
    "matrix_y = variograms2.loc[variograms2.index <= plotting_scale].to_numpy()\n",
    "column_x = variograms2.loc[variograms2.index <= plotting_scale].index.to_numpy()\n",
    "matrix_x = np.tile(column_x, (matrix_y.shape[1], 1)).T\n",
    "\n",
    "fig_cdf = plt.figure(figsize=(10,5))\n",
    "plt.gca().plot(matrix_x, matrix_y )\n",
    "plt.gca().set_title (r'Directional Variogram', fontsize = 15)\n",
    "plt.gca().set_ylabel(r'$γ(h)$', fontsize = 13)\n",
    "plt.gca().set_xlabel(r'$h$ (perturbation scale)', fontsize=13)\n",
    "plt.gca().set_yscale('linear')\n",
    "plt.gca().legend (cols, loc='upper left', fontsize = 10)\n",
    "plt.gca().grid()\n",
    "\n",
    "fig_cdf = plt.figure(figsize=(10,5))\n",
    "plt.gca().plot(matrix_x, matrix_y )\n",
    "plt.gca().set_title (r'Directional Variogram $[log-scale]$', fontsize = 15)\n",
    "plt.gca().set_ylabel(r'$γ(h)$', fontsize = 13)\n",
    "plt.gca().set_xlabel(r'$h$ (perturbation scale)', fontsize=13)\n",
    "plt.gca().set_yscale('log')\n",
    "plt.gca().legend (cols, loc='lower right', fontsize = 10)\n",
    "plt.gca().grid()"
   ]
  },
  {
   "cell_type": "code",
   "execution_count": null,
   "id": "7622fe11",
   "metadata": {},
   "outputs": [],
   "source": [
    "# Plot Directional Variograms from Experiment 3\n",
    "\n",
    "plotting_scale = 0.5 # any number between delta_h and one.\n",
    "\n",
    "matrix_y = variograms3.loc[variograms3.index <= plotting_scale].to_numpy()\n",
    "column_x = variograms3.loc[variograms3.index <= plotting_scale].index.to_numpy()\n",
    "matrix_x = np.tile(column_x, (matrix_y.shape[1], 1)).T\n",
    "\n",
    "fig_cdf = plt.figure(figsize=(10,5))\n",
    "plt.gca().plot(matrix_x, matrix_y )\n",
    "plt.gca().set_title (r'Directional Variogram', fontsize = 15)\n",
    "plt.gca().set_ylabel(r'$γ(h)$', fontsize = 13)\n",
    "plt.gca().set_xlabel(r'$h$ (perturbation scale)', fontsize=13)\n",
    "plt.gca().set_yscale('linear')\n",
    "plt.gca().legend (cols, loc='upper left', fontsize = 10)\n",
    "plt.gca().grid()\n",
    "\n",
    "fig_cdf = plt.figure(figsize=(10,5))\n",
    "plt.gca().plot(matrix_x, matrix_y )\n",
    "plt.gca().set_title (r'Directional Variogram $[log-scale]$', fontsize = 15)\n",
    "plt.gca().set_ylabel(r'$γ(h)$', fontsize = 13)\n",
    "plt.gca().set_xlabel(r'$h$ (perturbation scale)', fontsize=13)\n",
    "plt.gca().set_yscale('log')\n",
    "plt.gca().legend (cols, loc='lower right', fontsize = 10)\n",
    "plt.gca().grid()"
   ]
  },
  {
   "cell_type": "code",
   "execution_count": null,
   "id": "c4fea80f",
   "metadata": {},
   "outputs": [],
   "source": [
    "# Plot Directional Variograms from Experiment 4\n",
    "\n",
    "plotting_scale = 0.5 # any number between delta_h and one.\n",
    "\n",
    "matrix_y = variograms4.loc[variograms4.index <= plotting_scale].to_numpy()\n",
    "column_x = variograms4.loc[variograms4.index <= plotting_scale].index.to_numpy()\n",
    "matrix_x = np.tile(column_x, (matrix_y.shape[1], 1)).T\n",
    "\n",
    "fig_cdf = plt.figure(figsize=(10,5))\n",
    "plt.gca().plot(matrix_x, matrix_y )\n",
    "plt.gca().set_title (r'Directional Variogram', fontsize = 15)\n",
    "plt.gca().set_ylabel(r'$γ(h)$', fontsize = 13)\n",
    "plt.gca().set_xlabel(r'$h$ (perturbation scale)', fontsize=13)\n",
    "plt.gca().set_yscale('linear')\n",
    "plt.gca().legend (cols, loc='upper left', fontsize = 10)\n",
    "plt.gca().grid()\n",
    "\n",
    "fig_cdf = plt.figure(figsize=(10,5))\n",
    "plt.gca().plot(matrix_x, matrix_y )\n",
    "plt.gca().set_title (r'Directional Variogram $[log-scale]$', fontsize = 15)\n",
    "plt.gca().set_ylabel(r'$γ(h)$', fontsize = 13)\n",
    "plt.gca().set_xlabel(r'$h$ (perturbation scale)', fontsize=13)\n",
    "plt.gca().set_yscale('log')\n",
    "plt.gca().legend (cols, loc='lower right', fontsize = 10)\n",
    "plt.gca().grid()"
   ]
  },
  {
   "cell_type": "markdown",
   "id": "5e4745bf",
   "metadata": {},
   "source": [
    "**Bootstrap results for assessing the uncertainty and robustness of SA** \n",
    "\n",
    "The user of SA may need to assess the uncertainty around any of the results reported above and their robustness against sampling size and variability. To do so, when setting up the SA experiment above, make sure to turn on the bootstrap_flag, and choose a bootrtap size and confidence interval, like shown bellow.\n",
    "\n",
    "bootstrap_flag = True,\n",
    "\n",
    "bootstrap_size = 1000, (recommended to be greater than 100; the bigger the number the more accurate the estimate)\n",
    "\n",
    "bootstrap_ci   = 0.9, (a confidence interval of 0.9 means that with a likelihood of 90%, the true value is within the intervals generated by bootstrap)"
   ]
  },
  {
   "cell_type": "markdown",
   "id": "48cde6c0",
   "metadata": {},
   "source": [
    "Bootstrap-generated upper and lower bounds:"
   ]
  },
  {
   "cell_type": "code",
   "execution_count": null,
   "id": "cc81ae12",
   "metadata": {},
   "outputs": [],
   "source": [
    "# IVARS from Experiment 1 with bootstrap\n",
    "cols = experiment_1.parameters.keys()\n",
    "print('Upper Bounds on IVARS based on bootstrapping'); display(experiment_1.ivarsub[cols])\n",
    "print('Lower Bounds on IVARS based on bootstrapping'); display(experiment_1.ivarslb[cols])"
   ]
  },
  {
   "cell_type": "code",
   "execution_count": null,
   "id": "038f4638",
   "metadata": {},
   "outputs": [],
   "source": [
    "# Plot IVARS50, VARS-TO, and VARS-ABE along with their confidence intervals from Experiment 1\n",
    "ax =experiment_1.factorimportance_plot()"
   ]
  },
  {
   "cell_type": "markdown",
   "id": "a9a83932",
   "metadata": {},
   "source": [
    "Factor rankings and their bootstrap-generated robustness:\n",
    " \n",
    "     () Rank zero indicates the most influential parameter, one the second most influential, etc.\n",
    "     \n",
    "     () The higher the robustness value (also called reliability) the better (maximum one). A robustness of one for a parameter means that parameter received its respective rank in every instance of bootstrap re-samplings (maximum robustness). And, for example, a robustness of 0.7 means the respective rank turned out to be the case in 70% of bootstrap re-samplings.\n",
    "\n"
   ]
  },
  {
   "cell_type": "code",
   "execution_count": null,
   "id": "b82f62ef",
   "metadata": {},
   "outputs": [],
   "source": [
    "# Rankings and Robustness from Experiment 1\n",
    "cols = experiment_1.parameters.keys()\n",
    "print('Parameter Rankings'); display(experiment_1.ivars_factor_ranking[cols])\n",
    "print('Robustness of Rankings'); display(experiment_1.rel_ivars_factor_ranking[cols])"
   ]
  },
  {
   "cell_type": "markdown",
   "id": "b181e7f5",
   "metadata": {},
   "source": [
    "In the case of high-dimensional problems (models with many inputs), the user may want to group parameters together based on their importance characterized by SA. To do so, when setting up the SA experiment above, make sure to turn on the grouping_flag and choose the number of groups of interest. Also, make sure that the bootstrap_flag is on.\n",
    "\n",
    "grouping_flag  = True, \n",
    "num_grps       = 2, (any number smaller than the number of parameters)"
   ]
  },
  {
   "cell_type": "code",
   "execution_count": null,
   "id": "542883e1",
   "metadata": {},
   "outputs": [],
   "source": [
    "# Grouping of parameters from Experiment 1\n",
    "cols = experiment_1.parameters.keys()\n",
    "experiment_1.ivars50_grp[cols]"
   ]
  },
  {
   "cell_type": "markdown",
   "id": "1c4c422b",
   "metadata": {},
   "source": [
    "### Delve deeper - Additional information for advanced users\n",
    "\n",
    "The information below are also available to the user, if there is interest in further exploring what is happening under the hood."
   ]
  },
  {
   "cell_type": "markdown",
   "id": "1c640d13",
   "metadata": {},
   "source": [
    "**Cross sections of sample points in the input space**\n",
    "\n",
    "Choose any pair of parameters and see the projection of all star centers and star points onto their two-dimensional space."
   ]
  },
  {
   "cell_type": "code",
   "execution_count": null,
   "id": "0a0f4b5a",
   "metadata": {},
   "outputs": [],
   "source": [
    "names = ['x1', 'x2']; experiment_1.correlation_plot(param_names=names)\n",
    "names = ['x1', 'x3']; experiment_1.correlation_plot(param_names=names)\n",
    "names = ['x2', 'x3']; experiment_1.correlation_plot(param_names=names)"
   ]
  },
  {
   "cell_type": "code",
   "execution_count": null,
   "id": "0398e1fc",
   "metadata": {},
   "outputs": [],
   "source": [
    "experiment_2.correlation_plot(param_names=['x1', 'x2'])\n",
    "experiment_2.correlation_plot(param_names=['x1', 'x3'])\n",
    "experiment_2.correlation_plot(param_names=['x2', 'x3'])"
   ]
  },
  {
   "cell_type": "code",
   "execution_count": null,
   "id": "5e589ed4",
   "metadata": {},
   "outputs": [],
   "source": [
    "experiment_3.correlation_plot(param_names=['x1', 'x2'])\n",
    "experiment_3.correlation_plot(param_names=['x1', 'x3'])\n",
    "experiment_3.correlation_plot(param_names=['x2', 'x3'])"
   ]
  },
  {
   "cell_type": "code",
   "execution_count": null,
   "id": "a3383c25",
   "metadata": {},
   "outputs": [],
   "source": [
    "experiment_4.correlation_plot(param_names=['x1', 'x2'])\n",
    "experiment_4.correlation_plot(param_names=['x1', 'x3'])\n",
    "experiment_4.correlation_plot(param_names=['x2', 'x3'])"
   ]
  },
  {
   "cell_type": "markdown",
   "id": "8d45af6c",
   "metadata": {},
   "source": [
    "**Star centers used in the GVARS experiment**\n",
    "\n",
    "The following dataframe includes all the star centers generated."
   ]
  },
  {
   "cell_type": "code",
   "execution_count": null,
   "id": "74428a3d",
   "metadata": {},
   "outputs": [],
   "source": [
    "# Star centers generated in Experiment 1\n",
    "cols = experiment_1.parameters.keys()\n",
    "pd.DataFrame(data=experiment_1.star_centres, columns=cols)"
   ]
  },
  {
   "cell_type": "code",
   "execution_count": null,
   "id": "12d5ff08",
   "metadata": {},
   "outputs": [],
   "source": [
    "# Star centers generated in Experiment 2\n",
    "cols = experiment_2.parameters.keys()\n",
    "pd.DataFrame(data=experiment_2.star_centres, columns=cols)"
   ]
  },
  {
   "cell_type": "code",
   "execution_count": null,
   "id": "b6ba5a6f",
   "metadata": {},
   "outputs": [],
   "source": [
    "# Star centers generated in Experiment 3\n",
    "cols = experiment_3.parameters.keys()\n",
    "pd.DataFrame(data=experiment_3.star_centres, columns=cols)"
   ]
  },
  {
   "cell_type": "code",
   "execution_count": null,
   "id": "5da19208",
   "metadata": {},
   "outputs": [],
   "source": [
    "# Star centers generated in Experiment 4\n",
    "cols = experiment_4.parameters.keys()\n",
    "pd.DataFrame(data=experiment_4.star_centres, columns=cols)"
   ]
  },
  {
   "cell_type": "markdown",
   "id": "f79103f0",
   "metadata": {},
   "source": [
    "**Star points generated along with respective outputs**\n",
    "\n",
    "The following dataframe includes all the star points generated. For each row, the first column indicates the associated star center, the second column indicates the parameter along which the cross-sectional samples were taken, and the third column indicates the star point numbers along that cross section. The last column indicates the evaluated model response (output) for the input set in each row."
   ]
  },
  {
   "cell_type": "code",
   "execution_count": null,
   "id": "bcccfc0d",
   "metadata": {},
   "outputs": [],
   "source": [
    "# Star points generated in Experiment 1\n",
    "experiment_1.model_df"
   ]
  },
  {
   "cell_type": "code",
   "execution_count": null,
   "id": "4aa1684a",
   "metadata": {},
   "outputs": [],
   "source": [
    "# Star points generated in Experiment 2\n",
    "experiment_2.model_df"
   ]
  },
  {
   "cell_type": "code",
   "execution_count": null,
   "id": "ab033697",
   "metadata": {},
   "outputs": [],
   "source": [
    "# Star points generated in Experiment 3\n",
    "experiment_3.model_df"
   ]
  },
  {
   "cell_type": "code",
   "execution_count": null,
   "id": "5a5563c2",
   "metadata": {},
   "outputs": [],
   "source": [
    "# Star points generated in Experiment 4\n",
    "experiment_4.model_df"
   ]
  },
  {
   "cell_type": "markdown",
   "id": "78d28d9e",
   "metadata": {},
   "source": [
    "**Pairs generated and their associated dissimilarity**\n",
    "\n",
    "The following dataframe includes all the resulting pairs of samples. For each row, the first column indicates the associated star center and the second column indicates the parameter along which the cross-sectional samples were taken.\n",
    "The 'pair_ind' column indicates the ID of sample points in each pair, the 'h' column indicates the binned distance between the two samples in each pair, and the 'actual h' column indicates the exact distance between the two. The columns '0' and '1' shows the outputs [y1 and y2] associated with each sample points in the pair. The 'dissimilarity' column shows 0.5[y1-y2]^2."
   ]
  },
  {
   "cell_type": "code",
   "execution_count": null,
   "id": "861aa754",
   "metadata": {},
   "outputs": [],
   "source": [
    "# all pairs generated in Experiment 1\n",
    "experiment_1.pair_df"
   ]
  },
  {
   "cell_type": "code",
   "execution_count": null,
   "id": "6b22a1e8",
   "metadata": {},
   "outputs": [],
   "source": [
    "# all pairs generated in Experiment 2\n",
    "experiment_2.pair_df"
   ]
  },
  {
   "cell_type": "code",
   "execution_count": null,
   "id": "5e9cf1a1",
   "metadata": {},
   "outputs": [],
   "source": [
    "# all pairs generated in Experiment 3\n",
    "experiment_3.pair_df"
   ]
  },
  {
   "cell_type": "code",
   "execution_count": null,
   "id": "de7004b6",
   "metadata": {},
   "outputs": [],
   "source": [
    "# all pairs generated in Experiment 4\n",
    "experiment_4.pair_df"
   ]
  },
  {
   "cell_type": "markdown",
   "id": "dc03d344",
   "metadata": {},
   "source": [
    "**The fictive correlation matrix**\n",
    "\n",
    "The fictive correlation matrix is a transformation of the original correlation matrix to a normal standard space."
   ]
  },
  {
   "cell_type": "code",
   "execution_count": null,
   "id": "abbf586d",
   "metadata": {},
   "outputs": [],
   "source": [
    "fictive_matrix = experiment_2.cov_mat; cols = experiment_2.parameters.keys()\n",
    "pd.DataFrame(data = fictive_matrix, index = cols, columns = cols).round(decimals=2)"
   ]
  },
  {
   "cell_type": "code",
   "execution_count": null,
   "id": "2715a836",
   "metadata": {},
   "outputs": [],
   "source": [
    "fictive_matrix = experiment_3.cov_mat; cols = experiment_3.parameters.keys()\n",
    "pd.DataFrame(data = fictive_matrix, index = cols, columns = cols).round(decimals=3)"
   ]
  },
  {
   "cell_type": "code",
   "execution_count": null,
   "id": "e9c2ef96",
   "metadata": {},
   "outputs": [],
   "source": [
    "fictive_matrix = experiment_4.cov_mat; cols = experiment_4.parameters.keys()\n",
    "pd.DataFrame(data = fictive_matrix, index = cols, columns = cols).round(decimals=3)"
   ]
  },
  {
   "cell_type": "markdown",
   "id": "ef660a9a",
   "metadata": {},
   "source": [
    "All done!"
   ]
  }
 ],
 "metadata": {
  "kernelspec": {
   "display_name": "Python 3",
   "language": "python",
   "name": "python3"
  },
  "language_info": {
   "codemirror_mode": {
    "name": "ipython",
    "version": 3
   },
   "file_extension": ".py",
   "mimetype": "text/x-python",
   "name": "python",
   "nbconvert_exporter": "python",
   "pygments_lexer": "ipython3",
   "version": "3.8.8"
  }
 },
 "nbformat": 4,
 "nbformat_minor": 5
}
