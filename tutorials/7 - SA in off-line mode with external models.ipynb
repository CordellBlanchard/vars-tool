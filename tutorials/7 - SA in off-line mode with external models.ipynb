{
 "cells": [
  {
   "cell_type": "markdown",
   "id": "c36ce1ee-0ba8-4785-b242-034e01f58a7f",
   "metadata": {},
   "source": [
    "# Sensitivity Analysis of an external model with one output\n",
    "\n",
    "Notebook developed by Saman Razavi, Cordell Blanchard, and Kasra Keshavarz\n",
    "\n",
    "\n",
    "### For the VARS method, please cite:\n",
    "\n",
    "Razavi, S., & Gupta, H. V. (2016). A new framework for comprehensive, robust, and efficient global sensitivity analysis: 1. Theory. Water Resources Research, 52(1), 423-439. https://agupubs.onlinelibrary.wiley.com/doi/full/10.1002/2015WR017558\n",
    "\n",
    "Razavi, S., & Gupta, H. V. (2016). A new framework for comprehensive, robust, and efficient global sensitivity analysis: 2. Application. Water Resources Research, 52(1), 440-455. https://agupubs.onlinelibrary.wiley.com/doi/abs/10.1002/2015WR017559\n",
    "\n",
    "### For the Generalized VARS (G-VARS) method, please cite:\n",
    "\n",
    "Do, N. C., & Razavi, S. (2020). Correlation effects? A major but often neglected component in sensitivity and uncertainty analysis. Water Resources Research, 56(3), e2019WR025436. https://doi.org/10.1029/2019WR025436"
   ]
  },
  {
   "cell_type": "markdown",
   "id": "41e3e4be",
   "metadata": {},
   "source": [
    "## Exercise 7: How to run VARS/G-VARS in the ‘off-line’ mode\n",
    "### Objectives:\n",
    "This notebook runs a sensitivity analysis when the model is not directly coupled with VARS/G-VARS – for example, when the model is written in a different programming language. There are three steps:\n",
    "\n",
    "(1) first run parts of VARS/G-VARS to generate all sample points (model input sets) based on the given distributional properties of interest and print them in a .csv file, \n",
    "\n",
    "(2) independent of VARS-TOOL, read all those input sets from the .csv file, execute the external model for each row to obtain the respective outputs, and add those outputs as new column to the .csv file.\n",
    "\n",
    "(3) read in the updated .csv file with model outputs and run the rest of VARS/G-VARS to generate all the sensitivity indices. "
   ]
  },
  {
   "cell_type": "markdown",
   "id": "930f27a7-a724-45bf-ad2a-8f9302b0e3e3",
   "metadata": {},
   "source": [
    "First import the needed librares, including `VARS` for VARS and `GVARS` for G-VARS."
   ]
  },
  {
   "cell_type": "code",
   "execution_count": 1,
   "id": "a3cd0b05-0892-430f-9149-83fc55c9bbba",
   "metadata": {},
   "outputs": [],
   "source": [
    "import numpy as np\n",
    "import pandas as pd\n",
    "import matplotlib.pyplot as plt\n",
    "\n",
    "from varstool import VARS, GVARS"
   ]
  },
  {
   "cell_type": "markdown",
   "id": "a93ac414-4ce9-4c12-86f0-7c550c361bb6",
   "metadata": {},
   "source": [
    "### Set up an off-line experiment\n",
    "\n",
    "The example experiments bellow are with the Ishigami function, assuming that it runs externally. The user needs to update attributes of the experiment in accordance with the properties of the external model examined.\n",
    "\n",
    "**Experiment 1** is to demonstrate how to run **VARS** in the off-line mode.\n",
    "\n",
    "**Experiment 2** is to demonstrate how to run **G-VARS** in the off-line mode.\n"
   ]
  },
  {
   "cell_type": "code",
   "execution_count": 2,
   "id": "789c3eaa",
   "metadata": {},
   "outputs": [],
   "source": [
    "# Define Experiment 1\n",
    "\n",
    "my_parameters = { 'x1': [ -3.14, 3.14 ], \n",
    "                  'x2': [ -3.14, 3.14 ], \n",
    "                  'x3': [ -3.14, 3.14 ], }\n",
    "\n",
    "experiment_1 = VARS(parameters     = my_parameters,\n",
    "                    num_stars      = 100,\n",
    "                    delta_h        = 0.1,\n",
    "                    ivars_scales   = (0.1, 0.3, 0.5),\n",
    "                    sampler        = 'lhs',\n",
    "                    seed           = 123456789,\n",
    "                    bootstrap_flag = True,\n",
    "                    bootstrap_size = 100,\n",
    "                    bootstrap_ci   = 0.9,\n",
    "                    grouping_flag  = True,\n",
    "                    num_grps       = 2,\n",
    "                    report_verbose = True,\n",
    "                    )"
   ]
  },
  {
   "cell_type": "code",
   "execution_count": 3,
   "id": "eb65bae6",
   "metadata": {},
   "outputs": [],
   "source": [
    "# Define Experiment 2\n",
    "\n",
    "my_parameters = { 'x1': (-3.14, 3.14, None, 'unif'), \n",
    "                  'x2': (-3.14, 3.14, None, 'unif'), \n",
    "                  'x3': (-3.14, 3.14, None, 'unif')}\n",
    "\n",
    "my_corr_mat = np.array([[ 1   ,  0 ,  0.8 ],\n",
    "                        [ 0   ,  1 ,  0   ],\n",
    "                        [ 0.8 ,  0 ,  1   ]])\n",
    "\n",
    "my_num_dir_samples = 10\n",
    "\n",
    "my_delta_h = 0.1\n",
    "# my_delta_h = 1 / my_num_dir_samples # or choose values such as 0.1\n",
    "\n",
    "experiment_2 = GVARS(parameters     = my_parameters,\n",
    "                    corr_mat        = my_corr_mat,\n",
    "                    num_stars       = 100,\n",
    "                    num_dir_samples = my_num_dir_samples,\n",
    "                    delta_h         = my_delta_h,\n",
    "                    ivars_scales    = (0.1, 0.3, 0.5),\n",
    "                    sampler         = 'plhs',\n",
    "                    slice_size      = 10,\n",
    "                    seed            = 123456789,\n",
    "                    bootstrap_flag  = True,\n",
    "                    bootstrap_size  = 100,\n",
    "                    bootstrap_ci    = 0.9,\n",
    "                    grouping_flag   = True,\n",
    "                    num_grps        = 2,\n",
    "                    report_verbose  = True,\n",
    "                    )"
   ]
  },
  {
   "cell_type": "markdown",
   "id": "0ecaf5ed",
   "metadata": {},
   "source": [
    "### Step 1: Run initial parts of VARS/G-VARS to generate all sample points\n",
    "\n",
    "Use function `generate_star` to generate all star points and print them in a .csv file. "
   ]
  },
  {
   "cell_type": "code",
   "execution_count": 4,
   "id": "87f0b503",
   "metadata": {},
   "outputs": [
    {
     "data": {
      "text/html": [
       "<div>\n",
       "<style scoped>\n",
       "    .dataframe tbody tr th:only-of-type {\n",
       "        vertical-align: middle;\n",
       "    }\n",
       "\n",
       "    .dataframe tbody tr th {\n",
       "        vertical-align: top;\n",
       "    }\n",
       "\n",
       "    .dataframe thead th {\n",
       "        text-align: right;\n",
       "    }\n",
       "</style>\n",
       "<table border=\"1\" class=\"dataframe\">\n",
       "  <thead>\n",
       "    <tr style=\"text-align: right;\">\n",
       "      <th></th>\n",
       "      <th></th>\n",
       "      <th></th>\n",
       "      <th>x1</th>\n",
       "      <th>x2</th>\n",
       "      <th>x3</th>\n",
       "    </tr>\n",
       "    <tr>\n",
       "      <th>centre</th>\n",
       "      <th>param</th>\n",
       "      <th>points</th>\n",
       "      <th></th>\n",
       "      <th></th>\n",
       "      <th></th>\n",
       "    </tr>\n",
       "  </thead>\n",
       "  <tbody>\n",
       "    <tr>\n",
       "      <th rowspan=\"5\" valign=\"top\">0</th>\n",
       "      <th rowspan=\"5\" valign=\"top\">x1</th>\n",
       "      <th>0</th>\n",
       "      <td>-2.542616</td>\n",
       "      <td>-2.101720</td>\n",
       "      <td>-1.818364</td>\n",
       "    </tr>\n",
       "    <tr>\n",
       "      <th>1</th>\n",
       "      <td>-1.914616</td>\n",
       "      <td>-2.101720</td>\n",
       "      <td>-1.818364</td>\n",
       "    </tr>\n",
       "    <tr>\n",
       "      <th>2</th>\n",
       "      <td>-1.286616</td>\n",
       "      <td>-2.101720</td>\n",
       "      <td>-1.818364</td>\n",
       "    </tr>\n",
       "    <tr>\n",
       "      <th>3</th>\n",
       "      <td>-0.658616</td>\n",
       "      <td>-2.101720</td>\n",
       "      <td>-1.818364</td>\n",
       "    </tr>\n",
       "    <tr>\n",
       "      <th>4</th>\n",
       "      <td>-0.030616</td>\n",
       "      <td>-2.101720</td>\n",
       "      <td>-1.818364</td>\n",
       "    </tr>\n",
       "    <tr>\n",
       "      <th>...</th>\n",
       "      <th>...</th>\n",
       "      <th>...</th>\n",
       "      <td>...</td>\n",
       "      <td>...</td>\n",
       "      <td>...</td>\n",
       "    </tr>\n",
       "    <tr>\n",
       "      <th rowspan=\"5\" valign=\"top\">99</th>\n",
       "      <th rowspan=\"5\" valign=\"top\">x3</th>\n",
       "      <th>5</th>\n",
       "      <td>-2.195769</td>\n",
       "      <td>2.940417</td>\n",
       "      <td>0.246173</td>\n",
       "    </tr>\n",
       "    <tr>\n",
       "      <th>6</th>\n",
       "      <td>-2.195769</td>\n",
       "      <td>2.940417</td>\n",
       "      <td>0.874173</td>\n",
       "    </tr>\n",
       "    <tr>\n",
       "      <th>7</th>\n",
       "      <td>-2.195769</td>\n",
       "      <td>2.940417</td>\n",
       "      <td>1.502173</td>\n",
       "    </tr>\n",
       "    <tr>\n",
       "      <th>8</th>\n",
       "      <td>-2.195769</td>\n",
       "      <td>2.940417</td>\n",
       "      <td>2.130173</td>\n",
       "    </tr>\n",
       "    <tr>\n",
       "      <th>9</th>\n",
       "      <td>-2.195769</td>\n",
       "      <td>2.940417</td>\n",
       "      <td>2.758173</td>\n",
       "    </tr>\n",
       "  </tbody>\n",
       "</table>\n",
       "<p>3000 rows × 3 columns</p>\n",
       "</div>"
      ],
      "text/plain": [
       "                           x1        x2        x3\n",
       "centre param points                              \n",
       "0      x1    0      -2.542616 -2.101720 -1.818364\n",
       "             1      -1.914616 -2.101720 -1.818364\n",
       "             2      -1.286616 -2.101720 -1.818364\n",
       "             3      -0.658616 -2.101720 -1.818364\n",
       "             4      -0.030616 -2.101720 -1.818364\n",
       "...                       ...       ...       ...\n",
       "99     x3    5      -2.195769  2.940417  0.246173\n",
       "             6      -2.195769  2.940417  0.874173\n",
       "             7      -2.195769  2.940417  1.502173\n",
       "             8      -2.195769  2.940417  2.130173\n",
       "             9      -2.195769  2.940417  2.758173\n",
       "\n",
       "[3000 rows x 3 columns]"
      ]
     },
     "metadata": {},
     "output_type": "display_data"
    }
   ],
   "source": [
    "# Run Experiment 1 and check out the star points\n",
    "Ex1_star_points = experiment_1.generate_star()\n",
    "display(Ex1_star_points)\n",
    "Ex1_star_points.to_csv('5a - Ex1_star_points.csv')"
   ]
  },
  {
   "cell_type": "code",
   "execution_count": 1,
   "id": "c227399a",
   "metadata": {},
   "outputs": [
    {
     "ename": "NameError",
     "evalue": "name 'experiment_2' is not defined",
     "output_type": "error",
     "traceback": [
      "\u001b[1;31m---------------------------------------------------------------------------\u001b[0m",
      "\u001b[1;31mNameError\u001b[0m                                 Traceback (most recent call last)",
      "Input \u001b[1;32mIn [1]\u001b[0m, in \u001b[0;36m<cell line: 2>\u001b[1;34m()\u001b[0m\n\u001b[0;32m      1\u001b[0m \u001b[38;5;66;03m# Run Experiment 2 and check out the star points\u001b[39;00m\n\u001b[1;32m----> 2\u001b[0m Ex2_star_points \u001b[38;5;241m=\u001b[39m \u001b[43mexperiment_2\u001b[49m\u001b[38;5;241m.\u001b[39mgenerate_star()\n\u001b[0;32m      3\u001b[0m display(Ex2_star_points)\n\u001b[0;32m      4\u001b[0m Ex2_star_points\u001b[38;5;241m.\u001b[39mto_csv(\u001b[38;5;124m'\u001b[39m\u001b[38;5;124m5a - Ex2_star_points.csv\u001b[39m\u001b[38;5;124m'\u001b[39m)\n",
      "\u001b[1;31mNameError\u001b[0m: name 'experiment_2' is not defined"
     ]
    }
   ],
   "source": [
    "# Run Experiment 2 and check out the star points\n",
    "Ex2_star_points = experiment_2.generate_star()\n",
    "display(Ex2_star_points)\n",
    "Ex2_star_points.to_csv('5a - Ex2_star_points.csv')"
   ]
  },
  {
   "cell_type": "markdown",
   "id": "d59d3348",
   "metadata": {},
   "source": [
    "### Step 2: Run your external model off-line\n",
    "\n",
    "In this step, you may leave this notebook, run your model externally for all the input sets printed in the above .csv file, and then add the model outputs to that .csv file in a new column.\n",
    "\n",
    "When you are done with this step, proceed to the next step.\n",
    "***\n",
    "(Here, for demonstration purpose only, you may go to the last section of this notebook to see an example based on the Ishigami function.)\n",
    "***"
   ]
  },
  {
   "cell_type": "markdown",
   "id": "b72df482",
   "metadata": {},
   "source": [
    "### Step 3: Read in the outputs of the external model and run the rest of VARS/G-VARS\n",
    "\n",
    "Read the updated .csv file including the model outputs and convert it back to a dataframe. The dataframe is the standard format expected to be inputted into the `run_offline` method next."
   ]
  },
  {
   "cell_type": "code",
   "execution_count": 11,
   "id": "4431783b",
   "metadata": {},
   "outputs": [
    {
     "data": {
      "text/html": [
       "<div>\n",
       "<style scoped>\n",
       "    .dataframe tbody tr th:only-of-type {\n",
       "        vertical-align: middle;\n",
       "    }\n",
       "\n",
       "    .dataframe tbody tr th {\n",
       "        vertical-align: top;\n",
       "    }\n",
       "\n",
       "    .dataframe thead th {\n",
       "        text-align: right;\n",
       "    }\n",
       "</style>\n",
       "<table border=\"1\" class=\"dataframe\">\n",
       "  <thead>\n",
       "    <tr style=\"text-align: right;\">\n",
       "      <th></th>\n",
       "      <th></th>\n",
       "      <th></th>\n",
       "      <th>x1</th>\n",
       "      <th>x2</th>\n",
       "      <th>x3</th>\n",
       "      <th>external model</th>\n",
       "    </tr>\n",
       "    <tr>\n",
       "      <th>centre</th>\n",
       "      <th>param</th>\n",
       "      <th>points</th>\n",
       "      <th></th>\n",
       "      <th></th>\n",
       "      <th></th>\n",
       "      <th></th>\n",
       "    </tr>\n",
       "  </thead>\n",
       "  <tbody>\n",
       "    <tr>\n",
       "      <th rowspan=\"5\" valign=\"top\">0</th>\n",
       "      <th rowspan=\"5\" valign=\"top\">x1</th>\n",
       "      <th>0</th>\n",
       "      <td>-2.542616</td>\n",
       "      <td>-2.101720</td>\n",
       "      <td>-1.818364</td>\n",
       "      <td>4.025234</td>\n",
       "    </tr>\n",
       "    <tr>\n",
       "      <th>1</th>\n",
       "      <td>-1.914616</td>\n",
       "      <td>-2.101720</td>\n",
       "      <td>-1.818364</td>\n",
       "      <td>3.234660</td>\n",
       "    </tr>\n",
       "    <tr>\n",
       "      <th>2</th>\n",
       "      <td>-1.286616</td>\n",
       "      <td>-2.101720</td>\n",
       "      <td>-1.818364</td>\n",
       "      <td>3.196107</td>\n",
       "    </tr>\n",
       "    <tr>\n",
       "      <th>3</th>\n",
       "      <td>-0.658616</td>\n",
       "      <td>-2.101720</td>\n",
       "      <td>-1.818364</td>\n",
       "      <td>3.924287</td>\n",
       "    </tr>\n",
       "    <tr>\n",
       "      <th>4</th>\n",
       "      <td>-0.030616</td>\n",
       "      <td>-2.101720</td>\n",
       "      <td>-1.818364</td>\n",
       "      <td>5.141333</td>\n",
       "    </tr>\n",
       "    <tr>\n",
       "      <th>...</th>\n",
       "      <th>...</th>\n",
       "      <th>...</th>\n",
       "      <td>...</td>\n",
       "      <td>...</td>\n",
       "      <td>...</td>\n",
       "      <td>...</td>\n",
       "    </tr>\n",
       "    <tr>\n",
       "      <th rowspan=\"5\" valign=\"top\">99</th>\n",
       "      <th rowspan=\"5\" valign=\"top\">x3</th>\n",
       "      <th>5</th>\n",
       "      <td>-2.195769</td>\n",
       "      <td>2.940417</td>\n",
       "      <td>0.246173</td>\n",
       "      <td>-0.531776</td>\n",
       "    </tr>\n",
       "    <tr>\n",
       "      <th>6</th>\n",
       "      <td>-2.195769</td>\n",
       "      <td>2.940417</td>\n",
       "      <td>0.874173</td>\n",
       "      <td>-0.578837</td>\n",
       "    </tr>\n",
       "    <tr>\n",
       "      <th>7</th>\n",
       "      <td>-2.195769</td>\n",
       "      <td>2.940417</td>\n",
       "      <td>1.502173</td>\n",
       "      <td>-0.944421</td>\n",
       "    </tr>\n",
       "    <tr>\n",
       "      <th>8</th>\n",
       "      <td>-2.195769</td>\n",
       "      <td>2.940417</td>\n",
       "      <td>2.130173</td>\n",
       "      <td>-2.201297</td>\n",
       "    </tr>\n",
       "    <tr>\n",
       "      <th>9</th>\n",
       "      <td>-2.195769</td>\n",
       "      <td>2.940417</td>\n",
       "      <td>2.758173</td>\n",
       "      <td>-5.224968</td>\n",
       "    </tr>\n",
       "  </tbody>\n",
       "</table>\n",
       "<p>3000 rows × 4 columns</p>\n",
       "</div>"
      ],
      "text/plain": [
       "                           x1        x2        x3  external model\n",
       "centre param points                                              \n",
       "0      x1    0      -2.542616 -2.101720 -1.818364        4.025234\n",
       "             1      -1.914616 -2.101720 -1.818364        3.234660\n",
       "             2      -1.286616 -2.101720 -1.818364        3.196107\n",
       "             3      -0.658616 -2.101720 -1.818364        3.924287\n",
       "             4      -0.030616 -2.101720 -1.818364        5.141333\n",
       "...                       ...       ...       ...             ...\n",
       "99     x3    5      -2.195769  2.940417  0.246173       -0.531776\n",
       "             6      -2.195769  2.940417  0.874173       -0.578837\n",
       "             7      -2.195769  2.940417  1.502173       -0.944421\n",
       "             8      -2.195769  2.940417  2.130173       -2.201297\n",
       "             9      -2.195769  2.940417  2.758173       -5.224968\n",
       "\n",
       "[3000 rows x 4 columns]"
      ]
     },
     "execution_count": 11,
     "metadata": {},
     "output_type": "execute_result"
    }
   ],
   "source": [
    "# Read Experiment 1 model outputs\n",
    "Ex1_modelframe = pd.read_csv('5a - Ex1_star_points_with_outputs.csv', index_col=[0, 1, 2])\n",
    "Ex1_modelframe"
   ]
  },
  {
   "cell_type": "code",
   "execution_count": 12,
   "id": "99ba938a",
   "metadata": {},
   "outputs": [
    {
     "data": {
      "text/html": [
       "<div>\n",
       "<style scoped>\n",
       "    .dataframe tbody tr th:only-of-type {\n",
       "        vertical-align: middle;\n",
       "    }\n",
       "\n",
       "    .dataframe tbody tr th {\n",
       "        vertical-align: top;\n",
       "    }\n",
       "\n",
       "    .dataframe thead th {\n",
       "        text-align: right;\n",
       "    }\n",
       "</style>\n",
       "<table border=\"1\" class=\"dataframe\">\n",
       "  <thead>\n",
       "    <tr style=\"text-align: right;\">\n",
       "      <th></th>\n",
       "      <th></th>\n",
       "      <th></th>\n",
       "      <th>x1</th>\n",
       "      <th>x2</th>\n",
       "      <th>x3</th>\n",
       "      <th>external model</th>\n",
       "    </tr>\n",
       "    <tr>\n",
       "      <th>centre</th>\n",
       "      <th>param</th>\n",
       "      <th>points</th>\n",
       "      <th></th>\n",
       "      <th></th>\n",
       "      <th></th>\n",
       "      <th></th>\n",
       "    </tr>\n",
       "  </thead>\n",
       "  <tbody>\n",
       "    <tr>\n",
       "      <th rowspan=\"5\" valign=\"top\">0</th>\n",
       "      <th rowspan=\"5\" valign=\"top\">x1</th>\n",
       "      <th>0</th>\n",
       "      <td>0.257173</td>\n",
       "      <td>1.251886</td>\n",
       "      <td>1.904267</td>\n",
       "      <td>6.900686</td>\n",
       "    </tr>\n",
       "    <tr>\n",
       "      <th>1</th>\n",
       "      <td>2.370188</td>\n",
       "      <td>1.251886</td>\n",
       "      <td>1.904267</td>\n",
       "      <td>7.925738</td>\n",
       "    </tr>\n",
       "    <tr>\n",
       "      <th>2</th>\n",
       "      <td>1.556647</td>\n",
       "      <td>1.251886</td>\n",
       "      <td>1.904267</td>\n",
       "      <td>8.626607</td>\n",
       "    </tr>\n",
       "    <tr>\n",
       "      <th>3</th>\n",
       "      <td>2.091389</td>\n",
       "      <td>1.251886</td>\n",
       "      <td>1.904267</td>\n",
       "      <td>8.320164</td>\n",
       "    </tr>\n",
       "    <tr>\n",
       "      <th>4</th>\n",
       "      <td>-0.024095</td>\n",
       "      <td>1.251886</td>\n",
       "      <td>1.904267</td>\n",
       "      <td>6.256110</td>\n",
       "    </tr>\n",
       "    <tr>\n",
       "      <th>...</th>\n",
       "      <th>...</th>\n",
       "      <th>...</th>\n",
       "      <td>...</td>\n",
       "      <td>...</td>\n",
       "      <td>...</td>\n",
       "      <td>...</td>\n",
       "    </tr>\n",
       "    <tr>\n",
       "      <th rowspan=\"5\" valign=\"top\">99</th>\n",
       "      <th rowspan=\"5\" valign=\"top\">x3</th>\n",
       "      <th>5</th>\n",
       "      <td>1.721361</td>\n",
       "      <td>1.658161</td>\n",
       "      <td>1.464022</td>\n",
       "      <td>8.389596</td>\n",
       "    </tr>\n",
       "    <tr>\n",
       "      <th>6</th>\n",
       "      <td>1.721361</td>\n",
       "      <td>1.658161</td>\n",
       "      <td>2.141582</td>\n",
       "      <td>10.015079</td>\n",
       "    </tr>\n",
       "    <tr>\n",
       "      <th>7</th>\n",
       "      <td>1.721361</td>\n",
       "      <td>1.658161</td>\n",
       "      <td>2.676828</td>\n",
       "      <td>13.011612</td>\n",
       "    </tr>\n",
       "    <tr>\n",
       "      <th>8</th>\n",
       "      <td>1.721361</td>\n",
       "      <td>1.658161</td>\n",
       "      <td>-0.281043</td>\n",
       "      <td>7.936011</td>\n",
       "    </tr>\n",
       "    <tr>\n",
       "      <th>9</th>\n",
       "      <td>1.721361</td>\n",
       "      <td>1.658161</td>\n",
       "      <td>0.087874</td>\n",
       "      <td>7.935400</td>\n",
       "    </tr>\n",
       "  </tbody>\n",
       "</table>\n",
       "<p>3000 rows × 4 columns</p>\n",
       "</div>"
      ],
      "text/plain": [
       "                           x1        x2        x3  external model\n",
       "centre param points                                              \n",
       "0      x1    0       0.257173  1.251886  1.904267        6.900686\n",
       "             1       2.370188  1.251886  1.904267        7.925738\n",
       "             2       1.556647  1.251886  1.904267        8.626607\n",
       "             3       2.091389  1.251886  1.904267        8.320164\n",
       "             4      -0.024095  1.251886  1.904267        6.256110\n",
       "...                       ...       ...       ...             ...\n",
       "99     x3    5       1.721361  1.658161  1.464022        8.389596\n",
       "             6       1.721361  1.658161  2.141582       10.015079\n",
       "             7       1.721361  1.658161  2.676828       13.011612\n",
       "             8       1.721361  1.658161 -0.281043        7.936011\n",
       "             9       1.721361  1.658161  0.087874        7.935400\n",
       "\n",
       "[3000 rows x 4 columns]"
      ]
     },
     "execution_count": 12,
     "metadata": {},
     "output_type": "execute_result"
    }
   ],
   "source": [
    "# Read Experiment 2 model outputs\n",
    "Ex2_modelframe = pd.read_csv('5a - Ex2_star_points_with_outputs.csv', index_col=[0, 1, 2])\n",
    "Ex2_modelframe"
   ]
  },
  {
   "cell_type": "code",
   "execution_count": 13,
   "id": "31d50dd0",
   "metadata": {},
   "outputs": [
    {
     "data": {
      "application/vnd.jupyter.widget-view+json": {
       "model_id": "9d7fe29dcc03415a9246ed5de90a8a15",
       "version_major": 2,
       "version_minor": 0
      },
      "text/plain": [
       "building pairs:   0%|                                                                          | 0/300 [00:00<…"
      ]
     },
     "metadata": {},
     "output_type": "display_data"
    },
    {
     "data": {
      "application/vnd.jupyter.widget-view+json": {
       "model_id": "1ebbbb88bf5b41bf8ac16a319d8d8033",
       "version_major": 2,
       "version_minor": 0
      },
      "text/plain": [
       "VARS Analysis:   0%|                                                                            | 0/10 [00:00<…"
      ]
     },
     "metadata": {},
     "output_type": "display_data"
    },
    {
     "data": {
      "application/vnd.jupyter.widget-view+json": {
       "model_id": "b93562364df1442fb0a967f67685b0a6",
       "version_major": 2,
       "version_minor": 0
      },
      "text/plain": [
       "factor ranking:   0%|                                                                            | 0/2 [00:00<…"
      ]
     },
     "metadata": {},
     "output_type": "display_data"
    },
    {
     "data": {
      "application/vnd.jupyter.widget-view+json": {
       "model_id": "10c20b7d38504e0daaca5b46e460e796",
       "version_major": 2,
       "version_minor": 0
      },
      "text/plain": [
       "bootstrapping and grouping:   0%|                                                              | 0/100 [00:00<…"
      ]
     },
     "metadata": {},
     "output_type": "display_data"
    }
   ],
   "source": [
    "# Run the rest of Experiment 1\n",
    "experiment_1.run_offline(Ex1_modelframe)"
   ]
  },
  {
   "cell_type": "code",
   "execution_count": 14,
   "id": "f2e202e8",
   "metadata": {},
   "outputs": [
    {
     "data": {
      "image/png": "[encoded data removed]",
      "text/plain": [
       "<Figure size 720x360 with 1 Axes>"
      ]
     },
     "metadata": {
      "needs_background": "light"
     },
     "output_type": "display_data"
    },
    {
     "data": {
      "image/png": "[encoded data removed]",
      "text/plain": [
       "<Figure size 720x360 with 1 Axes>"
      ]
     },
     "metadata": {
      "needs_background": "light"
     },
     "output_type": "display_data"
    }
   ],
   "source": [
    "# Plot IVARS from Experiment 1\n",
    "ivars_scale = 0.5 # Choose the scale range of interest, e.g., 0.1, 0.3, or 0.5\n",
    "\n",
    "cols = experiment_1.parameters.keys()                     \n",
    "fig_bar = plt.figure(figsize=(10,5))\n",
    "plt.gca().bar(cols, experiment_1.ivars.loc[pd.IndexSlice[ ivars_scale ]][cols], color='gold')\n",
    "plt.gca().set_title (r'Integrated variogram Across a Range of Scales', fontsize = 15)\n",
    "plt.gca().set_ylabel(r'IVARS-50 (Total-Variogram Effect)', fontsize = 13)\n",
    "plt.gca().set_xlabel(r'Model Parameter', fontsize=13)\n",
    "plt.gca().grid()\n",
    "plt.gca().set_yscale('linear')\n",
    "\n",
    "fig_bar = plt.figure(figsize=(10,5))\n",
    "plt.gca().bar(cols, experiment_1.ivars.loc[pd.IndexSlice[ ivars_scale ]][cols], color='gold')\n",
    "plt.gca().set_title (r'Integrated variogram Across a Range of Scales $[log-scale]$', fontsize = 15)\n",
    "plt.gca().set_ylabel(r'IVARS-50 (Total-Variogram Effect)', fontsize = 13)\n",
    "plt.gca().set_xlabel(r'Model Parameter', fontsize=13)\n",
    "plt.gca().grid()\n",
    "plt.gca().set_yscale('log')\n"
   ]
  },
  {
   "cell_type": "code",
   "execution_count": 15,
   "id": "245f4983",
   "metadata": {},
   "outputs": [
    {
     "data": {
      "application/vnd.jupyter.widget-view+json": {
       "model_id": "9a625f064ab84b90ab61b73dd4dd56e0",
       "version_major": 2,
       "version_minor": 0
      },
      "text/plain": [
       "building pairs:   0%|                                                                          | 0/300 [00:00<…"
      ]
     },
     "metadata": {},
     "output_type": "display_data"
    },
    {
     "data": {
      "application/vnd.jupyter.widget-view+json": {
       "model_id": "c483b0a96a4d42caa0149bb9d26accf0",
       "version_major": 2,
       "version_minor": 0
      },
      "text/plain": [
       "calculating 'h' values:   0%|          | 0/100 [00:00<?, ?it/s]"
      ]
     },
     "metadata": {},
     "output_type": "display_data"
    },
    {
     "data": {
      "application/vnd.jupyter.widget-view+json": {
       "model_id": "632d6c628eb145298bcbcd849408ae3c",
       "version_major": 2,
       "version_minor": 0
      },
      "text/plain": [
       "binning and reording pairs based on 'h' values:   0%|          | 0/100 [00:00<?, ?it/s]"
      ]
     },
     "metadata": {},
     "output_type": "display_data"
    },
    {
     "data": {
      "application/vnd.jupyter.widget-view+json": {
       "model_id": "f0025f42374c4730a7fb9364341ed952",
       "version_major": 2,
       "version_minor": 0
      },
      "text/plain": [
       "VARS analysis:   0%|                                                                            | 0/10 [00:00<…"
      ]
     },
     "metadata": {},
     "output_type": "display_data"
    },
    {
     "data": {
      "application/vnd.jupyter.widget-view+json": {
       "model_id": "762be99df3784d2ebffdbea82fa50495",
       "version_major": 2,
       "version_minor": 0
      },
      "text/plain": [
       "factor ranking:   0%|                                                                            | 0/2 [00:00<…"
      ]
     },
     "metadata": {},
     "output_type": "display_data"
    },
    {
     "data": {
      "application/vnd.jupyter.widget-view+json": {
       "model_id": "954acad1e2024f1cbef31f61656b2759",
       "version_major": 2,
       "version_minor": 0
      },
      "text/plain": [
       "bootstrapping and grouping:   0%|                                                              | 0/100 [00:00<…"
      ]
     },
     "metadata": {},
     "output_type": "display_data"
    }
   ],
   "source": [
    "# Run the rest of Experiment 2\n",
    "\n",
    "experiment_2.run_offline(Ex2_modelframe)"
   ]
  },
  {
   "cell_type": "code",
   "execution_count": 16,
   "id": "b857e191",
   "metadata": {},
   "outputs": [
    {
     "data": {
      "image/png": "[encoded data removed]",
      "text/plain": [
       "<Figure size 720x360 with 1 Axes>"
      ]
     },
     "metadata": {
      "needs_background": "light"
     },
     "output_type": "display_data"
    },
    {
     "data": {
      "image/png": "[encoded data removed]",
      "text/plain": [
       "<Figure size 720x360 with 1 Axes>"
      ]
     },
     "metadata": {
      "needs_background": "light"
     },
     "output_type": "display_data"
    }
   ],
   "source": [
    "# Plot IVARS from Experiment 2\n",
    "ivars_scale = 0.5 # Choose the scale range of interest, e.g., 0.1, 0.3, or 0.5\n",
    "\n",
    "cols = experiment_2.parameters.keys()                     \n",
    "fig_bar = plt.figure(figsize=(10,5))\n",
    "plt.gca().bar(cols, experiment_2.ivars.loc[pd.IndexSlice[ ivars_scale ]][cols], color='gold')\n",
    "plt.gca().set_title (r'Integrated variogram Across a Range of Scales', fontsize = 15)\n",
    "plt.gca().set_ylabel(r'IVARS-50 (Total-Variogram Effect)', fontsize = 13)\n",
    "plt.gca().set_xlabel(r'Model Parameter', fontsize=13)\n",
    "plt.gca().grid()\n",
    "plt.gca().set_yscale('linear')\n",
    "\n",
    "fig_bar = plt.figure(figsize=(10,5))\n",
    "plt.gca().bar(cols, experiment_2.ivars.loc[pd.IndexSlice[ ivars_scale ]][cols], color='gold')\n",
    "plt.gca().set_title (r'Integrated variogram Across a Range of Scales $[log-scale]$', fontsize = 15)\n",
    "plt.gca().set_ylabel(r'IVARS-50 (Total-Variogram Effect)', fontsize = 13)\n",
    "plt.gca().set_xlabel(r'Model Parameter', fontsize=13)\n",
    "plt.gca().grid()\n",
    "plt.gca().set_yscale('log')"
   ]
  },
  {
   "cell_type": "markdown",
   "id": "8c33ee5d",
   "metadata": {},
   "source": [
    "### Appendix: An example of Step 2 above\n",
    "\n",
    "The cells below run the Ishigami function semi-externally for demonstration purposes only. For real external models, the users have to figure out how to run their models for different inputs."
   ]
  },
  {
   "cell_type": "code",
   "execution_count": 7,
   "id": "d94cc6d0-5f44-4101-b6e3-f24bec1674dd",
   "metadata": {},
   "outputs": [],
   "source": [
    "def ishigami(x, a=7, b=0.1):\n",
    "    '''Ishigami test function'''\n",
    "    # check whether the input x is a dataframe\n",
    "    \n",
    "    if not isinstance(x, (pd.core.frame.DataFrame, pd.core.series.Series, np.ndarray, list)):\n",
    "        raise TypeError('`x` must be of type pandas.DataFrame, numpy.ndarray, pd.Series, or list')\n",
    "    \n",
    "    if len(x) > 3:\n",
    "        raise ValueError('`x` must have only three arguments at a time')\n",
    "    \n",
    "    return np.sin(x[0]) + a*(np.sin(x[1])**2) + b*(x[2]**4)*np.sin(x[0])"
   ]
  },
  {
   "cell_type": "code",
   "execution_count": 8,
   "id": "a0187038",
   "metadata": {},
   "outputs": [],
   "source": [
    "from varstool import Model\n",
    "ishigami_model = Model(ishigami)"
   ]
  },
  {
   "cell_type": "code",
   "execution_count": 9,
   "id": "5be77f17",
   "metadata": {},
   "outputs": [],
   "source": [
    "# Run Ishigami for Experiment 1\n",
    "# **** you do not need to understand this block of code ****\n",
    "applied_df = Ex1_star_points.merge(Ex1_star_points.drop_duplicates()\n",
    "                     .assign(**{'external model': lambda x: x.apply(ishigami, axis=1)}), \n",
    "                     how='left')\n",
    "applied_df.index = Ex1_star_points.index\n",
    "applied_df.to_csv('5a - Ex1_star_points_with_outputs.csv')"
   ]
  },
  {
   "cell_type": "code",
   "execution_count": 10,
   "id": "487b4eda",
   "metadata": {},
   "outputs": [],
   "source": [
    "# Run Ishigami for Experiment 2\n",
    "# **** you do not need to understand this block of code ****\n",
    "applied_df = Ex2_star_points.merge(Ex2_star_points.drop_duplicates()\n",
    "                     .assign(**{'external model': lambda x: x.apply(ishigami, axis=1)}), \n",
    "                     how='left')\n",
    "applied_df.index = Ex2_star_points.index\n",
    "applied_df.to_csv('5a - Ex2_star_points_with_outputs.csv')"
   ]
  },
  {
   "cell_type": "markdown",
   "id": "76fc099e-050e-414c-9baa-cae1c1fff2d5",
   "metadata": {},
   "source": [
    "All done!"
   ]
  }
 ],
 "metadata": {
  "kernelspec": {
   "display_name": "Python 3 (ipykernel)",
   "language": "python",
   "name": "python3"
  },
  "language_info": {
   "codemirror_mode": {
    "name": "ipython",
    "version": 3
   },
   "file_extension": ".py",
   "mimetype": "text/x-python",
   "name": "python",
   "nbconvert_exporter": "python",
   "pygments_lexer": "ipython3",
   "version": "3.9.12"
  }
 },
 "nbformat": 4,
 "nbformat_minor": 5
}
