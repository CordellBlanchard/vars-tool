{
 "cells": [
  {
   "cell_type": "markdown",
   "id": "2f431f57",
   "metadata": {},
   "source": [
    "# Sensitivity Analysis (SA) with VARS and G-VARS:\n",
    "## Correlated/Uncorrelated and Uniformly/Non-uniformly Distributed Inputs\n",
    "\n",
    "Notebook developed by Saman Razavi, Cordell Blanchard, and Kasra Keshavarz\n",
    "\n",
    "\n",
    "### For the VARS method, please cite:\n",
    "\n",
    "Razavi, S., & Gupta, H. V. (2016). A new framework for comprehensive, robust, and efficient global sensitivity analysis: 1. Theory. Water Resources Research, 52(1), 423-439. https://agupubs.onlinelibrary.wiley.com/doi/full/10.1002/2015WR017558\n",
    "\n",
    "Razavi, S., & Gupta, H. V. (2016). A new framework for comprehensive, robust, and efficient global sensitivity analysis: 2. Application. Water Resources Research, 52(1), 440-455. https://agupubs.onlinelibrary.wiley.com/doi/abs/10.1002/2015WR017559\n",
    "\n",
    "### For the Generalized VARS (G-VARS) method, please cite:\n",
    "\n",
    "Do, N. C., & Razavi, S. (2020). Correlation effects? A major but often neglected component in sensitivity and uncertainty analysis. Water Resources Research, 56(3), e2019WR025436. https://doi.org/10.1029/2019WR025436"
   ]
  },
  {
   "cell_type": "markdown",
   "id": "f8eb2b4e",
   "metadata": {},
   "source": [
    "# Exercise 4: From A to Z on the Ishigami test function\n",
    "### Objectives:\n",
    "Experiment 1 | First, let's run SA on Ishigami via *VARS* when the inputs are uncorrelated and uniformly distributed - this is the classic setting in the literature and the objective is to set a benchmark for the rest of this exercise.\n",
    "\n",
    "Experiment 2 | Now, switch to *G-VARS* but keep the inputs uncorrelated and uniformly distributed - this module is essentially the same as the previous module but with a more generalized method, with the objective of testing if G-VARS can re-produce VARS results.\n",
    "\n",
    "Experiment 3 | Run *G-VARS* when the inputs are correlated but still uniformly distributed - the objective of this module is to assess the role of correlation between inputs on the SA results.\n",
    "\n",
    "Experiment 4 | Finally, run the previous experiment now with both correlated and non-uniformly distributed inputs - the objective of this module is to see what happens when the inputs follow other distributions such as normal or triangular distribution."
   ]
  },
  {
   "cell_type": "markdown",
   "id": "902275b2",
   "metadata": {},
   "source": [
    "First import the needed librares, including `VARS` for VARS, `GVARS` for G-VARS and the `Model` class for creating a wrapper around the desired model."
   ]
  },
  {
   "cell_type": "code",
   "execution_count": 1,
   "id": "0235268b-623d-4cb9-b9ea-73d37ecceb22",
   "metadata": {},
   "outputs": [],
   "source": [
    "import numpy as np\n",
    "import pandas as pd\n",
    "import matplotlib.pyplot as plt\n",
    "from scipy.stats import stats\n",
    "\n",
    "from varstool import VARS, GVARS, Model\n",
    "import hbv"
   ]
  },
  {
   "cell_type": "markdown",
   "id": "4842426e",
   "metadata": {},
   "source": [
    "### Introduce the Ishigami function for sensitivity analysis\n",
    "\n",
    "The Ishigami function is a function with three inputs. It is one of the most commonly used functions in the SA literature to test and compare the performance of different SA methods."
   ]
  },
  {
   "cell_type": "code",
   "execution_count": 2,
   "id": "1d9dcb9c",
   "metadata": {},
   "outputs": [],
   "source": [
    "def ishigami(x, a=7, b=0.1):\n",
    "    '''Ishigami test function'''\n",
    "    # check whether the input x is a dataframe\n",
    "    \n",
    "    if not isinstance(x, (pd.core.frame.DataFrame, pd.core.series.Series, np.ndarray, list)):\n",
    "        raise TypeError('`x` must be of type pandas.DataFrame, numpy.ndarray, pd.Series, or list')\n",
    "    \n",
    "    if len(x) > 3:\n",
    "        raise ValueError('`x` must have only three arguments at a time')\n",
    "    \n",
    "    return np.sin(x[0]) + a*(np.sin(x[1])**2) + b*(x[2]**4)*np.sin(x[0])"
   ]
  },
  {
   "cell_type": "markdown",
   "id": "06a16987",
   "metadata": {},
   "source": [
    "Wrap the function of interest with the `Model` class."
   ]
  },
  {
   "cell_type": "code",
   "execution_count": 3,
   "id": "aa4f8d72",
   "metadata": {},
   "outputs": [],
   "source": [
    "ishigami_model = Model(ishigami)"
   ]
  },
  {
   "cell_type": "markdown",
   "id": "6bcdb806",
   "metadata": {},
   "source": [
    "Let's run the wrapped function for an arbitrary input and check the output."
   ]
  },
  {
   "cell_type": "code",
   "execution_count": 4,
   "id": "277529fe",
   "metadata": {},
   "outputs": [
    {
     "data": {
      "text/plain": [
       "0.0"
      ]
     },
     "execution_count": 4,
     "metadata": {},
     "output_type": "execute_result"
    }
   ],
   "source": [
    "x=pd.Series({#name  #value\n",
    "             'x1'   : 0 ,\n",
    "             'x2'   : 0 ,\n",
    "             'x3'   : 0 ,\n",
    "             })\n",
    "ishigami_model(x)"
   ]
  },
  {
   "cell_type": "markdown",
   "id": "775f491f",
   "metadata": {},
   "source": [
    "### Set up the four SA experiments\n",
    "\n",
    "***\n",
    "<p><center>Table 1. The attributes of the STAR-VARS algorithm </center></p>\n",
    "\n",
    "| Attribute      | Description |\n",
    "| :-------------:|:----------- |\n",
    "|`paramaters`    | The name of every paramter along with its upper and lower bounds           |\n",
    "|`num_stars`     | The total number of stars centers for VARS analysis                        |\n",
    "|`delta_h`       | The sampling resolution of the STAR-VARS sampling to generate star points  |\n",
    "|`ivars_scales`  | The scales of interest for IVARS estimation, e.g, 0.1 and 0.5 correspond (0-0.1) and (0-0.5) <br /> note: can not have a scale larger than 0.5|\n",
    "|`star_centres`  | User-generated star centers - only used when a sampler is not chosen       |\n",
    "|`sampler`       | The sampling strategy: `rnd`, `lhs`, `plhs`, `sobol_seq`, or `halton_seq` for generation of star centers|\n",
    "|`slice_size`       | The slice size used when `plhs` sampling method is chosen|\n",
    "|`seed`          | The seed number for randomization of the sampling strategy specified by `sampler`, <br /> only needed if a sampler was chosen  |\n",
    "|`model`         | The wrapper of your model in the `Model` class|\n",
    "|`bootstrap_flag`| This is a `True`/`False` value to turn on/off bootstrapping of VARS results   |\n",
    "|`bootstrap_size`| The number of sampling iterations with replacement via bootstrapping |\n",
    "|`bootstrap_ci`  | The level of confidence used in bootstrap reporting         |\n",
    "|`grouping_flag` | This is a `True`/`False` value to turn on/off grouping of VARS results   |\n",
    "|`num_grps`      | The number of groups you want to split your model paramaters into, <br /> if left blank the optimal number of groups will be calculated by VARS|\n",
    "|`report_verbose`| this is a `True`/`False` value that if `True` will display a loading bar <br /> to show the progession of the VARS analysis, else there will be no progression loading bar|\n",
    "\n",
    "\n",
    "***\n",
    "<p><center>Table 2. The attributes that GVARS inherits from VARS </center></p>\n",
    "\n",
    "| Attribute      | Description |\n",
    "| :-------------:|:----------- |\n",
    "|`num_stars`     | The total number of stars centers for VARS analysis                        |\n",
    "|`ivars_scales`  | The scales of interest for IVARS estimation, e.g, 0.1 and 0.5 correspond (0-0.1) and (0-0.5) <br /> note: can not have a scale larger than 0.5|\n",
    "|`star_centres`  | User-generated star centers - only used when a sampler is not chosen       |\n",
    "|`sampler`       | The sampling strategy: `rnd`, `lhs`, `plhs`, `sobol_seq`, or `halton_seq` for generation of star centers|\n",
    "|`seed`          | The seed number for randomization of the sampling strategy specified by `sampler`, <br /> only needed if a sampler was chosen  |\n",
    "|`model`         | The wrapper of your model in the `Model` class|\n",
    "|`bootstrap_flag`| This is a `True`/`False` value to turn on/off bootstrapping of VARS results   |\n",
    "|`bootstrap_size`| The number of sampling iterations with replacement via bootstrapping |\n",
    "|`bootstrap_ci`  | The level of confidence used in bootstrap reporting         |\n",
    "|`grouping_flag` | This is a `True`/`False` value to turn on/off grouping of VARS results   |\n",
    "|`num_grps`      | The number of groups you want to split your model paramaters into, <br /> if left blank the optimal number of groups will be calculated by VARS|\n",
    "|`report_verbose`| this is a `True`/`False` value that if `True` will display a loading bar <br /> to show the progession of the VARS analysis, else there will be no progression loading bar|\n",
    "\n",
    "***\n",
    "In addition, GVARS has three unique attributes: `parameters`, `corr_mat`, and `num_dir_samples`, as explained in the following.\n",
    "\n",
    "`parameters` includes the name of every model parameter, the distribution it follows, and the parameters specifying that distribution. The distributions currently available and their parameters are listed in Table 2.\n",
    "\n",
    "<p><center>Table 2. The parameter distributions currently supported in GVARS </center></p>\n",
    "\n",
    "| Distribution type        | Distribution parameter 1 | Distribution parameter 2 | Distribution parameter 3 | Distribution identifier |\n",
    "| :-----------------------:|:-----------------------: |:-----------------------: |:-----------------------: |:----------: |\n",
    "|uniform                   | lower bound              | upper bound              | None                     |  `unif`     |\n",
    "|triangle                  | lower bound              | upper bound              | mode                     |  `triangle` |\n",
    "|normal                    | mean                     | standard deviation       | None                     |  `norm`     |\n",
    "|lognormal                 | mean                     | standard deviation       | None                     |  `lognorm`  |\n",
    "|exponential               | mean                     | standard deviation       | None                     |  `expo`     |\n",
    "|generalized extreme value | location                 | scale                    | shape                    |  `gev`      |\n",
    "\n",
    "\n",
    "`corr_mat` is the correlation matrix which includes the Pearson correlation between every pair of parameters and must be defined as a numpy array.\n",
    "\n",
    "\n",
    "`num_dir_samples` is the number of samples GVARS takes along each direction for every star center. \n",
    "***\n",
    "**A \"good-to-know\" peice for advanced users:**\n",
    "\n",
    "In GVARS, the star-based sampling is modified to work with `num_stars` and `num_dir_samples`. This is unlike VARS where the star-based sampling works with `num_stars` and `delta_h`.\n",
    "\n",
    "GVARS still needs `delta_h` as an attribute for estimating and reporting directional variograms (not for sampling). As a rule-of-thumb, the user may set `delta_h` to be the reciprocal of `num_dir_samples`. For example, if num_dir_samples = 10, we suggest delta_h = 0.1.\n",
    "\n",
    "An advanced user may try other values of `delta_h` to extract more accurate results. In general, the smaller the `delta_h`, the more granular the results. But, the tradeoff with smaller values would be to have fewer pairs in the bins when estimating variograms.\n"
   ]
  },
  {
   "cell_type": "code",
   "execution_count": 5,
   "id": "fd05b908",
   "metadata": {},
   "outputs": [],
   "source": [
    "# Define Experiment 1\n",
    "\n",
    "my_parameters = { 'x1': [ -3.14, 3.14 ], \n",
    "                  'x2': [ -3.14, 3.14 ], \n",
    "                  'x3': [ -3.14, 3.14 ], }\n",
    "\n",
    "experiment_1 = VARS(parameters     = my_parameters,\n",
    "                    num_stars      = 100,\n",
    "                    delta_h        = 0.1,\n",
    "                    ivars_scales   = (0.1, 0.3, 0.5),\n",
    "                    sampler        = 'lhs',\n",
    "                    seed           = 123456789,\n",
    "                    model          = ishigami_model,\n",
    "                    bootstrap_flag = True,\n",
    "                    bootstrap_size = 1000,\n",
    "                    bootstrap_ci   = 0.9,\n",
    "                    grouping_flag  = True,\n",
    "                    num_grps       = 2,\n",
    "                    report_verbose = True,\n",
    "                    )"
   ]
  },
  {
   "cell_type": "code",
   "execution_count": 8,
   "id": "92c37730",
   "metadata": {},
   "outputs": [],
   "source": [
    "# Define Experiment 2\n",
    "\n",
    "my_parameters = { 'x1': (-3.14, 3.14, None, 'unif'), \n",
    "                  'x2': (-3.14, 3.14, None, 'unif'), \n",
    "                  'x3': (-3.14, 3.14, None, 'unif')}\n",
    "\n",
    "my_corr_mat = np.array([[ 1   ,  0 ,  0   ],\n",
    "                        [ 0   ,  1 ,  0   ],\n",
    "                        [ 0   ,  0 ,  1   ]])\n",
    "\n",
    "my_num_dir_samples = 10\n",
    "\n",
    "my_delta_h = 0.1\n",
    "# my_delta_h = 1 / my_num_dir_samples # or choose values such as 0.1\n",
    "\n",
    "experiment_2 = GVARS(parameters     = my_parameters,\n",
    "                    corr_mat        = my_corr_mat,\n",
    "                    num_stars       = 100,\n",
    "                    num_dir_samples = my_num_dir_samples,\n",
    "                    delta_h         = my_delta_h,\n",
    "                    ivars_scales    = (0.1, 0.3, 0.5),\n",
    "                    sampler         = 'plhs',\n",
    "                    slice_size = 10,\n",
    "                    model           = ishigami_model,\n",
    "                    seed            = 123456789,\n",
    "                    bootstrap_flag  = False,\n",
    "                    bootstrap_size  = 1000,\n",
    "                    bootstrap_ci    = 0.9,\n",
    "                    grouping_flag   = False,\n",
    "                    num_grps        = 2,\n",
    "                    report_verbose  = True,\n",
    "                    )"
   ]
  },
  {
   "cell_type": "code",
   "execution_count": 9,
   "id": "d9d95e99",
   "metadata": {},
   "outputs": [],
   "source": [
    "# Define Experiment 3\n",
    "\n",
    "my_parameters = { 'x1': (-3.14, 3.14, None, 'unif'), \n",
    "                  'x2': (-3.14, 3.14, None, 'unif'), \n",
    "                  'x3': (-3.14, 3.14, None, 'unif')}\n",
    "\n",
    "my_corr_mat = np.array([[ 1   ,  0 ,  0.8 ],\n",
    "                        [ 0   ,  1 ,  0   ],\n",
    "                        [ 0.8 ,  0 ,  1   ]])\n",
    "\n",
    "my_num_dir_samples = 10\n",
    "\n",
    "my_delta_h = 0.1\n",
    "# my_delta_h = 1 / my_num_dir_samples # or choose values such as 0.1\n",
    "\n",
    "experiment_3 = GVARS(parameters     = my_parameters,\n",
    "                    corr_mat        = my_corr_mat,\n",
    "                    num_stars       = 100,\n",
    "                    num_dir_samples = my_num_dir_samples,\n",
    "                    delta_h         = my_delta_h,\n",
    "                    ivars_scales    = (0.1, 0.3, 0.5),\n",
    "                    sampler         = 'lhs',\n",
    "                    model           = ishigami_model,\n",
    "                    seed            = 123456789,\n",
    "                    bootstrap_flag  = True,\n",
    "                    bootstrap_size  = 1000,\n",
    "                    bootstrap_ci    = 0.9,\n",
    "                    grouping_flag   = True,\n",
    "                    num_grps        = 2,\n",
    "                    report_verbose  = True,\n",
    "                    )"
   ]
  },
  {
   "cell_type": "code",
   "execution_count": 10,
   "id": "e0d00868",
   "metadata": {},
   "outputs": [],
   "source": [
    "# Define Experiment 4\n",
    "\n",
    "my_parameters = { 'x1': (-3.14, 3.14,  None, 'unif'    ), \n",
    "                  'x2': (  0  ,  1  ,  None, 'norm'    ), \n",
    "                  'x3': (-3.14, 3.14, -3.14, 'triangle')}\n",
    "\n",
    "my_corr_mat = np.array([[ 1   ,  0 ,  0.8 ],\n",
    "                        [ 0   ,  1 ,  0   ],\n",
    "                        [ 0.8 ,  0 ,  1   ]])\n",
    "\n",
    "my_num_dir_samples = 10\n",
    "\n",
    "my_delta_h = 0.1\n",
    "# my_delta_h = 1 / my_num_dir_samples # or choose values such as 0.1\n",
    "\n",
    "experiment_4 = GVARS(parameters     = my_parameters,\n",
    "                    corr_mat        = my_corr_mat,\n",
    "                    num_stars       = 100,\n",
    "                    num_dir_samples = my_num_dir_samples,\n",
    "                    delta_h         = my_delta_h,\n",
    "                    ivars_scales    = (0.1, 0.3, 0.5),\n",
    "                    sampler         = 'lhs',\n",
    "                    model           = ishigami_model,\n",
    "                    seed            = 123456789,\n",
    "                    bootstrap_flag  = True,\n",
    "                    bootstrap_size  = 1000,\n",
    "                    bootstrap_ci    = 0.9,\n",
    "                    grouping_flag   = True,\n",
    "                    num_grps        = 2,\n",
    "                    report_verbose  = True,\n",
    "                    )"
   ]
  },
  {
   "cell_type": "markdown",
   "id": "8f977677",
   "metadata": {},
   "source": [
    "### Run the SA experiments\n",
    "\n",
    "Now, run the four experiments defined above."
   ]
  },
  {
   "cell_type": "code",
   "execution_count": 9,
   "id": "81c6cb91",
   "metadata": {},
   "outputs": [
    {
     "data": {
      "application/vnd.jupyter.widget-view+json": {
       "model_id": "0db7214714234c3b8d4e9e937a1e4508",
       "version_major": 2,
       "version_minor": 0
      },
      "text/plain": [
       "model evaluation:   0%|          | 0/2800 [00:00<?, ?it/s]"
      ]
     },
     "metadata": {},
     "output_type": "display_data"
    },
    {
     "data": {
      "application/vnd.jupyter.widget-view+json": {
       "model_id": "543562ba0acd41a6a698d80d6f941615",
       "version_major": 2,
       "version_minor": 0
      },
      "text/plain": [
       "building pairs:   0%|          | 0/300 [00:00<?, ?it/s]"
      ]
     },
     "metadata": {},
     "output_type": "display_data"
    },
    {
     "data": {
      "application/vnd.jupyter.widget-view+json": {
       "model_id": "379e34ff150f4712ac9c1be3595f690a",
       "version_major": 2,
       "version_minor": 0
      },
      "text/plain": [
       "VARS analysis:   0%|          | 0/10 [00:00<?, ?it/s]"
      ]
     },
     "metadata": {},
     "output_type": "display_data"
    },
    {
     "data": {
      "application/vnd.jupyter.widget-view+json": {
       "model_id": "49817b6a12ed41078934fab6b54dd42d",
       "version_major": 2,
       "version_minor": 0
      },
      "text/plain": [
       "factor ranking:   0%|          | 0/2 [00:00<?, ?it/s]"
      ]
     },
     "metadata": {},
     "output_type": "display_data"
    },
    {
     "data": {
      "application/vnd.jupyter.widget-view+json": {
       "model_id": "13b0305b74a7429db7c3b6f0de12074a",
       "version_major": 2,
       "version_minor": 0
      },
      "text/plain": [
       "bootstrapping:   0%|          | 0/1000 [00:00<?, ?it/s]"
      ]
     },
     "metadata": {},
     "output_type": "display_data"
    }
   ],
   "source": [
    "experiment_1.run_online()"
   ]
  },
  {
   "cell_type": "code",
   "execution_count": 9,
   "id": "3a8eba2d",
   "metadata": {},
   "outputs": [
    {
     "data": {
      "application/vnd.jupyter.widget-view+json": {
       "model_id": "8741daaae58949a1b471c70a8c5bc350",
       "version_major": 2,
       "version_minor": 0
      },
      "text/plain": [
       "building fictive matrix:   0%|          | 0/2 [00:00<?, ?it/s]"
      ]
     },
     "metadata": {},
     "output_type": "display_data"
    },
    {
     "data": {
      "application/vnd.jupyter.widget-view+json": {
       "model_id": "f15ca3c7662f4f05bcc99513e58a9d10",
       "version_major": 2,
       "version_minor": 0
      },
      "text/plain": [
       "generating star points\n",
       ":   0%|          | 0/8 [00:00<?, ?it/s]"
      ]
     },
     "metadata": {},
     "output_type": "display_data"
    },
    {
     "data": {
      "application/vnd.jupyter.widget-view+json": {
       "model_id": "ca6fb65eeae348bbbc6ad7f6da7c6020",
       "version_major": 2,
       "version_minor": 0
      },
      "text/plain": [
       "model evaluation:   0%|          | 0/3000 [00:00<?, ?it/s]"
      ]
     },
     "metadata": {},
     "output_type": "display_data"
    },
    {
     "data": {
      "application/vnd.jupyter.widget-view+json": {
       "model_id": "72238cc8e87848409d69b10732a620f1",
       "version_major": 2,
       "version_minor": 0
      },
      "text/plain": [
       "building pairs:   0%|          | 0/300 [00:00<?, ?it/s]"
      ]
     },
     "metadata": {},
     "output_type": "display_data"
    },
    {
     "data": {
      "application/vnd.jupyter.widget-view+json": {
       "model_id": "265d8d3257054d73850b79fdf7a72cec",
       "version_major": 2,
       "version_minor": 0
      },
      "text/plain": [
       "calculating 'h' values:   0%|          | 0/100 [00:00<?, ?it/s]"
      ]
     },
     "metadata": {},
     "output_type": "display_data"
    },
    {
     "data": {
      "application/vnd.jupyter.widget-view+json": {
       "model_id": "4f85ec0ac1984e6fbf3dfaf3d14adb0b",
       "version_major": 2,
       "version_minor": 0
      },
      "text/plain": [
       "binning and reording pairs based on 'h' values:   0%|          | 0/100 [00:00<?, ?it/s]"
      ]
     },
     "metadata": {},
     "output_type": "display_data"
    },
    {
     "data": {
      "application/vnd.jupyter.widget-view+json": {
       "model_id": "268b13cd6fec44f9bdfae6f8d236b20a",
       "version_major": 2,
       "version_minor": 0
      },
      "text/plain": [
       "VARS analysis:   0%|          | 0/10 [00:00<?, ?it/s]"
      ]
     },
     "metadata": {},
     "output_type": "display_data"
    },
    {
     "data": {
      "application/vnd.jupyter.widget-view+json": {
       "model_id": "147465619eed40aca225b91c1b18eace",
       "version_major": 2,
       "version_minor": 0
      },
      "text/plain": [
       "factor ranking:   0%|          | 0/2 [00:00<?, ?it/s]"
      ]
     },
     "metadata": {},
     "output_type": "display_data"
    }
   ],
   "source": [
    "experiment_2.run_online()"
   ]
  },
  {
   "cell_type": "code",
   "execution_count": 10,
   "id": "6cc79581",
   "metadata": {},
   "outputs": [
    {
     "data": {
      "text/plain": [
       "'plhs'"
      ]
     },
     "execution_count": 10,
     "metadata": {},
     "output_type": "execute_result"
    }
   ],
   "source": [
    "experiment_3.run_online()"
   ]
  },
  {
   "cell_type": "code",
   "execution_count": 12,
   "id": "da29e0db",
   "metadata": {},
   "outputs": [
    {
     "data": {
      "application/vnd.jupyter.widget-view+json": {
       "model_id": "eb30f5e9f0f34465ac41faaf4fce019e",
       "version_major": 2,
       "version_minor": 0
      },
      "text/plain": [
       "building fictive matrix:   0%|          | 0/2 [00:00<?, ?it/s]"
      ]
     },
     "metadata": {},
     "output_type": "display_data"
    },
    {
     "data": {
      "application/vnd.jupyter.widget-view+json": {
       "model_id": "6edbe8db460341b68aef09711e49b328",
       "version_major": 2,
       "version_minor": 0
      },
      "text/plain": [
       "generating star points\n",
       ":   0%|          | 0/8 [00:00<?, ?it/s]"
      ]
     },
     "metadata": {},
     "output_type": "display_data"
    },
    {
     "data": {
      "application/vnd.jupyter.widget-view+json": {
       "model_id": "6fe7b06bdb6447d3ac5537e010d615f4",
       "version_major": 2,
       "version_minor": 0
      },
      "text/plain": [
       "model evaluation:   0%|          | 0/3000 [00:00<?, ?it/s]"
      ]
     },
     "metadata": {},
     "output_type": "display_data"
    },
    {
     "data": {
      "application/vnd.jupyter.widget-view+json": {
       "model_id": "15b21c9599ba4bbda6ff42eb53da3b26",
       "version_major": 2,
       "version_minor": 0
      },
      "text/plain": [
       "building pairs:   0%|          | 0/300 [00:00<?, ?it/s]"
      ]
     },
     "metadata": {},
     "output_type": "display_data"
    },
    {
     "data": {
      "application/vnd.jupyter.widget-view+json": {
       "model_id": "fd982e79780d43f1a28b9ad540d6c2f9",
       "version_major": 2,
       "version_minor": 0
      },
      "text/plain": [
       "calculating 'h' values:   0%|          | 0/100 [00:00<?, ?it/s]"
      ]
     },
     "metadata": {},
     "output_type": "display_data"
    },
    {
     "data": {
      "application/vnd.jupyter.widget-view+json": {
       "model_id": "506e002ea3a643328494915e445f1a9d",
       "version_major": 2,
       "version_minor": 0
      },
      "text/plain": [
       "binning and reording pairs based on 'h' values:   0%|          | 0/100 [00:00<?, ?it/s]"
      ]
     },
     "metadata": {},
     "output_type": "display_data"
    },
    {
     "name": "stdout",
     "output_type": "stream",
     "text": [
      "Note: there may be 'h' values that do not get binned due to random sampling\n"
     ]
    },
    {
     "data": {
      "application/vnd.jupyter.widget-view+json": {
       "model_id": "6d709850081d4da481511eb4c63c33ac",
       "version_major": 2,
       "version_minor": 0
      },
      "text/plain": [
       "VARS analysis:   0%|          | 0/10 [00:00<?, ?it/s]"
      ]
     },
     "metadata": {},
     "output_type": "display_data"
    },
    {
     "data": {
      "application/vnd.jupyter.widget-view+json": {
       "model_id": "74fcf5d87f9348e48126da154fc7d8ef",
       "version_major": 2,
       "version_minor": 0
      },
      "text/plain": [
       "factor ranking:   0%|          | 0/2 [00:00<?, ?it/s]"
      ]
     },
     "metadata": {},
     "output_type": "display_data"
    },
    {
     "data": {
      "application/vnd.jupyter.widget-view+json": {
       "model_id": "387837f7b1f24a83ab3c1c812ba92c3f",
       "version_major": 2,
       "version_minor": 0
      },
      "text/plain": [
       "bootstrapping:   0%|          | 0/1000 [00:00<?, ?it/s]"
      ]
     },
     "metadata": {},
     "output_type": "display_data"
    }
   ],
   "source": [
    "experiment_4.run_online()"
   ]
  },
  {
   "cell_type": "markdown",
   "id": "1490cdde",
   "metadata": {},
   "source": [
    "### Check out the results\n",
    "\n",
    "Let's check out the results of the four SA experiments, including IVARS, VARS-TO, VARS-ABE, VARS-ACE, and directional variograms."
   ]
  },
  {
   "cell_type": "markdown",
   "id": "8925a8bb",
   "metadata": {},
   "source": [
    "**IVARS: Integrated variogram Across a Range of Scales** \n",
    "\n",
    "IVARS indices are the primary sensitivity indices by the VARS approach. First, print all the IVARS indices for the scale ranges of interest."
   ]
  },
  {
   "cell_type": "code",
   "execution_count": 13,
   "id": "b55a05fe",
   "metadata": {},
   "outputs": [
    {
     "data": {
      "text/html": [
       "<div>\n",
       "<style scoped>\n",
       "    .dataframe tbody tr th:only-of-type {\n",
       "        vertical-align: middle;\n",
       "    }\n",
       "\n",
       "    .dataframe tbody tr th {\n",
       "        vertical-align: top;\n",
       "    }\n",
       "\n",
       "    .dataframe thead th {\n",
       "        text-align: right;\n",
       "    }\n",
       "</style>\n",
       "<table border=\"1\" class=\"dataframe\">\n",
       "  <thead>\n",
       "    <tr style=\"text-align: right;\">\n",
       "      <th></th>\n",
       "      <th>x1</th>\n",
       "      <th>x2</th>\n",
       "      <th>x3</th>\n",
       "    </tr>\n",
       "  </thead>\n",
       "  <tbody>\n",
       "    <tr>\n",
       "      <th>0.1</th>\n",
       "      <td>0.066097</td>\n",
       "      <td>0.229198</td>\n",
       "      <td>0.059902</td>\n",
       "    </tr>\n",
       "    <tr>\n",
       "      <th>0.3</th>\n",
       "      <td>0.961455</td>\n",
       "      <td>2.147283</td>\n",
       "      <td>0.574615</td>\n",
       "    </tr>\n",
       "    <tr>\n",
       "      <th>0.5</th>\n",
       "      <td>3.313248</td>\n",
       "      <td>3.035793</td>\n",
       "      <td>1.461225</td>\n",
       "    </tr>\n",
       "  </tbody>\n",
       "</table>\n",
       "</div>"
      ],
      "text/plain": [
       "           x1        x2        x3\n",
       "0.1  0.066097  0.229198  0.059902\n",
       "0.3  0.961455  2.147283  0.574615\n",
       "0.5  3.313248  3.035793  1.461225"
      ]
     },
     "execution_count": 13,
     "metadata": {},
     "output_type": "execute_result"
    }
   ],
   "source": [
    "# IVARS from Experiment 1\n",
    "cols = experiment_1.parameters.keys()\n",
    "experiment_1.ivars[cols]"
   ]
  },
  {
   "cell_type": "code",
   "execution_count": 14,
   "id": "81300a2c",
   "metadata": {},
   "outputs": [
    {
     "data": {
      "text/html": [
       "<div>\n",
       "<style scoped>\n",
       "    .dataframe tbody tr th:only-of-type {\n",
       "        vertical-align: middle;\n",
       "    }\n",
       "\n",
       "    .dataframe tbody tr th {\n",
       "        vertical-align: top;\n",
       "    }\n",
       "\n",
       "    .dataframe thead th {\n",
       "        text-align: right;\n",
       "    }\n",
       "</style>\n",
       "<table border=\"1\" class=\"dataframe\">\n",
       "  <thead>\n",
       "    <tr style=\"text-align: right;\">\n",
       "      <th></th>\n",
       "      <th>x1</th>\n",
       "      <th>x2</th>\n",
       "      <th>x3</th>\n",
       "    </tr>\n",
       "  </thead>\n",
       "  <tbody>\n",
       "    <tr>\n",
       "      <th>0.1</th>\n",
       "      <td>0.077943</td>\n",
       "      <td>0.234677</td>\n",
       "      <td>0.048489</td>\n",
       "    </tr>\n",
       "    <tr>\n",
       "      <th>0.3</th>\n",
       "      <td>0.970091</td>\n",
       "      <td>2.137576</td>\n",
       "      <td>0.505489</td>\n",
       "    </tr>\n",
       "    <tr>\n",
       "      <th>0.5</th>\n",
       "      <td>3.215184</td>\n",
       "      <td>3.066681</td>\n",
       "      <td>1.303998</td>\n",
       "    </tr>\n",
       "  </tbody>\n",
       "</table>\n",
       "</div>"
      ],
      "text/plain": [
       "           x1        x2        x3\n",
       "0.1  0.077943  0.234677  0.048489\n",
       "0.3  0.970091  2.137576  0.505489\n",
       "0.5  3.215184  3.066681  1.303998"
      ]
     },
     "execution_count": 14,
     "metadata": {},
     "output_type": "execute_result"
    }
   ],
   "source": [
    "# IVARS from Experiment 2\n",
    "cols = experiment_2.parameters.keys()\n",
    "experiment_2.ivars[cols]"
   ]
  },
  {
   "cell_type": "code",
   "execution_count": 15,
   "id": "5527c27b",
   "metadata": {},
   "outputs": [
    {
     "data": {
      "text/html": [
       "<div>\n",
       "<style scoped>\n",
       "    .dataframe tbody tr th:only-of-type {\n",
       "        vertical-align: middle;\n",
       "    }\n",
       "\n",
       "    .dataframe tbody tr th {\n",
       "        vertical-align: top;\n",
       "    }\n",
       "\n",
       "    .dataframe thead th {\n",
       "        text-align: right;\n",
       "    }\n",
       "</style>\n",
       "<table border=\"1\" class=\"dataframe\">\n",
       "  <thead>\n",
       "    <tr style=\"text-align: right;\">\n",
       "      <th></th>\n",
       "      <th>x1</th>\n",
       "      <th>x2</th>\n",
       "      <th>x3</th>\n",
       "    </tr>\n",
       "  </thead>\n",
       "  <tbody>\n",
       "    <tr>\n",
       "      <th>0.1</th>\n",
       "      <td>0.082064</td>\n",
       "      <td>0.234677</td>\n",
       "      <td>0.042990</td>\n",
       "    </tr>\n",
       "    <tr>\n",
       "      <th>0.3</th>\n",
       "      <td>0.439293</td>\n",
       "      <td>2.137576</td>\n",
       "      <td>0.412759</td>\n",
       "    </tr>\n",
       "    <tr>\n",
       "      <th>0.5</th>\n",
       "      <td>0.917507</td>\n",
       "      <td>3.066681</td>\n",
       "      <td>1.027936</td>\n",
       "    </tr>\n",
       "  </tbody>\n",
       "</table>\n",
       "</div>"
      ],
      "text/plain": [
       "           x1        x2        x3\n",
       "0.1  0.082064  0.234677  0.042990\n",
       "0.3  0.439293  2.137576  0.412759\n",
       "0.5  0.917507  3.066681  1.027936"
      ]
     },
     "execution_count": 15,
     "metadata": {},
     "output_type": "execute_result"
    }
   ],
   "source": [
    "# IVARS from Experiment 3\n",
    "cols = experiment_3.parameters.keys()\n",
    "experiment_3.ivars[cols]"
   ]
  },
  {
   "cell_type": "code",
   "execution_count": 16,
   "id": "aa43aa0b",
   "metadata": {},
   "outputs": [
    {
     "data": {
      "text/html": [
       "<div>\n",
       "<style scoped>\n",
       "    .dataframe tbody tr th:only-of-type {\n",
       "        vertical-align: middle;\n",
       "    }\n",
       "\n",
       "    .dataframe tbody tr th {\n",
       "        vertical-align: top;\n",
       "    }\n",
       "\n",
       "    .dataframe thead th {\n",
       "        text-align: right;\n",
       "    }\n",
       "</style>\n",
       "<table border=\"1\" class=\"dataframe\">\n",
       "  <thead>\n",
       "    <tr style=\"text-align: right;\">\n",
       "      <th></th>\n",
       "      <th>x1</th>\n",
       "      <th>x2</th>\n",
       "      <th>x3</th>\n",
       "    </tr>\n",
       "  </thead>\n",
       "  <tbody>\n",
       "    <tr>\n",
       "      <th>0.1</th>\n",
       "      <td>0.082338</td>\n",
       "      <td>0.182248</td>\n",
       "      <td>0.068183</td>\n",
       "    </tr>\n",
       "    <tr>\n",
       "      <th>0.3</th>\n",
       "      <td>0.607709</td>\n",
       "      <td>1.941666</td>\n",
       "      <td>0.506240</td>\n",
       "    </tr>\n",
       "    <tr>\n",
       "      <th>0.5</th>\n",
       "      <td>1.443862</td>\n",
       "      <td>3.110431</td>\n",
       "      <td>1.101188</td>\n",
       "    </tr>\n",
       "  </tbody>\n",
       "</table>\n",
       "</div>"
      ],
      "text/plain": [
       "           x1        x2        x3\n",
       "0.1  0.082338  0.182248  0.068183\n",
       "0.3  0.607709  1.941666  0.506240\n",
       "0.5  1.443862  3.110431  1.101188"
      ]
     },
     "execution_count": 16,
     "metadata": {},
     "output_type": "execute_result"
    }
   ],
   "source": [
    "# IVARS from Experiment 4\n",
    "cols = experiment_4.parameters.keys()\n",
    "experiment_4.ivars[cols]"
   ]
  },
  {
   "cell_type": "markdown",
   "id": "90d9d9a9",
   "metadata": {},
   "source": [
    " Choose a scale range and plot the respective IVARS indices. Two points:\n",
    " \n",
    "    POINT1: IVARS-50 (h=[0-0.5]), called ***Total-Variogram Effect*** is the most comprehensive sensitivity index.\n",
    "    POINT2: Plotting sensitivity results in log scale helps us better differentiate less influential parameters."
   ]
  },
  {
   "cell_type": "code",
   "execution_count": 17,
   "id": "b7d6b5b8",
   "metadata": {},
   "outputs": [
    {
     "data": {
      "image/png": "[encoded data removed]",
      "text/plain": [
       "<Figure size 720x360 with 1 Axes>"
      ]
     },
     "metadata": {
      "needs_background": "light"
     },
     "output_type": "display_data"
    },
    {
     "data": {
      "image/png": "[encoded data removed]",
      "text/plain": [
       "<Figure size 720x360 with 1 Axes>"
      ]
     },
     "metadata": {
      "needs_background": "light"
     },
     "output_type": "display_data"
    }
   ],
   "source": [
    "# Plot IVARS from Experiment 1\n",
    "ivars_scale = 0.5 # Choose the scale range of interest, e.g., 0.1, 0.3, or 0.5\n",
    "\n",
    "cols = experiment_1.parameters.keys()                     \n",
    "fig_bar = plt.figure(figsize=(10,5))\n",
    "plt.gca().bar(cols, experiment_1.ivars.loc[pd.IndexSlice[ ivars_scale ]][cols], color='gold')\n",
    "plt.gca().set_title (r'Integrated variogram Across a Range of Scales', fontsize = 15)\n",
    "plt.gca().set_ylabel(r'IVARS-50 (Total-Variogram Effect)', fontsize = 13)\n",
    "plt.gca().set_xlabel(r'Model Parameter', fontsize=13)\n",
    "plt.gca().grid()\n",
    "plt.gca().set_yscale('linear')\n",
    "\n",
    "fig_bar = plt.figure(figsize=(10,5))\n",
    "plt.gca().bar(cols, experiment_1.ivars.loc[pd.IndexSlice[ ivars_scale ]][cols], color='gold')\n",
    "plt.gca().set_title (r'Integrated variogram Across a Range of Scales $[log-scale]$', fontsize = 15)\n",
    "plt.gca().set_ylabel(r'IVARS-50 (Total-Variogram Effect)', fontsize = 13)\n",
    "plt.gca().set_xlabel(r'Model Parameter', fontsize=13)\n",
    "plt.gca().grid()\n",
    "plt.gca().set_yscale('log')\n"
   ]
  },
  {
   "cell_type": "code",
   "execution_count": 22,
   "id": "32e728ba",
   "metadata": {},
   "outputs": [
    {
     "data": {
      "image/png": "[encoded data removed]",
      "text/plain": [
       "<Figure size 720x360 with 1 Axes>"
      ]
     },
     "metadata": {
      "needs_background": "light"
     },
     "output_type": "display_data"
    },
    {
     "data": {
      "image/png": "[encoded data removed]",
      "text/plain": [
       "<Figure size 720x360 with 1 Axes>"
      ]
     },
     "metadata": {
      "needs_background": "light"
     },
     "output_type": "display_data"
    }
   ],
   "source": [
    "# Plot IVARS from Experiment 2\n",
    "ivars_scale = 0.5 # Choose the scale range of interest, e.g., 0.1, 0.3, or 0.5\n",
    "\n",
    "cols = experiment_2.parameters.keys()                     \n",
    "fig_bar = plt.figure(figsize=(10,5))\n",
    "plt.gca().bar(cols, experiment_2.ivars.loc[pd.IndexSlice[ ivars_scale ]][cols], color='gold')\n",
    "plt.gca().set_title (r'Integrated variogram Across a Range of Scales', fontsize = 15)\n",
    "plt.gca().set_ylabel(r'IVARS-50 (Total-Variogram Effect)', fontsize = 13)\n",
    "plt.gca().set_xlabel(r'Model Parameter', fontsize=13)\n",
    "plt.gca().grid()\n",
    "plt.gca().set_yscale('linear')\n",
    "\n",
    "fig_bar = plt.figure(figsize=(10,5))\n",
    "plt.gca().bar(cols, experiment_2.ivars.loc[pd.IndexSlice[ ivars_scale ]][cols], color='gold')\n",
    "plt.gca().set_title (r'Integrated variogram Across a Range of Scales $[log-scale]$', fontsize = 15)\n",
    "plt.gca().set_ylabel(r'IVARS-50 (Total-Variogram Effect)', fontsize = 13)\n",
    "plt.gca().set_xlabel(r'Model Parameter', fontsize=13)\n",
    "plt.gca().grid()\n",
    "plt.gca().set_yscale('log')"
   ]
  },
  {
   "cell_type": "markdown",
   "id": "d5b6491f-8776-401c-96f9-59eded5db09a",
   "metadata": {},
   "source": [
    "Experiment 2 shows similar results to experiment 1 in terms of senstivity for each of the parameters as expected"
   ]
  },
  {
   "cell_type": "code",
   "execution_count": 19,
   "id": "12cbd814",
   "metadata": {},
   "outputs": [
    {
     "data": {
      "image/png": "[encoded data removed]",
      "text/plain": [
       "<Figure size 720x360 with 1 Axes>"
      ]
     },
     "metadata": {
      "needs_background": "light"
     },
     "output_type": "display_data"
    },
    {
     "data": {
      "image/png": "[encoded data removed]",
      "text/plain": [
       "<Figure size 720x360 with 1 Axes>"
      ]
     },
     "metadata": {
      "needs_background": "light"
     },
     "output_type": "display_data"
    }
   ],
   "source": [
    "# Plot IVARS from Experiment 3\n",
    "ivars_scale = 0.5 # Choose the scale range of interest, e.g., 0.1, 0.3, or 0.5\n",
    "\n",
    "cols = experiment_3.parameters.keys()                     \n",
    "fig_bar = plt.figure(figsize=(10,5))\n",
    "plt.gca().bar(cols, experiment_3.ivars.loc[pd.IndexSlice[ ivars_scale ]][cols], color='gold')\n",
    "plt.gca().set_title (r'Integrated variogram Across a Range of Scales', fontsize = 15)\n",
    "plt.gca().set_ylabel(r'IVARS-50 (Total-Variogram Effect)', fontsize = 13)\n",
    "plt.gca().set_xlabel(r'Model Parameter', fontsize=13)\n",
    "plt.gca().grid()\n",
    "plt.gca().set_yscale('linear')\n",
    "\n",
    "fig_bar = plt.figure(figsize=(10,5))\n",
    "plt.gca().bar(cols, experiment_3.ivars.loc[pd.IndexSlice[ ivars_scale ]][cols], color='gold')\n",
    "plt.gca().set_title (r'Integrated variogram Across a Range of Scales $[log-scale]$', fontsize = 15)\n",
    "plt.gca().set_ylabel(r'IVARS-50 (Total-Variogram Effect)', fontsize = 13)\n",
    "plt.gca().set_xlabel(r'Model Parameter', fontsize=13)\n",
    "plt.gca().grid()\n",
    "plt.gca().set_yscale('log')"
   ]
  },
  {
   "cell_type": "markdown",
   "id": "9fddb971-c4a7-4b48-9601-a7dda14f0e9e",
   "metadata": {},
   "source": [
    "The noticable difference in experiment 3 comes from the new correlation between `x1` and `x3`. This is shown in the plots as `x1` has drastically changed in terms of senstivity."
   ]
  },
  {
   "cell_type": "code",
   "execution_count": 20,
   "id": "63d5757e",
   "metadata": {},
   "outputs": [
    {
     "data": {
      "image/png": "[encoded data removed]",
      "text/plain": [
       "<Figure size 720x360 with 1 Axes>"
      ]
     },
     "metadata": {
      "needs_background": "light"
     },
     "output_type": "display_data"
    },
    {
     "data": {
      "image/png": "[encoded data removed]",
      "text/plain": [
       "<Figure size 720x360 with 1 Axes>"
      ]
     },
     "metadata": {
      "needs_background": "light"
     },
     "output_type": "display_data"
    }
   ],
   "source": [
    "# Plot IVARS from Experiment 4\n",
    "ivars_scale = 0.5 # Choose the scale range of interest, e.g., 0.1, 0.3, or 0.5\n",
    "\n",
    "cols = experiment_4.parameters.keys()                     \n",
    "fig_bar = plt.figure(figsize=(10,5))\n",
    "plt.gca().bar(cols, experiment_4.ivars.loc[pd.IndexSlice[ ivars_scale ]][cols], color='gold')\n",
    "plt.gca().set_title (r'Integrated variogram Across a Range of Scales', fontsize = 15)\n",
    "plt.gca().set_ylabel(r'IVARS-50 (Total-Variogram Effect)', fontsize = 13)\n",
    "plt.gca().set_xlabel(r'Model Parameter', fontsize=13)\n",
    "plt.gca().grid()\n",
    "plt.gca().set_yscale('linear')\n",
    "\n",
    "fig_bar = plt.figure(figsize=(10,5))\n",
    "plt.gca().bar(cols, experiment_4.ivars.loc[pd.IndexSlice[ ivars_scale ]][cols], color='gold')\n",
    "plt.gca().set_title (r'Integrated variogram Across a Range of Scales $[log-scale]$', fontsize = 15)\n",
    "plt.gca().set_ylabel(r'IVARS-50 (Total-Variogram Effect)', fontsize = 13)\n",
    "plt.gca().set_xlabel(r'Model Parameter', fontsize=13)\n",
    "plt.gca().grid()\n",
    "plt.gca().set_yscale('log')"
   ]
  },
  {
   "cell_type": "markdown",
   "id": "ca1ef2f8-205d-45f4-aa53-fd223653f4e2",
   "metadata": {},
   "source": [
    "Experiment 4 shows different results than the rest of the experiments due to the addition of both correlated parameters `x1` and `x2` along with there being non-uniformly distributed inputs."
   ]
  },
  {
   "cell_type": "markdown",
   "id": "869269dc",
   "metadata": {},
   "source": [
    "**VARS-TO: Sobol Total-Order Effect** \n",
    "\n",
    "In addition to the IVARS indices, VARS and GVARS estimate Sobol variance-based total-order effects as side products. Below, print them and plot them."
   ]
  },
  {
   "cell_type": "code",
   "execution_count": 21,
   "id": "423c44a1",
   "metadata": {
    "scrolled": true
   },
   "outputs": [
    {
     "data": {
      "text/html": [
       "<div>\n",
       "<style scoped>\n",
       "    .dataframe tbody tr th:only-of-type {\n",
       "        vertical-align: middle;\n",
       "    }\n",
       "\n",
       "    .dataframe tbody tr th {\n",
       "        vertical-align: top;\n",
       "    }\n",
       "\n",
       "    .dataframe thead th {\n",
       "        text-align: right;\n",
       "    }\n",
       "</style>\n",
       "<table border=\"1\" class=\"dataframe\">\n",
       "  <thead>\n",
       "    <tr style=\"text-align: right;\">\n",
       "      <th>param</th>\n",
       "      <th>x1</th>\n",
       "      <th>x2</th>\n",
       "      <th>x3</th>\n",
       "    </tr>\n",
       "  </thead>\n",
       "  <tbody>\n",
       "    <tr>\n",
       "      <th>0</th>\n",
       "      <td>0.608621</td>\n",
       "      <td>0.432497</td>\n",
       "      <td>0.176867</td>\n",
       "    </tr>\n",
       "  </tbody>\n",
       "</table>\n",
       "</div>"
      ],
      "text/plain": [
       "param        x1        x2        x3\n",
       "0      0.608621  0.432497  0.176867"
      ]
     },
     "execution_count": 21,
     "metadata": {},
     "output_type": "execute_result"
    }
   ],
   "source": [
    "# VARS-TO from Experiment 1\n",
    "cols = experiment_1.parameters.keys()\n",
    "experiment_1.st.to_frame().T[cols]"
   ]
  },
  {
   "cell_type": "code",
   "execution_count": 22,
   "id": "7c226cd6",
   "metadata": {},
   "outputs": [
    {
     "data": {
      "text/html": [
       "<div>\n",
       "<style scoped>\n",
       "    .dataframe tbody tr th:only-of-type {\n",
       "        vertical-align: middle;\n",
       "    }\n",
       "\n",
       "    .dataframe tbody tr th {\n",
       "        vertical-align: top;\n",
       "    }\n",
       "\n",
       "    .dataframe thead th {\n",
       "        text-align: right;\n",
       "    }\n",
       "</style>\n",
       "<table border=\"1\" class=\"dataframe\">\n",
       "  <thead>\n",
       "    <tr style=\"text-align: right;\">\n",
       "      <th>param</th>\n",
       "      <th>x1</th>\n",
       "      <th>x2</th>\n",
       "      <th>x3</th>\n",
       "    </tr>\n",
       "  </thead>\n",
       "  <tbody>\n",
       "    <tr>\n",
       "      <th>0</th>\n",
       "      <td>0.432373</td>\n",
       "      <td>0.362668</td>\n",
       "      <td>0.139605</td>\n",
       "    </tr>\n",
       "  </tbody>\n",
       "</table>\n",
       "</div>"
      ],
      "text/plain": [
       "param        x1        x2        x3\n",
       "0      0.432373  0.362668  0.139605"
      ]
     },
     "execution_count": 22,
     "metadata": {},
     "output_type": "execute_result"
    }
   ],
   "source": [
    "# VARS-TO from Experiment 2\n",
    "cols = experiment_2.parameters.keys()\n",
    "experiment_2.st.to_frame().T[cols]"
   ]
  },
  {
   "cell_type": "code",
   "execution_count": 23,
   "id": "30156e72",
   "metadata": {},
   "outputs": [
    {
     "data": {
      "text/html": [
       "<div>\n",
       "<style scoped>\n",
       "    .dataframe tbody tr th:only-of-type {\n",
       "        vertical-align: middle;\n",
       "    }\n",
       "\n",
       "    .dataframe tbody tr th {\n",
       "        vertical-align: top;\n",
       "    }\n",
       "\n",
       "    .dataframe thead th {\n",
       "        text-align: right;\n",
       "    }\n",
       "</style>\n",
       "<table border=\"1\" class=\"dataframe\">\n",
       "  <thead>\n",
       "    <tr style=\"text-align: right;\">\n",
       "      <th>param</th>\n",
       "      <th>x1</th>\n",
       "      <th>x2</th>\n",
       "      <th>x3</th>\n",
       "    </tr>\n",
       "  </thead>\n",
       "  <tbody>\n",
       "    <tr>\n",
       "      <th>0</th>\n",
       "      <td>0.158461</td>\n",
       "      <td>0.491415</td>\n",
       "      <td>0.121095</td>\n",
       "    </tr>\n",
       "  </tbody>\n",
       "</table>\n",
       "</div>"
      ],
      "text/plain": [
       "param        x1        x2        x3\n",
       "0      0.158461  0.491415  0.121095"
      ]
     },
     "execution_count": 23,
     "metadata": {},
     "output_type": "execute_result"
    }
   ],
   "source": [
    "# VARS-TO from Experiment 3\n",
    "cols = experiment_3.parameters.keys()\n",
    "experiment_3.st.to_frame().T[cols]"
   ]
  },
  {
   "cell_type": "code",
   "execution_count": 24,
   "id": "37ee8f83",
   "metadata": {},
   "outputs": [
    {
     "data": {
      "text/html": [
       "<div>\n",
       "<style scoped>\n",
       "    .dataframe tbody tr th:only-of-type {\n",
       "        vertical-align: middle;\n",
       "    }\n",
       "\n",
       "    .dataframe tbody tr th {\n",
       "        vertical-align: top;\n",
       "    }\n",
       "\n",
       "    .dataframe thead th {\n",
       "        text-align: right;\n",
       "    }\n",
       "</style>\n",
       "<table border=\"1\" class=\"dataframe\">\n",
       "  <thead>\n",
       "    <tr style=\"text-align: right;\">\n",
       "      <th>param</th>\n",
       "      <th>x1</th>\n",
       "      <th>x2</th>\n",
       "      <th>x3</th>\n",
       "    </tr>\n",
       "  </thead>\n",
       "  <tbody>\n",
       "    <tr>\n",
       "      <th>0</th>\n",
       "      <td>0.172834</td>\n",
       "      <td>0.409007</td>\n",
       "      <td>0.123461</td>\n",
       "    </tr>\n",
       "  </tbody>\n",
       "</table>\n",
       "</div>"
      ],
      "text/plain": [
       "param        x1        x2        x3\n",
       "0      0.172834  0.409007  0.123461"
      ]
     },
     "execution_count": 24,
     "metadata": {},
     "output_type": "execute_result"
    }
   ],
   "source": [
    "# VARS-TO from Experiment 4\n",
    "cols = experiment_4.parameters.keys()\n",
    "experiment_4.st.to_frame().T[cols]"
   ]
  },
  {
   "cell_type": "code",
   "execution_count": 25,
   "id": "144804ea",
   "metadata": {},
   "outputs": [
    {
     "data": {
      "image/png": "[encoded data removed]",
      "text/plain": [
       "<Figure size 720x360 with 1 Axes>"
      ]
     },
     "metadata": {
      "needs_background": "light"
     },
     "output_type": "display_data"
    },
    {
     "data": {
      "image/png": "[encoded data removed]",
      "text/plain": [
       "<Figure size 720x360 with 1 Axes>"
      ]
     },
     "metadata": {
      "needs_background": "light"
     },
     "output_type": "display_data"
    }
   ],
   "source": [
    "# Plot VARS-TO from Experiment 1\n",
    "cols = experiment_1.parameters.keys()                     \n",
    "fig_bar = plt.figure(figsize=(10,5))\n",
    "plt.gca().bar(cols, experiment_1.st.to_frame().T.iloc[0][cols], color='lightblue')\n",
    "plt.gca().set_title (r'Sobol Total-Order Effect', fontsize = 15)\n",
    "plt.gca().set_ylabel(r'VARS-TO (Total-Order Effect)', fontsize = 13)\n",
    "plt.gca().set_xlabel(r'Model Parameter', fontsize=13)\n",
    "plt.gca().grid()\n",
    "plt.gca().set_yscale('linear')\n",
    "\n",
    "fig_bar = plt.figure(figsize=(10,5))\n",
    "plt.gca().bar(cols, experiment_1.st.to_frame().T.iloc[0][cols], color='lightblue')\n",
    "plt.gca().set_title (r'Sobol Total-Order Effect $[log-scale]$', fontsize = 15)\n",
    "plt.gca().set_ylabel(r'VARS-TO (Total-Order Effect)', fontsize = 13)\n",
    "plt.gca().set_xlabel(r'Model Parameter', fontsize=13)\n",
    "plt.gca().grid()\n",
    "plt.gca().set_yscale('log')"
   ]
  },
  {
   "cell_type": "code",
   "execution_count": 13,
   "id": "fc5273c2",
   "metadata": {},
   "outputs": [
    {
     "data": {
      "image/png": "[encoded data removed]",
      "text/plain": [
       "<Figure size 720x360 with 1 Axes>"
      ]
     },
     "metadata": {
      "needs_background": "light"
     },
     "output_type": "display_data"
    },
    {
     "data": {
      "image/png": "[encoded data removed]",
      "text/plain": [
       "<Figure size 720x360 with 1 Axes>"
      ]
     },
     "metadata": {
      "needs_background": "light"
     },
     "output_type": "display_data"
    }
   ],
   "source": [
    "# Plot VARS-TO from Experiment 2\n",
    "cols = experiment_2.parameters.keys()                     \n",
    "fig_bar = plt.figure(figsize=(10,5))\n",
    "plt.gca().bar(cols, experiment_2.st.to_frame().T.iloc[0][cols], color='lightblue')\n",
    "plt.gca().set_title (r'Sobol Total-Order Effect', fontsize = 15)\n",
    "plt.gca().set_ylabel(r'VARS-TO (Total-Order Effect)', fontsize = 13)\n",
    "plt.gca().set_xlabel(r'Model Parameter', fontsize=13)\n",
    "plt.gca().grid()\n",
    "plt.gca().set_yscale('linear')\n",
    "\n",
    "fig_bar = plt.figure(figsize=(10,5))\n",
    "plt.gca().bar(cols, experiment_2.st.to_frame().T.iloc[0][cols], color='lightblue')\n",
    "plt.gca().set_title (r'Sobol Total-Order Effect $[log-scale]$', fontsize = 15)\n",
    "plt.gca().set_ylabel(r'VARS-TO (Total-Order Effect)', fontsize = 13)\n",
    "plt.gca().set_xlabel(r'Model Parameter', fontsize=13)\n",
    "plt.gca().grid()\n",
    "plt.gca().set_yscale('log')"
   ]
  },
  {
   "cell_type": "code",
   "execution_count": 27,
   "id": "82c33bc3",
   "metadata": {},
   "outputs": [
    {
     "data": {
      "image/png": "[encoded data removed]",
      "text/plain": [
       "<Figure size 720x360 with 1 Axes>"
      ]
     },
     "metadata": {
      "needs_background": "light"
     },
     "output_type": "display_data"
    },
    {
     "data": {
      "image/png": "[encoded data removed]",
      "text/plain": [
       "<Figure size 720x360 with 1 Axes>"
      ]
     },
     "metadata": {
      "needs_background": "light"
     },
     "output_type": "display_data"
    }
   ],
   "source": [
    "# Plot VARS-TO from Experiment 3\n",
    "cols = experiment_3.parameters.keys()                     \n",
    "fig_bar = plt.figure(figsize=(10,5))\n",
    "plt.gca().bar(cols, experiment_3.st.to_frame().T.iloc[0][cols], color='lightblue')\n",
    "plt.gca().set_title (r'Sobol Total-Order Effect', fontsize = 15)\n",
    "plt.gca().set_ylabel(r'VARS-TO (Total-Order Effect)', fontsize = 13)\n",
    "plt.gca().set_xlabel(r'Model Parameter', fontsize=13)\n",
    "plt.gca().grid()\n",
    "plt.gca().set_yscale('linear')\n",
    "\n",
    "fig_bar = plt.figure(figsize=(10,5))\n",
    "plt.gca().bar(cols, experiment_3.st.to_frame().T.iloc[0][cols], color='lightblue')\n",
    "plt.gca().set_title (r'Sobol Total-Order Effect $[log-scale]$', fontsize = 15)\n",
    "plt.gca().set_ylabel(r'VARS-TO (Total-Order Effect)', fontsize = 13)\n",
    "plt.gca().set_xlabel(r'Model Parameter', fontsize=13)\n",
    "plt.gca().grid()\n",
    "plt.gca().set_yscale('log')"
   ]
  },
  {
   "cell_type": "code",
   "execution_count": 28,
   "id": "74eecc99",
   "metadata": {},
   "outputs": [
    {
     "data": {
      "image/png": "[encoded data removed]",
      "text/plain": [
       "<Figure size 720x360 with 1 Axes>"
      ]
     },
     "metadata": {
      "needs_background": "light"
     },
     "output_type": "display_data"
    },
    {
     "data": {
      "image/png": "[encoded data removed]",
      "text/plain": [
       "<Figure size 720x360 with 1 Axes>"
      ]
     },
     "metadata": {
      "needs_background": "light"
     },
     "output_type": "display_data"
    }
   ],
   "source": [
    "# Plot VARS-TO from Experiment 4\n",
    "cols = experiment_4.parameters.keys()                     \n",
    "fig_bar = plt.figure(figsize=(10,5))\n",
    "plt.gca().bar(cols, experiment_4.st.to_frame().T.iloc[0][cols], color='lightblue')\n",
    "plt.gca().set_title (r'Sobol Total-Order Effect', fontsize = 15)\n",
    "plt.gca().set_ylabel(r'VARS-TO (Total-Order Effect)', fontsize = 13)\n",
    "plt.gca().set_xlabel(r'Model Parameter', fontsize=13)\n",
    "plt.gca().grid()\n",
    "plt.gca().set_yscale('linear')\n",
    "\n",
    "fig_bar = plt.figure(figsize=(10,5))\n",
    "plt.gca().bar(cols, experiment_4.st.to_frame().T.iloc[0][cols], color='lightblue')\n",
    "plt.gca().set_title (r'Sobol Total-Order Effect $[log-scale]$', fontsize = 15)\n",
    "plt.gca().set_ylabel(r'VARS-TO (Total-Order Effect)', fontsize = 13)\n",
    "plt.gca().set_xlabel(r'Model Parameter', fontsize=13)\n",
    "plt.gca().grid()\n",
    "plt.gca().set_yscale('log')"
   ]
  },
  {
   "cell_type": "markdown",
   "id": "dd7cf3b8-0ac0-40d9-afc8-9ebe90fa8b99",
   "metadata": {},
   "source": [
    "The Sobol Total-Order Effect approach confirms our analysis from the IVARS-50 approach as the results are similar in shape."
   ]
  },
  {
   "cell_type": "markdown",
   "id": "aa59db2e",
   "metadata": {},
   "source": [
    "**VARS-ABE & VARS-ACE: Morris Elementary Effects** \n",
    "\n",
    "In addition to the IVARS and Sobol indices, VARS and GVARS estimate various versions of Morris derivative-based elementary effects as side products, **mean ABsolute Elementary effect (ABE)** and **mean ACtual elementary effect (ACE)**.\n",
    "\n",
    "    POINT: In the derivative-based approach, the user needs to choose a delta (step size) for numerical estimation of derivatives. Recommended is to go with the smallest delta available here, which is equal to delta_h, but the user could choose any integer product of delta_h as well.\n",
    "\n",
    " Below, print VARS-ABE & VARS-ACE and then plot them."
   ]
  },
  {
   "cell_type": "code",
   "execution_count": 29,
   "id": "e03cc880",
   "metadata": {},
   "outputs": [],
   "source": [
    "# delta_of_interest = experiment_1.maee.to_frame().unstack(level=0).index.min() # This lines chooses the smallest delta\n",
    "delta_of_interest = 0.1  # This line can be used to set other values for delta"
   ]
  },
  {
   "cell_type": "code",
   "execution_count": 30,
   "id": "8f3c1cf7",
   "metadata": {},
   "outputs": [
    {
     "data": {
      "text/html": [
       "<div>\n",
       "<style scoped>\n",
       "    .dataframe tbody tr th:only-of-type {\n",
       "        vertical-align: middle;\n",
       "    }\n",
       "\n",
       "    .dataframe tbody tr th {\n",
       "        vertical-align: top;\n",
       "    }\n",
       "\n",
       "    .dataframe thead tr th {\n",
       "        text-align: left;\n",
       "    }\n",
       "</style>\n",
       "<table border=\"1\" class=\"dataframe\">\n",
       "  <thead>\n",
       "    <tr>\n",
       "      <th></th>\n",
       "      <th colspan=\"3\" halign=\"left\">0</th>\n",
       "    </tr>\n",
       "    <tr>\n",
       "      <th>param</th>\n",
       "      <th>x1</th>\n",
       "      <th>x2</th>\n",
       "      <th>x3</th>\n",
       "    </tr>\n",
       "  </thead>\n",
       "  <tbody>\n",
       "    <tr>\n",
       "      <th>0.1</th>\n",
       "      <td>1.088407</td>\n",
       "      <td>2.768462</td>\n",
       "      <td>0.928325</td>\n",
       "    </tr>\n",
       "  </tbody>\n",
       "</table>\n",
       "</div>"
      ],
      "text/plain": [
       "              0                    \n",
       "param        x1        x2        x3\n",
       "0.1    1.088407  2.768462  0.928325"
      ]
     },
     "execution_count": 30,
     "metadata": {},
     "output_type": "execute_result"
    }
   ],
   "source": [
    "# VARS-ABE from Experiment 1\n",
    "experiment_1.maee.to_frame().unstack(level=0).loc[delta_of_interest].to_frame().T"
   ]
  },
  {
   "cell_type": "code",
   "execution_count": 31,
   "id": "77ec1ed6",
   "metadata": {
    "scrolled": true
   },
   "outputs": [
    {
     "data": {
      "text/html": [
       "<div>\n",
       "<style scoped>\n",
       "    .dataframe tbody tr th:only-of-type {\n",
       "        vertical-align: middle;\n",
       "    }\n",
       "\n",
       "    .dataframe tbody tr th {\n",
       "        vertical-align: top;\n",
       "    }\n",
       "\n",
       "    .dataframe thead tr th {\n",
       "        text-align: left;\n",
       "    }\n",
       "</style>\n",
       "<table border=\"1\" class=\"dataframe\">\n",
       "  <thead>\n",
       "    <tr>\n",
       "      <th></th>\n",
       "      <th colspan=\"3\" halign=\"left\">0</th>\n",
       "    </tr>\n",
       "    <tr>\n",
       "      <th>param</th>\n",
       "      <th>x1</th>\n",
       "      <th>x2</th>\n",
       "      <th>x3</th>\n",
       "    </tr>\n",
       "  </thead>\n",
       "  <tbody>\n",
       "    <tr>\n",
       "      <th>0.1</th>\n",
       "      <td>0.199938</td>\n",
       "      <td>0.001649</td>\n",
       "      <td>0.000819</td>\n",
       "    </tr>\n",
       "  </tbody>\n",
       "</table>\n",
       "</div>"
      ],
      "text/plain": [
       "              0                    \n",
       "param        x1        x2        x3\n",
       "0.1    0.199938  0.001649  0.000819"
      ]
     },
     "execution_count": 31,
     "metadata": {},
     "output_type": "execute_result"
    }
   ],
   "source": [
    "# VARS-ACE from Experiment 1\n",
    "experiment_1.mee.to_frame().unstack(level=0).loc[delta_of_interest].to_frame().T"
   ]
  },
  {
   "cell_type": "code",
   "execution_count": 32,
   "id": "8b237122",
   "metadata": {},
   "outputs": [
    {
     "data": {
      "text/html": [
       "<div>\n",
       "<style scoped>\n",
       "    .dataframe tbody tr th:only-of-type {\n",
       "        vertical-align: middle;\n",
       "    }\n",
       "\n",
       "    .dataframe tbody tr th {\n",
       "        vertical-align: top;\n",
       "    }\n",
       "\n",
       "    .dataframe thead tr th {\n",
       "        text-align: left;\n",
       "    }\n",
       "</style>\n",
       "<table border=\"1\" class=\"dataframe\">\n",
       "  <thead>\n",
       "    <tr>\n",
       "      <th></th>\n",
       "      <th colspan=\"3\" halign=\"left\">0</th>\n",
       "    </tr>\n",
       "    <tr>\n",
       "      <th>param</th>\n",
       "      <th>x1</th>\n",
       "      <th>x2</th>\n",
       "      <th>x3</th>\n",
       "    </tr>\n",
       "  </thead>\n",
       "  <tbody>\n",
       "    <tr>\n",
       "      <th>0.1</th>\n",
       "      <td>1.090236</td>\n",
       "      <td>2.728393</td>\n",
       "      <td>0.776625</td>\n",
       "    </tr>\n",
       "  </tbody>\n",
       "</table>\n",
       "</div>"
      ],
      "text/plain": [
       "              0                    \n",
       "param        x1        x2        x3\n",
       "0.1    1.090236  2.728393  0.776625"
      ]
     },
     "execution_count": 32,
     "metadata": {},
     "output_type": "execute_result"
    }
   ],
   "source": [
    "# VARS-ABE from Experiment 2\n",
    "experiment_2.maee.to_frame().unstack(level=0).loc[delta_of_interest].to_frame().T"
   ]
  },
  {
   "cell_type": "code",
   "execution_count": 33,
   "id": "f167e09c",
   "metadata": {},
   "outputs": [
    {
     "data": {
      "text/html": [
       "<div>\n",
       "<style scoped>\n",
       "    .dataframe tbody tr th:only-of-type {\n",
       "        vertical-align: middle;\n",
       "    }\n",
       "\n",
       "    .dataframe tbody tr th {\n",
       "        vertical-align: top;\n",
       "    }\n",
       "\n",
       "    .dataframe thead tr th {\n",
       "        text-align: left;\n",
       "    }\n",
       "</style>\n",
       "<table border=\"1\" class=\"dataframe\">\n",
       "  <thead>\n",
       "    <tr>\n",
       "      <th></th>\n",
       "      <th colspan=\"3\" halign=\"left\">0</th>\n",
       "    </tr>\n",
       "    <tr>\n",
       "      <th>param</th>\n",
       "      <th>x1</th>\n",
       "      <th>x2</th>\n",
       "      <th>x3</th>\n",
       "    </tr>\n",
       "  </thead>\n",
       "  <tbody>\n",
       "    <tr>\n",
       "      <th>0.1</th>\n",
       "      <td>0.115555</td>\n",
       "      <td>0.149139</td>\n",
       "      <td>0.00195</td>\n",
       "    </tr>\n",
       "  </tbody>\n",
       "</table>\n",
       "</div>"
      ],
      "text/plain": [
       "              0                   \n",
       "param        x1        x2       x3\n",
       "0.1    0.115555  0.149139  0.00195"
      ]
     },
     "execution_count": 33,
     "metadata": {},
     "output_type": "execute_result"
    }
   ],
   "source": [
    "# VARS-ACE from Experiment 2\n",
    "experiment_2.mee.to_frame().unstack(level=0).loc[delta_of_interest].to_frame().T"
   ]
  },
  {
   "cell_type": "code",
   "execution_count": 34,
   "id": "3f8203ae",
   "metadata": {},
   "outputs": [
    {
     "data": {
      "text/html": [
       "<div>\n",
       "<style scoped>\n",
       "    .dataframe tbody tr th:only-of-type {\n",
       "        vertical-align: middle;\n",
       "    }\n",
       "\n",
       "    .dataframe tbody tr th {\n",
       "        vertical-align: top;\n",
       "    }\n",
       "\n",
       "    .dataframe thead tr th {\n",
       "        text-align: left;\n",
       "    }\n",
       "</style>\n",
       "<table border=\"1\" class=\"dataframe\">\n",
       "  <thead>\n",
       "    <tr>\n",
       "      <th></th>\n",
       "      <th colspan=\"3\" halign=\"left\">0</th>\n",
       "    </tr>\n",
       "    <tr>\n",
       "      <th>param</th>\n",
       "      <th>x1</th>\n",
       "      <th>x2</th>\n",
       "      <th>x3</th>\n",
       "    </tr>\n",
       "  </thead>\n",
       "  <tbody>\n",
       "    <tr>\n",
       "      <th>0.1</th>\n",
       "      <td>1.100524</td>\n",
       "      <td>2.728393</td>\n",
       "      <td>0.848178</td>\n",
       "    </tr>\n",
       "  </tbody>\n",
       "</table>\n",
       "</div>"
      ],
      "text/plain": [
       "              0                    \n",
       "param        x1        x2        x3\n",
       "0.1    1.100524  2.728393  0.848178"
      ]
     },
     "execution_count": 34,
     "metadata": {},
     "output_type": "execute_result"
    }
   ],
   "source": [
    "# VARS-ABE from Experiment 3\n",
    "experiment_3.maee.to_frame().unstack(level=0).loc[delta_of_interest].to_frame().T"
   ]
  },
  {
   "cell_type": "code",
   "execution_count": 35,
   "id": "ac56b404",
   "metadata": {},
   "outputs": [
    {
     "data": {
      "text/html": [
       "<div>\n",
       "<style scoped>\n",
       "    .dataframe tbody tr th:only-of-type {\n",
       "        vertical-align: middle;\n",
       "    }\n",
       "\n",
       "    .dataframe tbody tr th {\n",
       "        vertical-align: top;\n",
       "    }\n",
       "\n",
       "    .dataframe thead tr th {\n",
       "        text-align: left;\n",
       "    }\n",
       "</style>\n",
       "<table border=\"1\" class=\"dataframe\">\n",
       "  <thead>\n",
       "    <tr>\n",
       "      <th></th>\n",
       "      <th colspan=\"3\" halign=\"left\">0</th>\n",
       "    </tr>\n",
       "    <tr>\n",
       "      <th>param</th>\n",
       "      <th>x1</th>\n",
       "      <th>x2</th>\n",
       "      <th>x3</th>\n",
       "    </tr>\n",
       "  </thead>\n",
       "  <tbody>\n",
       "    <tr>\n",
       "      <th>0.1</th>\n",
       "      <td>-0.050846</td>\n",
       "      <td>0.149139</td>\n",
       "      <td>-0.073265</td>\n",
       "    </tr>\n",
       "  </tbody>\n",
       "</table>\n",
       "</div>"
      ],
      "text/plain": [
       "              0                    \n",
       "param        x1        x2        x3\n",
       "0.1   -0.050846  0.149139 -0.073265"
      ]
     },
     "execution_count": 35,
     "metadata": {},
     "output_type": "execute_result"
    }
   ],
   "source": [
    "# VARS-ACE from Experiment 3\n",
    "experiment_3.mee.to_frame().unstack(level=0).loc[delta_of_interest].to_frame().T"
   ]
  },
  {
   "cell_type": "code",
   "execution_count": 36,
   "id": "7430fbe6",
   "metadata": {},
   "outputs": [
    {
     "data": {
      "text/html": [
       "<div>\n",
       "<style scoped>\n",
       "    .dataframe tbody tr th:only-of-type {\n",
       "        vertical-align: middle;\n",
       "    }\n",
       "\n",
       "    .dataframe tbody tr th {\n",
       "        vertical-align: top;\n",
       "    }\n",
       "\n",
       "    .dataframe thead tr th {\n",
       "        text-align: left;\n",
       "    }\n",
       "</style>\n",
       "<table border=\"1\" class=\"dataframe\">\n",
       "  <thead>\n",
       "    <tr>\n",
       "      <th></th>\n",
       "      <th colspan=\"3\" halign=\"left\">0</th>\n",
       "    </tr>\n",
       "    <tr>\n",
       "      <th>param</th>\n",
       "      <th>x1</th>\n",
       "      <th>x2</th>\n",
       "      <th>x3</th>\n",
       "    </tr>\n",
       "  </thead>\n",
       "  <tbody>\n",
       "    <tr>\n",
       "      <th>0.1</th>\n",
       "      <td>1.182408</td>\n",
       "      <td>2.331531</td>\n",
       "      <td>1.067849</td>\n",
       "    </tr>\n",
       "  </tbody>\n",
       "</table>\n",
       "</div>"
      ],
      "text/plain": [
       "              0                    \n",
       "param        x1        x2        x3\n",
       "0.1    1.182408  2.331531  1.067849"
      ]
     },
     "execution_count": 36,
     "metadata": {},
     "output_type": "execute_result"
    }
   ],
   "source": [
    "# VARS-ABE from Experiment 4\n",
    "experiment_4.maee.to_frame().unstack(level=0).loc[delta_of_interest].to_frame().T"
   ]
  },
  {
   "cell_type": "code",
   "execution_count": 37,
   "id": "34190be3",
   "metadata": {},
   "outputs": [
    {
     "data": {
      "text/html": [
       "<div>\n",
       "<style scoped>\n",
       "    .dataframe tbody tr th:only-of-type {\n",
       "        vertical-align: middle;\n",
       "    }\n",
       "\n",
       "    .dataframe tbody tr th {\n",
       "        vertical-align: top;\n",
       "    }\n",
       "\n",
       "    .dataframe thead tr th {\n",
       "        text-align: left;\n",
       "    }\n",
       "</style>\n",
       "<table border=\"1\" class=\"dataframe\">\n",
       "  <thead>\n",
       "    <tr>\n",
       "      <th></th>\n",
       "      <th colspan=\"3\" halign=\"left\">0</th>\n",
       "    </tr>\n",
       "    <tr>\n",
       "      <th>param</th>\n",
       "      <th>x1</th>\n",
       "      <th>x2</th>\n",
       "      <th>x3</th>\n",
       "    </tr>\n",
       "  </thead>\n",
       "  <tbody>\n",
       "    <tr>\n",
       "      <th>0.1</th>\n",
       "      <td>-0.030245</td>\n",
       "      <td>0.024194</td>\n",
       "      <td>0.003481</td>\n",
       "    </tr>\n",
       "  </tbody>\n",
       "</table>\n",
       "</div>"
      ],
      "text/plain": [
       "              0                    \n",
       "param        x1        x2        x3\n",
       "0.1   -0.030245  0.024194  0.003481"
      ]
     },
     "execution_count": 37,
     "metadata": {},
     "output_type": "execute_result"
    }
   ],
   "source": [
    "# VARS-ACE from Experiment 4\n",
    "experiment_4.mee.to_frame().unstack(level=0).loc[delta_of_interest].to_frame().T"
   ]
  },
  {
   "cell_type": "code",
   "execution_count": 38,
   "id": "6c1c396d",
   "metadata": {},
   "outputs": [
    {
     "data": {
      "image/png": "[encoded data removed]",
      "text/plain": [
       "<Figure size 720x360 with 1 Axes>"
      ]
     },
     "metadata": {
      "needs_background": "light"
     },
     "output_type": "display_data"
    },
    {
     "data": {
      "image/png": "[encoded data removed]",
      "text/plain": [
       "<Figure size 720x360 with 1 Axes>"
      ]
     },
     "metadata": {
      "needs_background": "light"
     },
     "output_type": "display_data"
    }
   ],
   "source": [
    "# Plot VARS-ACE and  VARS-ABE from Experiment 1\n",
    "cols = experiment_1.parameters.keys()                     \n",
    "fig_bar = plt.figure(figsize=(10,5))\n",
    "plt.gca().bar(cols, experiment_1.maee.to_frame().unstack(level=0).loc[delta_of_interest].to_frame().T.iloc[0], color='green')\n",
    "plt.gca().set_title (r'Mean Absolute Elementary Effect', fontsize = 15)\n",
    "plt.gca().set_ylabel(r'VARS-ABE', fontsize = 13)\n",
    "plt.gca().set_xlabel(r'Model Parameter', fontsize=13)\n",
    "plt.gca().grid()\n",
    "plt.gca().set_yscale('linear')\n",
    "\n",
    "fig_bar = plt.figure(figsize=(10,5))\n",
    "plt.gca().bar(cols, experiment_1.mee.to_frame().unstack(level=0).loc[delta_of_interest].to_frame().T.iloc[0], color='lightgreen')\n",
    "plt.gca().set_title (r'Mean Actual Elementary Effect ', fontsize = 15)\n",
    "plt.gca().set_ylabel(r'VARS-ACE', fontsize = 13)\n",
    "plt.gca().set_xlabel(r'Model Parameter', fontsize=13)\n",
    "plt.gca().grid()\n",
    "plt.gca().set_yscale('linear')"
   ]
  },
  {
   "cell_type": "code",
   "execution_count": 39,
   "id": "ba1831bc",
   "metadata": {},
   "outputs": [
    {
     "data": {
      "image/png": "[encoded data removed]",
      "text/plain": [
       "<Figure size 720x360 with 1 Axes>"
      ]
     },
     "metadata": {
      "needs_background": "light"
     },
     "output_type": "display_data"
    },
    {
     "data": {
      "image/png": "[encoded data removed]",
      "text/plain": [
       "<Figure size 720x360 with 1 Axes>"
      ]
     },
     "metadata": {
      "needs_background": "light"
     },
     "output_type": "display_data"
    }
   ],
   "source": [
    "# Plot VARS-ACE and  VARS-ABE from Experiment 2\n",
    "cols = experiment_2.parameters.keys()                     \n",
    "fig_bar = plt.figure(figsize=(10,5))\n",
    "plt.gca().bar(cols, experiment_2.maee.to_frame().unstack(level=0).loc[delta_of_interest].to_frame().T.iloc[0], color='green')\n",
    "plt.gca().set_title (r'Mean Absolute Elementary Effect', fontsize = 15)\n",
    "plt.gca().set_ylabel(r'VARS-ABE', fontsize = 13)\n",
    "plt.gca().set_xlabel(r'Model Parameter', fontsize=13)\n",
    "plt.gca().grid()\n",
    "plt.gca().set_yscale('linear')\n",
    "\n",
    "fig_bar = plt.figure(figsize=(10,5))\n",
    "plt.gca().bar(cols, experiment_2.mee.to_frame().unstack(level=0).loc[delta_of_interest].to_frame().T.iloc[0], color='lightgreen')\n",
    "plt.gca().set_title (r'Mean Actual Elementary Effect ', fontsize = 15)\n",
    "plt.gca().set_ylabel(r'VARS-ACE', fontsize = 13)\n",
    "plt.gca().set_xlabel(r'Model Parameter', fontsize=13)\n",
    "plt.gca().grid()\n",
    "plt.gca().set_yscale('linear')"
   ]
  },
  {
   "cell_type": "code",
   "execution_count": 40,
   "id": "cd53b351",
   "metadata": {},
   "outputs": [
    {
     "data": {
      "image/png": "[encoded data removed]",
      "text/plain": [
       "<Figure size 720x360 with 1 Axes>"
      ]
     },
     "metadata": {
      "needs_background": "light"
     },
     "output_type": "display_data"
    },
    {
     "data": {
      "image/png": "[encoded data removed]",
      "text/plain": [
       "<Figure size 720x360 with 1 Axes>"
      ]
     },
     "metadata": {
      "needs_background": "light"
     },
     "output_type": "display_data"
    }
   ],
   "source": [
    "# Plot VARS-ACE and  VARS-ABE from Experiment 3\n",
    "cols = experiment_3.parameters.keys()                     \n",
    "fig_bar = plt.figure(figsize=(10,5))\n",
    "plt.gca().bar(cols, experiment_3.maee.to_frame().unstack(level=0).loc[delta_of_interest].to_frame().T.iloc[0], color='green')\n",
    "plt.gca().set_title (r'Mean Absolute Elementary Effect', fontsize = 15)\n",
    "plt.gca().set_ylabel(r'VARS-ABE', fontsize = 13)\n",
    "plt.gca().set_xlabel(r'Model Parameter', fontsize=13)\n",
    "plt.gca().grid()\n",
    "plt.gca().set_yscale('linear')\n",
    "\n",
    "fig_bar = plt.figure(figsize=(10,5))\n",
    "plt.gca().bar(cols, experiment_3.mee.to_frame().unstack(level=0).loc[delta_of_interest].to_frame().T.iloc[0], color='lightgreen')\n",
    "plt.gca().set_title (r'Mean Actual Elementary Effect ', fontsize = 15)\n",
    "plt.gca().set_ylabel(r'VARS-ACE', fontsize = 13)\n",
    "plt.gca().set_xlabel(r'Model Parameter', fontsize=13)\n",
    "plt.gca().grid()\n",
    "plt.gca().set_yscale('linear')"
   ]
  },
  {
   "cell_type": "code",
   "execution_count": 41,
   "id": "d614ef24",
   "metadata": {},
   "outputs": [
    {
     "data": {
      "image/png": "[encoded data removed]",
      "text/plain": [
       "<Figure size 720x360 with 1 Axes>"
      ]
     },
     "metadata": {
      "needs_background": "light"
     },
     "output_type": "display_data"
    },
    {
     "data": {
      "image/png": "[encoded data removed]",
      "text/plain": [
       "<Figure size 720x360 with 1 Axes>"
      ]
     },
     "metadata": {
      "needs_background": "light"
     },
     "output_type": "display_data"
    }
   ],
   "source": [
    "# Plot VARS-ACE and  VARS-ABE from Experiment 4\n",
    "cols = experiment_4.parameters.keys()                     \n",
    "fig_bar = plt.figure(figsize=(10,5))\n",
    "plt.gca().bar(cols, experiment_4.maee.to_frame().unstack(level=0).loc[delta_of_interest].to_frame().T.iloc[0], color='green')\n",
    "plt.gca().set_title (r'Mean Absolute Elementary Effect', fontsize = 15)\n",
    "plt.gca().set_ylabel(r'VARS-ABE', fontsize = 13)\n",
    "plt.gca().set_xlabel(r'Model Parameter', fontsize=13)\n",
    "plt.gca().grid()\n",
    "plt.gca().set_yscale('linear')\n",
    "\n",
    "fig_bar = plt.figure(figsize=(10,5))\n",
    "plt.gca().bar(cols, experiment_4.mee.to_frame().unstack(level=0).loc[delta_of_interest].to_frame().T.iloc[0], color='lightgreen')\n",
    "plt.gca().set_title (r'Mean Actual Elementary Effect ', fontsize = 15)\n",
    "plt.gca().set_ylabel(r'VARS-ACE', fontsize = 13)\n",
    "plt.gca().set_xlabel(r'Model Parameter', fontsize=13)\n",
    "plt.gca().grid()\n",
    "plt.gca().set_yscale('linear')"
   ]
  },
  {
   "cell_type": "markdown",
   "id": "42752927-ab23-45a3-b6fb-401316362d54",
   "metadata": {},
   "source": [
    "As you may notice the derivate based approaches give us different results as the previous approaches (IVARS-50 and Sobol Total-Order Effect) were based on variograms and variance which are related to eachother. This gives us another perspective on the determination of different variable sensitivities."
   ]
  },
  {
   "cell_type": "markdown",
   "id": "1e57237c",
   "metadata": {},
   "source": [
    "**Directional Variograms - γ(h)** \n",
    "\n",
    "For advanced users of VARS, directional variograms may provide a wealth of information about the structure of the model response surface.\n",
    "\n",
    "    POINT: Variograms are most meaningful when h (perturbation scale) is between zero and 0.5 of the parameter ranges, but the user can investigate the entire perturbation range (0 – 1).\n",
    "    \n",
    " Below, print the directional variograms and then plot them."
   ]
  },
  {
   "cell_type": "code",
   "execution_count": 42,
   "id": "53802da5",
   "metadata": {},
   "outputs": [
    {
     "data": {
      "text/html": [
       "<div>\n",
       "<style scoped>\n",
       "    .dataframe tbody tr th:only-of-type {\n",
       "        vertical-align: middle;\n",
       "    }\n",
       "\n",
       "    .dataframe tbody tr th {\n",
       "        vertical-align: top;\n",
       "    }\n",
       "\n",
       "    .dataframe thead th {\n",
       "        text-align: right;\n",
       "    }\n",
       "</style>\n",
       "<table border=\"1\" class=\"dataframe\">\n",
       "  <thead>\n",
       "    <tr style=\"text-align: right;\">\n",
       "      <th>param</th>\n",
       "      <th>x1</th>\n",
       "      <th>x2</th>\n",
       "      <th>x3</th>\n",
       "    </tr>\n",
       "    <tr>\n",
       "      <th>h</th>\n",
       "      <th></th>\n",
       "      <th></th>\n",
       "      <th></th>\n",
       "    </tr>\n",
       "  </thead>\n",
       "  <tbody>\n",
       "    <tr>\n",
       "      <th>0.1</th>\n",
       "      <td>1.321946</td>\n",
       "      <td>4.583958</td>\n",
       "      <td>1.198033</td>\n",
       "    </tr>\n",
       "    <tr>\n",
       "      <th>0.2</th>\n",
       "      <td>4.327951</td>\n",
       "      <td>11.717131</td>\n",
       "      <td>2.707489</td>\n",
       "    </tr>\n",
       "    <tr>\n",
       "      <th>0.3</th>\n",
       "      <td>7.929312</td>\n",
       "      <td>10.343483</td>\n",
       "      <td>3.681246</td>\n",
       "    </tr>\n",
       "    <tr>\n",
       "      <th>0.4</th>\n",
       "      <td>11.811035</td>\n",
       "      <td>3.713339</td>\n",
       "      <td>4.409495</td>\n",
       "    </tr>\n",
       "    <tr>\n",
       "      <th>0.5</th>\n",
       "      <td>15.484467</td>\n",
       "      <td>0.000031</td>\n",
       "      <td>5.231978</td>\n",
       "    </tr>\n",
       "    <tr>\n",
       "      <th>0.6</th>\n",
       "      <td>17.298034</td>\n",
       "      <td>5.005346</td>\n",
       "      <td>6.158166</td>\n",
       "    </tr>\n",
       "    <tr>\n",
       "      <th>0.7</th>\n",
       "      <td>15.280678</td>\n",
       "      <td>12.780560</td>\n",
       "      <td>6.683289</td>\n",
       "    </tr>\n",
       "    <tr>\n",
       "      <th>0.8</th>\n",
       "      <td>9.436998</td>\n",
       "      <td>8.504503</td>\n",
       "      <td>5.823492</td>\n",
       "    </tr>\n",
       "    <tr>\n",
       "      <th>0.9</th>\n",
       "      <td>2.888904</td>\n",
       "      <td>1.045638</td>\n",
       "      <td>2.928771</td>\n",
       "    </tr>\n",
       "  </tbody>\n",
       "</table>\n",
       "</div>"
      ],
      "text/plain": [
       "param         x1         x2        x3\n",
       "h                                    \n",
       "0.1     1.321946   4.583958  1.198033\n",
       "0.2     4.327951  11.717131  2.707489\n",
       "0.3     7.929312  10.343483  3.681246\n",
       "0.4    11.811035   3.713339  4.409495\n",
       "0.5    15.484467   0.000031  5.231978\n",
       "0.6    17.298034   5.005346  6.158166\n",
       "0.7    15.280678  12.780560  6.683289\n",
       "0.8     9.436998   8.504503  5.823492\n",
       "0.9     2.888904   1.045638  2.928771"
      ]
     },
     "execution_count": 42,
     "metadata": {},
     "output_type": "execute_result"
    }
   ],
   "source": [
    "# Directional Variograms from Experiment 1\n",
    "cols = experiment_1.parameters.keys()\n",
    "variograms1 = experiment_1.gamma.unstack(0)[cols].copy()\n",
    "variograms1"
   ]
  },
  {
   "cell_type": "code",
   "execution_count": 11,
   "id": "501d1a57",
   "metadata": {},
   "outputs": [
    {
     "data": {
      "text/html": [
       "<div>\n",
       "<style scoped>\n",
       "    .dataframe tbody tr th:only-of-type {\n",
       "        vertical-align: middle;\n",
       "    }\n",
       "\n",
       "    .dataframe tbody tr th {\n",
       "        vertical-align: top;\n",
       "    }\n",
       "\n",
       "    .dataframe thead th {\n",
       "        text-align: right;\n",
       "    }\n",
       "</style>\n",
       "<table border=\"1\" class=\"dataframe\">\n",
       "  <thead>\n",
       "    <tr style=\"text-align: right;\">\n",
       "      <th>param</th>\n",
       "      <th>x1</th>\n",
       "      <th>x2</th>\n",
       "      <th>x3</th>\n",
       "    </tr>\n",
       "    <tr>\n",
       "      <th>h</th>\n",
       "      <th></th>\n",
       "      <th></th>\n",
       "      <th></th>\n",
       "    </tr>\n",
       "  </thead>\n",
       "  <tbody>\n",
       "    <tr>\n",
       "      <th>0.025</th>\n",
       "      <td>0.127665</td>\n",
       "      <td>0.439353</td>\n",
       "      <td>0.109752</td>\n",
       "    </tr>\n",
       "    <tr>\n",
       "      <th>0.100</th>\n",
       "      <td>1.077041</td>\n",
       "      <td>4.693541</td>\n",
       "      <td>1.108604</td>\n",
       "    </tr>\n",
       "    <tr>\n",
       "      <th>0.200</th>\n",
       "      <td>4.303853</td>\n",
       "      <td>11.353511</td>\n",
       "      <td>2.278390</td>\n",
       "    </tr>\n",
       "    <tr>\n",
       "      <th>0.300</th>\n",
       "      <td>8.420409</td>\n",
       "      <td>10.657411</td>\n",
       "      <td>3.213099</td>\n",
       "    </tr>\n",
       "    <tr>\n",
       "      <th>0.400</th>\n",
       "      <td>12.858829</td>\n",
       "      <td>3.798086</td>\n",
       "      <td>3.903487</td>\n",
       "    </tr>\n",
       "    <tr>\n",
       "      <th>0.500</th>\n",
       "      <td>17.559712</td>\n",
       "      <td>0.328512</td>\n",
       "      <td>4.820513</td>\n",
       "    </tr>\n",
       "    <tr>\n",
       "      <th>0.600</th>\n",
       "      <td>17.929808</td>\n",
       "      <td>5.219234</td>\n",
       "      <td>5.859016</td>\n",
       "    </tr>\n",
       "    <tr>\n",
       "      <th>0.700</th>\n",
       "      <td>14.879516</td>\n",
       "      <td>10.929115</td>\n",
       "      <td>7.485004</td>\n",
       "    </tr>\n",
       "    <tr>\n",
       "      <th>0.800</th>\n",
       "      <td>11.098217</td>\n",
       "      <td>8.055513</td>\n",
       "      <td>5.176442</td>\n",
       "    </tr>\n",
       "    <tr>\n",
       "      <th>0.900</th>\n",
       "      <td>2.297220</td>\n",
       "      <td>1.737782</td>\n",
       "      <td>3.395131</td>\n",
       "    </tr>\n",
       "  </tbody>\n",
       "</table>\n",
       "</div>"
      ],
      "text/plain": [
       "param         x1         x2        x3\n",
       "h                                    \n",
       "0.025   0.127665   0.439353  0.109752\n",
       "0.100   1.077041   4.693541  1.108604\n",
       "0.200   4.303853  11.353511  2.278390\n",
       "0.300   8.420409  10.657411  3.213099\n",
       "0.400  12.858829   3.798086  3.903487\n",
       "0.500  17.559712   0.328512  4.820513\n",
       "0.600  17.929808   5.219234  5.859016\n",
       "0.700  14.879516  10.929115  7.485004\n",
       "0.800  11.098217   8.055513  5.176442\n",
       "0.900   2.297220   1.737782  3.395131"
      ]
     },
     "execution_count": 11,
     "metadata": {},
     "output_type": "execute_result"
    }
   ],
   "source": [
    "# Directional Variograms from Experiment 2\n",
    "cols = experiment_2.parameters.keys()                     \n",
    "variograms2 = experiment_2.gamma.unstack(0)[cols].copy()\n",
    "variograms2"
   ]
  },
  {
   "cell_type": "code",
   "execution_count": 44,
   "id": "7e3476f5",
   "metadata": {},
   "outputs": [
    {
     "data": {
      "text/html": [
       "<div>\n",
       "<style scoped>\n",
       "    .dataframe tbody tr th:only-of-type {\n",
       "        vertical-align: middle;\n",
       "    }\n",
       "\n",
       "    .dataframe tbody tr th {\n",
       "        vertical-align: top;\n",
       "    }\n",
       "\n",
       "    .dataframe thead th {\n",
       "        text-align: right;\n",
       "    }\n",
       "</style>\n",
       "<table border=\"1\" class=\"dataframe\">\n",
       "  <thead>\n",
       "    <tr style=\"text-align: right;\">\n",
       "      <th>param</th>\n",
       "      <th>x1</th>\n",
       "      <th>x2</th>\n",
       "      <th>x3</th>\n",
       "    </tr>\n",
       "    <tr>\n",
       "      <th>h</th>\n",
       "      <th></th>\n",
       "      <th></th>\n",
       "      <th></th>\n",
       "    </tr>\n",
       "  </thead>\n",
       "  <tbody>\n",
       "    <tr>\n",
       "      <th>0.025</th>\n",
       "      <td>0.210594</td>\n",
       "      <td>0.439353</td>\n",
       "      <td>0.074636</td>\n",
       "    </tr>\n",
       "    <tr>\n",
       "      <th>0.100</th>\n",
       "      <td>1.641278</td>\n",
       "      <td>4.693541</td>\n",
       "      <td>0.859809</td>\n",
       "    </tr>\n",
       "    <tr>\n",
       "      <th>0.200</th>\n",
       "      <td>1.873787</td>\n",
       "      <td>11.353511</td>\n",
       "      <td>1.994020</td>\n",
       "    </tr>\n",
       "    <tr>\n",
       "      <th>0.300</th>\n",
       "      <td>1.755729</td>\n",
       "      <td>10.657411</td>\n",
       "      <td>2.547513</td>\n",
       "    </tr>\n",
       "    <tr>\n",
       "      <th>0.400</th>\n",
       "      <td>2.407504</td>\n",
       "      <td>3.798086</td>\n",
       "      <td>3.785256</td>\n",
       "    </tr>\n",
       "    <tr>\n",
       "      <th>0.500</th>\n",
       "      <td>2.993544</td>\n",
       "      <td>0.328512</td>\n",
       "      <td>2.185528</td>\n",
       "    </tr>\n",
       "    <tr>\n",
       "      <th>0.600</th>\n",
       "      <td>3.639755</td>\n",
       "      <td>5.219234</td>\n",
       "      <td>4.286188</td>\n",
       "    </tr>\n",
       "    <tr>\n",
       "      <th>0.700</th>\n",
       "      <td>2.056716</td>\n",
       "      <td>10.929115</td>\n",
       "      <td>8.217150</td>\n",
       "    </tr>\n",
       "    <tr>\n",
       "      <th>0.800</th>\n",
       "      <td>0.924018</td>\n",
       "      <td>8.055513</td>\n",
       "      <td>2.247488</td>\n",
       "    </tr>\n",
       "    <tr>\n",
       "      <th>0.900</th>\n",
       "      <td>0.278397</td>\n",
       "      <td>1.737782</td>\n",
       "      <td>NaN</td>\n",
       "    </tr>\n",
       "  </tbody>\n",
       "</table>\n",
       "</div>"
      ],
      "text/plain": [
       "param        x1         x2        x3\n",
       "h                                   \n",
       "0.025  0.210594   0.439353  0.074636\n",
       "0.100  1.641278   4.693541  0.859809\n",
       "0.200  1.873787  11.353511  1.994020\n",
       "0.300  1.755729  10.657411  2.547513\n",
       "0.400  2.407504   3.798086  3.785256\n",
       "0.500  2.993544   0.328512  2.185528\n",
       "0.600  3.639755   5.219234  4.286188\n",
       "0.700  2.056716  10.929115  8.217150\n",
       "0.800  0.924018   8.055513  2.247488\n",
       "0.900  0.278397   1.737782       NaN"
      ]
     },
     "execution_count": 44,
     "metadata": {},
     "output_type": "execute_result"
    }
   ],
   "source": [
    "# Directional Variograms from Experiment 3\n",
    "cols = experiment_3.parameters.keys()                     \n",
    "variograms3 = experiment_3.gamma.unstack(0)[cols].copy()\n",
    "variograms3"
   ]
  },
  {
   "cell_type": "code",
   "execution_count": 45,
   "id": "6d9d8232",
   "metadata": {},
   "outputs": [
    {
     "data": {
      "text/html": [
       "<div>\n",
       "<style scoped>\n",
       "    .dataframe tbody tr th:only-of-type {\n",
       "        vertical-align: middle;\n",
       "    }\n",
       "\n",
       "    .dataframe tbody tr th {\n",
       "        vertical-align: top;\n",
       "    }\n",
       "\n",
       "    .dataframe thead th {\n",
       "        text-align: right;\n",
       "    }\n",
       "</style>\n",
       "<table border=\"1\" class=\"dataframe\">\n",
       "  <thead>\n",
       "    <tr style=\"text-align: right;\">\n",
       "      <th>param</th>\n",
       "      <th>x1</th>\n",
       "      <th>x2</th>\n",
       "      <th>x3</th>\n",
       "    </tr>\n",
       "    <tr>\n",
       "      <th>h</th>\n",
       "      <th></th>\n",
       "      <th></th>\n",
       "      <th></th>\n",
       "    </tr>\n",
       "  </thead>\n",
       "  <tbody>\n",
       "    <tr>\n",
       "      <th>0.025</th>\n",
       "      <td>0.226043</td>\n",
       "      <td>0.351338</td>\n",
       "      <td>0.172366</td>\n",
       "    </tr>\n",
       "    <tr>\n",
       "      <th>0.100</th>\n",
       "      <td>1.646757</td>\n",
       "      <td>3.644960</td>\n",
       "      <td>1.363654</td>\n",
       "    </tr>\n",
       "    <tr>\n",
       "      <th>0.200</th>\n",
       "      <td>2.779852</td>\n",
       "      <td>10.163205</td>\n",
       "      <td>2.466960</td>\n",
       "    </tr>\n",
       "    <tr>\n",
       "      <th>0.300</th>\n",
       "      <td>3.300956</td>\n",
       "      <td>11.216990</td>\n",
       "      <td>2.463565</td>\n",
       "    </tr>\n",
       "    <tr>\n",
       "      <th>0.400</th>\n",
       "      <td>3.947246</td>\n",
       "      <td>5.689682</td>\n",
       "      <td>3.343618</td>\n",
       "    </tr>\n",
       "    <tr>\n",
       "      <th>0.500</th>\n",
       "      <td>5.527619</td>\n",
       "      <td>0.778955</td>\n",
       "      <td>2.748163</td>\n",
       "    </tr>\n",
       "    <tr>\n",
       "      <th>0.600</th>\n",
       "      <td>6.403685</td>\n",
       "      <td>1.900912</td>\n",
       "      <td>2.830517</td>\n",
       "    </tr>\n",
       "    <tr>\n",
       "      <th>0.700</th>\n",
       "      <td>2.433181</td>\n",
       "      <td>8.012699</td>\n",
       "      <td>1.798220</td>\n",
       "    </tr>\n",
       "    <tr>\n",
       "      <th>0.800</th>\n",
       "      <td>1.148772</td>\n",
       "      <td>12.090187</td>\n",
       "      <td>6.681910</td>\n",
       "    </tr>\n",
       "    <tr>\n",
       "      <th>0.900</th>\n",
       "      <td>0.462365</td>\n",
       "      <td>NaN</td>\n",
       "      <td>NaN</td>\n",
       "    </tr>\n",
       "  </tbody>\n",
       "</table>\n",
       "</div>"
      ],
      "text/plain": [
       "param        x1         x2        x3\n",
       "h                                   \n",
       "0.025  0.226043   0.351338  0.172366\n",
       "0.100  1.646757   3.644960  1.363654\n",
       "0.200  2.779852  10.163205  2.466960\n",
       "0.300  3.300956  11.216990  2.463565\n",
       "0.400  3.947246   5.689682  3.343618\n",
       "0.500  5.527619   0.778955  2.748163\n",
       "0.600  6.403685   1.900912  2.830517\n",
       "0.700  2.433181   8.012699  1.798220\n",
       "0.800  1.148772  12.090187  6.681910\n",
       "0.900  0.462365        NaN       NaN"
      ]
     },
     "execution_count": 45,
     "metadata": {},
     "output_type": "execute_result"
    }
   ],
   "source": [
    "# Directional Variograms from Experiment 4\n",
    "cols = experiment_4.parameters.keys()                     \n",
    "variograms4 = experiment_4.gamma.unstack(0)[cols].copy()\n",
    "variograms4"
   ]
  },
  {
   "cell_type": "code",
   "execution_count": 46,
   "id": "b85b357a",
   "metadata": {},
   "outputs": [
    {
     "data": {
      "image/png": "[encoded data removed]",
      "text/plain": [
       "<Figure size 720x360 with 1 Axes>"
      ]
     },
     "metadata": {
      "needs_background": "light"
     },
     "output_type": "display_data"
    },
    {
     "data": {
      "image/png": "[encoded data removed]",
      "text/plain": [
       "<Figure size 720x360 with 1 Axes>"
      ]
     },
     "metadata": {
      "needs_background": "light"
     },
     "output_type": "display_data"
    }
   ],
   "source": [
    "# Plot Directional Variograms from Experiment 1\n",
    "\n",
    "plotting_scale = 0.5 # any number between delta_h and one.\n",
    "\n",
    "matrix_y = variograms1.loc[variograms1.index <= plotting_scale].to_numpy()\n",
    "column_x = variograms1.loc[variograms1.index <= plotting_scale].index.to_numpy()\n",
    "matrix_x = np.tile(column_x, (matrix_y.shape[1], 1)).T\n",
    "\n",
    "fig_cdf = plt.figure(figsize=(10,5))\n",
    "plt.gca().plot(matrix_x, matrix_y )\n",
    "plt.gca().set_title (r'Directional Variogram', fontsize = 15)\n",
    "plt.gca().set_ylabel(r'$γ(h)$', fontsize = 13)\n",
    "plt.gca().set_xlabel(r'$h$ (perturbation scale)', fontsize=13)\n",
    "plt.gca().set_yscale('linear')\n",
    "plt.gca().legend (cols, loc='upper left', fontsize = 10)\n",
    "plt.gca().grid()\n",
    "\n",
    "fig_cdf = plt.figure(figsize=(10,5))\n",
    "plt.gca().plot(matrix_x, matrix_y )\n",
    "plt.gca().set_title (r'Directional Variogram $[log-scale]$', fontsize = 15)\n",
    "plt.gca().set_ylabel(r'$γ(h)$', fontsize = 13)\n",
    "plt.gca().set_xlabel(r'$h$ (perturbation scale)', fontsize=13)\n",
    "plt.gca().set_yscale('log')\n",
    "plt.gca().legend (cols, loc='lower right', fontsize = 10)\n",
    "plt.gca().grid()"
   ]
  },
  {
   "cell_type": "code",
   "execution_count": 12,
   "id": "f06f97fc",
   "metadata": {},
   "outputs": [
    {
     "data": {
      "image/png": "[encoded data removed]",
      "text/plain": [
       "<Figure size 720x360 with 1 Axes>"
      ]
     },
     "metadata": {
      "needs_background": "light"
     },
     "output_type": "display_data"
    },
    {
     "data": {
      "image/png": "[encoded data removed]",
      "text/plain": [
       "<Figure size 720x360 with 1 Axes>"
      ]
     },
     "metadata": {
      "needs_background": "light"
     },
     "output_type": "display_data"
    }
   ],
   "source": [
    "# Plot Directional Variograms from Experiment 2\n",
    "\n",
    "plotting_scale = 0.5 # any number between delta_h and one.\n",
    "\n",
    "matrix_y = variograms2.loc[variograms2.index <= plotting_scale].to_numpy()\n",
    "column_x = variograms2.loc[variograms2.index <= plotting_scale].index.to_numpy()\n",
    "matrix_x = np.tile(column_x, (matrix_y.shape[1], 1)).T\n",
    "\n",
    "fig_cdf = plt.figure(figsize=(10,5))\n",
    "plt.gca().plot(matrix_x, matrix_y )\n",
    "plt.gca().set_title (r'Directional Variogram', fontsize = 15)\n",
    "plt.gca().set_ylabel(r'$γ(h)$', fontsize = 13)\n",
    "plt.gca().set_xlabel(r'$h$ (perturbation scale)', fontsize=13)\n",
    "plt.gca().set_yscale('linear')\n",
    "plt.gca().legend (cols, loc='upper left', fontsize = 10)\n",
    "plt.gca().grid()\n",
    "\n",
    "fig_cdf = plt.figure(figsize=(10,5))\n",
    "plt.gca().plot(matrix_x, matrix_y )\n",
    "plt.gca().set_title (r'Directional Variogram $[log-scale]$', fontsize = 15)\n",
    "plt.gca().set_ylabel(r'$γ(h)$', fontsize = 13)\n",
    "plt.gca().set_xlabel(r'$h$ (perturbation scale)', fontsize=13)\n",
    "plt.gca().set_yscale('log')\n",
    "plt.gca().legend (cols, loc='lower right', fontsize = 10)\n",
    "plt.gca().grid()"
   ]
  },
  {
   "cell_type": "code",
   "execution_count": 48,
   "id": "7622fe11",
   "metadata": {},
   "outputs": [
    {
     "data": {
      "image/png": "[encoded data removed]",
      "text/plain": [
       "<Figure size 720x360 with 1 Axes>"
      ]
     },
     "metadata": {
      "needs_background": "light"
     },
     "output_type": "display_data"
    },
    {
     "data": {
      "image/png": "[encoded data removed]",
      "text/plain": [
       "<Figure size 720x360 with 1 Axes>"
      ]
     },
     "metadata": {
      "needs_background": "light"
     },
     "output_type": "display_data"
    }
   ],
   "source": [
    "# Plot Directional Variograms from Experiment 3\n",
    "\n",
    "plotting_scale = 0.5 # any number between delta_h and one.\n",
    "\n",
    "matrix_y = variograms3.loc[variograms3.index <= plotting_scale].to_numpy()\n",
    "column_x = variograms3.loc[variograms3.index <= plotting_scale].index.to_numpy()\n",
    "matrix_x = np.tile(column_x, (matrix_y.shape[1], 1)).T\n",
    "\n",
    "fig_cdf = plt.figure(figsize=(10,5))\n",
    "plt.gca().plot(matrix_x, matrix_y )\n",
    "plt.gca().set_title (r'Directional Variogram', fontsize = 15)\n",
    "plt.gca().set_ylabel(r'$γ(h)$', fontsize = 13)\n",
    "plt.gca().set_xlabel(r'$h$ (perturbation scale)', fontsize=13)\n",
    "plt.gca().set_yscale('linear')\n",
    "plt.gca().legend (cols, loc='upper left', fontsize = 10)\n",
    "plt.gca().grid()\n",
    "\n",
    "fig_cdf = plt.figure(figsize=(10,5))\n",
    "plt.gca().plot(matrix_x, matrix_y )\n",
    "plt.gca().set_title (r'Directional Variogram $[log-scale]$', fontsize = 15)\n",
    "plt.gca().set_ylabel(r'$γ(h)$', fontsize = 13)\n",
    "plt.gca().set_xlabel(r'$h$ (perturbation scale)', fontsize=13)\n",
    "plt.gca().set_yscale('log')\n",
    "plt.gca().legend (cols, loc='lower right', fontsize = 10)\n",
    "plt.gca().grid()"
   ]
  },
  {
   "cell_type": "code",
   "execution_count": 49,
   "id": "c4fea80f",
   "metadata": {},
   "outputs": [
    {
     "data": {
      "image/png": "[encoded data removed]",
      "text/plain": [
       "<Figure size 720x360 with 1 Axes>"
      ]
     },
     "metadata": {
      "needs_background": "light"
     },
     "output_type": "display_data"
    },
    {
     "data": {
      "image/png": "[encoded data removed]",
      "text/plain": [
       "<Figure size 720x360 with 1 Axes>"
      ]
     },
     "metadata": {
      "needs_background": "light"
     },
     "output_type": "display_data"
    }
   ],
   "source": [
    "# Plot Directional Variograms from Experiment 4\n",
    "\n",
    "plotting_scale = 0.5 # any number between delta_h and one.\n",
    "\n",
    "matrix_y = variograms4.loc[variograms4.index <= plotting_scale].to_numpy()\n",
    "column_x = variograms4.loc[variograms4.index <= plotting_scale].index.to_numpy()\n",
    "matrix_x = np.tile(column_x, (matrix_y.shape[1], 1)).T\n",
    "\n",
    "fig_cdf = plt.figure(figsize=(10,5))\n",
    "plt.gca().plot(matrix_x, matrix_y )\n",
    "plt.gca().set_title (r'Directional Variogram', fontsize = 15)\n",
    "plt.gca().set_ylabel(r'$γ(h)$', fontsize = 13)\n",
    "plt.gca().set_xlabel(r'$h$ (perturbation scale)', fontsize=13)\n",
    "plt.gca().set_yscale('linear')\n",
    "plt.gca().legend (cols, loc='upper left', fontsize = 10)\n",
    "plt.gca().grid()\n",
    "\n",
    "fig_cdf = plt.figure(figsize=(10,5))\n",
    "plt.gca().plot(matrix_x, matrix_y )\n",
    "plt.gca().set_title (r'Directional Variogram $[log-scale]$', fontsize = 15)\n",
    "plt.gca().set_ylabel(r'$γ(h)$', fontsize = 13)\n",
    "plt.gca().set_xlabel(r'$h$ (perturbation scale)', fontsize=13)\n",
    "plt.gca().set_yscale('log')\n",
    "plt.gca().legend (cols, loc='lower right', fontsize = 10)\n",
    "plt.gca().grid()"
   ]
  },
  {
   "cell_type": "markdown",
   "id": "5e4745bf",
   "metadata": {},
   "source": [
    "**Bootstrap results for assessing the uncertainty and robustness of SA** \n",
    "\n",
    "The user of SA may need to assess the uncertainty around any of the results reported above and their robustness against sampling size and variability. To do so, when setting up the SA experiment above, make sure to turn on the bootstrap_flag, and choose a bootrtap size and confidence interval, like shown bellow.\n",
    "\n",
    "bootstrap_flag = True,\n",
    "\n",
    "bootstrap_size = 1000, (recommended to be greater than 100; the bigger the number the more accurate the estimate)\n",
    "\n",
    "bootstrap_ci   = 0.9, (a confidence interval of 0.9 means that with a likelihood of 90%, the true value is within the intervals generated by bootstrap)"
   ]
  },
  {
   "cell_type": "markdown",
   "id": "48cde6c0",
   "metadata": {},
   "source": [
    "Bootstrap-generated upper and lower bounds:"
   ]
  },
  {
   "cell_type": "code",
   "execution_count": 54,
   "id": "cc81ae12",
   "metadata": {},
   "outputs": [
    {
     "name": "stdout",
     "output_type": "stream",
     "text": [
      "Upper Bounds on IVARS based on bootstrapping\n"
     ]
    },
    {
     "data": {
      "text/html": [
       "<div>\n",
       "<style scoped>\n",
       "    .dataframe tbody tr th:only-of-type {\n",
       "        vertical-align: middle;\n",
       "    }\n",
       "\n",
       "    .dataframe tbody tr th {\n",
       "        vertical-align: top;\n",
       "    }\n",
       "\n",
       "    .dataframe thead th {\n",
       "        text-align: right;\n",
       "    }\n",
       "</style>\n",
       "<table border=\"1\" class=\"dataframe\">\n",
       "  <thead>\n",
       "    <tr style=\"text-align: right;\">\n",
       "      <th></th>\n",
       "      <th>x1</th>\n",
       "      <th>x2</th>\n",
       "      <th>x3</th>\n",
       "    </tr>\n",
       "  </thead>\n",
       "  <tbody>\n",
       "    <tr>\n",
       "      <th>0.1</th>\n",
       "      <td>0.084930</td>\n",
       "      <td>0.229983</td>\n",
       "      <td>0.067050</td>\n",
       "    </tr>\n",
       "    <tr>\n",
       "      <th>0.3</th>\n",
       "      <td>1.234597</td>\n",
       "      <td>2.150043</td>\n",
       "      <td>0.643140</td>\n",
       "    </tr>\n",
       "    <tr>\n",
       "      <th>0.5</th>\n",
       "      <td>4.255406</td>\n",
       "      <td>3.037116</td>\n",
       "      <td>1.634253</td>\n",
       "    </tr>\n",
       "  </tbody>\n",
       "</table>\n",
       "</div>"
      ],
      "text/plain": [
       "           x1        x2        x3\n",
       "0.1  0.084930  0.229983  0.067050\n",
       "0.3  1.234597  2.150043  0.643140\n",
       "0.5  4.255406  3.037116  1.634253"
      ]
     },
     "metadata": {},
     "output_type": "display_data"
    },
    {
     "name": "stdout",
     "output_type": "stream",
     "text": [
      "Lower Bounds on IVARS based on bootstrapping\n"
     ]
    },
    {
     "data": {
      "text/html": [
       "<div>\n",
       "<style scoped>\n",
       "    .dataframe tbody tr th:only-of-type {\n",
       "        vertical-align: middle;\n",
       "    }\n",
       "\n",
       "    .dataframe tbody tr th {\n",
       "        vertical-align: top;\n",
       "    }\n",
       "\n",
       "    .dataframe thead th {\n",
       "        text-align: right;\n",
       "    }\n",
       "</style>\n",
       "<table border=\"1\" class=\"dataframe\">\n",
       "  <thead>\n",
       "    <tr style=\"text-align: right;\">\n",
       "      <th></th>\n",
       "      <th>x1</th>\n",
       "      <th>x2</th>\n",
       "      <th>x3</th>\n",
       "    </tr>\n",
       "  </thead>\n",
       "  <tbody>\n",
       "    <tr>\n",
       "      <th>0.1</th>\n",
       "      <td>0.048386</td>\n",
       "      <td>0.228360</td>\n",
       "      <td>0.052963</td>\n",
       "    </tr>\n",
       "    <tr>\n",
       "      <th>0.3</th>\n",
       "      <td>0.702379</td>\n",
       "      <td>2.144335</td>\n",
       "      <td>0.508507</td>\n",
       "    </tr>\n",
       "    <tr>\n",
       "      <th>0.5</th>\n",
       "      <td>2.423334</td>\n",
       "      <td>3.034554</td>\n",
       "      <td>1.291877</td>\n",
       "    </tr>\n",
       "  </tbody>\n",
       "</table>\n",
       "</div>"
      ],
      "text/plain": [
       "           x1        x2        x3\n",
       "0.1  0.048386  0.228360  0.052963\n",
       "0.3  0.702379  2.144335  0.508507\n",
       "0.5  2.423334  3.034554  1.291877"
      ]
     },
     "metadata": {},
     "output_type": "display_data"
    }
   ],
   "source": [
    "# IVARS from Experiment 1 with bootstrap\n",
    "cols = experiment_1.parameters.keys()\n",
    "print('Upper Bounds on IVARS based on bootstrapping'); display(experiment_1.ivarsub[cols])\n",
    "print('Lower Bounds on IVARS based on bootstrapping'); display(experiment_1.ivarslb[cols])"
   ]
  },
  {
   "cell_type": "code",
   "execution_count": 13,
   "id": "038f4638",
   "metadata": {},
   "outputs": [
    {
     "ename": "AttributeError",
     "evalue": "'VARS' object has no attribute 'factorimportance_plot'",
     "output_type": "error",
     "traceback": [
      "\u001b[1;31m---------------------------------------------------------------------------\u001b[0m",
      "\u001b[1;31mAttributeError\u001b[0m                            Traceback (most recent call last)",
      "\u001b[1;32m<ipython-input-13-79848205dbc7>\u001b[0m in \u001b[0;36m<module>\u001b[1;34m\u001b[0m\n\u001b[0;32m      1\u001b[0m \u001b[1;31m# Plot IVARS50, VARS-TO, and VARS-ABE along with their confidence intervals from Experiment 1\u001b[0m\u001b[1;33m\u001b[0m\u001b[1;33m\u001b[0m\u001b[1;33m\u001b[0m\u001b[0m\n\u001b[1;32m----> 2\u001b[1;33m \u001b[0max\u001b[0m \u001b[1;33m=\u001b[0m\u001b[0mexperiment_1\u001b[0m\u001b[1;33m.\u001b[0m\u001b[0mfactorimportance_plot\u001b[0m\u001b[1;33m(\u001b[0m\u001b[1;33m)\u001b[0m    \u001b[1;31m# [Cordell, could you please update the plot with confidence intervals on all?]\u001b[0m\u001b[1;33m\u001b[0m\u001b[1;33m\u001b[0m\u001b[0m\n\u001b[0m",
      "\u001b[1;31mAttributeError\u001b[0m: 'VARS' object has no attribute 'factorimportance_plot'"
     ]
    }
   ],
   "source": [
    "# Plot IVARS50, VARS-TO, and VARS-ABE along with their confidence intervals from Experiment 1\n",
    "ax =experiment_1.factorimportance_plot()    # [Cordell, could you please update the plot with confidence intervals on all?]"
   ]
  },
  {
   "cell_type": "markdown",
   "id": "a9a83932",
   "metadata": {},
   "source": [
    "Factor rankings and their bootstrap-generated robustness:\n",
    " \n",
    "     () Rank zero indicates the most influential parameter, one the second most influential, etc.\n",
    "     \n",
    "     () The higher the robustness value (also called reliability) the better (maximum one). A robustness of one for a parameter means that parameter received its respective rank in every instance of bootstrap re-samplings (maximum robustness). And, for example, a robustness of 0.7 means the respective rank turned out to be the case in 70% of bootstrap re-samplings.\n",
    "\n"
   ]
  },
  {
   "cell_type": "code",
   "execution_count": 64,
   "id": "b82f62ef",
   "metadata": {},
   "outputs": [
    {
     "name": "stdout",
     "output_type": "stream",
     "text": [
      "Parameter Rankings\n"
     ]
    },
    {
     "data": {
      "text/html": [
       "<div>\n",
       "<style scoped>\n",
       "    .dataframe tbody tr th:only-of-type {\n",
       "        vertical-align: middle;\n",
       "    }\n",
       "\n",
       "    .dataframe tbody tr th {\n",
       "        vertical-align: top;\n",
       "    }\n",
       "\n",
       "    .dataframe thead th {\n",
       "        text-align: right;\n",
       "    }\n",
       "</style>\n",
       "<table border=\"1\" class=\"dataframe\">\n",
       "  <thead>\n",
       "    <tr style=\"text-align: right;\">\n",
       "      <th></th>\n",
       "      <th>x1</th>\n",
       "      <th>x2</th>\n",
       "      <th>x3</th>\n",
       "    </tr>\n",
       "  </thead>\n",
       "  <tbody>\n",
       "    <tr>\n",
       "      <th>0.1</th>\n",
       "      <td>1</td>\n",
       "      <td>0</td>\n",
       "      <td>2</td>\n",
       "    </tr>\n",
       "    <tr>\n",
       "      <th>0.3</th>\n",
       "      <td>1</td>\n",
       "      <td>0</td>\n",
       "      <td>2</td>\n",
       "    </tr>\n",
       "    <tr>\n",
       "      <th>0.5</th>\n",
       "      <td>0</td>\n",
       "      <td>1</td>\n",
       "      <td>2</td>\n",
       "    </tr>\n",
       "  </tbody>\n",
       "</table>\n",
       "</div>"
      ],
      "text/plain": [
       "     x1  x2  x3\n",
       "0.1   1   0   2\n",
       "0.3   1   0   2\n",
       "0.5   0   1   2"
      ]
     },
     "metadata": {},
     "output_type": "display_data"
    },
    {
     "name": "stdout",
     "output_type": "stream",
     "text": [
      "Robustness of Rankings\n"
     ]
    },
    {
     "data": {
      "text/html": [
       "<div>\n",
       "<style scoped>\n",
       "    .dataframe tbody tr th:only-of-type {\n",
       "        vertical-align: middle;\n",
       "    }\n",
       "\n",
       "    .dataframe tbody tr th {\n",
       "        vertical-align: top;\n",
       "    }\n",
       "\n",
       "    .dataframe thead th {\n",
       "        text-align: right;\n",
       "    }\n",
       "</style>\n",
       "<table border=\"1\" class=\"dataframe\">\n",
       "  <thead>\n",
       "    <tr style=\"text-align: right;\">\n",
       "      <th></th>\n",
       "      <th>x1</th>\n",
       "      <th>x2</th>\n",
       "      <th>x3</th>\n",
       "    </tr>\n",
       "  </thead>\n",
       "  <tbody>\n",
       "    <tr>\n",
       "      <th>0.1</th>\n",
       "      <td>0.672</td>\n",
       "      <td>1.000</td>\n",
       "      <td>0.672</td>\n",
       "    </tr>\n",
       "    <tr>\n",
       "      <th>0.3</th>\n",
       "      <td>0.995</td>\n",
       "      <td>1.000</td>\n",
       "      <td>0.995</td>\n",
       "    </tr>\n",
       "    <tr>\n",
       "      <th>0.5</th>\n",
       "      <td>0.662</td>\n",
       "      <td>0.662</td>\n",
       "      <td>1.000</td>\n",
       "    </tr>\n",
       "  </tbody>\n",
       "</table>\n",
       "</div>"
      ],
      "text/plain": [
       "        x1     x2     x3\n",
       "0.1  0.672  1.000  0.672\n",
       "0.3  0.995  1.000  0.995\n",
       "0.5  0.662  0.662  1.000"
      ]
     },
     "metadata": {},
     "output_type": "display_data"
    }
   ],
   "source": [
    "# Rankings and Robustness from Experiment 1\n",
    "cols = experiment_1.parameters.keys()\n",
    "print('Parameter Rankings'); display(experiment_1.ivars_factor_ranking[cols])\n",
    "print('Robustness of Rankings'); display(experiment_1.rel_ivars_factor_ranking[cols])"
   ]
  },
  {
   "cell_type": "markdown",
   "id": "b181e7f5",
   "metadata": {},
   "source": [
    "In the case of high-dimensional problems (models with many inputs), the user may want to group parameters together based on their importance characterized by SA. To do so, when setting up the SA experiment above, make sure to turn on the grouping_flag and choose the number of groups of interest. Also, make sure that the bootstrap_flag is on.\n",
    "\n",
    "grouping_flag  = True, \n",
    "num_grps       = 2, (any number smaller than the number of parameters)"
   ]
  },
  {
   "cell_type": "code",
   "execution_count": 66,
   "id": "542883e1",
   "metadata": {},
   "outputs": [
    {
     "data": {
      "text/html": [
       "<div>\n",
       "<style scoped>\n",
       "    .dataframe tbody tr th:only-of-type {\n",
       "        vertical-align: middle;\n",
       "    }\n",
       "\n",
       "    .dataframe tbody tr th {\n",
       "        vertical-align: top;\n",
       "    }\n",
       "\n",
       "    .dataframe thead th {\n",
       "        text-align: right;\n",
       "    }\n",
       "</style>\n",
       "<table border=\"1\" class=\"dataframe\">\n",
       "  <thead>\n",
       "    <tr style=\"text-align: right;\">\n",
       "      <th></th>\n",
       "      <th>x1</th>\n",
       "      <th>x2</th>\n",
       "      <th>x3</th>\n",
       "    </tr>\n",
       "  </thead>\n",
       "  <tbody>\n",
       "    <tr>\n",
       "      <th>0.5</th>\n",
       "      <td>2</td>\n",
       "      <td>1</td>\n",
       "      <td>2</td>\n",
       "    </tr>\n",
       "  </tbody>\n",
       "</table>\n",
       "</div>"
      ],
      "text/plain": [
       "     x1  x2  x3\n",
       "0.5   2   1   2"
      ]
     },
     "execution_count": 66,
     "metadata": {},
     "output_type": "execute_result"
    }
   ],
   "source": [
    "# Grouping of parameters from Experiment 1\n",
    "cols = experiment_1.parameters.keys()\n",
    "experiment_1.ivars50_grp[cols]"
   ]
  },
  {
   "cell_type": "markdown",
   "id": "1c4c422b",
   "metadata": {},
   "source": [
    "### Delve deeper - Additional information for advanced users\n",
    "\n",
    "The information below are also available to the user, if there is interest in further exploring what is happening under the hood."
   ]
  },
  {
   "cell_type": "markdown",
   "id": "1c640d13",
   "metadata": {},
   "source": [
    "**Cross sections of sample points in the input space**\n",
    "\n",
    "Choose any pair of parameters and see the projection of all star centers and star points onto their two-dimensional space."
   ]
  },
  {
   "cell_type": "code",
   "execution_count": null,
   "id": "0a0f4b5a",
   "metadata": {},
   "outputs": [],
   "source": [
    "names = ['x1', 'x2']; experiment_1.correlation_plot(param_names=names)\n",
    "names = ['x1', 'x3']; experiment_1.correlation_plot(param_names=names)\n",
    "names = ['x2', 'x3']; experiment_1.correlation_plot(param_names=names)"
   ]
  },
  {
   "cell_type": "code",
   "execution_count": null,
   "id": "0398e1fc",
   "metadata": {},
   "outputs": [],
   "source": [
    "experiment_2.correlation_plot(param_names=['x1', 'x2'])\n",
    "experiment_2.correlation_plot(param_names=['x1', 'x3'])\n",
    "experiment_2.correlation_plot(param_names=['x2', 'x3'])"
   ]
  },
  {
   "cell_type": "code",
   "execution_count": null,
   "id": "5e589ed4",
   "metadata": {},
   "outputs": [],
   "source": [
    "experiment_3.correlation_plot(param_names=['x1', 'x2'])\n",
    "experiment_3.correlation_plot(param_names=['x1', 'x3'])\n",
    "experiment_3.correlation_plot(param_names=['x2', 'x3'])"
   ]
  },
  {
   "cell_type": "code",
   "execution_count": null,
   "id": "a3383c25",
   "metadata": {},
   "outputs": [],
   "source": [
    "experiment_4.correlation_plot(param_names=['x1', 'x2'])\n",
    "experiment_4.correlation_plot(param_names=['x1', 'x3'])\n",
    "experiment_4.correlation_plot(param_names=['x2', 'x3'])"
   ]
  },
  {
   "cell_type": "markdown",
   "id": "8d45af6c",
   "metadata": {},
   "source": [
    "**Star centers used in the GVARS experiment**\n",
    "\n",
    "The following dataframe includes all the star centers generated."
   ]
  },
  {
   "cell_type": "code",
   "execution_count": null,
   "id": "74428a3d",
   "metadata": {},
   "outputs": [],
   "source": [
    "# Star centers generated in Experiment 1\n",
    "cols = experiment_1.parameters.keys()\n",
    "pd.DataFrame(data=experiment_1.star_centres, columns=cols)"
   ]
  },
  {
   "cell_type": "code",
   "execution_count": null,
   "id": "12d5ff08",
   "metadata": {},
   "outputs": [],
   "source": [
    "# Star centers generated in Experiment 2\n",
    "cols = experiment_2.parameters.keys()\n",
    "pd.DataFrame(data=experiment_2.star_centres, columns=cols)"
   ]
  },
  {
   "cell_type": "code",
   "execution_count": null,
   "id": "b6ba5a6f",
   "metadata": {},
   "outputs": [],
   "source": [
    "# Star centers generated in Experiment 3\n",
    "cols = experiment_3.parameters.keys()\n",
    "pd.DataFrame(data=experiment_3.star_centres, columns=cols)"
   ]
  },
  {
   "cell_type": "code",
   "execution_count": null,
   "id": "5da19208",
   "metadata": {},
   "outputs": [],
   "source": [
    "# Star centers generated in Experiment 4\n",
    "cols = experiment_4.parameters.keys()\n",
    "pd.DataFrame(data=experiment_4.star_centres, columns=cols)"
   ]
  },
  {
   "cell_type": "markdown",
   "id": "f79103f0",
   "metadata": {},
   "source": [
    "**Star points generated along with respective outputs**\n",
    "\n",
    "The following dataframe includes all the star points generated. For each row, the first column indicates the associated star center, the second column indicates the parameter along which the cross-sectional samples were taken, and the third column indicates the star point numbers along that cross section. The last column indicates the evaluated model response (output) for the input set in each row."
   ]
  },
  {
   "cell_type": "code",
   "execution_count": null,
   "id": "bcccfc0d",
   "metadata": {},
   "outputs": [],
   "source": [
    "# Star points generated in Experiment 1\n",
    "experiment_1.model_df"
   ]
  },
  {
   "cell_type": "code",
   "execution_count": null,
   "id": "4aa1684a",
   "metadata": {},
   "outputs": [],
   "source": [
    "# Star points generated in Experiment 2\n",
    "experiment_2.model_df"
   ]
  },
  {
   "cell_type": "code",
   "execution_count": null,
   "id": "ab033697",
   "metadata": {},
   "outputs": [],
   "source": [
    "# Star points generated in Experiment 3\n",
    "experiment_3.model_df"
   ]
  },
  {
   "cell_type": "code",
   "execution_count": null,
   "id": "5a5563c2",
   "metadata": {},
   "outputs": [],
   "source": [
    "# Star points generated in Experiment 4\n",
    "experiment_4.model_df"
   ]
  },
  {
   "cell_type": "markdown",
   "id": "78d28d9e",
   "metadata": {},
   "source": [
    "**Pairs generated and their associated dissimilarity**\n",
    "\n",
    "The following dataframe includes all the resulting pairs of samples. For each row, the first column indicates the associated star center and the second column indicates the parameter along which the cross-sectional samples were taken.\n",
    "The 'pair_ind' column indicates the ID of sample points in each pair, the 'h' column indicates the binned distance between the two samples in each pair, and the 'actual h' column indicates the exact distance between the two. The columns '0' and '1' shows the outputs [y1 and y2] associated with each sample points in the pair. The 'dissimilarity' column shows 0.5[y1-y2]^2."
   ]
  },
  {
   "cell_type": "code",
   "execution_count": null,
   "id": "861aa754",
   "metadata": {},
   "outputs": [],
   "source": [
    "# all pairs generated in Experiment 1\n",
    "experiment_1.pair_df"
   ]
  },
  {
   "cell_type": "code",
   "execution_count": null,
   "id": "6b22a1e8",
   "metadata": {},
   "outputs": [],
   "source": [
    "# all pairs generated in Experiment 2\n",
    "experiment_2.pair_df"
   ]
  },
  {
   "cell_type": "code",
   "execution_count": null,
   "id": "5e9cf1a1",
   "metadata": {},
   "outputs": [],
   "source": [
    "# all pairs generated in Experiment 3\n",
    "experiment_3.pair_df"
   ]
  },
  {
   "cell_type": "code",
   "execution_count": null,
   "id": "de7004b6",
   "metadata": {},
   "outputs": [],
   "source": [
    "# all pairs generated in Experiment 4\n",
    "experiment_4.pair_df"
   ]
  },
  {
   "cell_type": "markdown",
   "id": "dc03d344",
   "metadata": {},
   "source": [
    "**The fictive correlation matrix**\n",
    "\n",
    "The fictive correlation matrix is a transformation of the original correlation matrix to a normal standard space."
   ]
  },
  {
   "cell_type": "code",
   "execution_count": null,
   "id": "abbf586d",
   "metadata": {},
   "outputs": [],
   "source": [
    "fictive_matrix = experiment_2.cov_mat; cols = experiment_2.parameters.keys()\n",
    "pd.DataFrame(data = fictive_matrix, index = cols, columns = cols).round(decimals=2)"
   ]
  },
  {
   "cell_type": "code",
   "execution_count": null,
   "id": "2715a836",
   "metadata": {},
   "outputs": [],
   "source": [
    "fictive_matrix = experiment_3.cov_mat; cols = experiment_3.parameters.keys()\n",
    "pd.DataFrame(data = fictive_matrix, index = cols, columns = cols).round(decimals=3)"
   ]
  },
  {
   "cell_type": "code",
   "execution_count": null,
   "id": "e9c2ef96",
   "metadata": {},
   "outputs": [],
   "source": [
    "fictive_matrix = experiment_4.cov_mat; cols = experiment_4.parameters.keys()\n",
    "pd.DataFrame(data = fictive_matrix, index = cols, columns = cols).round(decimals=3)"
   ]
  },
  {
   "cell_type": "markdown",
   "id": "ef660a9a",
   "metadata": {},
   "source": [
    "All done!"
   ]
  }
 ],
 "metadata": {
  "kernelspec": {
   "display_name": "Python 3",
   "language": "python",
   "name": "python3"
  },
  "language_info": {
   "codemirror_mode": {
    "name": "ipython",
    "version": 3
   },
   "file_extension": ".py",
   "mimetype": "text/x-python",
   "name": "python",
   "nbconvert_exporter": "python",
   "pygments_lexer": "ipython3",
   "version": "3.8.8"
  }
 },
 "nbformat": 4,
 "nbformat_minor": 5
}
