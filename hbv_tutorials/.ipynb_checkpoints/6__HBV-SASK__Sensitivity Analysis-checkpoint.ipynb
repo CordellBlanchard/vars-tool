{
 "cells": [
  {
   "cell_type": "markdown",
   "metadata": {},
   "source": [
    "# Sensitivity Analysis\n",
    "\n",
    "Notebook developed by Saman Razavi and Kasra Keshavarz\n",
    "\n",
    "### For the VARS method, please cite:\n",
    "\n",
    "Razavi, S., & Gupta, H. V. (2016). A new framework for comprehensive, robust, and efficient global sensitivity analysis: 1. Theory. Water Resources Research, 52(1), 423-439. https://agupubs.onlinelibrary.wiley.com/doi/full/10.1002/2015WR017558\n",
    "\n",
    "Razavi, S., & Gupta, H. V. (2016). A new framework for comprehensive, robust, and efficient global sensitivity analysis: 2. Application. Water Resources Research, 52(1), 440-455. https://agupubs.onlinelibrary.wiley.com/doi/abs/10.1002/2015WR017559\n",
    "\n",
    "\n",
    "### For HBV-SASK, please cite:\n",
    "\n",
    "Razavi, S., Sheikholeslami, R., Gupta, H. V., & Haghnegahdar, A. (2019). VARS-TOOL: A toolbox for comprehensive, efficient, and robust sensitivity and uncertainty analysis. Environmental modelling & software, 112, 95-107. https://www.sciencedirect.com/science/article/pii/S1364815218304766"
   ]
  },
  {
   "cell_type": "markdown",
   "metadata": {},
   "source": [
    "# Exercise 6: Sensitivity Analysis of HBV-SASK\n",
    "### Objective:\n",
    "\n",
    "This notebook runs sensitivity analysis on the HBV-VARS model using the STAR-VARS method and returns VARS sensitivity indices such as total-variogram effects (i.e., IVARS-50), Sobol total-order effects, and Morris elementary effects."
   ]
  },
  {
   "cell_type": "markdown",
   "metadata": {},
   "source": [
    "First import the needed librares, including `VARS` for sensitivity analysis and the `Model` class for creating a wrapper around the desired model so that it can be inputted into VARS."
   ]
  },
  {
   "cell_type": "code",
   "execution_count": 1,
   "metadata": {},
   "outputs": [],
   "source": [
    "import numpy as np\n",
    "import pandas as pd\n",
    "import matplotlib.pyplot as plt\n",
    "\n",
    "from varstool import VARS, Model\n",
    "import hbv"
   ]
  },
  {
   "cell_type": "markdown",
   "metadata": {},
   "source": [
    "### Introduce the model\n",
    "\n",
    "Define the function of interest in sensitivity analysis. Here, the following function runs the HBV-SASK model and returns a **single model response**. The model response here could be a flux or state variable at a given time step or a goodness-of-fit performance metric. "
   ]
  },
  {
   "cell_type": "code",
   "execution_count": 2,
   "metadata": {},
   "outputs": [],
   "source": [
    "def custom_HBV_SASK_1(x):\n",
    "    # preparing the inputs \n",
    "    x.index = ['TT', 'C0', 'ETF', 'LP', 'FC', 'beta', 'FRAC', 'K1', 'alpha', 'K2', 'UBAS', 'PM']\n",
    "    \n",
    "    param = x.to_dict()\n",
    "    # running the HBV-SASK Model\n",
    "    basin = 'Oldman Basin'  # choose the basin of interest, either 'Oldman Basin' or 'Banff Basin'\n",
    "    flux, state, forcing = hbv.HBV_SASK(basin, param)\n",
    "\n",
    "    # choose the model response of interest, two options here: (1) direct model response or (2) performance metric\n",
    "    \n",
    "    # (1) for direct model response at a given time step, use the following\n",
    "#     start_day = end_day = '2005-10-05' # choose the date of interest\n",
    "#     out = flux['Q_cms'][start_day:end_day]\n",
    "    \n",
    "    # (2) for a performance metric over a given historical period, use the following\n",
    "    start_day   ='1982-01-01'  # start date of the period over which the performance metric is computed\n",
    "    end_day     ='1996-12-31'  # end date of the period over which the performance metric is computed\n",
    "    # loading observed streamflow for comparison\n",
    "    Qobs        = hbv.obs_streamflow(basin)\n",
    "    mean_obs    = np.mean(Qobs[start_day:end_day])\n",
    "    denominator = np.mean((Qobs[start_day:end_day] - np.mean(Qobs[start_day:end_day]))**2)\n",
    "    numerator   = np.mean((Qobs[start_day:end_day].values.T - flux['Q_cms'][start_day:end_day].values)**2)\n",
    "    nse         = 1 - numerator/denominator\n",
    "    out         = nse.values[0]\n",
    "    return out"
   ]
  },
  {
   "cell_type": "markdown",
   "metadata": {},
   "source": [
    "Wrap the function of interest with the `Model` class."
   ]
  },
  {
   "cell_type": "code",
   "execution_count": 3,
   "metadata": {},
   "outputs": [],
   "source": [
    "HBV_model = Model(custom_HBV_SASK_1)"
   ]
  },
  {
   "cell_type": "markdown",
   "metadata": {},
   "source": [
    "Let's run the wrapped function for an arbitrary input and check the model response."
   ]
  },
  {
   "cell_type": "code",
   "execution_count": 4,
   "metadata": {},
   "outputs": [
    {
     "ename": "OSError",
     "evalue": "Oldman Basin/initial_condition.inp not found.",
     "output_type": "error",
     "traceback": [
      "\u001b[1;31m---------------------------------------------------------------------------\u001b[0m",
      "\u001b[1;31mOSError\u001b[0m                                   Traceback (most recent call last)",
      "\u001b[1;32m<ipython-input-4-3b2798dbc7c5>\u001b[0m in \u001b[0;36m<module>\u001b[1;34m\u001b[0m\n\u001b[0;32m     13\u001b[0m              \u001b[1;34m'PM'\u001b[0m   \u001b[1;33m:\u001b[0m \u001b[1;36m1.0\u001b[0m \u001b[1;33m,\u001b[0m\u001b[1;33m\u001b[0m\u001b[1;33m\u001b[0m\u001b[0m\n\u001b[0;32m     14\u001b[0m              })\n\u001b[1;32m---> 15\u001b[1;33m \u001b[0mHBV_model\u001b[0m\u001b[1;33m(\u001b[0m\u001b[0mx\u001b[0m\u001b[1;33m)\u001b[0m\u001b[1;33m\u001b[0m\u001b[1;33m\u001b[0m\u001b[0m\n\u001b[0m",
      "\u001b[1;32m~\\Anaconda3\\lib\\site-packages\\varstool\\vars_sa.py\u001b[0m in \u001b[0;36m__call__\u001b[1;34m(self, params, options)\u001b[0m\n\u001b[0;32m    104\u001b[0m             \u001b[0mself\u001b[0m\u001b[1;33m.\u001b[0m\u001b[0munknown_options\u001b[0m \u001b[1;33m=\u001b[0m \u001b[0moptions\u001b[0m\u001b[1;33m\u001b[0m\u001b[1;33m\u001b[0m\u001b[0m\n\u001b[0;32m    105\u001b[0m \u001b[1;33m\u001b[0m\u001b[0m\n\u001b[1;32m--> 106\u001b[1;33m         \u001b[1;32mreturn\u001b[0m \u001b[0mself\u001b[0m\u001b[1;33m.\u001b[0m\u001b[0mfunc\u001b[0m\u001b[1;33m(\u001b[0m\u001b[0mparams\u001b[0m\u001b[1;33m,\u001b[0m \u001b[1;33m**\u001b[0m\u001b[0mself\u001b[0m\u001b[1;33m.\u001b[0m\u001b[0munknown_options\u001b[0m\u001b[1;33m)\u001b[0m\u001b[1;33m\u001b[0m\u001b[1;33m\u001b[0m\u001b[0m\n\u001b[0m\u001b[0;32m    107\u001b[0m \u001b[1;33m\u001b[0m\u001b[0m\n\u001b[0;32m    108\u001b[0m \u001b[1;33m\u001b[0m\u001b[0m\n",
      "\u001b[1;32m<ipython-input-2-41cf3ed464a7>\u001b[0m in \u001b[0;36mcustom_HBV_SASK_1\u001b[1;34m(x)\u001b[0m\n\u001b[0;32m      6\u001b[0m     \u001b[1;31m# running the HBV-SASK Model\u001b[0m\u001b[1;33m\u001b[0m\u001b[1;33m\u001b[0m\u001b[1;33m\u001b[0m\u001b[0m\n\u001b[0;32m      7\u001b[0m     \u001b[0mbasin\u001b[0m \u001b[1;33m=\u001b[0m \u001b[1;34m'Oldman Basin'\u001b[0m  \u001b[1;31m# choose the basin of interest, either 'Oldman Basin' or 'Banff Basin'\u001b[0m\u001b[1;33m\u001b[0m\u001b[1;33m\u001b[0m\u001b[0m\n\u001b[1;32m----> 8\u001b[1;33m     \u001b[0mflux\u001b[0m\u001b[1;33m,\u001b[0m \u001b[0mstate\u001b[0m\u001b[1;33m,\u001b[0m \u001b[0mforcing\u001b[0m \u001b[1;33m=\u001b[0m \u001b[0mhbv\u001b[0m\u001b[1;33m.\u001b[0m\u001b[0mHBV_SASK\u001b[0m\u001b[1;33m(\u001b[0m\u001b[0mbasin\u001b[0m\u001b[1;33m,\u001b[0m \u001b[0mparam\u001b[0m\u001b[1;33m)\u001b[0m\u001b[1;33m\u001b[0m\u001b[1;33m\u001b[0m\u001b[0m\n\u001b[0m\u001b[0;32m      9\u001b[0m \u001b[1;33m\u001b[0m\u001b[0m\n\u001b[0;32m     10\u001b[0m     \u001b[1;31m# choose the model response of interest, two options here: (1) direct model response or (2) performance metric\u001b[0m\u001b[1;33m\u001b[0m\u001b[1;33m\u001b[0m\u001b[1;33m\u001b[0m\u001b[0m\n",
      "\u001b[1;32mC:\\New\\Saman\\Services\\Teaching\\11 - 2021 Sensitivity Analysis\\vars-tool\\hbv_tutorials\\hbv.py\u001b[0m in \u001b[0;36mHBV_SASK\u001b[1;34m(folder, par_values)\u001b[0m\n\u001b[0;32m     38\u001b[0m     \u001b[1;31m# read inputs\u001b[0m\u001b[1;33m\u001b[0m\u001b[1;33m\u001b[0m\u001b[1;33m\u001b[0m\u001b[0m\n\u001b[0;32m     39\u001b[0m     \u001b[0mdata_folder\u001b[0m \u001b[1;33m=\u001b[0m \u001b[0mfolder\u001b[0m\u001b[1;33m\u001b[0m\u001b[1;33m\u001b[0m\u001b[0m\n\u001b[1;32m---> 40\u001b[1;33m     \u001b[1;33m[\u001b[0m \u001b[0mwatershed_area\u001b[0m\u001b[1;33m,\u001b[0m \u001b[0mini_values\u001b[0m\u001b[1;33m,\u001b[0m \u001b[0mforcing\u001b[0m\u001b[1;33m,\u001b[0m \u001b[0mlong_term\u001b[0m \u001b[1;33m]\u001b[0m \u001b[1;33m=\u001b[0m \u001b[0mread_inputs\u001b[0m\u001b[1;33m(\u001b[0m\u001b[0mdata_folder\u001b[0m\u001b[1;33m)\u001b[0m\u001b[1;33m;\u001b[0m\u001b[1;33m\u001b[0m\u001b[1;33m\u001b[0m\u001b[0m\n\u001b[0m\u001b[0;32m     41\u001b[0m \u001b[1;33m\u001b[0m\u001b[0m\n\u001b[0;32m     42\u001b[0m     \u001b[0mQ_cms\u001b[0m\u001b[1;33m,\u001b[0m\u001b[0mQ\u001b[0m\u001b[1;33m,\u001b[0m\u001b[0mAET\u001b[0m\u001b[1;33m,\u001b[0m\u001b[0mPET\u001b[0m\u001b[1;33m,\u001b[0m\u001b[0mQ1\u001b[0m\u001b[1;33m,\u001b[0m\u001b[0mQ2\u001b[0m\u001b[1;33m,\u001b[0m\u001b[0mQ1_routed\u001b[0m\u001b[1;33m,\u001b[0m\u001b[0mponding\u001b[0m\u001b[1;33m,\u001b[0m\u001b[0mSWE\u001b[0m\u001b[1;33m,\u001b[0m\u001b[0mSMS\u001b[0m\u001b[1;33m,\u001b[0m\u001b[0mS1\u001b[0m\u001b[1;33m,\u001b[0m\u001b[0mS2\u001b[0m\u001b[1;33m=\u001b[0m\u001b[0mrun_model\u001b[0m\u001b[1;33m(\u001b[0m\u001b[0mpar_values\u001b[0m\u001b[1;33m,\u001b[0m\u001b[0mwatershed_area\u001b[0m\u001b[1;33m,\u001b[0m\u001b[0mini_values\u001b[0m\u001b[1;33m,\u001b[0m\u001b[0mforcing\u001b[0m\u001b[1;33m,\u001b[0m\u001b[0mlong_term\u001b[0m\u001b[1;33m)\u001b[0m\u001b[1;33m\u001b[0m\u001b[1;33m\u001b[0m\u001b[0m\n",
      "\u001b[1;32mC:\\New\\Saman\\Services\\Teaching\\11 - 2021 Sensitivity Analysis\\vars-tool\\hbv_tutorials\\hbv.py\u001b[0m in \u001b[0;36mread_inputs\u001b[1;34m(data_folder)\u001b[0m\n\u001b[0;32m     12\u001b[0m     \u001b[1;31m# % ********  Initial Condition  *********\u001b[0m\u001b[1;33m\u001b[0m\u001b[1;33m\u001b[0m\u001b[1;33m\u001b[0m\u001b[0m\n\u001b[0;32m     13\u001b[0m     \u001b[0mfn\u001b[0m\u001b[1;33m=\u001b[0m\u001b[0mdata_folder\u001b[0m \u001b[1;33m+\u001b[0m \u001b[1;34m'/initial_condition.inp'\u001b[0m\u001b[1;33m\u001b[0m\u001b[1;33m\u001b[0m\u001b[0m\n\u001b[1;32m---> 14\u001b[1;33m     \u001b[0mdata\u001b[0m\u001b[1;33m=\u001b[0m\u001b[0mnp\u001b[0m\u001b[1;33m.\u001b[0m\u001b[0mloadtxt\u001b[0m\u001b[1;33m(\u001b[0m\u001b[0mfn\u001b[0m\u001b[1;33m,\u001b[0m\u001b[0mdelimiter\u001b[0m\u001b[1;33m=\u001b[0m\u001b[1;34m' '\u001b[0m\u001b[1;33m,\u001b[0m\u001b[0musecols\u001b[0m\u001b[1;33m=\u001b[0m\u001b[1;33m[\u001b[0m\u001b[1;36m1\u001b[0m\u001b[1;33m]\u001b[0m\u001b[1;33m)\u001b[0m\u001b[1;33m\u001b[0m\u001b[1;33m\u001b[0m\u001b[0m\n\u001b[0m\u001b[0;32m     15\u001b[0m     \u001b[0mwatershed_area\u001b[0m\u001b[1;33m=\u001b[0m\u001b[0mdata\u001b[0m\u001b[1;33m[\u001b[0m\u001b[1;36m0\u001b[0m\u001b[1;33m]\u001b[0m\u001b[1;33m\u001b[0m\u001b[1;33m\u001b[0m\u001b[0m\n\u001b[0;32m     16\u001b[0m     \u001b[0mini_values\u001b[0m\u001b[1;33m=\u001b[0m\u001b[0mdata\u001b[0m\u001b[1;33m[\u001b[0m\u001b[1;36m1\u001b[0m\u001b[1;33m:\u001b[0m\u001b[1;33m]\u001b[0m\u001b[1;33m\u001b[0m\u001b[1;33m\u001b[0m\u001b[0m\n",
      "\u001b[1;32m~\\Anaconda3\\lib\\site-packages\\numpy\\lib\\npyio.py\u001b[0m in \u001b[0;36mloadtxt\u001b[1;34m(fname, dtype, comments, delimiter, converters, skiprows, usecols, unpack, ndmin, encoding, max_rows, like)\u001b[0m\n\u001b[0;32m   1063\u001b[0m             \u001b[0mfname\u001b[0m \u001b[1;33m=\u001b[0m \u001b[0mos_fspath\u001b[0m\u001b[1;33m(\u001b[0m\u001b[0mfname\u001b[0m\u001b[1;33m)\u001b[0m\u001b[1;33m\u001b[0m\u001b[1;33m\u001b[0m\u001b[0m\n\u001b[0;32m   1064\u001b[0m         \u001b[1;32mif\u001b[0m \u001b[0m_is_string_like\u001b[0m\u001b[1;33m(\u001b[0m\u001b[0mfname\u001b[0m\u001b[1;33m)\u001b[0m\u001b[1;33m:\u001b[0m\u001b[1;33m\u001b[0m\u001b[1;33m\u001b[0m\u001b[0m\n\u001b[1;32m-> 1065\u001b[1;33m             \u001b[0mfh\u001b[0m \u001b[1;33m=\u001b[0m \u001b[0mnp\u001b[0m\u001b[1;33m.\u001b[0m\u001b[0mlib\u001b[0m\u001b[1;33m.\u001b[0m\u001b[0m_datasource\u001b[0m\u001b[1;33m.\u001b[0m\u001b[0mopen\u001b[0m\u001b[1;33m(\u001b[0m\u001b[0mfname\u001b[0m\u001b[1;33m,\u001b[0m \u001b[1;34m'rt'\u001b[0m\u001b[1;33m,\u001b[0m \u001b[0mencoding\u001b[0m\u001b[1;33m=\u001b[0m\u001b[0mencoding\u001b[0m\u001b[1;33m)\u001b[0m\u001b[1;33m\u001b[0m\u001b[1;33m\u001b[0m\u001b[0m\n\u001b[0m\u001b[0;32m   1066\u001b[0m             \u001b[0mfencoding\u001b[0m \u001b[1;33m=\u001b[0m \u001b[0mgetattr\u001b[0m\u001b[1;33m(\u001b[0m\u001b[0mfh\u001b[0m\u001b[1;33m,\u001b[0m \u001b[1;34m'encoding'\u001b[0m\u001b[1;33m,\u001b[0m \u001b[1;34m'latin1'\u001b[0m\u001b[1;33m)\u001b[0m\u001b[1;33m\u001b[0m\u001b[1;33m\u001b[0m\u001b[0m\n\u001b[0;32m   1067\u001b[0m             \u001b[0mfh\u001b[0m \u001b[1;33m=\u001b[0m \u001b[0miter\u001b[0m\u001b[1;33m(\u001b[0m\u001b[0mfh\u001b[0m\u001b[1;33m)\u001b[0m\u001b[1;33m\u001b[0m\u001b[1;33m\u001b[0m\u001b[0m\n",
      "\u001b[1;32m~\\Anaconda3\\lib\\site-packages\\numpy\\lib\\_datasource.py\u001b[0m in \u001b[0;36mopen\u001b[1;34m(path, mode, destpath, encoding, newline)\u001b[0m\n\u001b[0;32m    192\u001b[0m \u001b[1;33m\u001b[0m\u001b[0m\n\u001b[0;32m    193\u001b[0m     \u001b[0mds\u001b[0m \u001b[1;33m=\u001b[0m \u001b[0mDataSource\u001b[0m\u001b[1;33m(\u001b[0m\u001b[0mdestpath\u001b[0m\u001b[1;33m)\u001b[0m\u001b[1;33m\u001b[0m\u001b[1;33m\u001b[0m\u001b[0m\n\u001b[1;32m--> 194\u001b[1;33m     \u001b[1;32mreturn\u001b[0m \u001b[0mds\u001b[0m\u001b[1;33m.\u001b[0m\u001b[0mopen\u001b[0m\u001b[1;33m(\u001b[0m\u001b[0mpath\u001b[0m\u001b[1;33m,\u001b[0m \u001b[0mmode\u001b[0m\u001b[1;33m,\u001b[0m \u001b[0mencoding\u001b[0m\u001b[1;33m=\u001b[0m\u001b[0mencoding\u001b[0m\u001b[1;33m,\u001b[0m \u001b[0mnewline\u001b[0m\u001b[1;33m=\u001b[0m\u001b[0mnewline\u001b[0m\u001b[1;33m)\u001b[0m\u001b[1;33m\u001b[0m\u001b[1;33m\u001b[0m\u001b[0m\n\u001b[0m\u001b[0;32m    195\u001b[0m \u001b[1;33m\u001b[0m\u001b[0m\n\u001b[0;32m    196\u001b[0m \u001b[1;33m\u001b[0m\u001b[0m\n",
      "\u001b[1;32m~\\Anaconda3\\lib\\site-packages\\numpy\\lib\\_datasource.py\u001b[0m in \u001b[0;36mopen\u001b[1;34m(self, path, mode, encoding, newline)\u001b[0m\n\u001b[0;32m    529\u001b[0m                                       encoding=encoding, newline=newline)\n\u001b[0;32m    530\u001b[0m         \u001b[1;32melse\u001b[0m\u001b[1;33m:\u001b[0m\u001b[1;33m\u001b[0m\u001b[1;33m\u001b[0m\u001b[0m\n\u001b[1;32m--> 531\u001b[1;33m             \u001b[1;32mraise\u001b[0m \u001b[0mIOError\u001b[0m\u001b[1;33m(\u001b[0m\u001b[1;34m\"%s not found.\"\u001b[0m \u001b[1;33m%\u001b[0m \u001b[0mpath\u001b[0m\u001b[1;33m)\u001b[0m\u001b[1;33m\u001b[0m\u001b[1;33m\u001b[0m\u001b[0m\n\u001b[0m\u001b[0;32m    532\u001b[0m \u001b[1;33m\u001b[0m\u001b[0m\n\u001b[0;32m    533\u001b[0m \u001b[1;33m\u001b[0m\u001b[0m\n",
      "\u001b[1;31mOSError\u001b[0m: Oldman Basin/initial_condition.inp not found."
     ]
    }
   ],
   "source": [
    "x=pd.Series({#name  #value\n",
    "             'TT'   : 0.0 ,\n",
    "             'C0'   : 1.0 ,\n",
    "             'ETF'  : 0.1 ,\n",
    "             'LP'   : 0.3 ,\n",
    "             'FC'   : 250 ,\n",
    "             'beta' : 2.0 ,\n",
    "             'FRAC' : 0.7 ,\n",
    "             'K1'   : 0.05,\n",
    "             'alpha': 1.5 ,\n",
    "             'K2'   : 0.01,\n",
    "             'UBAS' : 1.0 ,\n",
    "             'PM'   : 1.0 ,\n",
    "             })\n",
    "HBV_model(x)"
   ]
  },
  {
   "cell_type": "markdown",
   "metadata": {},
   "source": [
    "### Set up a VARS experiment\n",
    "\n",
    "Create a VARS experiment and set its attributes, according to the table below.\n",
    "***\n",
    "\n",
    "<p><center>Table 1. The attributes of the STAR-VARS algorithm </center></p>\n",
    "\n",
    "| Attribute      | Description |\n",
    "| :-------------:|:----------- |\n",
    "|`paramaters`    | The name of every paramter along with its upper and lower bounds           |\n",
    "|`num_stars`     | The total number of stars centers for VARS analysis                        |\n",
    "|`delta_h`       | The sampling resolution of the STAR-VARS sampling to generate star points  |\n",
    "|`ivars_scales`  | The scales of interest for IVARS estimation, e.g, 0.1 and 0.5 correspond (0-0.1) and (0-0.5) <br /> note: can not have a scale larger than 0.5|\n",
    "|`star_centres`  | User-generated star centers - only used when a sampler is not chosen       |\n",
    "|`sampler`       | The sampling strategy: `rnd`, `lhs`, `plhs`, `sobol_seq`, or `halton_seq` for generation of star centers|\n",
    "|`seed`          | The seed number for randomization of the sampling strategy specified by `sampler`, <br /> only needed if a sampler was chosen  |\n",
    "|`model`         | The wrapper of your model in the `Model` class|\n",
    "|`bootstrap_flag`| This is a `True`/`False` value to turn on/off bootstrapping of VARS results   |\n",
    "|`bootstrap_size`| The number of sampling iterations with replacement via bootstrapping |\n",
    "|`bootstrap_ci`  | The level of confidence used in bootstrap reporting         |\n",
    "|`grouping_flag` | This is a `True`/`False` value to turn on/off grouping of VARS results   |\n",
    "|`num_grps`      | The number of groups you want to split your model paramaters into, <br /> if left blank the optimal number of groups will be calculated by VARS|\n",
    "|`report_verbose`| this is a `True`/`False` value that if `True` will display a loading bar <br /> to show the progession of the VARS analysis, else there will be no progression loading bar|\n"
   ]
  },
  {
   "cell_type": "code",
   "execution_count": null,
   "metadata": {},
   "outputs": [],
   "source": [
    "experiment_1 = VARS(parameters= {  # name   lower bound   upper bound\n",
    "                                    'TT'   :  [ -4.00   ,   4.00],\n",
    "                                    'C0'   :  [  0.00   ,   10.0],\n",
    "                                    'ETF'  :  [  0.00   ,   1.00],\n",
    "                                    'LP'   :  [  0.00   ,   1.00],\n",
    "                                    'FC'   :  [  50.0   ,   500 ],\n",
    "                                    'beta' :  [  1.00   ,   3.00],\n",
    "                                    'FRAC' :  [  0.10   ,   0.90],\n",
    "                                    'K1'   :  [  0.05   ,   1.00],\n",
    "                                    'alpha':  [  1.00   ,   3.00],\n",
    "                                    'K2'   :  [  0.00   ,   0.05],\n",
    "                                    'UBAS' :  [  1.00   ,   3.00],\n",
    "                                    'PM'   :  [  0.50   ,   2.00],},\n",
    "                    num_stars      = 10,\n",
    "                    delta_h        = 0.1,\n",
    "                    ivars_scales   = (0.1, 0.3, 0.5),\n",
    "                    sampler        = 'lhs',\n",
    "                    seed           = 123456789,\n",
    "                    model          = HBV_model,\n",
    "                    bootstrap_flag = False,\n",
    "                    bootstrap_size = 1000,\n",
    "                    bootstrap_ci   = 0.9,\n",
    "                    grouping_flag  = False,\n",
    "                    num_grps       = 2,\n",
    "                    report_verbose = True,\n",
    "                   )"
   ]
  },
  {
   "cell_type": "markdown",
   "metadata": {},
   "source": [
    "### Run STAR-VARS\n",
    "\n",
    "Now, run the VARS experiment set up above."
   ]
  },
  {
   "cell_type": "code",
   "execution_count": null,
   "metadata": {},
   "outputs": [],
   "source": [
    "experiment_1.run_online()"
   ]
  },
  {
   "cell_type": "markdown",
   "metadata": {},
   "source": [
    "### Check out the results\n",
    "\n",
    "When the VARS analysis is completed, let's check out the results of sensitivity analysis."
   ]
  },
  {
   "cell_type": "markdown",
   "metadata": {},
   "source": [
    "**IVARS: Integrated variogram Across a Range of Scales** \n",
    "\n",
    "IVARS indices are the primary sensitivity indices by the VARS approach. First, print all the IVARS indices for the scale ranges of interest."
   ]
  },
  {
   "cell_type": "code",
   "execution_count": null,
   "metadata": {},
   "outputs": [],
   "source": [
    "cols = experiment_1.parameters.keys()\n",
    "experiment_1.ivars[cols]"
   ]
  },
  {
   "cell_type": "markdown",
   "metadata": {},
   "source": [
    " Choose a scale range and plot the respective IVARS indices. Two points:\n",
    " \n",
    "    POINT1: VARS-50 (h=[0-0.5]), called ***Total-Variogram Effect*** is the most comprehensive sensitivity index.\n",
    "    POINT2: Plotting sensitivity results in log scale helps us better differentiate less influential parameters."
   ]
  },
  {
   "cell_type": "code",
   "execution_count": null,
   "metadata": {},
   "outputs": [],
   "source": [
    "ivars_scale = 0.5 # Choose the scale range of interest, e.g., 0.1, 0.3, or 0.5\n",
    "\n",
    "cols = experiment_1.parameters.keys()                     \n",
    "fig_bar = plt.figure(figsize=(10,5))\n",
    "plt.gca().bar(cols, experiment_1.ivars.loc[pd.IndexSlice[ ivars_scale ]][cols], color='gold')\n",
    "plt.gca().set_title (r'Integrated variogram Across a Range of Scales', fontsize = 15)\n",
    "plt.gca().set_ylabel(r'IVARS-50 (Total-Variogram Effect)', fontsize = 13)\n",
    "plt.gca().set_xlabel(r'Model Parameter', fontsize=13)\n",
    "plt.gca().grid()\n",
    "plt.gca().set_yscale('linear')\n",
    "\n",
    "fig_bar = plt.figure(figsize=(10,5))\n",
    "plt.gca().bar(cols, experiment_1.ivars.loc[pd.IndexSlice[ ivars_scale ]][cols], color='gold')\n",
    "plt.gca().set_title (r'Integrated variogram Across a Range of Scales $[log-scale]$', fontsize = 15)\n",
    "plt.gca().set_ylabel(r'IVARS-50 (Total-Variogram Effect)', fontsize = 13)\n",
    "plt.gca().set_xlabel(r'Model Parameter', fontsize=13)\n",
    "plt.gca().grid()\n",
    "plt.gca().set_yscale('log')"
   ]
  },
  {
   "cell_type": "markdown",
   "metadata": {},
   "source": [
    "**VARS-TO: Sobol Total-Order Effect** \n",
    "\n",
    "In addition to the IVARS indices, VARS estimates Sobol variance-based total-order effects as side products. Below, print them and plot them."
   ]
  },
  {
   "cell_type": "code",
   "execution_count": null,
   "metadata": {},
   "outputs": [],
   "source": [
    "cols = experiment_1.parameters.keys()\n",
    "experiment_1.st.to_frame().T[cols]"
   ]
  },
  {
   "cell_type": "code",
   "execution_count": null,
   "metadata": {},
   "outputs": [],
   "source": [
    "cols = experiment_1.parameters.keys()                     \n",
    "fig_bar = plt.figure(figsize=(10,5))\n",
    "plt.gca().bar(cols, experiment_1.st.to_frame().T.iloc[0][cols], color='lightblue')\n",
    "plt.gca().set_title (r'Sobol Total-Order Effect', fontsize = 15)\n",
    "plt.gca().set_ylabel(r'VARS-TO (Total-Order Effect)', fontsize = 13)\n",
    "plt.gca().set_xlabel(r'Model Parameter', fontsize=13)\n",
    "plt.gca().grid()\n",
    "plt.gca().set_yscale('linear')\n",
    "\n",
    "fig_bar = plt.figure(figsize=(10,5))\n",
    "plt.gca().bar(cols, experiment_1.st.to_frame().T.iloc[0][cols], color='lightblue')\n",
    "plt.gca().set_title (r'Sobol Total-Order Effect $[log-scale]$', fontsize = 15)\n",
    "plt.gca().set_ylabel(r'VARS-TO (Total-Order Effect)', fontsize = 13)\n",
    "plt.gca().set_xlabel(r'Model Parameter', fontsize=13)\n",
    "plt.gca().grid()\n",
    "plt.gca().set_yscale('log')"
   ]
  },
  {
   "cell_type": "markdown",
   "metadata": {},
   "source": [
    "**VARS-ABE & VARS-ACE: Morris Elementary Effects** \n",
    "\n",
    "In addition to the IVARS and Sobol indices, VARS estimates various versions of Morris derivative-based elementary effects as side products, **mean ABsolute Elementary effect (ABE)** and **mean ACtual elementary effect (ACE)**.\n",
    "\n",
    "    POINT: In the derivative-based approach, the user needs to choose a delta (step size) for numerical estimation of derivatives. Recommended is to go with the smallest delta available here, which is equal to delta_h, but the user could choose any integer product of delta_h as well.\n",
    "\n",
    " Below, print VARS-ABE & VARS-ACE and then plot them."
   ]
  },
  {
   "cell_type": "code",
   "execution_count": null,
   "metadata": {},
   "outputs": [],
   "source": [
    "delta_of_interest = experiment_1.maee.to_frame().unstack(level=0).index.min() # This lines chooses the smallest delta\n",
    "# delta_of_interest = 0.2  # This line can be used to set other values for delta\n",
    "\n",
    "# VARS-ABE\n",
    "experiment_1.maee.to_frame().unstack(level=0).loc[delta_of_interest].to_frame().T"
   ]
  },
  {
   "cell_type": "code",
   "execution_count": null,
   "metadata": {},
   "outputs": [],
   "source": [
    "# VARS-ACE\n",
    "experiment_1.mee.to_frame().unstack(level=0).loc[delta_of_interest].to_frame().T"
   ]
  },
  {
   "cell_type": "code",
   "execution_count": null,
   "metadata": {},
   "outputs": [],
   "source": [
    "cols = experiment_1.parameters.keys()                     \n",
    "fig_bar = plt.figure(figsize=(10,5))\n",
    "plt.gca().bar(cols, experiment_1.maee.to_frame().unstack(level=0).loc[delta_of_interest].to_frame().T.iloc[0], color='green')\n",
    "plt.gca().set_title (r'Mean Absolute Elementary Effect', fontsize = 15)\n",
    "plt.gca().set_ylabel(r'VARS-ABE', fontsize = 13)\n",
    "plt.gca().set_xlabel(r'Model Parameter', fontsize=13)\n",
    "plt.gca().grid()\n",
    "plt.gca().set_yscale('linear')\n",
    "\n",
    "fig_bar = plt.figure(figsize=(10,5))\n",
    "plt.gca().bar(cols, experiment_1.mee.to_frame().unstack(level=0).loc[delta_of_interest].to_frame().T.iloc[0], color='lightgreen')\n",
    "plt.gca().set_title (r'Mean Actual Elementary Effect ', fontsize = 15)\n",
    "plt.gca().set_ylabel(r'VARS-ACE', fontsize = 13)\n",
    "plt.gca().set_xlabel(r'Model Parameter', fontsize=13)\n",
    "plt.gca().grid()\n",
    "plt.gca().set_yscale('linear')"
   ]
  },
  {
   "cell_type": "markdown",
   "metadata": {},
   "source": [
    "**Directional Variograms - γ(h)** \n",
    "\n",
    "For advanced users of VARS, directional variograms may provide a wealth of information about the structure of the model response surface.\n",
    "\n",
    "    POINT: Variograms are most meaningful when h (perturbation scale) is between zero and 0.5 of the parameter ranges, but the user can investigate the entire perturbation range (0 – 1).\n",
    "    \n",
    " Below, print the directional variograms and then plot them."
   ]
  },
  {
   "cell_type": "code",
   "execution_count": null,
   "metadata": {},
   "outputs": [],
   "source": [
    "cols = experiment_1.parameters.keys()                     \n",
    "variograms = experiment_1.gamma.unstack(0)[cols].copy()\n",
    "variograms"
   ]
  },
  {
   "cell_type": "code",
   "execution_count": null,
   "metadata": {},
   "outputs": [],
   "source": [
    "plotting_scale = 0.5 # any number between delta_h and one.\n",
    "\n",
    "matrix_y = variograms.loc[variograms.index <= plotting_scale].to_numpy()\n",
    "column_x = variograms.loc[variograms.index <= plotting_scale].index.to_numpy()\n",
    "matrix_x = np.tile(column_x, (matrix_y.shape[1], 1)).T\n",
    "\n",
    "fig_cdf = plt.figure(figsize=(10,5))\n",
    "plt.gca().plot(matrix_x, matrix_y )\n",
    "plt.gca().set_title (r'Directional Variogram', fontsize = 15)\n",
    "plt.gca().set_ylabel(r'$γ(h)$', fontsize = 13)\n",
    "plt.gca().set_xlabel(r'$h$ (perturbation scale)', fontsize=13)\n",
    "plt.gca().set_yscale('linear')\n",
    "plt.gca().legend (cols, loc='upper left', fontsize = 10)\n",
    "plt.gca().grid()\n",
    "\n",
    "fig_cdf = plt.figure(figsize=(10,5))\n",
    "plt.gca().plot(matrix_x, matrix_y )\n",
    "plt.gca().set_title (r'Directional Variogram $[log-scale]$', fontsize = 15)\n",
    "plt.gca().set_ylabel(r'$γ(h)$', fontsize = 13)\n",
    "plt.gca().set_xlabel(r'$h$ (perturbation scale)', fontsize=13)\n",
    "plt.gca().set_yscale('log')\n",
    "plt.gca().legend (cols, loc='lower right', fontsize = 10)\n",
    "plt.gca().grid()"
   ]
  },
  {
   "cell_type": "markdown",
   "metadata": {},
   "source": [
    "All done!"
   ]
  }
 ],
 "metadata": {
  "kernelspec": {
   "display_name": "Python 3",
   "language": "python",
   "name": "python3"
  },
  "language_info": {
   "codemirror_mode": {
    "name": "ipython",
    "version": 3
   },
   "file_extension": ".py",
   "mimetype": "text/x-python",
   "name": "python",
   "nbconvert_exporter": "python",
   "pygments_lexer": "ipython3",
   "version": "3.8.5"
  }
 },
 "nbformat": 4,
 "nbformat_minor": 5
}
