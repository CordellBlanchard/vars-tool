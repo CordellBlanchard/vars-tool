{
 "cells": [
  {
   "cell_type": "markdown",
   "metadata": {},
   "source": [
    "# Time-Varying and Time-Aggregate Sensitivity Analysis\n",
    "\n",
    "Notebook developed by Saman Razavi and Kasra Keshavarz\n",
    "\n",
    "### For the VARS method on dynamical model response, please cite:\n",
    "\n",
    "Razavi, S., & Gupta, H. V. (2019). A multi-method Generalized Global Sensitivity Matrix approach to accounting for the dynamical nature of earth and environmental systems models. Environmental modelling & software, 114, 1-11. https://doi.org/10.1016/j.envsoft.2018.12.002\n",
    "\n",
    "### For HBV-SASK, please cite:\n",
    "\n",
    "Razavi, S., Sheikholeslami, R., Gupta, H. V., & Haghnegahdar, A. (2019). VARS-TOOL: A toolbox for comprehensive, efficient, and robust sensitivity and uncertainty analysis. Environmental modelling & software, 112, 95-107. https://www.sciencedirect.com/science/article/pii/S1364815218304766"
   ]
  },
  {
   "cell_type": "markdown",
   "metadata": {},
   "source": [
    "# Exercise 7: Sensitivity Analysis of HBV-SASK dynamical outputs\n",
    "### Objective:\n",
    "\n",
    "This notebook accounts for the dynamical nature of the HBV-SASK model in sensitivity analysis using the Generalized Global Sensitivity Matrix (GGSM) approach implemented via STAR-VARS."
   ]
  },
  {
   "cell_type": "markdown",
   "metadata": {},
   "source": [
    "First import the needed librares, including `TVARS` for time-varying sensitivity analysis and the `Model` class for creating a wrapper around the desired model so that it can be inputted into VARS."
   ]
  },
  {
   "cell_type": "code",
   "execution_count": 1,
   "metadata": {},
   "outputs": [],
   "source": [
    "import numpy as np\n",
    "import pandas as pd\n",
    "import matplotlib.pyplot as plt\n",
    "\n",
    "from varstool import TSVARS, Model\n",
    "import hbv"
   ]
  },
  {
   "cell_type": "markdown",
   "metadata": {},
   "source": [
    "### Introduce the model\n",
    "\n",
    "Define the function of interest in sensitivity analysis. Here, the following function runs the HBV-SASK model and returns a **time series of model responses**. The output of the model here could be the time series of a flux (e.g., *streamflow*) or state variable (e.g., *soil moisture*) over a given time period. "
   ]
  },
  {
   "cell_type": "code",
   "execution_count": 2,
   "metadata": {},
   "outputs": [],
   "source": [
    "def custom_HBV_SASK_2(x):\n",
    "    # preparing the inputs \n",
    "    x.index = ['TT', 'C0', 'ETF', 'LP', 'FC', 'beta', 'FRAC', 'K1', 'alpha', 'K2', 'UBAS', 'PM']\n",
    "    param = x.to_dict()\n",
    "    \n",
    "    # running the HBV-SASK Model\n",
    "    basin = 'Oldman Basin'  # choose the basin of interest, either 'Oldman Basin' or 'Banff Basin'\n",
    "    flux, state, forcing = hbv.HBV_SASK(basin, param)\n",
    "    \n",
    "    start_day ='2005-10-01'  # choose the start date for the period of interest\n",
    "    end_day   ='2006-09-30'  # choose the end date for the period of interest\n",
    "    \n",
    "    # choosing the flux or state variable of interest to report\n",
    "    out = flux['Q_cms'][start_day:end_day]  # 'Q_cms' (streamflow) is an example flux\n",
    "#     out = state['SMS'][start_day:end_day]   # 'SMS' (soil moisture storage) is an example state variable\n",
    "\n",
    "    return out"
   ]
  },
  {
   "cell_type": "markdown",
   "metadata": {},
   "source": [
    "Wrap the function of interest with the `Model` class."
   ]
  },
  {
   "cell_type": "code",
   "execution_count": 3,
   "metadata": {},
   "outputs": [],
   "source": [
    "HBV_model = Model(custom_HBV_SASK_2)"
   ]
  },
  {
   "cell_type": "markdown",
   "metadata": {},
   "source": [
    "Let's run the wrapped function for an arbitrary input and check the model response."
   ]
  },
  {
   "cell_type": "code",
   "execution_count": 4,
   "metadata": {},
   "outputs": [
    {
     "data": {
      "text/plain": [
       "2005-10-01    19.519681\n",
       "2005-10-02    24.286513\n",
       "2005-10-03    21.284241\n",
       "2005-10-04    18.467783\n",
       "2005-10-05    16.315388\n",
       "                ...    \n",
       "2006-09-26     3.746911\n",
       "2006-09-27     3.744465\n",
       "2006-09-28     3.688073\n",
       "2006-09-29     3.631065\n",
       "2006-09-30     3.576262\n",
       "Name: Q_cms, Length: 365, dtype: float64"
      ]
     },
     "execution_count": 4,
     "metadata": {},
     "output_type": "execute_result"
    }
   ],
   "source": [
    "x=pd.Series({#name  #value\n",
    "             'TT'   : 0.0 ,\n",
    "             'C0'   : 1.0 ,\n",
    "             'ETF'  : 0.1 ,\n",
    "             'LP'   : 0.3 ,\n",
    "             'FC'   : 250 ,\n",
    "             'beta' : 2.0 ,\n",
    "             'FRAC' : 0.7 ,\n",
    "             'K1'   : 0.05,\n",
    "             'alpha': 1.5 ,\n",
    "             'K2'   : 0.01,\n",
    "             'UBAS' : 1.0 ,\n",
    "             'PM'   : 1.0 ,\n",
    "             })\n",
    "HBV_model(x)"
   ]
  },
  {
   "cell_type": "markdown",
   "metadata": {},
   "source": [
    "### Set up a Time-varying VARS experiment\n",
    "\n",
    "Create a TSVARS experiment and set its attributes, according to the table below. Note that VARS and TSVARS share the same attributes.\n",
    "***\n",
    "\n",
    "<p><center>Table 1. The attributes of the STAR-VARS algorithm </center></p>\n",
    "\n",
    "| Attribute      | Description |\n",
    "| :-------------:|:----------- |\n",
    "|`paramaters`    | The name of every paramter along with its upper and lower bounds           |\n",
    "|`num_stars`     | The total number of stars centers for VARS analysis                        |\n",
    "|`delta_h`       | The sampling resolution of the STAR-VARS sampling to generate star points  |\n",
    "|`ivars_scales`  | The scales of interest for IVARS estimation, e.g, 0.1 and 0.5 correspond (0-0.1) and (0-0.5) <br /> note: can not have a scale larger than 0.5|\n",
    "|`star_centres`  | User-generated star centers - only used when a sampler is not chosen       |\n",
    "|`sampler`       | The sampling strategy: `rnd`, `lhs`, `plhs`, `sobol_seq`, or `halton_seq` for generation of star centers|\n",
    "|`seed`          | The seed number for randomization of the sampling strategy specified by `sampler`, <br /> only needed if a sampler was chosen  |\n",
    "|`model`         | The wrapper of your model in the `Model` class|\n",
    "|`bootstrap_flag`| This is a `True`/`False` value to turn on/off bootstrapping of VARS results   |\n",
    "|`bootstrap_size`| The number of sampling iterations with replacement via bootstrapping |\n",
    "|`bootstrap_ci`  | The level of confidence used in bootstrap reporting         |\n",
    "|`grouping_flag` | This is a `True`/`False` value to turn on/off grouping of VARS results   |\n",
    "|`num_grps`      | The number of groups you want to split your model paramaters into, <br /> if left blank the optimal number of groups will be calculated by VARS|\n",
    "|`report_verbose`| this is a `True`/`False` value that if `True` will display a loading bar <br /> to show the progession of the VARS analysis, else there will be no progression loading bar|\n"
   ]
  },
  {
   "cell_type": "code",
   "execution_count": 5,
   "metadata": {},
   "outputs": [],
   "source": [
    "experiment_2 = TSVARS(parameters = { # name   lower bound   upper bound\n",
    "                                      'TT'   :  [ -4.00   ,   4.00],\n",
    "                                      'C0'   :  [  0.00   ,   10.0],\n",
    "                                      'ETF'  :  [  0.00   ,   1.00],\n",
    "                                      'LP'   :  [  0.00   ,   1.00],\n",
    "                                      'FC'   :  [  50.0   ,   500 ],\n",
    "                                      'beta' :  [  1.00   ,   3.00],\n",
    "                                      'FRAC' :  [  0.10   ,   0.90],\n",
    "                                      'K1'   :  [  0.05   ,   1.00],\n",
    "                                      'alpha':  [  1.00   ,   3.00],\n",
    "                                      'K2'   :  [  0.00   ,   0.05],\n",
    "                                      'UBAS' :  [  1.00   ,   3.00],\n",
    "                                      'PM'   :  [  0.50   ,   2.00],},\n",
    "                      num_stars        = 10,\n",
    "                      delta_h          = 0.1,\n",
    "                      ivars_scales     = (0.1, 0.3, 0.5),\n",
    "                      sampler          = 'lhs',\n",
    "                      seed             = 123456789,\n",
    "                      model            = HBV_model,\n",
    "                      bootstrap_flag   = False,\n",
    "                      bootstrap_size   = 1000,\n",
    "                      bootstrap_ci     = 0.9,\n",
    "                      grouping_flag    = False,\n",
    "                      num_grps         = 2,\n",
    "                      report_verbose   = True,                   \n",
    "                      func_eval_method ='serial', # The parallel version needs further development and testing\n",
    "                      vars_eval_method ='serial', # The parallel version needs further development and testing\n",
    "                      vars_chunk_size=None,\n",
    "                     )"
   ]
  },
  {
   "cell_type": "markdown",
   "metadata": {},
   "source": [
    "### Run STAR-VARS\n",
    "\n",
    "Now, run the TSVARS experiment set up above."
   ]
  },
  {
   "cell_type": "code",
   "execution_count": null,
   "metadata": {},
   "outputs": [
    {
     "name": "stderr",
     "output_type": "stream",
     "text": [
      "C:\\Users\\ser134\\Anaconda3\\lib\\site-packages\\tqdm\\std.py:697: FutureWarning: The Panel class is removed from pandas. Accessing it from the top-level namespace will also be removed in the next version\n",
      "  from pandas import Panel\n"
     ]
    },
    {
     "data": {
      "application/vnd.jupyter.widget-view+json": {
       "model_id": "03e7db2fcec34eb2bccb74d0e2b1b184",
       "version_major": 2,
       "version_minor": 0
      },
      "text/plain": [
       "HBox(children=(HTML(value='function evaluation'), FloatProgress(value=0.0, layout=Layout(flex='2'), max=1200.0…"
      ]
     },
     "metadata": {},
     "output_type": "display_data"
    }
   ],
   "source": [
    "experiment_2.run_online()"
   ]
  },
  {
   "cell_type": "markdown",
   "metadata": {},
   "source": [
    "### Check out the results\n",
    "\n",
    "When the TSVARS analysis is completed, let's check out the results of **time-varying** and **time-aggregate** sensitivity analysis."
   ]
  },
  {
   "cell_type": "markdown",
   "metadata": {},
   "source": [
    "**Time-Varying Sensitivities** \n",
    "\n",
    "Similar to `VARS`, `TSVARS` generates all the sensitivity indices, including IVARS, VARS-TO (Sobol Total-Order Effect), VARS-ABE and VARS-ACE (Morris Elementary Effect). But unlike `VARS` that generates sensitivity indices for a single model output, `TSVARS` does so for the time series of model outputs.\n",
    "\n",
    "The following cells look at IVARS-50 (Total-Variogram Effect) only, but the user has the option to use other indices as already shown for `VARS`.\n",
    "***\n",
    "For IVARS-50, the result will be a table where each row represents a modelling time step and each column represents a model parameter. This table is called the *Generalized Global Sensitivity Matrix (GGSM)*."
   ]
  },
  {
   "cell_type": "code",
   "execution_count": null,
   "metadata": {
    "scrolled": true
   },
   "outputs": [],
   "source": [
    "ivars_scale = 0.5 # Choose the scale range of interest, e.g., 0.1, 0.3, or 0.5\n",
    "\n",
    "cols = experiment_2.parameters.keys()\n",
    "time_varying_SA = experiment_2.ivars.loc[pd.IndexSlice[:, :, ivars_scale]].unstack(level=-1)[cols]\n",
    "time_varying_SA"
   ]
  },
  {
   "cell_type": "markdown",
   "metadata": {},
   "source": [
    "Let's plot the time series above for a few select parameters."
   ]
  },
  {
   "cell_type": "code",
   "execution_count": null,
   "metadata": {
    "scrolled": true
   },
   "outputs": [],
   "source": [
    "fig = plt.figure(figsize=(25, 8))\n",
    "\n",
    "plt.gca().plot( time_varying_SA[ 'TT'  ] , '-'  , color='red'   , label=r'TT'  )\n",
    "plt.gca().plot( time_varying_SA[ 'ETF' ] , '-'  , color='blue'  , label=r'ETF' )\n",
    "plt.gca().plot( time_varying_SA[ 'PM'  ] , '-'  , color='green' , label=r'PM'  )\n",
    "plt.gca().plot( time_varying_SA[ 'K2'  ] , '--' , color='grey'  , label=r'K2'  )\n",
    "\n",
    "plt.gca().set_title(r'Time-Varying Sensitivity Analysis', fontsize = 23)\n",
    "plt.gca().set_ylabel(r'IVARS-50 (Total-Variogram Effect)', fontsize = 20)\n",
    "plt.gca().set_xlabel('Dates', fontsize=20)\n",
    "plt.gca().grid()\n",
    "plt.gca().legend(loc='upper right', fontsize = 20)\n",
    "plt.gca().set_yscale('log')"
   ]
  },
  {
   "cell_type": "markdown",
   "metadata": {},
   "source": [
    "**Time-Aggregate Sensitivities** \n",
    "\n",
    "The first level of time aggregation in the GGSM approach is through cumulative frequency distributions of the time series of sensitivity index for each individual parameter. The distributions that are more extended to the right correspond to parameters that are more strongly influential."
   ]
  },
  {
   "cell_type": "code",
   "execution_count": null,
   "metadata": {},
   "outputs": [],
   "source": [
    "# choose the model parameters of interest for plotting the results\n",
    "cols = ['TT', 'ETF', 'PM', 'K2']         # choose parameters for plotting\n",
    "# cols = experiment_2.parameters.keys()  # or plot the results for all parameters\n",
    "\n",
    "ivars_scale = 0.5                        # Choose the scale range of interest, e.g., 0.1, 0.3, or 0.5\n",
    "\n",
    "idx = pd.IndexSlice\n",
    "time_varying_SA = experiment_2.ivars.loc[idx[:, :, ivars_scale]].unstack(level=-1)[cols]\n",
    "matrix_x = np.sort(time_varying_SA.values, axis=0)  \n",
    "column_y = np.linspace( 1, len(matrix_x), len(matrix_x))/len(matrix_x)\n",
    "matrix_y = np.tile(column_y, (matrix_x.shape[1], 1)).T\n",
    "\n",
    "fig_cdf = plt.figure(figsize=(10,5))\n",
    "plt.gca().plot(matrix_x, matrix_y )\n",
    "\n",
    "plt.gca().set_title (r'Time-Aggregate Sensitivity Analysis', fontsize = 15)\n",
    "plt.gca().set_ylabel(r'Cumulative Frequency', fontsize = 14)\n",
    "plt.gca().set_xlabel(r'IVARS-50 (Total-Variogram Effect)', fontsize=14)\n",
    "plt.gca().legend (cols, loc='lower right', fontsize = 14)\n",
    "plt.gca().set_xscale('log')\n",
    "plt.gca().grid()"
   ]
  },
  {
   "cell_type": "markdown",
   "metadata": {},
   "source": [
    "The second level of aggregation (the most compact form) in the GGSM approach takes the *mean* of the time series of sensitivity index over the simulation time period for each individual parameter. The table below shows the time-aggregate IVARS for all the scale ranges of interest."
   ]
  },
  {
   "cell_type": "code",
   "execution_count": null,
   "metadata": {
    "scrolled": false
   },
   "outputs": [],
   "source": [
    "cols = experiment_2.parameters.keys()\n",
    "time_aggregate_SA = experiment_2.ivars.aggregate.unstack(level=0)[cols]\n",
    "time_aggregate_SA"
   ]
  },
  {
   "cell_type": "markdown",
   "metadata": {},
   "source": [
    "Lastly, choose a scale range and plot the respective time-aggregate sensitivity indices for all the parameters in linear and log scales."
   ]
  },
  {
   "cell_type": "code",
   "execution_count": null,
   "metadata": {},
   "outputs": [],
   "source": [
    "ivars_scale = 0.5   # Choose the scale range of interest, e.g., 0.1, 0.3, or 0.5\n",
    "\n",
    "cols = experiment_2.parameters.keys()\n",
    "time_aggregate_SA = experiment_2.ivars.aggregate.unstack(level=0)[cols]\n",
    "\n",
    "fig_bar = plt.figure(figsize=(10,5))\n",
    "plt.gca().bar(cols,time_aggregate_SA.loc[pd.IndexSlice[ ivars_scale ]], color='gold')\n",
    "plt.gca().set_title (r'Time-Aggregate Sensitivity Analysis', fontsize = 15)\n",
    "plt.gca().set_ylabel(r'IVARS-50 (Total-Variogram Effect)', fontsize = 13)\n",
    "plt.gca().set_xlabel(r'Model Parameter', fontsize=13)\n",
    "plt.gca().set_yscale('linear')\n",
    "plt.gca().grid()\n",
    "\n",
    "fig_bar = plt.figure(figsize=(10,5))\n",
    "plt.gca().bar(cols,time_aggregate_SA.loc[pd.IndexSlice[ ivars_scale ]], color='gold')\n",
    "plt.gca().set_title (r'Time-Aggregate Sensitivity Analysis $[log-scale]$', fontsize = 15)\n",
    "plt.gca().set_ylabel(r'IVARS-50 (Total-Variogram Effect)', fontsize = 13)\n",
    "plt.gca().set_xlabel(r'Model Parameter', fontsize=13)\n",
    "plt.gca().set_yscale('log')\n",
    "plt.gca().grid()"
   ]
  },
  {
   "cell_type": "markdown",
   "metadata": {},
   "source": [
    "Well done!"
   ]
  }
 ],
 "metadata": {
  "kernelspec": {
   "display_name": "Python 3",
   "language": "python",
   "name": "python3"
  },
  "language_info": {
   "codemirror_mode": {
    "name": "ipython",
    "version": 3
   },
   "file_extension": ".py",
   "mimetype": "text/x-python",
   "name": "python",
   "nbconvert_exporter": "python",
   "pygments_lexer": "ipython3",
   "version": "3.8.5"
  }
 },
 "nbformat": 4,
 "nbformat_minor": 5
}
