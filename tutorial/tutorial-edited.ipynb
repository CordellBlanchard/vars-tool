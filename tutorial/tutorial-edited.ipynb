{
 "cells": [
  {
   "cell_type": "markdown",
   "id": "honey-partner",
   "metadata": {},
   "source": [
    "# VARS-TOOL Tutorial"
   ]
  },
  {
   "cell_type": "markdown",
   "id": "diverse-durham",
   "metadata": {},
   "source": [
    "## Install"
   ]
  },
  {
   "cell_type": "markdown",
   "id": "registered-captain",
   "metadata": {},
   "source": [
    "This is a simple tutorial show casing VARS-TOOL functionalities that are being implement in Python. For now, only single value functions can be fed to the package, however, the time-varying/-aggregate versions are to be added soon. Let's install the latest VARS-TOOL from GitHub:"
   ]
  },
  {
   "cell_type": "code",
   "execution_count": 1,
   "id": "seasonal-dialogue",
   "metadata": {},
   "outputs": [
    {
     "name": "stdout",
     "output_type": "stream",
     "text": [
      "Cloning into 'vars-tool'...\n",
      "remote: Enumerating objects: 730, done.\u001b[K\n",
      "remote: Counting objects: 100% (730/730), done.\u001b[K\n",
      "remote: Compressing objects: 100% (370/370), done.\u001b[K\n",
      "remote: Total 730 (delta 411), reused 602 (delta 284), pack-reused 0\u001b[K\n",
      "Receiving objects: 100% (730/730), 8.38 MiB | 1.04 MiB/s, done.\n",
      "Resolving deltas: 100% (411/411), done.\n",
      "Processing ./vars-tool\n",
      "  Installing build dependencies ... \u001b[?25ldone\n",
      "\u001b[?25h  Getting requirements to build wheel ... \u001b[?25ldone\n",
      "\u001b[?25h    Preparing wheel metadata ... \u001b[?25ldone\n",
      "\u001b[?25hRequirement already satisfied: numpy in /Users/kasrakeshavarz/anaconda3/lib/python3.8/site-packages (from varstool==2.1) (1.19.2)\n",
      "Requirement already satisfied: pandas in /Users/kasrakeshavarz/anaconda3/lib/python3.8/site-packages (from varstool==2.1) (1.2.2)\n",
      "Requirement already satisfied: scipy in /Users/kasrakeshavarz/anaconda3/lib/python3.8/site-packages (from varstool==2.1) (1.6.1)\n",
      "Requirement already satisfied: matplotlib in /Users/kasrakeshavarz/anaconda3/lib/python3.8/site-packages (from varstool==2.1) (3.3.4)\n",
      "Requirement already satisfied: pyparsing!=2.0.4,!=2.1.2,!=2.1.6,>=2.0.3 in /Users/kasrakeshavarz/anaconda3/lib/python3.8/site-packages (from matplotlib->varstool==2.1) (2.4.7)\n",
      "Requirement already satisfied: cycler>=0.10 in /Users/kasrakeshavarz/anaconda3/lib/python3.8/site-packages (from matplotlib->varstool==2.1) (0.10.0)\n",
      "Requirement already satisfied: python-dateutil>=2.1 in /Users/kasrakeshavarz/anaconda3/lib/python3.8/site-packages (from matplotlib->varstool==2.1) (2.8.1)\n",
      "Requirement already satisfied: pillow>=6.2.0 in /Users/kasrakeshavarz/anaconda3/lib/python3.8/site-packages (from matplotlib->varstool==2.1) (8.1.0)\n",
      "Requirement already satisfied: kiwisolver>=1.0.1 in /Users/kasrakeshavarz/anaconda3/lib/python3.8/site-packages (from matplotlib->varstool==2.1) (1.3.1)\n",
      "Requirement already satisfied: six in /Users/kasrakeshavarz/anaconda3/lib/python3.8/site-packages (from cycler>=0.10->matplotlib->varstool==2.1) (1.15.0)\n",
      "Requirement already satisfied: pytz>=2017.3 in /Users/kasrakeshavarz/anaconda3/lib/python3.8/site-packages (from pandas->varstool==2.1) (2021.1)\n",
      "Building wheels for collected packages: varstool\n",
      "  Building wheel for varstool (PEP 517) ... \u001b[?25ldone\n",
      "\u001b[?25h  Created wheel for varstool: filename=varstool-2.1-py2.py3-none-any.whl size=43417 sha256=f997982010aadd639bcecd6754aac380fa03344a3bb493b466face4397b86586\n",
      "  Stored in directory: /Users/kasrakeshavarz/Library/Caches/pip/wheels/dd/b1/a4/a5233700e1a731f88ea0e1e559dadd8482bf504119f37380f8\n",
      "Successfully built varstool\n",
      "Installing collected packages: varstool\n",
      "  Attempting uninstall: varstool\n",
      "    Found existing installation: varstool 2.1\n",
      "    Uninstalling varstool-2.1:\n",
      "      Successfully uninstalled varstool-2.1\n",
      "Successfully installed varstool-2.1\n"
     ]
    }
   ],
   "source": [
    "!git clone https://github.com/vars-tool/vars-tool\n",
    "!pip install vars-tool/."
   ]
  },
  {
   "cell_type": "markdown",
   "id": "understanding-crawford",
   "metadata": {},
   "source": [
    "## An example"
   ]
  },
  {
   "cell_type": "markdown",
   "id": "moving-shock",
   "metadata": {},
   "source": [
    "Let's import what we have installed:"
   ]
  },
  {
   "cell_type": "code",
   "execution_count": 2,
   "id": "large-impression",
   "metadata": {},
   "outputs": [],
   "source": [
    "# importing VARS and Model from varstool package\n",
    "from varstool import VARS, Model\n",
    "\n",
    "import numpy as np\n",
    "import pandas as pd"
   ]
  },
  {
   "cell_type": "markdown",
   "id": "interim-senegal",
   "metadata": {},
   "source": [
    "Let's define a sample function to use in the analysis:"
   ]
  },
  {
   "cell_type": "code",
   "execution_count": 3,
   "id": "quarterly-holiday",
   "metadata": {},
   "outputs": [],
   "source": [
    "def ishigami(x, a=7, b=0.05):\n",
    "    '''Ishigami test function'''\n",
    "    # check whether the input x is a dataframe\n",
    "    \n",
    "    if not isinstance(x, (pd.core.frame.DataFrame, pd.core.series.Series, np.ndarray, list)):\n",
    "        raise TypeError('`x` must be of type pandas.DataFrame, numpy.ndarray, pd.Series, or list')\n",
    "    \n",
    "    if len(x) > 3:\n",
    "        raise ValueError('`x` must have only three arguments at a time')\n",
    "    \n",
    "    return np.sin(x[0]) + a*(np.sin(x[1])**2) + b*(x[2]**4)*np.sin(x[0])"
   ]
  },
  {
   "cell_type": "markdown",
   "id": "spoken-management",
   "metadata": {},
   "source": [
    "The `Model` class is a wrapper for custome functions in the online version of VARS. However, the first argument of every function must accept an array of parameters:"
   ]
  },
  {
   "cell_type": "code",
   "execution_count": 4,
   "id": "political-crawford",
   "metadata": {},
   "outputs": [],
   "source": [
    "ishigami_model = Model(ishigami)"
   ]
  },
  {
   "cell_type": "markdown",
   "id": "boolean-singer",
   "metadata": {},
   "source": [
    "Let's make an array of star centres:"
   ]
  },
  {
   "cell_type": "code",
   "execution_count": 5,
   "id": "suspended-remedy",
   "metadata": {},
   "outputs": [
    {
     "data": {
      "text/plain": [
       "array([[0.215161  , 0.32241093, 0.20833212],\n",
       "       [0.60398695, 0.7961266 , 0.80374948],\n",
       "       [0.08463948, 0.92333371, 0.48948051],\n",
       "       [0.96491196, 0.08231259, 0.63615568],\n",
       "       [0.34925431, 0.69285523, 0.00113947],\n",
       "       [0.0490785 , 0.69897884, 0.58005259],\n",
       "       [0.30375673, 0.15781106, 0.6197232 ],\n",
       "       [0.15379403, 0.18933439, 0.99672719],\n",
       "       [0.39907306, 0.78680895, 0.46503195],\n",
       "       [0.17549935, 0.46783713, 0.25109061]])"
      ]
     },
     "metadata": {},
     "output_type": "display_data"
    }
   ],
   "source": [
    "star_centres = np.random.rand(10,3)\n",
    "display(star_centres)"
   ]
  },
  {
   "cell_type": "markdown",
   "id": "egyptian-leone",
   "metadata": {},
   "source": [
    "Create `experiment_1` and initialize the values needed to run a VARS analysis:"
   ]
  },
  {
   "cell_type": "code",
   "execution_count": 6,
   "id": "everyday-possibility",
   "metadata": {},
   "outputs": [],
   "source": [
    "experiment_1 = VARS(star_centres = star_centres, \n",
    "                    parameters = {'x1':(0, 1), 'x2':(0, 1), 'x3': (0, 1)},\n",
    "                    delta_h = 0.1,\n",
    "                    ivars_scales = (0.1, 0.3, 0.5),\n",
    "                    model = ishigami_model,\n",
    "                    bootstrap_flag = False\n",
    "                )"
   ]
  },
  {
   "cell_type": "markdown",
   "id": "acquired-springer",
   "metadata": {},
   "source": [
    "We can get a status report of the analysis by typing the instance class name:"
   ]
  },
  {
   "cell_type": "code",
   "execution_count": 7,
   "id": "thrown-responsibility",
   "metadata": {},
   "outputs": [
    {
     "data": {
      "text/plain": [
       "Star Centres: Loaded\n",
       "Star Points: Not Loaded\n",
       "Parameters: 3 paremeters set\n",
       "Delta h: 0.1\n",
       "Model: ishigami\n",
       "Seed Number: 123456789\n",
       "Bootstrap: Off\n",
       "Bootstrap Size: N/A\n",
       "Bootstrap CI: N/A\n",
       "VARS Analysis: Not Done"
      ]
     },
     "execution_count": 7,
     "metadata": {},
     "output_type": "execute_result"
    }
   ],
   "source": [
    "experiment_1"
   ]
  },
  {
   "cell_type": "markdown",
   "id": "living-break",
   "metadata": {},
   "source": [
    "Let's run the online version - please note that for now we do not have a progress report (under investigation):"
   ]
  },
  {
   "cell_type": "code",
   "execution_count": 15,
   "id": "biological-lemon",
   "metadata": {},
   "outputs": [
    {
     "data": {
      "text/plain": [
       "Star Centres: Loaded\n",
       "Star Points: Loaded\n",
       "Parameters: 3 paremeters set\n",
       "Delta h: 0.1\n",
       "Model: ishigami\n",
       "Seed Number: 123456789\n",
       "Bootstrap: Off\n",
       "Bootstrap Size: N/A\n",
       "Bootstrap CI: N/A\n",
       "VARS Analysis: Done"
      ]
     },
     "execution_count": 15,
     "metadata": {},
     "output_type": "execute_result"
    }
   ],
   "source": [
    "experiment_1.run_online()\n",
    "experiment_1"
   ]
  },
  {
   "cell_type": "markdown",
   "id": "cloudy-consumption",
   "metadata": {},
   "source": [
    "And different values are accessible:"
   ]
  },
  {
   "cell_type": "code",
   "execution_count": 9,
   "id": "textile-detector",
   "metadata": {},
   "outputs": [
    {
     "data": {
      "text/html": [
       "<div>\n",
       "<style scoped>\n",
       "    .dataframe tbody tr th:only-of-type {\n",
       "        vertical-align: middle;\n",
       "    }\n",
       "\n",
       "    .dataframe tbody tr th {\n",
       "        vertical-align: top;\n",
       "    }\n",
       "\n",
       "    .dataframe thead th {\n",
       "        text-align: right;\n",
       "    }\n",
       "</style>\n",
       "<table border=\"1\" class=\"dataframe\">\n",
       "  <thead>\n",
       "    <tr style=\"text-align: right;\">\n",
       "      <th>param</th>\n",
       "      <th>x1</th>\n",
       "      <th>x2</th>\n",
       "      <th>x3</th>\n",
       "    </tr>\n",
       "    <tr>\n",
       "      <th>h</th>\n",
       "      <th></th>\n",
       "      <th></th>\n",
       "      <th></th>\n",
       "    </tr>\n",
       "  </thead>\n",
       "  <tbody>\n",
       "    <tr>\n",
       "      <th>1</th>\n",
       "      <td>0.003745</td>\n",
       "      <td>0.154738</td>\n",
       "      <td>0.000003</td>\n",
       "    </tr>\n",
       "    <tr>\n",
       "      <th>2</th>\n",
       "      <td>0.015089</td>\n",
       "      <td>0.632787</td>\n",
       "      <td>0.000009</td>\n",
       "    </tr>\n",
       "    <tr>\n",
       "      <th>3</th>\n",
       "      <td>0.034099</td>\n",
       "      <td>1.441989</td>\n",
       "      <td>0.000016</td>\n",
       "    </tr>\n",
       "    <tr>\n",
       "      <th>4</th>\n",
       "      <td>0.060719</td>\n",
       "      <td>2.570765</td>\n",
       "      <td>0.000023</td>\n",
       "    </tr>\n",
       "    <tr>\n",
       "      <th>5</th>\n",
       "      <td>0.094762</td>\n",
       "      <td>3.986608</td>\n",
       "      <td>0.000031</td>\n",
       "    </tr>\n",
       "    <tr>\n",
       "      <th>6</th>\n",
       "      <td>0.135913</td>\n",
       "      <td>5.636381</td>\n",
       "      <td>0.000040</td>\n",
       "    </tr>\n",
       "    <tr>\n",
       "      <th>7</th>\n",
       "      <td>0.183732</td>\n",
       "      <td>7.448499</td>\n",
       "      <td>0.000053</td>\n",
       "    </tr>\n",
       "    <tr>\n",
       "      <th>8</th>\n",
       "      <td>0.237660</td>\n",
       "      <td>9.336946</td>\n",
       "      <td>0.000072</td>\n",
       "    </tr>\n",
       "    <tr>\n",
       "      <th>9</th>\n",
       "      <td>0.297025</td>\n",
       "      <td>11.206792</td>\n",
       "      <td>0.000103</td>\n",
       "    </tr>\n",
       "  </tbody>\n",
       "</table>\n",
       "</div>"
      ],
      "text/plain": [
       "param        x1         x2        x3\n",
       "h                                   \n",
       "1      0.003745   0.154738  0.000003\n",
       "2      0.015089   0.632787  0.000009\n",
       "3      0.034099   1.441989  0.000016\n",
       "4      0.060719   2.570765  0.000023\n",
       "5      0.094762   3.986608  0.000031\n",
       "6      0.135913   5.636381  0.000040\n",
       "7      0.183732   7.448499  0.000053\n",
       "8      0.237660   9.336946  0.000072\n",
       "9      0.297025  11.206792  0.000103"
      ]
     },
     "execution_count": 9,
     "metadata": {},
     "output_type": "execute_result"
    }
   ],
   "source": [
    "experiment_1.variogram_value.unstack(0)"
   ]
  },
  {
   "cell_type": "code",
   "execution_count": 10,
   "id": "exotic-chemistry",
   "metadata": {},
   "outputs": [
    {
     "data": {
      "text/html": [
       "<div>\n",
       "<style scoped>\n",
       "    .dataframe tbody tr th:only-of-type {\n",
       "        vertical-align: middle;\n",
       "    }\n",
       "\n",
       "    .dataframe tbody tr th {\n",
       "        vertical-align: top;\n",
       "    }\n",
       "\n",
       "    .dataframe thead th {\n",
       "        text-align: right;\n",
       "    }\n",
       "</style>\n",
       "<table border=\"1\" class=\"dataframe\">\n",
       "  <thead>\n",
       "    <tr style=\"text-align: right;\">\n",
       "      <th>param</th>\n",
       "      <th>x1</th>\n",
       "      <th>x2</th>\n",
       "      <th>x3</th>\n",
       "    </tr>\n",
       "    <tr>\n",
       "      <th>h</th>\n",
       "      <th></th>\n",
       "      <th></th>\n",
       "      <th></th>\n",
       "    </tr>\n",
       "  </thead>\n",
       "  <tbody>\n",
       "    <tr>\n",
       "      <th>1</th>\n",
       "      <td>2.534029</td>\n",
       "      <td>2.117666</td>\n",
       "      <td>2.362398</td>\n",
       "    </tr>\n",
       "    <tr>\n",
       "      <th>2</th>\n",
       "      <td>2.518026</td>\n",
       "      <td>1.437912</td>\n",
       "      <td>2.362441</td>\n",
       "    </tr>\n",
       "    <tr>\n",
       "      <th>3</th>\n",
       "      <td>2.498901</td>\n",
       "      <td>0.610013</td>\n",
       "      <td>2.362432</td>\n",
       "    </tr>\n",
       "    <tr>\n",
       "      <th>4</th>\n",
       "      <td>2.476827</td>\n",
       "      <td>-0.335223</td>\n",
       "      <td>2.362375</td>\n",
       "    </tr>\n",
       "    <tr>\n",
       "      <th>5</th>\n",
       "      <td>2.452015</td>\n",
       "      <td>-1.360884</td>\n",
       "      <td>2.362268</td>\n",
       "    </tr>\n",
       "    <tr>\n",
       "      <th>6</th>\n",
       "      <td>2.424710</td>\n",
       "      <td>-2.425383</td>\n",
       "      <td>2.362111</td>\n",
       "    </tr>\n",
       "    <tr>\n",
       "      <th>7</th>\n",
       "      <td>2.395192</td>\n",
       "      <td>-3.484091</td>\n",
       "      <td>2.361898</td>\n",
       "    </tr>\n",
       "    <tr>\n",
       "      <th>8</th>\n",
       "      <td>2.363767</td>\n",
       "      <td>-4.491120</td>\n",
       "      <td>2.361624</td>\n",
       "    </tr>\n",
       "    <tr>\n",
       "      <th>9</th>\n",
       "      <td>2.330773</td>\n",
       "      <td>-5.401187</td>\n",
       "      <td>2.361282</td>\n",
       "    </tr>\n",
       "  </tbody>\n",
       "</table>\n",
       "</div>"
      ],
      "text/plain": [
       "param        x1        x2        x3\n",
       "h                                  \n",
       "1      2.534029  2.117666  2.362398\n",
       "2      2.518026  1.437912  2.362441\n",
       "3      2.498901  0.610013  2.362432\n",
       "4      2.476827 -0.335223  2.362375\n",
       "5      2.452015 -1.360884  2.362268\n",
       "6      2.424710 -2.425383  2.362111\n",
       "7      2.395192 -3.484091  2.361898\n",
       "8      2.363767 -4.491120  2.361624\n",
       "9      2.330773 -5.401187  2.361282"
      ]
     },
     "execution_count": 10,
     "metadata": {},
     "output_type": "execute_result"
    }
   ],
   "source": [
    "experiment_1.covariogram_value.unstack(0)"
   ]
  },
  {
   "cell_type": "code",
   "execution_count": 11,
   "id": "actual-soccer",
   "metadata": {},
   "outputs": [
    {
     "data": {
      "text/plain": [
       "param\n",
       "x1    0.020646\n",
       "x2    0.859436\n",
       "x3    0.000006\n",
       "dtype: float64"
      ]
     },
     "execution_count": 11,
     "metadata": {},
     "output_type": "execute_result"
    }
   ],
   "source": [
    "experiment_1.sobol_value"
   ]
  },
  {
   "cell_type": "code",
   "execution_count": 12,
   "id": "outdoor-harmony",
   "metadata": {},
   "outputs": [
    {
     "data": {
      "text/html": [
       "<div>\n",
       "<style scoped>\n",
       "    .dataframe tbody tr th:only-of-type {\n",
       "        vertical-align: middle;\n",
       "    }\n",
       "\n",
       "    .dataframe tbody tr th {\n",
       "        vertical-align: top;\n",
       "    }\n",
       "\n",
       "    .dataframe thead th {\n",
       "        text-align: right;\n",
       "    }\n",
       "</style>\n",
       "<table border=\"1\" class=\"dataframe\">\n",
       "  <thead>\n",
       "    <tr style=\"text-align: right;\">\n",
       "      <th>param</th>\n",
       "      <th>x1</th>\n",
       "      <th>x2</th>\n",
       "      <th>x3</th>\n",
       "    </tr>\n",
       "    <tr>\n",
       "      <th>h</th>\n",
       "      <th></th>\n",
       "      <th></th>\n",
       "      <th></th>\n",
       "    </tr>\n",
       "  </thead>\n",
       "  <tbody>\n",
       "    <tr>\n",
       "      <th>1</th>\n",
       "      <td>0.085613</td>\n",
       "      <td>0.525746</td>\n",
       "      <td>0.001307</td>\n",
       "    </tr>\n",
       "    <tr>\n",
       "      <th>2</th>\n",
       "      <td>0.172244</td>\n",
       "      <td>1.077891</td>\n",
       "      <td>0.002405</td>\n",
       "    </tr>\n",
       "    <tr>\n",
       "      <th>3</th>\n",
       "      <td>0.259459</td>\n",
       "      <td>1.645587</td>\n",
       "      <td>0.003383</td>\n",
       "    </tr>\n",
       "    <tr>\n",
       "      <th>4</th>\n",
       "      <td>0.346823</td>\n",
       "      <td>2.217368</td>\n",
       "      <td>0.004332</td>\n",
       "    </tr>\n",
       "    <tr>\n",
       "      <th>5</th>\n",
       "      <td>0.433894</td>\n",
       "      <td>2.781451</td>\n",
       "      <td>0.005340</td>\n",
       "    </tr>\n",
       "    <tr>\n",
       "      <th>6</th>\n",
       "      <td>0.520234</td>\n",
       "      <td>3.326053</td>\n",
       "      <td>0.006498</td>\n",
       "    </tr>\n",
       "    <tr>\n",
       "      <th>7</th>\n",
       "      <td>0.605405</td>\n",
       "      <td>3.839704</td>\n",
       "      <td>0.007895</td>\n",
       "    </tr>\n",
       "    <tr>\n",
       "      <th>8</th>\n",
       "      <td>0.688975</td>\n",
       "      <td>4.311563</td>\n",
       "      <td>0.009620</td>\n",
       "    </tr>\n",
       "    <tr>\n",
       "      <th>9</th>\n",
       "      <td>0.770521</td>\n",
       "      <td>4.731710</td>\n",
       "      <td>0.011763</td>\n",
       "    </tr>\n",
       "  </tbody>\n",
       "</table>\n",
       "</div>"
      ],
      "text/plain": [
       "param        x1        x2        x3\n",
       "h                                  \n",
       "1      0.085613  0.525746  0.001307\n",
       "2      0.172244  1.077891  0.002405\n",
       "3      0.259459  1.645587  0.003383\n",
       "4      0.346823  2.217368  0.004332\n",
       "5      0.433894  2.781451  0.005340\n",
       "6      0.520234  3.326053  0.006498\n",
       "7      0.605405  3.839704  0.007895\n",
       "8      0.688975  4.311563  0.009620\n",
       "9      0.770521  4.731710  0.011763"
      ]
     },
     "execution_count": 12,
     "metadata": {},
     "output_type": "execute_result"
    }
   ],
   "source": [
    "experiment_1.morris_value[0].unstack(0)"
   ]
  }
 ],
 "metadata": {
  "kernelspec": {
   "display_name": "Python 3",
   "language": "python",
   "name": "python3"
  },
  "language_info": {
   "codemirror_mode": {
    "name": "ipython",
    "version": 3
   },
   "file_extension": ".py",
   "mimetype": "text/x-python",
   "name": "python",
   "nbconvert_exporter": "python",
   "pygments_lexer": "ipython3",
   "version": "3.8.8"
  }
 },
 "nbformat": 4,
 "nbformat_minor": 5
}
