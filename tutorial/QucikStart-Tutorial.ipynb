{
 "cells": [
  {
   "cell_type": "markdown",
   "id": "4c1dc508-0901-4030-8d3e-a4eee9063d5a",
   "metadata": {},
   "source": [
    "# VARS-TOOL Quick Start Tutorial"
   ]
  },
  {
   "cell_type": "markdown",
   "id": "0ad15117-0fa2-4611-a243-c99558864464",
   "metadata": {},
   "source": [
    "## Install"
   ]
  },
  {
   "cell_type": "markdown",
   "id": "a0b070fd-8475-4ed7-a211-76a6ea7cd3ed",
   "metadata": {},
   "source": [
    "This is a simple tutorial show casing VARS-TOOL functionalities that are being implement in Python.Let's install the latest VARS-TOOL from GitHub:"
   ]
  },
  {
   "cell_type": "code",
   "execution_count": 1,
   "id": "80339700-45f8-4d2e-a81a-73d04d1f9def",
   "metadata": {},
   "outputs": [
    {
     "name": "stderr",
     "output_type": "stream",
     "text": [
      "Cloning into 'vars-tool'...\n"
     ]
    },
    {
     "name": "stdout",
     "output_type": "stream",
     "text": [
      "Processing c:\\users\\corde\\giws\\vars-tool\\tutorial\\vars-tool\n",
      "  Installing build dependencies: started\n",
      "  Installing build dependencies: still running...\n",
      "  Installing build dependencies: finished with status 'done'\n",
      "  Getting requirements to build wheel: started\n",
      "  Getting requirements to build wheel: finished with status 'done'\n",
      "    Preparing wheel metadata: started\n",
      "    Preparing wheel metadata: finished with status 'done'\n",
      "Requirement already satisfied: pandas in c:\\users\\corde\\anaconda3\\lib\\site-packages (from varstool==2.1) (1.2.4)\n",
      "Requirement already satisfied: matplotlib in c:\\users\\corde\\anaconda3\\lib\\site-packages (from varstool==2.1) (3.3.4)\n",
      "Requirement already satisfied: scipy in c:\\users\\corde\\anaconda3\\lib\\site-packages (from varstool==2.1) (1.6.2)\n",
      "Requirement already satisfied: numpy in c:\\users\\corde\\anaconda3\\lib\\site-packages (from varstool==2.1) (1.20.1)\n",
      "Requirement already satisfied: kiwisolver>=1.0.1 in c:\\users\\corde\\anaconda3\\lib\\site-packages (from matplotlib->varstool==2.1) (1.3.1)\n",
      "Requirement already satisfied: pyparsing!=2.0.4,!=2.1.2,!=2.1.6,>=2.0.3 in c:\\users\\corde\\anaconda3\\lib\\site-packages (from matplotlib->varstool==2.1) (2.4.7)\n",
      "Requirement already satisfied: cycler>=0.10 in c:\\users\\corde\\anaconda3\\lib\\site-packages (from matplotlib->varstool==2.1) (0.10.0)\n",
      "Requirement already satisfied: pillow>=6.2.0 in c:\\users\\corde\\anaconda3\\lib\\site-packages (from matplotlib->varstool==2.1) (8.2.0)\n",
      "Requirement already satisfied: python-dateutil>=2.1 in c:\\users\\corde\\anaconda3\\lib\\site-packages (from matplotlib->varstool==2.1) (2.8.1)\n",
      "Requirement already satisfied: six in c:\\users\\corde\\anaconda3\\lib\\site-packages (from cycler>=0.10->matplotlib->varstool==2.1) (1.15.0)\n",
      "Requirement already satisfied: pytz>=2017.3 in c:\\users\\corde\\anaconda3\\lib\\site-packages (from pandas->varstool==2.1) (2021.1)\n",
      "Building wheels for collected packages: varstool\n",
      "  Building wheel for varstool (PEP 517): started\n",
      "  Building wheel for varstool (PEP 517): finished with status 'done'\n",
      "  Created wheel for varstool: filename=varstool-2.1-py2.py3-none-any.whl size=63326 sha256=cae7069ca48ea637a0445e2cbe42daa963c7207cbfa2bbee033a233c0da4e14d\n",
      "  Stored in directory: c:\\users\\corde\\appdata\\local\\pip\\cache\\wheels\\ea\\22\\e6\\94dfc4ddef885e03d97899daed3e63a6c2c3a1295f1b37f687\n",
      "Successfully built varstool\n",
      "Installing collected packages: varstool\n",
      "  Attempting uninstall: varstool\n",
      "    Found existing installation: varstool 2.1\n",
      "    Uninstalling varstool-2.1:\n",
      "      Successfully uninstalled varstool-2.1\n",
      "Successfully installed varstool-2.1\n"
     ]
    }
   ],
   "source": [
    "!git clone https://github.com/vars-tool/vars-tool\n",
    "!pip install vars-tool/."
   ]
  },
  {
   "cell_type": "markdown",
   "id": "4129b5ed-72dd-48a6-bbde-f1f8c2787768",
   "metadata": {},
   "source": [
    "## Example using the Ishigami and wavy6D models"
   ]
  },
  {
   "cell_type": "markdown",
   "id": "43e0b1de-6ea0-4888-80f9-ab05fd5c2ba7",
   "metadata": {},
   "source": [
    "Let's import VARS for the analysis and the Model class for creating a wrapper around the desired model so that it can be inputted into VARS"
   ]
  },
  {
   "cell_type": "code",
   "execution_count": 2,
   "id": "9fcb8c5b-383f-405f-aa39-ec8e092573a7",
   "metadata": {},
   "outputs": [],
   "source": [
    "# importing VARS and Model from varstool package\n",
    "from varstool import VARS, Model\n",
    "\n",
    "# these are being imported in order for us to display the data nicely on the notebook\n",
    "import numpy as np\n",
    "import pandas as pd"
   ]
  },
  {
   "cell_type": "markdown",
   "id": "0d6fa3b0-fc07-41f5-8d8a-9ec80ed4baa1",
   "metadata": {},
   "source": [
    "Here is a quick function definition of the Ishigami model:"
   ]
  },
  {
   "cell_type": "code",
   "execution_count": 3,
   "id": "82dc16bc-ac9b-447b-913a-43f5a384bd41",
   "metadata": {},
   "outputs": [],
   "source": [
    "def ishigami(x, a=7, b=0.05):\n",
    "    '''Ishigami test function'''\n",
    "    # check whether the input x is a dataframe\n",
    "    \n",
    "    if not isinstance(x, (pd.core.frame.DataFrame, pd.core.series.Series, np.ndarray, list)):\n",
    "        raise TypeError('`x` must be of type pandas.DataFrame, numpy.ndarray, pd.Series, or list')\n",
    "    \n",
    "    if len(x) > 3:\n",
    "        raise ValueError('`x` must have only three arguments at a time')\n",
    "    \n",
    "    return np.sin(x[0]) + a*(np.sin(x[1])**2) + b*(x[2]**4)*np.sin(x[0])"
   ]
  },
  {
   "cell_type": "markdown",
   "id": "f71654b5-bf54-4e6f-b4eb-477ffb8f4d94",
   "metadata": {},
   "source": [
    "Here is a quick function definition of the wavy6D model:"
   ]
  },
  {
   "cell_type": "code",
   "execution_count": 4,
   "id": "1c965078-63e7-4fa7-9d70-b4e0115e3ab1",
   "metadata": {},
   "outputs": [],
   "source": [
    "def wavy6D(x):\n",
    "    '''wavy6D test function'''\n",
    "    \n",
    "# The features include:             \n",
    "# (1) The 6 input factors are non-interacting                  \n",
    "# (2) The function is \"wavy\" along the first 5 dimensions but with different \n",
    "#     frequencies and amplitude at different directions                                     \n",
    "# (3) The last dimension (X6) is fully isensitive (dummy variable)                                         \n",
    "# (4) It possess large-scale features such multi-modality (X1) \n",
    "#     to small-scale features such as roughness (X3)          \n",
    "# (5) The directional variograms of X1 and X2 cross each other\n",
    "    \n",
    "    # check whether the input x is a dataframe\n",
    "    \n",
    "    if not isinstance(x, (pd.core.frame.DataFrame, pd.core.series.Series, np.ndarray, list)):\n",
    "        raise TypeError('`x` must be of type pandas.DataFrame, numpy.ndarray, pd.Series, or list')\n",
    "    \n",
    "    if len(x) > 6:\n",
    "        raise ValueError('`x` must have only five arguments at a time')\n",
    "    \n",
    "    y1 = -1*np.sin(2*np.pi*x[0]/2) - 0.3*np.sin(2*np.pi*x[0]/0.6);\n",
    "    y2 = 0.76*(-1*np.sin(2*np.pi*(x[1]-0.2)/2)) - 0.315;\n",
    "    y3 = 0.12*(-1*np.sin(2*np.pi*(x[2]-0.2)/1.9)) + 0.02*(-1*np.sin(2*np.pi*x[2]/0.021)) - 0.96;\n",
    "    y4 = 0.12*(-1*np.sin(2*np.pi*(x[3]-0.2)/1.9))-0.97;\n",
    "    y5 = 0.05*(-1*np.sin(2*np.pi*(x[4]-0.2)/2))-1.02;\n",
    "    y6 = -1.08;\n",
    "    \n",
    "    return y1 + y2 + y3 + y4 + y5 + y6"
   ]
  },
  {
   "cell_type": "markdown",
   "id": "a1dbc658-cb14-43e1-a318-4ab5552fac27",
   "metadata": {},
   "source": [
    "As mentioned previously The `Model` class is a wrapper for custom functions(models) in the online version of VARS. However, the first paramter of every function must accept an array of parameters\n",
    "\n",
    "Here we will create two wrappers for the testing models ishigami and wavy6D:"
   ]
  },
  {
   "cell_type": "code",
   "execution_count": 5,
   "id": "7ea0616b-1009-41db-b584-05ba34496dbb",
   "metadata": {},
   "outputs": [],
   "source": [
    "ishigami_model = Model(ishigami)"
   ]
  },
  {
   "cell_type": "code",
   "execution_count": 6,
   "id": "774fb32d-3587-4317-af6a-052633a81cf4",
   "metadata": {},
   "outputs": [],
   "source": [
    "wavy6D_model = Model(wavy6D)"
   ]
  },
  {
   "cell_type": "markdown",
   "id": "55546fff-605f-438e-a13d-69d9da77225f",
   "metadata": {},
   "source": [
    "When creating an experiment you will need to assign a variable to an instance of VARS as shown below.\n",
    "\n",
    "The paramters of the VARS class are described as:\n",
    "\n",
    "**paramaters**: the name of each paramter along with their upper and lower bounds\n",
    "\n",
    "**num_stars**: the total number of star samples that are desired for STAR-VARS analysis\n",
    "\n",
    "**delta_h**: the sampling resolution of the VARS analysis\n",
    "\n",
    "**ivars_scales**: the scales that are to be used when doing IVARS, e.g, 0.1 and 0.3 correspond (0-0.1) and (0-0.3) <br /> note: can not have a scale larger then 0.5\n",
    "\n",
    "**star_centres**: This is only used if a sampler is not chosen and you are wanting to generate your own star centres(randomized numbers)\n",
    "\n",
    "**sampler**: the sampling strategy: `rnd`, `lhs`, `plhs`, `sobol_seq`, or `halton_seq` for generation of star centers.\n",
    "\n",
    "**seed**: the seed number for randomization of the sampling strategy specified by `sampler`, only needed if a sampler was chosen\n",
    "\n",
    "**model**: the wrapper of your model you made when using the `Model` class\n",
    "\n",
    "**bootstrap_flag**: this is a True/False value that specifies if bootstrapping will be used in the VARS analysis\n",
    "\n",
    "**bootstrap_size**: the number of sampling iterations with replacement\n",
    "\n",
    "**bootstrap_ci**: the bootstrap-based confidence interval on results\n",
    "\n",
    "**grouping_flag**: this is a True/False value that specifies if paramater grouping will be used in the VARS analysis\n",
    "\n",
    "**num_grps**: the number of groups you want to split your paramaters into, if left blank the optimal number of groups will be calculated by VARS"
   ]
  },
  {
   "cell_type": "markdown",
   "id": "5dca1bdf-f8c7-478d-bab1-61f9deb57fdc",
   "metadata": {},
   "source": [
    "Create `experiment_1` and initialize the values needed to run a VARS analysis:\n",
    "\n",
    "Run the next block if you want to run the notebook using the ishigami model, do not run it if you are using wavy6D"
   ]
  },
  {
   "cell_type": "code",
   "execution_count": 7,
   "id": "fe09cd44-5992-48a9-96d8-497d75794c8f",
   "metadata": {},
   "outputs": [],
   "source": [
    "experiment_1 = VARS(parameters = {'x1':(0, 1), 'x2':(0, 1), 'x3': (0, 1)},\n",
    "                    num_stars=10,\n",
    "                    delta_h = 0.1,\n",
    "                    ivars_scales = (0.1, 0.3, 0.5),\n",
    "                    sampler = 'rnd',\n",
    "                    seed = 123456789,\n",
    "                    model = ishigami_model,\n",
    "                    bootstrap_flag = True,\n",
    "                    bootstrap_size = 100,\n",
    "                    bootstrap_ci=0.9,\n",
    "                    grouping_flag=True,\n",
    "                    num_grps=2\n",
    "                )"
   ]
  },
  {
   "cell_type": "markdown",
   "id": "ffe85e9d-dc4b-4f04-9cf7-f7238c652f82",
   "metadata": {},
   "source": [
    "Run the next block if you want to run the notebook using the wavy6D model do not run it if you are using ishigami"
   ]
  },
  {
   "cell_type": "code",
   "execution_count": 8,
   "id": "8040f239-325e-4185-9c3d-83174e58025d",
   "metadata": {},
   "outputs": [],
   "source": [
    "experiment_1 = VARS(parameters = {'x1':(0, 1), 'x2':(0, 1), 'x3': (0, 1), \\\n",
    "                                  'x4':(0, 1), 'x5':(0, 1), 'x6': (0, 1)},\n",
    "                    num_stars=10,\n",
    "                    delta_h = 0.1,\n",
    "                    ivars_scales = (0.1, 0.3, 0.5),\n",
    "                    sampler = 'rnd',\n",
    "                    seed = 123456789,\n",
    "                    model = wavy6D_model,\n",
    "                    bootstrap_flag = True,\n",
    "                    bootstrap_size = 100,\n",
    "                    bootstrap_ci=0.9,\n",
    "                    grouping_flag=True,\n",
    "                    num_grps=2\n",
    "                )"
   ]
  },
  {
   "cell_type": "markdown",
   "id": "f2856368-8220-4985-b881-b87fc37cdc59",
   "metadata": {},
   "source": [
    "A report displaying the current status of the VARS analysis can be found by typing in the variable name of the instance you created, here this is `experiment_1`"
   ]
  },
  {
   "cell_type": "code",
   "execution_count": 9,
   "id": "96fc6981-89b0-44f0-88ac-a62221466a90",
   "metadata": {},
   "outputs": [
    {
     "data": {
      "text/plain": [
       "Star Centres: Loaded\n",
       "Star Points: Not Loaded\n",
       "Parameters: 6 paremeters set\n",
       "Delta h: 0.1\n",
       "Model: wavy6D\n",
       "Seed Number: 123456789\n",
       "Bootstrap: On\n",
       "Bootstrap Size: 100\n",
       "Bootstrap CI: 0.9\n",
       "Grouping: On\n",
       "Number of Groups: 2\n",
       "VARS Analysis: Not Done"
      ]
     },
     "execution_count": 9,
     "metadata": {},
     "output_type": "execute_result"
    }
   ],
   "source": [
    "experiment_1"
   ]
  },
  {
   "cell_type": "markdown",
   "id": "0ca8f98d-2365-4dd3-b0eb-c31132809d0d",
   "metadata": {},
   "source": [
    "To run the VARS analysis simply do the following:"
   ]
  },
  {
   "cell_type": "code",
   "execution_count": 10,
   "id": "bace5ff6-8efb-4d5b-91da-c5e52a9a63ca",
   "metadata": {},
   "outputs": [
    {
     "ename": "ValueError",
     "evalue": "shape mismatch: value array of shape (3,)  could not be broadcast to indexing result of shape (3,6,6)",
     "output_type": "error",
     "traceback": [
      "\u001b[1;31m---------------------------------------------------------------------------\u001b[0m",
      "\u001b[1;31mValueError\u001b[0m                                Traceback (most recent call last)",
      "\u001b[1;32m<ipython-input-10-a1f2a6c4aabb>\u001b[0m in \u001b[0;36m<module>\u001b[1;34m\u001b[0m\n\u001b[1;32m----> 1\u001b[1;33m \u001b[0mexperiment_1\u001b[0m\u001b[1;33m.\u001b[0m\u001b[0mrun_online\u001b[0m\u001b[1;33m(\u001b[0m\u001b[1;33m)\u001b[0m\u001b[1;33m\u001b[0m\u001b[1;33m\u001b[0m\u001b[0m\n\u001b[0m",
      "\u001b[1;32m~\\anaconda3\\lib\\site-packages\\varstool\\vars_sa.py\u001b[0m in \u001b[0;36mrun_online\u001b[1;34m(self)\u001b[0m\n\u001b[0;32m    450\u001b[0m             \u001b[0mself\u001b[0m\u001b[1;33m.\u001b[0m\u001b[0mvariogram_low\u001b[0m\u001b[1;33m,\u001b[0m \u001b[0mself\u001b[0m\u001b[1;33m.\u001b[0m\u001b[0mvariogram_upp\u001b[0m\u001b[1;33m,\u001b[0m \u001b[0mself\u001b[0m\u001b[1;33m.\u001b[0m\u001b[0msobol_low\u001b[0m\u001b[1;33m,\u001b[0m \u001b[0mself\u001b[0m\u001b[1;33m.\u001b[0m\u001b[0msobol_upp\u001b[0m\u001b[1;33m,\u001b[0m \u001b[0mself\u001b[0m\u001b[1;33m.\u001b[0m\u001b[0mivars_low\u001b[0m\u001b[1;33m,\u001b[0m \u001b[0mself\u001b[0m\u001b[1;33m.\u001b[0m\u001b[0mivars_upp\u001b[0m\u001b[1;33m,\u001b[0m\u001b[0;31m \u001b[0m\u001b[0;31m\\\u001b[0m\u001b[1;33m\u001b[0m\u001b[1;33m\u001b[0m\u001b[0m\n\u001b[0;32m    451\u001b[0m             \u001b[0mself\u001b[0m\u001b[1;33m.\u001b[0m\u001b[0mrel_sobol_factor_ranking\u001b[0m\u001b[1;33m,\u001b[0m\u001b[0mself\u001b[0m\u001b[1;33m.\u001b[0m\u001b[0mrel_ivars_factor_ranking\u001b[0m\u001b[1;33m,\u001b[0m \u001b[0mself\u001b[0m\u001b[1;33m.\u001b[0m\u001b[0mivars50_grp\u001b[0m\u001b[1;33m,\u001b[0m \u001b[0mself\u001b[0m\u001b[1;33m.\u001b[0m\u001b[0msobol_grp\u001b[0m\u001b[1;33m,\u001b[0m\u001b[0;31m \u001b[0m\u001b[0;31m\\\u001b[0m\u001b[1;33m\u001b[0m\u001b[1;33m\u001b[0m\u001b[0m\n\u001b[1;32m--> 452\u001b[1;33m             \u001b[0mself\u001b[0m\u001b[1;33m.\u001b[0m\u001b[0mreli_sobol_grp\u001b[0m\u001b[1;33m,\u001b[0m \u001b[0mself\u001b[0m\u001b[1;33m.\u001b[0m\u001b[0mreli_ivars50_grp\u001b[0m \u001b[1;33m=\u001b[0m \u001b[0mself\u001b[0m\u001b[1;33m.\u001b[0m\u001b[0m_bootstrapping\u001b[0m\u001b[1;33m(\u001b[0m\u001b[0mpair_df\u001b[0m\u001b[1;33m,\u001b[0m \u001b[0mdf\u001b[0m\u001b[1;33m,\u001b[0m \u001b[0mcov_section_all\u001b[0m\u001b[1;33m)\u001b[0m\u001b[1;33m\u001b[0m\u001b[1;33m\u001b[0m\u001b[0m\n\u001b[0m\u001b[0;32m    453\u001b[0m         \u001b[1;32melse\u001b[0m\u001b[1;33m:\u001b[0m\u001b[1;33m\u001b[0m\u001b[1;33m\u001b[0m\u001b[0m\n\u001b[0;32m    454\u001b[0m             \u001b[0mself\u001b[0m\u001b[1;33m.\u001b[0m\u001b[0mvariogram_low\u001b[0m\u001b[1;33m,\u001b[0m \u001b[0mself\u001b[0m\u001b[1;33m.\u001b[0m\u001b[0mvariogram_upp\u001b[0m\u001b[1;33m,\u001b[0m \u001b[0mself\u001b[0m\u001b[1;33m.\u001b[0m\u001b[0msobol_low\u001b[0m\u001b[1;33m,\u001b[0m \u001b[0mself\u001b[0m\u001b[1;33m.\u001b[0m\u001b[0msobol_upp\u001b[0m\u001b[1;33m,\u001b[0m \u001b[0mself\u001b[0m\u001b[1;33m.\u001b[0m\u001b[0mivars_low\u001b[0m\u001b[1;33m,\u001b[0m \u001b[0mself\u001b[0m\u001b[1;33m.\u001b[0m\u001b[0mivars_upp\u001b[0m\u001b[1;33m,\u001b[0m\u001b[0;31m \u001b[0m\u001b[0;31m\\\u001b[0m\u001b[1;33m\u001b[0m\u001b[1;33m\u001b[0m\u001b[0m\n",
      "\u001b[1;32m~\\anaconda3\\lib\\site-packages\\varstool\\vars_sa.py\u001b[0m in \u001b[0;36m_bootstrapping\u001b[1;34m(self, pair_df, df, cov_section_all)\u001b[0m\n\u001b[0;32m    662\u001b[0m                                                          columns=self.parameters.keys())\n\u001b[0;32m    663\u001b[0m \u001b[1;33m\u001b[0m\u001b[0m\n\u001b[1;32m--> 664\u001b[1;33m             \u001b[0mbootstrapped_ivars_ranking\u001b[0m \u001b[1;33m=\u001b[0m \u001b[0mself\u001b[0m\u001b[1;33m.\u001b[0m\u001b[0m_factor_ranking\u001b[0m\u001b[1;33m(\u001b[0m\u001b[0mbootstrapped_ivars_df\u001b[0m\u001b[1;33m)\u001b[0m\u001b[1;33m\u001b[0m\u001b[1;33m\u001b[0m\u001b[0m\n\u001b[0m\u001b[0;32m    665\u001b[0m             bootstrapped_ivars_ranking_df = pd.DataFrame(data=bootstrapped_ivars_ranking,\n\u001b[0;32m    666\u001b[0m                                                          \u001b[0mcolumns\u001b[0m\u001b[1;33m=\u001b[0m\u001b[0mself\u001b[0m\u001b[1;33m.\u001b[0m\u001b[0mparameters\u001b[0m\u001b[1;33m.\u001b[0m\u001b[0mkeys\u001b[0m\u001b[1;33m(\u001b[0m\u001b[1;33m)\u001b[0m\u001b[1;33m,\u001b[0m\u001b[1;33m\u001b[0m\u001b[1;33m\u001b[0m\u001b[0m\n",
      "\u001b[1;32m~\\anaconda3\\lib\\site-packages\\varstool\\vars_sa.py\u001b[0m in \u001b[0;36m_factor_ranking\u001b[1;34m(self, factors)\u001b[0m\n\u001b[0;32m    491\u001b[0m         \u001b[0mranks\u001b[0m \u001b[1;33m=\u001b[0m \u001b[0mnp\u001b[0m\u001b[1;33m.\u001b[0m\u001b[0mempty_like\u001b[0m\u001b[1;33m(\u001b[0m\u001b[0mtemp\u001b[0m\u001b[1;33m)\u001b[0m\u001b[1;33m\u001b[0m\u001b[1;33m\u001b[0m\u001b[0m\n\u001b[0;32m    492\u001b[0m         \u001b[1;31m# rank factors with highest value being the lowest rank\u001b[0m\u001b[1;33m\u001b[0m\u001b[1;33m\u001b[0m\u001b[1;33m\u001b[0m\u001b[0m\n\u001b[1;32m--> 493\u001b[1;33m         \u001b[0mranks\u001b[0m\u001b[1;33m[\u001b[0m\u001b[0mtemp\u001b[0m\u001b[1;33m]\u001b[0m \u001b[1;33m=\u001b[0m \u001b[0mnp\u001b[0m\u001b[1;33m.\u001b[0m\u001b[0marange\u001b[0m\u001b[1;33m(\u001b[0m\u001b[0mlen\u001b[0m\u001b[1;33m(\u001b[0m\u001b[0mfactors\u001b[0m\u001b[1;33m)\u001b[0m\u001b[1;33m)\u001b[0m\u001b[1;33m\u001b[0m\u001b[1;33m\u001b[0m\u001b[0m\n\u001b[0m\u001b[0;32m    494\u001b[0m \u001b[1;33m\u001b[0m\u001b[0m\n\u001b[0;32m    495\u001b[0m         \u001b[1;32mreturn\u001b[0m \u001b[0mranks\u001b[0m\u001b[1;33m\u001b[0m\u001b[1;33m\u001b[0m\u001b[0m\n",
      "\u001b[1;31mValueError\u001b[0m: shape mismatch: value array of shape (3,)  could not be broadcast to indexing result of shape (3,6,6)"
     ]
    }
   ],
   "source": [
    "experiment_1.run_online()"
   ]
  },
  {
   "cell_type": "markdown",
   "id": "15622e8c-ddb0-4e81-84f9-c2a132f6da82",
   "metadata": {},
   "source": [
    "Now if we take a look at the status report again we can see that the `Vars Analysis` is now done."
   ]
  },
  {
   "cell_type": "code",
   "execution_count": null,
   "id": "6dacfedb-4db9-45e4-bb80-53f7ec1db453",
   "metadata": {},
   "outputs": [],
   "source": [
    "experiment_1"
   ]
  },
  {
   "cell_type": "markdown",
   "id": "cce273cf-bb2b-4c7c-b30d-bed4d5b9c411",
   "metadata": {},
   "source": [
    "Now we can access all the results using 'dot' notation on our created instance:"
   ]
  },
  {
   "cell_type": "markdown",
   "id": "bba1a1a2-d6fd-424f-8125-1969556efc11",
   "metadata": {},
   "source": [
    "**Directional variogram results**\n",
    "\n",
    "There are 10 rows as the number of stars was 10, and each at a resolution incremented by 0.1 which was specificed to be the sampling resolution"
   ]
  },
  {
   "cell_type": "code",
   "execution_count": null,
   "id": "98995c46-77bb-4f94-81cc-0098d83bc1ec",
   "metadata": {},
   "outputs": [],
   "source": [
    "experiment_1.variogram_value.unstack(0)"
   ]
  },
  {
   "cell_type": "markdown",
   "id": "251a0834-d247-4d6f-8971-6eab90a2830a",
   "metadata": {},
   "source": [
    "**Directional covariogram results**"
   ]
  },
  {
   "cell_type": "code",
   "execution_count": null,
   "id": "f318517f-934d-4eb7-9abf-8256f93a8522",
   "metadata": {},
   "outputs": [],
   "source": [
    "experiment_1.covariogram_value.unstack(0)"
   ]
  },
  {
   "cell_type": "markdown",
   "id": "da253d5e-7a5a-446f-9bb8-b1d77478c0f1",
   "metadata": {},
   "source": [
    "**Directional expected covariogram results**"
   ]
  },
  {
   "cell_type": "code",
   "execution_count": null,
   "id": "647fff42-e7c9-40cd-9841-83462449b1b1",
   "metadata": {},
   "outputs": [],
   "source": [
    "experiment_1.e_covariogram_value.unstack(0)"
   ]
  },
  {
   "cell_type": "markdown",
   "id": "068ac75d-9622-480f-95f2-54b076392680",
   "metadata": {},
   "source": [
    "**VARS-TO: Sobol total-order effects calculated through VARS**"
   ]
  },
  {
   "cell_type": "code",
   "execution_count": null,
   "id": "f5ce5bf7-54be-4a62-8045-893f6e5a5315",
   "metadata": {},
   "outputs": [],
   "source": [
    "experiment_1.sobol_value"
   ]
  },
  {
   "cell_type": "markdown",
   "id": "c1014244-01b4-4af0-a2c8-94ce06836868",
   "metadata": {},
   "source": [
    "**VARS-ABE: Morris mean absolute elementary effects across scales**"
   ]
  },
  {
   "cell_type": "code",
   "execution_count": null,
   "id": "ea6a675f-8350-4fb2-9839-bc5edd3fd8c2",
   "metadata": {},
   "outputs": [],
   "source": [
    "experiment_1.morris_value[0].unstack(0)"
   ]
  },
  {
   "cell_type": "markdown",
   "id": "8e3b304b-ac94-4d4a-84bd-d15b80ccaccc",
   "metadata": {},
   "source": [
    "**VARS-ACE: Morris mean actual elementary effects across scales**"
   ]
  },
  {
   "cell_type": "code",
   "execution_count": null,
   "id": "65bac05d-1f8f-4b52-b1b5-200592b46b96",
   "metadata": {},
   "outputs": [],
   "source": [
    "experiment_1.morris_value[1].unstack(0)"
   ]
  },
  {
   "cell_type": "markdown",
   "id": "068b6b36-f825-4a2d-ba70-10c76c4c9f6f",
   "metadata": {},
   "source": [
    "**Integrated variogram**"
   ]
  },
  {
   "cell_type": "code",
   "execution_count": null,
   "id": "56118ec0-7128-4cd6-b30e-09e9039cebdf",
   "metadata": {},
   "outputs": [],
   "source": [
    "experiment_1.ivars"
   ]
  },
  {
   "cell_type": "markdown",
   "id": "cb0789aa-1974-42c0-8ea6-2cab46a2baae",
   "metadata": {},
   "source": [
    "**The factor(parameter) rankings based on their influence**. \n",
    "\n",
    "The influence is based on how large or small a result is. The lower the ranking the more influential(larger) a factor is."
   ]
  },
  {
   "cell_type": "code",
   "execution_count": null,
   "id": "e7270d46-a59c-45cc-a5db-67770d42456b",
   "metadata": {},
   "outputs": [],
   "source": [
    "experiment_1.ivars_factor_ranking"
   ]
  },
  {
   "cell_type": "code",
   "execution_count": null,
   "id": "b3a7714e-1937-42f9-88a0-df8999b9b708",
   "metadata": {},
   "outputs": [],
   "source": [
    "experiment_1.sobol_factor_ranking"
   ]
  },
  {
   "cell_type": "markdown",
   "id": "43253978-e2ea-49be-989e-ce57a2dea2c1",
   "metadata": {},
   "source": [
    "**Bootstrapping results based on the confidence interval limits**\n",
    "\n",
    "low is the lower limit of the results after `bootstrap_size` sampling iterations\n",
    "\n",
    "upp is the upper limit of the results after `bootstrap_size` sampling iterations"
   ]
  },
  {
   "cell_type": "code",
   "execution_count": null,
   "id": "266c6890-09ed-4ded-b991-d1f80bcf3636",
   "metadata": {},
   "outputs": [],
   "source": [
    "experiment_1.variogram_low"
   ]
  },
  {
   "cell_type": "code",
   "execution_count": null,
   "id": "cbfd1147-c443-4de9-96ad-f74f6af5ae84",
   "metadata": {},
   "outputs": [],
   "source": [
    "experiment_1.variogram_upp"
   ]
  },
  {
   "cell_type": "code",
   "execution_count": null,
   "id": "c44a2ecc-2274-464b-9404-ba547ec41652",
   "metadata": {},
   "outputs": [],
   "source": [
    "experiment_1.sobol_low"
   ]
  },
  {
   "cell_type": "code",
   "execution_count": null,
   "id": "bbe7f590-c428-4434-8dbc-6afe37861554",
   "metadata": {},
   "outputs": [],
   "source": [
    "experiment_1.sobol_upp"
   ]
  },
  {
   "cell_type": "code",
   "execution_count": null,
   "id": "78daea31-9094-468e-a718-ea43bacc7ae9",
   "metadata": {},
   "outputs": [],
   "source": [
    "experiment_1.ivars_low"
   ]
  },
  {
   "cell_type": "code",
   "execution_count": null,
   "id": "8a35ab01-6bc7-4e82-968e-0bf89bc5d8c5",
   "metadata": {},
   "outputs": [],
   "source": [
    "experiment_1.ivars_upp"
   ]
  },
  {
   "cell_type": "markdown",
   "id": "dab1ea8b-01f2-4819-9ea2-032e217d8fd5",
   "metadata": {},
   "source": [
    "**Reliability estimates of factor rankings based on VARS-TO**\n",
    "\n",
    "reliability estimates give the ratio of how many times the rankings were the same for `bootstrap_size` sampling iterations"
   ]
  },
  {
   "cell_type": "code",
   "execution_count": null,
   "id": "644a86b1-57c3-426e-948d-32d42b909b9f",
   "metadata": {},
   "outputs": [],
   "source": [
    "experiment_1.rel_sobol_factor_ranking"
   ]
  },
  {
   "cell_type": "code",
   "execution_count": null,
   "id": "b359b237-a5d8-430e-86de-009fcf5fe07d",
   "metadata": {},
   "outputs": [],
   "source": [
    "experiment_1.rel_ivars_factor_ranking"
   ]
  },
  {
   "cell_type": "markdown",
   "id": "edfd798d-7f35-41ea-84d5-b50522ed5e17",
   "metadata": {},
   "source": [
    "**Reliability estimates of factor rankings based on IVARS 50**"
   ]
  },
  {
   "cell_type": "code",
   "execution_count": null,
   "id": "96232272-cdff-47cf-9d98-35bd612847b1",
   "metadata": {},
   "outputs": [],
   "source": [
    "experiment_1.ivars50_grp"
   ]
  },
  {
   "cell_type": "code",
   "execution_count": null,
   "id": "f27d00a8-dd65-4434-8a9b-e4409af2f6f9",
   "metadata": {},
   "outputs": [],
   "source": [
    "experiment_1.sobol_grp"
   ]
  },
  {
   "cell_type": "markdown",
   "id": "934169e7-a92e-4442-821e-ab0e7e5db163",
   "metadata": {},
   "source": [
    "**Reliability estimates of rankings based on grouping**"
   ]
  },
  {
   "cell_type": "code",
   "execution_count": null,
   "id": "d99590dd-06fa-4bcf-866d-a6e7e9c56e7e",
   "metadata": {},
   "outputs": [],
   "source": [
    "experiment_1.reli_sobol_grp"
   ]
  },
  {
   "cell_type": "code",
   "execution_count": null,
   "id": "6ca4f232-17ec-4fa3-950c-b69a7fd3843e",
   "metadata": {},
   "outputs": [],
   "source": [
    "experiment_1.reli_ivars50_grp"
   ]
  },
  {
   "cell_type": "code",
   "execution_count": null,
   "id": "647f843b-2d4c-4884-889f-6f994debf708",
   "metadata": {},
   "outputs": [],
   "source": []
  }
 ],
 "metadata": {
  "kernelspec": {
   "display_name": "Python 3",
   "language": "python",
   "name": "python3"
  },
  "language_info": {
   "codemirror_mode": {
    "name": "ipython",
    "version": 3
   },
   "file_extension": ".py",
   "mimetype": "text/x-python",
   "name": "python",
   "nbconvert_exporter": "python",
   "pygments_lexer": "ipython3",
   "version": "3.8.8"
  }
 },
 "nbformat": 4,
 "nbformat_minor": 5
}
