{
 "cells": [
  {
   "cell_type": "markdown",
   "metadata": {},
   "source": [
    "# Sensitivity Analysis\n",
    "\n",
    "Notebook developed by Saman Razavi and Kasra Keshavarz\n",
    "\n",
    "### For the VARS method, please cite:\n",
    "\n",
    "Razavi, S., & Gupta, H. V. (2016). A new framework for comprehensive, robust, and efficient global sensitivity analysis: 1. Theory. Water Resources Research, 52(1), 423-439. https://agupubs.onlinelibrary.wiley.com/doi/full/10.1002/2015WR017558\n",
    "\n",
    "Razavi, S., & Gupta, H. V. (2016). A new framework for comprehensive, robust, and efficient global sensitivity analysis: 2. Application. Water Resources Research, 52(1), 440-455. https://agupubs.onlinelibrary.wiley.com/doi/abs/10.1002/2015WR017559\n",
    "\n",
    "\n",
    "### For HBV-SASK, please cite:\n",
    "\n",
    "Razavi, S., Sheikholeslami, R., Gupta, H. V., & Haghnegahdar, A. (2019). VARS-TOOL: A toolbox for comprehensive, efficient, and robust sensitivity and uncertainty analysis. Environmental modelling & software, 112, 95-107. https://www.sciencedirect.com/science/article/pii/S1364815218304766"
   ]
  },
  {
   "cell_type": "markdown",
   "metadata": {},
   "source": [
    "# Exercise 6: Sensitivity Analysis of HBV-SASK\n",
    "### Objective:\n",
    "\n",
    "This notebook runs sensitivity analysis on the HBV-VARS model using the STAR-VARS method and returns VARS sensitivity indices such as total-variogram effects (i.e., IVARS50), Sobol total-order effects, and Morris elementary effects."
   ]
  },
  {
   "cell_type": "markdown",
   "metadata": {},
   "source": [
    "First import the needed librares, including `VARS` for sensitivity analysis and the `Model` class for creating a wrapper around the desired model so that it can be inputted into VARS."
   ]
  },
  {
   "cell_type": "code",
   "execution_count": 1,
   "metadata": {},
   "outputs": [],
   "source": [
    "import numpy as np\n",
    "import pandas as pd\n",
    "from varstool import VARS, Model\n",
    "import hbv"
   ]
  },
  {
   "cell_type": "markdown",
   "metadata": {},
   "source": [
    "Define the function of interest in sensitivity analysis. Here, the following function runs the HBV-SASK model and returns a **single model response**. The model response here could be a flux or state variable at a given time step or a goodness-of-fit performance metric. "
   ]
  },
  {
   "cell_type": "code",
   "execution_count": 2,
   "metadata": {},
   "outputs": [],
   "source": [
    "def custom_HBV_SASK(x):\n",
    "    # preparing the inputs \n",
    "    x.index = ['TT', 'C0', 'ETF', 'LP', 'FC', 'beta', 'FRAC', 'K1', 'alpha', 'K2', 'UBAS', 'PM']\n",
    "    param = x.to_dict()\n",
    "    \n",
    "    # running the HBV-SASK Model\n",
    "    basin = 'Oldman Basin'  # choose the basin of interest, either 'Oldman Basin' or 'Banff Basin'\n",
    "    flux, state, forcing = hbv.HBV_SASK(basin, param)\n",
    "\n",
    "    # choose the model response of interest, two options: (1) direct model response or (2) performance metric\n",
    "    \n",
    "    # (1) for direct model response at a given time step, use the following\n",
    "#     start_day = end_day = '2005-10-05' # choose the date of interest\n",
    "#     out = flux['Q_cms'][start_day:end_day]\n",
    "    \n",
    "    # (2) for a performance metric over a given historical period, use the following\n",
    "    start_day   ='1982-01-01'  # start date of the period over which the performance metric is computed\n",
    "    end_day     ='1996-12-31'  # end date of the period over which the performance metric is computed\n",
    "    # loading observed streamflow for comparison\n",
    "    Qobs        = hbv.obs_streamflow(basin)\n",
    "    mean_obs    = np.mean(Qobs[start_day:end_day])\n",
    "    denominator = np.mean((Qobs[start_day:end_day] - np.mean(Qobs[start_day:end_day]))**2)\n",
    "    numerator   = np.mean((Qobs[start_day:end_day].values.T - flux['Q_cms'][start_day:end_day].values)**2)\n",
    "    nse         = 1 - numerator/denominator\n",
    "    out         = nse.values[0]\n",
    "    return out"
   ]
  },
  {
   "cell_type": "markdown",
   "metadata": {},
   "source": [
    "Wrap the function of interest with the `Model` class."
   ]
  },
  {
   "cell_type": "code",
   "execution_count": 3,
   "metadata": {},
   "outputs": [],
   "source": [
    "HBV_model = Model(custom_HBV_SASK)"
   ]
  },
  {
   "cell_type": "markdown",
   "metadata": {},
   "source": [
    "Let's run the wrapped function for an arbitrary input and check the model response."
   ]
  },
  {
   "cell_type": "code",
   "execution_count": 4,
   "metadata": {},
   "outputs": [
    {
     "data": {
      "text/plain": [
       "-0.28125543334168723"
      ]
     },
     "execution_count": 4,
     "metadata": {},
     "output_type": "execute_result"
    }
   ],
   "source": [
    "x=pd.Series({#name  #value\n",
    "             'TT'   : -4.00,\n",
    "             'C0'   : 0.00,\n",
    "             'ETF'  : 0.00,\n",
    "             'LP'   : 0.10,\n",
    "             'FC'   : 50.0,\n",
    "             'beta' : 1.00,\n",
    "             'FRAC' : 0.10,\n",
    "             'K1'   : 0.05,\n",
    "             'alpha': 1.00,\n",
    "             'K2'   : 0.00,\n",
    "             'UBAS' : 1.00,\n",
    "             'PM'   : 0.50,\n",
    "             })\n",
    "HBV_model(x)"
   ]
  },
  {
   "cell_type": "markdown",
   "metadata": {},
   "source": [
    "Create a VARS experiment and set its attributes, according to the table below.\n",
    "\n",
    "| Attribute      | Description |\n",
    "| :-------------:|:----------- |\n",
    "|`paramaters`    | The name of every paramter along with its upper and lower bounds           |\n",
    "|`num_stars`     | The total number of stars centers for VARS analysis                        |\n",
    "|`delta_h`       | The sampling resolution of the STAR-VARS sampling to generate star points  |\n",
    "|`ivars_scales`  | The scales of interest for IVARS estimation, e.g, 0.1 and 0.5 correspond (0-0.1) and (0-0.5) <br /> note: can not have a scale larger than 0.5|\n",
    "|`star_centres`  | User-generated star centers - only used when a sampler is not chosen       |\n",
    "|`sampler`       | The sampling strategy: `rnd`, `lhs`, `plhs`, `sobol_seq`, or `halton_seq` for generation of star centers|\n",
    "|`seed`          | The seed number for randomization of the sampling strategy specified by `sampler`, <br /> only needed if a sampler was chosen  |\n",
    "|`model`         | The wrapper of your model in the `Model` class|\n",
    "|`bootstrap_flag`| This is a `True`/`False` value to turn on/off bootstrapping of VARS results   |\n",
    "|`bootstrap_size`| The number of sampling iterations with replacement via bootstrapping |\n",
    "|`bootstrap_ci`  | The level of confidence used in bootstrap reporting         |\n",
    "|`grouping_flag` | This is a `True`/`False` value to turn on/off grouping of VARS results   |\n",
    "|`num_grps`      | The number of groups you want to split your model paramaters into, <br /> if left blank the optimal number of groups will be calculated by VARS|\n",
    "|`report_verbose`| this is a `True`/`False` value that if `True` will display a loading bar <br /> to show the progession of the VARS analysis, else there will be no progression loading bar|\n"
   ]
  },
  {
   "cell_type": "code",
   "execution_count": 5,
   "metadata": {},
   "outputs": [],
   "source": [
    "experiment_1 = VARS(parameters={  #lb     #ub\n",
    "                   'TT'   : [-4.00, 4.00],\n",
    "                   'C0'   : [0.00 , 10.0],\n",
    "                   'ETF'  : [0.00 , 1.00],\n",
    "                   'LP'   : [0.00 , 1.00],\n",
    "                   'FC'   : [50.0 ,500.0],\n",
    "                   'beta' : [1.00 , 3.00],\n",
    "                   'FRAC' : [0.10 , 0.90],\n",
    "                   'K1'   : [0.05 , 1.00],\n",
    "                   'alpha': [1.00 , 3.00],\n",
    "                   'K2'   : [0.00 , 0.05],\n",
    "                   'UBAS' : [1.00 , 3.00],\n",
    "                   'PM'   : [0.50 , 2.00],},\n",
    "                    num_stars=10,\n",
    "                    delta_h = 0.1,\n",
    "                    ivars_scales = (0.1, 0.3, 0.5),\n",
    "                    sampler = 'rnd',\n",
    "                    seed = 123456789,\n",
    "                    model = HBV_model,\n",
    "                    bootstrap_flag = True,\n",
    "                    bootstrap_size = 100,\n",
    "                    bootstrap_ci=0.9,\n",
    "                    grouping_flag=True,\n",
    "                    num_grps=2,\n",
    "                    report_verbose=True,\n",
    "                )"
   ]
  },
  {
   "cell_type": "markdown",
   "metadata": {},
   "source": [
    "Now, run the VARS experiment set up above."
   ]
  },
  {
   "cell_type": "code",
   "execution_count": 6,
   "metadata": {},
   "outputs": [
    {
     "name": "stderr",
     "output_type": "stream",
     "text": [
      "C:\\Users\\ser134\\Anaconda3\\lib\\site-packages\\tqdm\\std.py:697: FutureWarning: The Panel class is removed from pandas. Accessing it from the top-level namespace will also be removed in the next version\n",
      "  from pandas import Panel\n"
     ]
    },
    {
     "data": {
      "application/vnd.jupyter.widget-view+json": {
       "model_id": "6058b56fc43e425d8e70df54a1fa182c",
       "version_major": 2,
       "version_minor": 0
      },
      "text/plain": [
       "HBox(children=(HTML(value='function evaluation'), FloatProgress(value=0.0, layout=Layout(flex='2'), max=1090.0…"
      ]
     },
     "metadata": {},
     "output_type": "display_data"
    },
    {
     "name": "stdout",
     "output_type": "stream",
     "text": [
      "\n"
     ]
    },
    {
     "name": "stderr",
     "output_type": "stream",
     "text": [
      "C:\\Users\\ser134\\Anaconda3\\lib\\site-packages\\tqdm\\std.py:697: FutureWarning: The Panel class is removed from pandas. Accessing it from the top-level namespace will also be removed in the next version\n",
      "  from pandas import Panel\n"
     ]
    },
    {
     "data": {
      "application/vnd.jupyter.widget-view+json": {
       "model_id": "3cf42713302a40f7991c59fc8edbc4f4",
       "version_major": 2,
       "version_minor": 0
      },
      "text/plain": [
       "HBox(children=(HTML(value='building pairs'), FloatProgress(value=0.0, layout=Layout(flex='2'), max=120.0), HTM…"
      ]
     },
     "metadata": {},
     "output_type": "display_data"
    },
    {
     "name": "stdout",
     "output_type": "stream",
     "text": [
      "\n"
     ]
    },
    {
     "data": {
      "application/vnd.jupyter.widget-view+json": {
       "model_id": "858e1fefe7034594afad57b5dd8eb235",
       "version_major": 2,
       "version_minor": 0
      },
      "text/plain": [
       "HBox(children=(HTML(value='VARS analysis'), FloatProgress(value=0.0, layout=Layout(flex='2'), max=10.0), HTML(…"
      ]
     },
     "metadata": {},
     "output_type": "display_data"
    },
    {
     "name": "stdout",
     "output_type": "stream",
     "text": [
      "\n"
     ]
    },
    {
     "data": {
      "application/vnd.jupyter.widget-view+json": {
       "model_id": "ac29ef1ee3bc42068fbf5a6c90e159f5",
       "version_major": 2,
       "version_minor": 0
      },
      "text/plain": [
       "HBox(children=(HTML(value='factor ranking'), FloatProgress(value=0.0, layout=Layout(flex='2'), max=2.0), HTML(…"
      ]
     },
     "metadata": {},
     "output_type": "display_data"
    },
    {
     "name": "stdout",
     "output_type": "stream",
     "text": [
      "\n"
     ]
    },
    {
     "data": {
      "application/vnd.jupyter.widget-view+json": {
       "model_id": "01595420bcf9471183023d32b1b56634",
       "version_major": 2,
       "version_minor": 0
      },
      "text/plain": [
       "HBox(children=(HTML(value='bootstrapping'), FloatProgress(value=0.0, layout=Layout(flex='2')), HTML(value=''))…"
      ]
     },
     "metadata": {},
     "output_type": "display_data"
    },
    {
     "name": "stdout",
     "output_type": "stream",
     "text": [
      "\n"
     ]
    }
   ],
   "source": [
    "experiment_1.run_online()"
   ]
  },
  {
   "cell_type": "markdown",
   "metadata": {},
   "source": [
    "When the VARS analysis completes, let's check out the results of sensitivity analysis."
   ]
  },
  {
   "cell_type": "markdown",
   "metadata": {},
   "source": [
    "**IVARS: Integrated variogram Across a Range of Scales.** IVARS for the scale ranges of interest. IVARS50 (h=[0-0.5]), called \"Total-Variogram Effect\" is the most comprehensive sensitivity index."
   ]
  },
  {
   "cell_type": "code",
   "execution_count": 7,
   "metadata": {},
   "outputs": [
    {
     "data": {
      "text/html": [
       "<div>\n",
       "<style scoped>\n",
       "    .dataframe tbody tr th:only-of-type {\n",
       "        vertical-align: middle;\n",
       "    }\n",
       "\n",
       "    .dataframe tbody tr th {\n",
       "        vertical-align: top;\n",
       "    }\n",
       "\n",
       "    .dataframe thead th {\n",
       "        text-align: right;\n",
       "    }\n",
       "</style>\n",
       "<table border=\"1\" class=\"dataframe\">\n",
       "  <thead>\n",
       "    <tr style=\"text-align: right;\">\n",
       "      <th></th>\n",
       "      <th>TT</th>\n",
       "      <th>C0</th>\n",
       "      <th>ETF</th>\n",
       "      <th>LP</th>\n",
       "      <th>FC</th>\n",
       "      <th>beta</th>\n",
       "      <th>FRAC</th>\n",
       "      <th>K1</th>\n",
       "      <th>alpha</th>\n",
       "      <th>K2</th>\n",
       "      <th>UBAS</th>\n",
       "      <th>PM</th>\n",
       "    </tr>\n",
       "  </thead>\n",
       "  <tbody>\n",
       "    <tr>\n",
       "      <th>0.1</th>\n",
       "      <td>0.001833</td>\n",
       "      <td>0.010486</td>\n",
       "      <td>0.000764</td>\n",
       "      <td>0.000479</td>\n",
       "      <td>0.003673</td>\n",
       "      <td>0.000089</td>\n",
       "      <td>0.007094</td>\n",
       "      <td>0.000274</td>\n",
       "      <td>0.001271</td>\n",
       "      <td>0.000169</td>\n",
       "      <td>0.000812</td>\n",
       "      <td>0.022405</td>\n",
       "    </tr>\n",
       "    <tr>\n",
       "      <th>0.3</th>\n",
       "      <td>0.030489</td>\n",
       "      <td>0.142515</td>\n",
       "      <td>0.014737</td>\n",
       "      <td>0.008383</td>\n",
       "      <td>0.067045</td>\n",
       "      <td>0.001750</td>\n",
       "      <td>0.128975</td>\n",
       "      <td>0.003852</td>\n",
       "      <td>0.014306</td>\n",
       "      <td>0.003215</td>\n",
       "      <td>0.012746</td>\n",
       "      <td>0.396696</td>\n",
       "    </tr>\n",
       "    <tr>\n",
       "      <th>0.5</th>\n",
       "      <td>0.131261</td>\n",
       "      <td>0.546448</td>\n",
       "      <td>0.067273</td>\n",
       "      <td>0.035318</td>\n",
       "      <td>0.286950</td>\n",
       "      <td>0.007962</td>\n",
       "      <td>0.554256</td>\n",
       "      <td>0.012873</td>\n",
       "      <td>0.036495</td>\n",
       "      <td>0.014398</td>\n",
       "      <td>0.042216</td>\n",
       "      <td>1.655383</td>\n",
       "    </tr>\n",
       "  </tbody>\n",
       "</table>\n",
       "</div>"
      ],
      "text/plain": [
       "           TT        C0       ETF        LP        FC      beta      FRAC  \\\n",
       "0.1  0.001833  0.010486  0.000764  0.000479  0.003673  0.000089  0.007094   \n",
       "0.3  0.030489  0.142515  0.014737  0.008383  0.067045  0.001750  0.128975   \n",
       "0.5  0.131261  0.546448  0.067273  0.035318  0.286950  0.007962  0.554256   \n",
       "\n",
       "           K1     alpha        K2      UBAS        PM  \n",
       "0.1  0.000274  0.001271  0.000169  0.000812  0.022405  \n",
       "0.3  0.003852  0.014306  0.003215  0.012746  0.396696  \n",
       "0.5  0.012873  0.036495  0.014398  0.042216  1.655383  "
      ]
     },
     "execution_count": 7,
     "metadata": {},
     "output_type": "execute_result"
    }
   ],
   "source": [
    "cols = experiment_1.parameters.keys()\n",
    "experiment_1.ivars[cols]"
   ]
  },
  {
   "cell_type": "markdown",
   "metadata": {},
   "source": [
    "**VARS-TO: Sobol Total-Order Effect.** VARS-based estimates of Sobol variance-based sensitivity analysis."
   ]
  },
  {
   "cell_type": "code",
   "execution_count": 8,
   "metadata": {},
   "outputs": [
    {
     "data": {
      "text/html": [
       "<div>\n",
       "<style scoped>\n",
       "    .dataframe tbody tr th:only-of-type {\n",
       "        vertical-align: middle;\n",
       "    }\n",
       "\n",
       "    .dataframe tbody tr th {\n",
       "        vertical-align: top;\n",
       "    }\n",
       "\n",
       "    .dataframe thead th {\n",
       "        text-align: right;\n",
       "    }\n",
       "</style>\n",
       "<table border=\"1\" class=\"dataframe\">\n",
       "  <thead>\n",
       "    <tr style=\"text-align: right;\">\n",
       "      <th>param</th>\n",
       "      <th>TT</th>\n",
       "      <th>C0</th>\n",
       "      <th>ETF</th>\n",
       "      <th>LP</th>\n",
       "      <th>FC</th>\n",
       "      <th>beta</th>\n",
       "      <th>FRAC</th>\n",
       "      <th>K1</th>\n",
       "      <th>alpha</th>\n",
       "      <th>K2</th>\n",
       "      <th>UBAS</th>\n",
       "      <th>PM</th>\n",
       "    </tr>\n",
       "  </thead>\n",
       "  <tbody>\n",
       "    <tr>\n",
       "      <th>0</th>\n",
       "      <td>0.033795</td>\n",
       "      <td>0.135452</td>\n",
       "      <td>0.01832</td>\n",
       "      <td>0.009208</td>\n",
       "      <td>0.074803</td>\n",
       "      <td>0.002187</td>\n",
       "      <td>0.145364</td>\n",
       "      <td>0.002615</td>\n",
       "      <td>0.006273</td>\n",
       "      <td>0.003896</td>\n",
       "      <td>0.009602</td>\n",
       "      <td>0.42138</td>\n",
       "    </tr>\n",
       "  </tbody>\n",
       "</table>\n",
       "</div>"
      ],
      "text/plain": [
       "param        TT        C0      ETF        LP        FC      beta      FRAC  \\\n",
       "0      0.033795  0.135452  0.01832  0.009208  0.074803  0.002187  0.145364   \n",
       "\n",
       "param        K1     alpha        K2      UBAS       PM  \n",
       "0      0.002615  0.006273  0.003896  0.009602  0.42138  "
      ]
     },
     "execution_count": 8,
     "metadata": {},
     "output_type": "execute_result"
    }
   ],
   "source": [
    "cols = experiment_1.parameters.keys()\n",
    "experiment_1.st.to_frame().T[cols]"
   ]
  },
  {
   "cell_type": "markdown",
   "metadata": {},
   "source": [
    "**VARS-ABE: Morris Mean Absolute Elementary Effect.** VARS-based estimates of Morris derivative-based sensitivity analysis.<br />\n",
    "In the derivative-based approach, the user needs to choose a delta (step size) for numerical estimation of derivatives. Recommended is to go with the smallest delta available here, which is equivalent to `delta_h`."
   ]
  },
  {
   "cell_type": "code",
   "execution_count": 9,
   "metadata": {},
   "outputs": [
    {
     "data": {
      "text/html": [
       "<div>\n",
       "<style scoped>\n",
       "    .dataframe tbody tr th:only-of-type {\n",
       "        vertical-align: middle;\n",
       "    }\n",
       "\n",
       "    .dataframe tbody tr th {\n",
       "        vertical-align: top;\n",
       "    }\n",
       "\n",
       "    .dataframe thead tr th {\n",
       "        text-align: left;\n",
       "    }\n",
       "</style>\n",
       "<table border=\"1\" class=\"dataframe\">\n",
       "  <thead>\n",
       "    <tr>\n",
       "      <th></th>\n",
       "      <th colspan=\"12\" halign=\"left\">0</th>\n",
       "    </tr>\n",
       "    <tr>\n",
       "      <th>param</th>\n",
       "      <th>TT</th>\n",
       "      <th>C0</th>\n",
       "      <th>ETF</th>\n",
       "      <th>LP</th>\n",
       "      <th>FC</th>\n",
       "      <th>beta</th>\n",
       "      <th>FRAC</th>\n",
       "      <th>K1</th>\n",
       "      <th>alpha</th>\n",
       "      <th>K2</th>\n",
       "      <th>UBAS</th>\n",
       "      <th>PM</th>\n",
       "    </tr>\n",
       "  </thead>\n",
       "  <tbody>\n",
       "    <tr>\n",
       "      <th>0.1</th>\n",
       "      <td>0.17964</td>\n",
       "      <td>0.355216</td>\n",
       "      <td>0.093467</td>\n",
       "      <td>0.078763</td>\n",
       "      <td>0.248884</td>\n",
       "      <td>0.03461</td>\n",
       "      <td>0.380329</td>\n",
       "      <td>0.0363</td>\n",
       "      <td>0.057737</td>\n",
       "      <td>0.06325</td>\n",
       "      <td>0.085533</td>\n",
       "      <td>0.70113</td>\n",
       "    </tr>\n",
       "  </tbody>\n",
       "</table>\n",
       "</div>"
      ],
      "text/plain": [
       "             0                                                             \\\n",
       "param       TT        C0       ETF        LP        FC     beta      FRAC   \n",
       "0.1    0.17964  0.355216  0.093467  0.078763  0.248884  0.03461  0.380329   \n",
       "\n",
       "                                                     \n",
       "param      K1     alpha       K2      UBAS       PM  \n",
       "0.1    0.0363  0.057737  0.06325  0.085533  0.70113  "
      ]
     },
     "execution_count": 9,
     "metadata": {},
     "output_type": "execute_result"
    }
   ],
   "source": [
    "delta_of_interest = experiment_1.maee.to_frame().unstack(level=0).index.min()\n",
    "# delta_of_interest = 0.2\n",
    "experiment_1.maee.to_frame().unstack(level=0).loc[delta_of_interest].to_frame().T"
   ]
  },
  {
   "cell_type": "markdown",
   "metadata": {},
   "source": [
    "**Directional Variograms.**  For advanced users of VARS, directional variograms provide a wealth of information about the structure of the model response surface."
   ]
  },
  {
   "cell_type": "code",
   "execution_count": 10,
   "metadata": {},
   "outputs": [
    {
     "data": {
      "text/html": [
       "<div>\n",
       "<style scoped>\n",
       "    .dataframe tbody tr th:only-of-type {\n",
       "        vertical-align: middle;\n",
       "    }\n",
       "\n",
       "    .dataframe tbody tr th {\n",
       "        vertical-align: top;\n",
       "    }\n",
       "\n",
       "    .dataframe thead th {\n",
       "        text-align: right;\n",
       "    }\n",
       "</style>\n",
       "<table border=\"1\" class=\"dataframe\">\n",
       "  <thead>\n",
       "    <tr style=\"text-align: right;\">\n",
       "      <th>param</th>\n",
       "      <th>TT</th>\n",
       "      <th>C0</th>\n",
       "      <th>ETF</th>\n",
       "      <th>LP</th>\n",
       "      <th>FC</th>\n",
       "      <th>beta</th>\n",
       "      <th>FRAC</th>\n",
       "      <th>K1</th>\n",
       "      <th>alpha</th>\n",
       "      <th>K2</th>\n",
       "      <th>UBAS</th>\n",
       "      <th>PM</th>\n",
       "    </tr>\n",
       "    <tr>\n",
       "      <th>h</th>\n",
       "      <th></th>\n",
       "      <th></th>\n",
       "      <th></th>\n",
       "      <th></th>\n",
       "      <th></th>\n",
       "      <th></th>\n",
       "      <th></th>\n",
       "      <th></th>\n",
       "      <th></th>\n",
       "      <th></th>\n",
       "      <th></th>\n",
       "      <th></th>\n",
       "    </tr>\n",
       "  </thead>\n",
       "  <tbody>\n",
       "    <tr>\n",
       "      <th>0.1</th>\n",
       "      <td>0.036650</td>\n",
       "      <td>0.209727</td>\n",
       "      <td>0.015272</td>\n",
       "      <td>0.009571</td>\n",
       "      <td>0.073451</td>\n",
       "      <td>0.001774</td>\n",
       "      <td>0.141881</td>\n",
       "      <td>0.005479</td>\n",
       "      <td>0.025417</td>\n",
       "      <td>0.003389</td>\n",
       "      <td>0.016233</td>\n",
       "      <td>0.448099</td>\n",
       "    </tr>\n",
       "    <tr>\n",
       "      <th>0.2</th>\n",
       "      <td>0.130474</td>\n",
       "      <td>0.610092</td>\n",
       "      <td>0.061449</td>\n",
       "      <td>0.035895</td>\n",
       "      <td>0.285453</td>\n",
       "      <td>0.007327</td>\n",
       "      <td>0.548879</td>\n",
       "      <td>0.017229</td>\n",
       "      <td>0.071489</td>\n",
       "      <td>0.013487</td>\n",
       "      <td>0.058321</td>\n",
       "      <td>1.702746</td>\n",
       "    </tr>\n",
       "    <tr>\n",
       "      <th>0.3</th>\n",
       "      <td>0.275526</td>\n",
       "      <td>1.210665</td>\n",
       "      <td>0.141301</td>\n",
       "      <td>0.076736</td>\n",
       "      <td>0.623084</td>\n",
       "      <td>0.016796</td>\n",
       "      <td>1.197982</td>\n",
       "      <td>0.031627</td>\n",
       "      <td>0.092309</td>\n",
       "      <td>0.030553</td>\n",
       "      <td>0.105820</td>\n",
       "      <td>3.632222</td>\n",
       "    </tr>\n",
       "    <tr>\n",
       "      <th>0.4</th>\n",
       "      <td>0.490276</td>\n",
       "      <td>1.967495</td>\n",
       "      <td>0.255377</td>\n",
       "      <td>0.131177</td>\n",
       "      <td>1.073288</td>\n",
       "      <td>0.030140</td>\n",
       "      <td>2.072547</td>\n",
       "      <td>0.045227</td>\n",
       "      <td>0.109771</td>\n",
       "      <td>0.054333</td>\n",
       "      <td>0.146792</td>\n",
       "      <td>6.156397</td>\n",
       "    </tr>\n",
       "    <tr>\n",
       "      <th>0.5</th>\n",
       "      <td>0.759364</td>\n",
       "      <td>2.932997</td>\n",
       "      <td>0.398658</td>\n",
       "      <td>0.199604</td>\n",
       "      <td>1.628451</td>\n",
       "      <td>0.047166</td>\n",
       "      <td>3.162547</td>\n",
       "      <td>0.058331</td>\n",
       "      <td>0.131919</td>\n",
       "      <td>0.084431</td>\n",
       "      <td>0.189996</td>\n",
       "      <td>9.228742</td>\n",
       "    </tr>\n",
       "    <tr>\n",
       "      <th>0.6</th>\n",
       "      <td>1.030816</td>\n",
       "      <td>4.163268</td>\n",
       "      <td>0.560472</td>\n",
       "      <td>0.282941</td>\n",
       "      <td>2.288770</td>\n",
       "      <td>0.067526</td>\n",
       "      <td>4.464957</td>\n",
       "      <td>0.073728</td>\n",
       "      <td>0.164783</td>\n",
       "      <td>0.120222</td>\n",
       "      <td>0.263931</td>\n",
       "      <td>12.851127</td>\n",
       "    </tr>\n",
       "    <tr>\n",
       "      <th>0.7</th>\n",
       "      <td>1.244388</td>\n",
       "      <td>5.733528</td>\n",
       "      <td>0.720026</td>\n",
       "      <td>0.382660</td>\n",
       "      <td>3.059845</td>\n",
       "      <td>0.090625</td>\n",
       "      <td>5.982717</td>\n",
       "      <td>0.096451</td>\n",
       "      <td>0.219165</td>\n",
       "      <td>0.160607</td>\n",
       "      <td>0.386149</td>\n",
       "      <td>17.040878</td>\n",
       "    </tr>\n",
       "    <tr>\n",
       "      <th>0.8</th>\n",
       "      <td>1.418289</td>\n",
       "      <td>7.803892</td>\n",
       "      <td>0.839694</td>\n",
       "      <td>0.498955</td>\n",
       "      <td>3.947795</td>\n",
       "      <td>0.115460</td>\n",
       "      <td>7.724796</td>\n",
       "      <td>0.131045</td>\n",
       "      <td>0.323647</td>\n",
       "      <td>0.203920</td>\n",
       "      <td>0.563249</td>\n",
       "      <td>21.880011</td>\n",
       "    </tr>\n",
       "    <tr>\n",
       "      <th>0.9</th>\n",
       "      <td>1.641726</td>\n",
       "      <td>10.896918</td>\n",
       "      <td>0.888559</td>\n",
       "      <td>0.636437</td>\n",
       "      <td>4.963845</td>\n",
       "      <td>0.139972</td>\n",
       "      <td>9.707885</td>\n",
       "      <td>0.185454</td>\n",
       "      <td>0.512861</td>\n",
       "      <td>0.251301</td>\n",
       "      <td>0.769020</td>\n",
       "      <td>27.323003</td>\n",
       "    </tr>\n",
       "  </tbody>\n",
       "</table>\n",
       "</div>"
      ],
      "text/plain": [
       "param        TT         C0       ETF        LP        FC      beta      FRAC  \\\n",
       "h                                                                              \n",
       "0.1    0.036650   0.209727  0.015272  0.009571  0.073451  0.001774  0.141881   \n",
       "0.2    0.130474   0.610092  0.061449  0.035895  0.285453  0.007327  0.548879   \n",
       "0.3    0.275526   1.210665  0.141301  0.076736  0.623084  0.016796  1.197982   \n",
       "0.4    0.490276   1.967495  0.255377  0.131177  1.073288  0.030140  2.072547   \n",
       "0.5    0.759364   2.932997  0.398658  0.199604  1.628451  0.047166  3.162547   \n",
       "0.6    1.030816   4.163268  0.560472  0.282941  2.288770  0.067526  4.464957   \n",
       "0.7    1.244388   5.733528  0.720026  0.382660  3.059845  0.090625  5.982717   \n",
       "0.8    1.418289   7.803892  0.839694  0.498955  3.947795  0.115460  7.724796   \n",
       "0.9    1.641726  10.896918  0.888559  0.636437  4.963845  0.139972  9.707885   \n",
       "\n",
       "param        K1     alpha        K2      UBAS         PM  \n",
       "h                                                         \n",
       "0.1    0.005479  0.025417  0.003389  0.016233   0.448099  \n",
       "0.2    0.017229  0.071489  0.013487  0.058321   1.702746  \n",
       "0.3    0.031627  0.092309  0.030553  0.105820   3.632222  \n",
       "0.4    0.045227  0.109771  0.054333  0.146792   6.156397  \n",
       "0.5    0.058331  0.131919  0.084431  0.189996   9.228742  \n",
       "0.6    0.073728  0.164783  0.120222  0.263931  12.851127  \n",
       "0.7    0.096451  0.219165  0.160607  0.386149  17.040878  \n",
       "0.8    0.131045  0.323647  0.203920  0.563249  21.880011  \n",
       "0.9    0.185454  0.512861  0.251301  0.769020  27.323003  "
      ]
     },
     "execution_count": 10,
     "metadata": {},
     "output_type": "execute_result"
    }
   ],
   "source": [
    "cols = experiment_1.parameters.keys()\n",
    "experiment_1.gamma.unstack(0)[cols]"
   ]
  },
  {
   "cell_type": "code",
   "execution_count": null,
   "metadata": {},
   "outputs": [],
   "source": [
    "    def plot(self, logy: bool = False):\n",
    "        \"\"\"\n",
    "        plots the variogram results up to h=0.5, and plots the ratio of factor importance for IVARS50, VARS-TO,\n",
    "        and VARS-ABE\n",
    "\n",
    "        Parameters\n",
    "        ----------\n",
    "        logy : boolean\n",
    "            True if variogram plot is to have a logscale y-axis\n",
    "\n",
    "        Returns\n",
    "        -------\n",
    "        varax : matplotlib.axes.Axes\n",
    "            the axes of the variogram plot\n",
    "        barfig : matplotlib.Figure\n",
    "            the figure of the bar chart\n",
    "        barax : matplotlib.axes.Axes\n",
    "            the axes of the bar chart\n",
    "        \"\"\"\n",
    "\n",
    "        if self.run_status:\n",
    "\n",
    "            # variogram plot\n",
    "            # option to make y axis log scale so to see results more clearly\n",
    "            if logy:\n",
    "                varax = self.gamma.unstack(0).plot(xlabel='Perturbation Scale, h', ylabel='Variogram, $\\gamma$(h)',\n",
    "                                                   xlim=(0, 0.5), logy=True, marker='o')\n",
    "            else:\n",
    "                ymax = self.gamma.unstack(0).loc[0:0.6].max().max()\n",
    "                varax = self.gamma.unstack(0).plot(xlabel='Perturbation Scale, h', ylabel='Variogram, $\\gamma$(h)',\n",
    "                                                   xlim=(0, 0.5), ylim=(0, ymax), marker='o')\n",
    "\n",
    "            # factor importance bar chart for vars-abe, ivars50, and vars-to\n",
    "            if 0.5 in self.ivars.index:\n",
    "                # normalize data using mean normalization\n",
    "                df1 = self.maee.unstack(0).iloc[0]\n",
    "                df2 = self.st\n",
    "                df3 = self.ivars.loc[0.5]\n",
    "\n",
    "                normalized_maee = df1 / df1.sum()\n",
    "                normalized_sobol = df2 / df2.sum()\n",
    "                normalized_ivars50 = df3 / df3.sum()\n",
    "\n",
    "                # plot bar chart\n",
    "                x = np.arange(len(self.parameters.keys()))  # the label locations\n",
    "                width = 0.1  # the width of the bars\n",
    "\n",
    "                barfig, barax = plt.subplots()\n",
    "\n",
    "                # if there are bootstrap results include them in bar chart\n",
    "                if self.bootstrap_flag:\n",
    "                    # normalize confidence interval limits\n",
    "                    ivars50_err_upp = self.ivarsub.loc[0.5] / df3.sum()\n",
    "                    ivars50_err_low = self.ivarslb.loc[0.5] / df3.sum()\n",
    "                    sobol_err_upp = (self.stub / df2.to_numpy().sum()).to_numpy().flatten()\n",
    "                    sobol_err_low = (self.stlb / df2.to_numpy().sum()).to_numpy().flatten()\n",
    "\n",
    "                    # subtract from normalized values so that error bars work properly\n",
    "                    ivars50_err_upp = np.abs(ivars50_err_upp - normalized_ivars50)\n",
    "                    ivars50_err_low = np.abs(ivars50_err_low - normalized_ivars50)\n",
    "                    sobol_err_upp = np.abs(sobol_err_upp - normalized_sobol)\n",
    "                    sobol_err_low = np.abs(sobol_err_low - normalized_sobol)\n",
    "\n",
    "                    # create error array for bar charts\n",
    "                    ivars50_err = np.array([ivars50_err_low, ivars50_err_upp])\n",
    "                    sobol_err = np.array([sobol_err_low, sobol_err_upp])\n",
    "\n",
    "                    rects1 = barax.bar(x - width, normalized_maee, width, label='VARS-ABE (Morris)')\n",
    "                    rects2 = barax.bar(x, normalized_ivars50, width, label='IVARS50', yerr=ivars50_err)\n",
    "                    rects3 = barax.bar(x + width, normalized_sobol, width, label='VARS-TO (Sobol)', yerr=sobol_err)\n",
    "                else:\n",
    "                    rects1 = barax.bar(x - width, normalized_maee, width, label='VARS-ABE (Morris)')\n",
    "                    rects2 = barax.bar(x, normalized_ivars50, width, label='IVARS50')\n",
    "                    rects3 = barax.bar(x + width, normalized_sobol, width, label='VARS-TO (Sobol)')\n",
    "\n",
    "                # Add some text for labels, and custom x-axis tick labels, etc.\n",
    "                barax.set_ylabel('Ratio of Factor Importance')\n",
    "                barax.set_xlabel('Factor')\n",
    "                barax.set_xticks(x)\n",
    "                barax.set_xticklabels(self.parameters.keys())\n",
    "                barax.legend()\n",
    "\n",
    "                barfig.tight_layout()\n",
    "\n",
    "                plt.show()\n",
    "\n",
    "                return varax, barfig, barax\n",
    "            else:\n",
    "                return varax"
   ]
  },
  {
   "cell_type": "code",
   "execution_count": null,
   "metadata": {},
   "outputs": [],
   "source": []
  }
 ],
 "metadata": {
  "kernelspec": {
   "display_name": "Python 3",
   "language": "python",
   "name": "python3"
  },
  "language_info": {
   "codemirror_mode": {
    "name": "ipython",
    "version": 3
   },
   "file_extension": ".py",
   "mimetype": "text/x-python",
   "name": "python",
   "nbconvert_exporter": "python",
   "pygments_lexer": "ipython3",
   "version": "3.8.5"
  }
 },
 "nbformat": 4,
 "nbformat_minor": 5
}
