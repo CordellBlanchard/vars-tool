{
 "cells": [
  {
   "cell_type": "markdown",
   "id": "7ecdb856",
   "metadata": {},
   "source": [
    "# VARS-TOOL Quick Start Tutorial"
   ]
  },
  {
   "cell_type": "markdown",
   "id": "495df5c8",
   "metadata": {},
   "source": [
    "## Install"
   ]
  },
  {
   "cell_type": "markdown",
   "id": "72900ca7",
   "metadata": {},
   "source": [
    "This is a simple tutorial show casing VARS-TOOL functionalities that are being implement in Python. Let's install the latest VARS-TOOL from GitHub:"
   ]
  },
  {
   "cell_type": "code",
   "execution_count": 1,
   "id": "8a31db09",
   "metadata": {
    "scrolled": true
   },
   "outputs": [
    {
     "name": "stderr",
     "output_type": "stream",
     "text": [
      "'rm' is not recognized as an internal or external command,\n",
      "operable program or batch file.\n",
      "Cloning into 'vars-tool'...\n"
     ]
    },
    {
     "name": "stdout",
     "output_type": "stream",
     "text": [
      "Processing c:\\users\\corde\\giws\\vars-tool\\tutorial\\vars-tool\n",
      "  Installing build dependencies: started\n",
      "  Installing build dependencies: still running...\n",
      "  Installing build dependencies: finished with status 'done'\n",
      "  Getting requirements to build wheel: started\n",
      "  Getting requirements to build wheel: finished with status 'done'\n",
      "    Preparing wheel metadata: started\n",
      "    Preparing wheel metadata: finished with status 'done'\n",
      "Requirement already satisfied: matplotlib in c:\\users\\corde\\anaconda3\\lib\\site-packages (from varstool==2.1) (3.3.4)\n",
      "Requirement already satisfied: mapply in c:\\users\\corde\\anaconda3\\lib\\site-packages (from varstool==2.1) (0.1.7)\n",
      "Requirement already satisfied: psutil in c:\\users\\corde\\anaconda3\\lib\\site-packages (from varstool==2.1) (5.8.0)\n",
      "Requirement already satisfied: scipy in c:\\users\\corde\\anaconda3\\lib\\site-packages (from varstool==2.1) (1.6.2)\n",
      "Requirement already satisfied: tqdm in c:\\users\\corde\\anaconda3\\lib\\site-packages (from varstool==2.1) (4.59.0)\n",
      "Requirement already satisfied: numpy in c:\\users\\corde\\anaconda3\\lib\\site-packages (from varstool==2.1) (1.20.1)\n",
      "Requirement already satisfied: joblib in c:\\users\\corde\\anaconda3\\lib\\site-packages (from varstool==2.1) (1.0.1)\n",
      "Requirement already satisfied: pandas in c:\\users\\corde\\anaconda3\\lib\\site-packages (from varstool==2.1) (1.2.4)\n",
      "Requirement already satisfied: pathos>=0.2.0 in c:\\users\\corde\\anaconda3\\lib\\site-packages (from mapply->varstool==2.1) (0.2.8)\n",
      "Requirement already satisfied: dill>=0.3.4 in c:\\users\\corde\\anaconda3\\lib\\site-packages (from pathos>=0.2.0->mapply->varstool==2.1) (0.3.4)\n",
      "Requirement already satisfied: multiprocess>=0.70.12 in c:\\users\\corde\\anaconda3\\lib\\site-packages (from pathos>=0.2.0->mapply->varstool==2.1) (0.70.12.2)\n",
      "Requirement already satisfied: ppft>=1.6.6.4 in c:\\users\\corde\\anaconda3\\lib\\site-packages (from pathos>=0.2.0->mapply->varstool==2.1) (1.6.6.4)\n",
      "Requirement already satisfied: pox>=0.3.0 in c:\\users\\corde\\anaconda3\\lib\\site-packages (from pathos>=0.2.0->mapply->varstool==2.1) (0.3.0)\n",
      "Requirement already satisfied: six>=1.7.3 in c:\\users\\corde\\anaconda3\\lib\\site-packages (from ppft>=1.6.6.4->pathos>=0.2.0->mapply->varstool==2.1) (1.15.0)\n",
      "Requirement already satisfied: cycler>=0.10 in c:\\users\\corde\\anaconda3\\lib\\site-packages (from matplotlib->varstool==2.1) (0.10.0)\n",
      "Requirement already satisfied: pillow>=6.2.0 in c:\\users\\corde\\anaconda3\\lib\\site-packages (from matplotlib->varstool==2.1) (8.2.0)\n",
      "Requirement already satisfied: python-dateutil>=2.1 in c:\\users\\corde\\anaconda3\\lib\\site-packages (from matplotlib->varstool==2.1) (2.8.1)\n",
      "Requirement already satisfied: kiwisolver>=1.0.1 in c:\\users\\corde\\anaconda3\\lib\\site-packages (from matplotlib->varstool==2.1) (1.3.1)\n",
      "Requirement already satisfied: pyparsing!=2.0.4,!=2.1.2,!=2.1.6,>=2.0.3 in c:\\users\\corde\\anaconda3\\lib\\site-packages (from matplotlib->varstool==2.1) (2.4.7)\n",
      "Requirement already satisfied: pytz>=2017.3 in c:\\users\\corde\\anaconda3\\lib\\site-packages (from pandas->varstool==2.1) (2021.1)\n",
      "Building wheels for collected packages: varstool\n",
      "  Building wheel for varstool (PEP 517): started\n",
      "  Building wheel for varstool (PEP 517): finished with status 'done'\n",
      "  Created wheel for varstool: filename=varstool-2.1-py2.py3-none-any.whl size=410144 sha256=dd3494818f1ccd78f9f55dd41fbfe359297c80b9752d3a68adee484c513d57b7\n",
      "  Stored in directory: c:\\users\\corde\\appdata\\local\\pip\\cache\\wheels\\ea\\22\\e6\\94dfc4ddef885e03d97899daed3e63a6c2c3a1295f1b37f687\n",
      "Successfully built varstool\n",
      "Installing collected packages: varstool\n",
      "  Attempting uninstall: varstool\n",
      "    Found existing installation: varstool 2.1\n",
      "    Uninstalling varstool-2.1:\n",
      "      Successfully uninstalled varstool-2.1\n",
      "Successfully installed varstool-2.1\n"
     ]
    }
   ],
   "source": [
    "!rm -rf vars-tool\n",
    "!git clone https://github.com/vars-tool/vars-tool\n",
    "!pip install vars-tool/."
   ]
  },
  {
   "cell_type": "markdown",
   "id": "501b7725",
   "metadata": {},
   "source": [
    "## Example using the Ishigami and wavy6D models using online mode"
   ]
  },
  {
   "cell_type": "markdown",
   "id": "2a0d1c9f",
   "metadata": {},
   "source": [
    "The online mode of VARS tool is where the models are ran in the VARS analysis\n",
    "\n",
    "Let's import VARS for the analysis and the Model class for creating a wrapper around the desired model so that it can be inputted into VARS"
   ]
  },
  {
   "cell_type": "code",
   "execution_count": 2,
   "id": "7d922578",
   "metadata": {},
   "outputs": [],
   "source": [
    "# importing VARS and Model from varstool package\n",
    "from varstool import VARS, Model\n",
    "\n",
    "# these are being imported in order for us to display the data nicely on the notebook\n",
    "import numpy as np\n",
    "import pandas as pd"
   ]
  },
  {
   "cell_type": "markdown",
   "id": "62fe48d3",
   "metadata": {},
   "source": [
    "Here is a quick function definition of the Ishigami model:"
   ]
  },
  {
   "cell_type": "code",
   "execution_count": 3,
   "id": "a4bc799b",
   "metadata": {},
   "outputs": [],
   "source": [
    "def ishigami(x, a=7, b=0.05):\n",
    "    '''Ishigami test function'''\n",
    "    # check whether the input x is a dataframe\n",
    "    \n",
    "    if not isinstance(x, (pd.core.frame.DataFrame, pd.core.series.Series, np.ndarray, list)):\n",
    "        raise TypeError('`x` must be of type pandas.DataFrame, numpy.ndarray, pd.Series, or list')\n",
    "    \n",
    "    if len(x) > 3:\n",
    "        raise ValueError('`x` must have only three arguments at a time')\n",
    "    \n",
    "    return np.sin(x[0]) + a*(np.sin(x[1])**2) + b*(x[2]**4)*np.sin(x[0])"
   ]
  },
  {
   "cell_type": "markdown",
   "id": "72b8cf46",
   "metadata": {},
   "source": [
    "Here is a quick function definition of the wavy6D model:"
   ]
  },
  {
   "cell_type": "code",
   "execution_count": 4,
   "id": "73e9ed6d",
   "metadata": {},
   "outputs": [],
   "source": [
    "def wavy6D(x):\n",
    "    '''wavy6D test function'''\n",
    "    \n",
    "# The features include:             \n",
    "# (1) The 6 input factors are non-interacting                  \n",
    "# (2) The function is \"wavy\" along the first 5 dimensions but with different \n",
    "#     frequencies and amplitude at different directions                                     \n",
    "# (3) The last dimension (X6) is fully isensitive (dummy variable)                                         \n",
    "# (4) It possess large-scale features such multi-modality (X1) \n",
    "#     to small-scale features such as roughness (X3)          \n",
    "# (5) The directional variograms of X1 and X2 cross each other\n",
    "    \n",
    "    # check whether the input x is a dataframe\n",
    "    \n",
    "    if not isinstance(x, (pd.core.frame.DataFrame, pd.core.series.Series, np.ndarray, list)):\n",
    "        raise TypeError('`x` must be of type pandas.DataFrame, numpy.ndarray, pd.Series, or list')\n",
    "    \n",
    "    if len(x) > 6:\n",
    "        raise ValueError('`x` must have only five arguments at a time')\n",
    "    \n",
    "    y1 = -1*np.sin(2*np.pi*x[0]/2) - 0.3*np.sin(2*np.pi*x[0]/0.6)\n",
    "    y2 = 0.76*(-1*np.sin(2*np.pi*(x[1]-0.2)/2)) - 0.315\n",
    "    y3 = 0.12*(-1*np.sin(2*np.pi*(x[2]-0.2)/1.9)) + 0.02*(-1*np.sin(2*np.pi*x[2]/0.021)) - 0.96\n",
    "    y4 = 0.12*(-1*np.sin(2*np.pi*(x[3]-0.2)/1.9))-0.97\n",
    "    y5 = 0.05*(-1*np.sin(2*np.pi*(x[4]-0.2)/2))-1.02\n",
    "    y6 = -1.08\n",
    "\n",
    "    return y1 + y2 + y3 + y4 + y5 + y6"
   ]
  },
  {
   "cell_type": "markdown",
   "id": "6224d69d",
   "metadata": {},
   "source": [
    "As mentioned previously The `Model` class is a wrapper for custom functions(models) in the online version of VARS. However, the first paramter of every function must accept an array of parameters\n",
    "\n",
    "Here we will create two wrappers for the testing models ishigami and wavy6D:"
   ]
  },
  {
   "cell_type": "code",
   "execution_count": 5,
   "id": "b528e003",
   "metadata": {},
   "outputs": [],
   "source": [
    "ishigami_model = Model(ishigami)"
   ]
  },
  {
   "cell_type": "code",
   "execution_count": 6,
   "id": "bee508db",
   "metadata": {},
   "outputs": [],
   "source": [
    "wavy6D_model = Model(wavy6D)"
   ]
  },
  {
   "cell_type": "markdown",
   "id": "5fbd8d24",
   "metadata": {},
   "source": [
    "When creating an experiment you will need to assign a variable to an instance of VARS as shown below.\n",
    "\n",
    "The paramters of the VARS class are described as:\n",
    "\n",
    "**paramaters**: the name of each paramter along with their upper and lower bounds\n",
    "\n",
    "**num_stars**: the total number of star samples that are desired for STAR-VARS analysis\n",
    "\n",
    "**delta_h**: the sampling resolution of the VARS analysis\n",
    "\n",
    "**ivars_scales**: the scales that are to be used when doing IVARS, e.g, 0.1 and 0.3 correspond (0-0.1) and (0-0.3) <br /> note: can not have a scale larger then 0.5\n",
    "\n",
    "**star_centres**: This is only used if a sampler is not chosen and you are wanting to generate your own star centres(randomized numbers)\n",
    "\n",
    "**sampler**: the sampling strategy: `rnd`, `lhs`, `plhs`, `sobol_seq`, or `halton_seq` for generation of star centers.\n",
    "\n",
    "**seed**: the seed number for randomization of the sampling strategy specified by `sampler`, only needed if a sampler was chosen <br /> note: seed is a randomized integer from 1 to 123456789 as default if no seed is chosen\n",
    "\n",
    "**model**: the wrapper of your model you made when using the `Model` class\n",
    "\n",
    "**bootstrap_flag**: this is a True/False value that specifies if bootstrapping will be used in the VARS analysis\n",
    "\n",
    "**bootstrap_size**: the number of sampling iterations with replacement\n",
    "\n",
    "**bootstrap_ci**: the bootstrap-based confidence interval on results\n",
    "\n",
    "**grouping_flag**: this is a True/False value that specifies if paramater grouping will be used in the VARS analysis\n",
    "\n",
    "**num_grps**: the number of groups you want to split your paramaters into, if left blank the optimal number of groups will be calculated by VARS\n",
    "\n",
    "**report_verbose**: this is a True/False value that if True will display a loading bar to show the progession of the VARS analysis, else there will be no progression loading bar"
   ]
  },
  {
   "cell_type": "markdown",
   "id": "57b2d868",
   "metadata": {},
   "source": [
    "Create `experiment_1` and `experiment_2` then initialize the values needed to run a VARS analysis:\n",
    "\n",
    "`experiment_1` is an instance of VARS that is using the ishigami model"
   ]
  },
  {
   "cell_type": "code",
   "execution_count": 7,
   "id": "88ac9400",
   "metadata": {},
   "outputs": [],
   "source": [
    "experiment_1 = VARS(parameters = {'x1':(0, 1), 'x2':(0, 1), 'x3': (0, 1)},\n",
    "                    num_stars=10,\n",
    "                    delta_h = 0.1,\n",
    "                    ivars_scales = (0.1, 0.3, 0.5),\n",
    "                    sampler = 'rnd',\n",
    "                    seed = 123456789,\n",
    "                    model = ishigami_model,\n",
    "                    bootstrap_flag = True,\n",
    "                    bootstrap_size = 100,\n",
    "                    bootstrap_ci=0.9,\n",
    "                    grouping_flag=True,\n",
    "                    num_grps=2,\n",
    "                    report_verbose=True,\n",
    "                )"
   ]
  },
  {
   "cell_type": "markdown",
   "id": "89ff5996",
   "metadata": {},
   "source": [
    "`experiment_2` is an instance of VARS that is using the wavy6D model"
   ]
  },
  {
   "cell_type": "code",
   "execution_count": 8,
   "id": "3b2dac40",
   "metadata": {},
   "outputs": [],
   "source": [
    "experiment_2 = VARS(parameters = {'x1':(0, 1), 'x2':(0, 1), 'x3': (0, 1), \\\n",
    "                                  'x4':(0, 1), 'x5':(0, 1), 'x6': (0, 1)},\n",
    "                    num_stars=10,\n",
    "                    delta_h = 0.1,\n",
    "                    ivars_scales = (0.1, 0.3, 0.5),\n",
    "                    sampler = 'rnd',\n",
    "                    seed = 123456789,\n",
    "                    model = wavy6D_model,\n",
    "                    bootstrap_flag = True,\n",
    "                    bootstrap_size = 100,\n",
    "                    bootstrap_ci=0.9,\n",
    "                    grouping_flag=True,\n",
    "                    num_grps=2,\n",
    "                    report_verbose=True,\n",
    "                )"
   ]
  },
  {
   "cell_type": "markdown",
   "id": "fa0faea7",
   "metadata": {},
   "source": [
    "A report displaying the current status of the VARS analysis can be found by typing in the variable name of the instance you created, here this is `experiment_1`"
   ]
  },
  {
   "cell_type": "code",
   "execution_count": 9,
   "id": "f693c4df",
   "metadata": {},
   "outputs": [
    {
     "data": {
      "text/plain": [
       "Star Centres: 10 Centers Loaded\n",
       "Star Points: Not Loaded\n",
       "Parameters: 3 paremeters set\n",
       "Delta h: 0.1\n",
       "Model: ishigami\n",
       "Seed Number: 123456789\n",
       "Bootstrap: On\n",
       "Bootstrap Size: 100\n",
       "Bootstrap CI: 0.9\n",
       "Grouping: On\n",
       "Number of Groups: 2\n",
       "Verbose: On\n",
       "VARS Analysis: Not Done"
      ]
     },
     "execution_count": 9,
     "metadata": {},
     "output_type": "execute_result"
    }
   ],
   "source": [
    "experiment_1"
   ]
  },
  {
   "cell_type": "markdown",
   "id": "dc0e54f5",
   "metadata": {},
   "source": [
    "To run the VARS analysis we can simply do the following:\n",
    "\n",
    "note: we are using `experiment_1` here, but `experiment_2` can be used in the same exact way"
   ]
  },
  {
   "cell_type": "code",
   "execution_count": 10,
   "id": "0042911e",
   "metadata": {},
   "outputs": [
    {
     "data": {
      "application/vnd.jupyter.widget-view+json": {
       "model_id": "123db585a93b46329bbe50822428aa9a",
       "version_major": 2,
       "version_minor": 0
      },
      "text/plain": [
       "function evaluation:   0%|          | 0/280 [00:00<?, ?it/s]"
      ]
     },
     "metadata": {},
     "output_type": "display_data"
    },
    {
     "data": {
      "application/vnd.jupyter.widget-view+json": {
       "model_id": "6b886d498153446083d263b78c6f0cc8",
       "version_major": 2,
       "version_minor": 0
      },
      "text/plain": [
       "building pairs:   0%|          | 0/30 [00:00<?, ?it/s]"
      ]
     },
     "metadata": {},
     "output_type": "display_data"
    },
    {
     "data": {
      "application/vnd.jupyter.widget-view+json": {
       "model_id": "2df812cb6932455ebd02ac2d63cc0cc4",
       "version_major": 2,
       "version_minor": 0
      },
      "text/plain": [
       "VARS analysis:   0%|          | 0/10 [00:00<?, ?it/s]"
      ]
     },
     "metadata": {},
     "output_type": "display_data"
    },
    {
     "data": {
      "application/vnd.jupyter.widget-view+json": {
       "model_id": "890defa9799c4354b9d45f4407315bab",
       "version_major": 2,
       "version_minor": 0
      },
      "text/plain": [
       "factor ranking:   0%|          | 0/2 [00:00<?, ?it/s]"
      ]
     },
     "metadata": {},
     "output_type": "display_data"
    },
    {
     "data": {
      "application/vnd.jupyter.widget-view+json": {
       "model_id": "1275c922a4de455898b7b964fcca33fb",
       "version_major": 2,
       "version_minor": 0
      },
      "text/plain": [
       "bootstrapping:   0%|          | 0/100 [00:00<?, ?it/s]"
      ]
     },
     "metadata": {},
     "output_type": "display_data"
    }
   ],
   "source": [
    "experiment_1.run_online()"
   ]
  },
  {
   "cell_type": "markdown",
   "id": "248aa7a7",
   "metadata": {},
   "source": [
    "Now if we take a look at the status report again we can see that the `Vars Analysis` is now done."
   ]
  },
  {
   "cell_type": "code",
   "execution_count": 11,
   "id": "ab473100",
   "metadata": {},
   "outputs": [
    {
     "data": {
      "text/plain": [
       "Star Centres: 10 Centers Loaded\n",
       "Star Points: Loaded\n",
       "Parameters: 3 paremeters set\n",
       "Delta h: 0.1\n",
       "Model: ishigami\n",
       "Seed Number: 123456789\n",
       "Bootstrap: On\n",
       "Bootstrap Size: 100\n",
       "Bootstrap CI: 0.9\n",
       "Grouping: On\n",
       "Number of Groups: 2\n",
       "Verbose: On\n",
       "VARS Analysis: Done"
      ]
     },
     "execution_count": 11,
     "metadata": {},
     "output_type": "execute_result"
    }
   ],
   "source": [
    "experiment_1"
   ]
  },
  {
   "cell_type": "markdown",
   "id": "42ccd1de",
   "metadata": {},
   "source": [
    "Users can create their own plots from the resulting dataframes, but there is also access to the two plots given by the VARS program. They can be shown by doing the following:\n",
    "\n",
    "note: if bootstrapping is done the confidence interval limits for the ivars50 and sobol results will be shown in the bar plot\n",
    "\n",
    "note: to display the variogram plot with the y axis in the logscale change the logy paramater to `True`\n",
    "\n",
    "note: the plot function returns the resulting plots axes, and the barchart figure incase the user wants to edit the plots"
   ]
  },
  {
   "cell_type": "code",
   "execution_count": 12,
   "id": "0abf1a42",
   "metadata": {},
   "outputs": [
    {
     "data": {
      "image/png": "[encoded data removed]",
      "text/plain": [
       "<Figure size 432x288 with 1 Axes>"
      ]
     },
     "metadata": {
      "needs_background": "light"
     },
     "output_type": "display_data"
    },
    {
     "data": {
      "image/png": "[encoded data removed]",
      "text/plain": [
       "<Figure size 432x288 with 1 Axes>"
      ]
     },
     "metadata": {
      "needs_background": "light"
     },
     "output_type": "display_data"
    }
   ],
   "source": [
    "varsax, barfig, barax = experiment_1.plot(logy=False)"
   ]
  },
  {
   "cell_type": "markdown",
   "id": "0159cc94",
   "metadata": {},
   "source": [
    "Most useful results are stored in the `.output` property as a dictionary. The variables stores could be seen quickly by:"
   ]
  },
  {
   "cell_type": "code",
   "execution_count": 13,
   "id": "5b508555",
   "metadata": {},
   "outputs": [
    {
     "data": {
      "text/plain": [
       "dict_keys(['Gamma', 'MAEE', 'MEE', 'COV', 'ECOV', 'IVARS', 'IVARSid', 'rnkST', 'rnkIVARS', 'Gammalb', 'Gammaub', 'STlb', 'STub', 'IVARSlb', 'IVARSub', 'relST', 'relIVARS', 'Groups', 'relGrp'])"
      ]
     },
     "execution_count": 13,
     "metadata": {},
     "output_type": "execute_result"
    }
   ],
   "source": [
    "experiment_1.output.keys()"
   ]
  },
  {
   "cell_type": "markdown",
   "id": "82bdcb3c",
   "metadata": {},
   "source": [
    "and each output can be viewed by using the method shown in the next line:"
   ]
  },
  {
   "cell_type": "code",
   "execution_count": 14,
   "id": "35755887",
   "metadata": {},
   "outputs": [
    {
     "data": {
      "text/html": [
       "<div>\n",
       "<style scoped>\n",
       "    .dataframe tbody tr th:only-of-type {\n",
       "        vertical-align: middle;\n",
       "    }\n",
       "\n",
       "    .dataframe tbody tr th {\n",
       "        vertical-align: top;\n",
       "    }\n",
       "\n",
       "    .dataframe thead th {\n",
       "        text-align: right;\n",
       "    }\n",
       "</style>\n",
       "<table border=\"1\" class=\"dataframe\">\n",
       "  <thead>\n",
       "    <tr style=\"text-align: right;\">\n",
       "      <th>param</th>\n",
       "      <th>x1</th>\n",
       "      <th>x2</th>\n",
       "      <th>x3</th>\n",
       "    </tr>\n",
       "    <tr>\n",
       "      <th>h</th>\n",
       "      <th></th>\n",
       "      <th></th>\n",
       "      <th></th>\n",
       "    </tr>\n",
       "  </thead>\n",
       "  <tbody>\n",
       "    <tr>\n",
       "      <th>0.1</th>\n",
       "      <td>0.003698</td>\n",
       "      <td>0.149466</td>\n",
       "      <td>0.000007</td>\n",
       "    </tr>\n",
       "    <tr>\n",
       "      <th>0.2</th>\n",
       "      <td>0.014897</td>\n",
       "      <td>0.608676</td>\n",
       "      <td>0.000023</td>\n",
       "    </tr>\n",
       "    <tr>\n",
       "      <th>0.3</th>\n",
       "      <td>0.033664</td>\n",
       "      <td>1.381880</td>\n",
       "      <td>0.000041</td>\n",
       "    </tr>\n",
       "    <tr>\n",
       "      <th>0.4</th>\n",
       "      <td>0.059940</td>\n",
       "      <td>2.455592</td>\n",
       "      <td>0.000060</td>\n",
       "    </tr>\n",
       "    <tr>\n",
       "      <th>0.5</th>\n",
       "      <td>0.093541</td>\n",
       "      <td>3.797486</td>\n",
       "      <td>0.000080</td>\n",
       "    </tr>\n",
       "    <tr>\n",
       "      <th>0.6</th>\n",
       "      <td>0.134157</td>\n",
       "      <td>5.356835</td>\n",
       "      <td>0.000105</td>\n",
       "    </tr>\n",
       "    <tr>\n",
       "      <th>0.7</th>\n",
       "      <td>0.181351</td>\n",
       "      <td>7.066600</td>\n",
       "      <td>0.000138</td>\n",
       "    </tr>\n",
       "    <tr>\n",
       "      <th>0.8</th>\n",
       "      <td>0.234574</td>\n",
       "      <td>8.847068</td>\n",
       "      <td>0.000189</td>\n",
       "    </tr>\n",
       "    <tr>\n",
       "      <th>0.9</th>\n",
       "      <td>0.293164</td>\n",
       "      <td>10.610789</td>\n",
       "      <td>0.000269</td>\n",
       "    </tr>\n",
       "  </tbody>\n",
       "</table>\n",
       "</div>"
      ],
      "text/plain": [
       "param        x1         x2        x3\n",
       "h                                   \n",
       "0.1    0.003698   0.149466  0.000007\n",
       "0.2    0.014897   0.608676  0.000023\n",
       "0.3    0.033664   1.381880  0.000041\n",
       "0.4    0.059940   2.455592  0.000060\n",
       "0.5    0.093541   3.797486  0.000080\n",
       "0.6    0.134157   5.356835  0.000105\n",
       "0.7    0.181351   7.066600  0.000138\n",
       "0.8    0.234574   8.847068  0.000189\n",
       "0.9    0.293164  10.610789  0.000269"
      ]
     },
     "execution_count": 14,
     "metadata": {},
     "output_type": "execute_result"
    }
   ],
   "source": [
    "experiment_1.output['Gamma'].unstack(level=0) # adding unstack to make it more legible"
   ]
  },
  {
   "cell_type": "markdown",
   "id": "c0ee2c3a",
   "metadata": {},
   "source": [
    "Now we can access all the results using 'dot' notation on our created instance:"
   ]
  },
  {
   "cell_type": "markdown",
   "id": "8150e63a",
   "metadata": {},
   "source": [
    "**Directional variogram results**\n",
    "\n",
    "There are 10 rows as the number of stars was 10, and each at a resolution incremented by 0.1 which was specificed to be the sampling resolution"
   ]
  },
  {
   "cell_type": "code",
   "execution_count": 15,
   "id": "7a7603c9",
   "metadata": {},
   "outputs": [
    {
     "data": {
      "text/html": [
       "<div>\n",
       "<style scoped>\n",
       "    .dataframe tbody tr th:only-of-type {\n",
       "        vertical-align: middle;\n",
       "    }\n",
       "\n",
       "    .dataframe tbody tr th {\n",
       "        vertical-align: top;\n",
       "    }\n",
       "\n",
       "    .dataframe thead th {\n",
       "        text-align: right;\n",
       "    }\n",
       "</style>\n",
       "<table border=\"1\" class=\"dataframe\">\n",
       "  <thead>\n",
       "    <tr style=\"text-align: right;\">\n",
       "      <th>param</th>\n",
       "      <th>x1</th>\n",
       "      <th>x2</th>\n",
       "      <th>x3</th>\n",
       "    </tr>\n",
       "    <tr>\n",
       "      <th>h</th>\n",
       "      <th></th>\n",
       "      <th></th>\n",
       "      <th></th>\n",
       "    </tr>\n",
       "  </thead>\n",
       "  <tbody>\n",
       "    <tr>\n",
       "      <th>0.1</th>\n",
       "      <td>0.003698</td>\n",
       "      <td>0.149466</td>\n",
       "      <td>0.000007</td>\n",
       "    </tr>\n",
       "    <tr>\n",
       "      <th>0.2</th>\n",
       "      <td>0.014897</td>\n",
       "      <td>0.608676</td>\n",
       "      <td>0.000023</td>\n",
       "    </tr>\n",
       "    <tr>\n",
       "      <th>0.3</th>\n",
       "      <td>0.033664</td>\n",
       "      <td>1.381880</td>\n",
       "      <td>0.000041</td>\n",
       "    </tr>\n",
       "    <tr>\n",
       "      <th>0.4</th>\n",
       "      <td>0.059940</td>\n",
       "      <td>2.455592</td>\n",
       "      <td>0.000060</td>\n",
       "    </tr>\n",
       "    <tr>\n",
       "      <th>0.5</th>\n",
       "      <td>0.093541</td>\n",
       "      <td>3.797486</td>\n",
       "      <td>0.000080</td>\n",
       "    </tr>\n",
       "    <tr>\n",
       "      <th>0.6</th>\n",
       "      <td>0.134157</td>\n",
       "      <td>5.356835</td>\n",
       "      <td>0.000105</td>\n",
       "    </tr>\n",
       "    <tr>\n",
       "      <th>0.7</th>\n",
       "      <td>0.181351</td>\n",
       "      <td>7.066600</td>\n",
       "      <td>0.000138</td>\n",
       "    </tr>\n",
       "    <tr>\n",
       "      <th>0.8</th>\n",
       "      <td>0.234574</td>\n",
       "      <td>8.847068</td>\n",
       "      <td>0.000189</td>\n",
       "    </tr>\n",
       "    <tr>\n",
       "      <th>0.9</th>\n",
       "      <td>0.293164</td>\n",
       "      <td>10.610789</td>\n",
       "      <td>0.000269</td>\n",
       "    </tr>\n",
       "  </tbody>\n",
       "</table>\n",
       "</div>"
      ],
      "text/plain": [
       "param        x1         x2        x3\n",
       "h                                   \n",
       "0.1    0.003698   0.149466  0.000007\n",
       "0.2    0.014897   0.608676  0.000023\n",
       "0.3    0.033664   1.381880  0.000041\n",
       "0.4    0.059940   2.455592  0.000060\n",
       "0.5    0.093541   3.797486  0.000080\n",
       "0.6    0.134157   5.356835  0.000105\n",
       "0.7    0.181351   7.066600  0.000138\n",
       "0.8    0.234574   8.847068  0.000189\n",
       "0.9    0.293164  10.610789  0.000269"
      ]
     },
     "execution_count": 15,
     "metadata": {},
     "output_type": "execute_result"
    }
   ],
   "source": [
    "experiment_1.gamma.unstack(0)"
   ]
  },
  {
   "cell_type": "markdown",
   "id": "6339abc4",
   "metadata": {},
   "source": [
    "**Integrated variogram**"
   ]
  },
  {
   "cell_type": "code",
   "execution_count": 16,
   "id": "25f48f3c",
   "metadata": {},
   "outputs": [
    {
     "data": {
      "text/html": [
       "<div>\n",
       "<style scoped>\n",
       "    .dataframe tbody tr th:only-of-type {\n",
       "        vertical-align: middle;\n",
       "    }\n",
       "\n",
       "    .dataframe tbody tr th {\n",
       "        vertical-align: top;\n",
       "    }\n",
       "\n",
       "    .dataframe thead th {\n",
       "        text-align: right;\n",
       "    }\n",
       "</style>\n",
       "<table border=\"1\" class=\"dataframe\">\n",
       "  <thead>\n",
       "    <tr style=\"text-align: right;\">\n",
       "      <th></th>\n",
       "      <th>x1</th>\n",
       "      <th>x2</th>\n",
       "      <th>x3</th>\n",
       "    </tr>\n",
       "  </thead>\n",
       "  <tbody>\n",
       "    <tr>\n",
       "      <th>0.1</th>\n",
       "      <td>0.000185</td>\n",
       "      <td>0.007473</td>\n",
       "      <td>3.594623e-07</td>\n",
       "    </tr>\n",
       "    <tr>\n",
       "      <th>0.3</th>\n",
       "      <td>0.003543</td>\n",
       "      <td>0.144908</td>\n",
       "      <td>5.020546e-06</td>\n",
       "    </tr>\n",
       "    <tr>\n",
       "      <th>0.5</th>\n",
       "      <td>0.015897</td>\n",
       "      <td>0.649436</td>\n",
       "      <td>1.705942e-05</td>\n",
       "    </tr>\n",
       "  </tbody>\n",
       "</table>\n",
       "</div>"
      ],
      "text/plain": [
       "           x1        x2            x3\n",
       "0.1  0.000185  0.007473  3.594623e-07\n",
       "0.3  0.003543  0.144908  5.020546e-06\n",
       "0.5  0.015897  0.649436  1.705942e-05"
      ]
     },
     "execution_count": 16,
     "metadata": {},
     "output_type": "execute_result"
    }
   ],
   "source": [
    "experiment_1.ivars"
   ]
  },
  {
   "cell_type": "markdown",
   "id": "70973b79",
   "metadata": {},
   "source": [
    "**VARS-TO: Sobol total-order effects calculated through VARS**"
   ]
  },
  {
   "cell_type": "code",
   "execution_count": 17,
   "id": "1c7881c2",
   "metadata": {},
   "outputs": [
    {
     "data": {
      "text/plain": [
       "param\n",
       "x1    0.027037\n",
       "x2    1.084649\n",
       "x3    0.000022\n",
       "dtype: float64"
      ]
     },
     "execution_count": 17,
     "metadata": {},
     "output_type": "execute_result"
    }
   ],
   "source": [
    "experiment_1.st"
   ]
  },
  {
   "cell_type": "markdown",
   "id": "58a960d4",
   "metadata": {},
   "source": [
    "**VARS-ABE: Morris mean absolute elementary effects across scales**"
   ]
  },
  {
   "cell_type": "code",
   "execution_count": 18,
   "id": "00d1af86",
   "metadata": {},
   "outputs": [
    {
     "data": {
      "text/html": [
       "<div>\n",
       "<style scoped>\n",
       "    .dataframe tbody tr th:only-of-type {\n",
       "        vertical-align: middle;\n",
       "    }\n",
       "\n",
       "    .dataframe tbody tr th {\n",
       "        vertical-align: top;\n",
       "    }\n",
       "\n",
       "    .dataframe thead th {\n",
       "        text-align: right;\n",
       "    }\n",
       "</style>\n",
       "<table border=\"1\" class=\"dataframe\">\n",
       "  <thead>\n",
       "    <tr style=\"text-align: right;\">\n",
       "      <th>param</th>\n",
       "      <th>x1</th>\n",
       "      <th>x2</th>\n",
       "      <th>x3</th>\n",
       "    </tr>\n",
       "    <tr>\n",
       "      <th>h</th>\n",
       "      <th></th>\n",
       "      <th></th>\n",
       "      <th></th>\n",
       "    </tr>\n",
       "  </thead>\n",
       "  <tbody>\n",
       "    <tr>\n",
       "      <th>0.1</th>\n",
       "      <td>0.085066</td>\n",
       "      <td>0.511523</td>\n",
       "      <td>0.002353</td>\n",
       "    </tr>\n",
       "    <tr>\n",
       "      <th>0.2</th>\n",
       "      <td>0.171142</td>\n",
       "      <td>1.048732</td>\n",
       "      <td>0.004331</td>\n",
       "    </tr>\n",
       "    <tr>\n",
       "      <th>0.3</th>\n",
       "      <td>0.257799</td>\n",
       "      <td>1.601071</td>\n",
       "      <td>0.006094</td>\n",
       "    </tr>\n",
       "    <tr>\n",
       "      <th>0.4</th>\n",
       "      <td>0.344604</td>\n",
       "      <td>2.157385</td>\n",
       "      <td>0.007803</td>\n",
       "    </tr>\n",
       "    <tr>\n",
       "      <th>0.5</th>\n",
       "      <td>0.431119</td>\n",
       "      <td>2.706208</td>\n",
       "      <td>0.009619</td>\n",
       "    </tr>\n",
       "    <tr>\n",
       "      <th>0.6</th>\n",
       "      <td>0.516906</td>\n",
       "      <td>3.236077</td>\n",
       "      <td>0.011704</td>\n",
       "    </tr>\n",
       "    <tr>\n",
       "      <th>0.7</th>\n",
       "      <td>0.601532</td>\n",
       "      <td>3.735833</td>\n",
       "      <td>0.014218</td>\n",
       "    </tr>\n",
       "    <tr>\n",
       "      <th>0.8</th>\n",
       "      <td>0.684567</td>\n",
       "      <td>4.194928</td>\n",
       "      <td>0.017323</td>\n",
       "    </tr>\n",
       "    <tr>\n",
       "      <th>0.9</th>\n",
       "      <td>0.765593</td>\n",
       "      <td>4.603709</td>\n",
       "      <td>0.021178</td>\n",
       "    </tr>\n",
       "  </tbody>\n",
       "</table>\n",
       "</div>"
      ],
      "text/plain": [
       "param        x1        x2        x3\n",
       "h                                  \n",
       "0.1    0.085066  0.511523  0.002353\n",
       "0.2    0.171142  1.048732  0.004331\n",
       "0.3    0.257799  1.601071  0.006094\n",
       "0.4    0.344604  2.157385  0.007803\n",
       "0.5    0.431119  2.706208  0.009619\n",
       "0.6    0.516906  3.236077  0.011704\n",
       "0.7    0.601532  3.735833  0.014218\n",
       "0.8    0.684567  4.194928  0.017323\n",
       "0.9    0.765593  4.603709  0.021178"
      ]
     },
     "execution_count": 18,
     "metadata": {},
     "output_type": "execute_result"
    }
   ],
   "source": [
    "experiment_1.maee.unstack(0)"
   ]
  },
  {
   "cell_type": "markdown",
   "id": "4aba7b75",
   "metadata": {},
   "source": [
    "**VARS-ACE: Morris mean actual elementary effects across scales**"
   ]
  },
  {
   "cell_type": "code",
   "execution_count": 19,
   "id": "95c20f8c",
   "metadata": {},
   "outputs": [
    {
     "data": {
      "text/html": [
       "<div>\n",
       "<style scoped>\n",
       "    .dataframe tbody tr th:only-of-type {\n",
       "        vertical-align: middle;\n",
       "    }\n",
       "\n",
       "    .dataframe tbody tr th {\n",
       "        vertical-align: top;\n",
       "    }\n",
       "\n",
       "    .dataframe thead th {\n",
       "        text-align: right;\n",
       "    }\n",
       "</style>\n",
       "<table border=\"1\" class=\"dataframe\">\n",
       "  <thead>\n",
       "    <tr style=\"text-align: right;\">\n",
       "      <th>param</th>\n",
       "      <th>x1</th>\n",
       "      <th>x2</th>\n",
       "      <th>x3</th>\n",
       "    </tr>\n",
       "    <tr>\n",
       "      <th>h</th>\n",
       "      <th></th>\n",
       "      <th></th>\n",
       "      <th></th>\n",
       "    </tr>\n",
       "  </thead>\n",
       "  <tbody>\n",
       "    <tr>\n",
       "      <th>0.1</th>\n",
       "      <td>0.085066</td>\n",
       "      <td>0.511523</td>\n",
       "      <td>0.002353</td>\n",
       "    </tr>\n",
       "    <tr>\n",
       "      <th>0.2</th>\n",
       "      <td>0.171142</td>\n",
       "      <td>1.048732</td>\n",
       "      <td>0.004331</td>\n",
       "    </tr>\n",
       "    <tr>\n",
       "      <th>0.3</th>\n",
       "      <td>0.257799</td>\n",
       "      <td>1.601071</td>\n",
       "      <td>0.006094</td>\n",
       "    </tr>\n",
       "    <tr>\n",
       "      <th>0.4</th>\n",
       "      <td>0.344604</td>\n",
       "      <td>2.157385</td>\n",
       "      <td>0.007803</td>\n",
       "    </tr>\n",
       "    <tr>\n",
       "      <th>0.5</th>\n",
       "      <td>0.431119</td>\n",
       "      <td>2.706208</td>\n",
       "      <td>0.009619</td>\n",
       "    </tr>\n",
       "    <tr>\n",
       "      <th>0.6</th>\n",
       "      <td>0.516906</td>\n",
       "      <td>3.236077</td>\n",
       "      <td>0.011704</td>\n",
       "    </tr>\n",
       "    <tr>\n",
       "      <th>0.7</th>\n",
       "      <td>0.601532</td>\n",
       "      <td>3.735833</td>\n",
       "      <td>0.014218</td>\n",
       "    </tr>\n",
       "    <tr>\n",
       "      <th>0.8</th>\n",
       "      <td>0.684567</td>\n",
       "      <td>4.194928</td>\n",
       "      <td>0.017323</td>\n",
       "    </tr>\n",
       "    <tr>\n",
       "      <th>0.9</th>\n",
       "      <td>0.765593</td>\n",
       "      <td>4.603709</td>\n",
       "      <td>0.021178</td>\n",
       "    </tr>\n",
       "  </tbody>\n",
       "</table>\n",
       "</div>"
      ],
      "text/plain": [
       "param        x1        x2        x3\n",
       "h                                  \n",
       "0.1    0.085066  0.511523  0.002353\n",
       "0.2    0.171142  1.048732  0.004331\n",
       "0.3    0.257799  1.601071  0.006094\n",
       "0.4    0.344604  2.157385  0.007803\n",
       "0.5    0.431119  2.706208  0.009619\n",
       "0.6    0.516906  3.236077  0.011704\n",
       "0.7    0.601532  3.735833  0.014218\n",
       "0.8    0.684567  4.194928  0.017323\n",
       "0.9    0.765593  4.603709  0.021178"
      ]
     },
     "execution_count": 19,
     "metadata": {},
     "output_type": "execute_result"
    }
   ],
   "source": [
    "experiment_1.mee.unstack(0)"
   ]
  },
  {
   "cell_type": "markdown",
   "id": "8f49bedb",
   "metadata": {},
   "source": [
    "**The factor(parameter) rankings based on their influence for IVARS and Sobol results**. \n",
    "\n",
    "The influence is based on how large or small a result is. The lower the ranking the more influential(larger) a factor is."
   ]
  },
  {
   "cell_type": "code",
   "execution_count": 20,
   "id": "37e1ddea",
   "metadata": {},
   "outputs": [
    {
     "data": {
      "text/html": [
       "<div>\n",
       "<style scoped>\n",
       "    .dataframe tbody tr th:only-of-type {\n",
       "        vertical-align: middle;\n",
       "    }\n",
       "\n",
       "    .dataframe tbody tr th {\n",
       "        vertical-align: top;\n",
       "    }\n",
       "\n",
       "    .dataframe thead th {\n",
       "        text-align: right;\n",
       "    }\n",
       "</style>\n",
       "<table border=\"1\" class=\"dataframe\">\n",
       "  <thead>\n",
       "    <tr style=\"text-align: right;\">\n",
       "      <th></th>\n",
       "      <th>x1</th>\n",
       "      <th>x2</th>\n",
       "      <th>x3</th>\n",
       "    </tr>\n",
       "  </thead>\n",
       "  <tbody>\n",
       "    <tr>\n",
       "      <th>0.1</th>\n",
       "      <td>1</td>\n",
       "      <td>0</td>\n",
       "      <td>2</td>\n",
       "    </tr>\n",
       "    <tr>\n",
       "      <th>0.3</th>\n",
       "      <td>1</td>\n",
       "      <td>0</td>\n",
       "      <td>2</td>\n",
       "    </tr>\n",
       "    <tr>\n",
       "      <th>0.5</th>\n",
       "      <td>1</td>\n",
       "      <td>0</td>\n",
       "      <td>2</td>\n",
       "    </tr>\n",
       "  </tbody>\n",
       "</table>\n",
       "</div>"
      ],
      "text/plain": [
       "     x1  x2  x3\n",
       "0.1   1   0   2\n",
       "0.3   1   0   2\n",
       "0.5   1   0   2"
      ]
     },
     "execution_count": 20,
     "metadata": {},
     "output_type": "execute_result"
    }
   ],
   "source": [
    "experiment_1.ivars_factor_ranking"
   ]
  },
  {
   "cell_type": "code",
   "execution_count": 21,
   "id": "d80b1f00",
   "metadata": {},
   "outputs": [
    {
     "data": {
      "text/html": [
       "<div>\n",
       "<style scoped>\n",
       "    .dataframe tbody tr th:only-of-type {\n",
       "        vertical-align: middle;\n",
       "    }\n",
       "\n",
       "    .dataframe tbody tr th {\n",
       "        vertical-align: top;\n",
       "    }\n",
       "\n",
       "    .dataframe thead th {\n",
       "        text-align: right;\n",
       "    }\n",
       "</style>\n",
       "<table border=\"1\" class=\"dataframe\">\n",
       "  <thead>\n",
       "    <tr style=\"text-align: right;\">\n",
       "      <th></th>\n",
       "      <th>x1</th>\n",
       "      <th>x2</th>\n",
       "      <th>x3</th>\n",
       "    </tr>\n",
       "  </thead>\n",
       "  <tbody>\n",
       "    <tr>\n",
       "      <th></th>\n",
       "      <td>1</td>\n",
       "      <td>0</td>\n",
       "      <td>2</td>\n",
       "    </tr>\n",
       "  </tbody>\n",
       "</table>\n",
       "</div>"
      ],
      "text/plain": [
       "  x1  x2  x3\n",
       "   1   0   2"
      ]
     },
     "execution_count": 21,
     "metadata": {},
     "output_type": "execute_result"
    }
   ],
   "source": [
    "experiment_1.st_factor_ranking"
   ]
  },
  {
   "cell_type": "markdown",
   "id": "bd3fedf2",
   "metadata": {},
   "source": [
    "**Bootstrapping results based on the confidence interval limits**\n",
    "\n",
    "low is the lower limit of the results after `bootstrap_size` sampling iterations\n",
    "\n",
    "upp is the upper limit of the results after `bootstrap_size` sampling iterations"
   ]
  },
  {
   "cell_type": "code",
   "execution_count": 22,
   "id": "8ccdd880",
   "metadata": {},
   "outputs": [
    {
     "data": {
      "text/html": [
       "<div>\n",
       "<style scoped>\n",
       "    .dataframe tbody tr th:only-of-type {\n",
       "        vertical-align: middle;\n",
       "    }\n",
       "\n",
       "    .dataframe tbody tr th {\n",
       "        vertical-align: top;\n",
       "    }\n",
       "\n",
       "    .dataframe thead th {\n",
       "        text-align: right;\n",
       "    }\n",
       "</style>\n",
       "<table border=\"1\" class=\"dataframe\">\n",
       "  <thead>\n",
       "    <tr style=\"text-align: right;\">\n",
       "      <th>h</th>\n",
       "      <th>x1</th>\n",
       "      <th>x2</th>\n",
       "      <th>x3</th>\n",
       "    </tr>\n",
       "  </thead>\n",
       "  <tbody>\n",
       "    <tr>\n",
       "      <th>0.1</th>\n",
       "      <td>0.003635</td>\n",
       "      <td>0.146042</td>\n",
       "      <td>0.000005</td>\n",
       "    </tr>\n",
       "    <tr>\n",
       "      <th>0.2</th>\n",
       "      <td>0.014640</td>\n",
       "      <td>0.593018</td>\n",
       "      <td>0.000015</td>\n",
       "    </tr>\n",
       "    <tr>\n",
       "      <th>0.3</th>\n",
       "      <td>0.033075</td>\n",
       "      <td>1.342847</td>\n",
       "      <td>0.000026</td>\n",
       "    </tr>\n",
       "    <tr>\n",
       "      <th>0.4</th>\n",
       "      <td>0.058879</td>\n",
       "      <td>2.380803</td>\n",
       "      <td>0.000039</td>\n",
       "    </tr>\n",
       "    <tr>\n",
       "      <th>0.5</th>\n",
       "      <td>0.091869</td>\n",
       "      <td>3.674675</td>\n",
       "      <td>0.000052</td>\n",
       "    </tr>\n",
       "    <tr>\n",
       "      <th>0.6</th>\n",
       "      <td>0.131740</td>\n",
       "      <td>5.175305</td>\n",
       "      <td>0.000067</td>\n",
       "    </tr>\n",
       "    <tr>\n",
       "      <th>0.7</th>\n",
       "      <td>0.178064</td>\n",
       "      <td>6.818604</td>\n",
       "      <td>0.000089</td>\n",
       "    </tr>\n",
       "    <tr>\n",
       "      <th>0.8</th>\n",
       "      <td>0.230304</td>\n",
       "      <td>8.528955</td>\n",
       "      <td>0.000122</td>\n",
       "    </tr>\n",
       "    <tr>\n",
       "      <th>0.9</th>\n",
       "      <td>0.287815</td>\n",
       "      <td>10.223761</td>\n",
       "      <td>0.000173</td>\n",
       "    </tr>\n",
       "  </tbody>\n",
       "</table>\n",
       "</div>"
      ],
      "text/plain": [
       "h          x1         x2        x3\n",
       "0.1  0.003635   0.146042  0.000005\n",
       "0.2  0.014640   0.593018  0.000015\n",
       "0.3  0.033075   1.342847  0.000026\n",
       "0.4  0.058879   2.380803  0.000039\n",
       "0.5  0.091869   3.674675  0.000052\n",
       "0.6  0.131740   5.175305  0.000067\n",
       "0.7  0.178064   6.818604  0.000089\n",
       "0.8  0.230304   8.528955  0.000122\n",
       "0.9  0.287815  10.223761  0.000173"
      ]
     },
     "execution_count": 22,
     "metadata": {},
     "output_type": "execute_result"
    }
   ],
   "source": [
    "experiment_1.gammalb"
   ]
  },
  {
   "cell_type": "code",
   "execution_count": 23,
   "id": "76e5dbaf",
   "metadata": {},
   "outputs": [
    {
     "data": {
      "text/html": [
       "<div>\n",
       "<style scoped>\n",
       "    .dataframe tbody tr th:only-of-type {\n",
       "        vertical-align: middle;\n",
       "    }\n",
       "\n",
       "    .dataframe tbody tr th {\n",
       "        vertical-align: top;\n",
       "    }\n",
       "\n",
       "    .dataframe thead th {\n",
       "        text-align: right;\n",
       "    }\n",
       "</style>\n",
       "<table border=\"1\" class=\"dataframe\">\n",
       "  <thead>\n",
       "    <tr style=\"text-align: right;\">\n",
       "      <th>h</th>\n",
       "      <th>x1</th>\n",
       "      <th>x2</th>\n",
       "      <th>x3</th>\n",
       "    </tr>\n",
       "  </thead>\n",
       "  <tbody>\n",
       "    <tr>\n",
       "      <th>0.1</th>\n",
       "      <td>0.003758</td>\n",
       "      <td>0.152211</td>\n",
       "      <td>0.000009</td>\n",
       "    </tr>\n",
       "    <tr>\n",
       "      <th>0.2</th>\n",
       "      <td>0.015141</td>\n",
       "      <td>0.621231</td>\n",
       "      <td>0.000029</td>\n",
       "    </tr>\n",
       "    <tr>\n",
       "      <th>0.3</th>\n",
       "      <td>0.034223</td>\n",
       "      <td>1.413181</td>\n",
       "      <td>0.000053</td>\n",
       "    </tr>\n",
       "    <tr>\n",
       "      <th>0.4</th>\n",
       "      <td>0.060949</td>\n",
       "      <td>2.515567</td>\n",
       "      <td>0.000078</td>\n",
       "    </tr>\n",
       "    <tr>\n",
       "      <th>0.5</th>\n",
       "      <td>0.095129</td>\n",
       "      <td>3.895969</td>\n",
       "      <td>0.000105</td>\n",
       "    </tr>\n",
       "    <tr>\n",
       "      <th>0.6</th>\n",
       "      <td>0.136449</td>\n",
       "      <td>5.502404</td>\n",
       "      <td>0.000137</td>\n",
       "    </tr>\n",
       "    <tr>\n",
       "      <th>0.7</th>\n",
       "      <td>0.184467</td>\n",
       "      <td>7.265468</td>\n",
       "      <td>0.000181</td>\n",
       "    </tr>\n",
       "    <tr>\n",
       "      <th>0.8</th>\n",
       "      <td>0.238619</td>\n",
       "      <td>9.102165</td>\n",
       "      <td>0.000247</td>\n",
       "    </tr>\n",
       "    <tr>\n",
       "      <th>0.9</th>\n",
       "      <td>0.298232</td>\n",
       "      <td>10.921149</td>\n",
       "      <td>0.000350</td>\n",
       "    </tr>\n",
       "  </tbody>\n",
       "</table>\n",
       "</div>"
      ],
      "text/plain": [
       "h          x1         x2        x3\n",
       "0.1  0.003758   0.152211  0.000009\n",
       "0.2  0.015141   0.621231  0.000029\n",
       "0.3  0.034223   1.413181  0.000053\n",
       "0.4  0.060949   2.515567  0.000078\n",
       "0.5  0.095129   3.895969  0.000105\n",
       "0.6  0.136449   5.502404  0.000137\n",
       "0.7  0.184467   7.265468  0.000181\n",
       "0.8  0.238619   9.102165  0.000247\n",
       "0.9  0.298232  10.921149  0.000350"
      ]
     },
     "execution_count": 23,
     "metadata": {},
     "output_type": "execute_result"
    }
   ],
   "source": [
    "experiment_1.gammaub"
   ]
  },
  {
   "cell_type": "code",
   "execution_count": 24,
   "id": "686eead9",
   "metadata": {},
   "outputs": [
    {
     "data": {
      "text/html": [
       "<div>\n",
       "<style scoped>\n",
       "    .dataframe tbody tr th:only-of-type {\n",
       "        vertical-align: middle;\n",
       "    }\n",
       "\n",
       "    .dataframe tbody tr th {\n",
       "        vertical-align: top;\n",
       "    }\n",
       "\n",
       "    .dataframe thead th {\n",
       "        text-align: right;\n",
       "    }\n",
       "</style>\n",
       "<table border=\"1\" class=\"dataframe\">\n",
       "  <thead>\n",
       "    <tr style=\"text-align: right;\">\n",
       "      <th>param</th>\n",
       "      <th>x1</th>\n",
       "      <th>x2</th>\n",
       "      <th>x3</th>\n",
       "    </tr>\n",
       "  </thead>\n",
       "  <tbody>\n",
       "    <tr>\n",
       "      <th></th>\n",
       "      <td>0.02333</td>\n",
       "      <td>0.944495</td>\n",
       "      <td>0.000014</td>\n",
       "    </tr>\n",
       "  </tbody>\n",
       "</table>\n",
       "</div>"
      ],
      "text/plain": [
       "param       x1        x2        x3\n",
       "       0.02333  0.944495  0.000014"
      ]
     },
     "execution_count": 24,
     "metadata": {},
     "output_type": "execute_result"
    }
   ],
   "source": [
    "experiment_1.stlb"
   ]
  },
  {
   "cell_type": "code",
   "execution_count": 25,
   "id": "078489dd",
   "metadata": {},
   "outputs": [
    {
     "data": {
      "text/html": [
       "<div>\n",
       "<style scoped>\n",
       "    .dataframe tbody tr th:only-of-type {\n",
       "        vertical-align: middle;\n",
       "    }\n",
       "\n",
       "    .dataframe tbody tr th {\n",
       "        vertical-align: top;\n",
       "    }\n",
       "\n",
       "    .dataframe thead th {\n",
       "        text-align: right;\n",
       "    }\n",
       "</style>\n",
       "<table border=\"1\" class=\"dataframe\">\n",
       "  <thead>\n",
       "    <tr style=\"text-align: right;\">\n",
       "      <th>param</th>\n",
       "      <th>x1</th>\n",
       "      <th>x2</th>\n",
       "      <th>x3</th>\n",
       "    </tr>\n",
       "  </thead>\n",
       "  <tbody>\n",
       "    <tr>\n",
       "      <th></th>\n",
       "      <td>0.032319</td>\n",
       "      <td>1.28066</td>\n",
       "      <td>0.000032</td>\n",
       "    </tr>\n",
       "  </tbody>\n",
       "</table>\n",
       "</div>"
      ],
      "text/plain": [
       "param        x1       x2        x3\n",
       "       0.032319  1.28066  0.000032"
      ]
     },
     "execution_count": 25,
     "metadata": {},
     "output_type": "execute_result"
    }
   ],
   "source": [
    "experiment_1.stub"
   ]
  },
  {
   "cell_type": "code",
   "execution_count": 26,
   "id": "a1c7a5ee",
   "metadata": {},
   "outputs": [
    {
     "data": {
      "text/html": [
       "<div>\n",
       "<style scoped>\n",
       "    .dataframe tbody tr th:only-of-type {\n",
       "        vertical-align: middle;\n",
       "    }\n",
       "\n",
       "    .dataframe tbody tr th {\n",
       "        vertical-align: top;\n",
       "    }\n",
       "\n",
       "    .dataframe thead th {\n",
       "        text-align: right;\n",
       "    }\n",
       "</style>\n",
       "<table border=\"1\" class=\"dataframe\">\n",
       "  <thead>\n",
       "    <tr style=\"text-align: right;\">\n",
       "      <th></th>\n",
       "      <th>x1</th>\n",
       "      <th>x2</th>\n",
       "      <th>x3</th>\n",
       "    </tr>\n",
       "  </thead>\n",
       "  <tbody>\n",
       "    <tr>\n",
       "      <th>0.1</th>\n",
       "      <td>0.000182</td>\n",
       "      <td>0.007302</td>\n",
       "      <td>2.340514e-07</td>\n",
       "    </tr>\n",
       "    <tr>\n",
       "      <th>0.3</th>\n",
       "      <td>0.003481</td>\n",
       "      <td>0.141048</td>\n",
       "      <td>3.254933e-06</td>\n",
       "    </tr>\n",
       "    <tr>\n",
       "      <th>0.5</th>\n",
       "      <td>0.015616</td>\n",
       "      <td>0.630005</td>\n",
       "      <td>1.101623e-05</td>\n",
       "    </tr>\n",
       "  </tbody>\n",
       "</table>\n",
       "</div>"
      ],
      "text/plain": [
       "           x1        x2            x3\n",
       "0.1  0.000182  0.007302  2.340514e-07\n",
       "0.3  0.003481  0.141048  3.254933e-06\n",
       "0.5  0.015616  0.630005  1.101623e-05"
      ]
     },
     "execution_count": 26,
     "metadata": {},
     "output_type": "execute_result"
    }
   ],
   "source": [
    "experiment_1.ivarslb"
   ]
  },
  {
   "cell_type": "code",
   "execution_count": 27,
   "id": "56a8922d",
   "metadata": {},
   "outputs": [
    {
     "data": {
      "text/html": [
       "<div>\n",
       "<style scoped>\n",
       "    .dataframe tbody tr th:only-of-type {\n",
       "        vertical-align: middle;\n",
       "    }\n",
       "\n",
       "    .dataframe tbody tr th {\n",
       "        vertical-align: top;\n",
       "    }\n",
       "\n",
       "    .dataframe thead th {\n",
       "        text-align: right;\n",
       "    }\n",
       "</style>\n",
       "<table border=\"1\" class=\"dataframe\">\n",
       "  <thead>\n",
       "    <tr style=\"text-align: right;\">\n",
       "      <th></th>\n",
       "      <th>x1</th>\n",
       "      <th>x2</th>\n",
       "      <th>x3</th>\n",
       "    </tr>\n",
       "  </thead>\n",
       "  <tbody>\n",
       "    <tr>\n",
       "      <th>0.1</th>\n",
       "      <td>0.000188</td>\n",
       "      <td>0.007611</td>\n",
       "      <td>4.621551e-07</td>\n",
       "    </tr>\n",
       "    <tr>\n",
       "      <th>0.3</th>\n",
       "      <td>0.003601</td>\n",
       "      <td>0.148003</td>\n",
       "      <td>6.484346e-06</td>\n",
       "    </tr>\n",
       "    <tr>\n",
       "      <th>0.5</th>\n",
       "      <td>0.016164</td>\n",
       "      <td>0.665017</td>\n",
       "      <td>2.217072e-05</td>\n",
       "    </tr>\n",
       "  </tbody>\n",
       "</table>\n",
       "</div>"
      ],
      "text/plain": [
       "           x1        x2            x3\n",
       "0.1  0.000188  0.007611  4.621551e-07\n",
       "0.3  0.003601  0.148003  6.484346e-06\n",
       "0.5  0.016164  0.665017  2.217072e-05"
      ]
     },
     "execution_count": 27,
     "metadata": {},
     "output_type": "execute_result"
    }
   ],
   "source": [
    "experiment_1.ivarsub"
   ]
  },
  {
   "cell_type": "markdown",
   "id": "0df9c6e4",
   "metadata": {},
   "source": [
    "**Reliability estimates of factor rankings based on VARS-TO**\n",
    "\n",
    "reliability estimates give the ratio of how many bootstrapped rankings were the same as the initial rankings for `bootstrap_size` sampling iterations"
   ]
  },
  {
   "cell_type": "code",
   "execution_count": 28,
   "id": "1f05bb9b",
   "metadata": {},
   "outputs": [
    {
     "data": {
      "text/html": [
       "<div>\n",
       "<style scoped>\n",
       "    .dataframe tbody tr th:only-of-type {\n",
       "        vertical-align: middle;\n",
       "    }\n",
       "\n",
       "    .dataframe tbody tr th {\n",
       "        vertical-align: top;\n",
       "    }\n",
       "\n",
       "    .dataframe thead th {\n",
       "        text-align: right;\n",
       "    }\n",
       "</style>\n",
       "<table border=\"1\" class=\"dataframe\">\n",
       "  <thead>\n",
       "    <tr style=\"text-align: right;\">\n",
       "      <th></th>\n",
       "      <th>x1</th>\n",
       "      <th>x2</th>\n",
       "      <th>x3</th>\n",
       "    </tr>\n",
       "  </thead>\n",
       "  <tbody>\n",
       "    <tr>\n",
       "      <th></th>\n",
       "      <td>1.0</td>\n",
       "      <td>1.0</td>\n",
       "      <td>1.0</td>\n",
       "    </tr>\n",
       "  </tbody>\n",
       "</table>\n",
       "</div>"
      ],
      "text/plain": [
       "   x1   x2   x3\n",
       "  1.0  1.0  1.0"
      ]
     },
     "execution_count": 28,
     "metadata": {},
     "output_type": "execute_result"
    }
   ],
   "source": [
    "experiment_1.rel_st_factor_ranking"
   ]
  },
  {
   "cell_type": "code",
   "execution_count": 29,
   "id": "da2286cd",
   "metadata": {},
   "outputs": [
    {
     "data": {
      "text/html": [
       "<div>\n",
       "<style scoped>\n",
       "    .dataframe tbody tr th:only-of-type {\n",
       "        vertical-align: middle;\n",
       "    }\n",
       "\n",
       "    .dataframe tbody tr th {\n",
       "        vertical-align: top;\n",
       "    }\n",
       "\n",
       "    .dataframe thead th {\n",
       "        text-align: right;\n",
       "    }\n",
       "</style>\n",
       "<table border=\"1\" class=\"dataframe\">\n",
       "  <thead>\n",
       "    <tr style=\"text-align: right;\">\n",
       "      <th></th>\n",
       "      <th>x1</th>\n",
       "      <th>x2</th>\n",
       "      <th>x3</th>\n",
       "    </tr>\n",
       "  </thead>\n",
       "  <tbody>\n",
       "    <tr>\n",
       "      <th>0.1</th>\n",
       "      <td>1.0</td>\n",
       "      <td>1.0</td>\n",
       "      <td>1.0</td>\n",
       "    </tr>\n",
       "    <tr>\n",
       "      <th>0.3</th>\n",
       "      <td>1.0</td>\n",
       "      <td>1.0</td>\n",
       "      <td>1.0</td>\n",
       "    </tr>\n",
       "    <tr>\n",
       "      <th>0.5</th>\n",
       "      <td>1.0</td>\n",
       "      <td>1.0</td>\n",
       "      <td>1.0</td>\n",
       "    </tr>\n",
       "  </tbody>\n",
       "</table>\n",
       "</div>"
      ],
      "text/plain": [
       "      x1   x2   x3\n",
       "0.1  1.0  1.0  1.0\n",
       "0.3  1.0  1.0  1.0\n",
       "0.5  1.0  1.0  1.0"
      ]
     },
     "execution_count": 29,
     "metadata": {},
     "output_type": "execute_result"
    }
   ],
   "source": [
    "experiment_1.rel_ivars_factor_ranking"
   ]
  },
  {
   "cell_type": "markdown",
   "id": "216f1e59",
   "metadata": {},
   "source": [
    "**Factor grouping based on IVARS50 and Sobol results**"
   ]
  },
  {
   "cell_type": "code",
   "execution_count": 30,
   "id": "977e4198",
   "metadata": {},
   "outputs": [
    {
     "data": {
      "text/html": [
       "<div>\n",
       "<style scoped>\n",
       "    .dataframe tbody tr th:only-of-type {\n",
       "        vertical-align: middle;\n",
       "    }\n",
       "\n",
       "    .dataframe tbody tr th {\n",
       "        vertical-align: top;\n",
       "    }\n",
       "\n",
       "    .dataframe thead th {\n",
       "        text-align: right;\n",
       "    }\n",
       "</style>\n",
       "<table border=\"1\" class=\"dataframe\">\n",
       "  <thead>\n",
       "    <tr style=\"text-align: right;\">\n",
       "      <th></th>\n",
       "      <th>x1</th>\n",
       "      <th>x2</th>\n",
       "      <th>x3</th>\n",
       "    </tr>\n",
       "  </thead>\n",
       "  <tbody>\n",
       "    <tr>\n",
       "      <th>0.5</th>\n",
       "      <td>2</td>\n",
       "      <td>1</td>\n",
       "      <td>2</td>\n",
       "    </tr>\n",
       "  </tbody>\n",
       "</table>\n",
       "</div>"
      ],
      "text/plain": [
       "     x1  x2  x3\n",
       "0.5   2   1   2"
      ]
     },
     "execution_count": 30,
     "metadata": {},
     "output_type": "execute_result"
    }
   ],
   "source": [
    "experiment_1.ivars50_grp"
   ]
  },
  {
   "cell_type": "code",
   "execution_count": 31,
   "id": "8afbc617",
   "metadata": {},
   "outputs": [
    {
     "data": {
      "text/html": [
       "<div>\n",
       "<style scoped>\n",
       "    .dataframe tbody tr th:only-of-type {\n",
       "        vertical-align: middle;\n",
       "    }\n",
       "\n",
       "    .dataframe tbody tr th {\n",
       "        vertical-align: top;\n",
       "    }\n",
       "\n",
       "    .dataframe thead th {\n",
       "        text-align: right;\n",
       "    }\n",
       "</style>\n",
       "<table border=\"1\" class=\"dataframe\">\n",
       "  <thead>\n",
       "    <tr style=\"text-align: right;\">\n",
       "      <th></th>\n",
       "      <th>x1</th>\n",
       "      <th>x2</th>\n",
       "      <th>x3</th>\n",
       "    </tr>\n",
       "  </thead>\n",
       "  <tbody>\n",
       "    <tr>\n",
       "      <th></th>\n",
       "      <td>2</td>\n",
       "      <td>1</td>\n",
       "      <td>2</td>\n",
       "    </tr>\n",
       "  </tbody>\n",
       "</table>\n",
       "</div>"
      ],
      "text/plain": [
       "  x1  x2  x3\n",
       "   2   1   2"
      ]
     },
     "execution_count": 31,
     "metadata": {},
     "output_type": "execute_result"
    }
   ],
   "source": [
    "experiment_1.st_grp"
   ]
  },
  {
   "cell_type": "markdown",
   "id": "27479558",
   "metadata": {},
   "source": [
    "**Reliability estimates of rankings based on grouping**"
   ]
  },
  {
   "cell_type": "code",
   "execution_count": 32,
   "id": "5d3e2110",
   "metadata": {},
   "outputs": [
    {
     "data": {
      "text/html": [
       "<div>\n",
       "<style scoped>\n",
       "    .dataframe tbody tr th:only-of-type {\n",
       "        vertical-align: middle;\n",
       "    }\n",
       "\n",
       "    .dataframe tbody tr th {\n",
       "        vertical-align: top;\n",
       "    }\n",
       "\n",
       "    .dataframe thead th {\n",
       "        text-align: right;\n",
       "    }\n",
       "</style>\n",
       "<table border=\"1\" class=\"dataframe\">\n",
       "  <thead>\n",
       "    <tr style=\"text-align: right;\">\n",
       "      <th></th>\n",
       "      <th>x1</th>\n",
       "      <th>x2</th>\n",
       "      <th>x3</th>\n",
       "    </tr>\n",
       "  </thead>\n",
       "  <tbody>\n",
       "    <tr>\n",
       "      <th></th>\n",
       "      <td>1.0</td>\n",
       "      <td>1.0</td>\n",
       "      <td>1.0</td>\n",
       "    </tr>\n",
       "  </tbody>\n",
       "</table>\n",
       "</div>"
      ],
      "text/plain": [
       "   x1   x2   x3\n",
       "  1.0  1.0  1.0"
      ]
     },
     "execution_count": 32,
     "metadata": {},
     "output_type": "execute_result"
    }
   ],
   "source": [
    "experiment_1.reli_st_grp"
   ]
  },
  {
   "cell_type": "code",
   "execution_count": 33,
   "id": "3c5aaaf7",
   "metadata": {},
   "outputs": [
    {
     "data": {
      "text/html": [
       "<div>\n",
       "<style scoped>\n",
       "    .dataframe tbody tr th:only-of-type {\n",
       "        vertical-align: middle;\n",
       "    }\n",
       "\n",
       "    .dataframe tbody tr th {\n",
       "        vertical-align: top;\n",
       "    }\n",
       "\n",
       "    .dataframe thead th {\n",
       "        text-align: right;\n",
       "    }\n",
       "</style>\n",
       "<table border=\"1\" class=\"dataframe\">\n",
       "  <thead>\n",
       "    <tr style=\"text-align: right;\">\n",
       "      <th></th>\n",
       "      <th>x1</th>\n",
       "      <th>x2</th>\n",
       "      <th>x3</th>\n",
       "    </tr>\n",
       "  </thead>\n",
       "  <tbody>\n",
       "    <tr>\n",
       "      <th>0.5</th>\n",
       "      <td>1.0</td>\n",
       "      <td>1.0</td>\n",
       "      <td>1.0</td>\n",
       "    </tr>\n",
       "  </tbody>\n",
       "</table>\n",
       "</div>"
      ],
      "text/plain": [
       "      x1   x2   x3\n",
       "0.5  1.0  1.0  1.0"
      ]
     },
     "execution_count": 33,
     "metadata": {},
     "output_type": "execute_result"
    }
   ],
   "source": [
    "experiment_1.reli_ivars50_grp"
   ]
  },
  {
   "cell_type": "markdown",
   "id": "edc7b298",
   "metadata": {},
   "source": [
    "#### Advanced Results\n",
    "\n",
    "**Directional covariogram results**"
   ]
  },
  {
   "cell_type": "code",
   "execution_count": 34,
   "id": "ad527a8b",
   "metadata": {},
   "outputs": [
    {
     "data": {
      "text/html": [
       "<div>\n",
       "<style scoped>\n",
       "    .dataframe tbody tr th:only-of-type {\n",
       "        vertical-align: middle;\n",
       "    }\n",
       "\n",
       "    .dataframe tbody tr th {\n",
       "        vertical-align: top;\n",
       "    }\n",
       "\n",
       "    .dataframe thead th {\n",
       "        text-align: right;\n",
       "    }\n",
       "</style>\n",
       "<table border=\"1\" class=\"dataframe\">\n",
       "  <thead>\n",
       "    <tr style=\"text-align: right;\">\n",
       "      <th>param</th>\n",
       "      <th>x1</th>\n",
       "      <th>x2</th>\n",
       "      <th>x3</th>\n",
       "    </tr>\n",
       "    <tr>\n",
       "      <th>h</th>\n",
       "      <th></th>\n",
       "      <th></th>\n",
       "      <th></th>\n",
       "    </tr>\n",
       "  </thead>\n",
       "  <tbody>\n",
       "    <tr>\n",
       "      <th>0.1</th>\n",
       "      <td>1.613154</td>\n",
       "      <td>2.096964</td>\n",
       "      <td>1.342891</td>\n",
       "    </tr>\n",
       "    <tr>\n",
       "      <th>0.2</th>\n",
       "      <td>1.596263</td>\n",
       "      <td>1.427252</td>\n",
       "      <td>1.343019</td>\n",
       "    </tr>\n",
       "    <tr>\n",
       "      <th>0.3</th>\n",
       "      <td>1.577376</td>\n",
       "      <td>0.637124</td>\n",
       "      <td>1.342996</td>\n",
       "    </tr>\n",
       "    <tr>\n",
       "      <th>0.4</th>\n",
       "      <td>1.556671</td>\n",
       "      <td>-0.242554</td>\n",
       "      <td>1.342827</td>\n",
       "    </tr>\n",
       "    <tr>\n",
       "      <th>0.5</th>\n",
       "      <td>1.534359</td>\n",
       "      <td>-1.175501</td>\n",
       "      <td>1.342515</td>\n",
       "    </tr>\n",
       "    <tr>\n",
       "      <th>0.6</th>\n",
       "      <td>1.510678</td>\n",
       "      <td>-2.121429</td>\n",
       "      <td>1.342052</td>\n",
       "    </tr>\n",
       "    <tr>\n",
       "      <th>0.7</th>\n",
       "      <td>1.485892</td>\n",
       "      <td>-3.037659</td>\n",
       "      <td>1.341426</td>\n",
       "    </tr>\n",
       "    <tr>\n",
       "      <th>0.8</th>\n",
       "      <td>1.460288</td>\n",
       "      <td>-3.880853</td>\n",
       "      <td>1.340618</td>\n",
       "    </tr>\n",
       "    <tr>\n",
       "      <th>0.9</th>\n",
       "      <td>1.434173</td>\n",
       "      <td>-4.608808</td>\n",
       "      <td>1.339599</td>\n",
       "    </tr>\n",
       "  </tbody>\n",
       "</table>\n",
       "</div>"
      ],
      "text/plain": [
       "param        x1        x2        x3\n",
       "h                                  \n",
       "0.1    1.613154  2.096964  1.342891\n",
       "0.2    1.596263  1.427252  1.343019\n",
       "0.3    1.577376  0.637124  1.342996\n",
       "0.4    1.556671 -0.242554  1.342827\n",
       "0.5    1.534359 -1.175501  1.342515\n",
       "0.6    1.510678 -2.121429  1.342052\n",
       "0.7    1.485892 -3.037659  1.341426\n",
       "0.8    1.460288 -3.880853  1.340618\n",
       "0.9    1.434173 -4.608808  1.339599"
      ]
     },
     "execution_count": 34,
     "metadata": {},
     "output_type": "execute_result"
    }
   ],
   "source": [
    "experiment_1.cov.unstack(0)"
   ]
  },
  {
   "cell_type": "markdown",
   "id": "14bf13ed",
   "metadata": {},
   "source": [
    "**Directional expected covariogram results**"
   ]
  },
  {
   "cell_type": "code",
   "execution_count": 35,
   "id": "e81b4d53",
   "metadata": {},
   "outputs": [
    {
     "data": {
      "text/html": [
       "<div>\n",
       "<style scoped>\n",
       "    .dataframe tbody tr th:only-of-type {\n",
       "        vertical-align: middle;\n",
       "    }\n",
       "\n",
       "    .dataframe tbody tr th {\n",
       "        vertical-align: top;\n",
       "    }\n",
       "\n",
       "    .dataframe thead th {\n",
       "        text-align: right;\n",
       "    }\n",
       "</style>\n",
       "<table border=\"1\" class=\"dataframe\">\n",
       "  <thead>\n",
       "    <tr style=\"text-align: right;\">\n",
       "      <th>param</th>\n",
       "      <th>x1</th>\n",
       "      <th>x2</th>\n",
       "      <th>x3</th>\n",
       "    </tr>\n",
       "    <tr>\n",
       "      <th>h</th>\n",
       "      <th></th>\n",
       "      <th></th>\n",
       "      <th></th>\n",
       "    </tr>\n",
       "  </thead>\n",
       "  <tbody>\n",
       "    <tr>\n",
       "      <th>0.1</th>\n",
       "      <td>0.047890</td>\n",
       "      <td>1.920127</td>\n",
       "      <td>0.000036</td>\n",
       "    </tr>\n",
       "    <tr>\n",
       "      <th>0.2</th>\n",
       "      <td>0.031740</td>\n",
       "      <td>1.268328</td>\n",
       "      <td>0.000018</td>\n",
       "    </tr>\n",
       "    <tr>\n",
       "      <th>0.3</th>\n",
       "      <td>0.012858</td>\n",
       "      <td>0.478740</td>\n",
       "      <td>0.000003</td>\n",
       "    </tr>\n",
       "    <tr>\n",
       "      <th>0.4</th>\n",
       "      <td>-0.008582</td>\n",
       "      <td>-0.418316</td>\n",
       "      <td>-0.000011</td>\n",
       "    </tr>\n",
       "    <tr>\n",
       "      <th>0.5</th>\n",
       "      <td>-0.032372</td>\n",
       "      <td>-1.386670</td>\n",
       "      <td>-0.000025</td>\n",
       "    </tr>\n",
       "    <tr>\n",
       "      <th>0.6</th>\n",
       "      <td>-0.058271</td>\n",
       "      <td>-2.385709</td>\n",
       "      <td>-0.000039</td>\n",
       "    </tr>\n",
       "    <tr>\n",
       "      <th>0.7</th>\n",
       "      <td>-0.086007</td>\n",
       "      <td>-3.371992</td>\n",
       "      <td>-0.000056</td>\n",
       "    </tr>\n",
       "    <tr>\n",
       "      <th>0.8</th>\n",
       "      <td>-0.115280</td>\n",
       "      <td>-4.301001</td>\n",
       "      <td>-0.000075</td>\n",
       "    </tr>\n",
       "    <tr>\n",
       "      <th>0.9</th>\n",
       "      <td>-0.145765</td>\n",
       "      <td>-5.128965</td>\n",
       "      <td>-0.000099</td>\n",
       "    </tr>\n",
       "  </tbody>\n",
       "</table>\n",
       "</div>"
      ],
      "text/plain": [
       "param        x1        x2        x3\n",
       "h                                  \n",
       "0.1    0.047890  1.920127  0.000036\n",
       "0.2    0.031740  1.268328  0.000018\n",
       "0.3    0.012858  0.478740  0.000003\n",
       "0.4   -0.008582 -0.418316 -0.000011\n",
       "0.5   -0.032372 -1.386670 -0.000025\n",
       "0.6   -0.058271 -2.385709 -0.000039\n",
       "0.7   -0.086007 -3.371992 -0.000056\n",
       "0.8   -0.115280 -4.301001 -0.000075\n",
       "0.9   -0.145765 -5.128965 -0.000099"
      ]
     },
     "execution_count": 35,
     "metadata": {},
     "output_type": "execute_result"
    }
   ],
   "source": [
    "experiment_1.ecov.unstack(0)"
   ]
  },
  {
   "cell_type": "markdown",
   "id": "c0aff666",
   "metadata": {},
   "source": [
    "## Example using the Ishigami model in offline mode"
   ]
  },
  {
   "cell_type": "markdown",
   "id": "ab9ab272",
   "metadata": {},
   "source": [
    "The offline mode of VARS tool is where the models are ran outside of the VARS analysis\n",
    "\n",
    "So again, we start with creating `experiment_3`"
   ]
  },
  {
   "cell_type": "code",
   "execution_count": 36,
   "id": "15efac22",
   "metadata": {},
   "outputs": [],
   "source": [
    "experiment_3 = VARS(parameters = {'x1':(0, 1), 'x2':(0, 1), 'x3': (0, 1)},\n",
    "                    num_stars=10,\n",
    "                    delta_h = 0.1,\n",
    "                    ivars_scales = (0.1, 0.3, 0.5),\n",
    "                    sampler = 'rnd',\n",
    "                    seed = 123456789,\n",
    "                    model = ishigami_model,\n",
    "                    bootstrap_flag = True,\n",
    "                    bootstrap_size = 100,\n",
    "                    bootstrap_ci=0.9,\n",
    "                    grouping_flag=True,\n",
    "                    num_grps=2,\n",
    "                    report_verbose=True,\n",
    "                )"
   ]
  },
  {
   "cell_type": "markdown",
   "id": "be4967c5",
   "metadata": {},
   "source": [
    "What we will be doing first is generating the `star_points` based of the star centre samples generated in the VARS instance using a method named `generate_star`"
   ]
  },
  {
   "cell_type": "code",
   "execution_count": 37,
   "id": "d2a13dcd",
   "metadata": {},
   "outputs": [],
   "source": [
    "star_points = experiment_3.generate_star()"
   ]
  },
  {
   "cell_type": "markdown",
   "id": "ed4bdc35",
   "metadata": {},
   "source": [
    "Now you will have access to the star points that you can apply to your model outside of Python or VARS"
   ]
  },
  {
   "cell_type": "code",
   "execution_count": 38,
   "id": "8cd8c32a",
   "metadata": {},
   "outputs": [
    {
     "data": {
      "text/html": [
       "<div>\n",
       "<style scoped>\n",
       "    .dataframe tbody tr th:only-of-type {\n",
       "        vertical-align: middle;\n",
       "    }\n",
       "\n",
       "    .dataframe tbody tr th {\n",
       "        vertical-align: top;\n",
       "    }\n",
       "\n",
       "    .dataframe thead th {\n",
       "        text-align: right;\n",
       "    }\n",
       "</style>\n",
       "<table border=\"1\" class=\"dataframe\">\n",
       "  <thead>\n",
       "    <tr style=\"text-align: right;\">\n",
       "      <th></th>\n",
       "      <th></th>\n",
       "      <th></th>\n",
       "      <th>0</th>\n",
       "      <th>1</th>\n",
       "      <th>2</th>\n",
       "    </tr>\n",
       "    <tr>\n",
       "      <th>centre</th>\n",
       "      <th>param</th>\n",
       "      <th>points</th>\n",
       "      <th></th>\n",
       "      <th></th>\n",
       "      <th></th>\n",
       "    </tr>\n",
       "  </thead>\n",
       "  <tbody>\n",
       "    <tr>\n",
       "      <th rowspan=\"5\" valign=\"top\">0</th>\n",
       "      <th rowspan=\"5\" valign=\"top\">x1</th>\n",
       "      <th>0</th>\n",
       "      <td>0.032833</td>\n",
       "      <td>0.534137</td>\n",
       "      <td>0.509553</td>\n",
       "    </tr>\n",
       "    <tr>\n",
       "      <th>1</th>\n",
       "      <td>0.132833</td>\n",
       "      <td>0.534137</td>\n",
       "      <td>0.509553</td>\n",
       "    </tr>\n",
       "    <tr>\n",
       "      <th>2</th>\n",
       "      <td>0.232833</td>\n",
       "      <td>0.534137</td>\n",
       "      <td>0.509553</td>\n",
       "    </tr>\n",
       "    <tr>\n",
       "      <th>3</th>\n",
       "      <td>0.332833</td>\n",
       "      <td>0.534137</td>\n",
       "      <td>0.509553</td>\n",
       "    </tr>\n",
       "    <tr>\n",
       "      <th>4</th>\n",
       "      <td>0.432833</td>\n",
       "      <td>0.534137</td>\n",
       "      <td>0.509553</td>\n",
       "    </tr>\n",
       "    <tr>\n",
       "      <th>...</th>\n",
       "      <th>...</th>\n",
       "      <th>...</th>\n",
       "      <td>...</td>\n",
       "      <td>...</td>\n",
       "      <td>...</td>\n",
       "    </tr>\n",
       "    <tr>\n",
       "      <th rowspan=\"5\" valign=\"top\">9</th>\n",
       "      <th rowspan=\"5\" valign=\"top\">x3</th>\n",
       "      <th>5</th>\n",
       "      <td>0.252242</td>\n",
       "      <td>0.565156</td>\n",
       "      <td>0.533337</td>\n",
       "    </tr>\n",
       "    <tr>\n",
       "      <th>6</th>\n",
       "      <td>0.252242</td>\n",
       "      <td>0.565156</td>\n",
       "      <td>0.633337</td>\n",
       "    </tr>\n",
       "    <tr>\n",
       "      <th>7</th>\n",
       "      <td>0.252242</td>\n",
       "      <td>0.565156</td>\n",
       "      <td>0.733337</td>\n",
       "    </tr>\n",
       "    <tr>\n",
       "      <th>8</th>\n",
       "      <td>0.252242</td>\n",
       "      <td>0.565156</td>\n",
       "      <td>0.833337</td>\n",
       "    </tr>\n",
       "    <tr>\n",
       "      <th>9</th>\n",
       "      <td>0.252242</td>\n",
       "      <td>0.565156</td>\n",
       "      <td>0.933337</td>\n",
       "    </tr>\n",
       "  </tbody>\n",
       "</table>\n",
       "<p>300 rows × 3 columns</p>\n",
       "</div>"
      ],
      "text/plain": [
       "                            0         1         2\n",
       "centre param points                              \n",
       "0      x1    0       0.032833  0.534137  0.509553\n",
       "             1       0.132833  0.534137  0.509553\n",
       "             2       0.232833  0.534137  0.509553\n",
       "             3       0.332833  0.534137  0.509553\n",
       "             4       0.432833  0.534137  0.509553\n",
       "...                       ...       ...       ...\n",
       "9      x3    5       0.252242  0.565156  0.533337\n",
       "             6       0.252242  0.565156  0.633337\n",
       "             7       0.252242  0.565156  0.733337\n",
       "             8       0.252242  0.565156  0.833337\n",
       "             9       0.252242  0.565156  0.933337\n",
       "\n",
       "[300 rows x 3 columns]"
      ]
     },
     "execution_count": 38,
     "metadata": {},
     "output_type": "execute_result"
    }
   ],
   "source": [
    "star_points"
   ]
  },
  {
   "cell_type": "markdown",
   "id": "4d5fe7dd",
   "metadata": {},
   "source": [
    "These star points (along with any of the VARS result data frames) can be extracted to a .csv file by doing the following:\n",
    "\n",
    "note: the format of the .csv file will be the exact same as the data frame shown above but with `,` as the delimeter"
   ]
  },
  {
   "cell_type": "code",
   "execution_count": 39,
   "id": "aab70972",
   "metadata": {},
   "outputs": [],
   "source": [
    "path = 'star_points'  # type your desired file path here as a string (right now a file named star_points will be put in your current working directory)\n",
    "star_points.to_csv(path)"
   ]
  },
  {
   "cell_type": "markdown",
   "id": "e344d285",
   "metadata": {},
   "source": [
    "*****\n",
    "Here I will be creating the `star_points_results` csv file with ishigami applied to all the star points \n",
    "\n",
    "**NOTE**: this is the same as what is done in online mode and is just for example, you should do this your own way if you are wanting to use offline mode"
   ]
  },
  {
   "cell_type": "code",
   "execution_count": 40,
   "id": "b7ed3c05",
   "metadata": {},
   "outputs": [],
   "source": [
    "# **** you do not need to understand this block of code ****\n",
    "applied_df = star_points.merge(star_points.drop_duplicates()\n",
    "                     .assign(**{ishigami.__name__: lambda x: x.apply(ishigami, axis=1)}), \n",
    "                     how='left')\n",
    "\n",
    "applied_df.index = star_points.index\n",
    "\n",
    "applied_df.to_csv('star_points_results')"
   ]
  },
  {
   "cell_type": "markdown",
   "id": "0d870a07",
   "metadata": {},
   "source": [
    "****\n",
    "Now after you apply your model to the star points you must put your results in the right most column of the .csv file, with the header of the column being the name of the model you are using. This can be done in excel, notepad, etc. Once the results are placed in the .csv file correctly we must convert it back to a data frame to run the VARS analysis by doing the following:\n",
    "\n",
    "note: this dataframe is the standard format that is expected to be inputted into the `run_offline` method"
   ]
  },
  {
   "cell_type": "code",
   "execution_count": 41,
   "id": "8a681ab5",
   "metadata": {},
   "outputs": [
    {
     "data": {
      "text/html": [
       "<div>\n",
       "<style scoped>\n",
       "    .dataframe tbody tr th:only-of-type {\n",
       "        vertical-align: middle;\n",
       "    }\n",
       "\n",
       "    .dataframe tbody tr th {\n",
       "        vertical-align: top;\n",
       "    }\n",
       "\n",
       "    .dataframe thead th {\n",
       "        text-align: right;\n",
       "    }\n",
       "</style>\n",
       "<table border=\"1\" class=\"dataframe\">\n",
       "  <thead>\n",
       "    <tr style=\"text-align: right;\">\n",
       "      <th></th>\n",
       "      <th></th>\n",
       "      <th></th>\n",
       "      <th>0</th>\n",
       "      <th>1</th>\n",
       "      <th>2</th>\n",
       "      <th>ishigami</th>\n",
       "    </tr>\n",
       "    <tr>\n",
       "      <th>centre</th>\n",
       "      <th>param</th>\n",
       "      <th>points</th>\n",
       "      <th></th>\n",
       "      <th></th>\n",
       "      <th></th>\n",
       "      <th></th>\n",
       "    </tr>\n",
       "  </thead>\n",
       "  <tbody>\n",
       "    <tr>\n",
       "      <th rowspan=\"5\" valign=\"top\">0</th>\n",
       "      <th rowspan=\"5\" valign=\"top\">x1</th>\n",
       "      <th>0</th>\n",
       "      <td>0.032833</td>\n",
       "      <td>0.534137</td>\n",
       "      <td>0.509553</td>\n",
       "      <td>1.847204</td>\n",
       "    </tr>\n",
       "    <tr>\n",
       "      <th>1</th>\n",
       "      <td>0.132833</td>\n",
       "      <td>0.534137</td>\n",
       "      <td>0.509553</td>\n",
       "      <td>1.947155</td>\n",
       "    </tr>\n",
       "    <tr>\n",
       "      <th>2</th>\n",
       "      <td>0.232833</td>\n",
       "      <td>0.534137</td>\n",
       "      <td>0.509553</td>\n",
       "      <td>2.045779</td>\n",
       "    </tr>\n",
       "    <tr>\n",
       "      <th>3</th>\n",
       "      <td>0.332833</td>\n",
       "      <td>0.534137</td>\n",
       "      <td>0.509553</td>\n",
       "      <td>2.142089</td>\n",
       "    </tr>\n",
       "    <tr>\n",
       "      <th>4</th>\n",
       "      <td>0.432833</td>\n",
       "      <td>0.534137</td>\n",
       "      <td>0.509553</td>\n",
       "      <td>2.235124</td>\n",
       "    </tr>\n",
       "    <tr>\n",
       "      <th>...</th>\n",
       "      <th>...</th>\n",
       "      <th>...</th>\n",
       "      <td>...</td>\n",
       "      <td>...</td>\n",
       "      <td>...</td>\n",
       "      <td>...</td>\n",
       "    </tr>\n",
       "    <tr>\n",
       "      <th rowspan=\"5\" valign=\"top\">9</th>\n",
       "      <th rowspan=\"5\" valign=\"top\">x3</th>\n",
       "      <th>5</th>\n",
       "      <td>0.252242</td>\n",
       "      <td>0.565156</td>\n",
       "      <td>0.533337</td>\n",
       "      <td>2.258262</td>\n",
       "    </tr>\n",
       "    <tr>\n",
       "      <th>6</th>\n",
       "      <td>0.252242</td>\n",
       "      <td>0.565156</td>\n",
       "      <td>0.633337</td>\n",
       "      <td>2.259260</td>\n",
       "    </tr>\n",
       "    <tr>\n",
       "      <th>7</th>\n",
       "      <td>0.252242</td>\n",
       "      <td>0.565156</td>\n",
       "      <td>0.733337</td>\n",
       "      <td>2.260861</td>\n",
       "    </tr>\n",
       "    <tr>\n",
       "      <th>8</th>\n",
       "      <td>0.252242</td>\n",
       "      <td>0.565156</td>\n",
       "      <td>0.833337</td>\n",
       "      <td>2.263270</td>\n",
       "    </tr>\n",
       "    <tr>\n",
       "      <th>9</th>\n",
       "      <td>0.252242</td>\n",
       "      <td>0.565156</td>\n",
       "      <td>0.933337</td>\n",
       "      <td>2.266722</td>\n",
       "    </tr>\n",
       "  </tbody>\n",
       "</table>\n",
       "<p>300 rows × 4 columns</p>\n",
       "</div>"
      ],
      "text/plain": [
       "                            0         1         2  ishigami\n",
       "centre param points                                        \n",
       "0      x1    0       0.032833  0.534137  0.509553  1.847204\n",
       "             1       0.132833  0.534137  0.509553  1.947155\n",
       "             2       0.232833  0.534137  0.509553  2.045779\n",
       "             3       0.332833  0.534137  0.509553  2.142089\n",
       "             4       0.432833  0.534137  0.509553  2.235124\n",
       "...                       ...       ...       ...       ...\n",
       "9      x3    5       0.252242  0.565156  0.533337  2.258262\n",
       "             6       0.252242  0.565156  0.633337  2.259260\n",
       "             7       0.252242  0.565156  0.733337  2.260861\n",
       "             8       0.252242  0.565156  0.833337  2.263270\n",
       "             9       0.252242  0.565156  0.933337  2.266722\n",
       "\n",
       "[300 rows x 4 columns]"
      ]
     },
     "execution_count": 41,
     "metadata": {},
     "output_type": "execute_result"
    }
   ],
   "source": [
    "modelframe = pd.read_csv('star_points_results', index_col=[0, 1, 2])\n",
    "modelframe"
   ]
  },
  {
   "cell_type": "markdown",
   "id": "0509a50f",
   "metadata": {},
   "source": [
    "Now to run the VARS analysis simply do the following:"
   ]
  },
  {
   "cell_type": "code",
   "execution_count": 42,
   "id": "db439b49",
   "metadata": {},
   "outputs": [
    {
     "data": {
      "application/vnd.jupyter.widget-view+json": {
       "model_id": "8e39944c319f4a6783675b16537d5ece",
       "version_major": 2,
       "version_minor": 0
      },
      "text/plain": [
       "building pairs:   0%|          | 0/30 [00:00<?, ?it/s]"
      ]
     },
     "metadata": {},
     "output_type": "display_data"
    },
    {
     "data": {
      "application/vnd.jupyter.widget-view+json": {
       "model_id": "ad22724c9b3a441080efb94250301946",
       "version_major": 2,
       "version_minor": 0
      },
      "text/plain": [
       "VARS Analysis:   0%|          | 0/10 [00:00<?, ?it/s]"
      ]
     },
     "metadata": {},
     "output_type": "display_data"
    },
    {
     "data": {
      "application/vnd.jupyter.widget-view+json": {
       "model_id": "11fdbc8c14034b1fbed9baa1f50e9861",
       "version_major": 2,
       "version_minor": 0
      },
      "text/plain": [
       "factor ranking:   0%|          | 0/2 [00:00<?, ?it/s]"
      ]
     },
     "metadata": {},
     "output_type": "display_data"
    },
    {
     "data": {
      "application/vnd.jupyter.widget-view+json": {
       "model_id": "f882a387c8084cc39719cbd81bfe01ec",
       "version_major": 2,
       "version_minor": 0
      },
      "text/plain": [
       "bootstrapping:   0%|          | 0/100 [00:00<?, ?it/s]"
      ]
     },
     "metadata": {},
     "output_type": "display_data"
    }
   ],
   "source": [
    "experiment_3.run_offline(modelframe)"
   ]
  },
  {
   "cell_type": "markdown",
   "id": "fa946d89",
   "metadata": {},
   "source": [
    "Now all the results can be accesed the exact same way as they were for online mode with `experiment_1` and `experiment_2`"
   ]
  },
  {
   "cell_type": "markdown",
   "id": "b2fe6f38",
   "metadata": {},
   "source": [
    "# DIY"
   ]
  },
  {
   "cell_type": "markdown",
   "id": "102723de",
   "metadata": {},
   "source": [
    "How about you test `experiment_2` yourself? "
   ]
  },
  {
   "cell_type": "code",
   "execution_count": 43,
   "id": "d20a8d08",
   "metadata": {},
   "outputs": [
    {
     "data": {
      "text/plain": [
       "Star Centres: 10 Centers Loaded\n",
       "Star Points: Not Loaded\n",
       "Parameters: 6 paremeters set\n",
       "Delta h: 0.1\n",
       "Model: wavy6D\n",
       "Seed Number: 123456789\n",
       "Bootstrap: On\n",
       "Bootstrap Size: 100\n",
       "Bootstrap CI: 0.9\n",
       "Grouping: On\n",
       "Number of Groups: 2\n",
       "Verbose: On\n",
       "VARS Analysis: Not Done"
      ]
     },
     "execution_count": 43,
     "metadata": {},
     "output_type": "execute_result"
    }
   ],
   "source": [
    "experiment_2"
   ]
  },
  {
   "cell_type": "code",
   "execution_count": null,
   "id": "dc9eef9b",
   "metadata": {},
   "outputs": [],
   "source": []
  }
 ],
 "metadata": {
  "kernelspec": {
   "display_name": "Python 3",
   "language": "python",
   "name": "python3"
  },
  "language_info": {
   "codemirror_mode": {
    "name": "ipython",
    "version": 3
   },
   "file_extension": ".py",
   "mimetype": "text/x-python",
   "name": "python",
   "nbconvert_exporter": "python",
   "pygments_lexer": "ipython3",
   "version": "3.8.8"
  }
 },
 "nbformat": 4,
 "nbformat_minor": 5
}
