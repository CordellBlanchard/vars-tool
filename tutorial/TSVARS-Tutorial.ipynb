{
 "cells": [
  {
   "cell_type": "markdown",
   "id": "varying-lending",
   "metadata": {},
   "source": [
    "# A Real-world Example Using HBV-SASK Hydrological Model"
   ]
  },
  {
   "cell_type": "markdown",
   "id": "second-pitch",
   "metadata": {},
   "source": [
    "## Installation (from source)"
   ]
  },
  {
   "cell_type": "markdown",
   "id": "exclusive-terminology",
   "metadata": {},
   "source": [
    "The latest version of the varstool sensitivity and uncertainty package can always be retrieved from its GitHub repo using the following commands:"
   ]
  },
  {
   "cell_type": "code",
   "execution_count": 1,
   "id": "endless-energy",
   "metadata": {
    "scrolled": true
   },
   "outputs": [
    {
     "name": "stdout",
     "output_type": "stream",
     "text": [
      "Cloning into 'vars-tool'...\n",
      "remote: Enumerating objects: 1481, done.\u001b[K\n",
      "remote: Counting objects: 100% (211/211), done.\u001b[K\n",
      "remote: Compressing objects: 100% (144/144), done.\u001b[K\n",
      "remote: Total 1481 (delta 116), reused 153 (delta 67), pack-reused 1270\u001b[K\n",
      "Receiving objects: 100% (1481/1481), 16.75 MiB | 2.03 MiB/s, done.\n",
      "Resolving deltas: 100% (908/908), done.\n",
      "Processing ./vars-tool\n",
      "  Installing build dependencies ... \u001b[?25ldone\n",
      "\u001b[?25h  Getting requirements to build wheel ... \u001b[?25ldone\n",
      "\u001b[?25h    Preparing wheel metadata ... \u001b[?25ldone\n",
      "\u001b[?25hRequirement already satisfied: numpy in /Users/kasrakeshavarz/anaconda3/lib/python3.8/site-packages (from varstool==2.1) (1.19.2)\n",
      "Requirement already satisfied: scipy in /Users/kasrakeshavarz/anaconda3/lib/python3.8/site-packages (from varstool==2.1) (1.6.1)\n",
      "Requirement already satisfied: matplotlib in /Users/kasrakeshavarz/anaconda3/lib/python3.8/site-packages (from varstool==2.1) (3.3.4)\n",
      "Requirement already satisfied: pandas in /Users/kasrakeshavarz/anaconda3/lib/python3.8/site-packages (from varstool==2.1) (1.2.2)\n",
      "Requirement already satisfied: kiwisolver>=1.0.1 in /Users/kasrakeshavarz/anaconda3/lib/python3.8/site-packages (from matplotlib->varstool==2.1) (1.3.1)\n",
      "Requirement already satisfied: python-dateutil>=2.1 in /Users/kasrakeshavarz/anaconda3/lib/python3.8/site-packages (from matplotlib->varstool==2.1) (2.8.1)\n",
      "Requirement already satisfied: pillow>=6.2.0 in /Users/kasrakeshavarz/anaconda3/lib/python3.8/site-packages (from matplotlib->varstool==2.1) (8.1.0)\n",
      "Requirement already satisfied: cycler>=0.10 in /Users/kasrakeshavarz/anaconda3/lib/python3.8/site-packages (from matplotlib->varstool==2.1) (0.10.0)\n",
      "Requirement already satisfied: pyparsing!=2.0.4,!=2.1.2,!=2.1.6,>=2.0.3 in /Users/kasrakeshavarz/anaconda3/lib/python3.8/site-packages (from matplotlib->varstool==2.1) (2.4.7)\n",
      "Requirement already satisfied: six in /Users/kasrakeshavarz/anaconda3/lib/python3.8/site-packages (from cycler>=0.10->matplotlib->varstool==2.1) (1.15.0)\n",
      "Requirement already satisfied: pytz>=2017.3 in /Users/kasrakeshavarz/anaconda3/lib/python3.8/site-packages (from pandas->varstool==2.1) (2021.1)\n",
      "Building wheels for collected packages: varstool\n",
      "  Building wheel for varstool (PEP 517) ... \u001b[?25ldone\n",
      "\u001b[?25h  Created wheel for varstool: filename=varstool-2.1-py2.py3-none-any.whl size=426382 sha256=5bc3a2cedc237f4ceeea13a54d9ec8fe4a6775812863a77130a548e88d06838e\n",
      "  Stored in directory: /Users/kasrakeshavarz/Library/Caches/pip/wheels/45/b2/f1/bf4d3b73f816f8ab021b7f8e25cbd04136a346155684c778a3\n",
      "Successfully built varstool\n",
      "Installing collected packages: varstool\n",
      "  Attempting uninstall: varstool\n",
      "    Found existing installation: varstool 2.1\n",
      "    Uninstalling varstool-2.1:\n",
      "      Successfully uninstalled varstool-2.1\n",
      "Successfully installed varstool-2.1\n"
     ]
    }
   ],
   "source": [
    "!git clone https://github.com/vars-tool/vars-tool\n",
    "!pip install vars-tool/."
   ]
  },
  {
   "cell_type": "markdown",
   "id": "enabling-territory",
   "metadata": {},
   "source": [
    "## HBV-SASK Model - A Real-world Sensitivity Analysis Problem"
   ]
  },
  {
   "cell_type": "markdown",
   "id": "unlimited-modification",
   "metadata": {},
   "source": [
    "The HBV-SASK Model is a real-world hydrological model that has been developed within the [**\"Watershed Systems Analysis and Modelling Lab\"**](https://www.samanrazavi.com) for educational purposes. In this example, we analyze the sensitivity of each parameter of the HBV-SASK model to the simulated streamflow (i.e., output) using the state-of-the-art varstool Python package.\n",
    "\n",
    "HBV-SASK utilizes daily time-series of precipitation and temperature and produced many outputs, such as streamflow, evapotransipration, etc.\n",
    "\n",
    "For more information see: Razavi, S., Sheikholeslami, R., Gupta, H. V., & Haghnegahdar, A. (2019). ***VARS-TOOL: A toolbox for comprehensive, efficient, and robust sensitivity and uncertainty analysis.*** Environmental modelling & software, 112, 95-107. doi: https://doi.org/10.1016/j.envsoft.2018.10.005"
   ]
  },
  {
   "cell_type": "code",
   "execution_count": 2,
   "id": "accessory-popularity",
   "metadata": {},
   "outputs": [],
   "source": [
    "from varstool import TSVARS, Model\n",
    "\n",
    "# Loading the \"HBV_SASK\" model that is included in this package\n",
    "from varstool.funcs import HBV_SASK\n",
    "\n",
    "exp_1_model = Model(HBV_SASK)"
   ]
  },
  {
   "cell_type": "markdown",
   "id": "authorized-taste",
   "metadata": {},
   "source": [
    "Let's just see how the model works. The object \"Model\" is an standard way of wrapping different functions that are going to be used in varstool. Therefore, users must communicate with their function of interest using this simple wrapper class. The arguments of this class can be quickly viewed by the following command:"
   ]
  },
  {
   "cell_type": "code",
   "execution_count": null,
   "id": "accurate-grant",
   "metadata": {},
   "outputs": [],
   "source": [
    "Model?"
   ]
  },
  {
   "cell_type": "markdown",
   "id": "phantom-penetration",
   "metadata": {},
   "source": [
    "To quickly test the HBV-SASK model with some random numbers as its input, follow the cell below:"
   ]
  },
  {
   "cell_type": "code",
   "execution_count": null,
   "id": "raising-token",
   "metadata": {},
   "outputs": [],
   "source": [
    "import pandas as pd\n",
    "\n",
    "params={#name  #value\n",
    "       'TT'   : -4.00,\n",
    "       'C0'   : 0.00,\n",
    "       'ETF'  : 0.00,\n",
    "       'LP'   : 0.00,\n",
    "       'FC'   : 50.0,\n",
    "       'beta' : 1.00,\n",
    "       'FRAC' : 0.10,\n",
    "       'K1'   : 0.05,\n",
    "       'alpha': 1.00,\n",
    "       'K2'   : 0.00,\n",
    "       'UBAS' : 1.00,\n",
    "       'PM'   : 0.50,\n",
    "}\n",
    "\n",
    "exp_1_model(pd.Series(params))"
   ]
  },
  {
   "cell_type": "markdown",
   "id": "fixed-grammar",
   "metadata": {},
   "source": [
    "HBV-SASK returns many outputs; for the sake of simplicity, here we just use the simulated streamflow as the chosen model response. As HBV-SASK returns time-series of streamflow, the time-series version of the **`VARS`** algorithm is employed. The time-series version of this algorithm is detailed in the following publication:\n",
    "\n",
    "* Gupta, H. V., & Razavi, S. (2018). Revisiting the basis of sensitivity analysis for dynamical earth system models. Water Resources Research, 54(11), 8692-8717. doi: https://doi.org/10.1029/2018WR022668"
   ]
  },
  {
   "cell_type": "code",
   "execution_count": 3,
   "id": "approved-monkey",
   "metadata": {},
   "outputs": [],
   "source": [
    "# setting up a TSVARS experiment for the HBV-SASK model\n",
    "\n",
    "exp_1 = TSVARS(num_stars=2,\n",
    "               parameters={  #lb     #ub\n",
    "                   'TT'   : [-4.00, 4.00],\n",
    "                   'C0'   : [0.00 , 10.0],\n",
    "                   'ETF'  : [0.00 , 1.00],\n",
    "                   'LP'   : [0.00 , 1.00],\n",
    "                   'FC'   : [50.0 ,500.0],\n",
    "                   'beta' : [1.00 , 3.00],\n",
    "                   'FRAC' : [0.10 , 0.90],\n",
    "                   'K1'   : [0.05 , 1.00],\n",
    "                   'alpha': [1.00 , 3.00],\n",
    "                   'K2'   : [0.00 , 0.05],\n",
    "                   'UBAS' : [1.00 , 3.00],\n",
    "                   'PM'   : [0.50 , 2.00],\n",
    "               },\n",
    "               delta_h=0.1,\n",
    "               ivars_scales=(0.1, 0.3, 0.5),\n",
    "               model=exp_1_model,\n",
    "               seed=1001,\n",
    "               sampler='lhs',\n",
    "               bootstrap_flag=False,\n",
    "               grouping_flag=False,\n",
    "               func_eval_method='serial',\n",
    "               vars_eval_method='serial',\n",
    "               vars_chunk_size=None,\n",
    "          )"
   ]
  },
  {
   "cell_type": "markdown",
   "id": "nominated-extension",
   "metadata": {},
   "source": [
    "At any time, the status of the VARS analysis could be viewed by typing the name of the instance that is used to initiate the experiment. Here, it is `exp_1`:"
   ]
  },
  {
   "cell_type": "code",
   "execution_count": null,
   "id": "engaging-touch",
   "metadata": {
    "scrolled": false
   },
   "outputs": [],
   "source": [
    "exp_1"
   ]
  },
  {
   "cell_type": "markdown",
   "id": "developmental-watson",
   "metadata": {},
   "source": [
    "From the status report, it could be viewed that the `star_centres` are fully sampled (via `lhs`) and loaded. Meanwhile, $\\Delta$h (`delta_h`) is set to 0.1, `seed` is set to 1001, and 12 parameters are fully set to begin the VARS sensitivity analysis.\n",
    "\n",
    "Time-series VARS (TSVARS) comes with two computational methods to carry out sensitivity analysis, that are:\n",
    "1. Serial and\n",
    "2. Parallel.\n",
    "\n",
    "It is worth noting that these computational methods are applicable to: **a**) while varstool runs the `Model` and **b**) when varstool computes common `VARS` indices. For the former `func_eval_method` method must be changed and for the latter `vars_eval_method` to either `'serial'` or `'parallel'`.\n",
    "\n",
    "Furthermore, to save memory usage, the computations can be chunked into several segments to avoid memory leak. In this example, first a simple serial version without chunking is demonstrated. It should be noted that the parallel version are unstable and might result in unexpected errors."
   ]
  },
  {
   "cell_type": "markdown",
   "id": "sought-table",
   "metadata": {},
   "source": [
    "Before carrying out a sensitivity analysis, let's check the loaded `star_centres`:"
   ]
  },
  {
   "cell_type": "code",
   "execution_count": 4,
   "id": "divided-musician",
   "metadata": {
    "scrolled": true
   },
   "outputs": [
    {
     "data": {
      "text/plain": [
       "array([[0.74408722, 0.96041308, 0.09803003, 0.21526074, 0.01155678,\n",
       "        0.09789096, 0.9911775 , 0.51015798, 0.85274302, 0.29022856,\n",
       "        0.6763727 , 0.02056527],\n",
       "       [0.15311609, 0.13253178, 0.55455094, 0.70552831, 0.73506341,\n",
       "        0.56364827, 0.17640264, 0.11162101, 0.30676093, 0.98275457,\n",
       "        0.42678384, 0.80294738]])"
      ]
     },
     "execution_count": 4,
     "metadata": {},
     "output_type": "execute_result"
    }
   ],
   "source": [
    "exp_1.star_centres"
   ]
  },
  {
   "cell_type": "markdown",
   "id": "olympic-mozambique",
   "metadata": {},
   "source": [
    "It could be seen that 2 star centres for 12 parameters of the HBV-SASK model are successfully produced. Now let's move on to the sensitivity analysis bit:"
   ]
  },
  {
   "cell_type": "code",
   "execution_count": 5,
   "id": "occasional-candy",
   "metadata": {},
   "outputs": [],
   "source": [
    "exp_1.run_online()"
   ]
  },
  {
   "cell_type": "code",
   "execution_count": 6,
   "id": "radical-acrylic",
   "metadata": {},
   "outputs": [
    {
     "data": {
      "text/plain": [
       "Star Centres: Loaded\n",
       "Star Points: Loaded\n",
       "Parameters: 12 paremeters set\n",
       "Delta h: 0.1\n",
       "Model: HBV_SASK\n",
       "Seed Number: 1001\n",
       "Bootstrap: Off\n",
       "Bootstrap Size: N/A\n",
       "Bootstrap CI: N/A\n",
       "Grouping: Off\n",
       "Number of Groups: None\n",
       "TSVARS Analysis: Done\n",
       "Function Evaluation Method: serial\n",
       "TSVARS Evaluation Method: serial\n",
       "TSVARS Chunk Size: N/A"
      ]
     },
     "execution_count": 6,
     "metadata": {},
     "output_type": "execute_result"
    }
   ],
   "source": [
    "exp_1"
   ]
  },
  {
   "cell_type": "code",
   "execution_count": null,
   "id": "compressed-instrument",
   "metadata": {},
   "outputs": [],
   "source": []
  }
 ],
 "metadata": {
  "kernelspec": {
   "display_name": "Python 3",
   "language": "python",
   "name": "python3"
  },
  "language_info": {
   "codemirror_mode": {
    "name": "ipython",
    "version": 3
   },
   "file_extension": ".py",
   "mimetype": "text/x-python",
   "name": "python",
   "nbconvert_exporter": "python",
   "pygments_lexer": "ipython3",
   "version": "3.8.8"
  }
 },
 "nbformat": 4,
 "nbformat_minor": 5
}
