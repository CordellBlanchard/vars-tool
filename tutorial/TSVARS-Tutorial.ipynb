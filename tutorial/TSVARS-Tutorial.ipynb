{
 "cells": [
  {
   "cell_type": "markdown",
   "id": "5fb4e299",
   "metadata": {},
   "source": [
    "# A Real-world Example Using HBV-SASK Hydrological Model"
   ]
  },
  {
   "cell_type": "markdown",
   "id": "2d0a723e",
   "metadata": {},
   "source": [
    "## Installation (from source)"
   ]
  },
  {
   "cell_type": "markdown",
   "id": "f855db8b",
   "metadata": {},
   "source": [
    "The latest version of the varstool sensitivity and uncertainty package can always be retrieved from its GitHub repo using the following commands:\n",
    "\n",
    "note: if the loading bars are not working, simply turn them off or install a lower version of pandas by doing the following:\n",
    "`!pip install pandas==1.2.5`"
   ]
  },
  {
   "cell_type": "code",
   "execution_count": 1,
   "id": "645dd088",
   "metadata": {
    "scrolled": true
   },
   "outputs": [
    {
     "name": "stderr",
     "output_type": "stream",
     "text": [
      "'rm' is not recognized as an internal or external command,\n",
      "operable program or batch file.\n",
      "Cloning into 'vars-tool'...\n",
      "Updating files:  70% (152/215)\n",
      "Updating files:  71% (153/215)\n",
      "Updating files:  72% (155/215)\n",
      "Updating files:  73% (157/215)\n",
      "Updating files:  74% (160/215)\n",
      "Updating files:  75% (162/215)\n",
      "Updating files:  76% (164/215)\n",
      "Updating files:  77% (166/215)\n",
      "Updating files:  78% (168/215)\n",
      "Updating files:  79% (170/215)\n",
      "Updating files:  80% (172/215)\n",
      "Updating files:  81% (175/215)\n",
      "Updating files:  82% (177/215)\n",
      "Updating files:  83% (179/215)\n",
      "Updating files:  84% (181/215)\n",
      "Updating files:  85% (183/215)\n",
      "Updating files:  86% (185/215)\n",
      "Updating files:  87% (188/215)\n",
      "Updating files:  88% (190/215)\n",
      "Updating files:  89% (192/215)\n",
      "Updating files:  90% (194/215)\n",
      "Updating files:  91% (196/215)\n",
      "Updating files:  92% (198/215)\n",
      "Updating files:  93% (200/215)\n",
      "Updating files:  94% (203/215)\n",
      "Updating files:  95% (205/215)\n",
      "Updating files:  96% (207/215)\n",
      "Updating files:  97% (209/215)\n",
      "Updating files:  98% (211/215)\n",
      "Updating files:  99% (213/215)\n",
      "Updating files: 100% (215/215)\n",
      "Updating files: 100% (215/215), done.\n"
     ]
    },
    {
     "name": "stdout",
     "output_type": "stream",
     "text": [
      "Processing c:\\new\\saman\\vars-tool folders\\2019_11_16_vars-tool-v2.1\\phython version\\temporary tutorials\\vars-tool\n",
      "  Installing build dependencies: started\n",
      "  Installing build dependencies: still running...\n",
      "  Installing build dependencies: finished with status 'done'\n",
      "  Getting requirements to build wheel: started\n",
      "  Getting requirements to build wheel: finished with status 'done'\n",
      "    Preparing wheel metadata: started\n",
      "    Preparing wheel metadata: finished with status 'done'\n",
      "Requirement already satisfied: psutil in c:\\users\\ser134\\anaconda3\\lib\\site-packages (from varstool==2.1) (5.7.2)\n",
      "Requirement already satisfied: pandas in c:\\users\\ser134\\anaconda3\\lib\\site-packages (from varstool==2.1) (1.1.3)\n",
      "Collecting mapply\n",
      "  Using cached mapply-0.1.7-py3-none-any.whl (7.7 kB)\n",
      "Requirement already satisfied: matplotlib in c:\\users\\ser134\\anaconda3\\lib\\site-packages (from varstool==2.1) (3.3.2)\n",
      "Requirement already satisfied: numpy in c:\\users\\ser134\\anaconda3\\lib\\site-packages (from varstool==2.1) (1.20.1)\n",
      "Requirement already satisfied: scipy in c:\\users\\ser134\\anaconda3\\lib\\site-packages (from varstool==2.1) (1.5.2)\n",
      "Requirement already satisfied: tqdm in c:\\users\\ser134\\anaconda3\\lib\\site-packages (from varstool==2.1) (4.50.2)\n",
      "Requirement already satisfied: joblib in c:\\users\\ser134\\anaconda3\\lib\\site-packages (from varstool==2.1) (0.17.0)\n",
      "Requirement already satisfied: pytz>=2017.2 in c:\\users\\ser134\\anaconda3\\lib\\site-packages (from pandas->varstool==2.1) (2020.1)\n",
      "Requirement already satisfied: python-dateutil>=2.7.3 in c:\\users\\ser134\\anaconda3\\lib\\site-packages (from pandas->varstool==2.1) (2.8.1)\n",
      "Collecting pathos>=0.2.0\n",
      "  Using cached pathos-0.2.8-py2.py3-none-any.whl (81 kB)\n",
      "Requirement already satisfied: pyparsing!=2.0.4,!=2.1.2,!=2.1.6,>=2.0.3 in c:\\users\\ser134\\anaconda3\\lib\\site-packages (from matplotlib->varstool==2.1) (2.4.7)\n",
      "Requirement already satisfied: cycler>=0.10 in c:\\users\\ser134\\anaconda3\\lib\\site-packages (from matplotlib->varstool==2.1) (0.10.0)\n",
      "Requirement already satisfied: kiwisolver>=1.0.1 in c:\\users\\ser134\\anaconda3\\lib\\site-packages (from matplotlib->varstool==2.1) (1.3.0)\n",
      "Requirement already satisfied: pillow>=6.2.0 in c:\\users\\ser134\\anaconda3\\lib\\site-packages (from matplotlib->varstool==2.1) (8.0.1)\n",
      "Requirement already satisfied: certifi>=2020.06.20 in c:\\users\\ser134\\anaconda3\\lib\\site-packages (from matplotlib->varstool==2.1) (2020.6.20)\n",
      "Requirement already satisfied: six>=1.5 in c:\\users\\ser134\\anaconda3\\lib\\site-packages (from python-dateutil>=2.7.3->pandas->varstool==2.1) (1.15.0)\n",
      "Collecting pox>=0.3.0\n",
      "  Using cached pox-0.3.0-py2.py3-none-any.whl (30 kB)\n",
      "Collecting multiprocess>=0.70.12\n",
      "  Using cached multiprocess-0.70.12.2-py38-none-any.whl (128 kB)\n",
      "Collecting dill>=0.3.4\n",
      "  Using cached dill-0.3.4-py2.py3-none-any.whl (86 kB)\n",
      "Collecting ppft>=1.6.6.4\n",
      "  Using cached ppft-1.6.6.4-py3-none-any.whl (65 kB)\n",
      "Building wheels for collected packages: varstool\n",
      "  Building wheel for varstool (PEP 517): started\n",
      "  Building wheel for varstool (PEP 517): finished with status 'done'\n",
      "  Created wheel for varstool: filename=varstool-2.1-py2.py3-none-any.whl size=409883 sha256=a8980c189351b68252c9cc98ece184518ef1ca5ccfeaa47819ae4c228353e41c\n",
      "  Stored in directory: c:\\users\\ser134\\appdata\\local\\pip\\cache\\wheels\\93\\eb\\cc\\c7de9c463095f3675a8ace0c0fe587d93ba7d0ec2af2f94385\n",
      "Successfully built varstool\n",
      "Installing collected packages: pox, dill, multiprocess, ppft, pathos, mapply, varstool\n",
      "Successfully installed dill-0.3.4 mapply-0.1.7 multiprocess-0.70.12.2 pathos-0.2.8 pox-0.3.0 ppft-1.6.6.4 varstool-2.1\n",
      "Requirement already satisfied: seaborn in c:\\users\\ser134\\anaconda3\\lib\\site-packages (0.11.0)\n",
      "Requirement already satisfied: scipy>=1.0 in c:\\users\\ser134\\anaconda3\\lib\\site-packages (from seaborn) (1.5.2)\n",
      "Requirement already satisfied: matplotlib>=2.2 in c:\\users\\ser134\\anaconda3\\lib\\site-packages (from seaborn) (3.3.2)\n",
      "Requirement already satisfied: numpy>=1.15 in c:\\users\\ser134\\anaconda3\\lib\\site-packages (from seaborn) (1.20.1)\n",
      "Requirement already satisfied: pandas>=0.23 in c:\\users\\ser134\\anaconda3\\lib\\site-packages (from seaborn) (1.1.3)\n",
      "Requirement already satisfied: pyparsing!=2.0.4,!=2.1.2,!=2.1.6,>=2.0.3 in c:\\users\\ser134\\anaconda3\\lib\\site-packages (from matplotlib>=2.2->seaborn) (2.4.7)\n",
      "Requirement already satisfied: cycler>=0.10 in c:\\users\\ser134\\anaconda3\\lib\\site-packages (from matplotlib>=2.2->seaborn) (0.10.0)\n",
      "Requirement already satisfied: certifi>=2020.06.20 in c:\\users\\ser134\\anaconda3\\lib\\site-packages (from matplotlib>=2.2->seaborn) (2020.6.20)\n",
      "Requirement already satisfied: pillow>=6.2.0 in c:\\users\\ser134\\anaconda3\\lib\\site-packages (from matplotlib>=2.2->seaborn) (8.0.1)\n",
      "Requirement already satisfied: kiwisolver>=1.0.1 in c:\\users\\ser134\\anaconda3\\lib\\site-packages (from matplotlib>=2.2->seaborn) (1.3.0)\n",
      "Requirement already satisfied: python-dateutil>=2.1 in c:\\users\\ser134\\anaconda3\\lib\\site-packages (from matplotlib>=2.2->seaborn) (2.8.1)\n",
      "Requirement already satisfied: pytz>=2017.2 in c:\\users\\ser134\\anaconda3\\lib\\site-packages (from pandas>=0.23->seaborn) (2020.1)\n",
      "Requirement already satisfied: six in c:\\users\\ser134\\anaconda3\\lib\\site-packages (from cycler>=0.10->matplotlib>=2.2->seaborn) (1.15.0)\n"
     ]
    }
   ],
   "source": [
    "# !rm -rf vars-tool\n",
    "# !git clone https://github.com/vars-tool/vars-tool\n",
    "# !pip install vars-tool/.\n",
    "# !pip install seaborn"
   ]
  },
  {
   "cell_type": "markdown",
   "id": "a3f7a87f",
   "metadata": {},
   "source": [
    "## HBV-SASK Model - A Real-world Sensitivity Analysis Problem"
   ]
  },
  {
   "cell_type": "markdown",
   "id": "da54adb7",
   "metadata": {},
   "source": [
    "The HBV-SASK Model is a real-world hydrological model that has been developed within the [**\"Watershed Systems Analysis and Modelling Lab\"**](https://www.samanrazavi.com) for educational purposes. In this example, we analyze the sensitivity of each parameter of the HBV-SASK model to the simulated streamflow (i.e., output) using the state-of-the-art varstool Python package.\n",
    "\n",
    "HBV-SASK utilizes daily time-series of precipitation and temperature and produced many outputs, such as streamflow, evapotransipration, state variables, etc.\n",
    "\n",
    "For more information see: Razavi, S., Sheikholeslami, R., Gupta, H. V., & Haghnegahdar, A. (2019). ***VARS-TOOL: A toolbox for comprehensive, efficient, and robust sensitivity and uncertainty analysis.*** Environmental modelling & software, 112, 95-107. doi: https://doi.org/10.1016/j.envsoft.2018.10.005"
   ]
  },
  {
   "cell_type": "code",
   "execution_count": 2,
   "id": "b849b9d0",
   "metadata": {},
   "outputs": [],
   "source": [
    "from varstool import TSVARS, Model\n",
    "\n",
    "# Loading the \"HBV_SASK\" model that is included in this package\n",
    "from varstool.funcs import HBV_SASK\n",
    "\n",
    "exp_1_model = Model(HBV_SASK)"
   ]
  },
  {
   "cell_type": "markdown",
   "id": "4a7cb9f4",
   "metadata": {},
   "source": [
    "Let's just see how the model works. The object \"Model\" is an standard way of wrapping different functions that are going to be used by varstool. Therefore, users must communicate with their function of interest using this simple wrapper class. The arguments of this class can be quickly viewed by the following command:"
   ]
  },
  {
   "cell_type": "code",
   "execution_count": 3,
   "id": "9a135b8c",
   "metadata": {},
   "outputs": [],
   "source": [
    "# Model?"
   ]
  },
  {
   "cell_type": "markdown",
   "id": "86a9508b",
   "metadata": {},
   "source": [
    "To quickly test the HBV-SASK model with some random numbers as its input, follow the cell below:"
   ]
  },
  {
   "cell_type": "code",
   "execution_count": 4,
   "id": "afbfc23e",
   "metadata": {
    "scrolled": true
   },
   "outputs": [
    {
     "name": "stderr",
     "output_type": "stream",
     "text": [
      "C:\\Users\\ser134\\Anaconda3\\lib\\site-packages\\varstool\\funcs\\hbv.py:210: RuntimeWarning: invalid value encountered in double_scalars\n",
      "  AET = PET * ( SMS / LP )\n"
     ]
    },
    {
     "data": {
      "text/plain": [
       "(               Q_cms      Q_mm  AET  PET        Q1  Q1routed   Q2  ponding\n",
       " 1950-01-01  3.782170  0.150000  0.0  0.0  0.150000  0.150000  0.0    0.000\n",
       " 1950-01-02  3.593062  0.142500  0.0  0.0  0.142500  0.142500  0.0    0.000\n",
       " 1950-01-03  3.413409  0.135375  0.0  0.0  0.135375  0.135375  0.0    0.000\n",
       " 1950-01-04  3.242738  0.128606  0.0  0.0  0.128606  0.128606  0.0    0.000\n",
       " 1950-01-05  3.080601  0.122176  0.0  0.0  0.122176  0.122176  0.0    0.000\n",
       " ...              ...       ...  ...  ...       ...       ...  ...      ...\n",
       " 2011-12-27  0.798471  0.031667  NaN  0.0  0.031667  0.031667  0.0    0.000\n",
       " 2011-12-28  0.758548  0.030084  NaN  0.0  0.030084  0.030084  0.0    4.435\n",
       " 2011-12-29  1.279751  0.050755  NaN  0.0  0.050755  0.050755  0.0    2.255\n",
       " 2011-12-30  1.500057  0.059492  NaN  0.0  0.059492  0.059492  0.0    0.000\n",
       " 2011-12-31  1.425054  0.056517  NaN  0.0  0.056517  0.056517  0.0    0.000\n",
       " \n",
       " [22645 rows x 8 columns],\n",
       "                  SWE  SMS        S1            S2\n",
       " 1950-01-01     0.000  5.0  3.000000     10.000000\n",
       " 1950-01-02     1.080  5.0  2.850000     10.000000\n",
       " 1950-01-03     1.080  5.0  2.707500     10.000000\n",
       " 1950-01-04     1.080  5.0  2.572125     10.000000\n",
       " 1950-01-05     1.080  5.0  2.443519     10.000000\n",
       " ...              ...  ...       ...           ...\n",
       " 2011-12-28  9388.220  NaN  0.601677  13705.264982\n",
       " 2011-12-29  9388.220  NaN  1.015093  13709.256482\n",
       " 2011-12-30  9388.220  NaN  1.189838  13711.285982\n",
       " 2011-12-31  9389.265  NaN  1.130346  13711.285982\n",
       " 2012-01-01  9389.265  NaN  1.073829  13711.285982\n",
       " \n",
       " [22646 rows x 4 columns],\n",
       "                P      T  month_time_series\n",
       " 1950-01-01  2.16 -34.33                  1\n",
       " 1950-01-02  0.00 -38.21                  1\n",
       " 1950-01-03  0.00 -31.95                  1\n",
       " 1950-01-04  0.00 -24.04                  1\n",
       " 1950-01-05  0.00 -21.74                  1\n",
       " ...          ...    ...                ...\n",
       " 2011-12-27  2.52  -5.48                 12\n",
       " 2011-12-28  8.87  -3.61                 12\n",
       " 2011-12-29  4.51  -3.99                 12\n",
       " 2011-12-30  2.09  -6.36                 12\n",
       " 2011-12-31  0.00 -10.50                 12\n",
       " \n",
       " [22645 rows x 3 columns])"
      ]
     },
     "execution_count": 4,
     "metadata": {},
     "output_type": "execute_result"
    }
   ],
   "source": [
    "import pandas as pd\n",
    "\n",
    "params={#name  #value\n",
    "       'TT'   : -4.00,\n",
    "       'C0'   : 0.00,\n",
    "       'ETF'  : 0.00,\n",
    "       'LP'   : 0.10,\n",
    "       'FC'   : 50.0,\n",
    "       'beta' : 1.00,\n",
    "       'FRAC' : 0.10,\n",
    "       'K1'   : 0.05,\n",
    "       'alpha': 1.00,\n",
    "       'K2'   : 0.00,\n",
    "       'UBAS' : 1.00,\n",
    "       'PM'   : 0.50,\n",
    "}\n",
    "\n",
    "exp_1_model(pd.Series(params)).loc[-1]"
   ]
  },
  {
   "cell_type": "markdown",
   "id": "58de73aa",
   "metadata": {},
   "source": [
    "HBV-SASK returns many outputs; for the sake of simplicity, here we just use the simulated streamflow as the chosen model response (shown below). HBV-SASK returns a time-series of streamflow but, we are using GVARS which only accepts non time-series inputs right now. The time-series version of this algorithm is detailed in the following publication:\n",
    "\n",
    "* Gupta, H. V., & Razavi, S. (2018). Revisiting the basis of sensitivity analysis for dynamical earth system models. Water Resources Research, 54(11), 8692-8717. doi: https://doi.org/10.1029/2018WR022668"
   ]
  },
  {
   "cell_type": "code",
   "execution_count": 2,
   "id": "164f9ab4",
   "metadata": {},
   "outputs": [
    {
     "ename": "NameError",
     "evalue": "name 'Model' is not defined",
     "output_type": "error",
     "traceback": [
      "\u001b[1;31m---------------------------------------------------------------------------\u001b[0m",
      "\u001b[1;31mNameError\u001b[0m                                 Traceback (most recent call last)",
      "\u001b[1;32m<ipython-input-2-f2fad4c11ccc>\u001b[0m in \u001b[0;36m<module>\u001b[1;34m\u001b[0m\n\u001b[0;32m      8\u001b[0m     \u001b[1;32mreturn\u001b[0m \u001b[0mHBV_SASK\u001b[0m\u001b[1;33m(\u001b[0m\u001b[0mx\u001b[0m\u001b[1;33m)\u001b[0m\u001b[1;33m[\u001b[0m\u001b[1;36m0\u001b[0m\u001b[1;33m]\u001b[0m\u001b[1;33m[\u001b[0m\u001b[1;34m'Q_cms'\u001b[0m\u001b[1;33m]\u001b[0m\u001b[1;33m[\u001b[0m\u001b[1;33m-\u001b[0m\u001b[1;36m20\u001b[0m\u001b[1;33m:\u001b[0m\u001b[1;33m]\u001b[0m\u001b[1;33m\u001b[0m\u001b[1;33m\u001b[0m\u001b[0m\n\u001b[0;32m      9\u001b[0m \u001b[1;33m\u001b[0m\u001b[0m\n\u001b[1;32m---> 10\u001b[1;33m \u001b[0mexp_1_model\u001b[0m \u001b[1;33m=\u001b[0m \u001b[0mModel\u001b[0m\u001b[1;33m(\u001b[0m\u001b[0mcustom_HBV_SASK\u001b[0m\u001b[1;33m)\u001b[0m\u001b[1;33m\u001b[0m\u001b[1;33m\u001b[0m\u001b[0m\n\u001b[0m\u001b[0;32m     11\u001b[0m \u001b[1;33m\u001b[0m\u001b[0m\n\u001b[0;32m     12\u001b[0m \u001b[1;31m# and testing the output\u001b[0m\u001b[1;33m\u001b[0m\u001b[1;33m\u001b[0m\u001b[1;33m\u001b[0m\u001b[0m\n",
      "\u001b[1;31mNameError\u001b[0m: name 'Model' is not defined"
     ]
    }
   ],
   "source": [
    "# custome output selection - we are just now using the last 20 time-steps\n",
    "def custom_HBV_SASK(x):\n",
    "    # on MS Windows machines, import the original library again in\n",
    "    # the body of the function to be wrapped, if any.\n",
    "    # No need to import again on *nix machines\n",
    "    from varstool.funcs import HBV_SASK\n",
    "    \n",
    "    return HBV_SASK(x)[0]['Q_cms'][-20:]\n",
    "\n",
    "exp_1_model = Model(custom_HBV_SASK)\n",
    "\n",
    "# and testing the output\n",
    "exp_1_model(pd.Series(params))"
   ]
  },
  {
   "cell_type": "code",
   "execution_count": 6,
   "id": "c3bebe8c",
   "metadata": {},
   "outputs": [],
   "source": [
    "# setting up a TSVARS experiment for the HBV-SASK model\n",
    "\n",
    "exp_1 = TSVARS(num_stars=2,\n",
    "               parameters={  #lb     #ub\n",
    "                   'TT'   : [-4.00, 4.00],\n",
    "                   'C0'   : [0.00 , 10.0],\n",
    "                   'ETF'  : [0.00 , 1.00],\n",
    "                   'LP'   : [0.00 , 1.00],\n",
    "                   'FC'   : [50.0 ,500.0],\n",
    "                   'beta' : [1.00 , 3.00],\n",
    "                   'FRAC' : [0.10 , 0.90],\n",
    "                   'K1'   : [0.05 , 1.00],\n",
    "                   'alpha': [1.00 , 3.00],\n",
    "                   'K2'   : [0.00 , 0.05],\n",
    "                   'UBAS' : [1.00 , 3.00],\n",
    "                   'PM'   : [0.50 , 2.00],\n",
    "               },\n",
    "               delta_h=0.1,\n",
    "               ivars_scales=(0.1, 0.3, 0.5),\n",
    "               model=exp_1_model,\n",
    "               seed=1001,\n",
    "               sampler='lhs',\n",
    "               bootstrap_flag=False,\n",
    "               grouping_flag=False,\n",
    "               report_verbose=True,\n",
    "               func_eval_method='parallel',\n",
    "               vars_eval_method='parallel',\n",
    "               vars_chunk_size=None,\n",
    "          )"
   ]
  },
  {
   "cell_type": "markdown",
   "id": "6984c6af",
   "metadata": {},
   "source": [
    "At any time, the status of the VARS analysis could be viewed by typing the name of the instance that is used to initiate the experiment. Here, it is `exp_1`:"
   ]
  },
  {
   "cell_type": "code",
   "execution_count": 7,
   "id": "dc863476",
   "metadata": {},
   "outputs": [
    {
     "data": {
      "text/plain": [
       "Star Centres: Loaded\n",
       "Star Points: Not Loaded\n",
       "Parameters: 12 paremeters set\n",
       "Delta h: 0.1\n",
       "Model: custom_HBV_SASK\n",
       "Seed Number: 1001\n",
       "Bootstrap: Off\n",
       "Bootstrap Size: N/A\n",
       "Bootstrap CI: N/A\n",
       "Grouping: Off\n",
       "Number of Groups: None\n",
       "Function Evaluation Method: parallel\n",
       "TSVARS Evaluation Method: parallel\n",
       "TSVARS Chunk Size: N/A\n",
       "Verbose: On\n",
       "TSVARS Analysis: Not Done"
      ]
     },
     "execution_count": 7,
     "metadata": {},
     "output_type": "execute_result"
    }
   ],
   "source": [
    "exp_1"
   ]
  },
  {
   "cell_type": "markdown",
   "id": "f20d7843",
   "metadata": {},
   "source": [
    "From the status report, it could be viewed that the `star_centres` are fully sampled (via `lhs`) and loaded. Meanwhile, $\\Delta$h (`delta_h`) is set to 0.1, `seed` is set to 1001, and 12 parameters are fully set to begin the VARS sensitivity analysis.\n",
    "\n",
    "Time-series VARS (TSVARS) comes with two computational methods to carry out sensitivity analysis, that are:\n",
    "1. Serial and\n",
    "2. Parallel.\n",
    "\n",
    "It is worth noting that these computational methods are applicable to: **a**) while varstool runs the `Model` and **b**) when varstool computes common `VARS` indices. For the former `func_eval_method` method must be changed and for the latter `vars_eval_method` to either `'serial'` or `'parallel'`.\n",
    "\n",
    "Furthermore, to save memory usage, the computations can be chunked into several segments to avoid memory leak. In this example, first a simple serial version without chunking is demonstrated. It should be noted that the parallel version are unstable and might result in unexpected errors."
   ]
  },
  {
   "cell_type": "markdown",
   "id": "de7b9bcb",
   "metadata": {},
   "source": [
    "Before carrying out a sensitivity analysis, let's check the loaded `star_centres`:"
   ]
  },
  {
   "cell_type": "code",
   "execution_count": 8,
   "id": "1bc8aa70",
   "metadata": {
    "scrolled": true
   },
   "outputs": [
    {
     "data": {
      "text/plain": [
       "array([[0.74408722, 0.96041308, 0.09803003, 0.21526074, 0.01155678,\n",
       "        0.09789096, 0.9911775 , 0.51015798, 0.85274302, 0.29022856,\n",
       "        0.6763727 , 0.02056527],\n",
       "       [0.15311609, 0.13253178, 0.55455094, 0.70552831, 0.73506341,\n",
       "        0.56364827, 0.17640264, 0.11162101, 0.30676093, 0.98275457,\n",
       "        0.42678384, 0.80294738]])"
      ]
     },
     "execution_count": 8,
     "metadata": {},
     "output_type": "execute_result"
    }
   ],
   "source": [
    "exp_1.star_centres"
   ]
  },
  {
   "cell_type": "markdown",
   "id": "f8df6e70",
   "metadata": {},
   "source": [
    "It could be seen that 2 star centres for 12 parameters of the HBV-SASK model are successfully produced. Now let's move on to the sensitivity analysis bit:"
   ]
  },
  {
   "cell_type": "code",
   "execution_count": 9,
   "id": "b6c282c5",
   "metadata": {},
   "outputs": [
    {
     "name": "stderr",
     "output_type": "stream",
     "text": [
      "C:\\Users\\ser134\\Anaconda3\\lib\\site-packages\\varstool\\vars_sa.py:1159: UserWarning: Evaluating function in parallel mode is not stable yet. varstool currently uses `mapply` to parallelize function evaluations, see https://github.com/ddelange/mapply\n",
      "  warnings.warn(\n"
     ]
    },
    {
     "data": {
      "application/vnd.jupyter.widget-view+json": {
       "model_id": "aac8ce6b90d1440aa1143054abcdb2e1",
       "version_major": 2,
       "version_minor": 0
      },
      "text/plain": [
       "HBox(children=(HTML(value=''), FloatProgress(value=0.0, layout=Layout(flex='2'), max=240.0), HTML(value='')), …"
      ]
     },
     "metadata": {},
     "output_type": "display_data"
    },
    {
     "name": "stdout",
     "output_type": "stream",
     "text": [
      "\n"
     ]
    },
    {
     "data": {
      "application/vnd.jupyter.widget-view+json": {
       "model_id": "fc83d28f94e9498a8b2ca478696e3fbf",
       "version_major": 2,
       "version_minor": 0
      },
      "text/plain": [
       "HBox(children=(HTML(value='building pairs'), FloatProgress(value=0.0, layout=Layout(flex='2'), max=20.0), HTML…"
      ]
     },
     "metadata": {},
     "output_type": "display_data"
    },
    {
     "name": "stdout",
     "output_type": "stream",
     "text": [
      "\n"
     ]
    },
    {
     "data": {
      "application/vnd.jupyter.widget-view+json": {
       "model_id": "cb0c7270f6f94361a44cbdcfe85f7d86",
       "version_major": 2,
       "version_minor": 0
      },
      "text/plain": [
       "HBox(children=(HTML(value='VARS analysis'), FloatProgress(value=0.0, layout=Layout(flex='2'), max=10.0), HTML(…"
      ]
     },
     "metadata": {},
     "output_type": "display_data"
    },
    {
     "name": "stdout",
     "output_type": "stream",
     "text": [
      "\n"
     ]
    }
   ],
   "source": [
    "exp_1.run_online()"
   ]
  },
  {
   "cell_type": "markdown",
   "id": "6685b8b7",
   "metadata": {},
   "source": [
    "You can see the list of chosen outputs in the `output` attribute of the VARS analysis experiment:"
   ]
  },
  {
   "cell_type": "code",
   "execution_count": 10,
   "id": "d7776218",
   "metadata": {},
   "outputs": [
    {
     "data": {
      "text/plain": [
       "dict_keys(['Gamma', 'MAEE', 'MEE', 'COV', 'ECOV', 'IVARS', 'IVARSid'])"
      ]
     },
     "execution_count": 10,
     "metadata": {},
     "output_type": "execute_result"
    }
   ],
   "source": [
    "exp_1.output.keys()"
   ]
  },
  {
   "cell_type": "markdown",
   "id": "f2ecaf78",
   "metadata": {},
   "source": [
    "To view the produced variogram:"
   ]
  },
  {
   "cell_type": "code",
   "execution_count": 11,
   "id": "ca3aef39",
   "metadata": {},
   "outputs": [
    {
     "data": {
      "text/html": [
       "<div>\n",
       "<style scoped>\n",
       "    .dataframe tbody tr th:only-of-type {\n",
       "        vertical-align: middle;\n",
       "    }\n",
       "\n",
       "    .dataframe tbody tr th {\n",
       "        vertical-align: top;\n",
       "    }\n",
       "\n",
       "    .dataframe thead th {\n",
       "        text-align: right;\n",
       "    }\n",
       "</style>\n",
       "<table border=\"1\" class=\"dataframe\">\n",
       "  <thead>\n",
       "    <tr style=\"text-align: right;\">\n",
       "      <th></th>\n",
       "      <th>param</th>\n",
       "      <th>C0</th>\n",
       "      <th>ETF</th>\n",
       "      <th>FC</th>\n",
       "      <th>FRAC</th>\n",
       "      <th>K1</th>\n",
       "      <th>K2</th>\n",
       "      <th>LP</th>\n",
       "      <th>PM</th>\n",
       "      <th>TT</th>\n",
       "      <th>UBAS</th>\n",
       "      <th>alpha</th>\n",
       "      <th>beta</th>\n",
       "    </tr>\n",
       "    <tr>\n",
       "      <th>ts</th>\n",
       "      <th>h</th>\n",
       "      <th></th>\n",
       "      <th></th>\n",
       "      <th></th>\n",
       "      <th></th>\n",
       "      <th></th>\n",
       "      <th></th>\n",
       "      <th></th>\n",
       "      <th></th>\n",
       "      <th></th>\n",
       "      <th></th>\n",
       "      <th></th>\n",
       "      <th></th>\n",
       "    </tr>\n",
       "  </thead>\n",
       "  <tbody>\n",
       "    <tr>\n",
       "      <th rowspan=\"5\" valign=\"top\">2011-12-12</th>\n",
       "      <th>0.1</th>\n",
       "      <td>0.654279</td>\n",
       "      <td>0.066514</td>\n",
       "      <td>0.367159</td>\n",
       "      <td>0.093208</td>\n",
       "      <td>0.006550</td>\n",
       "      <td>7.724974</td>\n",
       "      <td>0.051195</td>\n",
       "      <td>0.150938</td>\n",
       "      <td>0.398448</td>\n",
       "      <td>0.000010</td>\n",
       "      <td>0.000146</td>\n",
       "      <td>0.026104</td>\n",
       "    </tr>\n",
       "    <tr>\n",
       "      <th>0.2</th>\n",
       "      <td>0.730538</td>\n",
       "      <td>0.272483</td>\n",
       "      <td>1.264395</td>\n",
       "      <td>0.374243</td>\n",
       "      <td>0.015930</td>\n",
       "      <td>30.587630</td>\n",
       "      <td>0.206758</td>\n",
       "      <td>0.595335</td>\n",
       "      <td>1.143920</td>\n",
       "      <td>0.000042</td>\n",
       "      <td>0.000610</td>\n",
       "      <td>0.100054</td>\n",
       "    </tr>\n",
       "    <tr>\n",
       "      <th>0.3</th>\n",
       "      <td>0.798476</td>\n",
       "      <td>0.622098</td>\n",
       "      <td>2.332555</td>\n",
       "      <td>0.844085</td>\n",
       "      <td>0.025229</td>\n",
       "      <td>60.960965</td>\n",
       "      <td>0.472662</td>\n",
       "      <td>1.320207</td>\n",
       "      <td>1.451704</td>\n",
       "      <td>0.000095</td>\n",
       "      <td>0.001415</td>\n",
       "      <td>0.217978</td>\n",
       "    </tr>\n",
       "    <tr>\n",
       "      <th>0.4</th>\n",
       "      <td>0.883051</td>\n",
       "      <td>1.111845</td>\n",
       "      <td>3.446077</td>\n",
       "      <td>1.502568</td>\n",
       "      <td>0.035179</td>\n",
       "      <td>93.444270</td>\n",
       "      <td>0.845924</td>\n",
       "      <td>2.316095</td>\n",
       "      <td>1.757747</td>\n",
       "      <td>0.000169</td>\n",
       "      <td>0.002560</td>\n",
       "      <td>0.378790</td>\n",
       "    </tr>\n",
       "    <tr>\n",
       "      <th>0.5</th>\n",
       "      <td>1.000756</td>\n",
       "      <td>1.731430</td>\n",
       "      <td>4.656348</td>\n",
       "      <td>2.348550</td>\n",
       "      <td>0.047186</td>\n",
       "      <td>128.845766</td>\n",
       "      <td>1.315664</td>\n",
       "      <td>3.577722</td>\n",
       "      <td>2.075336</td>\n",
       "      <td>0.000262</td>\n",
       "      <td>0.004018</td>\n",
       "      <td>0.583687</td>\n",
       "    </tr>\n",
       "    <tr>\n",
       "      <th>...</th>\n",
       "      <th>...</th>\n",
       "      <td>...</td>\n",
       "      <td>...</td>\n",
       "      <td>...</td>\n",
       "      <td>...</td>\n",
       "      <td>...</td>\n",
       "      <td>...</td>\n",
       "      <td>...</td>\n",
       "      <td>...</td>\n",
       "      <td>...</td>\n",
       "      <td>...</td>\n",
       "      <td>...</td>\n",
       "      <td>...</td>\n",
       "    </tr>\n",
       "    <tr>\n",
       "      <th rowspan=\"5\" valign=\"top\">2011-12-31</th>\n",
       "      <th>0.5</th>\n",
       "      <td>0.784314</td>\n",
       "      <td>1.880523</td>\n",
       "      <td>6.666096</td>\n",
       "      <td>2.630310</td>\n",
       "      <td>0.098010</td>\n",
       "      <td>97.186086</td>\n",
       "      <td>1.602433</td>\n",
       "      <td>4.608705</td>\n",
       "      <td>5.295403</td>\n",
       "      <td>0.000595</td>\n",
       "      <td>0.027189</td>\n",
       "      <td>0.493099</td>\n",
       "    </tr>\n",
       "    <tr>\n",
       "      <th>0.6</th>\n",
       "      <td>0.922510</td>\n",
       "      <td>2.684114</td>\n",
       "      <td>8.935177</td>\n",
       "      <td>3.784325</td>\n",
       "      <td>0.134325</td>\n",
       "      <td>127.310395</td>\n",
       "      <td>2.252793</td>\n",
       "      <td>6.558916</td>\n",
       "      <td>6.579109</td>\n",
       "      <td>0.000861</td>\n",
       "      <td>0.039236</td>\n",
       "      <td>0.706824</td>\n",
       "    </tr>\n",
       "    <tr>\n",
       "      <th>0.7</th>\n",
       "      <td>1.084802</td>\n",
       "      <td>3.591769</td>\n",
       "      <td>11.848401</td>\n",
       "      <td>5.138891</td>\n",
       "      <td>0.182996</td>\n",
       "      <td>169.544467</td>\n",
       "      <td>2.917130</td>\n",
       "      <td>8.834710</td>\n",
       "      <td>8.766244</td>\n",
       "      <td>0.001176</td>\n",
       "      <td>0.054906</td>\n",
       "      <td>0.966116</td>\n",
       "    </tr>\n",
       "    <tr>\n",
       "      <th>0.8</th>\n",
       "      <td>1.278631</td>\n",
       "      <td>4.574473</td>\n",
       "      <td>15.628947</td>\n",
       "      <td>6.684848</td>\n",
       "      <td>0.256443</td>\n",
       "      <td>230.042205</td>\n",
       "      <td>3.421640</td>\n",
       "      <td>11.430696</td>\n",
       "      <td>12.377263</td>\n",
       "      <td>0.001522</td>\n",
       "      <td>0.076047</td>\n",
       "      <td>1.278775</td>\n",
       "    </tr>\n",
       "    <tr>\n",
       "      <th>0.9</th>\n",
       "      <td>1.624298</td>\n",
       "      <td>5.598482</td>\n",
       "      <td>19.744412</td>\n",
       "      <td>8.407101</td>\n",
       "      <td>0.407444</td>\n",
       "      <td>296.019507</td>\n",
       "      <td>3.946330</td>\n",
       "      <td>14.324079</td>\n",
       "      <td>15.976655</td>\n",
       "      <td>0.001861</td>\n",
       "      <td>0.106449</td>\n",
       "      <td>1.656340</td>\n",
       "    </tr>\n",
       "  </tbody>\n",
       "</table>\n",
       "<p>180 rows × 12 columns</p>\n",
       "</div>"
      ],
      "text/plain": [
       "param                 C0       ETF         FC      FRAC        K1          K2  \\\n",
       "ts         h                                                                    \n",
       "2011-12-12 0.1  0.654279  0.066514   0.367159  0.093208  0.006550    7.724974   \n",
       "           0.2  0.730538  0.272483   1.264395  0.374243  0.015930   30.587630   \n",
       "           0.3  0.798476  0.622098   2.332555  0.844085  0.025229   60.960965   \n",
       "           0.4  0.883051  1.111845   3.446077  1.502568  0.035179   93.444270   \n",
       "           0.5  1.000756  1.731430   4.656348  2.348550  0.047186  128.845766   \n",
       "...                  ...       ...        ...       ...       ...         ...   \n",
       "2011-12-31 0.5  0.784314  1.880523   6.666096  2.630310  0.098010   97.186086   \n",
       "           0.6  0.922510  2.684114   8.935177  3.784325  0.134325  127.310395   \n",
       "           0.7  1.084802  3.591769  11.848401  5.138891  0.182996  169.544467   \n",
       "           0.8  1.278631  4.574473  15.628947  6.684848  0.256443  230.042205   \n",
       "           0.9  1.624298  5.598482  19.744412  8.407101  0.407444  296.019507   \n",
       "\n",
       "param                 LP         PM         TT      UBAS     alpha      beta  \n",
       "ts         h                                                                  \n",
       "2011-12-12 0.1  0.051195   0.150938   0.398448  0.000010  0.000146  0.026104  \n",
       "           0.2  0.206758   0.595335   1.143920  0.000042  0.000610  0.100054  \n",
       "           0.3  0.472662   1.320207   1.451704  0.000095  0.001415  0.217978  \n",
       "           0.4  0.845924   2.316095   1.757747  0.000169  0.002560  0.378790  \n",
       "           0.5  1.315664   3.577722   2.075336  0.000262  0.004018  0.583687  \n",
       "...                  ...        ...        ...       ...       ...       ...  \n",
       "2011-12-31 0.5  1.602433   4.608705   5.295403  0.000595  0.027189  0.493099  \n",
       "           0.6  2.252793   6.558916   6.579109  0.000861  0.039236  0.706824  \n",
       "           0.7  2.917130   8.834710   8.766244  0.001176  0.054906  0.966116  \n",
       "           0.8  3.421640  11.430696  12.377263  0.001522  0.076047  1.278775  \n",
       "           0.9  3.946330  14.324079  15.976655  0.001861  0.106449  1.656340  \n",
       "\n",
       "[180 rows x 12 columns]"
      ]
     },
     "execution_count": 11,
     "metadata": {},
     "output_type": "execute_result"
    }
   ],
   "source": [
    "exp_1.output['Gamma'].unstack(level=1) # unstack to make the dataframe more legible"
   ]
  },
  {
   "cell_type": "markdown",
   "id": "b763c10f",
   "metadata": {},
   "source": [
    "## Aggregated Values"
   ]
  },
  {
   "cell_type": "markdown",
   "id": "9b1666dd",
   "metadata": {},
   "source": [
    "The aggregated values of the produced outputs are also possible by getting `.aggregate` of each value, for example:"
   ]
  },
  {
   "cell_type": "code",
   "execution_count": 12,
   "id": "aa8603f9",
   "metadata": {},
   "outputs": [
    {
     "data": {
      "text/plain": [
       "param  h  \n",
       "C0     0.1    1.638033\n",
       "       0.2    1.833067\n",
       "       0.3    2.034193\n",
       "       0.4    2.294297\n",
       "       0.5    2.632140\n",
       "                ...   \n",
       "beta   0.5    1.604701\n",
       "       0.6    2.299489\n",
       "       0.7    3.143297\n",
       "       0.8    4.162663\n",
       "       0.9    5.397008\n",
       "Length: 108, dtype: float64"
      ]
     },
     "execution_count": 12,
     "metadata": {},
     "output_type": "execute_result"
    }
   ],
   "source": [
    "exp_1.gamma.aggregate"
   ]
  },
  {
   "cell_type": "markdown",
   "id": "29343bd3",
   "metadata": {},
   "source": [
    "or"
   ]
  },
  {
   "cell_type": "code",
   "execution_count": 13,
   "id": "dcb145fb",
   "metadata": {},
   "outputs": [
    {
     "data": {
      "text/plain": [
       "param  h  \n",
       "C0     0.1    1.638033\n",
       "       0.2    1.833067\n",
       "       0.3    2.034193\n",
       "       0.4    2.294297\n",
       "       0.5    2.632140\n",
       "                ...   \n",
       "beta   0.5    1.604701\n",
       "       0.6    2.299489\n",
       "       0.7    3.143297\n",
       "       0.8    4.162663\n",
       "       0.9    5.397008\n",
       "Length: 108, dtype: float64"
      ]
     },
     "execution_count": 13,
     "metadata": {},
     "output_type": "execute_result"
    }
   ],
   "source": [
    "exp_1.output['Gamma'].aggregate"
   ]
  },
  {
   "cell_type": "markdown",
   "id": "0f69bcce",
   "metadata": {},
   "source": [
    "## Plotting Sensitivity Measures"
   ]
  },
  {
   "cell_type": "markdown",
   "id": "d3abced5",
   "metadata": {},
   "source": [
    "Depending on the sensitivity analysis problem at hand, several plots could be drawn. Two examples of them are included below:"
   ]
  },
  {
   "cell_type": "code",
   "execution_count": 14,
   "id": "a0c59345",
   "metadata": {},
   "outputs": [
    {
     "data": {
      "text/plain": [
       "<AxesSubplot:xlabel='ts'>"
      ]
     },
     "execution_count": 14,
     "metadata": {},
     "output_type": "execute_result"
    },
    {
     "data": {
      "image/png": "[encoded data removed]",
      "text/plain": [
       "<Figure size 432x288 with 1 Axes>"
      ]
     },
     "metadata": {
      "needs_background": "light"
     },
     "output_type": "display_data"
    }
   ],
   "source": [
    "# Plotting IVARS-50 measure for two parameters\n",
    "\n",
    "idx = pd.IndexSlice\n",
    "\n",
    "exp_1.ivars.loc[idx[:, :, 0.5]].unstack(level=-1)[['C0', 'ETF', 'LP']].plot()"
   ]
  },
  {
   "cell_type": "code",
   "execution_count": 15,
   "id": "d9e18604",
   "metadata": {},
   "outputs": [
    {
     "data": {
      "text/plain": [
       "<AxesSubplot:ylabel='Proportion'>"
      ]
     },
     "execution_count": 15,
     "metadata": {},
     "output_type": "execute_result"
    },
    {
     "data": {
      "image/png": "[encoded data removed]",
      "text/plain": [
       "<Figure size 432x288 with 1 Axes>"
      ]
     },
     "metadata": {
      "needs_background": "light"
     },
     "output_type": "display_data"
    }
   ],
   "source": [
    "# Plotting IVARS-50 measure using emperical cdfs for two parameters\n",
    "\n",
    "import seaborn as sns\n",
    "\n",
    "sns.ecdfplot(exp_1.ivars.loc[idx[:, :, 0.5]].unstack(level=-1)[['C0', 'ETF', 'LP']])"
   ]
  },
  {
   "cell_type": "markdown",
   "id": "d60a5e32",
   "metadata": {},
   "source": [
    "# DYI"
   ]
  },
  {
   "cell_type": "markdown",
   "id": "677b9dea",
   "metadata": {},
   "source": [
    "How about you test other outputs of HBV-SASK yourself below?"
   ]
  },
  {
   "cell_type": "code",
   "execution_count": 16,
   "id": "1c6f9d85",
   "metadata": {
    "scrolled": true
   },
   "outputs": [
    {
     "ename": "AssertionError",
     "evalue": "",
     "output_type": "error",
     "traceback": [
      "\u001b[1;31m---------------------------------------------------------------------------\u001b[0m",
      "\u001b[1;31mAssertionError\u001b[0m                            Traceback (most recent call last)",
      "\u001b[1;32m<ipython-input-16-635fc30683c3>\u001b[0m in \u001b[0;36m<module>\u001b[1;34m\u001b[0m\n\u001b[1;32m----> 1\u001b[1;33m \u001b[0mexp_2_model\u001b[0m \u001b[1;33m=\u001b[0m \u001b[0mModel\u001b[0m\u001b[1;33m(\u001b[0m\u001b[1;33m...\u001b[0m\u001b[1;33m)\u001b[0m\u001b[1;33m\u001b[0m\u001b[1;33m\u001b[0m\u001b[0m\n\u001b[0m\u001b[0;32m      2\u001b[0m \u001b[1;33m\u001b[0m\u001b[0m\n\u001b[0;32m      3\u001b[0m \u001b[0mexp_2\u001b[0m \u001b[1;33m=\u001b[0m \u001b[0mTSVARS\u001b[0m\u001b[1;33m(\u001b[0m\u001b[1;33m...\u001b[0m\u001b[1;33m)\u001b[0m\u001b[1;33m\u001b[0m\u001b[1;33m\u001b[0m\u001b[0m\n",
      "\u001b[1;32m~\\Anaconda3\\lib\\site-packages\\varstool\\vars_sa.py\u001b[0m in \u001b[0;36m__init__\u001b[1;34m(self, func, unknown_options)\u001b[0m\n\u001b[0;32m     84\u001b[0m \u001b[1;33m\u001b[0m\u001b[0m\n\u001b[0;32m     85\u001b[0m         \u001b[1;31m# check whether the input is a callable\u001b[0m\u001b[1;33m\u001b[0m\u001b[1;33m\u001b[0m\u001b[1;33m\u001b[0m\u001b[0m\n\u001b[1;32m---> 86\u001b[1;33m         \u001b[1;32massert\u001b[0m \u001b[0mcallable\u001b[0m\u001b[1;33m(\u001b[0m\u001b[0mfunc\u001b[0m\u001b[1;33m)\u001b[0m\u001b[1;33m\u001b[0m\u001b[1;33m\u001b[0m\u001b[0m\n\u001b[0m\u001b[0;32m     87\u001b[0m         \u001b[0mself\u001b[0m\u001b[1;33m.\u001b[0m\u001b[0mfunc\u001b[0m \u001b[1;33m=\u001b[0m \u001b[0mfunc\u001b[0m\u001b[1;33m\u001b[0m\u001b[1;33m\u001b[0m\u001b[0m\n\u001b[0;32m     88\u001b[0m \u001b[1;33m\u001b[0m\u001b[0m\n",
      "\u001b[1;31mAssertionError\u001b[0m: "
     ]
    }
   ],
   "source": [
    "exp_2_model = Model(...)\n",
    "\n",
    "exp_2 = TSVARS(...)"
   ]
  }
 ],
 "metadata": {
  "kernelspec": {
   "display_name": "Python 3",
   "language": "python",
   "name": "python3"
  },
  "language_info": {
   "codemirror_mode": {
    "name": "ipython",
    "version": 3
   },
   "file_extension": ".py",
   "mimetype": "text/x-python",
   "name": "python",
   "nbconvert_exporter": "python",
   "pygments_lexer": "ipython3",
   "version": "3.8.8"
  }
 },
 "nbformat": 4,
 "nbformat_minor": 5
}
