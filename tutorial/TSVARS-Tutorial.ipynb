{
 "cells": [
  {
   "cell_type": "markdown",
   "id": "varying-lending",
   "metadata": {},
   "source": [
    "# A Real-world Example Using HBV-SASK Hydrological Model"
   ]
  },
  {
   "cell_type": "markdown",
   "id": "second-pitch",
   "metadata": {},
   "source": [
    "## Installation (from source)"
   ]
  },
  {
   "cell_type": "markdown",
   "id": "exclusive-terminology",
   "metadata": {},
   "source": [
    "The latest version of the varstool sensitivity and uncertainty package can always be retrieved from its GitHub repo using the following commands:"
   ]
  },
  {
   "cell_type": "code",
   "execution_count": 1,
   "id": "endless-energy",
   "metadata": {
    "scrolled": true
   },
   "outputs": [
    {
     "name": "stderr",
     "output_type": "stream",
     "text": [
      "Cloning into 'vars-tool'...\n"
     ]
    },
    {
     "name": "stdout",
     "output_type": "stream",
     "text": [
      "Processing c:\\kasra\\vars-tool\n",
      "  Installing build dependencies: started\n",
      "  Installing build dependencies: still running...\n",
      "  Installing build dependencies: finished with status 'done'\n",
      "  Getting requirements to build wheel: started\n",
      "  Getting requirements to build wheel: finished with status 'done'\n",
      "    Preparing wheel metadata: started\n",
      "    Preparing wheel metadata: finished with status 'done'\n",
      "Requirement already satisfied: pandas in c:\\kasra\\programfiles\\lib\\site-packages (from varstool==2.1) (1.2.3)\n",
      "Requirement already satisfied: scipy in c:\\kasra\\programfiles\\lib\\site-packages (from varstool==2.1) (1.6.2)\n",
      "Requirement already satisfied: numpy in c:\\kasra\\programfiles\\lib\\site-packages (from varstool==2.1) (1.20.0)\n",
      "Requirement already satisfied: matplotlib in c:\\kasra\\programfiles\\lib\\site-packages (from varstool==2.1) (3.3.4)\n",
      "Requirement already satisfied: pyparsing!=2.0.4,!=2.1.2,!=2.1.6,>=2.0.3 in c:\\kasra\\programfiles\\lib\\site-packages (from matplotlib->varstool==2.1) (2.4.7)\n",
      "Requirement already satisfied: pillow>=6.2.0 in c:\\kasra\\programfiles\\lib\\site-packages (from matplotlib->varstool==2.1) (8.1.2)\n",
      "Requirement already satisfied: kiwisolver>=1.0.1 in c:\\kasra\\programfiles\\lib\\site-packages (from matplotlib->varstool==2.1) (1.3.1)\n",
      "Requirement already satisfied: python-dateutil>=2.1 in c:\\kasra\\programfiles\\lib\\site-packages (from matplotlib->varstool==2.1) (2.8.1)\n",
      "Requirement already satisfied: cycler>=0.10 in c:\\kasra\\programfiles\\lib\\site-packages (from matplotlib->varstool==2.1) (0.10.0)\n",
      "Requirement already satisfied: six in c:\\kasra\\programfiles\\lib\\site-packages (from cycler>=0.10->matplotlib->varstool==2.1) (1.15.0)\n",
      "Requirement already satisfied: pytz>=2017.3 in c:\\kasra\\programfiles\\lib\\site-packages (from pandas->varstool==2.1) (2021.1)\n",
      "Building wheels for collected packages: varstool\n",
      "  Building wheel for varstool (PEP 517): started\n",
      "  Building wheel for varstool (PEP 517): finished with status 'done'\n",
      "  Created wheel for varstool: filename=varstool-2.1-py2.py3-none-any.whl size=430049 sha256=a17adb8156d5191da41e846edb8ffd44a3cbee1b386a2538eeb704e1e7c5407b\n",
      "  Stored in directory: c:\\users\\kak136\\appdata\\local\\pip\\cache\\wheels\\03\\b7\\01\\90265a9e06073dc5d3f061ea0cf6edb06870c2af0a14841906\n",
      "Successfully built varstool\n",
      "Installing collected packages: varstool\n",
      "  Attempting uninstall: varstool\n",
      "    Found existing installation: varstool 2.1\n",
      "    Uninstalling varstool-2.1:\n",
      "      Successfully uninstalled varstool-2.1\n",
      "Successfully installed varstool-2.1\n"
     ]
    },
    {
     "name": "stderr",
     "output_type": "stream",
     "text": [
      "  DEPRECATION: A future pip version will change local packages to be built in-place without first copying to a temporary directory. We recommend you use --use-feature=in-tree-build to test your packages with this new behavior before it becomes the default.\n",
      "   pip 21.3 will remove support for this functionality. You can find discussion regarding this at https://github.com/pypa/pip/issues/7555.\n"
     ]
    }
   ],
   "source": [
    "!git clone https://github.com/vars-tool/vars-tool\n",
    "!pip install vars-tool/."
   ]
  },
  {
   "cell_type": "markdown",
   "id": "enabling-territory",
   "metadata": {},
   "source": [
    "## HBV-SASK Model - A Real-world Sensitivity Analysis Problem"
   ]
  },
  {
   "cell_type": "markdown",
   "id": "unlimited-modification",
   "metadata": {},
   "source": [
    "The HBV-SASK Model is a real-world hydrological model that has been developed within the [**\"Watershed Systems Analysis and Modelling Lab\"**](https://www.samanrazavi.com) for educational purposes. In this example, we analyze the sensitivity of each parameter of the HBV-SASK model to the simulated streamflow (i.e., output) using the state-of-the-art varstool Python package.\n",
    "\n",
    "HBV-SASK utilizes daily time-series of precipitation and temperature and produced many outputs, such as streamflow, evapotransipration, etc.\n",
    "\n",
    "For more information see: Razavi, S., Sheikholeslami, R., Gupta, H. V., & Haghnegahdar, A. (2019). ***VARS-TOOL: A toolbox for comprehensive, efficient, and robust sensitivity and uncertainty analysis.*** Environmental modelling & software, 112, 95-107. doi: https://doi.org/10.1016/j.envsoft.2018.10.005"
   ]
  },
  {
   "cell_type": "code",
   "execution_count": 2,
   "id": "accessory-popularity",
   "metadata": {},
   "outputs": [],
   "source": [
    "from varstool import TSVARS, Model\n",
    "\n",
    "# Loading the \"HBV_SASK\" model that is included in this package\n",
    "from varstool.funcs import HBV_SASK\n",
    "\n",
    "exp_1_model = Model(HBV_SASK)"
   ]
  },
  {
   "cell_type": "markdown",
   "id": "authorized-taste",
   "metadata": {},
   "source": [
    "Let's just see how the model works. The object \"Model\" is an standard way of wrapping different functions that are going to be used by varstool. Therefore, users must communicate with their function of interest using this simple wrapper class. The arguments of this class can be quickly viewed by the following command:"
   ]
  },
  {
   "cell_type": "code",
   "execution_count": 3,
   "id": "accurate-grant",
   "metadata": {},
   "outputs": [],
   "source": [
    "# Model?"
   ]
  },
  {
   "cell_type": "markdown",
   "id": "phantom-penetration",
   "metadata": {},
   "source": [
    "To quickly test the HBV-SASK model with some random numbers as its input, follow the cell below:"
   ]
  },
  {
   "cell_type": "code",
   "execution_count": 4,
   "id": "raising-token",
   "metadata": {
    "scrolled": true
   },
   "outputs": [
    {
     "name": "stderr",
     "output_type": "stream",
     "text": [
      "C:\\Kasra\\ProgramFiles\\lib\\site-packages\\varstool\\funcs\\hbv.py:180: RuntimeWarning: invalid value encountered in double_scalars\n",
      "  AET = PET * ( SMS / LP )\n"
     ]
    },
    {
     "data": {
      "text/plain": [
       "(               Q_cms      Q_mm  AET  PET        Q1  Q1routed   Q2  ponding\n",
       " 1950-01-01  3.782170  0.150000  0.0  0.0  0.150000  0.150000  0.0    0.000\n",
       " 1950-01-02  3.593062  0.142500  0.0  0.0  0.142500  0.142500  0.0    0.000\n",
       " 1950-01-03  3.413409  0.135375  0.0  0.0  0.135375  0.135375  0.0    0.000\n",
       " 1950-01-04  3.242738  0.128606  0.0  0.0  0.128606  0.128606  0.0    0.000\n",
       " 1950-01-05  3.080601  0.122176  0.0  0.0  0.122176  0.122176  0.0    0.000\n",
       " ...              ...       ...  ...  ...       ...       ...  ...      ...\n",
       " 2011-12-27  0.798471  0.031667  NaN  0.0  0.031667  0.031667  0.0    0.000\n",
       " 2011-12-28  0.758548  0.030084  NaN  0.0  0.030084  0.030084  0.0    4.435\n",
       " 2011-12-29  1.279751  0.050755  NaN  0.0  0.050755  0.050755  0.0    2.255\n",
       " 2011-12-30  1.500057  0.059492  NaN  0.0  0.059492  0.059492  0.0    0.000\n",
       " 2011-12-31  1.425054  0.056517  NaN  0.0  0.056517  0.056517  0.0    0.000\n",
       " \n",
       " [22645 rows x 8 columns],\n",
       "                  SWE  SMS        S1            S2\n",
       " 1950-01-01     0.000  5.0  3.000000     10.000000\n",
       " 1950-01-02     1.080  5.0  2.850000     10.000000\n",
       " 1950-01-03     1.080  5.0  2.707500     10.000000\n",
       " 1950-01-04     1.080  5.0  2.572125     10.000000\n",
       " 1950-01-05     1.080  5.0  2.443519     10.000000\n",
       " ...              ...  ...       ...           ...\n",
       " 2011-12-28  9388.220  NaN  0.601677  13705.264982\n",
       " 2011-12-29  9388.220  NaN  1.015093  13709.256482\n",
       " 2011-12-30  9388.220  NaN  1.189838  13711.285982\n",
       " 2011-12-31  9389.265  NaN  1.130346  13711.285982\n",
       " 2012-01-01  9389.265  NaN  1.073829  13711.285982\n",
       " \n",
       " [22646 rows x 4 columns],\n",
       "                P      T  month_time_series\n",
       " 1950-01-01  2.16 -34.33                  1\n",
       " 1950-01-02  0.00 -38.21                  1\n",
       " 1950-01-03  0.00 -31.95                  1\n",
       " 1950-01-04  0.00 -24.04                  1\n",
       " 1950-01-05  0.00 -21.74                  1\n",
       " ...          ...    ...                ...\n",
       " 2011-12-27  2.52  -5.48                 12\n",
       " 2011-12-28  8.87  -3.61                 12\n",
       " 2011-12-29  4.51  -3.99                 12\n",
       " 2011-12-30  2.09  -6.36                 12\n",
       " 2011-12-31  0.00 -10.50                 12\n",
       " \n",
       " [22645 rows x 3 columns])"
      ]
     },
     "execution_count": 4,
     "metadata": {},
     "output_type": "execute_result"
    }
   ],
   "source": [
    "import pandas as pd\n",
    "\n",
    "params={#name  #value\n",
    "       'TT'   : -4.00,\n",
    "       'C0'   : 0.00,\n",
    "       'ETF'  : 0.00,\n",
    "       'LP'   : 0.00,\n",
    "       'FC'   : 50.0,\n",
    "       'beta' : 1.00,\n",
    "       'FRAC' : 0.10,\n",
    "       'K1'   : 0.05,\n",
    "       'alpha': 1.00,\n",
    "       'K2'   : 0.00,\n",
    "       'UBAS' : 1.00,\n",
    "       'PM'   : 0.50,\n",
    "}\n",
    "\n",
    "exp_1_model(pd.Series(params))"
   ]
  },
  {
   "cell_type": "markdown",
   "id": "fixed-grammar",
   "metadata": {},
   "source": [
    "HBV-SASK returns many outputs; for the sake of simplicity, here we just use the simulated streamflow as the chosen model response (shown below). As HBV-SASK returns time-series of streamflow, the time-series version of the **`VARS`** algorithm is employed. The time-series version of this algorithm is detailed in the following publication:\n",
    "\n",
    "* Gupta, H. V., & Razavi, S. (2018). Revisiting the basis of sensitivity analysis for dynamical earth system models. Water Resources Research, 54(11), 8692-8717. doi: https://doi.org/10.1029/2018WR022668"
   ]
  },
  {
   "cell_type": "code",
   "execution_count": 5,
   "id": "young-leeds",
   "metadata": {},
   "outputs": [
    {
     "name": "stderr",
     "output_type": "stream",
     "text": [
      "C:\\Kasra\\ProgramFiles\\lib\\site-packages\\varstool\\funcs\\hbv.py:180: RuntimeWarning: invalid value encountered in double_scalars\n",
      "  AET = PET * ( SMS / LP )\n"
     ]
    },
    {
     "data": {
      "text/plain": [
       "2011-12-12    0.758757\n",
       "2011-12-13    0.720819\n",
       "2011-12-14    0.684778\n",
       "2011-12-15    0.650539\n",
       "2011-12-16    0.618012\n",
       "2011-12-17    0.587112\n",
       "2011-12-18    1.266913\n",
       "2011-12-19    1.203567\n",
       "2011-12-20    1.143389\n",
       "2011-12-21    1.086220\n",
       "2011-12-22    1.031909\n",
       "2011-12-23    0.980313\n",
       "2011-12-24    0.931298\n",
       "2011-12-25    0.884733\n",
       "2011-12-26    0.840496\n",
       "2011-12-27    0.798471\n",
       "2011-12-28    0.758548\n",
       "2011-12-29    1.279751\n",
       "2011-12-30    1.500057\n",
       "2011-12-31    1.425054\n",
       "Name: Q_cms, dtype: float64"
      ]
     },
     "execution_count": 5,
     "metadata": {},
     "output_type": "execute_result"
    }
   ],
   "source": [
    "# custome output selection - we are just now using the last 20 time-steps\n",
    "def custom_HBV_SASK(x):\n",
    "    # on MS Windows machines, import the original library again in\n",
    "    # the body of the function to be wrapped, if any.\n",
    "    # No need to import again on *nix machines\n",
    "    from varstool.funcs import HBV_SASK\n",
    "    \n",
    "    return HBV_SASK(x)[0]['Q_cms'][-20:]\n",
    "\n",
    "exp_1_model = Model(custom_HBV_SASK)\n",
    "\n",
    "# and testing the output\n",
    "exp_1_model(pd.Series(params))"
   ]
  },
  {
   "cell_type": "code",
   "execution_count": 6,
   "id": "approved-monkey",
   "metadata": {},
   "outputs": [],
   "source": [
    "# setting up a TSVARS experiment for the HBV-SASK model\n",
    "\n",
    "exp_1 = TSVARS(num_stars=2,\n",
    "               parameters={  #lb     #ub\n",
    "                   'TT'   : [-4.00, 4.00],\n",
    "                   'C0'   : [0.00 , 10.0],\n",
    "                   'ETF'  : [0.00 , 1.00],\n",
    "                   'LP'   : [0.00 , 1.00],\n",
    "                   'FC'   : [50.0 ,500.0],\n",
    "                   'beta' : [1.00 , 3.00],\n",
    "                   'FRAC' : [0.10 , 0.90],\n",
    "                   'K1'   : [0.05 , 1.00],\n",
    "                   'alpha': [1.00 , 3.00],\n",
    "                   'K2'   : [0.00 , 0.05],\n",
    "                   'UBAS' : [1.00 , 3.00],\n",
    "                   'PM'   : [0.50 , 2.00],\n",
    "               },\n",
    "               delta_h=0.1,\n",
    "               ivars_scales=(0.1, 0.3, 0.5),\n",
    "               model=exp_1_model,\n",
    "               seed=1001,\n",
    "               sampler='lhs',\n",
    "               bootstrap_flag=False,\n",
    "               grouping_flag=False,\n",
    "               report_verbose=True,\n",
    "               func_eval_method='parallel',\n",
    "               vars_eval_method='parallel',\n",
    "               vars_chunk_size=None,\n",
    "          )"
   ]
  },
  {
   "cell_type": "markdown",
   "id": "nominated-extension",
   "metadata": {},
   "source": [
    "At any time, the status of the VARS analysis could be viewed by typing the name of the instance that is used to initiate the experiment. Here, it is `exp_1`:"
   ]
  },
  {
   "cell_type": "code",
   "execution_count": 7,
   "id": "engaging-touch",
   "metadata": {
    "scrolled": false
   },
   "outputs": [
    {
     "data": {
      "text/plain": [
       "Star Centres: Loaded\n",
       "Star Points: Not Loaded\n",
       "Parameters: 12 paremeters set\n",
       "Delta h: 0.1\n",
       "Model: custom_HBV_SASK\n",
       "Seed Number: 1001\n",
       "Bootstrap: Off\n",
       "Bootstrap Size: N/A\n",
       "Bootstrap CI: N/A\n",
       "Grouping: Off\n",
       "Number of Groups: None\n",
       "Function Evaluation Method: parallel\n",
       "TSVARS Evaluation Method: parallel\n",
       "TSVARS Chunk Size: N/A\n",
       "Verbose: On\n",
       "TSVARS Analysis: Not Done"
      ]
     },
     "execution_count": 7,
     "metadata": {},
     "output_type": "execute_result"
    }
   ],
   "source": [
    "exp_1"
   ]
  },
  {
   "cell_type": "markdown",
   "id": "developmental-watson",
   "metadata": {},
   "source": [
    "From the status report, it could be viewed that the `star_centres` are fully sampled (via `lhs`) and loaded. Meanwhile, $\\Delta$h (`delta_h`) is set to 0.1, `seed` is set to 1001, and 12 parameters are fully set to begin the VARS sensitivity analysis.\n",
    "\n",
    "Time-series VARS (TSVARS) comes with two computational methods to carry out sensitivity analysis, that are:\n",
    "1. Serial and\n",
    "2. Parallel.\n",
    "\n",
    "It is worth noting that these computational methods are applicable to: **a**) while varstool runs the `Model` and **b**) when varstool computes common `VARS` indices. For the former `func_eval_method` method must be changed and for the latter `vars_eval_method` to either `'serial'` or `'parallel'`.\n",
    "\n",
    "Furthermore, to save memory usage, the computations can be chunked into several segments to avoid memory leak. In this example, first a simple serial version without chunking is demonstrated. It should be noted that the parallel version are unstable and might result in unexpected errors."
   ]
  },
  {
   "cell_type": "markdown",
   "id": "sought-table",
   "metadata": {},
   "source": [
    "Before carrying out a sensitivity analysis, let's check the loaded `star_centres`:"
   ]
  },
  {
   "cell_type": "code",
   "execution_count": 8,
   "id": "divided-musician",
   "metadata": {
    "scrolled": true
   },
   "outputs": [
    {
     "data": {
      "text/plain": [
       "array([[0.74408722, 0.96041308, 0.09803003, 0.21526074, 0.01155678,\n",
       "        0.09789096, 0.9911775 , 0.51015798, 0.85274302, 0.29022856,\n",
       "        0.6763727 , 0.02056527],\n",
       "       [0.15311609, 0.13253178, 0.55455094, 0.70552831, 0.73506341,\n",
       "        0.56364827, 0.17640264, 0.11162101, 0.30676093, 0.98275457,\n",
       "        0.42678384, 0.80294738]])"
      ]
     },
     "execution_count": 8,
     "metadata": {},
     "output_type": "execute_result"
    }
   ],
   "source": [
    "exp_1.star_centres"
   ]
  },
  {
   "cell_type": "markdown",
   "id": "olympic-mozambique",
   "metadata": {},
   "source": [
    "It could be seen that 2 star centres for 12 parameters of the HBV-SASK model are successfully produced. Now let's move on to the sensitivity analysis bit:"
   ]
  },
  {
   "cell_type": "code",
   "execution_count": null,
   "id": "occasional-candy",
   "metadata": {},
   "outputs": [
    {
     "name": "stderr",
     "output_type": "stream",
     "text": [
      "C:\\Kasra\\ProgramFiles\\lib\\site-packages\\varstool\\vars_sa.py:1096: UserWarning: Evaluating function in parallel mode is not stable yet. varstool currently uses `mapply` to parallelize function evaluations, see https://github.com/ddelange/mapply\n",
      "  stacklevel=1\n"
     ]
    },
    {
     "data": {
      "application/vnd.jupyter.widget-view+json": {
       "model_id": "5e45ea323dae4652a48ae7072ef982b1",
       "version_major": 2,
       "version_minor": 0
      },
      "text/plain": [
       "  0%|                                                                                          | 0/240 [00:00<…"
      ]
     },
     "metadata": {},
     "output_type": "display_data"
    }
   ],
   "source": [
    "exp_1.run_online()"
   ]
  },
  {
   "cell_type": "markdown",
   "id": "offshore-surprise",
   "metadata": {},
   "source": [
    "You can see the list of chosen outputs in the `output` attribute of the VARS analysis experiment:"
   ]
  },
  {
   "cell_type": "code",
   "execution_count": null,
   "id": "radical-acrylic",
   "metadata": {},
   "outputs": [],
   "source": [
    "exp_1.output.keys()"
   ]
  },
  {
   "cell_type": "markdown",
   "id": "important-villa",
   "metadata": {},
   "source": [
    "To view the produced variogram:"
   ]
  },
  {
   "cell_type": "code",
   "execution_count": null,
   "id": "impossible-roads",
   "metadata": {},
   "outputs": [],
   "source": [
    "exp_1.output['Gamma'].unstack(level=1) # unstack to make the dataframe more legible"
   ]
  },
  {
   "cell_type": "markdown",
   "id": "elect-penguin",
   "metadata": {},
   "source": [
    "# DYI"
   ]
  },
  {
   "cell_type": "markdown",
   "id": "published-insurance",
   "metadata": {},
   "source": [
    "How about you test other outputs of HBV-SASK yourself below?"
   ]
  },
  {
   "cell_type": "code",
   "execution_count": null,
   "id": "urban-battlefield",
   "metadata": {},
   "outputs": [],
   "source": [
    "exp_2_model = Model(...)\n",
    "\n",
    "exp_2 = TSVARS(...)"
   ]
  }
 ],
 "metadata": {
  "kernelspec": {
   "display_name": "Python 3",
   "language": "python",
   "name": "python3"
  },
  "language_info": {
   "codemirror_mode": {
    "name": "ipython",
    "version": 3
   },
   "file_extension": ".py",
   "mimetype": "text/x-python",
   "name": "python",
   "nbconvert_exporter": "python",
   "pygments_lexer": "ipython3",
   "version": "3.7.10"
  }
 },
 "nbformat": 4,
 "nbformat_minor": 5
}
