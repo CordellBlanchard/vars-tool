{
 "cells": [
  {
   "cell_type": "markdown",
   "metadata": {},
   "source": [
    "# Sensitivity Analysis with Correlated Factors\n",
    "\n",
    "Notebook developed by Saman Razavi, Cordell Blanchard, and Kasra Keshavarz\n",
    "\n",
    "### For the Generalized VARS (G-VARS) method, please cite:\n",
    "\n",
    "Do, N. C., & Razavi, S. (2020). Correlation effects? A major but often neglected component in sensitivity and uncertainty analysis. Water Resources Research, 56(3), e2019WR025436. https://doi.org/10.1029/2019WR025436\n",
    "\n",
    "### For HBV-SASK, please cite:\n",
    "\n",
    "Razavi, S., Sheikholeslami, R., Gupta, H. V., & Haghnegahdar, A. (2019). VARS-TOOL: A toolbox for comprehensive, efficient, and robust sensitivity and uncertainty analysis. Environmental modelling & software, 112, 95-107. https://www.sciencedirect.com/science/article/pii/S1364815218304766"
   ]
  },
  {
   "cell_type": "markdown",
   "metadata": {},
   "source": [
    "# Exercise 8: Sensitivity Analysis of HBV-SASK with correlated parameters\n",
    "### Objective:\n",
    "\n",
    "This notebook runs a sensitivity analysis of the HBV-SASK model when the model parameters may be correlated and/or non-uniformly distributed, through the *Generalized VARS (G-VARS)* method."
   ]
  },
  {
   "cell_type": "markdown",
   "metadata": {},
   "source": [
    "Import the needed librares, including `GVARS` for G-VARS and the `Model` class for creating a wrapper around the desired model so that it can be inputted into VARS."
   ]
  },
  {
   "cell_type": "code",
   "execution_count": 1,
   "metadata": {},
   "outputs": [],
   "source": [
    "import numpy as np\n",
    "import pandas as pd\n",
    "import matplotlib.pyplot as plt\n",
    "\n",
    "from varstool import GVARS, Model\n",
    "import hbv"
   ]
  },
  {
   "cell_type": "markdown",
   "metadata": {},
   "source": [
    "Define the function of interest in sensitivity analysis. Here, the following function runs the HBV-SASK model and returns a single output such as a flux (e.g., *streamflow*) or state variable (e.g., *soil moisture*) at a certain point in time, or a signature-response such as an estimate of *the 100-year flood*."
   ]
  },
  {
   "cell_type": "code",
   "execution_count": 2,
   "metadata": {},
   "outputs": [],
   "source": [
    "def custom_HBV_SASK(x):\n",
    "    # preparing the inputs \n",
    "    x.index = ['TT', 'C0', 'ETF', 'LP', 'FC', 'beta', 'FRAC', 'K1', 'alpha', 'K2', 'UBAS', 'PM']\n",
    "    param = x.to_dict()\n",
    "    \n",
    "    # running the HBV-SASK Model\n",
    "    basin = 'Oldman Basin'  # choose the basin of interest, either 'Oldman Basin' or 'Banff Basin'\n",
    "    flux, state, forcing = hbv.HBV_SASK(basin, param)\n",
    "\n",
    "    # choose the model output, two options below: (1) a direct model response or (2) a signature such as highest peak\n",
    "    \n",
    "    # (1) for direct model response at a given time step, use the following\n",
    "#     start_day = end_day = '2005-10-05' # choose the date of interest\n",
    "#     out = flux['Q_cms'][start_day:end_day]\n",
    "    \n",
    "    # (2) for the highest peak based on simulated streamflow time series, use the following\n",
    "    out = flux['Q_cms'].max()\n",
    "\n",
    "    return out"
   ]
  },
  {
   "cell_type": "markdown",
   "metadata": {},
   "source": [
    "Wrap the function of interest with the `Model` class."
   ]
  },
  {
   "cell_type": "code",
   "execution_count": 3,
   "metadata": {},
   "outputs": [],
   "source": [
    "HBV_model = Model(custom_HBV_SASK)"
   ]
  },
  {
   "cell_type": "markdown",
   "metadata": {},
   "source": [
    "Let's run the wrapped function for an arbitrary input and check the model output."
   ]
  },
  {
   "cell_type": "code",
   "execution_count": 6,
   "metadata": {},
   "outputs": [
    {
     "data": {
      "text/plain": [
       "36.63423702631753"
      ]
     },
     "execution_count": 6,
     "metadata": {},
     "output_type": "execute_result"
    }
   ],
   "source": [
    "x=pd.Series({#name  #value\n",
    "             'TT'   : 0.00,\n",
    "             'C0'   : 0.00,\n",
    "             'ETF'  : 0.00,\n",
    "             'LP'   : 0.10,\n",
    "             'FC'   : 50.0,\n",
    "             'beta' : 1.00,\n",
    "             'FRAC' : 0.10,\n",
    "             'K1'   : 0.10,\n",
    "             'alpha': 1.00,\n",
    "             'K2'   : 0.01,\n",
    "             'UBAS' : 1.00,\n",
    "             'PM'   : 1.00,\n",
    "             })\n",
    "HBV_model(x)"
   ]
  },
  {
   "cell_type": "markdown",
   "metadata": {},
   "source": [
    "Create a G-VARS experiment and set its attributes, according to the table below.\n",
    "\n",
    "**paramaters**: the name of each paramter along with the following\n",
    "specifications, in the following order: <br>\n",
    "for `uniform` distributions: <br>\n",
    "parameter name : *lower bound*, *upper bound*, *None*, `unif` <br> <br>\n",
    "for `triangle` distributions: <br>\n",
    "parameter name : *lower bound*, *upper bound*, *mode*, `triangle` <br> <br>\n",
    "for `normal` distributions: <br>\n",
    "parameter name : *mean*, *standard deviation*, *None*, `norm` <br> <br>\n",
    "for `lognormal` distributions: <br>\n",
    "parameter name: *mean*, *standard deviation*, *None*, `lognorm` <br> <br>\n",
    "for `exponential` distributions: <br>\n",
    "parameter name: *mean*, *standard deviation*, *None*, `expo` <br> <br>\n",
    "for `generalized extreme value` distributions: <br>\n",
    "parameter name: *location*, *scale*, *shape*, `gev` <br>\n",
    "\n",
    "**corr_mat**: the correlation matrix which describes the correlation between parameters (**must be a numpy array**)\n",
    "\n",
    "**num_dir_samples**: the number of directional samples per star sample"
   ]
  },
  {
   "cell_type": "code",
   "execution_count": 7,
   "metadata": {},
   "outputs": [],
   "source": [
    "experiment_1 = GVARS(parameters={  #lb     #ub\n",
    "                   'TT'   : ( 0.940  , 0.980  , None  , 'unif'     ),\n",
    "                   'C0'   : ( 0.782  , 0.003  , None  , 'norm'     ),\n",
    "                   'ETF'  : ( 0.126  , 0.008  , None  , 'norm'     ),\n",
    "                   'LP'   : ( 0.670  , 0.018  , None  , 'norm'     ),\n",
    "                   'FC'   : ( 227.53 , 6.930  , None  , 'norm'     ),\n",
    "                   'beta' : ( 2.600  , 3.000  , 3.000 , 'triangle' ),\n",
    "                   'FRAC' : ( 0.628  , 0.011  , None  , 'norm'     ),\n",
    "                   'K1'   : ( 0.050  , 0.054  , 0.050 , 'triangle' ),\n",
    "                   'alpha': ( 1.602  , 0.011  , None  , 'norm'     ),\n",
    "                   'K2'   : ( 0.022  , 0.001  , None  , 'norm'     ),\n",
    "                   'UBAS' : ( 1.000  , 1.200  , 1.000  , 'triangle'  ),\n",
    "                   'PM'   : ( 0.980  , 1.020  , None  , 'unif'     ),},\n",
    "                    corr_mat = np.array([[    1, 0.65,    0,    0,    0,    0,    0,    0,    0,    0,    0,    0],\n",
    "                                         [ 0.65,    1,    0,    0,    0,    0,    0,    0,    0, 0.12,    0,    0],\n",
    "                                         [    0,    0,    1, 0.12,-0.18, 0.13,    0,    0,    0,-0.22,    0,    0],\n",
    "                                         [    0,    0, 0.12,    1, 0.54, 0.71,-0.14,    0,    0,    0,    0,    0],\n",
    "                                         [    0,    0,-0.18, 0.54,    1, 0.34, 0.20, 0.11,    0, 0.38,    0,    0],\n",
    "                                         [    0,    0, 0.13, 0.71, 0.34,    1,-0.11,    0,    0,-0.13,    0,    0],\n",
    "                                         [    0,    0,    0,-0.14, 0.20,-0.11,    1,    0,-0.69,-0.39,-0.19,    0],\n",
    "                                         [    0,    0,    0,    0, 0.11,    0,    0,    1,-0.34,    0,    0,    0],\n",
    "                                         [    0,    0,    0,    0,    0,    0,-0.69,-0.34,    1, 0.41, 0.40,    0],\n",
    "                                         [    0, 0.12,-0.22,    0, 0.38,-0.13,-0.39,    0, 0.41,    1, 0.14,    0],\n",
    "                                         [    0,    0,    0,    0,    0,    0,-0.19,    0,  0.4, 0.14,    1,    0],\n",
    "                                         [    0,    0,    0,    0,    0,    0,    0,    0,    0,    0,    0,    1]]),\n",
    "                    num_stars=10,\n",
    "                    num_dir_samples=10,\n",
    "                    delta_h = 0.1,\n",
    "                    ivars_scales = (0.1, 0.3, 0.5),\n",
    "                    model = HBV_model,\n",
    "                    seed = 123456789,\n",
    "                    bootstrap_flag = True,\n",
    "                    bootstrap_size = 100,\n",
    "                    bootstrap_ci=0.9,\n",
    "                    grouping_flag=True,\n",
    "                    num_grps=3,\n",
    "                    report_verbose=True,\n",
    "                )"
   ]
  },
  {
   "cell_type": "markdown",
   "metadata": {},
   "source": [
    "A report displaying the current status of the GVARS analysis can be found by typing in the variable name of the instance you created, here this is `experiment_1`"
   ]
  },
  {
   "cell_type": "code",
   "execution_count": 8,
   "metadata": {},
   "outputs": [
    {
     "data": {
      "text/plain": [
       "Star Centres: Not Loaded\n",
       "Star Points: Not Loaded\n",
       "Parameters: 12 paremeters set\n",
       "Delta h: 0.1\n",
       "Model: custom_HBV_SASK\n",
       "Seed Number: 123456789\n",
       "Bootstrap: On\n",
       "Bootstrap Size: 100\n",
       "Bootstrap CI: 0.9\n",
       "Grouping: On\n",
       "Number of Groups: 3\n",
       "Verbose: On\n",
       "GVARS Analysis: Not Done"
      ]
     },
     "execution_count": 8,
     "metadata": {},
     "output_type": "execute_result"
    }
   ],
   "source": [
    "experiment_1"
   ]
  },
  {
   "cell_type": "markdown",
   "metadata": {},
   "source": [
    "To run the GVARS analysis we can simply do the following:"
   ]
  },
  {
   "cell_type": "code",
   "execution_count": 9,
   "metadata": {},
   "outputs": [
    {
     "data": {
      "application/vnd.jupyter.widget-view+json": {
       "model_id": "b7640f17b8af4c3586841b93b7ab1df9",
       "version_major": 2,
       "version_minor": 0
      },
      "text/plain": [
       "HBox(children=(HTML(value='generating star points\\n (note: first step will take awhile as the fictive matrix i…"
      ]
     },
     "metadata": {},
     "output_type": "display_data"
    },
    {
     "name": "stdout",
     "output_type": "stream",
     "text": [
      "\n"
     ]
    },
    {
     "name": "stderr",
     "output_type": "stream",
     "text": [
      "C:\\Users\\ser134\\Anaconda3\\lib\\site-packages\\tqdm\\std.py:697: FutureWarning: The Panel class is removed from pandas. Accessing it from the top-level namespace will also be removed in the next version\n",
      "  from pandas import Panel\n"
     ]
    },
    {
     "data": {
      "application/vnd.jupyter.widget-view+json": {
       "model_id": "74cb60811b4c41cb9fafc0ec129c8958",
       "version_major": 2,
       "version_minor": 0
      },
      "text/plain": [
       "HBox(children=(HTML(value='function evaluation'), FloatProgress(value=0.0, layout=Layout(flex='2'), max=1200.0…"
      ]
     },
     "metadata": {},
     "output_type": "display_data"
    },
    {
     "name": "stdout",
     "output_type": "stream",
     "text": [
      "\n"
     ]
    },
    {
     "name": "stderr",
     "output_type": "stream",
     "text": [
      "C:\\Users\\ser134\\Anaconda3\\lib\\site-packages\\tqdm\\std.py:697: FutureWarning: The Panel class is removed from pandas. Accessing it from the top-level namespace will also be removed in the next version\n",
      "  from pandas import Panel\n"
     ]
    },
    {
     "data": {
      "application/vnd.jupyter.widget-view+json": {
       "model_id": "a3d396739b1943d596ced8e85d34b260",
       "version_major": 2,
       "version_minor": 0
      },
      "text/plain": [
       "HBox(children=(HTML(value='building pairs'), FloatProgress(value=0.0, layout=Layout(flex='2'), max=120.0), HTM…"
      ]
     },
     "metadata": {},
     "output_type": "display_data"
    },
    {
     "name": "stdout",
     "output_type": "stream",
     "text": [
      "\n"
     ]
    },
    {
     "data": {
      "application/vnd.jupyter.widget-view+json": {
       "model_id": "7f806a8a6d91489192bfe3b721f6e70c",
       "version_major": 2,
       "version_minor": 0
      },
      "text/plain": [
       "HBox(children=(HTML(value=\"calculating 'h' values\"), FloatProgress(value=0.0, max=10.0), HTML(value='')))"
      ]
     },
     "metadata": {},
     "output_type": "display_data"
    },
    {
     "name": "stdout",
     "output_type": "stream",
     "text": [
      "\n"
     ]
    },
    {
     "data": {
      "application/vnd.jupyter.widget-view+json": {
       "model_id": "cab9c59dd1614371ad01888342274ed8",
       "version_major": 2,
       "version_minor": 0
      },
      "text/plain": [
       "HBox(children=(HTML(value=\"binning and reording pairs based on 'h' values\"), FloatProgress(value=0.0, layout=L…"
      ]
     },
     "metadata": {},
     "output_type": "display_data"
    },
    {
     "name": "stdout",
     "output_type": "stream",
     "text": [
      "\n"
     ]
    },
    {
     "data": {
      "application/vnd.jupyter.widget-view+json": {
       "model_id": "02f286c18ae747dcaba61cdd51c324b1",
       "version_major": 2,
       "version_minor": 0
      },
      "text/plain": [
       "HBox(children=(HTML(value='VARS analysis'), FloatProgress(value=0.0, layout=Layout(flex='2'), max=10.0), HTML(…"
      ]
     },
     "metadata": {},
     "output_type": "display_data"
    },
    {
     "name": "stdout",
     "output_type": "stream",
     "text": [
      "\n"
     ]
    },
    {
     "data": {
      "application/vnd.jupyter.widget-view+json": {
       "model_id": "8d70aa116e9948c6be0fe5b693ba7182",
       "version_major": 2,
       "version_minor": 0
      },
      "text/plain": [
       "HBox(children=(HTML(value='factor ranking'), FloatProgress(value=0.0, layout=Layout(flex='2'), max=2.0), HTML(…"
      ]
     },
     "metadata": {},
     "output_type": "display_data"
    },
    {
     "name": "stdout",
     "output_type": "stream",
     "text": [
      "\n"
     ]
    },
    {
     "data": {
      "application/vnd.jupyter.widget-view+json": {
       "model_id": "f95e1c367b75418790fc2261450fe09a",
       "version_major": 2,
       "version_minor": 0
      },
      "text/plain": [
       "HBox(children=(HTML(value='bootstrapping'), FloatProgress(value=0.0, layout=Layout(flex='2')), HTML(value=''))…"
      ]
     },
     "metadata": {},
     "output_type": "display_data"
    },
    {
     "name": "stdout",
     "output_type": "stream",
     "text": [
      "\n"
     ]
    }
   ],
   "source": [
    "experiment_1.run_online()"
   ]
  },
  {
   "cell_type": "markdown",
   "metadata": {},
   "source": [
    "When the G-VARS analysis completes, let's check out the results of sensitivity analysis."
   ]
  },
  {
   "cell_type": "markdown",
   "metadata": {},
   "source": [
    "**IVARS: Integrated variogram Across a Range of Scales.** IVARS for the scale ranges of interest. IVARS50 (h=[0-0.5]), called \"Total-Variogram Effect\" is the most comprehensive sensitivity index."
   ]
  },
  {
   "cell_type": "code",
   "execution_count": null,
   "metadata": {},
   "outputs": [],
   "source": [
    "cols = experiment_1.parameters.keys()\n",
    "experiment_1.ivars[cols]"
   ]
  },
  {
   "cell_type": "markdown",
   "metadata": {},
   "source": [
    "**VARS-TO: Sobol Total-Order Effect.** VARS-based estimates of Sobol variance-based sensitivity analysis."
   ]
  },
  {
   "cell_type": "code",
   "execution_count": null,
   "metadata": {},
   "outputs": [],
   "source": [
    "cols = experiment_1.parameters.keys()\n",
    "experiment_1.st.to_frame().T[cols]"
   ]
  },
  {
   "cell_type": "markdown",
   "metadata": {},
   "source": [
    "**VARS-ABE: Morris Mean Absolute Elementary Effect.** VARS-based estimates of Morris derivative-based sensitivity analysis.<br />\n",
    "In the derivative-based approach, the user needs to choose a delta (step size) for numerical estimation of derivatives. Recommended is to go with the smallest delta available here, which is equivalent to `delta_h`."
   ]
  },
  {
   "cell_type": "code",
   "execution_count": null,
   "metadata": {},
   "outputs": [],
   "source": [
    "delta_of_interest = experiment_1.maee.to_frame().unstack(level=0).index.min()\n",
    "delta_of_interest = 0.1\n",
    "experiment_1.maee.to_frame().unstack(level=0).loc[delta_of_interest].to_frame().T"
   ]
  },
  {
   "cell_type": "markdown",
   "metadata": {},
   "source": [
    "**Directional Variograms.**  For advanced users of VARS, directional variograms provide a wealth of information about the structure of the model response surface."
   ]
  },
  {
   "cell_type": "code",
   "execution_count": null,
   "metadata": {},
   "outputs": [],
   "source": [
    "cols = experiment_1.parameters.keys()\n",
    "experiment_1.gamma.unstack(0)[cols]"
   ]
  },
  {
   "cell_type": "markdown",
   "metadata": {},
   "source": [
    "**The fictive correlation matrix**"
   ]
  },
  {
   "cell_type": "code",
   "execution_count": null,
   "metadata": {},
   "outputs": [],
   "source": [
    "fictive_matrix = experiment_1.cov_mat\n",
    "cols = experiment_1.parameters.keys()\n",
    "pd.DataFrame(data = fictive_matrix, index = cols, columns = cols).round(decimals=2)"
   ]
  },
  {
   "cell_type": "markdown",
   "metadata": {},
   "source": [
    "All done!"
   ]
  }
 ],
 "metadata": {
  "kernelspec": {
   "display_name": "Python 3",
   "language": "python",
   "name": "python3"
  },
  "language_info": {
   "codemirror_mode": {
    "name": "ipython",
    "version": 3
   },
   "file_extension": ".py",
   "mimetype": "text/x-python",
   "name": "python",
   "nbconvert_exporter": "python",
   "pygments_lexer": "ipython3",
   "version": "3.8.5"
  }
 },
 "nbformat": 4,
 "nbformat_minor": 5
}
