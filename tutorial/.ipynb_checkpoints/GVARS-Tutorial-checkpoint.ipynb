{
 "cells": [
  {
   "cell_type": "markdown",
   "id": "a9f50bb0-a603-4cf9-b7b1-614eadd24656",
   "metadata": {},
   "source": [
    "# Handling Correlated Factors Using Generalized VARS (GVARS)"
   ]
  },
  {
   "cell_type": "markdown",
   "id": "ead9c2c2-fad9-4d08-991d-0ff3245649bd",
   "metadata": {},
   "source": [
    "## Install"
   ]
  },
  {
   "cell_type": "markdown",
   "id": "c2350110-8146-4cb4-80ab-c4ce10ee3869",
   "metadata": {},
   "source": [
    "This is a simple tutorial show casing GVARS functionalities that are being implement in Python. Let's install the latest VARS-TOOL package from GitHub: <br>\n",
    "\n",
    "note: if the loading bars are not working, simply turn them off or install a lower version of pandas by doing the following:\n",
    "`!pip install pandas==1.2.5`"
   ]
  },
  {
   "cell_type": "code",
   "execution_count": 2,
   "id": "6a7340ab-7935-4d9c-ae0c-5e3f271977cd",
   "metadata": {
    "scrolled": true
   },
   "outputs": [
    {
     "name": "stderr",
     "output_type": "stream",
     "text": [
      "'rm' is not recognized as an internal or external command,\n",
      "operable program or batch file.\n",
      "Cloning into 'vars-tool'...\n"
     ]
    },
    {
     "name": "stdout",
     "output_type": "stream",
     "text": [
      "Processing c:\\users\\corde\\giws\\vars-tool\\tutorial\\vars-tool\n",
      "  Installing build dependencies: started\n",
      "  Installing build dependencies: still running...\n",
      "  Installing build dependencies: finished with status 'done'\n",
      "  Getting requirements to build wheel: started\n",
      "  Getting requirements to build wheel: finished with status 'done'\n",
      "    Preparing wheel metadata: started\n",
      "    Preparing wheel metadata: finished with status 'done'\n",
      "Requirement already satisfied: joblib in c:\\users\\corde\\anaconda3\\lib\\site-packages (from varstool==2.1) (1.0.1)\n",
      "Requirement already satisfied: scipy in c:\\users\\corde\\anaconda3\\lib\\site-packages (from varstool==2.1) (1.6.2)\n",
      "Requirement already satisfied: pandas in c:\\users\\corde\\anaconda3\\lib\\site-packages (from varstool==2.1) (1.2.4)\n",
      "Requirement already satisfied: matplotlib in c:\\users\\corde\\anaconda3\\lib\\site-packages (from varstool==2.1) (3.3.4)\n",
      "Requirement already satisfied: tqdm in c:\\users\\corde\\anaconda3\\lib\\site-packages (from varstool==2.1) (4.59.0)\n",
      "Requirement already satisfied: numpy in c:\\users\\corde\\anaconda3\\lib\\site-packages (from varstool==2.1) (1.20.1)\n",
      "Requirement already satisfied: psutil in c:\\users\\corde\\anaconda3\\lib\\site-packages (from varstool==2.1) (5.8.0)\n",
      "Requirement already satisfied: mapply in c:\\users\\corde\\anaconda3\\lib\\site-packages (from varstool==2.1) (0.1.7)\n",
      "Requirement already satisfied: pathos>=0.2.0 in c:\\users\\corde\\anaconda3\\lib\\site-packages (from mapply->varstool==2.1) (0.2.8)\n",
      "Requirement already satisfied: multiprocess>=0.70.12 in c:\\users\\corde\\anaconda3\\lib\\site-packages (from pathos>=0.2.0->mapply->varstool==2.1) (0.70.12.2)\n",
      "Requirement already satisfied: ppft>=1.6.6.4 in c:\\users\\corde\\anaconda3\\lib\\site-packages (from pathos>=0.2.0->mapply->varstool==2.1) (1.6.6.4)\n",
      "Requirement already satisfied: pox>=0.3.0 in c:\\users\\corde\\anaconda3\\lib\\site-packages (from pathos>=0.2.0->mapply->varstool==2.1) (0.3.0)\n",
      "Requirement already satisfied: dill>=0.3.4 in c:\\users\\corde\\anaconda3\\lib\\site-packages (from pathos>=0.2.0->mapply->varstool==2.1) (0.3.4)\n",
      "Requirement already satisfied: six>=1.7.3 in c:\\users\\corde\\anaconda3\\lib\\site-packages (from ppft>=1.6.6.4->pathos>=0.2.0->mapply->varstool==2.1) (1.15.0)\n",
      "Requirement already satisfied: pyparsing!=2.0.4,!=2.1.2,!=2.1.6,>=2.0.3 in c:\\users\\corde\\anaconda3\\lib\\site-packages (from matplotlib->varstool==2.1) (2.4.7)\n",
      "Requirement already satisfied: kiwisolver>=1.0.1 in c:\\users\\corde\\anaconda3\\lib\\site-packages (from matplotlib->varstool==2.1) (1.3.1)\n",
      "Requirement already satisfied: python-dateutil>=2.1 in c:\\users\\corde\\anaconda3\\lib\\site-packages (from matplotlib->varstool==2.1) (2.8.1)\n",
      "Requirement already satisfied: cycler>=0.10 in c:\\users\\corde\\anaconda3\\lib\\site-packages (from matplotlib->varstool==2.1) (0.10.0)\n",
      "Requirement already satisfied: pillow>=6.2.0 in c:\\users\\corde\\anaconda3\\lib\\site-packages (from matplotlib->varstool==2.1) (8.2.0)\n",
      "Requirement already satisfied: pytz>=2017.3 in c:\\users\\corde\\anaconda3\\lib\\site-packages (from pandas->varstool==2.1) (2021.1)\n",
      "Building wheels for collected packages: varstool\n",
      "  Building wheel for varstool (PEP 517): started\n",
      "  Building wheel for varstool (PEP 517): finished with status 'done'\n",
      "  Created wheel for varstool: filename=varstool-2.1-py2.py3-none-any.whl size=421070 sha256=59ae970b8c0fa534f1ad8ba8772c8960e1edb919cf0055495759a008e67f35cd\n",
      "  Stored in directory: c:\\users\\corde\\appdata\\local\\pip\\cache\\wheels\\ea\\22\\e6\\94dfc4ddef885e03d97899daed3e63a6c2c3a1295f1b37f687\n",
      "Successfully built varstool\n",
      "Installing collected packages: varstool\n",
      "  Attempting uninstall: varstool\n",
      "    Found existing installation: varstool 2.1\n",
      "    Uninstalling varstool-2.1:\n",
      "      Successfully uninstalled varstool-2.1\n",
      "Successfully installed varstool-2.1\n",
      "Processing c:\\users\\corde\\giws\\vars-tool\\tutorial\\vars-tool\n",
      "  Installing build dependencies: started\n",
      "  Installing build dependencies: still running...\n",
      "  Installing build dependencies: finished with status 'done'\n",
      "  Getting requirements to build wheel: started\n",
      "  Getting requirements to build wheel: finished with status 'done'\n",
      "    Preparing wheel metadata: started\n",
      "    Preparing wheel metadata: finished with status 'done'\n",
      "Requirement already satisfied: psutil in c:\\users\\corde\\anaconda3\\lib\\site-packages (from varstool==2.1) (5.8.0)\n",
      "Requirement already satisfied: matplotlib in c:\\users\\corde\\anaconda3\\lib\\site-packages (from varstool==2.1) (3.3.4)\n",
      "Requirement already satisfied: pandas in c:\\users\\corde\\anaconda3\\lib\\site-packages (from varstool==2.1) (1.2.4)\n",
      "Requirement already satisfied: mapply in c:\\users\\corde\\anaconda3\\lib\\site-packages (from varstool==2.1) (0.1.7)\n",
      "Requirement already satisfied: scipy in c:\\users\\corde\\anaconda3\\lib\\site-packages (from varstool==2.1) (1.6.2)\n",
      "Requirement already satisfied: joblib in c:\\users\\corde\\anaconda3\\lib\\site-packages (from varstool==2.1) (1.0.1)\n",
      "Requirement already satisfied: tqdm in c:\\users\\corde\\anaconda3\\lib\\site-packages (from varstool==2.1) (4.59.0)\n",
      "Requirement already satisfied: numpy in c:\\users\\corde\\anaconda3\\lib\\site-packages (from varstool==2.1) (1.20.1)\n",
      "Requirement already satisfied: pathos>=0.2.0 in c:\\users\\corde\\anaconda3\\lib\\site-packages (from mapply->varstool==2.1) (0.2.8)\n",
      "Requirement already satisfied: pox>=0.3.0 in c:\\users\\corde\\anaconda3\\lib\\site-packages (from pathos>=0.2.0->mapply->varstool==2.1) (0.3.0)\n",
      "Requirement already satisfied: ppft>=1.6.6.4 in c:\\users\\corde\\anaconda3\\lib\\site-packages (from pathos>=0.2.0->mapply->varstool==2.1) (1.6.6.4)\n",
      "Requirement already satisfied: dill>=0.3.4 in c:\\users\\corde\\anaconda3\\lib\\site-packages (from pathos>=0.2.0->mapply->varstool==2.1) (0.3.4)\n",
      "Requirement already satisfied: multiprocess>=0.70.12 in c:\\users\\corde\\anaconda3\\lib\\site-packages (from pathos>=0.2.0->mapply->varstool==2.1) (0.70.12.2)\n",
      "Requirement already satisfied: six>=1.7.3 in c:\\users\\corde\\anaconda3\\lib\\site-packages (from ppft>=1.6.6.4->pathos>=0.2.0->mapply->varstool==2.1) (1.15.0)\n",
      "Requirement already satisfied: python-dateutil>=2.1 in c:\\users\\corde\\anaconda3\\lib\\site-packages (from matplotlib->varstool==2.1) (2.8.1)\n",
      "Requirement already satisfied: kiwisolver>=1.0.1 in c:\\users\\corde\\anaconda3\\lib\\site-packages (from matplotlib->varstool==2.1) (1.3.1)\n",
      "Requirement already satisfied: pillow>=6.2.0 in c:\\users\\corde\\anaconda3\\lib\\site-packages (from matplotlib->varstool==2.1) (8.2.0)\n",
      "Requirement already satisfied: cycler>=0.10 in c:\\users\\corde\\anaconda3\\lib\\site-packages (from matplotlib->varstool==2.1) (0.10.0)\n",
      "Requirement already satisfied: pyparsing!=2.0.4,!=2.1.2,!=2.1.6,>=2.0.3 in c:\\users\\corde\\anaconda3\\lib\\site-packages (from matplotlib->varstool==2.1) (2.4.7)\n",
      "Requirement already satisfied: pytz>=2017.3 in c:\\users\\corde\\anaconda3\\lib\\site-packages (from pandas->varstool==2.1) (2021.1)\n",
      "Building wheels for collected packages: varstool\n",
      "  Building wheel for varstool (PEP 517): started\n",
      "  Building wheel for varstool (PEP 517): finished with status 'done'\n",
      "  Created wheel for varstool: filename=varstool-2.1-py2.py3-none-any.whl size=421070 sha256=7c5bb2102cf95acff3a9be4cd0da6beb1895d2e6d797e6b3fbd07b1456b4fdf8\n",
      "  Stored in directory: c:\\users\\corde\\appdata\\local\\pip\\cache\\wheels\\ea\\22\\e6\\94dfc4ddef885e03d97899daed3e63a6c2c3a1295f1b37f687\n",
      "Successfully built varstool\n",
      "Installing collected packages: varstool\n",
      "  Attempting uninstall: varstool\n",
      "    Found existing installation: varstool 2.1\n",
      "    Uninstalling varstool-2.1:\n",
      "      Successfully uninstalled varstool-2.1\n",
      "Successfully installed varstool-2.1\n"
     ]
    }
   ],
   "source": [
    "!rm -rf vars-tool\n",
    "!git clone https://github.com/vars-tool/vars-tool\n",
    "!pip install vars-tool/."
   ]
  },
  {
   "cell_type": "markdown",
   "id": "cd59eebe-7925-4dc9-977b-a73b2165e9b3",
   "metadata": {},
   "source": [
    "## Example using the Wavy6D model"
   ]
  },
  {
   "cell_type": "markdown",
   "id": "4250f82b-b08d-40c5-b669-2426defa1731",
   "metadata": {},
   "source": [
    "The online mode of VARS tool is where the models are ran in the GVARS analysis\n",
    "\n",
    "Let's import GVARS for the analysis and the Model class for creating a wrapper around the desired model so that it can be inputted into GVARS"
   ]
  },
  {
   "cell_type": "code",
   "execution_count": 3,
   "id": "67e9759a-c8be-4fbb-b77f-9dadaf80a7a8",
   "metadata": {},
   "outputs": [],
   "source": [
    "# importing VARS and Model from varstool package\n",
    "from varstool import GVARS, Model\n",
    "\n",
    "# Loading the \"HBV_SASK\" model that is included in this package\n",
    "from varstool.funcs import HBV_SASK\n",
    "\n",
    "# these are being imported in order for us to display the data nicely on the notebook\n",
    "import numpy as np\n",
    "import pandas as pd"
   ]
  },
  {
   "cell_type": "markdown",
   "id": "3829b08d-92ae-4e9a-bef9-1dd74128cd17",
   "metadata": {},
   "source": [
    "Here is a quick function definition of the wavy6D model:"
   ]
  },
  {
   "cell_type": "code",
   "execution_count": 4,
   "id": "6181d782-a99e-4e61-ae2e-b7973b09145e",
   "metadata": {},
   "outputs": [],
   "source": [
    "def wavy6D(x):\n",
    "    '''wavy6D test function'''\n",
    "    \n",
    "# The features include:             \n",
    "# (1) The 6 input factors are non-interacting                  \n",
    "# (2) The function is \"wavy\" along the first 5 dimensions but with different \n",
    "#     frequencies and amplitude at different directions                                     \n",
    "# (3) The last dimension (X6) is fully isensitive (dummy variable)                                         \n",
    "# (4) It possess large-scale features such multi-modality (X1) \n",
    "#     to small-scale features such as roughness (X3)          \n",
    "# (5) The directional variograms of X1 and X2 cross each other\n",
    "    \n",
    "    # check whether the input x is a dataframe\n",
    "    \n",
    "    if not isinstance(x, (pd.core.frame.DataFrame, pd.core.series.Series, np.ndarray, list)):\n",
    "        raise TypeError('`x` must be of type pandas.DataFrame, numpy.ndarray, pd.Series, or list')\n",
    "    \n",
    "    if len(x) > 6:\n",
    "        raise ValueError('`x` must have only five arguments at a time')\n",
    "    \n",
    "    y1 = -1*np.sin(2*np.pi*x[0]/2) - 0.3*np.sin(2*np.pi*x[0]/0.6)\n",
    "    y2 = 0.76*(-1*np.sin(2*np.pi*(x[1]-0.2)/2)) - 0.315\n",
    "    y3 = 0.12*(-1*np.sin(2*np.pi*(x[2]-0.2)/1.9)) + 0.02*(-1*np.sin(2*np.pi*x[2]/0.021)) - 0.96\n",
    "    y4 = 0.12*(-1*np.sin(2*np.pi*(x[3]-0.2)/1.9))-0.97\n",
    "    y5 = 0.05*(-1*np.sin(2*np.pi*(x[4]-0.2)/2))-1.02\n",
    "    y6 = -1.08\n",
    "\n",
    "    return y1 + y2 + y3 + y4 + y5 + y6"
   ]
  },
  {
   "cell_type": "markdown",
   "id": "7eec5c13-ca97-4379-a0c5-bd9b8498f5c9",
   "metadata": {},
   "source": [
    "Here is a quick function definition of the Ishigami model:"
   ]
  },
  {
   "cell_type": "code",
   "execution_count": 5,
   "id": "934e5170-7499-4afa-ab52-8efdd3fc3b08",
   "metadata": {},
   "outputs": [],
   "source": [
    "def ishigami(x, a=7, b=0.1):\n",
    "    '''Ishigami test function'''\n",
    "    # check whether the input x is a dataframe\n",
    "    \n",
    "    if not isinstance(x, (pd.core.frame.DataFrame, pd.core.series.Series, np.ndarray, list)):\n",
    "        raise TypeError('`x` must be of type pandas.DataFrame, numpy.ndarray, pd.Series, or list')\n",
    "    \n",
    "    if len(x) > 3:\n",
    "        raise ValueError('`x` must have only three arguments at a time')\n",
    "    \n",
    "    return np.sin(x[0]) + a*(np.sin(x[1])**2) + b*(x[2]**4)*np.sin(x[0])"
   ]
  },
  {
   "cell_type": "markdown",
   "id": "0af42338-d9d5-48f0-8615-b99ccfc96622",
   "metadata": {},
   "source": [
    "Here is a quick function definition of the first example model from the GVARS research paper:"
   ]
  },
  {
   "cell_type": "code",
   "execution_count": 6,
   "id": "e4bb96c5-985f-4162-b468-a56c12ed9cb5",
   "metadata": {},
   "outputs": [],
   "source": [
    "def example_1(x):\n",
    "    '''example 1 test function'''\n",
    "    # check whether the input x is a dataframe\n",
    "    \n",
    "    if not isinstance(x, (pd.core.frame.DataFrame, pd.core.series.Series, np.ndarray, list)):\n",
    "        raise TypeError('`x` must be of type pandas.DataFrame, numpy.ndarray, pd.Series, or list')\n",
    "    \n",
    "    if len(x) > 2:\n",
    "        raise ValueError('`x` must have only three arguments at a time')\n",
    "    \n",
    "    return 1.11*(x[0]**2) + x[1]**2 - 0.2*np.cos(7*np.pi*x[1])"
   ]
  },
  {
   "cell_type": "markdown",
   "id": "8648c4e2-18f5-452e-adab-f7aaf07576aa",
   "metadata": {},
   "source": [
    "As mentioned previously The `Model` class is a wrapper for custom functions(models) in the online version of GVARS. However, the first paramter of every function must accept an array of parameters\n",
    "\n",
    "Here we will create two wrappers for the testing models ishigami (for offline example) and wavy6D (for online example) :"
   ]
  },
  {
   "cell_type": "code",
   "execution_count": 7,
   "id": "5b138169-2fea-4d27-a906-94c334250a59",
   "metadata": {},
   "outputs": [],
   "source": [
    "ishigami_model = Model(ishigami)"
   ]
  },
  {
   "cell_type": "code",
   "execution_count": 8,
   "id": "c635db0d-39ba-401f-af1f-7eb108e0889d",
   "metadata": {},
   "outputs": [],
   "source": [
    "wavy6D_model = Model(wavy6D)"
   ]
  },
  {
   "cell_type": "markdown",
   "id": "3865e5c3-d234-47bc-8722-355e8cc89ff7",
   "metadata": {},
   "source": [
    "When creating an experiment you will need to assign a variable to an instance of GVARS as shown below.\n",
    "\n",
    "The attributes of the GVARS class are described as:\n",
    "\n",
    "**paramaters**: the name of each paramter along with the following\n",
    "specifications, in the following order: <br>\n",
    "for `uniform` distributions: <br>\n",
    "parameter name : *lower bound*, *upper bound*, *None*, `unif` <br> <br>\n",
    "for `triangle` distributions: <br>\n",
    "parameter name : *lower bound*, *upper bound*, *c*, `triangle` <br> <br>\n",
    "for `normal` distributions: <br>\n",
    "parameter name : *mean*, *standard deviation*, *None*, `norm` <br> <br>\n",
    "for `lognormal` distributions: <br>\n",
    "parameter name: *mean*, *standard deviation*, *None*, `lognorm` <br> <br>\n",
    "for `exponential` distributions: <br>\n",
    "parameter name: *mean*, *standard deviation*, *None*, `expo` <br> <br>\n",
    "for `generalized extreme value` distributions: <br>\n",
    "parameter name: *location*, *scale*, *shape*, `gev` <br>\n",
    "\n",
    "**corr_mat**: the correlation matrix which describes the correlation between parameters (**must be a numpy array**)\n",
    "\n",
    "**num_stars**: the total number of star samples that are desired for GSTAR-VARS analysis\n",
    "\n",
    "**num_dir_samples**: the number of directional samples per star sample\n",
    "\n",
    "**delta_h**: the sampling resolution of the GVARS analysis\n",
    "\n",
    "**ivars_scales**: the scales that are to be used when doing IVARS, e.g, 0.1 and 0.3 correspond (0-0.1) and (0-0.3) <br /> note: can not have a scale larger then 0.5\n",
    "\n",
    "**model**: the wrapper of your model you made when using the `Model` class\n",
    "\n",
    "**bootstrap_flag**: this is a True/False value that specifies if bootstrapping will be used in the GVARS analysis\n",
    "\n",
    "**bootstrap_size**: the number of sampling iterations with replacement\n",
    "\n",
    "**bootstrap_ci**: the bootstrap-based confidence interval on results\n",
    "\n",
    "**grouping_flag**: this is a True/False value that specifies if paramater grouping will be used in the VARS analysis\n",
    "\n",
    "**num_grps**: the number of groups you want to split your paramaters into, if left blank the optimal number of groups will be calculated by VARS\n",
    "\n",
    "**report_verbose**: this is a True/False value that if True will display a loading bar to show the progession of the GVARS analysis, else there will be no progression loading bar"
   ]
  },
  {
   "cell_type": "markdown",
   "id": "04740a5b-dbe3-4b91-b289-7d45a04f502d",
   "metadata": {},
   "source": [
    "Create `experiment_1` then initialize the values needed to run a GVARS analysis:\n",
    "\n",
    "`experiment_1` is an instance of GVARS that is using the wavy6D model"
   ]
  },
  {
   "cell_type": "code",
   "execution_count": 9,
   "id": "c6726bb4-b695-43e1-bbdb-621bfa3dd9e7",
   "metadata": {},
   "outputs": [],
   "source": [
    "experiment_1 = GVARS(parameters = {'x1': (-3.14, 3.14, None, 'unif'), \n",
    "                                  'x2': (-3.14, 3.14, None, 'unif'), \n",
    "                                  'x3': (-3.14, 3.14, None, 'unif'),\n",
    "                                  'x4': (0, 1, None, 'unif'),\n",
    "                                  'x5': (0, 1, None, 'unif'),\n",
    "                                  'x6': (0, 1, None, 'unif')},\n",
    "                    corr_mat = np.array([[1, 0, 0.8, 0, 0, 0],\n",
    "                                [0, 1, 0, 0, 0, 0],\n",
    "                                [0.8, 0, 1, 0, 0, 0],\n",
    "                                [0, 0, 0, 1, 0, 0],\n",
    "                                [0, 0, 0, 0, 1, 0],\n",
    "                                [0, 0, 0, 0, 0, 1]]),\n",
    "                    num_stars=100,\n",
    "                    num_dir_samples=10,\n",
    "                    delta_h = 0.1,\n",
    "                    ivars_scales = (0.1, 0.3, 0.5),\n",
    "                    model = wavy6D_model,\n",
    "                    seed = 1234,\n",
    "                    bootstrap_flag = True,\n",
    "                    bootstrap_size = 100,\n",
    "                    bootstrap_ci=0.9,\n",
    "                    grouping_flag=True,\n",
    "                    num_grps=3,\n",
    "                    report_verbose=True,\n",
    "                )"
   ]
  },
  {
   "cell_type": "markdown",
   "id": "507f6d42-0f9e-4909-a2dd-83dc7aedece5",
   "metadata": {},
   "source": [
    "A report displaying the current status of the GVARS analysis can be found by typing in the variable name of the instance you created, here this is `experiment_1`"
   ]
  },
  {
   "cell_type": "code",
   "execution_count": 10,
   "id": "ecb3ad96-55e5-4264-ba7f-fac58161d428",
   "metadata": {},
   "outputs": [
    {
     "data": {
      "text/plain": [
       "Star Centres: Not Loaded\n",
       "Star Points: Not Loaded\n",
       "Parameters: 6 paremeters set\n",
       "Delta h: 0.1\n",
       "Model: wavy6D\n",
       "Seed Number: 1234\n",
       "Bootstrap: On\n",
       "Bootstrap Size: 100\n",
       "Bootstrap CI: 0.9\n",
       "Grouping: On\n",
       "Number of Groups: 3\n",
       "Verbose: On\n",
       "GVARS Analysis: Not Done"
      ]
     },
     "execution_count": 10,
     "metadata": {},
     "output_type": "execute_result"
    }
   ],
   "source": [
    "experiment_1"
   ]
  },
  {
   "cell_type": "markdown",
   "id": "8c66d634-58e8-401b-829f-ec6479306939",
   "metadata": {},
   "source": [
    "To run the GVARS analysis we can simply do the following:"
   ]
  },
  {
   "cell_type": "code",
   "execution_count": 11,
   "id": "540ef2aa-40ab-4b25-9e1e-01fca7c7150b",
   "metadata": {},
   "outputs": [
    {
     "data": {
      "application/vnd.jupyter.widget-view+json": {
       "model_id": "1dc841ad84a64cf5a13077860739d10e",
       "version_major": 2,
       "version_minor": 0
      },
      "text/plain": [
       "generating star points:   0%|          | 0/9 [00:00<?, ?it/s]"
      ]
     },
     "metadata": {},
     "output_type": "display_data"
    },
    {
     "data": {
      "application/vnd.jupyter.widget-view+json": {
       "model_id": "d104d7a28b5d4b9e95ddda69d61b4a36",
       "version_major": 2,
       "version_minor": 0
      },
      "text/plain": [
       "function evaluation:   0%|          | 0/6000 [00:00<?, ?it/s]"
      ]
     },
     "metadata": {},
     "output_type": "display_data"
    },
    {
     "data": {
      "application/vnd.jupyter.widget-view+json": {
       "model_id": "ea09ab714278408a8d3ff0eebb44e9a2",
       "version_major": 2,
       "version_minor": 0
      },
      "text/plain": [
       "building pairs:   0%|          | 0/600 [00:00<?, ?it/s]"
      ]
     },
     "metadata": {},
     "output_type": "display_data"
    },
    {
     "data": {
      "application/vnd.jupyter.widget-view+json": {
       "model_id": "30fca4817d9f49b6b0313ccbc50dee23",
       "version_major": 2,
       "version_minor": 0
      },
      "text/plain": [
       "calculating 'h' values:   0%|          | 0/100 [00:00<?, ?it/s]"
      ]
     },
     "metadata": {},
     "output_type": "display_data"
    },
    {
     "data": {
      "application/vnd.jupyter.widget-view+json": {
       "model_id": "6a0ea0baa4294e5a82dcd74b4c51f6f2",
       "version_major": 2,
       "version_minor": 0
      },
      "text/plain": [
       "binning and reording pairs based on 'h' values:   0%|          | 0/2 [00:00<?, ?it/s]"
      ]
     },
     "metadata": {},
     "output_type": "display_data"
    },
    {
     "data": {
      "application/vnd.jupyter.widget-view+json": {
       "model_id": "2eb097223361410d88cc940d3576267d",
       "version_major": 2,
       "version_minor": 0
      },
      "text/plain": [
       "VARS analysis:   0%|          | 0/10 [00:00<?, ?it/s]"
      ]
     },
     "metadata": {},
     "output_type": "display_data"
    },
    {
     "data": {
      "application/vnd.jupyter.widget-view+json": {
       "model_id": "63b77267d8274b298644ee2ea2f445d9",
       "version_major": 2,
       "version_minor": 0
      },
      "text/plain": [
       "factor ranking:   0%|          | 0/2 [00:00<?, ?it/s]"
      ]
     },
     "metadata": {},
     "output_type": "display_data"
    },
    {
     "data": {
      "application/vnd.jupyter.widget-view+json": {
       "model_id": "be490e2b110a4bce97762d9eb1eef51d",
       "version_major": 2,
       "version_minor": 0
      },
      "text/plain": [
       "bootstrapping:   0%|          | 0/100 [00:00<?, ?it/s]"
      ]
     },
     "metadata": {},
     "output_type": "display_data"
    }
   ],
   "source": [
    "experiment_1.run_online()"
   ]
  },
  {
   "cell_type": "markdown",
   "id": "5d04bb59-badb-4e63-aba7-85febd5757b7",
   "metadata": {},
   "source": [
    "Now if we take a look at the status report again we can see that the `GVARS Analysis` is now done."
   ]
  },
  {
   "cell_type": "code",
   "execution_count": 12,
   "id": "a5847970-9bc5-4b80-9621-1d29a4a88402",
   "metadata": {},
   "outputs": [
    {
     "data": {
      "text/plain": [
       "Star Centres: 100 Centers Loaded\n",
       "Star Points: Loaded 100 stars with 10 directional samples\n",
       "Parameters: 6 paremeters set\n",
       "Delta h: 0.1\n",
       "Model: wavy6D\n",
       "Seed Number: 1234\n",
       "Bootstrap: On\n",
       "Bootstrap Size: 100\n",
       "Bootstrap CI: 0.9\n",
       "Grouping: On\n",
       "Number of Groups: 3\n",
       "Verbose: On\n",
       "GVARS Analysis: Done"
      ]
     },
     "execution_count": 12,
     "metadata": {},
     "output_type": "execute_result"
    }
   ],
   "source": [
    "experiment_1"
   ]
  },
  {
   "cell_type": "markdown",
   "id": "e1eaab8a-7d6e-4a90-a266-52d82b465809",
   "metadata": {},
   "source": [
    "**Standard Plots**\n",
    "\n",
    "Users can create their own plots from the resulting dataframes, but there is also access to the two plots given by the GVARS program. They can be shown by doing the following:\n",
    "\n",
    "note: if bootstrapping is done the confidence interval limits for the ivars50 and sobol results will be shown in the bar plot\n",
    "\n",
    "note: to display the variogram plot with the y axis in the logscale change the logy paramater to `True`\n",
    "\n",
    "note: the plot function returns the resulting plots axes, and the barchart figure incase the user wants to edit the plots"
   ]
  },
  {
   "cell_type": "code",
   "execution_count": 13,
   "id": "ed9293d1-af44-4646-97e6-57a883036c24",
   "metadata": {},
   "outputs": [
    {
     "data": {
      "image/png": "[encoded data removed]",
      "text/plain": [
       "<Figure size 432x288 with 1 Axes>"
      ]
     },
     "metadata": {
      "needs_background": "light"
     },
     "output_type": "display_data"
    },
    {
     "data": {
      "image/png": "[encoded data removed]",
      "text/plain": [
       "<Figure size 432x288 with 1 Axes>"
      ]
     },
     "metadata": {
      "needs_background": "light"
     },
     "output_type": "display_data"
    }
   ],
   "source": [
    "varsax, barfig, barax = experiment_1.plot(logy=False)"
   ]
  },
  {
   "cell_type": "markdown",
   "id": "1bc1162d-6e65-44ae-9e89-b119e2d66fad",
   "metadata": {},
   "source": [
    "**Correlation Plot**\n",
    "\n",
    "Users can see the correlation between two parameters by using the `correlation_plot` method. This method will display the star centres and star points for each parameter\n",
    "\n",
    "Inputs: <br/>\n",
    "`param_names`: list or array containing the names of the two desired parameters to be plotted\n",
    "\n"
   ]
  },
  {
   "cell_type": "code",
   "execution_count": 14,
   "id": "a77dcf8e-ee35-4930-a36e-9dd565500094",
   "metadata": {},
   "outputs": [
    {
     "data": {
      "text/plain": [
       "<AxesSubplot:title={'center':'Star Points'}, xlabel='x1', ylabel='x2'>"
      ]
     },
     "execution_count": 14,
     "metadata": {},
     "output_type": "execute_result"
    },
    {
     "data": {
      "image/png": "[encoded data removed]",
      "text/plain": [
       "<Figure size 864x576 with 1 Axes>"
      ]
     },
     "metadata": {
      "needs_background": "light"
     },
     "output_type": "display_data"
    }
   ],
   "source": [
    "names = ['x1', 'x2']\n",
    "experiment_1.correlation_plot(param_names=names)"
   ]
  },
  {
   "cell_type": "markdown",
   "id": "d9bb22a2-69b0-49eb-96bf-696d4a324909",
   "metadata": {},
   "source": [
    "**Educational Outputs** <br/>\n",
    "*these outputs can be used to analyze the program on a deeper level*"
   ]
  },
  {
   "cell_type": "markdown",
   "id": "8d163722-7f94-4a85-81c3-e9b566ed1338",
   "metadata": {},
   "source": [
    "The star centre samples"
   ]
  },
  {
   "cell_type": "code",
   "execution_count": 16,
   "id": "fad91f02-c5ac-4e10-90cd-936ced681978",
   "metadata": {},
   "outputs": [],
   "source": [
    "experiment_1.star_centres"
   ]
  },
  {
   "cell_type": "markdown",
   "id": "bf972d78-1ad4-435d-9bd3-52ef91933bc6",
   "metadata": {},
   "source": [
    "Dataframe containing star points"
   ]
  },
  {
   "cell_type": "code",
   "execution_count": 17,
   "id": "7577718d-9264-44a3-8851-a5de2664065f",
   "metadata": {},
   "outputs": [
    {
     "data": {
      "text/html": [
       "<div>\n",
       "<style scoped>\n",
       "    .dataframe tbody tr th:only-of-type {\n",
       "        vertical-align: middle;\n",
       "    }\n",
       "\n",
       "    .dataframe tbody tr th {\n",
       "        vertical-align: top;\n",
       "    }\n",
       "\n",
       "    .dataframe thead th {\n",
       "        text-align: right;\n",
       "    }\n",
       "</style>\n",
       "<table border=\"1\" class=\"dataframe\">\n",
       "  <thead>\n",
       "    <tr style=\"text-align: right;\">\n",
       "      <th></th>\n",
       "      <th></th>\n",
       "      <th></th>\n",
       "      <th>0</th>\n",
       "      <th>1</th>\n",
       "      <th>2</th>\n",
       "      <th>3</th>\n",
       "      <th>4</th>\n",
       "      <th>5</th>\n",
       "    </tr>\n",
       "    <tr>\n",
       "      <th>centre</th>\n",
       "      <th>param</th>\n",
       "      <th>points</th>\n",
       "      <th></th>\n",
       "      <th></th>\n",
       "      <th></th>\n",
       "      <th></th>\n",
       "      <th></th>\n",
       "      <th></th>\n",
       "    </tr>\n",
       "  </thead>\n",
       "  <tbody>\n",
       "    <tr>\n",
       "      <th rowspan=\"5\" valign=\"top\">0</th>\n",
       "      <th rowspan=\"5\" valign=\"top\">x1</th>\n",
       "      <th>0</th>\n",
       "      <td>0.929082</td>\n",
       "      <td>-1.352679</td>\n",
       "      <td>-1.154738</td>\n",
       "      <td>0.601494</td>\n",
       "      <td>0.000330</td>\n",
       "      <td>0.644623</td>\n",
       "    </tr>\n",
       "    <tr>\n",
       "      <th>1</th>\n",
       "      <td>1.799192</td>\n",
       "      <td>-1.352679</td>\n",
       "      <td>-1.154738</td>\n",
       "      <td>0.601494</td>\n",
       "      <td>0.000330</td>\n",
       "      <td>0.644623</td>\n",
       "    </tr>\n",
       "    <tr>\n",
       "      <th>2</th>\n",
       "      <td>3.065414</td>\n",
       "      <td>-1.352679</td>\n",
       "      <td>-1.154738</td>\n",
       "      <td>0.601494</td>\n",
       "      <td>0.000330</td>\n",
       "      <td>0.644623</td>\n",
       "    </tr>\n",
       "    <tr>\n",
       "      <th>3</th>\n",
       "      <td>-2.890500</td>\n",
       "      <td>-1.352679</td>\n",
       "      <td>-1.154738</td>\n",
       "      <td>0.601494</td>\n",
       "      <td>0.000330</td>\n",
       "      <td>0.644623</td>\n",
       "    </tr>\n",
       "    <tr>\n",
       "      <th>4</th>\n",
       "      <td>-2.581699</td>\n",
       "      <td>-1.352679</td>\n",
       "      <td>-1.154738</td>\n",
       "      <td>0.601494</td>\n",
       "      <td>0.000330</td>\n",
       "      <td>0.644623</td>\n",
       "    </tr>\n",
       "    <tr>\n",
       "      <th>...</th>\n",
       "      <th>...</th>\n",
       "      <th>...</th>\n",
       "      <td>...</td>\n",
       "      <td>...</td>\n",
       "      <td>...</td>\n",
       "      <td>...</td>\n",
       "      <td>...</td>\n",
       "      <td>...</td>\n",
       "    </tr>\n",
       "    <tr>\n",
       "      <th rowspan=\"5\" valign=\"top\">99</th>\n",
       "      <th rowspan=\"5\" valign=\"top\">x6</th>\n",
       "      <th>5</th>\n",
       "      <td>2.593749</td>\n",
       "      <td>-0.124879</td>\n",
       "      <td>-2.836601</td>\n",
       "      <td>0.816589</td>\n",
       "      <td>0.946802</td>\n",
       "      <td>0.691515</td>\n",
       "    </tr>\n",
       "    <tr>\n",
       "      <th>6</th>\n",
       "      <td>2.593749</td>\n",
       "      <td>-0.124879</td>\n",
       "      <td>-2.836601</td>\n",
       "      <td>0.816589</td>\n",
       "      <td>0.946802</td>\n",
       "      <td>0.159078</td>\n",
       "    </tr>\n",
       "    <tr>\n",
       "      <th>7</th>\n",
       "      <td>2.593749</td>\n",
       "      <td>-0.124879</td>\n",
       "      <td>-2.836601</td>\n",
       "      <td>0.816589</td>\n",
       "      <td>0.946802</td>\n",
       "      <td>0.641367</td>\n",
       "    </tr>\n",
       "    <tr>\n",
       "      <th>8</th>\n",
       "      <td>2.593749</td>\n",
       "      <td>-0.124879</td>\n",
       "      <td>-2.836601</td>\n",
       "      <td>0.816589</td>\n",
       "      <td>0.946802</td>\n",
       "      <td>0.888764</td>\n",
       "    </tr>\n",
       "    <tr>\n",
       "      <th>9</th>\n",
       "      <td>2.593749</td>\n",
       "      <td>-0.124879</td>\n",
       "      <td>-2.836601</td>\n",
       "      <td>0.816589</td>\n",
       "      <td>0.946802</td>\n",
       "      <td>0.155296</td>\n",
       "    </tr>\n",
       "  </tbody>\n",
       "</table>\n",
       "<p>6000 rows × 6 columns</p>\n",
       "</div>"
      ],
      "text/plain": [
       "                            0         1         2         3         4  \\\n",
       "centre param points                                                     \n",
       "0      x1    0       0.929082 -1.352679 -1.154738  0.601494  0.000330   \n",
       "             1       1.799192 -1.352679 -1.154738  0.601494  0.000330   \n",
       "             2       3.065414 -1.352679 -1.154738  0.601494  0.000330   \n",
       "             3      -2.890500 -1.352679 -1.154738  0.601494  0.000330   \n",
       "             4      -2.581699 -1.352679 -1.154738  0.601494  0.000330   \n",
       "...                       ...       ...       ...       ...       ...   \n",
       "99     x6    5       2.593749 -0.124879 -2.836601  0.816589  0.946802   \n",
       "             6       2.593749 -0.124879 -2.836601  0.816589  0.946802   \n",
       "             7       2.593749 -0.124879 -2.836601  0.816589  0.946802   \n",
       "             8       2.593749 -0.124879 -2.836601  0.816589  0.946802   \n",
       "             9       2.593749 -0.124879 -2.836601  0.816589  0.946802   \n",
       "\n",
       "                            5  \n",
       "centre param points            \n",
       "0      x1    0       0.644623  \n",
       "             1       0.644623  \n",
       "             2       0.644623  \n",
       "             3       0.644623  \n",
       "             4       0.644623  \n",
       "...                       ...  \n",
       "99     x6    5       0.691515  \n",
       "             6       0.159078  \n",
       "             7       0.641367  \n",
       "             8       0.888764  \n",
       "             9       0.155296  \n",
       "\n",
       "[6000 rows x 6 columns]"
      ]
     },
     "execution_count": 17,
     "metadata": {},
     "output_type": "execute_result"
    }
   ],
   "source": [
    "experiment_1.star_points"
   ]
  },
  {
   "cell_type": "markdown",
   "id": "860744d2-96b3-41aa-ab74-da0edf5e9307",
   "metadata": {},
   "source": [
    "Dataframe containig the star points along with the models output"
   ]
  },
  {
   "cell_type": "code",
   "execution_count": 18,
   "id": "f65404bb-2118-4097-9804-68e975274c7e",
   "metadata": {},
   "outputs": [
    {
     "data": {
      "text/html": [
       "<div>\n",
       "<style scoped>\n",
       "    .dataframe tbody tr th:only-of-type {\n",
       "        vertical-align: middle;\n",
       "    }\n",
       "\n",
       "    .dataframe tbody tr th {\n",
       "        vertical-align: top;\n",
       "    }\n",
       "\n",
       "    .dataframe thead th {\n",
       "        text-align: right;\n",
       "    }\n",
       "</style>\n",
       "<table border=\"1\" class=\"dataframe\">\n",
       "  <thead>\n",
       "    <tr style=\"text-align: right;\">\n",
       "      <th></th>\n",
       "      <th></th>\n",
       "      <th></th>\n",
       "      <th>0</th>\n",
       "      <th>1</th>\n",
       "      <th>2</th>\n",
       "      <th>3</th>\n",
       "      <th>4</th>\n",
       "      <th>5</th>\n",
       "      <th>wavy6D</th>\n",
       "    </tr>\n",
       "    <tr>\n",
       "      <th>centre</th>\n",
       "      <th>param</th>\n",
       "      <th>points</th>\n",
       "      <th></th>\n",
       "      <th></th>\n",
       "      <th></th>\n",
       "      <th></th>\n",
       "      <th></th>\n",
       "      <th></th>\n",
       "      <th></th>\n",
       "    </tr>\n",
       "  </thead>\n",
       "  <tbody>\n",
       "    <tr>\n",
       "      <th rowspan=\"5\" valign=\"top\">0</th>\n",
       "      <th rowspan=\"5\" valign=\"top\">x1</th>\n",
       "      <th>0</th>\n",
       "      <td>0.929082</td>\n",
       "      <td>-1.352679</td>\n",
       "      <td>-1.154738</td>\n",
       "      <td>0.601494</td>\n",
       "      <td>0.000330</td>\n",
       "      <td>0.644623</td>\n",
       "      <td>-5.431083</td>\n",
       "    </tr>\n",
       "    <tr>\n",
       "      <th>1</th>\n",
       "      <td>1.799192</td>\n",
       "      <td>-1.352679</td>\n",
       "      <td>-1.154738</td>\n",
       "      <td>0.601494</td>\n",
       "      <td>0.000330</td>\n",
       "      <td>0.644623</td>\n",
       "      <td>-4.707706</td>\n",
       "    </tr>\n",
       "    <tr>\n",
       "      <th>2</th>\n",
       "      <td>3.065414</td>\n",
       "      <td>-1.352679</td>\n",
       "      <td>-1.154738</td>\n",
       "      <td>0.601494</td>\n",
       "      <td>0.000330</td>\n",
       "      <td>0.644623</td>\n",
       "      <td>-5.285825</td>\n",
       "    </tr>\n",
       "    <tr>\n",
       "      <th>3</th>\n",
       "      <td>-2.890500</td>\n",
       "      <td>-1.352679</td>\n",
       "      <td>-1.154738</td>\n",
       "      <td>0.601494</td>\n",
       "      <td>0.000330</td>\n",
       "      <td>0.644623</td>\n",
       "      <td>-5.236243</td>\n",
       "    </tr>\n",
       "    <tr>\n",
       "      <th>4</th>\n",
       "      <td>-2.581699</td>\n",
       "      <td>-1.352679</td>\n",
       "      <td>-1.154738</td>\n",
       "      <td>0.601494</td>\n",
       "      <td>0.000330</td>\n",
       "      <td>0.644623</td>\n",
       "      <td>-4.049217</td>\n",
       "    </tr>\n",
       "    <tr>\n",
       "      <th>...</th>\n",
       "      <th>...</th>\n",
       "      <th>...</th>\n",
       "      <td>...</td>\n",
       "      <td>...</td>\n",
       "      <td>...</td>\n",
       "      <td>...</td>\n",
       "      <td>...</td>\n",
       "      <td>...</td>\n",
       "      <td>...</td>\n",
       "    </tr>\n",
       "    <tr>\n",
       "      <th rowspan=\"5\" valign=\"top\">99</th>\n",
       "      <th rowspan=\"5\" valign=\"top\">x6</th>\n",
       "      <th>5</th>\n",
       "      <td>2.593749</td>\n",
       "      <td>-0.124879</td>\n",
       "      <td>-2.836601</td>\n",
       "      <td>0.816589</td>\n",
       "      <td>0.946802</td>\n",
       "      <td>0.691515</td>\n",
       "      <td>-5.126162</td>\n",
       "    </tr>\n",
       "    <tr>\n",
       "      <th>6</th>\n",
       "      <td>2.593749</td>\n",
       "      <td>-0.124879</td>\n",
       "      <td>-2.836601</td>\n",
       "      <td>0.816589</td>\n",
       "      <td>0.946802</td>\n",
       "      <td>0.159078</td>\n",
       "      <td>-5.126162</td>\n",
       "    </tr>\n",
       "    <tr>\n",
       "      <th>7</th>\n",
       "      <td>2.593749</td>\n",
       "      <td>-0.124879</td>\n",
       "      <td>-2.836601</td>\n",
       "      <td>0.816589</td>\n",
       "      <td>0.946802</td>\n",
       "      <td>0.641367</td>\n",
       "      <td>-5.126162</td>\n",
       "    </tr>\n",
       "    <tr>\n",
       "      <th>8</th>\n",
       "      <td>2.593749</td>\n",
       "      <td>-0.124879</td>\n",
       "      <td>-2.836601</td>\n",
       "      <td>0.816589</td>\n",
       "      <td>0.946802</td>\n",
       "      <td>0.888764</td>\n",
       "      <td>-5.126162</td>\n",
       "    </tr>\n",
       "    <tr>\n",
       "      <th>9</th>\n",
       "      <td>2.593749</td>\n",
       "      <td>-0.124879</td>\n",
       "      <td>-2.836601</td>\n",
       "      <td>0.816589</td>\n",
       "      <td>0.946802</td>\n",
       "      <td>0.155296</td>\n",
       "      <td>-5.126162</td>\n",
       "    </tr>\n",
       "  </tbody>\n",
       "</table>\n",
       "<p>6000 rows × 7 columns</p>\n",
       "</div>"
      ],
      "text/plain": [
       "                            0         1         2         3         4  \\\n",
       "centre param points                                                     \n",
       "0      x1    0       0.929082 -1.352679 -1.154738  0.601494  0.000330   \n",
       "             1       1.799192 -1.352679 -1.154738  0.601494  0.000330   \n",
       "             2       3.065414 -1.352679 -1.154738  0.601494  0.000330   \n",
       "             3      -2.890500 -1.352679 -1.154738  0.601494  0.000330   \n",
       "             4      -2.581699 -1.352679 -1.154738  0.601494  0.000330   \n",
       "...                       ...       ...       ...       ...       ...   \n",
       "99     x6    5       2.593749 -0.124879 -2.836601  0.816589  0.946802   \n",
       "             6       2.593749 -0.124879 -2.836601  0.816589  0.946802   \n",
       "             7       2.593749 -0.124879 -2.836601  0.816589  0.946802   \n",
       "             8       2.593749 -0.124879 -2.836601  0.816589  0.946802   \n",
       "             9       2.593749 -0.124879 -2.836601  0.816589  0.946802   \n",
       "\n",
       "                            5    wavy6D  \n",
       "centre param points                      \n",
       "0      x1    0       0.644623 -5.431083  \n",
       "             1       0.644623 -4.707706  \n",
       "             2       0.644623 -5.285825  \n",
       "             3       0.644623 -5.236243  \n",
       "             4       0.644623 -4.049217  \n",
       "...                       ...       ...  \n",
       "99     x6    5       0.691515 -5.126162  \n",
       "             6       0.159078 -5.126162  \n",
       "             7       0.641367 -5.126162  \n",
       "             8       0.888764 -5.126162  \n",
       "             9       0.155296 -5.126162  \n",
       "\n",
       "[6000 rows x 7 columns]"
      ]
     },
     "execution_count": 18,
     "metadata": {},
     "output_type": "execute_result"
    }
   ],
   "source": [
    "experiment_1.model_df"
   ]
  },
  {
   "cell_type": "markdown",
   "id": "285fe8f5-ef92-4ab3-a194-db919d6d46ae",
   "metadata": {},
   "source": [
    "Dataframe containing the pairs for variogram analysis along with their dissimilarity"
   ]
  },
  {
   "cell_type": "code",
   "execution_count": 19,
   "id": "21f59123-3fed-443a-bcce-425f47f9898b",
   "metadata": {},
   "outputs": [
    {
     "data": {
      "text/html": [
       "<div>\n",
       "<style scoped>\n",
       "    .dataframe tbody tr th:only-of-type {\n",
       "        vertical-align: middle;\n",
       "    }\n",
       "\n",
       "    .dataframe tbody tr th {\n",
       "        vertical-align: top;\n",
       "    }\n",
       "\n",
       "    .dataframe thead th {\n",
       "        text-align: right;\n",
       "    }\n",
       "</style>\n",
       "<table border=\"1\" class=\"dataframe\">\n",
       "  <thead>\n",
       "    <tr style=\"text-align: right;\">\n",
       "      <th></th>\n",
       "      <th></th>\n",
       "      <th></th>\n",
       "      <th></th>\n",
       "      <th></th>\n",
       "      <th>0</th>\n",
       "      <th>1</th>\n",
       "      <th>dissimilarity</th>\n",
       "    </tr>\n",
       "    <tr>\n",
       "      <th>centre</th>\n",
       "      <th>param</th>\n",
       "      <th>h</th>\n",
       "      <th>actual h</th>\n",
       "      <th>pair_ind</th>\n",
       "      <th></th>\n",
       "      <th></th>\n",
       "      <th></th>\n",
       "    </tr>\n",
       "  </thead>\n",
       "  <tbody>\n",
       "    <tr>\n",
       "      <th rowspan=\"5\" valign=\"top\">0</th>\n",
       "      <th rowspan=\"5\" valign=\"top\">x1</th>\n",
       "      <th rowspan=\"4\" valign=\"top\">0.025</th>\n",
       "      <th>0.049172</th>\n",
       "      <th>(3, 4)</th>\n",
       "      <td>-5.236243</td>\n",
       "      <td>-4.049217</td>\n",
       "      <td>0.704515</td>\n",
       "    </tr>\n",
       "    <tr>\n",
       "      <th>0.035216</th>\n",
       "      <th>(7, 9)</th>\n",
       "      <td>-6.051490</td>\n",
       "      <td>-6.436271</td>\n",
       "      <td>0.074028</td>\n",
       "    </tr>\n",
       "    <tr>\n",
       "      <th>0.039256</th>\n",
       "      <th>(6, 7)</th>\n",
       "      <td>-5.017547</td>\n",
       "      <td>-6.051490</td>\n",
       "      <td>0.534519</td>\n",
       "    </tr>\n",
       "    <tr>\n",
       "      <th>0.027380</th>\n",
       "      <th>(3, 5)</th>\n",
       "      <td>-5.236243</td>\n",
       "      <td>-5.312511</td>\n",
       "      <td>0.002908</td>\n",
       "    </tr>\n",
       "    <tr>\n",
       "      <th>0.100</th>\n",
       "      <th>0.138553</th>\n",
       "      <th>(0, 1)</th>\n",
       "      <td>-5.431083</td>\n",
       "      <td>-4.707706</td>\n",
       "      <td>0.261637</td>\n",
       "    </tr>\n",
       "    <tr>\n",
       "      <th>...</th>\n",
       "      <th>...</th>\n",
       "      <th>...</th>\n",
       "      <th>...</th>\n",
       "      <th>...</th>\n",
       "      <td>...</td>\n",
       "      <td>...</td>\n",
       "      <td>...</td>\n",
       "    </tr>\n",
       "    <tr>\n",
       "      <th rowspan=\"5\" valign=\"top\">99</th>\n",
       "      <th rowspan=\"5\" valign=\"top\">x6</th>\n",
       "      <th>0.600</th>\n",
       "      <th>0.560650</th>\n",
       "      <th>(4, 9)</th>\n",
       "      <td>-5.126162</td>\n",
       "      <td>-5.126162</td>\n",
       "      <td>0.000000</td>\n",
       "    </tr>\n",
       "    <tr>\n",
       "      <th rowspan=\"4\" valign=\"top\">0.700</th>\n",
       "      <th>0.658135</th>\n",
       "      <th>(1, 6)</th>\n",
       "      <td>-5.126162</td>\n",
       "      <td>-5.126162</td>\n",
       "      <td>0.000000</td>\n",
       "    </tr>\n",
       "    <tr>\n",
       "      <th>0.733468</th>\n",
       "      <th>(8, 9)</th>\n",
       "      <td>-5.126162</td>\n",
       "      <td>-5.126162</td>\n",
       "      <td>0.000000</td>\n",
       "    </tr>\n",
       "    <tr>\n",
       "      <th>0.729686</th>\n",
       "      <th>(6, 8)</th>\n",
       "      <td>-5.126162</td>\n",
       "      <td>-5.126162</td>\n",
       "      <td>0.000000</td>\n",
       "    </tr>\n",
       "    <tr>\n",
       "      <th>0.661916</th>\n",
       "      <th>(1, 9)</th>\n",
       "      <td>-5.126162</td>\n",
       "      <td>-5.126162</td>\n",
       "      <td>0.000000</td>\n",
       "    </tr>\n",
       "  </tbody>\n",
       "</table>\n",
       "<p>27000 rows × 3 columns</p>\n",
       "</div>"
      ],
      "text/plain": [
       "                                             0         1  dissimilarity\n",
       "centre param h     actual h pair_ind                                   \n",
       "0      x1    0.025 0.049172 (3, 4)   -5.236243 -4.049217       0.704515\n",
       "                   0.035216 (7, 9)   -6.051490 -6.436271       0.074028\n",
       "                   0.039256 (6, 7)   -5.017547 -6.051490       0.534519\n",
       "                   0.027380 (3, 5)   -5.236243 -5.312511       0.002908\n",
       "             0.100 0.138553 (0, 1)   -5.431083 -4.707706       0.261637\n",
       "...                                        ...       ...            ...\n",
       "99     x6    0.600 0.560650 (4, 9)   -5.126162 -5.126162       0.000000\n",
       "             0.700 0.658135 (1, 6)   -5.126162 -5.126162       0.000000\n",
       "                   0.733468 (8, 9)   -5.126162 -5.126162       0.000000\n",
       "                   0.729686 (6, 8)   -5.126162 -5.126162       0.000000\n",
       "                   0.661916 (1, 9)   -5.126162 -5.126162       0.000000\n",
       "\n",
       "[27000 rows x 3 columns]"
      ]
     },
     "execution_count": 19,
     "metadata": {},
     "output_type": "execute_result"
    }
   ],
   "source": [
    "experiment_1.pair_df"
   ]
  },
  {
   "cell_type": "markdown",
   "id": "171e53fa-7e6c-4ba4-91d7-6c1ec0527008",
   "metadata": {},
   "source": [
    "The fictive correlation matrix"
   ]
  },
  {
   "cell_type": "code",
   "execution_count": 20,
   "id": "0a8bb00a-7e9c-4c46-9c35-add3b2909158",
   "metadata": {},
   "outputs": [
    {
     "data": {
      "text/plain": [
       "array([[ 1.00000000e+00, -8.50339838e-18, -8.50339838e-18,\n",
       "         8.08903099e-18,  8.08903099e-18,  8.08903099e-18],\n",
       "       [-8.50339838e-18,  1.00000000e+00, -8.50339838e-18,\n",
       "         8.08903099e-18,  8.08903099e-18,  8.08903099e-18],\n",
       "       [-8.50339838e-18, -8.50339838e-18,  1.00000000e+00,\n",
       "         8.08903099e-18,  8.08903099e-18,  8.08903099e-18],\n",
       "       [ 8.08903099e-18,  8.08903099e-18,  8.08903099e-18,\n",
       "         1.00000000e+00,  3.60218786e-06,  3.60218786e-06],\n",
       "       [ 8.08903099e-18,  8.08903099e-18,  8.08903099e-18,\n",
       "         3.60218786e-06,  1.00000000e+00,  3.60218786e-06],\n",
       "       [ 8.08903099e-18,  8.08903099e-18,  8.08903099e-18,\n",
       "         3.60218786e-06,  3.60218786e-06,  1.00000000e+00]])"
      ]
     },
     "execution_count": 20,
     "metadata": {},
     "output_type": "execute_result"
    }
   ],
   "source": [
    "experiment_1.cov_mat"
   ]
  },
  {
   "cell_type": "markdown",
   "id": "a3cd4a0b-db04-466d-bd6d-2e375a5cb086",
   "metadata": {},
   "source": [
    "**Standard Outputs**\n",
    "\n"
   ]
  },
  {
   "cell_type": "markdown",
   "id": "74f189cc-c9aa-4083-84f7-bfe5514a18f7",
   "metadata": {},
   "source": [
    "Most useful results are stored in the `.output` property as a dictionary. The variables stores could be seen quickly by:"
   ]
  },
  {
   "cell_type": "code",
   "execution_count": 21,
   "id": "51e65cc2-c267-4dcf-8257-15f22aeedb87",
   "metadata": {},
   "outputs": [
    {
     "data": {
      "text/plain": [
       "dict_keys(['Gamma', 'MAEE', 'MEE', 'COV', 'ECOV', 'IVARS', 'IVARSid', 'rnkST', 'rnkIVARS', 'Gammalb', 'Gammaub', 'STlb', 'STub', 'IVARSlb', 'IVARSub', 'relST', 'relIVARS', 'Groups', 'relGrp'])"
      ]
     },
     "execution_count": 21,
     "metadata": {},
     "output_type": "execute_result"
    }
   ],
   "source": [
    "experiment_1.output.keys()"
   ]
  },
  {
   "cell_type": "markdown",
   "id": "473a6892-86c1-4791-946d-f1c1d45b0069",
   "metadata": {},
   "source": [
    "and each output can be viewed by using the method shown in the next line:"
   ]
  },
  {
   "cell_type": "code",
   "execution_count": 22,
   "id": "35f8cd43-f639-41c7-bb4a-806ddb8ec3e5",
   "metadata": {},
   "outputs": [
    {
     "data": {
      "text/html": [
       "<div>\n",
       "<style scoped>\n",
       "    .dataframe tbody tr th:only-of-type {\n",
       "        vertical-align: middle;\n",
       "    }\n",
       "\n",
       "    .dataframe tbody tr th {\n",
       "        vertical-align: top;\n",
       "    }\n",
       "\n",
       "    .dataframe thead th {\n",
       "        text-align: right;\n",
       "    }\n",
       "</style>\n",
       "<table border=\"1\" class=\"dataframe\">\n",
       "  <thead>\n",
       "    <tr style=\"text-align: right;\">\n",
       "      <th>param</th>\n",
       "      <th>x1</th>\n",
       "      <th>x2</th>\n",
       "      <th>x3</th>\n",
       "      <th>x4</th>\n",
       "      <th>x5</th>\n",
       "      <th>x6</th>\n",
       "    </tr>\n",
       "    <tr>\n",
       "      <th>h</th>\n",
       "      <th></th>\n",
       "      <th></th>\n",
       "      <th></th>\n",
       "      <th></th>\n",
       "      <th></th>\n",
       "      <th></th>\n",
       "    </tr>\n",
       "  </thead>\n",
       "  <tbody>\n",
       "    <tr>\n",
       "      <th>0.025</th>\n",
       "      <td>0.126450</td>\n",
       "      <td>0.042960</td>\n",
       "      <td>0.001524</td>\n",
       "      <td>0.000034</td>\n",
       "      <td>0.000005</td>\n",
       "      <td>0.0</td>\n",
       "    </tr>\n",
       "    <tr>\n",
       "      <th>0.100</th>\n",
       "      <td>0.646722</td>\n",
       "      <td>0.388261</td>\n",
       "      <td>0.010023</td>\n",
       "      <td>0.000395</td>\n",
       "      <td>0.000067</td>\n",
       "      <td>0.0</td>\n",
       "    </tr>\n",
       "    <tr>\n",
       "      <th>0.200</th>\n",
       "      <td>0.795951</td>\n",
       "      <td>0.450261</td>\n",
       "      <td>0.010225</td>\n",
       "      <td>0.001502</td>\n",
       "      <td>0.000241</td>\n",
       "      <td>0.0</td>\n",
       "    </tr>\n",
       "    <tr>\n",
       "      <th>0.300</th>\n",
       "      <td>0.148525</td>\n",
       "      <td>0.054564</td>\n",
       "      <td>0.001534</td>\n",
       "      <td>0.002890</td>\n",
       "      <td>0.000486</td>\n",
       "      <td>0.0</td>\n",
       "    </tr>\n",
       "    <tr>\n",
       "      <th>0.400</th>\n",
       "      <td>0.550034</td>\n",
       "      <td>0.264401</td>\n",
       "      <td>0.009673</td>\n",
       "      <td>0.004556</td>\n",
       "      <td>0.000768</td>\n",
       "      <td>0.0</td>\n",
       "    </tr>\n",
       "    <tr>\n",
       "      <th>0.500</th>\n",
       "      <td>0.876689</td>\n",
       "      <td>0.520598</td>\n",
       "      <td>0.010265</td>\n",
       "      <td>0.006235</td>\n",
       "      <td>0.001029</td>\n",
       "      <td>0.0</td>\n",
       "    </tr>\n",
       "    <tr>\n",
       "      <th>0.600</th>\n",
       "      <td>0.228871</td>\n",
       "      <td>0.126870</td>\n",
       "      <td>0.001458</td>\n",
       "      <td>0.007299</td>\n",
       "      <td>0.001172</td>\n",
       "      <td>0.0</td>\n",
       "    </tr>\n",
       "    <tr>\n",
       "      <th>0.700</th>\n",
       "      <td>0.373552</td>\n",
       "      <td>0.174785</td>\n",
       "      <td>0.008591</td>\n",
       "      <td>0.008696</td>\n",
       "      <td>0.001416</td>\n",
       "      <td>0.0</td>\n",
       "    </tr>\n",
       "    <tr>\n",
       "      <th>0.800</th>\n",
       "      <td>0.733253</td>\n",
       "      <td>0.525682</td>\n",
       "      <td>0.011263</td>\n",
       "      <td>0.008983</td>\n",
       "      <td>0.001603</td>\n",
       "      <td>0.0</td>\n",
       "    </tr>\n",
       "    <tr>\n",
       "      <th>0.900</th>\n",
       "      <td>0.506916</td>\n",
       "      <td>0.194381</td>\n",
       "      <td>0.001570</td>\n",
       "      <td>0.008434</td>\n",
       "      <td>0.001683</td>\n",
       "      <td>0.0</td>\n",
       "    </tr>\n",
       "  </tbody>\n",
       "</table>\n",
       "</div>"
      ],
      "text/plain": [
       "param        x1        x2        x3        x4        x5   x6\n",
       "h                                                           \n",
       "0.025  0.126450  0.042960  0.001524  0.000034  0.000005  0.0\n",
       "0.100  0.646722  0.388261  0.010023  0.000395  0.000067  0.0\n",
       "0.200  0.795951  0.450261  0.010225  0.001502  0.000241  0.0\n",
       "0.300  0.148525  0.054564  0.001534  0.002890  0.000486  0.0\n",
       "0.400  0.550034  0.264401  0.009673  0.004556  0.000768  0.0\n",
       "0.500  0.876689  0.520598  0.010265  0.006235  0.001029  0.0\n",
       "0.600  0.228871  0.126870  0.001458  0.007299  0.001172  0.0\n",
       "0.700  0.373552  0.174785  0.008591  0.008696  0.001416  0.0\n",
       "0.800  0.733253  0.525682  0.011263  0.008983  0.001603  0.0\n",
       "0.900  0.506916  0.194381  0.001570  0.008434  0.001683  0.0"
      ]
     },
     "execution_count": 22,
     "metadata": {},
     "output_type": "execute_result"
    }
   ],
   "source": [
    "experiment_1.output['Gamma'].unstack(level=0) # adding unstack to make it more legible"
   ]
  },
  {
   "cell_type": "markdown",
   "id": "0e345587-f73d-4e93-8a06-e2d8daaff40e",
   "metadata": {},
   "source": [
    "Now we can access all the results using 'dot' notation on our created instance:"
   ]
  },
  {
   "cell_type": "markdown",
   "id": "173bad8e-bc6a-415c-8b95-4171dd196336",
   "metadata": {},
   "source": [
    "**Directional variogram results**\n",
    "\n",
    "There are 10 rows as the number of stars was 10, and each at a resolution incremented by 0.1 which was specificed to be the sampling resolution"
   ]
  },
  {
   "cell_type": "code",
   "execution_count": 23,
   "id": "9d964dbf-86b2-43f3-89a7-8846c69cb4d8",
   "metadata": {},
   "outputs": [
    {
     "data": {
      "text/html": [
       "<div>\n",
       "<style scoped>\n",
       "    .dataframe tbody tr th:only-of-type {\n",
       "        vertical-align: middle;\n",
       "    }\n",
       "\n",
       "    .dataframe tbody tr th {\n",
       "        vertical-align: top;\n",
       "    }\n",
       "\n",
       "    .dataframe thead th {\n",
       "        text-align: right;\n",
       "    }\n",
       "</style>\n",
       "<table border=\"1\" class=\"dataframe\">\n",
       "  <thead>\n",
       "    <tr style=\"text-align: right;\">\n",
       "      <th>param</th>\n",
       "      <th>x1</th>\n",
       "      <th>x2</th>\n",
       "      <th>x3</th>\n",
       "      <th>x4</th>\n",
       "      <th>x5</th>\n",
       "      <th>x6</th>\n",
       "    </tr>\n",
       "    <tr>\n",
       "      <th>h</th>\n",
       "      <th></th>\n",
       "      <th></th>\n",
       "      <th></th>\n",
       "      <th></th>\n",
       "      <th></th>\n",
       "      <th></th>\n",
       "    </tr>\n",
       "  </thead>\n",
       "  <tbody>\n",
       "    <tr>\n",
       "      <th>0.025</th>\n",
       "      <td>0.126450</td>\n",
       "      <td>0.042960</td>\n",
       "      <td>0.001524</td>\n",
       "      <td>0.000034</td>\n",
       "      <td>0.000005</td>\n",
       "      <td>0.0</td>\n",
       "    </tr>\n",
       "    <tr>\n",
       "      <th>0.100</th>\n",
       "      <td>0.646722</td>\n",
       "      <td>0.388261</td>\n",
       "      <td>0.010023</td>\n",
       "      <td>0.000395</td>\n",
       "      <td>0.000067</td>\n",
       "      <td>0.0</td>\n",
       "    </tr>\n",
       "    <tr>\n",
       "      <th>0.200</th>\n",
       "      <td>0.795951</td>\n",
       "      <td>0.450261</td>\n",
       "      <td>0.010225</td>\n",
       "      <td>0.001502</td>\n",
       "      <td>0.000241</td>\n",
       "      <td>0.0</td>\n",
       "    </tr>\n",
       "    <tr>\n",
       "      <th>0.300</th>\n",
       "      <td>0.148525</td>\n",
       "      <td>0.054564</td>\n",
       "      <td>0.001534</td>\n",
       "      <td>0.002890</td>\n",
       "      <td>0.000486</td>\n",
       "      <td>0.0</td>\n",
       "    </tr>\n",
       "    <tr>\n",
       "      <th>0.400</th>\n",
       "      <td>0.550034</td>\n",
       "      <td>0.264401</td>\n",
       "      <td>0.009673</td>\n",
       "      <td>0.004556</td>\n",
       "      <td>0.000768</td>\n",
       "      <td>0.0</td>\n",
       "    </tr>\n",
       "    <tr>\n",
       "      <th>0.500</th>\n",
       "      <td>0.876689</td>\n",
       "      <td>0.520598</td>\n",
       "      <td>0.010265</td>\n",
       "      <td>0.006235</td>\n",
       "      <td>0.001029</td>\n",
       "      <td>0.0</td>\n",
       "    </tr>\n",
       "    <tr>\n",
       "      <th>0.600</th>\n",
       "      <td>0.228871</td>\n",
       "      <td>0.126870</td>\n",
       "      <td>0.001458</td>\n",
       "      <td>0.007299</td>\n",
       "      <td>0.001172</td>\n",
       "      <td>0.0</td>\n",
       "    </tr>\n",
       "    <tr>\n",
       "      <th>0.700</th>\n",
       "      <td>0.373552</td>\n",
       "      <td>0.174785</td>\n",
       "      <td>0.008591</td>\n",
       "      <td>0.008696</td>\n",
       "      <td>0.001416</td>\n",
       "      <td>0.0</td>\n",
       "    </tr>\n",
       "    <tr>\n",
       "      <th>0.800</th>\n",
       "      <td>0.733253</td>\n",
       "      <td>0.525682</td>\n",
       "      <td>0.011263</td>\n",
       "      <td>0.008983</td>\n",
       "      <td>0.001603</td>\n",
       "      <td>0.0</td>\n",
       "    </tr>\n",
       "    <tr>\n",
       "      <th>0.900</th>\n",
       "      <td>0.506916</td>\n",
       "      <td>0.194381</td>\n",
       "      <td>0.001570</td>\n",
       "      <td>0.008434</td>\n",
       "      <td>0.001683</td>\n",
       "      <td>0.0</td>\n",
       "    </tr>\n",
       "  </tbody>\n",
       "</table>\n",
       "</div>"
      ],
      "text/plain": [
       "param        x1        x2        x3        x4        x5   x6\n",
       "h                                                           \n",
       "0.025  0.126450  0.042960  0.001524  0.000034  0.000005  0.0\n",
       "0.100  0.646722  0.388261  0.010023  0.000395  0.000067  0.0\n",
       "0.200  0.795951  0.450261  0.010225  0.001502  0.000241  0.0\n",
       "0.300  0.148525  0.054564  0.001534  0.002890  0.000486  0.0\n",
       "0.400  0.550034  0.264401  0.009673  0.004556  0.000768  0.0\n",
       "0.500  0.876689  0.520598  0.010265  0.006235  0.001029  0.0\n",
       "0.600  0.228871  0.126870  0.001458  0.007299  0.001172  0.0\n",
       "0.700  0.373552  0.174785  0.008591  0.008696  0.001416  0.0\n",
       "0.800  0.733253  0.525682  0.011263  0.008983  0.001603  0.0\n",
       "0.900  0.506916  0.194381  0.001570  0.008434  0.001683  0.0"
      ]
     },
     "execution_count": 23,
     "metadata": {},
     "output_type": "execute_result"
    }
   ],
   "source": [
    "experiment_1.gamma.unstack(0)"
   ]
  },
  {
   "cell_type": "markdown",
   "id": "17e23aff-2e21-482e-a0c0-792e700ad159",
   "metadata": {},
   "source": [
    "**Integrated variogram**"
   ]
  },
  {
   "cell_type": "code",
   "execution_count": 24,
   "id": "9a6bcc04-cc42-498d-a2f7-7a63c0b22a2c",
   "metadata": {},
   "outputs": [
    {
     "data": {
      "text/html": [
       "<div>\n",
       "<style scoped>\n",
       "    .dataframe tbody tr th:only-of-type {\n",
       "        vertical-align: middle;\n",
       "    }\n",
       "\n",
       "    .dataframe tbody tr th {\n",
       "        vertical-align: top;\n",
       "    }\n",
       "\n",
       "    .dataframe thead th {\n",
       "        text-align: right;\n",
       "    }\n",
       "</style>\n",
       "<table border=\"1\" class=\"dataframe\">\n",
       "  <thead>\n",
       "    <tr style=\"text-align: right;\">\n",
       "      <th></th>\n",
       "      <th>x1</th>\n",
       "      <th>x2</th>\n",
       "      <th>x3</th>\n",
       "      <th>x4</th>\n",
       "      <th>x5</th>\n",
       "      <th>x6</th>\n",
       "    </tr>\n",
       "  </thead>\n",
       "  <tbody>\n",
       "    <tr>\n",
       "      <th>0.1</th>\n",
       "      <td>0.032336</td>\n",
       "      <td>0.019413</td>\n",
       "      <td>0.000501</td>\n",
       "      <td>0.000020</td>\n",
       "      <td>0.000003</td>\n",
       "      <td>0.0</td>\n",
       "    </tr>\n",
       "    <tr>\n",
       "      <th>0.3</th>\n",
       "      <td>0.151694</td>\n",
       "      <td>0.086580</td>\n",
       "      <td>0.002101</td>\n",
       "      <td>0.000334</td>\n",
       "      <td>0.000055</td>\n",
       "      <td>0.0</td>\n",
       "    </tr>\n",
       "    <tr>\n",
       "      <th>0.5</th>\n",
       "      <td>0.257958</td>\n",
       "      <td>0.141779</td>\n",
       "      <td>0.003659</td>\n",
       "      <td>0.001246</td>\n",
       "      <td>0.000208</td>\n",
       "      <td>0.0</td>\n",
       "    </tr>\n",
       "  </tbody>\n",
       "</table>\n",
       "</div>"
      ],
      "text/plain": [
       "           x1        x2        x3        x4        x5   x6\n",
       "0.1  0.032336  0.019413  0.000501  0.000020  0.000003  0.0\n",
       "0.3  0.151694  0.086580  0.002101  0.000334  0.000055  0.0\n",
       "0.5  0.257958  0.141779  0.003659  0.001246  0.000208  0.0"
      ]
     },
     "execution_count": 24,
     "metadata": {},
     "output_type": "execute_result"
    }
   ],
   "source": [
    "experiment_1.ivars"
   ]
  },
  {
   "cell_type": "markdown",
   "id": "7a3447b3-65f2-443b-a083-d85c685031d3",
   "metadata": {},
   "source": [
    "**VARS-TO: Sobol total-order effects calculated through GVARS**"
   ]
  },
  {
   "cell_type": "code",
   "execution_count": 25,
   "id": "c4b62fa9-dfda-4b5b-9240-49efc7235ca3",
   "metadata": {},
   "outputs": [
    {
     "data": {
      "text/plain": [
       "param\n",
       "x1    5.954000e-01\n",
       "x2    3.309918e-01\n",
       "x3    8.314619e-03\n",
       "x4    3.053137e-03\n",
       "x5    4.654891e-04\n",
       "x6    5.599431e-31\n",
       "dtype: float64"
      ]
     },
     "execution_count": 25,
     "metadata": {},
     "output_type": "execute_result"
    }
   ],
   "source": [
    "experiment_1.st"
   ]
  },
  {
   "cell_type": "markdown",
   "id": "09591350-33a4-4cce-80f8-c3c27c205079",
   "metadata": {},
   "source": [
    "**VARS-ABE: Morris mean absolute elementary effects across scales**"
   ]
  },
  {
   "cell_type": "code",
   "execution_count": 26,
   "id": "9edeb357-31be-45c9-a2a9-fa463ff4809d",
   "metadata": {},
   "outputs": [
    {
     "data": {
      "text/html": [
       "<div>\n",
       "<style scoped>\n",
       "    .dataframe tbody tr th:only-of-type {\n",
       "        vertical-align: middle;\n",
       "    }\n",
       "\n",
       "    .dataframe tbody tr th {\n",
       "        vertical-align: top;\n",
       "    }\n",
       "\n",
       "    .dataframe thead th {\n",
       "        text-align: right;\n",
       "    }\n",
       "</style>\n",
       "<table border=\"1\" class=\"dataframe\">\n",
       "  <thead>\n",
       "    <tr style=\"text-align: right;\">\n",
       "      <th>param</th>\n",
       "      <th>x1</th>\n",
       "      <th>x2</th>\n",
       "      <th>x3</th>\n",
       "      <th>x4</th>\n",
       "      <th>x5</th>\n",
       "      <th>x6</th>\n",
       "    </tr>\n",
       "    <tr>\n",
       "      <th>h</th>\n",
       "      <th></th>\n",
       "      <th></th>\n",
       "      <th></th>\n",
       "      <th></th>\n",
       "      <th></th>\n",
       "      <th></th>\n",
       "    </tr>\n",
       "  </thead>\n",
       "  <tbody>\n",
       "    <tr>\n",
       "      <th>0.025</th>\n",
       "      <td>0.354667</td>\n",
       "      <td>0.232042</td>\n",
       "      <td>0.043022</td>\n",
       "      <td>0.006495</td>\n",
       "      <td>0.002564</td>\n",
       "      <td>0.0</td>\n",
       "    </tr>\n",
       "    <tr>\n",
       "      <th>0.100</th>\n",
       "      <td>0.983867</td>\n",
       "      <td>0.782837</td>\n",
       "      <td>0.124668</td>\n",
       "      <td>0.024362</td>\n",
       "      <td>0.010097</td>\n",
       "      <td>0.0</td>\n",
       "    </tr>\n",
       "    <tr>\n",
       "      <th>0.200</th>\n",
       "      <td>1.100315</td>\n",
       "      <td>0.851942</td>\n",
       "      <td>0.125785</td>\n",
       "      <td>0.047746</td>\n",
       "      <td>0.019198</td>\n",
       "      <td>0.0</td>\n",
       "    </tr>\n",
       "    <tr>\n",
       "      <th>0.300</th>\n",
       "      <td>0.447604</td>\n",
       "      <td>0.246564</td>\n",
       "      <td>0.044972</td>\n",
       "      <td>0.064957</td>\n",
       "      <td>0.027061</td>\n",
       "      <td>0.0</td>\n",
       "    </tr>\n",
       "    <tr>\n",
       "      <th>0.400</th>\n",
       "      <td>0.906680</td>\n",
       "      <td>0.610250</td>\n",
       "      <td>0.120992</td>\n",
       "      <td>0.081406</td>\n",
       "      <td>0.033401</td>\n",
       "      <td>0.0</td>\n",
       "    </tr>\n",
       "    <tr>\n",
       "      <th>0.500</th>\n",
       "      <td>1.138343</td>\n",
       "      <td>0.922264</td>\n",
       "      <td>0.127236</td>\n",
       "      <td>0.096065</td>\n",
       "      <td>0.038943</td>\n",
       "      <td>0.0</td>\n",
       "    </tr>\n",
       "    <tr>\n",
       "      <th>0.600</th>\n",
       "      <td>0.583831</td>\n",
       "      <td>0.398074</td>\n",
       "      <td>0.043539</td>\n",
       "      <td>0.105344</td>\n",
       "      <td>0.041993</td>\n",
       "      <td>0.0</td>\n",
       "    </tr>\n",
       "    <tr>\n",
       "      <th>0.700</th>\n",
       "      <td>0.722407</td>\n",
       "      <td>0.481083</td>\n",
       "      <td>0.111848</td>\n",
       "      <td>0.122186</td>\n",
       "      <td>0.049402</td>\n",
       "      <td>0.0</td>\n",
       "    </tr>\n",
       "    <tr>\n",
       "      <th>0.800</th>\n",
       "      <td>0.976498</td>\n",
       "      <td>0.917744</td>\n",
       "      <td>0.136382</td>\n",
       "      <td>0.128679</td>\n",
       "      <td>0.054914</td>\n",
       "      <td>0.0</td>\n",
       "    </tr>\n",
       "    <tr>\n",
       "      <th>0.900</th>\n",
       "      <td>0.929206</td>\n",
       "      <td>0.514873</td>\n",
       "      <td>0.044734</td>\n",
       "      <td>0.127870</td>\n",
       "      <td>0.057350</td>\n",
       "      <td>0.0</td>\n",
       "    </tr>\n",
       "  </tbody>\n",
       "</table>\n",
       "</div>"
      ],
      "text/plain": [
       "param        x1        x2        x3        x4        x5   x6\n",
       "h                                                           \n",
       "0.025  0.354667  0.232042  0.043022  0.006495  0.002564  0.0\n",
       "0.100  0.983867  0.782837  0.124668  0.024362  0.010097  0.0\n",
       "0.200  1.100315  0.851942  0.125785  0.047746  0.019198  0.0\n",
       "0.300  0.447604  0.246564  0.044972  0.064957  0.027061  0.0\n",
       "0.400  0.906680  0.610250  0.120992  0.081406  0.033401  0.0\n",
       "0.500  1.138343  0.922264  0.127236  0.096065  0.038943  0.0\n",
       "0.600  0.583831  0.398074  0.043539  0.105344  0.041993  0.0\n",
       "0.700  0.722407  0.481083  0.111848  0.122186  0.049402  0.0\n",
       "0.800  0.976498  0.917744  0.136382  0.128679  0.054914  0.0\n",
       "0.900  0.929206  0.514873  0.044734  0.127870  0.057350  0.0"
      ]
     },
     "execution_count": 26,
     "metadata": {},
     "output_type": "execute_result"
    }
   ],
   "source": [
    "experiment_1.maee.unstack(0)"
   ]
  },
  {
   "cell_type": "markdown",
   "id": "c053a7a1-88e6-42c8-8490-2e0b1e4df757",
   "metadata": {},
   "source": [
    "**VARS-ACE: Morris mean actual elementary effects across scales**"
   ]
  },
  {
   "cell_type": "code",
   "execution_count": 27,
   "id": "99866771-18d8-4598-a912-8a3194c160b3",
   "metadata": {},
   "outputs": [
    {
     "data": {
      "text/html": [
       "<div>\n",
       "<style scoped>\n",
       "    .dataframe tbody tr th:only-of-type {\n",
       "        vertical-align: middle;\n",
       "    }\n",
       "\n",
       "    .dataframe tbody tr th {\n",
       "        vertical-align: top;\n",
       "    }\n",
       "\n",
       "    .dataframe thead th {\n",
       "        text-align: right;\n",
       "    }\n",
       "</style>\n",
       "<table border=\"1\" class=\"dataframe\">\n",
       "  <thead>\n",
       "    <tr style=\"text-align: right;\">\n",
       "      <th>param</th>\n",
       "      <th>x1</th>\n",
       "      <th>x2</th>\n",
       "      <th>x3</th>\n",
       "      <th>x4</th>\n",
       "      <th>x5</th>\n",
       "      <th>x6</th>\n",
       "    </tr>\n",
       "    <tr>\n",
       "      <th>h</th>\n",
       "      <th></th>\n",
       "      <th></th>\n",
       "      <th></th>\n",
       "      <th></th>\n",
       "      <th></th>\n",
       "      <th></th>\n",
       "    </tr>\n",
       "  </thead>\n",
       "  <tbody>\n",
       "    <tr>\n",
       "      <th>0.025</th>\n",
       "      <td>-0.013137</td>\n",
       "      <td>-0.002115</td>\n",
       "      <td>0.000197</td>\n",
       "      <td>-0.000061</td>\n",
       "      <td>0.000251</td>\n",
       "      <td>0.0</td>\n",
       "    </tr>\n",
       "    <tr>\n",
       "      <th>0.100</th>\n",
       "      <td>-0.054004</td>\n",
       "      <td>0.017398</td>\n",
       "      <td>-0.001680</td>\n",
       "      <td>0.000633</td>\n",
       "      <td>0.000169</td>\n",
       "      <td>0.0</td>\n",
       "    </tr>\n",
       "    <tr>\n",
       "      <th>0.200</th>\n",
       "      <td>0.059752</td>\n",
       "      <td>0.032043</td>\n",
       "      <td>-0.007479</td>\n",
       "      <td>0.002750</td>\n",
       "      <td>0.000319</td>\n",
       "      <td>0.0</td>\n",
       "    </tr>\n",
       "    <tr>\n",
       "      <th>0.300</th>\n",
       "      <td>0.032239</td>\n",
       "      <td>0.005892</td>\n",
       "      <td>0.001728</td>\n",
       "      <td>0.005364</td>\n",
       "      <td>0.000299</td>\n",
       "      <td>0.0</td>\n",
       "    </tr>\n",
       "    <tr>\n",
       "      <th>0.400</th>\n",
       "      <td>0.004277</td>\n",
       "      <td>0.116769</td>\n",
       "      <td>-0.013462</td>\n",
       "      <td>0.011521</td>\n",
       "      <td>0.001399</td>\n",
       "      <td>0.0</td>\n",
       "    </tr>\n",
       "    <tr>\n",
       "      <th>0.500</th>\n",
       "      <td>0.025141</td>\n",
       "      <td>-0.001827</td>\n",
       "      <td>-0.014521</td>\n",
       "      <td>0.001046</td>\n",
       "      <td>0.001170</td>\n",
       "      <td>0.0</td>\n",
       "    </tr>\n",
       "    <tr>\n",
       "      <th>0.600</th>\n",
       "      <td>0.061665</td>\n",
       "      <td>-0.000168</td>\n",
       "      <td>-0.006563</td>\n",
       "      <td>0.004303</td>\n",
       "      <td>-0.004082</td>\n",
       "      <td>0.0</td>\n",
       "    </tr>\n",
       "    <tr>\n",
       "      <th>0.700</th>\n",
       "      <td>-0.003899</td>\n",
       "      <td>0.046602</td>\n",
       "      <td>0.015459</td>\n",
       "      <td>0.011493</td>\n",
       "      <td>0.002582</td>\n",
       "      <td>0.0</td>\n",
       "    </tr>\n",
       "    <tr>\n",
       "      <th>0.800</th>\n",
       "      <td>0.167428</td>\n",
       "      <td>-0.054567</td>\n",
       "      <td>-0.011071</td>\n",
       "      <td>0.011695</td>\n",
       "      <td>0.008192</td>\n",
       "      <td>0.0</td>\n",
       "    </tr>\n",
       "    <tr>\n",
       "      <th>0.900</th>\n",
       "      <td>0.005816</td>\n",
       "      <td>0.050480</td>\n",
       "      <td>0.004137</td>\n",
       "      <td>0.007224</td>\n",
       "      <td>0.015630</td>\n",
       "      <td>0.0</td>\n",
       "    </tr>\n",
       "  </tbody>\n",
       "</table>\n",
       "</div>"
      ],
      "text/plain": [
       "param        x1        x2        x3        x4        x5   x6\n",
       "h                                                           \n",
       "0.025 -0.013137 -0.002115  0.000197 -0.000061  0.000251  0.0\n",
       "0.100 -0.054004  0.017398 -0.001680  0.000633  0.000169  0.0\n",
       "0.200  0.059752  0.032043 -0.007479  0.002750  0.000319  0.0\n",
       "0.300  0.032239  0.005892  0.001728  0.005364  0.000299  0.0\n",
       "0.400  0.004277  0.116769 -0.013462  0.011521  0.001399  0.0\n",
       "0.500  0.025141 -0.001827 -0.014521  0.001046  0.001170  0.0\n",
       "0.600  0.061665 -0.000168 -0.006563  0.004303 -0.004082  0.0\n",
       "0.700 -0.003899  0.046602  0.015459  0.011493  0.002582  0.0\n",
       "0.800  0.167428 -0.054567 -0.011071  0.011695  0.008192  0.0\n",
       "0.900  0.005816  0.050480  0.004137  0.007224  0.015630  0.0"
      ]
     },
     "execution_count": 27,
     "metadata": {},
     "output_type": "execute_result"
    }
   ],
   "source": [
    "experiment_1.mee.unstack(0)"
   ]
  },
  {
   "cell_type": "markdown",
   "id": "14be6da7-84b4-43a4-b54a-da56b147d221",
   "metadata": {},
   "source": [
    "**The factor(parameter) rankings based on their influence for IVARS and Sobol results**. \n",
    "\n",
    "The influence is based on how large or small a result is. The lower the ranking the more influential(larger) a factor is."
   ]
  },
  {
   "cell_type": "code",
   "execution_count": 28,
   "id": "21ddcab3-3051-4572-89f8-e4a7ba6cfbbf",
   "metadata": {},
   "outputs": [
    {
     "data": {
      "text/html": [
       "<div>\n",
       "<style scoped>\n",
       "    .dataframe tbody tr th:only-of-type {\n",
       "        vertical-align: middle;\n",
       "    }\n",
       "\n",
       "    .dataframe tbody tr th {\n",
       "        vertical-align: top;\n",
       "    }\n",
       "\n",
       "    .dataframe thead th {\n",
       "        text-align: right;\n",
       "    }\n",
       "</style>\n",
       "<table border=\"1\" class=\"dataframe\">\n",
       "  <thead>\n",
       "    <tr style=\"text-align: right;\">\n",
       "      <th></th>\n",
       "      <th>x1</th>\n",
       "      <th>x2</th>\n",
       "      <th>x3</th>\n",
       "      <th>x4</th>\n",
       "      <th>x5</th>\n",
       "      <th>x6</th>\n",
       "    </tr>\n",
       "  </thead>\n",
       "  <tbody>\n",
       "    <tr>\n",
       "      <th>0.1</th>\n",
       "      <td>0</td>\n",
       "      <td>1</td>\n",
       "      <td>2</td>\n",
       "      <td>3</td>\n",
       "      <td>4</td>\n",
       "      <td>5</td>\n",
       "    </tr>\n",
       "    <tr>\n",
       "      <th>0.3</th>\n",
       "      <td>0</td>\n",
       "      <td>1</td>\n",
       "      <td>2</td>\n",
       "      <td>3</td>\n",
       "      <td>4</td>\n",
       "      <td>5</td>\n",
       "    </tr>\n",
       "    <tr>\n",
       "      <th>0.5</th>\n",
       "      <td>0</td>\n",
       "      <td>1</td>\n",
       "      <td>2</td>\n",
       "      <td>3</td>\n",
       "      <td>4</td>\n",
       "      <td>5</td>\n",
       "    </tr>\n",
       "  </tbody>\n",
       "</table>\n",
       "</div>"
      ],
      "text/plain": [
       "     x1  x2  x3  x4  x5  x6\n",
       "0.1   0   1   2   3   4   5\n",
       "0.3   0   1   2   3   4   5\n",
       "0.5   0   1   2   3   4   5"
      ]
     },
     "execution_count": 28,
     "metadata": {},
     "output_type": "execute_result"
    }
   ],
   "source": [
    "experiment_1.ivars_factor_ranking"
   ]
  },
  {
   "cell_type": "code",
   "execution_count": 29,
   "id": "14b50336-f7f6-470e-aca4-ac6cee41c1db",
   "metadata": {},
   "outputs": [
    {
     "data": {
      "text/html": [
       "<div>\n",
       "<style scoped>\n",
       "    .dataframe tbody tr th:only-of-type {\n",
       "        vertical-align: middle;\n",
       "    }\n",
       "\n",
       "    .dataframe tbody tr th {\n",
       "        vertical-align: top;\n",
       "    }\n",
       "\n",
       "    .dataframe thead th {\n",
       "        text-align: right;\n",
       "    }\n",
       "</style>\n",
       "<table border=\"1\" class=\"dataframe\">\n",
       "  <thead>\n",
       "    <tr style=\"text-align: right;\">\n",
       "      <th></th>\n",
       "      <th>x1</th>\n",
       "      <th>x2</th>\n",
       "      <th>x3</th>\n",
       "      <th>x4</th>\n",
       "      <th>x5</th>\n",
       "      <th>x6</th>\n",
       "    </tr>\n",
       "  </thead>\n",
       "  <tbody>\n",
       "    <tr>\n",
       "      <th></th>\n",
       "      <td>0</td>\n",
       "      <td>1</td>\n",
       "      <td>2</td>\n",
       "      <td>3</td>\n",
       "      <td>4</td>\n",
       "      <td>5</td>\n",
       "    </tr>\n",
       "  </tbody>\n",
       "</table>\n",
       "</div>"
      ],
      "text/plain": [
       "  x1  x2  x3  x4  x5  x6\n",
       "   0   1   2   3   4   5"
      ]
     },
     "execution_count": 29,
     "metadata": {},
     "output_type": "execute_result"
    }
   ],
   "source": [
    "experiment_1.st_factor_ranking"
   ]
  },
  {
   "cell_type": "markdown",
   "id": "8f267c46-7e93-40ac-86bc-a53fed5cd5f8",
   "metadata": {},
   "source": [
    "**Bootstrapping results based on the confidence interval limits**\n",
    "\n",
    "low is the lower limit of the results after `bootstrap_size` sampling iterations\n",
    "\n",
    "upp is the upper limit of the results after `bootstrap_size` sampling iterations"
   ]
  },
  {
   "cell_type": "code",
   "execution_count": 30,
   "id": "97a9875a-f896-484d-960f-e66d923f5dce",
   "metadata": {},
   "outputs": [
    {
     "data": {
      "text/html": [
       "<div>\n",
       "<style scoped>\n",
       "    .dataframe tbody tr th:only-of-type {\n",
       "        vertical-align: middle;\n",
       "    }\n",
       "\n",
       "    .dataframe tbody tr th {\n",
       "        vertical-align: top;\n",
       "    }\n",
       "\n",
       "    .dataframe thead th {\n",
       "        text-align: right;\n",
       "    }\n",
       "</style>\n",
       "<table border=\"1\" class=\"dataframe\">\n",
       "  <thead>\n",
       "    <tr style=\"text-align: right;\">\n",
       "      <th>h</th>\n",
       "      <th>x1</th>\n",
       "      <th>x2</th>\n",
       "      <th>x3</th>\n",
       "      <th>x4</th>\n",
       "      <th>x5</th>\n",
       "      <th>x6</th>\n",
       "    </tr>\n",
       "  </thead>\n",
       "  <tbody>\n",
       "    <tr>\n",
       "      <th>0.025</th>\n",
       "      <td>0.071590</td>\n",
       "      <td>0.020140</td>\n",
       "      <td>0.001087</td>\n",
       "      <td>0.000018</td>\n",
       "      <td>0.000002</td>\n",
       "      <td>0.0</td>\n",
       "    </tr>\n",
       "    <tr>\n",
       "      <th>0.100</th>\n",
       "      <td>0.519209</td>\n",
       "      <td>0.289853</td>\n",
       "      <td>0.008462</td>\n",
       "      <td>0.000285</td>\n",
       "      <td>0.000035</td>\n",
       "      <td>0.0</td>\n",
       "    </tr>\n",
       "    <tr>\n",
       "      <th>0.200</th>\n",
       "      <td>0.769626</td>\n",
       "      <td>0.390202</td>\n",
       "      <td>0.008181</td>\n",
       "      <td>0.000896</td>\n",
       "      <td>0.000088</td>\n",
       "      <td>0.0</td>\n",
       "    </tr>\n",
       "    <tr>\n",
       "      <th>0.300</th>\n",
       "      <td>0.101510</td>\n",
       "      <td>0.023032</td>\n",
       "      <td>0.001576</td>\n",
       "      <td>0.001675</td>\n",
       "      <td>0.000245</td>\n",
       "      <td>0.0</td>\n",
       "    </tr>\n",
       "    <tr>\n",
       "      <th>0.400</th>\n",
       "      <td>0.450655</td>\n",
       "      <td>0.220472</td>\n",
       "      <td>0.006225</td>\n",
       "      <td>0.002460</td>\n",
       "      <td>0.000431</td>\n",
       "      <td>0.0</td>\n",
       "    </tr>\n",
       "    <tr>\n",
       "      <th>0.500</th>\n",
       "      <td>0.653418</td>\n",
       "      <td>0.540607</td>\n",
       "      <td>0.006247</td>\n",
       "      <td>0.004830</td>\n",
       "      <td>0.000875</td>\n",
       "      <td>0.0</td>\n",
       "    </tr>\n",
       "    <tr>\n",
       "      <th>0.600</th>\n",
       "      <td>0.226966</td>\n",
       "      <td>0.063677</td>\n",
       "      <td>0.000504</td>\n",
       "      <td>0.002320</td>\n",
       "      <td>0.000776</td>\n",
       "      <td>0.0</td>\n",
       "    </tr>\n",
       "    <tr>\n",
       "      <th>0.700</th>\n",
       "      <td>0.158011</td>\n",
       "      <td>0.166644</td>\n",
       "      <td>0.004825</td>\n",
       "      <td>0.006245</td>\n",
       "      <td>0.001024</td>\n",
       "      <td>0.0</td>\n",
       "    </tr>\n",
       "    <tr>\n",
       "      <th>0.800</th>\n",
       "      <td>0.293725</td>\n",
       "      <td>0.214108</td>\n",
       "      <td>0.007183</td>\n",
       "      <td>0.007180</td>\n",
       "      <td>0.000816</td>\n",
       "      <td>0.0</td>\n",
       "    </tr>\n",
       "    <tr>\n",
       "      <th>0.900</th>\n",
       "      <td>0.389527</td>\n",
       "      <td>0.040963</td>\n",
       "      <td>0.000620</td>\n",
       "      <td>0.006597</td>\n",
       "      <td>0.001253</td>\n",
       "      <td>0.0</td>\n",
       "    </tr>\n",
       "  </tbody>\n",
       "</table>\n",
       "</div>"
      ],
      "text/plain": [
       "h            x1        x2        x3        x4        x5   x6\n",
       "0.025  0.071590  0.020140  0.001087  0.000018  0.000002  0.0\n",
       "0.100  0.519209  0.289853  0.008462  0.000285  0.000035  0.0\n",
       "0.200  0.769626  0.390202  0.008181  0.000896  0.000088  0.0\n",
       "0.300  0.101510  0.023032  0.001576  0.001675  0.000245  0.0\n",
       "0.400  0.450655  0.220472  0.006225  0.002460  0.000431  0.0\n",
       "0.500  0.653418  0.540607  0.006247  0.004830  0.000875  0.0\n",
       "0.600  0.226966  0.063677  0.000504  0.002320  0.000776  0.0\n",
       "0.700  0.158011  0.166644  0.004825  0.006245  0.001024  0.0\n",
       "0.800  0.293725  0.214108  0.007183  0.007180  0.000816  0.0\n",
       "0.900  0.389527  0.040963  0.000620  0.006597  0.001253  0.0"
      ]
     },
     "execution_count": 30,
     "metadata": {},
     "output_type": "execute_result"
    }
   ],
   "source": [
    "experiment_1.gammalb"
   ]
  },
  {
   "cell_type": "code",
   "execution_count": 31,
   "id": "fcdb364f-aab1-4f1e-a5de-be61d104ac78",
   "metadata": {},
   "outputs": [
    {
     "data": {
      "text/html": [
       "<div>\n",
       "<style scoped>\n",
       "    .dataframe tbody tr th:only-of-type {\n",
       "        vertical-align: middle;\n",
       "    }\n",
       "\n",
       "    .dataframe tbody tr th {\n",
       "        vertical-align: top;\n",
       "    }\n",
       "\n",
       "    .dataframe thead th {\n",
       "        text-align: right;\n",
       "    }\n",
       "</style>\n",
       "<table border=\"1\" class=\"dataframe\">\n",
       "  <thead>\n",
       "    <tr style=\"text-align: right;\">\n",
       "      <th>h</th>\n",
       "      <th>x1</th>\n",
       "      <th>x2</th>\n",
       "      <th>x3</th>\n",
       "      <th>x4</th>\n",
       "      <th>x5</th>\n",
       "      <th>x6</th>\n",
       "    </tr>\n",
       "  </thead>\n",
       "  <tbody>\n",
       "    <tr>\n",
       "      <th>0.025</th>\n",
       "      <td>0.161828</td>\n",
       "      <td>0.040831</td>\n",
       "      <td>0.002167</td>\n",
       "      <td>0.000032</td>\n",
       "      <td>0.000004</td>\n",
       "      <td>0.0</td>\n",
       "    </tr>\n",
       "    <tr>\n",
       "      <th>0.100</th>\n",
       "      <td>0.863860</td>\n",
       "      <td>0.441929</td>\n",
       "      <td>0.011105</td>\n",
       "      <td>0.000469</td>\n",
       "      <td>0.000059</td>\n",
       "      <td>0.0</td>\n",
       "    </tr>\n",
       "    <tr>\n",
       "      <th>0.200</th>\n",
       "      <td>0.975626</td>\n",
       "      <td>0.668277</td>\n",
       "      <td>0.010684</td>\n",
       "      <td>0.001227</td>\n",
       "      <td>0.000169</td>\n",
       "      <td>0.0</td>\n",
       "    </tr>\n",
       "    <tr>\n",
       "      <th>0.300</th>\n",
       "      <td>0.148741</td>\n",
       "      <td>0.051302</td>\n",
       "      <td>0.002476</td>\n",
       "      <td>0.002878</td>\n",
       "      <td>0.000419</td>\n",
       "      <td>0.0</td>\n",
       "    </tr>\n",
       "    <tr>\n",
       "      <th>0.400</th>\n",
       "      <td>0.649786</td>\n",
       "      <td>0.377990</td>\n",
       "      <td>0.010489</td>\n",
       "      <td>0.003646</td>\n",
       "      <td>0.000815</td>\n",
       "      <td>0.0</td>\n",
       "    </tr>\n",
       "    <tr>\n",
       "      <th>0.500</th>\n",
       "      <td>0.969317</td>\n",
       "      <td>0.740826</td>\n",
       "      <td>0.012071</td>\n",
       "      <td>0.007935</td>\n",
       "      <td>0.001543</td>\n",
       "      <td>0.0</td>\n",
       "    </tr>\n",
       "    <tr>\n",
       "      <th>0.600</th>\n",
       "      <td>0.310088</td>\n",
       "      <td>0.170983</td>\n",
       "      <td>0.000796</td>\n",
       "      <td>0.005842</td>\n",
       "      <td>0.001883</td>\n",
       "      <td>0.0</td>\n",
       "    </tr>\n",
       "    <tr>\n",
       "      <th>0.700</th>\n",
       "      <td>0.408014</td>\n",
       "      <td>0.283902</td>\n",
       "      <td>0.008160</td>\n",
       "      <td>0.010040</td>\n",
       "      <td>0.001999</td>\n",
       "      <td>0.0</td>\n",
       "    </tr>\n",
       "    <tr>\n",
       "      <th>0.800</th>\n",
       "      <td>1.226842</td>\n",
       "      <td>0.600095</td>\n",
       "      <td>0.013310</td>\n",
       "      <td>0.011088</td>\n",
       "      <td>0.001704</td>\n",
       "      <td>0.0</td>\n",
       "    </tr>\n",
       "    <tr>\n",
       "      <th>0.900</th>\n",
       "      <td>0.587549</td>\n",
       "      <td>0.298867</td>\n",
       "      <td>0.003245</td>\n",
       "      <td>0.008914</td>\n",
       "      <td>0.002190</td>\n",
       "      <td>0.0</td>\n",
       "    </tr>\n",
       "  </tbody>\n",
       "</table>\n",
       "</div>"
      ],
      "text/plain": [
       "h            x1        x2        x3        x4        x5   x6\n",
       "0.025  0.161828  0.040831  0.002167  0.000032  0.000004  0.0\n",
       "0.100  0.863860  0.441929  0.011105  0.000469  0.000059  0.0\n",
       "0.200  0.975626  0.668277  0.010684  0.001227  0.000169  0.0\n",
       "0.300  0.148741  0.051302  0.002476  0.002878  0.000419  0.0\n",
       "0.400  0.649786  0.377990  0.010489  0.003646  0.000815  0.0\n",
       "0.500  0.969317  0.740826  0.012071  0.007935  0.001543  0.0\n",
       "0.600  0.310088  0.170983  0.000796  0.005842  0.001883  0.0\n",
       "0.700  0.408014  0.283902  0.008160  0.010040  0.001999  0.0\n",
       "0.800  1.226842  0.600095  0.013310  0.011088  0.001704  0.0\n",
       "0.900  0.587549  0.298867  0.003245  0.008914  0.002190  0.0"
      ]
     },
     "execution_count": 31,
     "metadata": {},
     "output_type": "execute_result"
    }
   ],
   "source": [
    "experiment_1.gammaub"
   ]
  },
  {
   "cell_type": "code",
   "execution_count": 32,
   "id": "409029c1-b7d6-4ae2-91e5-e747cb3e7263",
   "metadata": {},
   "outputs": [
    {
     "data": {
      "text/html": [
       "<div>\n",
       "<style scoped>\n",
       "    .dataframe tbody tr th:only-of-type {\n",
       "        vertical-align: middle;\n",
       "    }\n",
       "\n",
       "    .dataframe tbody tr th {\n",
       "        vertical-align: top;\n",
       "    }\n",
       "\n",
       "    .dataframe thead th {\n",
       "        text-align: right;\n",
       "    }\n",
       "</style>\n",
       "<table border=\"1\" class=\"dataframe\">\n",
       "  <thead>\n",
       "    <tr style=\"text-align: right;\">\n",
       "      <th>param</th>\n",
       "      <th>x1</th>\n",
       "      <th>x2</th>\n",
       "      <th>x3</th>\n",
       "      <th>x4</th>\n",
       "      <th>x5</th>\n",
       "      <th>x6</th>\n",
       "    </tr>\n",
       "  </thead>\n",
       "  <tbody>\n",
       "    <tr>\n",
       "      <th></th>\n",
       "      <td>0.687707</td>\n",
       "      <td>0.441823</td>\n",
       "      <td>0.010061</td>\n",
       "      <td>0.002418</td>\n",
       "      <td>0.000447</td>\n",
       "      <td>6.860072e-31</td>\n",
       "    </tr>\n",
       "  </tbody>\n",
       "</table>\n",
       "</div>"
      ],
      "text/plain": [
       "param        x1        x2        x3        x4        x5            x6\n",
       "       0.687707  0.441823  0.010061  0.002418  0.000447  6.860072e-31"
      ]
     },
     "execution_count": 32,
     "metadata": {},
     "output_type": "execute_result"
    }
   ],
   "source": [
    "experiment_1.stlb"
   ]
  },
  {
   "cell_type": "code",
   "execution_count": 33,
   "id": "52ebfda4-1223-4793-97dc-e0049ee7a21c",
   "metadata": {},
   "outputs": [
    {
     "data": {
      "text/html": [
       "<div>\n",
       "<style scoped>\n",
       "    .dataframe tbody tr th:only-of-type {\n",
       "        vertical-align: middle;\n",
       "    }\n",
       "\n",
       "    .dataframe tbody tr th {\n",
       "        vertical-align: top;\n",
       "    }\n",
       "\n",
       "    .dataframe thead th {\n",
       "        text-align: right;\n",
       "    }\n",
       "</style>\n",
       "<table border=\"1\" class=\"dataframe\">\n",
       "  <thead>\n",
       "    <tr style=\"text-align: right;\">\n",
       "      <th>param</th>\n",
       "      <th>x1</th>\n",
       "      <th>x2</th>\n",
       "      <th>x3</th>\n",
       "      <th>x4</th>\n",
       "      <th>x5</th>\n",
       "      <th>x6</th>\n",
       "    </tr>\n",
       "  </thead>\n",
       "  <tbody>\n",
       "    <tr>\n",
       "      <th></th>\n",
       "      <td>1.534125</td>\n",
       "      <td>0.698097</td>\n",
       "      <td>0.019276</td>\n",
       "      <td>0.006684</td>\n",
       "      <td>0.001287</td>\n",
       "      <td>1.596113e-30</td>\n",
       "    </tr>\n",
       "  </tbody>\n",
       "</table>\n",
       "</div>"
      ],
      "text/plain": [
       "param        x1        x2        x3        x4        x5            x6\n",
       "       1.534125  0.698097  0.019276  0.006684  0.001287  1.596113e-30"
      ]
     },
     "execution_count": 33,
     "metadata": {},
     "output_type": "execute_result"
    }
   ],
   "source": [
    "experiment_1.stub"
   ]
  },
  {
   "cell_type": "code",
   "execution_count": 34,
   "id": "520ebff8-8b40-43d0-ac3f-8df0c08eea4c",
   "metadata": {},
   "outputs": [
    {
     "data": {
      "text/html": [
       "<div>\n",
       "<style scoped>\n",
       "    .dataframe tbody tr th:only-of-type {\n",
       "        vertical-align: middle;\n",
       "    }\n",
       "\n",
       "    .dataframe tbody tr th {\n",
       "        vertical-align: top;\n",
       "    }\n",
       "\n",
       "    .dataframe thead th {\n",
       "        text-align: right;\n",
       "    }\n",
       "</style>\n",
       "<table border=\"1\" class=\"dataframe\">\n",
       "  <thead>\n",
       "    <tr style=\"text-align: right;\">\n",
       "      <th></th>\n",
       "      <th>x1</th>\n",
       "      <th>x2</th>\n",
       "      <th>x3</th>\n",
       "      <th>x4</th>\n",
       "      <th>x5</th>\n",
       "      <th>x6</th>\n",
       "    </tr>\n",
       "  </thead>\n",
       "  <tbody>\n",
       "    <tr>\n",
       "      <th>0.1</th>\n",
       "      <td>0.025960</td>\n",
       "      <td>0.014493</td>\n",
       "      <td>0.000423</td>\n",
       "      <td>0.000014</td>\n",
       "      <td>0.000002</td>\n",
       "      <td>0.0</td>\n",
       "    </tr>\n",
       "    <tr>\n",
       "      <th>0.3</th>\n",
       "      <td>0.139639</td>\n",
       "      <td>0.071820</td>\n",
       "      <td>0.001848</td>\n",
       "      <td>0.000214</td>\n",
       "      <td>0.000026</td>\n",
       "      <td>0.0</td>\n",
       "    </tr>\n",
       "    <tr>\n",
       "      <th>0.5</th>\n",
       "      <td>0.231860</td>\n",
       "      <td>0.130346</td>\n",
       "      <td>0.002919</td>\n",
       "      <td>0.000862</td>\n",
       "      <td>0.000130</td>\n",
       "      <td>0.0</td>\n",
       "    </tr>\n",
       "  </tbody>\n",
       "</table>\n",
       "</div>"
      ],
      "text/plain": [
       "           x1        x2        x3        x4        x5   x6\n",
       "0.1  0.025960  0.014493  0.000423  0.000014  0.000002  0.0\n",
       "0.3  0.139639  0.071820  0.001848  0.000214  0.000026  0.0\n",
       "0.5  0.231860  0.130346  0.002919  0.000862  0.000130  0.0"
      ]
     },
     "execution_count": 34,
     "metadata": {},
     "output_type": "execute_result"
    }
   ],
   "source": [
    "experiment_1.ivarslb"
   ]
  },
  {
   "cell_type": "code",
   "execution_count": 35,
   "id": "d68e9900-b250-41a8-a1a0-6ab7fc5a5183",
   "metadata": {},
   "outputs": [
    {
     "data": {
      "text/html": [
       "<div>\n",
       "<style scoped>\n",
       "    .dataframe tbody tr th:only-of-type {\n",
       "        vertical-align: middle;\n",
       "    }\n",
       "\n",
       "    .dataframe tbody tr th {\n",
       "        vertical-align: top;\n",
       "    }\n",
       "\n",
       "    .dataframe thead th {\n",
       "        text-align: right;\n",
       "    }\n",
       "</style>\n",
       "<table border=\"1\" class=\"dataframe\">\n",
       "  <thead>\n",
       "    <tr style=\"text-align: right;\">\n",
       "      <th></th>\n",
       "      <th>x1</th>\n",
       "      <th>x2</th>\n",
       "      <th>x3</th>\n",
       "      <th>x4</th>\n",
       "      <th>x5</th>\n",
       "      <th>x6</th>\n",
       "    </tr>\n",
       "  </thead>\n",
       "  <tbody>\n",
       "    <tr>\n",
       "      <th>0.1</th>\n",
       "      <td>0.043193</td>\n",
       "      <td>0.022096</td>\n",
       "      <td>0.000555</td>\n",
       "      <td>0.000023</td>\n",
       "      <td>0.000003</td>\n",
       "      <td>0.0</td>\n",
       "    </tr>\n",
       "    <tr>\n",
       "      <th>0.3</th>\n",
       "      <td>0.185295</td>\n",
       "      <td>0.109655</td>\n",
       "      <td>0.002207</td>\n",
       "      <td>0.000301</td>\n",
       "      <td>0.000041</td>\n",
       "      <td>0.0</td>\n",
       "    </tr>\n",
       "    <tr>\n",
       "      <th>0.5</th>\n",
       "      <td>0.296039</td>\n",
       "      <td>0.177420</td>\n",
       "      <td>0.003878</td>\n",
       "      <td>0.001128</td>\n",
       "      <td>0.000212</td>\n",
       "      <td>0.0</td>\n",
       "    </tr>\n",
       "  </tbody>\n",
       "</table>\n",
       "</div>"
      ],
      "text/plain": [
       "           x1        x2        x3        x4        x5   x6\n",
       "0.1  0.043193  0.022096  0.000555  0.000023  0.000003  0.0\n",
       "0.3  0.185295  0.109655  0.002207  0.000301  0.000041  0.0\n",
       "0.5  0.296039  0.177420  0.003878  0.001128  0.000212  0.0"
      ]
     },
     "execution_count": 35,
     "metadata": {},
     "output_type": "execute_result"
    }
   ],
   "source": [
    "experiment_1.ivarsub"
   ]
  },
  {
   "cell_type": "markdown",
   "id": "02c7bf9f-6073-4ba6-a0b3-860932ef8eb9",
   "metadata": {},
   "source": [
    "**Reliability estimates of factor rankings based on VARS-TO**\n",
    "\n",
    "reliability estimates give the ratio of how many bootstrapped rankings were the same as the initial rankings for `bootstrap_size` sampling iterations"
   ]
  },
  {
   "cell_type": "code",
   "execution_count": 36,
   "id": "dfa3bfd1-a1bd-4d68-9c51-6aa733ab38cc",
   "metadata": {},
   "outputs": [
    {
     "data": {
      "text/html": [
       "<div>\n",
       "<style scoped>\n",
       "    .dataframe tbody tr th:only-of-type {\n",
       "        vertical-align: middle;\n",
       "    }\n",
       "\n",
       "    .dataframe tbody tr th {\n",
       "        vertical-align: top;\n",
       "    }\n",
       "\n",
       "    .dataframe thead th {\n",
       "        text-align: right;\n",
       "    }\n",
       "</style>\n",
       "<table border=\"1\" class=\"dataframe\">\n",
       "  <thead>\n",
       "    <tr style=\"text-align: right;\">\n",
       "      <th></th>\n",
       "      <th>x1</th>\n",
       "      <th>x2</th>\n",
       "      <th>x3</th>\n",
       "      <th>x4</th>\n",
       "      <th>x5</th>\n",
       "      <th>x6</th>\n",
       "    </tr>\n",
       "  </thead>\n",
       "  <tbody>\n",
       "    <tr>\n",
       "      <th></th>\n",
       "      <td>1.0</td>\n",
       "      <td>1.0</td>\n",
       "      <td>1.0</td>\n",
       "      <td>1.0</td>\n",
       "      <td>1.0</td>\n",
       "      <td>1.0</td>\n",
       "    </tr>\n",
       "  </tbody>\n",
       "</table>\n",
       "</div>"
      ],
      "text/plain": [
       "   x1   x2   x3   x4   x5   x6\n",
       "  1.0  1.0  1.0  1.0  1.0  1.0"
      ]
     },
     "execution_count": 36,
     "metadata": {},
     "output_type": "execute_result"
    }
   ],
   "source": [
    "experiment_1.rel_st_factor_ranking"
   ]
  },
  {
   "cell_type": "code",
   "execution_count": 37,
   "id": "e48d64ef-bfb5-4ed5-b971-283d6aff7e64",
   "metadata": {},
   "outputs": [
    {
     "data": {
      "text/html": [
       "<div>\n",
       "<style scoped>\n",
       "    .dataframe tbody tr th:only-of-type {\n",
       "        vertical-align: middle;\n",
       "    }\n",
       "\n",
       "    .dataframe tbody tr th {\n",
       "        vertical-align: top;\n",
       "    }\n",
       "\n",
       "    .dataframe thead th {\n",
       "        text-align: right;\n",
       "    }\n",
       "</style>\n",
       "<table border=\"1\" class=\"dataframe\">\n",
       "  <thead>\n",
       "    <tr style=\"text-align: right;\">\n",
       "      <th></th>\n",
       "      <th>x1</th>\n",
       "      <th>x2</th>\n",
       "      <th>x3</th>\n",
       "      <th>x4</th>\n",
       "      <th>x5</th>\n",
       "      <th>x6</th>\n",
       "    </tr>\n",
       "  </thead>\n",
       "  <tbody>\n",
       "    <tr>\n",
       "      <th>0.1</th>\n",
       "      <td>1.0</td>\n",
       "      <td>1.0</td>\n",
       "      <td>1.0</td>\n",
       "      <td>1.0</td>\n",
       "      <td>1.0</td>\n",
       "      <td>1.0</td>\n",
       "    </tr>\n",
       "    <tr>\n",
       "      <th>0.3</th>\n",
       "      <td>1.0</td>\n",
       "      <td>1.0</td>\n",
       "      <td>1.0</td>\n",
       "      <td>1.0</td>\n",
       "      <td>1.0</td>\n",
       "      <td>1.0</td>\n",
       "    </tr>\n",
       "    <tr>\n",
       "      <th>0.5</th>\n",
       "      <td>1.0</td>\n",
       "      <td>1.0</td>\n",
       "      <td>1.0</td>\n",
       "      <td>1.0</td>\n",
       "      <td>1.0</td>\n",
       "      <td>1.0</td>\n",
       "    </tr>\n",
       "  </tbody>\n",
       "</table>\n",
       "</div>"
      ],
      "text/plain": [
       "      x1   x2   x3   x4   x5   x6\n",
       "0.1  1.0  1.0  1.0  1.0  1.0  1.0\n",
       "0.3  1.0  1.0  1.0  1.0  1.0  1.0\n",
       "0.5  1.0  1.0  1.0  1.0  1.0  1.0"
      ]
     },
     "execution_count": 37,
     "metadata": {},
     "output_type": "execute_result"
    }
   ],
   "source": [
    "experiment_1.rel_ivars_factor_ranking"
   ]
  },
  {
   "cell_type": "markdown",
   "id": "5639d23c-8b1f-402e-a663-b59aa8ea9abd",
   "metadata": {},
   "source": [
    "**Factor grouping based on IVARS50 and Sobol results**"
   ]
  },
  {
   "cell_type": "code",
   "execution_count": 38,
   "id": "9ce4d679-43cb-4cc0-b187-e3ee8c456603",
   "metadata": {},
   "outputs": [
    {
     "data": {
      "text/html": [
       "<div>\n",
       "<style scoped>\n",
       "    .dataframe tbody tr th:only-of-type {\n",
       "        vertical-align: middle;\n",
       "    }\n",
       "\n",
       "    .dataframe tbody tr th {\n",
       "        vertical-align: top;\n",
       "    }\n",
       "\n",
       "    .dataframe thead th {\n",
       "        text-align: right;\n",
       "    }\n",
       "</style>\n",
       "<table border=\"1\" class=\"dataframe\">\n",
       "  <thead>\n",
       "    <tr style=\"text-align: right;\">\n",
       "      <th></th>\n",
       "      <th>x1</th>\n",
       "      <th>x2</th>\n",
       "      <th>x3</th>\n",
       "      <th>x4</th>\n",
       "      <th>x5</th>\n",
       "      <th>x6</th>\n",
       "    </tr>\n",
       "  </thead>\n",
       "  <tbody>\n",
       "    <tr>\n",
       "      <th>0.5</th>\n",
       "      <td>2</td>\n",
       "      <td>3</td>\n",
       "      <td>1</td>\n",
       "      <td>2</td>\n",
       "      <td>3</td>\n",
       "      <td>1</td>\n",
       "    </tr>\n",
       "  </tbody>\n",
       "</table>\n",
       "</div>"
      ],
      "text/plain": [
       "     x1  x2  x3  x4  x5  x6\n",
       "0.5   2   3   1   2   3   1"
      ]
     },
     "execution_count": 38,
     "metadata": {},
     "output_type": "execute_result"
    }
   ],
   "source": [
    "experiment_1.ivars50_grp"
   ]
  },
  {
   "cell_type": "code",
   "execution_count": 39,
   "id": "6712e863-2cb1-48ff-8feb-789e31a065d8",
   "metadata": {},
   "outputs": [
    {
     "data": {
      "text/html": [
       "<div>\n",
       "<style scoped>\n",
       "    .dataframe tbody tr th:only-of-type {\n",
       "        vertical-align: middle;\n",
       "    }\n",
       "\n",
       "    .dataframe tbody tr th {\n",
       "        vertical-align: top;\n",
       "    }\n",
       "\n",
       "    .dataframe thead th {\n",
       "        text-align: right;\n",
       "    }\n",
       "</style>\n",
       "<table border=\"1\" class=\"dataframe\">\n",
       "  <thead>\n",
       "    <tr style=\"text-align: right;\">\n",
       "      <th></th>\n",
       "      <th>x1</th>\n",
       "      <th>x2</th>\n",
       "      <th>x3</th>\n",
       "      <th>x4</th>\n",
       "      <th>x5</th>\n",
       "      <th>x6</th>\n",
       "    </tr>\n",
       "  </thead>\n",
       "  <tbody>\n",
       "    <tr>\n",
       "      <th></th>\n",
       "      <td>1</td>\n",
       "      <td>3</td>\n",
       "      <td>2</td>\n",
       "      <td>1</td>\n",
       "      <td>3</td>\n",
       "      <td>2</td>\n",
       "    </tr>\n",
       "  </tbody>\n",
       "</table>\n",
       "</div>"
      ],
      "text/plain": [
       "  x1  x2  x3  x4  x5  x6\n",
       "   1   3   2   1   3   2"
      ]
     },
     "execution_count": 39,
     "metadata": {},
     "output_type": "execute_result"
    }
   ],
   "source": [
    "experiment_1.st_grp"
   ]
  },
  {
   "cell_type": "markdown",
   "id": "29326681-2ac8-4605-8578-073cf6972815",
   "metadata": {},
   "source": [
    "**Reliability estimates of rankings based on grouping**"
   ]
  },
  {
   "cell_type": "code",
   "execution_count": 40,
   "id": "415ba831-a4fb-4810-8446-efacbbaf716b",
   "metadata": {},
   "outputs": [
    {
     "data": {
      "text/html": [
       "<div>\n",
       "<style scoped>\n",
       "    .dataframe tbody tr th:only-of-type {\n",
       "        vertical-align: middle;\n",
       "    }\n",
       "\n",
       "    .dataframe tbody tr th {\n",
       "        vertical-align: top;\n",
       "    }\n",
       "\n",
       "    .dataframe thead th {\n",
       "        text-align: right;\n",
       "    }\n",
       "</style>\n",
       "<table border=\"1\" class=\"dataframe\">\n",
       "  <thead>\n",
       "    <tr style=\"text-align: right;\">\n",
       "      <th></th>\n",
       "      <th>x1</th>\n",
       "      <th>x2</th>\n",
       "      <th>x3</th>\n",
       "      <th>x4</th>\n",
       "      <th>x5</th>\n",
       "      <th>x6</th>\n",
       "    </tr>\n",
       "  </thead>\n",
       "  <tbody>\n",
       "    <tr>\n",
       "      <th></th>\n",
       "      <td>1.0</td>\n",
       "      <td>1.0</td>\n",
       "      <td>1.0</td>\n",
       "      <td>1.0</td>\n",
       "      <td>1.0</td>\n",
       "      <td>1.0</td>\n",
       "    </tr>\n",
       "  </tbody>\n",
       "</table>\n",
       "</div>"
      ],
      "text/plain": [
       "   x1   x2   x3   x4   x5   x6\n",
       "  1.0  1.0  1.0  1.0  1.0  1.0"
      ]
     },
     "execution_count": 40,
     "metadata": {},
     "output_type": "execute_result"
    }
   ],
   "source": [
    "experiment_1.reli_st_grp"
   ]
  },
  {
   "cell_type": "code",
   "execution_count": 41,
   "id": "b93a71f5-41ba-4ca1-85c3-fcce7c4ee803",
   "metadata": {},
   "outputs": [
    {
     "data": {
      "text/html": [
       "<div>\n",
       "<style scoped>\n",
       "    .dataframe tbody tr th:only-of-type {\n",
       "        vertical-align: middle;\n",
       "    }\n",
       "\n",
       "    .dataframe tbody tr th {\n",
       "        vertical-align: top;\n",
       "    }\n",
       "\n",
       "    .dataframe thead th {\n",
       "        text-align: right;\n",
       "    }\n",
       "</style>\n",
       "<table border=\"1\" class=\"dataframe\">\n",
       "  <thead>\n",
       "    <tr style=\"text-align: right;\">\n",
       "      <th></th>\n",
       "      <th>x1</th>\n",
       "      <th>x2</th>\n",
       "      <th>x3</th>\n",
       "      <th>x4</th>\n",
       "      <th>x5</th>\n",
       "      <th>x6</th>\n",
       "    </tr>\n",
       "  </thead>\n",
       "  <tbody>\n",
       "    <tr>\n",
       "      <th>0.5</th>\n",
       "      <td>1.0</td>\n",
       "      <td>1.0</td>\n",
       "      <td>1.0</td>\n",
       "      <td>1.0</td>\n",
       "      <td>1.0</td>\n",
       "      <td>1.0</td>\n",
       "    </tr>\n",
       "  </tbody>\n",
       "</table>\n",
       "</div>"
      ],
      "text/plain": [
       "      x1   x2   x3   x4   x5   x6\n",
       "0.5  1.0  1.0  1.0  1.0  1.0  1.0"
      ]
     },
     "execution_count": 41,
     "metadata": {},
     "output_type": "execute_result"
    }
   ],
   "source": [
    "experiment_1.reli_ivars50_grp"
   ]
  },
  {
   "cell_type": "markdown",
   "id": "b94fb9b6-9de1-456d-9bed-bb35e864320c",
   "metadata": {},
   "source": [
    "#### Advanced Results\n",
    "\n",
    "**Directional covariogram results**"
   ]
  },
  {
   "cell_type": "code",
   "execution_count": 42,
   "id": "f5a3ac30-2acd-419b-b8ab-a500ea5caa88",
   "metadata": {},
   "outputs": [
    {
     "data": {
      "text/html": [
       "<div>\n",
       "<style scoped>\n",
       "    .dataframe tbody tr th:only-of-type {\n",
       "        vertical-align: middle;\n",
       "    }\n",
       "\n",
       "    .dataframe tbody tr th {\n",
       "        vertical-align: top;\n",
       "    }\n",
       "\n",
       "    .dataframe thead th {\n",
       "        text-align: right;\n",
       "    }\n",
       "</style>\n",
       "<table border=\"1\" class=\"dataframe\">\n",
       "  <thead>\n",
       "    <tr style=\"text-align: right;\">\n",
       "      <th>param</th>\n",
       "      <th>x1</th>\n",
       "      <th>x2</th>\n",
       "      <th>x3</th>\n",
       "      <th>x4</th>\n",
       "      <th>x5</th>\n",
       "      <th>x6</th>\n",
       "    </tr>\n",
       "    <tr>\n",
       "      <th>h</th>\n",
       "      <th></th>\n",
       "      <th></th>\n",
       "      <th></th>\n",
       "      <th></th>\n",
       "      <th></th>\n",
       "      <th></th>\n",
       "    </tr>\n",
       "  </thead>\n",
       "  <tbody>\n",
       "    <tr>\n",
       "      <th>0.025</th>\n",
       "      <td>0.645883</td>\n",
       "      <td>0.722255</td>\n",
       "      <td>0.815649</td>\n",
       "      <td>0.931049</td>\n",
       "      <td>0.890189</td>\n",
       "      <td>0.878889</td>\n",
       "    </tr>\n",
       "    <tr>\n",
       "      <th>0.100</th>\n",
       "      <td>0.175407</td>\n",
       "      <td>0.476428</td>\n",
       "      <td>0.831026</td>\n",
       "      <td>0.854978</td>\n",
       "      <td>0.835474</td>\n",
       "      <td>0.900956</td>\n",
       "    </tr>\n",
       "    <tr>\n",
       "      <th>0.200</th>\n",
       "      <td>-0.000259</td>\n",
       "      <td>0.365287</td>\n",
       "      <td>0.893518</td>\n",
       "      <td>0.832388</td>\n",
       "      <td>0.883419</td>\n",
       "      <td>0.802041</td>\n",
       "    </tr>\n",
       "    <tr>\n",
       "      <th>0.300</th>\n",
       "      <td>0.645559</td>\n",
       "      <td>0.697690</td>\n",
       "      <td>0.901596</td>\n",
       "      <td>0.854631</td>\n",
       "      <td>0.907098</td>\n",
       "      <td>0.826688</td>\n",
       "    </tr>\n",
       "    <tr>\n",
       "      <th>0.400</th>\n",
       "      <td>0.258357</td>\n",
       "      <td>0.532226</td>\n",
       "      <td>0.820857</td>\n",
       "      <td>1.003131</td>\n",
       "      <td>0.831700</td>\n",
       "      <td>0.860880</td>\n",
       "    </tr>\n",
       "    <tr>\n",
       "      <th>0.500</th>\n",
       "      <td>-0.060639</td>\n",
       "      <td>0.356808</td>\n",
       "      <td>0.888766</td>\n",
       "      <td>0.853349</td>\n",
       "      <td>0.865073</td>\n",
       "      <td>0.916793</td>\n",
       "    </tr>\n",
       "    <tr>\n",
       "      <th>0.600</th>\n",
       "      <td>0.602000</td>\n",
       "      <td>0.606614</td>\n",
       "      <td>0.872926</td>\n",
       "      <td>0.789837</td>\n",
       "      <td>0.821597</td>\n",
       "      <td>0.915442</td>\n",
       "    </tr>\n",
       "    <tr>\n",
       "      <th>0.700</th>\n",
       "      <td>0.539135</td>\n",
       "      <td>0.536200</td>\n",
       "      <td>0.895092</td>\n",
       "      <td>0.834271</td>\n",
       "      <td>0.924325</td>\n",
       "      <td>0.935462</td>\n",
       "    </tr>\n",
       "    <tr>\n",
       "      <th>0.800</th>\n",
       "      <td>0.084396</td>\n",
       "      <td>0.340502</td>\n",
       "      <td>0.920312</td>\n",
       "      <td>0.781852</td>\n",
       "      <td>0.901173</td>\n",
       "      <td>0.847217</td>\n",
       "    </tr>\n",
       "    <tr>\n",
       "      <th>0.900</th>\n",
       "      <td>0.234359</td>\n",
       "      <td>0.565706</td>\n",
       "      <td>0.908135</td>\n",
       "      <td>0.913095</td>\n",
       "      <td>0.818279</td>\n",
       "      <td>0.871698</td>\n",
       "    </tr>\n",
       "  </tbody>\n",
       "</table>\n",
       "</div>"
      ],
      "text/plain": [
       "param        x1        x2        x3        x4        x5        x6\n",
       "h                                                                \n",
       "0.025  0.645883  0.722255  0.815649  0.931049  0.890189  0.878889\n",
       "0.100  0.175407  0.476428  0.831026  0.854978  0.835474  0.900956\n",
       "0.200 -0.000259  0.365287  0.893518  0.832388  0.883419  0.802041\n",
       "0.300  0.645559  0.697690  0.901596  0.854631  0.907098  0.826688\n",
       "0.400  0.258357  0.532226  0.820857  1.003131  0.831700  0.860880\n",
       "0.500 -0.060639  0.356808  0.888766  0.853349  0.865073  0.916793\n",
       "0.600  0.602000  0.606614  0.872926  0.789837  0.821597  0.915442\n",
       "0.700  0.539135  0.536200  0.895092  0.834271  0.924325  0.935462\n",
       "0.800  0.084396  0.340502  0.920312  0.781852  0.901173  0.847217\n",
       "0.900  0.234359  0.565706  0.908135  0.913095  0.818279  0.871698"
      ]
     },
     "execution_count": 42,
     "metadata": {},
     "output_type": "execute_result"
    }
   ],
   "source": [
    "experiment_1.cov.unstack(0)"
   ]
  },
  {
   "cell_type": "markdown",
   "id": "16427ae3-26f3-4f38-a337-feb3d5177d54",
   "metadata": {},
   "source": [
    "**Directional expected covariogram results**"
   ]
  },
  {
   "cell_type": "code",
   "execution_count": 43,
   "id": "816a2846-cdaf-476b-ac47-7424e83a7cdb",
   "metadata": {},
   "outputs": [
    {
     "data": {
      "text/html": [
       "<div>\n",
       "<style scoped>\n",
       "    .dataframe tbody tr th:only-of-type {\n",
       "        vertical-align: middle;\n",
       "    }\n",
       "\n",
       "    .dataframe tbody tr th {\n",
       "        vertical-align: top;\n",
       "    }\n",
       "\n",
       "    .dataframe thead th {\n",
       "        text-align: right;\n",
       "    }\n",
       "</style>\n",
       "<table border=\"1\" class=\"dataframe\">\n",
       "  <thead>\n",
       "    <tr style=\"text-align: right;\">\n",
       "      <th>param</th>\n",
       "      <th>x1</th>\n",
       "      <th>x2</th>\n",
       "      <th>x3</th>\n",
       "      <th>x4</th>\n",
       "      <th>x5</th>\n",
       "      <th>x6</th>\n",
       "    </tr>\n",
       "    <tr>\n",
       "      <th>h</th>\n",
       "      <th></th>\n",
       "      <th></th>\n",
       "      <th></th>\n",
       "      <th></th>\n",
       "      <th></th>\n",
       "      <th></th>\n",
       "    </tr>\n",
       "  </thead>\n",
       "  <tbody>\n",
       "    <tr>\n",
       "      <th>0.025</th>\n",
       "      <td>0.288291</td>\n",
       "      <td>0.169201</td>\n",
       "      <td>0.004446</td>\n",
       "      <td>0.002812</td>\n",
       "      <td>0.000447</td>\n",
       "      <td>4.733165e-31</td>\n",
       "    </tr>\n",
       "    <tr>\n",
       "      <th>0.100</th>\n",
       "      <td>-0.143434</td>\n",
       "      <td>-0.108476</td>\n",
       "      <td>-0.002994</td>\n",
       "      <td>0.002186</td>\n",
       "      <td>0.000327</td>\n",
       "      <td>4.733165e-31</td>\n",
       "    </tr>\n",
       "    <tr>\n",
       "      <th>0.200</th>\n",
       "      <td>-0.282440</td>\n",
       "      <td>-0.166364</td>\n",
       "      <td>-0.003263</td>\n",
       "      <td>0.001127</td>\n",
       "      <td>0.000197</td>\n",
       "      <td>4.761054e-31</td>\n",
       "    </tr>\n",
       "    <tr>\n",
       "      <th>0.300</th>\n",
       "      <td>0.239208</td>\n",
       "      <td>0.177054</td>\n",
       "      <td>0.004243</td>\n",
       "      <td>0.000051</td>\n",
       "      <td>-0.000010</td>\n",
       "      <td>4.859221e-31</td>\n",
       "    </tr>\n",
       "    <tr>\n",
       "      <th>0.400</th>\n",
       "      <td>-0.066818</td>\n",
       "      <td>-0.012368</td>\n",
       "      <td>-0.002354</td>\n",
       "      <td>-0.001388</td>\n",
       "      <td>-0.000203</td>\n",
       "      <td>4.780975e-31</td>\n",
       "    </tr>\n",
       "    <tr>\n",
       "      <th>0.500</th>\n",
       "      <td>-0.321628</td>\n",
       "      <td>-0.207720</td>\n",
       "      <td>-0.003347</td>\n",
       "      <td>-0.002478</td>\n",
       "      <td>-0.000416</td>\n",
       "      <td>4.780975e-31</td>\n",
       "    </tr>\n",
       "    <tr>\n",
       "      <th>0.600</th>\n",
       "      <td>0.157973</td>\n",
       "      <td>0.089789</td>\n",
       "      <td>0.004562</td>\n",
       "      <td>-0.003039</td>\n",
       "      <td>-0.000498</td>\n",
       "      <td>4.668769e-31</td>\n",
       "    </tr>\n",
       "    <tr>\n",
       "      <th>0.700</th>\n",
       "      <td>0.144132</td>\n",
       "      <td>0.055876</td>\n",
       "      <td>-0.001708</td>\n",
       "      <td>-0.003696</td>\n",
       "      <td>-0.000590</td>\n",
       "      <td>4.706272e-31</td>\n",
       "    </tr>\n",
       "    <tr>\n",
       "      <th>0.800</th>\n",
       "      <td>-0.240905</td>\n",
       "      <td>-0.234645</td>\n",
       "      <td>-0.003707</td>\n",
       "      <td>-0.003278</td>\n",
       "      <td>-0.000671</td>\n",
       "      <td>4.226041e-31</td>\n",
       "    </tr>\n",
       "    <tr>\n",
       "      <th>0.900</th>\n",
       "      <td>-0.087756</td>\n",
       "      <td>0.036267</td>\n",
       "      <td>0.003538</td>\n",
       "      <td>-0.002270</td>\n",
       "      <td>-0.000509</td>\n",
       "      <td>4.279990e-31</td>\n",
       "    </tr>\n",
       "  </tbody>\n",
       "</table>\n",
       "</div>"
      ],
      "text/plain": [
       "param        x1        x2        x3        x4        x5            x6\n",
       "h                                                                    \n",
       "0.025  0.288291  0.169201  0.004446  0.002812  0.000447  4.733165e-31\n",
       "0.100 -0.143434 -0.108476 -0.002994  0.002186  0.000327  4.733165e-31\n",
       "0.200 -0.282440 -0.166364 -0.003263  0.001127  0.000197  4.761054e-31\n",
       "0.300  0.239208  0.177054  0.004243  0.000051 -0.000010  4.859221e-31\n",
       "0.400 -0.066818 -0.012368 -0.002354 -0.001388 -0.000203  4.780975e-31\n",
       "0.500 -0.321628 -0.207720 -0.003347 -0.002478 -0.000416  4.780975e-31\n",
       "0.600  0.157973  0.089789  0.004562 -0.003039 -0.000498  4.668769e-31\n",
       "0.700  0.144132  0.055876 -0.001708 -0.003696 -0.000590  4.706272e-31\n",
       "0.800 -0.240905 -0.234645 -0.003707 -0.003278 -0.000671  4.226041e-31\n",
       "0.900 -0.087756  0.036267  0.003538 -0.002270 -0.000509  4.279990e-31"
      ]
     },
     "execution_count": 43,
     "metadata": {},
     "output_type": "execute_result"
    }
   ],
   "source": [
    "experiment_1.ecov.unstack(0)"
   ]
  },
  {
   "cell_type": "markdown",
   "id": "65b0d8d9-d392-43f5-81b8-6274ec68f87d",
   "metadata": {},
   "source": [
    "## Example using the Ishigami model in offline mode"
   ]
  },
  {
   "cell_type": "markdown",
   "id": "8a5c0c26-e773-41e0-b358-40283420cd78",
   "metadata": {},
   "source": [
    "The offline mode of VARS tool is where the models are ran outside of the GVARS analysis\n",
    "\n",
    "So again, we start with creating `experiment_2`"
   ]
  },
  {
   "cell_type": "code",
   "execution_count": 15,
   "id": "03cfbbb9-3a13-4c71-ba39-1f70cb855279",
   "metadata": {},
   "outputs": [],
   "source": [
    "experiment_2 = GVARS(parameters = {'x1': (0, 1, None, 'unif'), \n",
    "                                  'x2': (0, 1, None, 'unif'), \n",
    "                                  'x3': (0, 1, None, 'unif')},\n",
    "                    corr_mat = np.array([[1, 0, 0],\n",
    "                                [0, 1, 0],\n",
    "                                [0, 0, 1]]),\n",
    "                    num_stars=50,\n",
    "                    num_dir_samples=10,\n",
    "                    delta_h = 0.1,\n",
    "                    ivars_scales = (0.1, 0.3, 0.5),\n",
    "                    model = ishigami_model,\n",
    "                    seed = 1234,\n",
    "                    bootstrap_flag = True,\n",
    "                    bootstrap_size = 100,\n",
    "                    bootstrap_ci=0.9,\n",
    "                    grouping_flag=True,\n",
    "                    num_grps=2,\n",
    "                    report_verbose=True,\n",
    "                )"
   ]
  },
  {
   "cell_type": "markdown",
   "id": "c3f1b375-542a-4331-8a91-995edd1011a7",
   "metadata": {},
   "source": [
    "What we will be doing first is generating the `star_points` based of the star centre samples generated in the VARS instance using a method named `generate_star`"
   ]
  },
  {
   "cell_type": "code",
   "execution_count": 16,
   "id": "7705dbe3-aacc-4c3d-a5e0-1ea8dc36e394",
   "metadata": {},
   "outputs": [
    {
     "data": {
      "application/vnd.jupyter.widget-view+json": {
       "model_id": "4bde0d18661643e58f25dd8825a498e1",
       "version_major": 2,
       "version_minor": 0
      },
      "text/plain": [
       "generating star points:   0%|          | 0/10 [00:00<?, ?it/s]"
      ]
     },
     "metadata": {},
     "output_type": "display_data"
    }
   ],
   "source": [
    "star_points = experiment_2.generate_star()"
   ]
  },
  {
   "cell_type": "markdown",
   "id": "1f72d2ca-c28d-4fbe-a239-91baf90992d8",
   "metadata": {},
   "source": [
    "Now you will have access to the star points that you can apply to your model outside of Python or GVARS"
   ]
  },
  {
   "cell_type": "code",
   "execution_count": 17,
   "id": "c1898a3d-9db9-4ff0-9d4f-9136316e5e9d",
   "metadata": {},
   "outputs": [
    {
     "data": {
      "text/html": [
       "<div>\n",
       "<style scoped>\n",
       "    .dataframe tbody tr th:only-of-type {\n",
       "        vertical-align: middle;\n",
       "    }\n",
       "\n",
       "    .dataframe tbody tr th {\n",
       "        vertical-align: top;\n",
       "    }\n",
       "\n",
       "    .dataframe thead th {\n",
       "        text-align: right;\n",
       "    }\n",
       "</style>\n",
       "<table border=\"1\" class=\"dataframe\">\n",
       "  <thead>\n",
       "    <tr style=\"text-align: right;\">\n",
       "      <th></th>\n",
       "      <th></th>\n",
       "      <th></th>\n",
       "      <th>0</th>\n",
       "      <th>1</th>\n",
       "      <th>2</th>\n",
       "    </tr>\n",
       "    <tr>\n",
       "      <th>centre</th>\n",
       "      <th>param</th>\n",
       "      <th>points</th>\n",
       "      <th></th>\n",
       "      <th></th>\n",
       "      <th></th>\n",
       "    </tr>\n",
       "  </thead>\n",
       "  <tbody>\n",
       "    <tr>\n",
       "      <th rowspan=\"5\" valign=\"top\">0</th>\n",
       "      <th rowspan=\"5\" valign=\"top\">x1</th>\n",
       "      <th>0</th>\n",
       "      <td>0.855890</td>\n",
       "      <td>0.380670</td>\n",
       "      <td>0.649854</td>\n",
       "    </tr>\n",
       "    <tr>\n",
       "      <th>1</th>\n",
       "      <td>0.521713</td>\n",
       "      <td>0.380670</td>\n",
       "      <td>0.649854</td>\n",
       "    </tr>\n",
       "    <tr>\n",
       "      <th>2</th>\n",
       "      <td>0.299610</td>\n",
       "      <td>0.380670</td>\n",
       "      <td>0.649854</td>\n",
       "    </tr>\n",
       "    <tr>\n",
       "      <th>3</th>\n",
       "      <td>0.777878</td>\n",
       "      <td>0.380670</td>\n",
       "      <td>0.649854</td>\n",
       "    </tr>\n",
       "    <tr>\n",
       "      <th>4</th>\n",
       "      <td>0.761489</td>\n",
       "      <td>0.380670</td>\n",
       "      <td>0.649854</td>\n",
       "    </tr>\n",
       "    <tr>\n",
       "      <th>...</th>\n",
       "      <th>...</th>\n",
       "      <th>...</th>\n",
       "      <td>...</td>\n",
       "      <td>...</td>\n",
       "      <td>...</td>\n",
       "    </tr>\n",
       "    <tr>\n",
       "      <th rowspan=\"5\" valign=\"top\">49</th>\n",
       "      <th rowspan=\"5\" valign=\"top\">x3</th>\n",
       "      <th>5</th>\n",
       "      <td>0.333677</td>\n",
       "      <td>0.526927</td>\n",
       "      <td>0.600804</td>\n",
       "    </tr>\n",
       "    <tr>\n",
       "      <th>6</th>\n",
       "      <td>0.333677</td>\n",
       "      <td>0.526927</td>\n",
       "      <td>0.449691</td>\n",
       "    </tr>\n",
       "    <tr>\n",
       "      <th>7</th>\n",
       "      <td>0.333677</td>\n",
       "      <td>0.526927</td>\n",
       "      <td>0.169306</td>\n",
       "    </tr>\n",
       "    <tr>\n",
       "      <th>8</th>\n",
       "      <td>0.333677</td>\n",
       "      <td>0.526927</td>\n",
       "      <td>0.452187</td>\n",
       "    </tr>\n",
       "    <tr>\n",
       "      <th>9</th>\n",
       "      <td>0.333677</td>\n",
       "      <td>0.526927</td>\n",
       "      <td>0.211748</td>\n",
       "    </tr>\n",
       "  </tbody>\n",
       "</table>\n",
       "<p>1500 rows × 3 columns</p>\n",
       "</div>"
      ],
      "text/plain": [
       "                            0         1         2\n",
       "centre param points                              \n",
       "0      x1    0       0.855890  0.380670  0.649854\n",
       "             1       0.521713  0.380670  0.649854\n",
       "             2       0.299610  0.380670  0.649854\n",
       "             3       0.777878  0.380670  0.649854\n",
       "             4       0.761489  0.380670  0.649854\n",
       "...                       ...       ...       ...\n",
       "49     x3    5       0.333677  0.526927  0.600804\n",
       "             6       0.333677  0.526927  0.449691\n",
       "             7       0.333677  0.526927  0.169306\n",
       "             8       0.333677  0.526927  0.452187\n",
       "             9       0.333677  0.526927  0.211748\n",
       "\n",
       "[1500 rows x 3 columns]"
      ]
     },
     "execution_count": 17,
     "metadata": {},
     "output_type": "execute_result"
    }
   ],
   "source": [
    "star_points"
   ]
  },
  {
   "cell_type": "markdown",
   "id": "36caafc2-cc16-484b-b1b4-44da979ad37b",
   "metadata": {},
   "source": [
    "These star points (along with any of the GVARS result data frames) can be extracted to a .csv file by doing the following:\n",
    "\n",
    "note: the format of the .csv file will be the exact same as the data frame shown above but with `,` as the delimeter"
   ]
  },
  {
   "cell_type": "code",
   "execution_count": 18,
   "id": "29adac92-9d13-4aa0-986d-94fc731f6952",
   "metadata": {},
   "outputs": [],
   "source": [
    "path = 'star_points'  # type your desired file path here as a string (right now a file named star_points will be put in your current working directory)\n",
    "star_points.to_csv(path)"
   ]
  },
  {
   "cell_type": "markdown",
   "id": "babdcd8b-2af5-4c8a-9cc8-029c9a180d00",
   "metadata": {},
   "source": [
    "*****\n",
    "Here I will be creating the `star_points_results` csv file with ishigami applied to all the star points \n",
    "\n",
    "**NOTE**: this is the same as what is done in online mode and is just for example, you should do this your own way if you are wanting to use offline mode"
   ]
  },
  {
   "cell_type": "code",
   "execution_count": 19,
   "id": "dbc00707-0198-45fc-a42a-34c8502bad1b",
   "metadata": {},
   "outputs": [],
   "source": [
    "# **** you do not need to understand this block of code ****\n",
    "applied_df = star_points.merge(star_points.drop_duplicates()\n",
    "                     .assign(**{ishigami.__name__: lambda x: x.apply(ishigami, axis=1)}), \n",
    "                     how='left')\n",
    "\n",
    "applied_df.index = star_points.index\n",
    "\n",
    "applied_df.to_csv('star_points_results')"
   ]
  },
  {
   "cell_type": "markdown",
   "id": "1bb8abc4-7086-4c37-9314-1779fc432a36",
   "metadata": {},
   "source": [
    "****\n",
    "Now after you apply your model to the star points you must put your results in the right most column of the .csv file, with the header of the column being the name of the model you are using. This can be done in excel, notepad, etc. Once the results are placed in the .csv file correctly we must convert it back to a data frame to run the GVARS analysis by doing the following:\n",
    "\n",
    "note: this dataframe is the standard format that is expected to be inputted into the `run_offline` method"
   ]
  },
  {
   "cell_type": "code",
   "execution_count": 20,
   "id": "8ea20cd9-9a67-4607-906a-74716bc2e3d3",
   "metadata": {},
   "outputs": [
    {
     "data": {
      "text/html": [
       "<div>\n",
       "<style scoped>\n",
       "    .dataframe tbody tr th:only-of-type {\n",
       "        vertical-align: middle;\n",
       "    }\n",
       "\n",
       "    .dataframe tbody tr th {\n",
       "        vertical-align: top;\n",
       "    }\n",
       "\n",
       "    .dataframe thead th {\n",
       "        text-align: right;\n",
       "    }\n",
       "</style>\n",
       "<table border=\"1\" class=\"dataframe\">\n",
       "  <thead>\n",
       "    <tr style=\"text-align: right;\">\n",
       "      <th></th>\n",
       "      <th></th>\n",
       "      <th></th>\n",
       "      <th>0</th>\n",
       "      <th>1</th>\n",
       "      <th>2</th>\n",
       "      <th>ishigami</th>\n",
       "    </tr>\n",
       "    <tr>\n",
       "      <th>centre</th>\n",
       "      <th>param</th>\n",
       "      <th>points</th>\n",
       "      <th></th>\n",
       "      <th></th>\n",
       "      <th></th>\n",
       "      <th></th>\n",
       "    </tr>\n",
       "  </thead>\n",
       "  <tbody>\n",
       "    <tr>\n",
       "      <th rowspan=\"5\" valign=\"top\">0</th>\n",
       "      <th rowspan=\"5\" valign=\"top\">x1</th>\n",
       "      <th>0</th>\n",
       "      <td>0.855890</td>\n",
       "      <td>0.380670</td>\n",
       "      <td>0.649854</td>\n",
       "      <td>1.728197</td>\n",
       "    </tr>\n",
       "    <tr>\n",
       "      <th>1</th>\n",
       "      <td>0.521713</td>\n",
       "      <td>0.380670</td>\n",
       "      <td>0.649854</td>\n",
       "      <td>1.469119</td>\n",
       "    </tr>\n",
       "    <tr>\n",
       "      <th>2</th>\n",
       "      <td>0.299610</td>\n",
       "      <td>0.380670</td>\n",
       "      <td>0.649854</td>\n",
       "      <td>1.264088</td>\n",
       "    </tr>\n",
       "    <tr>\n",
       "      <th>3</th>\n",
       "      <td>0.777878</td>\n",
       "      <td>0.380670</td>\n",
       "      <td>0.649854</td>\n",
       "      <td>1.674336</td>\n",
       "    </tr>\n",
       "    <tr>\n",
       "      <th>4</th>\n",
       "      <td>0.761489</td>\n",
       "      <td>0.380670</td>\n",
       "      <td>0.649854</td>\n",
       "      <td>1.662461</td>\n",
       "    </tr>\n",
       "    <tr>\n",
       "      <th>...</th>\n",
       "      <th>...</th>\n",
       "      <th>...</th>\n",
       "      <td>...</td>\n",
       "      <td>...</td>\n",
       "      <td>...</td>\n",
       "      <td>...</td>\n",
       "    </tr>\n",
       "    <tr>\n",
       "      <th rowspan=\"5\" valign=\"top\">49</th>\n",
       "      <th rowspan=\"5\" valign=\"top\">x3</th>\n",
       "      <th>5</th>\n",
       "      <td>0.333677</td>\n",
       "      <td>0.526927</td>\n",
       "      <td>0.600804</td>\n",
       "      <td>2.099867</td>\n",
       "    </tr>\n",
       "    <tr>\n",
       "      <th>6</th>\n",
       "      <td>0.333677</td>\n",
       "      <td>0.526927</td>\n",
       "      <td>0.449691</td>\n",
       "      <td>2.098403</td>\n",
       "    </tr>\n",
       "    <tr>\n",
       "      <th>7</th>\n",
       "      <td>0.333677</td>\n",
       "      <td>0.526927</td>\n",
       "      <td>0.169306</td>\n",
       "      <td>2.097747</td>\n",
       "    </tr>\n",
       "    <tr>\n",
       "      <th>8</th>\n",
       "      <td>0.333677</td>\n",
       "      <td>0.526927</td>\n",
       "      <td>0.452187</td>\n",
       "      <td>2.098418</td>\n",
       "    </tr>\n",
       "    <tr>\n",
       "      <th>9</th>\n",
       "      <td>0.333677</td>\n",
       "      <td>0.526927</td>\n",
       "      <td>0.211748</td>\n",
       "      <td>2.097766</td>\n",
       "    </tr>\n",
       "  </tbody>\n",
       "</table>\n",
       "<p>1500 rows × 4 columns</p>\n",
       "</div>"
      ],
      "text/plain": [
       "                            0         1         2  ishigami\n",
       "centre param points                                        \n",
       "0      x1    0       0.855890  0.380670  0.649854  1.728197\n",
       "             1       0.521713  0.380670  0.649854  1.469119\n",
       "             2       0.299610  0.380670  0.649854  1.264088\n",
       "             3       0.777878  0.380670  0.649854  1.674336\n",
       "             4       0.761489  0.380670  0.649854  1.662461\n",
       "...                       ...       ...       ...       ...\n",
       "49     x3    5       0.333677  0.526927  0.600804  2.099867\n",
       "             6       0.333677  0.526927  0.449691  2.098403\n",
       "             7       0.333677  0.526927  0.169306  2.097747\n",
       "             8       0.333677  0.526927  0.452187  2.098418\n",
       "             9       0.333677  0.526927  0.211748  2.097766\n",
       "\n",
       "[1500 rows x 4 columns]"
      ]
     },
     "execution_count": 20,
     "metadata": {},
     "output_type": "execute_result"
    }
   ],
   "source": [
    "modelframe = pd.read_csv('star_points_results', index_col=[0, 1, 2])\n",
    "modelframe"
   ]
  },
  {
   "cell_type": "markdown",
   "id": "283cd048-aa4c-4cd3-b5a1-90835917481c",
   "metadata": {},
   "source": [
    "Now to run the GVARS analysis simply do the following:"
   ]
  },
  {
   "cell_type": "code",
   "execution_count": 21,
   "id": "cf0ebfbd-b082-44f5-8344-b44c56b87a9f",
   "metadata": {},
   "outputs": [
    {
     "data": {
      "application/vnd.jupyter.widget-view+json": {
       "model_id": "7cf4c8f838784560aefc459aed69bb74",
       "version_major": 2,
       "version_minor": 0
      },
      "text/plain": [
       "building pairs:   0%|          | 0/150 [00:00<?, ?it/s]"
      ]
     },
     "metadata": {},
     "output_type": "display_data"
    },
    {
     "data": {
      "application/vnd.jupyter.widget-view+json": {
       "model_id": "4607f52aa45c414ca63a5bf274e5db07",
       "version_major": 2,
       "version_minor": 0
      },
      "text/plain": [
       "calculating 'h' values:   0%|          | 0/50 [00:00<?, ?it/s]"
      ]
     },
     "metadata": {},
     "output_type": "display_data"
    },
    {
     "data": {
      "application/vnd.jupyter.widget-view+json": {
       "model_id": "b1bba856e1644f978c951bc3e003b8fd",
       "version_major": 2,
       "version_minor": 0
      },
      "text/plain": [
       "binning and reording pairs based on 'h' values:   0%|          | 0/2 [00:00<?, ?it/s]"
      ]
     },
     "metadata": {},
     "output_type": "display_data"
    },
    {
     "data": {
      "application/vnd.jupyter.widget-view+json": {
       "model_id": "85c4c4ca401c47f9be7e05b7df4bebb8",
       "version_major": 2,
       "version_minor": 0
      },
      "text/plain": [
       "VARS analysis:   0%|          | 0/10 [00:00<?, ?it/s]"
      ]
     },
     "metadata": {},
     "output_type": "display_data"
    },
    {
     "data": {
      "application/vnd.jupyter.widget-view+json": {
       "model_id": "d5ba1613a33b4063bbc10c136ab3f9e1",
       "version_major": 2,
       "version_minor": 0
      },
      "text/plain": [
       "factor ranking:   0%|          | 0/2 [00:00<?, ?it/s]"
      ]
     },
     "metadata": {},
     "output_type": "display_data"
    },
    {
     "data": {
      "application/vnd.jupyter.widget-view+json": {
       "model_id": "d8fe42c1cd354ab384762034ecc54c5c",
       "version_major": 2,
       "version_minor": 0
      },
      "text/plain": [
       "bootstrapping:   0%|          | 0/100 [00:00<?, ?it/s]"
      ]
     },
     "metadata": {},
     "output_type": "display_data"
    }
   ],
   "source": [
    "experiment_2.run_offline(modelframe)"
   ]
  },
  {
   "cell_type": "markdown",
   "id": "346a4bd3-1376-40b8-8d2c-5af7de994a05",
   "metadata": {},
   "source": [
    "Now all the results can be accesed the exact same way as they were for online mode with `experiment_1`"
   ]
  },
  {
   "cell_type": "markdown",
   "id": "baa9f9e6-5e8f-4705-b53d-9a01724f7073",
   "metadata": {},
   "source": [
    "# DIY"
   ]
  },
  {
   "cell_type": "markdown",
   "id": "291c93b7-a667-46a3-ad3c-3a027e93c1b4",
   "metadata": {},
   "source": [
    "How about you test `experiment_3` yourself? "
   ]
  },
  {
   "cell_type": "code",
   "execution_count": 10,
   "id": "458fd455-a757-4d88-b021-618a4fb66a13",
   "metadata": {},
   "outputs": [],
   "source": [
    "example_1_model = Model(example_1)"
   ]
  },
  {
   "cell_type": "code",
   "execution_count": 11,
   "id": "b4154f86-5849-4fb2-b3dc-2c841a050430",
   "metadata": {},
   "outputs": [],
   "source": [
    "experiment_3 = GVARS(parameters = {'x1': (-1, 1, None, 'unif'), \n",
    "                                  'x2': (-1, 1, None, 'unif')},\n",
    "                    corr_mat = np.array([[1, -0.8],\n",
    "                                [-0.8, 1]]),\n",
    "                    num_stars=1000,\n",
    "                    num_dir_samples=100,\n",
    "                    delta_h = 0.01,\n",
    "                    ivars_scales = (0.1, 0.3, 0.5),\n",
    "                    model = example_1_model,\n",
    "                    seed = 1234,\n",
    "                    bootstrap_flag = True,\n",
    "                    bootstrap_size = 100,\n",
    "                    bootstrap_ci=0.9,\n",
    "                    grouping_flag=False,\n",
    "                    num_grps=2,\n",
    "                    report_verbose=True,\n",
    "                )"
   ]
  },
  {
   "cell_type": "code",
   "execution_count": 12,
   "id": "72f0e464-8b24-423c-9eda-7c94c03a24db",
   "metadata": {},
   "outputs": [
    {
     "data": {
      "text/plain": [
       "Star Points: Not Loaded\n",
       "Parameters: 2 paremeters set\n",
       "Delta h: 0.01\n",
       "Model: example_1\n",
       "Seed Number: 45311056\n",
       "Bootstrap: On\n",
       "Bootstrap Size: 100\n",
       "Bootstrap CI: 0.9\n",
       "Grouping: On\n",
       "Number of Groups: 2\n",
       "Verbose: On\n",
       "GVARS Analysis: Not Done"
      ]
     },
     "execution_count": 12,
     "metadata": {},
     "output_type": "execute_result"
    }
   ],
   "source": [
    "experiment_3"
   ]
  },
  {
   "cell_type": "code",
   "execution_count": null,
   "id": "cdde6bc9-25b1-46d1-bfde-b6a5896ddc77",
   "metadata": {},
   "outputs": [],
   "source": []
  }
 ],
 "metadata": {
  "kernelspec": {
   "display_name": "Python 3",
   "language": "python",
   "name": "python3"
  },
  "language_info": {
   "codemirror_mode": {
    "name": "ipython",
    "version": 3
   },
   "file_extension": ".py",
   "mimetype": "text/x-python",
   "name": "python",
   "nbconvert_exporter": "python",
   "pygments_lexer": "ipython3",
   "version": "3.8.8"
  }
 },
 "nbformat": 4,
 "nbformat_minor": 5
}
