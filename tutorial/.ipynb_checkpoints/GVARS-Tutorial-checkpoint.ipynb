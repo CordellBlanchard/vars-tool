{
 "cells": [
  {
   "cell_type": "markdown",
   "id": "a9f50bb0-a603-4cf9-b7b1-614eadd24656",
   "metadata": {},
   "source": [
    "# Handling Correlated Factors Using Generalized VARS (GVARS)"
   ]
  },
  {
   "cell_type": "markdown",
   "id": "ead9c2c2-fad9-4d08-991d-0ff3245649bd",
   "metadata": {},
   "source": [
    "## Install"
   ]
  },
  {
   "cell_type": "markdown",
   "id": "c2350110-8146-4cb4-80ab-c4ce10ee3869",
   "metadata": {},
   "source": [
    "This is a simple tutorial show casing GVARS functionalities that are being implement in Python. Let's install the latest VARS-TOOL package from GitHub:"
   ]
  },
  {
   "cell_type": "code",
   "execution_count": 15,
   "id": "6a7340ab-7935-4d9c-ae0c-5e3f271977cd",
   "metadata": {
    "scrolled": true
   },
   "outputs": [
    {
     "name": "stderr",
     "output_type": "stream",
     "text": [
      "'rm' is not recognized as an internal or external command,\n",
      "operable program or batch file.\n",
      "Cloning into 'vars-tool'...\n"
     ]
    },
    {
     "name": "stdout",
     "output_type": "stream",
     "text": [
      "Processing c:\\users\\corde\\giws\\vars-tool\\tutorial\\vars-tool\n",
      "  Installing build dependencies: started\n",
      "  Installing build dependencies: still running...\n",
      "  Installing build dependencies: finished with status 'done'\n",
      "  Getting requirements to build wheel: started\n",
      "  Getting requirements to build wheel: finished with status 'done'\n",
      "    Preparing wheel metadata: started\n",
      "    Preparing wheel metadata: finished with status 'done'\n",
      "Requirement already satisfied: matplotlib in c:\\users\\corde\\anaconda3\\lib\\site-packages (from varstool==2.1) (3.3.4)\n",
      "Requirement already satisfied: mapply in c:\\users\\corde\\anaconda3\\lib\\site-packages (from varstool==2.1) (0.1.7)\n",
      "Requirement already satisfied: numpy in c:\\users\\corde\\anaconda3\\lib\\site-packages (from varstool==2.1) (1.20.1)\n",
      "Requirement already satisfied: pandas in c:\\users\\corde\\anaconda3\\lib\\site-packages (from varstool==2.1) (1.2.4)\n",
      "Requirement already satisfied: psutil in c:\\users\\corde\\anaconda3\\lib\\site-packages (from varstool==2.1) (5.8.0)\n",
      "Requirement already satisfied: scipy in c:\\users\\corde\\anaconda3\\lib\\site-packages (from varstool==2.1) (1.6.2)\n",
      "Requirement already satisfied: joblib in c:\\users\\corde\\anaconda3\\lib\\site-packages (from varstool==2.1) (1.0.1)\n",
      "Requirement already satisfied: tqdm in c:\\users\\corde\\anaconda3\\lib\\site-packages (from varstool==2.1) (4.59.0)\n",
      "Requirement already satisfied: pathos>=0.2.0 in c:\\users\\corde\\anaconda3\\lib\\site-packages (from mapply->varstool==2.1) (0.2.8)\n",
      "Requirement already satisfied: ppft>=1.6.6.4 in c:\\users\\corde\\anaconda3\\lib\\site-packages (from pathos>=0.2.0->mapply->varstool==2.1) (1.6.6.4)\n",
      "Requirement already satisfied: dill>=0.3.4 in c:\\users\\corde\\anaconda3\\lib\\site-packages (from pathos>=0.2.0->mapply->varstool==2.1) (0.3.4)\n",
      "Requirement already satisfied: pox>=0.3.0 in c:\\users\\corde\\anaconda3\\lib\\site-packages (from pathos>=0.2.0->mapply->varstool==2.1) (0.3.0)\n",
      "Requirement already satisfied: multiprocess>=0.70.12 in c:\\users\\corde\\anaconda3\\lib\\site-packages (from pathos>=0.2.0->mapply->varstool==2.1) (0.70.12.2)\n",
      "Requirement already satisfied: six>=1.7.3 in c:\\users\\corde\\anaconda3\\lib\\site-packages (from ppft>=1.6.6.4->pathos>=0.2.0->mapply->varstool==2.1) (1.15.0)\n",
      "Requirement already satisfied: python-dateutil>=2.1 in c:\\users\\corde\\anaconda3\\lib\\site-packages (from matplotlib->varstool==2.1) (2.8.1)\n",
      "Requirement already satisfied: pyparsing!=2.0.4,!=2.1.2,!=2.1.6,>=2.0.3 in c:\\users\\corde\\anaconda3\\lib\\site-packages (from matplotlib->varstool==2.1) (2.4.7)\n",
      "Requirement already satisfied: pillow>=6.2.0 in c:\\users\\corde\\anaconda3\\lib\\site-packages (from matplotlib->varstool==2.1) (8.2.0)\n",
      "Requirement already satisfied: cycler>=0.10 in c:\\users\\corde\\anaconda3\\lib\\site-packages (from matplotlib->varstool==2.1) (0.10.0)\n",
      "Requirement already satisfied: kiwisolver>=1.0.1 in c:\\users\\corde\\anaconda3\\lib\\site-packages (from matplotlib->varstool==2.1) (1.3.1)\n",
      "Requirement already satisfied: pytz>=2017.3 in c:\\users\\corde\\anaconda3\\lib\\site-packages (from pandas->varstool==2.1) (2021.1)\n",
      "Building wheels for collected packages: varstool\n",
      "  Building wheel for varstool (PEP 517): started\n",
      "  Building wheel for varstool (PEP 517): finished with status 'done'\n",
      "  Created wheel for varstool: filename=varstool-2.1-py2.py3-none-any.whl size=421166 sha256=4f78edafcc95318b21b72f52fd55552702213298f8fb189adc8175a8c6b2a885\n",
      "  Stored in directory: c:\\users\\corde\\appdata\\local\\pip\\cache\\wheels\\ea\\22\\e6\\94dfc4ddef885e03d97899daed3e63a6c2c3a1295f1b37f687\n",
      "Successfully built varstool\n",
      "Installing collected packages: varstool\n",
      "  Attempting uninstall: varstool\n",
      "    Found existing installation: varstool 2.1\n",
      "    Uninstalling varstool-2.1:\n",
      "      Successfully uninstalled varstool-2.1\n",
      "Successfully installed varstool-2.1\n"
     ]
    }
   ],
   "source": [
    "!rm -rf vars-tool\n",
    "!git clone https://github.com/vars-tool/vars-tool\n",
    "!pip install vars-tool/."
   ]
  },
  {
   "cell_type": "markdown",
   "id": "cd59eebe-7925-4dc9-977b-a73b2165e9b3",
   "metadata": {},
   "source": [
    "## Example using the Wavy6D model"
   ]
  },
  {
   "cell_type": "markdown",
   "id": "4250f82b-b08d-40c5-b669-2426defa1731",
   "metadata": {},
   "source": [
    "The online mode of VARS tool is where the models are ran in the GVARS analysis\n",
    "\n",
    "Let's import GVARS for the analysis and the Model class for creating a wrapper around the desired model so that it can be inputted into GVARS"
   ]
  },
  {
   "cell_type": "code",
   "execution_count": 16,
   "id": "67e9759a-c8be-4fbb-b77f-9dadaf80a7a8",
   "metadata": {},
   "outputs": [],
   "source": [
    "# importing VARS and Model from varstool package\n",
    "from varstool import GVARS, Model\n",
    "\n",
    "# Loading the \"HBV_SASK\" model that is included in this package\n",
    "from varstool.funcs import HBV_SASK\n",
    "\n",
    "# these are being imported in order for us to display the data nicely on the notebook\n",
    "import numpy as np\n",
    "import pandas as pd"
   ]
  },
  {
   "cell_type": "markdown",
   "id": "3829b08d-92ae-4e9a-bef9-1dd74128cd17",
   "metadata": {},
   "source": [
    "Here is a quick function definition of the wavy6D model:"
   ]
  },
  {
   "cell_type": "code",
   "execution_count": 17,
   "id": "6181d782-a99e-4e61-ae2e-b7973b09145e",
   "metadata": {},
   "outputs": [],
   "source": [
    "def wavy6D(x):\n",
    "    '''wavy6D test function'''\n",
    "    \n",
    "# The features include:             \n",
    "# (1) The 6 input factors are non-interacting                  \n",
    "# (2) The function is \"wavy\" along the first 5 dimensions but with different \n",
    "#     frequencies and amplitude at different directions                                     \n",
    "# (3) The last dimension (X6) is fully isensitive (dummy variable)                                         \n",
    "# (4) It possess large-scale features such multi-modality (X1) \n",
    "#     to small-scale features such as roughness (X3)          \n",
    "# (5) The directional variograms of X1 and X2 cross each other\n",
    "    \n",
    "    # check whether the input x is a dataframe\n",
    "    \n",
    "    if not isinstance(x, (pd.core.frame.DataFrame, pd.core.series.Series, np.ndarray, list)):\n",
    "        raise TypeError('`x` must be of type pandas.DataFrame, numpy.ndarray, pd.Series, or list')\n",
    "    \n",
    "    if len(x) > 6:\n",
    "        raise ValueError('`x` must have only five arguments at a time')\n",
    "    \n",
    "    y1 = -1*np.sin(2*np.pi*x[0]/2) - 0.3*np.sin(2*np.pi*x[0]/0.6)\n",
    "    y2 = 0.76*(-1*np.sin(2*np.pi*(x[1]-0.2)/2)) - 0.315\n",
    "    y3 = 0.12*(-1*np.sin(2*np.pi*(x[2]-0.2)/1.9)) + 0.02*(-1*np.sin(2*np.pi*x[2]/0.021)) - 0.96\n",
    "    y4 = 0.12*(-1*np.sin(2*np.pi*(x[3]-0.2)/1.9))-0.97\n",
    "    y5 = 0.05*(-1*np.sin(2*np.pi*(x[4]-0.2)/2))-1.02\n",
    "    y6 = -1.08\n",
    "\n",
    "    return y1 + y2 + y3 + y4 + y5 + y6"
   ]
  },
  {
   "cell_type": "markdown",
   "id": "7eec5c13-ca97-4379-a0c5-bd9b8498f5c9",
   "metadata": {},
   "source": [
    "Here is a quick function definition of the Ishigami model:"
   ]
  },
  {
   "cell_type": "code",
   "execution_count": 18,
   "id": "934e5170-7499-4afa-ab52-8efdd3fc3b08",
   "metadata": {},
   "outputs": [],
   "source": [
    "def ishigami(x, a=7, b=0.1):\n",
    "    '''Ishigami test function'''\n",
    "    # check whether the input x is a dataframe\n",
    "    \n",
    "    if not isinstance(x, (pd.core.frame.DataFrame, pd.core.series.Series, np.ndarray, list)):\n",
    "        raise TypeError('`x` must be of type pandas.DataFrame, numpy.ndarray, pd.Series, or list')\n",
    "    \n",
    "    if len(x) > 3:\n",
    "        raise ValueError('`x` must have only three arguments at a time')\n",
    "    \n",
    "    return np.sin(x[0]) + a*(np.sin(x[1])**2) + b*(x[2]**4)*np.sin(x[0])"
   ]
  },
  {
   "cell_type": "markdown",
   "id": "0af42338-d9d5-48f0-8615-b99ccfc96622",
   "metadata": {},
   "source": [
    "Here is a quick function definition of the first example model from the GVARS research paper:"
   ]
  },
  {
   "cell_type": "code",
   "execution_count": 19,
   "id": "e4bb96c5-985f-4162-b468-a56c12ed9cb5",
   "metadata": {},
   "outputs": [],
   "source": [
    "def example_1(x):\n",
    "    '''example 1 test function'''\n",
    "    # check whether the input x is a dataframe\n",
    "    \n",
    "    if not isinstance(x, (pd.core.frame.DataFrame, pd.core.series.Series, np.ndarray, list)):\n",
    "        raise TypeError('`x` must be of type pandas.DataFrame, numpy.ndarray, pd.Series, or list')\n",
    "    \n",
    "    if len(x) > 2:\n",
    "        raise ValueError('`x` must have only three arguments at a time')\n",
    "    \n",
    "    return 1.11*(x[0]**2) + x[1]**2 - 0.2*np.cos(7*np.pi*x[1])"
   ]
  },
  {
   "cell_type": "markdown",
   "id": "8648c4e2-18f5-452e-adab-f7aaf07576aa",
   "metadata": {},
   "source": [
    "As mentioned previously The `Model` class is a wrapper for custom functions(models) in the online version of GVARS. However, the first paramter of every function must accept an array of parameters\n",
    "\n",
    "Here we will create two wrappers for the testing models ishigami (for offline example) and wavy6D (for online example) :"
   ]
  },
  {
   "cell_type": "code",
   "execution_count": 20,
   "id": "5b138169-2fea-4d27-a906-94c334250a59",
   "metadata": {},
   "outputs": [],
   "source": [
    "ishigami_model = Model(ishigami)"
   ]
  },
  {
   "cell_type": "code",
   "execution_count": 21,
   "id": "c635db0d-39ba-401f-af1f-7eb108e0889d",
   "metadata": {},
   "outputs": [],
   "source": [
    "wavy6D_model = Model(wavy6D)"
   ]
  },
  {
   "cell_type": "markdown",
   "id": "3865e5c3-d234-47bc-8722-355e8cc89ff7",
   "metadata": {},
   "source": [
    "When creating an experiment you will need to assign a variable to an instance of GVARS as shown below.\n",
    "\n",
    "The attributes of the GVARS class are described as:\n",
    "\n",
    "**paramaters**: the name of each paramter along with the following\n",
    "specifications, in the following order: <br>\n",
    "for `uniform` distributions: <br>\n",
    "parameter name : *lower bound*, *upper bound*, *None*, `unif` <br> <br>\n",
    "for `triangle` distributions: <br>\n",
    "parameter name : *lower bound*, *upper bound*, *c*, `triangle` <br> <br>\n",
    "for `normal` distributions: <br>\n",
    "parameter name : *mean*, *standard deviation*, *None*, `norm` <br> <br>\n",
    "for `lognormal` distributions: <br>\n",
    "parameter name: *mean*, *standard deviation*, *None*, `lognorm` <br> <br>\n",
    "for `exponential` distributions: <br>\n",
    "parameter name: *mean*, *standard deviation*, *None*, `expo` <br> <br>\n",
    "for `generalized extreme value` distributions: <br>\n",
    "parameter name: *location*, *scale*, *shape*, `gev` <br>\n",
    "\n",
    "**corr_mat**: the correlation matrix which describes the correlation between parameters (**must be a numpy array**)\n",
    "\n",
    "**num_stars**: the total number of star samples that are desired for GSTAR-VARS analysis\n",
    "\n",
    "**num_dir_samples**: the number of directional samples per star sample\n",
    "\n",
    "**delta_h**: the sampling resolution of the GVARS analysis\n",
    "\n",
    "**ivars_scales**: the scales that are to be used when doing IVARS, e.g, 0.1 and 0.3 correspond (0-0.1) and (0-0.3) <br /> note: can not have a scale larger then 0.5\n",
    "\n",
    "**model**: the wrapper of your model you made when using the `Model` class\n",
    "\n",
    "**bootstrap_flag**: this is a True/False value that specifies if bootstrapping will be used in the GVARS analysis\n",
    "\n",
    "**bootstrap_size**: the number of sampling iterations with replacement\n",
    "\n",
    "**bootstrap_ci**: the bootstrap-based confidence interval on results\n",
    "\n",
    "**grouping_flag**: this is a True/False value that specifies if paramater grouping will be used in the VARS analysis\n",
    "\n",
    "**num_grps**: the number of groups you want to split your paramaters into, if left blank the optimal number of groups will be calculated by VARS\n",
    "\n",
    "**report_verbose**: this is a True/False value that if True will display a loading bar to show the progession of the GVARS analysis, else there will be no progression loading bar"
   ]
  },
  {
   "cell_type": "markdown",
   "id": "04740a5b-dbe3-4b91-b289-7d45a04f502d",
   "metadata": {},
   "source": [
    "Create `experiment_1` then initialize the values needed to run a GVARS analysis:\n",
    "\n",
    "`experiment_1` is an instance of GVARS that is using the wavy6D model"
   ]
  },
  {
   "cell_type": "code",
   "execution_count": 25,
   "id": "c6726bb4-b695-43e1-bbdb-621bfa3dd9e7",
   "metadata": {},
   "outputs": [
    {
     "ename": "ValueError",
     "evalue": "The truth value of an array with more than one element is ambiguous. Use a.any() or a.all()",
     "output_type": "error",
     "traceback": [
      "\u001b[1;31m---------------------------------------------------------------------------\u001b[0m",
      "\u001b[1;31mValueError\u001b[0m                                Traceback (most recent call last)",
      "\u001b[1;32m<ipython-input-25-67c5e0ad0031>\u001b[0m in \u001b[0;36m<module>\u001b[1;34m\u001b[0m\n\u001b[1;32m----> 1\u001b[1;33m experiment_1 = GVARS(parameters = {'x1': (-3.14, 3.14, None, 'unif'), \n\u001b[0m\u001b[0;32m      2\u001b[0m                                   \u001b[1;34m'x2'\u001b[0m\u001b[1;33m:\u001b[0m \u001b[1;33m(\u001b[0m\u001b[1;33m-\u001b[0m\u001b[1;36m3.14\u001b[0m\u001b[1;33m,\u001b[0m \u001b[1;36m3.14\u001b[0m\u001b[1;33m,\u001b[0m \u001b[1;32mNone\u001b[0m\u001b[1;33m,\u001b[0m \u001b[1;34m'unif'\u001b[0m\u001b[1;33m)\u001b[0m\u001b[1;33m,\u001b[0m\u001b[1;33m\u001b[0m\u001b[1;33m\u001b[0m\u001b[0m\n\u001b[0;32m      3\u001b[0m                                   \u001b[1;34m'x3'\u001b[0m\u001b[1;33m:\u001b[0m \u001b[1;33m(\u001b[0m\u001b[1;33m-\u001b[0m\u001b[1;36m3.14\u001b[0m\u001b[1;33m,\u001b[0m \u001b[1;36m3.14\u001b[0m\u001b[1;33m,\u001b[0m \u001b[1;32mNone\u001b[0m\u001b[1;33m,\u001b[0m \u001b[1;34m'unif'\u001b[0m\u001b[1;33m)\u001b[0m\u001b[1;33m,\u001b[0m\u001b[1;33m\u001b[0m\u001b[1;33m\u001b[0m\u001b[0m\n\u001b[0;32m      4\u001b[0m                                   \u001b[1;34m'x4'\u001b[0m\u001b[1;33m:\u001b[0m \u001b[1;33m(\u001b[0m\u001b[1;36m0\u001b[0m\u001b[1;33m,\u001b[0m \u001b[1;36m1\u001b[0m\u001b[1;33m,\u001b[0m \u001b[1;32mNone\u001b[0m\u001b[1;33m,\u001b[0m \u001b[1;34m'unif'\u001b[0m\u001b[1;33m)\u001b[0m\u001b[1;33m,\u001b[0m\u001b[1;33m\u001b[0m\u001b[1;33m\u001b[0m\u001b[0m\n\u001b[0;32m      5\u001b[0m                                   \u001b[1;34m'x5'\u001b[0m\u001b[1;33m:\u001b[0m \u001b[1;33m(\u001b[0m\u001b[1;36m0\u001b[0m\u001b[1;33m,\u001b[0m \u001b[1;36m1\u001b[0m\u001b[1;33m,\u001b[0m \u001b[1;32mNone\u001b[0m\u001b[1;33m,\u001b[0m \u001b[1;34m'unif'\u001b[0m\u001b[1;33m)\u001b[0m\u001b[1;33m,\u001b[0m\u001b[1;33m\u001b[0m\u001b[1;33m\u001b[0m\u001b[0m\n",
      "\u001b[1;32m~\\anaconda3\\lib\\site-packages\\varstool\\vars_sa.py\u001b[0m in \u001b[0;36m__init__\u001b[1;34m(self, num_stars, parameters, delta_h, ivars_scales, model, seed, bootstrap_flag, bootstrap_size, bootstrap_ci, grouping_flag, num_grps, report_verbose, corr_mat, num_dir_samples)\u001b[0m\n\u001b[0;32m    992\u001b[0m         \u001b[0mself\u001b[0m\u001b[1;33m.\u001b[0m\u001b[0mnum_dir_samples\u001b[0m \u001b[1;33m=\u001b[0m \u001b[1;36m10\u001b[0m\u001b[1;33m\u001b[0m\u001b[1;33m\u001b[0m\u001b[0m\n\u001b[0;32m    993\u001b[0m \u001b[1;33m\u001b[0m\u001b[0m\n\u001b[1;32m--> 994\u001b[1;33m         \u001b[1;32mif\u001b[0m \u001b[1;32mnot\u001b[0m \u001b[0mself\u001b[0m\u001b[1;33m.\u001b[0m\u001b[0mcorr_mat\u001b[0m\u001b[1;33m:\u001b[0m\u001b[1;33m\u001b[0m\u001b[1;33m\u001b[0m\u001b[0m\n\u001b[0m\u001b[0;32m    995\u001b[0m             warnings.warn(\n\u001b[0;32m    996\u001b[0m                 \u001b[1;34m\"Correlation matrix was not valid, default value is a identity matrix.\"\u001b[0m\u001b[1;33m,\u001b[0m\u001b[1;33m\u001b[0m\u001b[1;33m\u001b[0m\u001b[0m\n",
      "\u001b[1;31mValueError\u001b[0m: The truth value of an array with more than one element is ambiguous. Use a.any() or a.all()"
     ]
    }
   ],
   "source": [
    "experiment_1 = GVARS(parameters = {'x1': (-3.14, 3.14, None, 'unif'), \n",
    "                                  'x2': (-3.14, 3.14, None, 'unif'), \n",
    "                                  'x3': (-3.14, 3.14, None, 'unif'),\n",
    "                                  'x4': (0, 1, None, 'unif'),\n",
    "                                  'x5': (0, 1, None, 'unif'),\n",
    "                                  'x6': (0, 1, None, 'unit')},\n",
    "                    corr_mat = np.array([[1, 0, 0.8, 0, 0, 0],\n",
    "                                [0, 1, 0, 0, 0, 0],\n",
    "                                [0.8, 0, 1, 0, 0, 0],\n",
    "                                [0, 0, 0, 1, 0, 0],\n",
    "                                [0, 0, 0, 0, 1, 0],\n",
    "                                [0, 0, 0, 0, 0, 1]]),\n",
    "                    num_stars=100,\n",
    "                    num_dir_samples=10,\n",
    "                    delta_h = 0.1,\n",
    "                    ivars_scales = (0.1, 0.3, 0.5),\n",
    "                    model = wavy6D_model,\n",
    "                    seed = 1234,\n",
    "                    bootstrap_flag = True,\n",
    "                    bootstrap_size = 100,\n",
    "                    bootstrap_ci=0.9,\n",
    "                    grouping_flag=True,\n",
    "                    num_grps=3,\n",
    "                    report_verbose=True,\n",
    "                )"
   ]
  },
  {
   "cell_type": "markdown",
   "id": "507f6d42-0f9e-4909-a2dd-83dc7aedece5",
   "metadata": {},
   "source": [
    "A report displaying the current status of the GVARS analysis can be found by typing in the variable name of the instance you created, here this is `experiment_1`"
   ]
  },
  {
   "cell_type": "code",
   "execution_count": 23,
   "id": "ecb3ad96-55e5-4264-ba7f-fac58161d428",
   "metadata": {},
   "outputs": [
    {
     "data": {
      "text/plain": [
       "Star Centres: Not Loaded\n",
       "Star Points: Not Loaded\n",
       "Parameters: 6 paremeters set\n",
       "Delta h: 0.1\n",
       "Model: wavy6D\n",
       "Seed Number: 1234\n",
       "Bootstrap: On\n",
       "Bootstrap Size: 100\n",
       "Bootstrap CI: 0.9\n",
       "Grouping: On\n",
       "Number of Groups: 3\n",
       "Verbose: On\n",
       "GVARS Analysis: Not Done"
      ]
     },
     "execution_count": 23,
     "metadata": {},
     "output_type": "execute_result"
    }
   ],
   "source": [
    "experiment_1"
   ]
  },
  {
   "cell_type": "markdown",
   "id": "8c66d634-58e8-401b-829f-ec6479306939",
   "metadata": {},
   "source": [
    "To run the GVARS analysis we can simply do the following:"
   ]
  },
  {
   "cell_type": "code",
   "execution_count": 24,
   "id": "540ef2aa-40ab-4b25-9e1e-01fca7c7150b",
   "metadata": {},
   "outputs": [
    {
     "data": {
      "application/vnd.jupyter.widget-view+json": {
       "model_id": "a830b5aabab74f4aac3c886e9c3be01d",
       "version_major": 2,
       "version_minor": 0
      },
      "text/plain": [
       "generating star points:   0%|          | 0/9 [00:00<?, ?it/s]"
      ]
     },
     "metadata": {},
     "output_type": "display_data"
    },
    {
     "name": "stdout",
     "output_type": "stream",
     "text": [
      "Function could not converge, fictive matrix was not computed\n",
      "Function could not converge, fictive matrix was not computed\n",
      "Function could not converge, fictive matrix was not computed\n",
      "Function could not converge, fictive matrix was not computed\n",
      "Function could not converge, fictive matrix was not computed\n"
     ]
    },
    {
     "data": {
      "application/vnd.jupyter.widget-view+json": {
       "model_id": "6c22c16526f54cc4bf042b69ae10d17f",
       "version_major": 2,
       "version_minor": 0
      },
      "text/plain": [
       "function evaluation:   0%|          | 0/5100 [00:00<?, ?it/s]"
      ]
     },
     "metadata": {},
     "output_type": "display_data"
    },
    {
     "data": {
      "application/vnd.jupyter.widget-view+json": {
       "model_id": "f4a1241cfd9f4bd6950e357be326d17f",
       "version_major": 2,
       "version_minor": 0
      },
      "text/plain": [
       "building pairs:   0%|          | 0/600 [00:00<?, ?it/s]"
      ]
     },
     "metadata": {},
     "output_type": "display_data"
    },
    {
     "data": {
      "application/vnd.jupyter.widget-view+json": {
       "model_id": "6ac19686e36c4b29a4b264e406247086",
       "version_major": 2,
       "version_minor": 0
      },
      "text/plain": [
       "calculating 'h' values:   0%|          | 0/100 [00:00<?, ?it/s]"
      ]
     },
     "metadata": {},
     "output_type": "display_data"
    },
    {
     "name": "stderr",
     "output_type": "stream",
     "text": [
      "C:\\Users\\Corde\\anaconda3\\lib\\site-packages\\varstool\\sa\\gvars_funcs.py:420: RuntimeWarning: invalid value encountered in double_scalars\n",
      "  dist_list.append(np.abs((df.loc[star_centre, param][param_num][idx_tup[0]] -\n"
     ]
    },
    {
     "data": {
      "application/vnd.jupyter.widget-view+json": {
       "model_id": "13785cf533cc49889f0da5329b3742a8",
       "version_major": 2,
       "version_minor": 0
      },
      "text/plain": [
       "binning and reording pairs based on 'h' values:   0%|          | 0/2 [00:00<?, ?it/s]"
      ]
     },
     "metadata": {},
     "output_type": "display_data"
    },
    {
     "data": {
      "application/vnd.jupyter.widget-view+json": {
       "model_id": "c3427f517df8449a89a6fc982dd3c587",
       "version_major": 2,
       "version_minor": 0
      },
      "text/plain": [
       "VARS analysis:   0%|          | 0/10 [00:00<?, ?it/s]"
      ]
     },
     "metadata": {},
     "output_type": "display_data"
    },
    {
     "data": {
      "application/vnd.jupyter.widget-view+json": {
       "model_id": "0ee5c3e550514a9e9d14e825e45c0ee2",
       "version_major": 2,
       "version_minor": 0
      },
      "text/plain": [
       "factor ranking:   0%|          | 0/2 [00:00<?, ?it/s]"
      ]
     },
     "metadata": {},
     "output_type": "display_data"
    },
    {
     "ename": "ValueError",
     "evalue": "6 columns passed, passed data had 5 columns",
     "output_type": "error",
     "traceback": [
      "\u001b[1;31m---------------------------------------------------------------------------\u001b[0m",
      "\u001b[1;31mAssertionError\u001b[0m                            Traceback (most recent call last)",
      "\u001b[1;32m~\\anaconda3\\lib\\site-packages\\pandas\\core\\internals\\construction.py\u001b[0m in \u001b[0;36m_list_to_arrays\u001b[1;34m(data, columns, coerce_float, dtype)\u001b[0m\n\u001b[0;32m    567\u001b[0m     \u001b[1;32mtry\u001b[0m\u001b[1;33m:\u001b[0m\u001b[1;33m\u001b[0m\u001b[1;33m\u001b[0m\u001b[0m\n\u001b[1;32m--> 568\u001b[1;33m         \u001b[0mcolumns\u001b[0m \u001b[1;33m=\u001b[0m \u001b[0m_validate_or_indexify_columns\u001b[0m\u001b[1;33m(\u001b[0m\u001b[0mcontent\u001b[0m\u001b[1;33m,\u001b[0m \u001b[0mcolumns\u001b[0m\u001b[1;33m)\u001b[0m\u001b[1;33m\u001b[0m\u001b[1;33m\u001b[0m\u001b[0m\n\u001b[0m\u001b[0;32m    569\u001b[0m         \u001b[0mresult\u001b[0m \u001b[1;33m=\u001b[0m \u001b[0m_convert_object_array\u001b[0m\u001b[1;33m(\u001b[0m\u001b[0mcontent\u001b[0m\u001b[1;33m,\u001b[0m \u001b[0mdtype\u001b[0m\u001b[1;33m=\u001b[0m\u001b[0mdtype\u001b[0m\u001b[1;33m,\u001b[0m \u001b[0mcoerce_float\u001b[0m\u001b[1;33m=\u001b[0m\u001b[0mcoerce_float\u001b[0m\u001b[1;33m)\u001b[0m\u001b[1;33m\u001b[0m\u001b[1;33m\u001b[0m\u001b[0m\n",
      "\u001b[1;32m~\\anaconda3\\lib\\site-packages\\pandas\\core\\internals\\construction.py\u001b[0m in \u001b[0;36m_validate_or_indexify_columns\u001b[1;34m(content, columns)\u001b[0m\n\u001b[0;32m    691\u001b[0m             \u001b[1;31m# caller's responsibility to check for this...\u001b[0m\u001b[1;33m\u001b[0m\u001b[1;33m\u001b[0m\u001b[1;33m\u001b[0m\u001b[0m\n\u001b[1;32m--> 692\u001b[1;33m             raise AssertionError(\n\u001b[0m\u001b[0;32m    693\u001b[0m                 \u001b[1;34mf\"{len(columns)} columns passed, passed data had \"\u001b[0m\u001b[1;33m\u001b[0m\u001b[1;33m\u001b[0m\u001b[0m\n",
      "\u001b[1;31mAssertionError\u001b[0m: 6 columns passed, passed data had 5 columns",
      "\nThe above exception was the direct cause of the following exception:\n",
      "\u001b[1;31mValueError\u001b[0m                                Traceback (most recent call last)",
      "\u001b[1;32m<ipython-input-24-a1f2a6c4aabb>\u001b[0m in \u001b[0;36m<module>\u001b[1;34m\u001b[0m\n\u001b[1;32m----> 1\u001b[1;33m \u001b[0mexperiment_1\u001b[0m\u001b[1;33m.\u001b[0m\u001b[0mrun_online\u001b[0m\u001b[1;33m(\u001b[0m\u001b[1;33m)\u001b[0m\u001b[1;33m\u001b[0m\u001b[1;33m\u001b[0m\u001b[0m\n\u001b[0m",
      "\u001b[1;32m~\\anaconda3\\lib\\site-packages\\varstool\\vars_sa.py\u001b[0m in \u001b[0;36mrun_online\u001b[1;34m(self)\u001b[0m\n\u001b[0;32m   1341\u001b[0m         \u001b[1;31m# turn results into data frame\u001b[0m\u001b[1;33m\u001b[0m\u001b[1;33m\u001b[0m\u001b[1;33m\u001b[0m\u001b[0m\n\u001b[0;32m   1342\u001b[0m         self.st_factor_ranking = pd.DataFrame(data=[sobol_factor_ranking_array], columns=self.parameters.keys(),\n\u001b[1;32m-> 1343\u001b[1;33m                                               index=[''])\n\u001b[0m\u001b[0;32m   1344\u001b[0m         \u001b[1;32mif\u001b[0m \u001b[0mself\u001b[0m\u001b[1;33m.\u001b[0m\u001b[0mreport_verbose\u001b[0m\u001b[1;33m:\u001b[0m\u001b[1;33m\u001b[0m\u001b[1;33m\u001b[0m\u001b[0m\n\u001b[0;32m   1345\u001b[0m             \u001b[0mfactor_rank_pbar\u001b[0m\u001b[1;33m.\u001b[0m\u001b[0mupdate\u001b[0m\u001b[1;33m(\u001b[0m\u001b[1;36m1\u001b[0m\u001b[1;33m)\u001b[0m\u001b[1;33m\u001b[0m\u001b[1;33m\u001b[0m\u001b[0m\n",
      "\u001b[1;32m~\\anaconda3\\lib\\site-packages\\pandas\\core\\frame.py\u001b[0m in \u001b[0;36m__init__\u001b[1;34m(self, data, index, columns, dtype, copy)\u001b[0m\n\u001b[0;32m    568\u001b[0m                     \u001b[1;32mif\u001b[0m \u001b[0mis_named_tuple\u001b[0m\u001b[1;33m(\u001b[0m\u001b[0mdata\u001b[0m\u001b[1;33m[\u001b[0m\u001b[1;36m0\u001b[0m\u001b[1;33m]\u001b[0m\u001b[1;33m)\u001b[0m \u001b[1;32mand\u001b[0m \u001b[0mcolumns\u001b[0m \u001b[1;32mis\u001b[0m \u001b[1;32mNone\u001b[0m\u001b[1;33m:\u001b[0m\u001b[1;33m\u001b[0m\u001b[1;33m\u001b[0m\u001b[0m\n\u001b[0;32m    569\u001b[0m                         \u001b[0mcolumns\u001b[0m \u001b[1;33m=\u001b[0m \u001b[0mdata\u001b[0m\u001b[1;33m[\u001b[0m\u001b[1;36m0\u001b[0m\u001b[1;33m]\u001b[0m\u001b[1;33m.\u001b[0m\u001b[0m_fields\u001b[0m\u001b[1;33m\u001b[0m\u001b[1;33m\u001b[0m\u001b[0m\n\u001b[1;32m--> 570\u001b[1;33m                     \u001b[0marrays\u001b[0m\u001b[1;33m,\u001b[0m \u001b[0mcolumns\u001b[0m \u001b[1;33m=\u001b[0m \u001b[0mto_arrays\u001b[0m\u001b[1;33m(\u001b[0m\u001b[0mdata\u001b[0m\u001b[1;33m,\u001b[0m \u001b[0mcolumns\u001b[0m\u001b[1;33m,\u001b[0m \u001b[0mdtype\u001b[0m\u001b[1;33m=\u001b[0m\u001b[0mdtype\u001b[0m\u001b[1;33m)\u001b[0m\u001b[1;33m\u001b[0m\u001b[1;33m\u001b[0m\u001b[0m\n\u001b[0m\u001b[0;32m    571\u001b[0m                     \u001b[0mcolumns\u001b[0m \u001b[1;33m=\u001b[0m \u001b[0mensure_index\u001b[0m\u001b[1;33m(\u001b[0m\u001b[0mcolumns\u001b[0m\u001b[1;33m)\u001b[0m\u001b[1;33m\u001b[0m\u001b[1;33m\u001b[0m\u001b[0m\n\u001b[0;32m    572\u001b[0m \u001b[1;33m\u001b[0m\u001b[0m\n",
      "\u001b[1;32m~\\anaconda3\\lib\\site-packages\\pandas\\core\\internals\\construction.py\u001b[0m in \u001b[0;36mto_arrays\u001b[1;34m(data, columns, coerce_float, dtype)\u001b[0m\n\u001b[0;32m    550\u001b[0m         \u001b[1;31m# last ditch effort\u001b[0m\u001b[1;33m\u001b[0m\u001b[1;33m\u001b[0m\u001b[1;33m\u001b[0m\u001b[0m\n\u001b[0;32m    551\u001b[0m         \u001b[0mdata\u001b[0m \u001b[1;33m=\u001b[0m \u001b[1;33m[\u001b[0m\u001b[0mtuple\u001b[0m\u001b[1;33m(\u001b[0m\u001b[0mx\u001b[0m\u001b[1;33m)\u001b[0m \u001b[1;32mfor\u001b[0m \u001b[0mx\u001b[0m \u001b[1;32min\u001b[0m \u001b[0mdata\u001b[0m\u001b[1;33m]\u001b[0m\u001b[1;33m\u001b[0m\u001b[1;33m\u001b[0m\u001b[0m\n\u001b[1;32m--> 552\u001b[1;33m         \u001b[1;32mreturn\u001b[0m \u001b[0m_list_to_arrays\u001b[0m\u001b[1;33m(\u001b[0m\u001b[0mdata\u001b[0m\u001b[1;33m,\u001b[0m \u001b[0mcolumns\u001b[0m\u001b[1;33m,\u001b[0m \u001b[0mcoerce_float\u001b[0m\u001b[1;33m=\u001b[0m\u001b[0mcoerce_float\u001b[0m\u001b[1;33m,\u001b[0m \u001b[0mdtype\u001b[0m\u001b[1;33m=\u001b[0m\u001b[0mdtype\u001b[0m\u001b[1;33m)\u001b[0m\u001b[1;33m\u001b[0m\u001b[1;33m\u001b[0m\u001b[0m\n\u001b[0m\u001b[0;32m    553\u001b[0m \u001b[1;33m\u001b[0m\u001b[0m\n\u001b[0;32m    554\u001b[0m \u001b[1;33m\u001b[0m\u001b[0m\n",
      "\u001b[1;32m~\\anaconda3\\lib\\site-packages\\pandas\\core\\internals\\construction.py\u001b[0m in \u001b[0;36m_list_to_arrays\u001b[1;34m(data, columns, coerce_float, dtype)\u001b[0m\n\u001b[0;32m    569\u001b[0m         \u001b[0mresult\u001b[0m \u001b[1;33m=\u001b[0m \u001b[0m_convert_object_array\u001b[0m\u001b[1;33m(\u001b[0m\u001b[0mcontent\u001b[0m\u001b[1;33m,\u001b[0m \u001b[0mdtype\u001b[0m\u001b[1;33m=\u001b[0m\u001b[0mdtype\u001b[0m\u001b[1;33m,\u001b[0m \u001b[0mcoerce_float\u001b[0m\u001b[1;33m=\u001b[0m\u001b[0mcoerce_float\u001b[0m\u001b[1;33m)\u001b[0m\u001b[1;33m\u001b[0m\u001b[1;33m\u001b[0m\u001b[0m\n\u001b[0;32m    570\u001b[0m     \u001b[1;32mexcept\u001b[0m \u001b[0mAssertionError\u001b[0m \u001b[1;32mas\u001b[0m \u001b[0me\u001b[0m\u001b[1;33m:\u001b[0m\u001b[1;33m\u001b[0m\u001b[1;33m\u001b[0m\u001b[0m\n\u001b[1;32m--> 571\u001b[1;33m         \u001b[1;32mraise\u001b[0m \u001b[0mValueError\u001b[0m\u001b[1;33m(\u001b[0m\u001b[0me\u001b[0m\u001b[1;33m)\u001b[0m \u001b[1;32mfrom\u001b[0m \u001b[0me\u001b[0m\u001b[1;33m\u001b[0m\u001b[1;33m\u001b[0m\u001b[0m\n\u001b[0m\u001b[0;32m    572\u001b[0m     \u001b[1;32mreturn\u001b[0m \u001b[0mresult\u001b[0m\u001b[1;33m,\u001b[0m \u001b[0mcolumns\u001b[0m\u001b[1;33m\u001b[0m\u001b[1;33m\u001b[0m\u001b[0m\n\u001b[0;32m    573\u001b[0m \u001b[1;33m\u001b[0m\u001b[0m\n",
      "\u001b[1;31mValueError\u001b[0m: 6 columns passed, passed data had 5 columns"
     ]
    }
   ],
   "source": [
    "experiment_1.run_online()"
   ]
  },
  {
   "cell_type": "markdown",
   "id": "5d04bb59-badb-4e63-aba7-85febd5757b7",
   "metadata": {},
   "source": [
    "Now if we take a look at the status report again we can see that the `GVARS Analysis` is now done."
   ]
  },
  {
   "cell_type": "code",
   "execution_count": 11,
   "id": "a5847970-9bc5-4b80-9621-1d29a4a88402",
   "metadata": {},
   "outputs": [
    {
     "data": {
      "text/plain": [
       "Star Points: Loaded 100 stars with 10 directional samples\n",
       "Parameters: 6 paremeters set\n",
       "Delta h: 0.1\n",
       "Model: wavy6D\n",
       "Seed Number: 113577603\n",
       "Bootstrap: On\n",
       "Bootstrap Size: 100\n",
       "Bootstrap CI: 0.9\n",
       "Grouping: On\n",
       "Number of Groups: 3\n",
       "Verbose: On\n",
       "GVARS Analysis: Done"
      ]
     },
     "execution_count": 11,
     "metadata": {},
     "output_type": "execute_result"
    }
   ],
   "source": [
    "experiment_1"
   ]
  },
  {
   "cell_type": "markdown",
   "id": "e1eaab8a-7d6e-4a90-a266-52d82b465809",
   "metadata": {},
   "source": [
    "**Standard Plots**\n",
    "\n",
    "Users can create their own plots from the resulting dataframes, but there is also access to the two plots given by the GVARS program. They can be shown by doing the following:\n",
    "\n",
    "note: if bootstrapping is done the confidence interval limits for the ivars50 and sobol results will be shown in the bar plot\n",
    "\n",
    "note: to display the variogram plot with the y axis in the logscale change the logy paramater to `True`\n",
    "\n",
    "note: the plot function returns the resulting plots axes, and the barchart figure incase the user wants to edit the plots"
   ]
  },
  {
   "cell_type": "code",
   "execution_count": 12,
   "id": "ed9293d1-af44-4646-97e6-57a883036c24",
   "metadata": {},
   "outputs": [
    {
     "data": {
      "image/png": "[encoded data removed]",
      "text/plain": [
       "<Figure size 432x288 with 1 Axes>"
      ]
     },
     "metadata": {
      "needs_background": "light"
     },
     "output_type": "display_data"
    },
    {
     "data": {
      "image/png": "[encoded data removed]",
      "text/plain": [
       "<Figure size 432x288 with 1 Axes>"
      ]
     },
     "metadata": {
      "needs_background": "light"
     },
     "output_type": "display_data"
    }
   ],
   "source": [
    "varsax, barfig, barax = experiment_1.plot(logy=False)"
   ]
  },
  {
   "cell_type": "markdown",
   "id": "1bc1162d-6e65-44ae-9e89-b119e2d66fad",
   "metadata": {},
   "source": [
    "**Correlation Plot**\n",
    "\n",
    "Users can see the correlation between two parameters by using the `correlation_plot` method. This method will display the star centres and star points for each parameter\n",
    "\n",
    "Inputs: <br/>\n",
    "`param_names`: list or array containing the names of the two desired parameters to be plotted\n",
    "\n"
   ]
  },
  {
   "cell_type": "code",
   "execution_count": null,
   "id": "a77dcf8e-ee35-4930-a36e-9dd565500094",
   "metadata": {},
   "outputs": [],
   "source": [
    "names = ['x1', 'x2']\n",
    "experiment_1.correlation_plot(param_names=names)"
   ]
  },
  {
   "cell_type": "markdown",
   "id": "d9bb22a2-69b0-49eb-96bf-696d4a324909",
   "metadata": {},
   "source": [
    "**Educational Outputs** <br/>\n",
    "*these outputs can be used to analyze the program on a deeper level*"
   ]
  },
  {
   "cell_type": "markdown",
   "id": "8d163722-7f94-4a85-81c3-e9b566ed1338",
   "metadata": {},
   "source": [
    "The star centre samples"
   ]
  },
  {
   "cell_type": "code",
   "execution_count": 13,
   "id": "fad91f02-c5ac-4e10-90cd-936ced681978",
   "metadata": {},
   "outputs": [
    {
     "data": {
      "text/plain": [
       "dict_keys(['Gamma', 'MAEE', 'MEE', 'COV', 'ECOV', 'IVARS', 'IVARSid', 'rnkST', 'rnkIVARS', 'Gammalb', 'Gammaub', 'STlb', 'STub', 'IVARSlb', 'IVARSub', 'relST', 'relIVARS', 'Groups', 'relGrp'])"
      ]
     },
     "execution_count": 13,
     "metadata": {},
     "output_type": "execute_result"
    }
   ],
   "source": [
    "experiment_1.star_centres"
   ]
  },
  {
   "cell_type": "markdown",
   "id": "bf972d78-1ad4-435d-9bd3-52ef91933bc6",
   "metadata": {},
   "source": [
    "Dataframe containing star points"
   ]
  },
  {
   "cell_type": "code",
   "execution_count": 13,
   "id": "7577718d-9264-44a3-8851-a5de2664065f",
   "metadata": {},
   "outputs": [
    {
     "data": {
      "text/plain": [
       "dict_keys(['Gamma', 'MAEE', 'MEE', 'COV', 'ECOV', 'IVARS', 'IVARSid', 'rnkST', 'rnkIVARS', 'Gammalb', 'Gammaub', 'STlb', 'STub', 'IVARSlb', 'IVARSub', 'relST', 'relIVARS', 'Groups', 'relGrp'])"
      ]
     },
     "execution_count": 13,
     "metadata": {},
     "output_type": "execute_result"
    }
   ],
   "source": [
    "experiment_1.star_points"
   ]
  },
  {
   "cell_type": "markdown",
   "id": "860744d2-96b3-41aa-ab74-da0edf5e9307",
   "metadata": {},
   "source": [
    "Dataframe containig the star points along with the models output"
   ]
  },
  {
   "cell_type": "code",
   "execution_count": 13,
   "id": "f65404bb-2118-4097-9804-68e975274c7e",
   "metadata": {},
   "outputs": [
    {
     "data": {
      "text/plain": [
       "dict_keys(['Gamma', 'MAEE', 'MEE', 'COV', 'ECOV', 'IVARS', 'IVARSid', 'rnkST', 'rnkIVARS', 'Gammalb', 'Gammaub', 'STlb', 'STub', 'IVARSlb', 'IVARSub', 'relST', 'relIVARS', 'Groups', 'relGrp'])"
      ]
     },
     "execution_count": 13,
     "metadata": {},
     "output_type": "execute_result"
    }
   ],
   "source": [
    "experiment_1.model_df"
   ]
  },
  {
   "cell_type": "markdown",
   "id": "285fe8f5-ef92-4ab3-a194-db919d6d46ae",
   "metadata": {},
   "source": [
    "Dataframe containing the pairs for variogram analysis along with their dissimilarity"
   ]
  },
  {
   "cell_type": "code",
   "execution_count": 13,
   "id": "21f59123-3fed-443a-bcce-425f47f9898b",
   "metadata": {},
   "outputs": [
    {
     "data": {
      "text/plain": [
       "dict_keys(['Gamma', 'MAEE', 'MEE', 'COV', 'ECOV', 'IVARS', 'IVARSid', 'rnkST', 'rnkIVARS', 'Gammalb', 'Gammaub', 'STlb', 'STub', 'IVARSlb', 'IVARSub', 'relST', 'relIVARS', 'Groups', 'relGrp'])"
      ]
     },
     "execution_count": 13,
     "metadata": {},
     "output_type": "execute_result"
    }
   ],
   "source": [
    "experiment_1.pair_df"
   ]
  },
  {
   "cell_type": "markdown",
   "id": "171e53fa-7e6c-4ba4-91d7-6c1ec0527008",
   "metadata": {},
   "source": [
    "The fictive correlation matrix"
   ]
  },
  {
   "cell_type": "code",
   "execution_count": 13,
   "id": "0a8bb00a-7e9c-4c46-9c35-add3b2909158",
   "metadata": {},
   "outputs": [
    {
     "data": {
      "text/plain": [
       "dict_keys(['Gamma', 'MAEE', 'MEE', 'COV', 'ECOV', 'IVARS', 'IVARSid', 'rnkST', 'rnkIVARS', 'Gammalb', 'Gammaub', 'STlb', 'STub', 'IVARSlb', 'IVARSub', 'relST', 'relIVARS', 'Groups', 'relGrp'])"
      ]
     },
     "execution_count": 13,
     "metadata": {},
     "output_type": "execute_result"
    }
   ],
   "source": [
    "experiment_1.cov_mat"
   ]
  },
  {
   "cell_type": "markdown",
   "id": "a3cd4a0b-db04-466d-bd6d-2e375a5cb086",
   "metadata": {},
   "source": [
    "**Standard Outputs**\n",
    "\n"
   ]
  },
  {
   "cell_type": "markdown",
   "id": "74f189cc-c9aa-4083-84f7-bfe5514a18f7",
   "metadata": {},
   "source": [
    "Most useful results are stored in the `.output` property as a dictionary. The variables stores could be seen quickly by:"
   ]
  },
  {
   "cell_type": "code",
   "execution_count": 13,
   "id": "51e65cc2-c267-4dcf-8257-15f22aeedb87",
   "metadata": {},
   "outputs": [
    {
     "data": {
      "text/plain": [
       "dict_keys(['Gamma', 'MAEE', 'MEE', 'COV', 'ECOV', 'IVARS', 'IVARSid', 'rnkST', 'rnkIVARS', 'Gammalb', 'Gammaub', 'STlb', 'STub', 'IVARSlb', 'IVARSub', 'relST', 'relIVARS', 'Groups', 'relGrp'])"
      ]
     },
     "execution_count": 13,
     "metadata": {},
     "output_type": "execute_result"
    }
   ],
   "source": [
    "experiment_1.output.keys()"
   ]
  },
  {
   "cell_type": "markdown",
   "id": "473a6892-86c1-4791-946d-f1c1d45b0069",
   "metadata": {},
   "source": [
    "and each output can be viewed by using the method shown in the next line:"
   ]
  },
  {
   "cell_type": "code",
   "execution_count": 14,
   "id": "35f8cd43-f639-41c7-bb4a-806ddb8ec3e5",
   "metadata": {},
   "outputs": [
    {
     "data": {
      "text/html": [
       "<div>\n",
       "<style scoped>\n",
       "    .dataframe tbody tr th:only-of-type {\n",
       "        vertical-align: middle;\n",
       "    }\n",
       "\n",
       "    .dataframe tbody tr th {\n",
       "        vertical-align: top;\n",
       "    }\n",
       "\n",
       "    .dataframe thead th {\n",
       "        text-align: right;\n",
       "    }\n",
       "</style>\n",
       "<table border=\"1\" class=\"dataframe\">\n",
       "  <thead>\n",
       "    <tr style=\"text-align: right;\">\n",
       "      <th>param</th>\n",
       "      <th>x1</th>\n",
       "      <th>x2</th>\n",
       "      <th>x3</th>\n",
       "      <th>x4</th>\n",
       "      <th>x5</th>\n",
       "      <th>x6</th>\n",
       "    </tr>\n",
       "    <tr>\n",
       "      <th>h</th>\n",
       "      <th></th>\n",
       "      <th></th>\n",
       "      <th></th>\n",
       "      <th></th>\n",
       "      <th></th>\n",
       "      <th></th>\n",
       "    </tr>\n",
       "  </thead>\n",
       "  <tbody>\n",
       "    <tr>\n",
       "      <th>0.1</th>\n",
       "      <td>0.027539</td>\n",
       "      <td>0.009258</td>\n",
       "      <td>0.000429</td>\n",
       "      <td>0.000286</td>\n",
       "      <td>0.000048</td>\n",
       "      <td>0.0</td>\n",
       "    </tr>\n",
       "    <tr>\n",
       "      <th>0.2</th>\n",
       "      <td>0.148050</td>\n",
       "      <td>0.061244</td>\n",
       "      <td>0.001700</td>\n",
       "      <td>0.001495</td>\n",
       "      <td>0.000243</td>\n",
       "      <td>0.0</td>\n",
       "    </tr>\n",
       "    <tr>\n",
       "      <th>0.3</th>\n",
       "      <td>0.275678</td>\n",
       "      <td>0.111795</td>\n",
       "      <td>0.003281</td>\n",
       "      <td>0.003157</td>\n",
       "      <td>0.000532</td>\n",
       "      <td>0.0</td>\n",
       "    </tr>\n",
       "    <tr>\n",
       "      <th>0.4</th>\n",
       "      <td>0.343214</td>\n",
       "      <td>0.196779</td>\n",
       "      <td>0.005292</td>\n",
       "      <td>0.005100</td>\n",
       "      <td>0.000775</td>\n",
       "      <td>0.0</td>\n",
       "    </tr>\n",
       "    <tr>\n",
       "      <th>0.5</th>\n",
       "      <td>0.529889</td>\n",
       "      <td>0.275250</td>\n",
       "      <td>0.009204</td>\n",
       "      <td>0.007268</td>\n",
       "      <td>0.001254</td>\n",
       "      <td>0.0</td>\n",
       "    </tr>\n",
       "    <tr>\n",
       "      <th>0.6</th>\n",
       "      <td>0.669643</td>\n",
       "      <td>0.385372</td>\n",
       "      <td>0.010726</td>\n",
       "      <td>0.008917</td>\n",
       "      <td>0.001678</td>\n",
       "      <td>0.0</td>\n",
       "    </tr>\n",
       "    <tr>\n",
       "      <th>0.7</th>\n",
       "      <td>0.730842</td>\n",
       "      <td>0.445548</td>\n",
       "      <td>0.012217</td>\n",
       "      <td>0.012455</td>\n",
       "      <td>0.002193</td>\n",
       "      <td>0.0</td>\n",
       "    </tr>\n",
       "    <tr>\n",
       "      <th>0.8</th>\n",
       "      <td>0.802432</td>\n",
       "      <td>0.505640</td>\n",
       "      <td>0.014764</td>\n",
       "      <td>0.012972</td>\n",
       "      <td>0.002320</td>\n",
       "      <td>0.0</td>\n",
       "    </tr>\n",
       "    <tr>\n",
       "      <th>0.9</th>\n",
       "      <td>1.080300</td>\n",
       "      <td>0.579086</td>\n",
       "      <td>0.013712</td>\n",
       "      <td>0.013665</td>\n",
       "      <td>0.002420</td>\n",
       "      <td>0.0</td>\n",
       "    </tr>\n",
       "  </tbody>\n",
       "</table>\n",
       "</div>"
      ],
      "text/plain": [
       "param        x1        x2        x3        x4        x5   x6\n",
       "h                                                           \n",
       "0.1    0.027539  0.009258  0.000429  0.000286  0.000048  0.0\n",
       "0.2    0.148050  0.061244  0.001700  0.001495  0.000243  0.0\n",
       "0.3    0.275678  0.111795  0.003281  0.003157  0.000532  0.0\n",
       "0.4    0.343214  0.196779  0.005292  0.005100  0.000775  0.0\n",
       "0.5    0.529889  0.275250  0.009204  0.007268  0.001254  0.0\n",
       "0.6    0.669643  0.385372  0.010726  0.008917  0.001678  0.0\n",
       "0.7    0.730842  0.445548  0.012217  0.012455  0.002193  0.0\n",
       "0.8    0.802432  0.505640  0.014764  0.012972  0.002320  0.0\n",
       "0.9    1.080300  0.579086  0.013712  0.013665  0.002420  0.0"
      ]
     },
     "execution_count": 14,
     "metadata": {},
     "output_type": "execute_result"
    }
   ],
   "source": [
    "experiment_1.output['Gamma'].unstack(level=0) # adding unstack to make it more legible"
   ]
  },
  {
   "cell_type": "markdown",
   "id": "0e345587-f73d-4e93-8a06-e2d8daaff40e",
   "metadata": {},
   "source": [
    "Now we can access all the results using 'dot' notation on our created instance:"
   ]
  },
  {
   "cell_type": "markdown",
   "id": "173bad8e-bc6a-415c-8b95-4171dd196336",
   "metadata": {},
   "source": [
    "**Directional variogram results**\n",
    "\n",
    "There are 10 rows as the number of stars was 10, and each at a resolution incremented by 0.1 which was specificed to be the sampling resolution"
   ]
  },
  {
   "cell_type": "code",
   "execution_count": 15,
   "id": "9d964dbf-86b2-43f3-89a7-8846c69cb4d8",
   "metadata": {},
   "outputs": [
    {
     "data": {
      "text/html": [
       "<div>\n",
       "<style scoped>\n",
       "    .dataframe tbody tr th:only-of-type {\n",
       "        vertical-align: middle;\n",
       "    }\n",
       "\n",
       "    .dataframe tbody tr th {\n",
       "        vertical-align: top;\n",
       "    }\n",
       "\n",
       "    .dataframe thead th {\n",
       "        text-align: right;\n",
       "    }\n",
       "</style>\n",
       "<table border=\"1\" class=\"dataframe\">\n",
       "  <thead>\n",
       "    <tr style=\"text-align: right;\">\n",
       "      <th>param</th>\n",
       "      <th>x1</th>\n",
       "      <th>x2</th>\n",
       "      <th>x3</th>\n",
       "      <th>x4</th>\n",
       "      <th>x5</th>\n",
       "      <th>x6</th>\n",
       "    </tr>\n",
       "    <tr>\n",
       "      <th>h</th>\n",
       "      <th></th>\n",
       "      <th></th>\n",
       "      <th></th>\n",
       "      <th></th>\n",
       "      <th></th>\n",
       "      <th></th>\n",
       "    </tr>\n",
       "  </thead>\n",
       "  <tbody>\n",
       "    <tr>\n",
       "      <th>0.1</th>\n",
       "      <td>0.027539</td>\n",
       "      <td>0.009258</td>\n",
       "      <td>0.000429</td>\n",
       "      <td>0.000286</td>\n",
       "      <td>0.000048</td>\n",
       "      <td>0.0</td>\n",
       "    </tr>\n",
       "    <tr>\n",
       "      <th>0.2</th>\n",
       "      <td>0.148050</td>\n",
       "      <td>0.061244</td>\n",
       "      <td>0.001700</td>\n",
       "      <td>0.001495</td>\n",
       "      <td>0.000243</td>\n",
       "      <td>0.0</td>\n",
       "    </tr>\n",
       "    <tr>\n",
       "      <th>0.3</th>\n",
       "      <td>0.275678</td>\n",
       "      <td>0.111795</td>\n",
       "      <td>0.003281</td>\n",
       "      <td>0.003157</td>\n",
       "      <td>0.000532</td>\n",
       "      <td>0.0</td>\n",
       "    </tr>\n",
       "    <tr>\n",
       "      <th>0.4</th>\n",
       "      <td>0.343214</td>\n",
       "      <td>0.196779</td>\n",
       "      <td>0.005292</td>\n",
       "      <td>0.005100</td>\n",
       "      <td>0.000775</td>\n",
       "      <td>0.0</td>\n",
       "    </tr>\n",
       "    <tr>\n",
       "      <th>0.5</th>\n",
       "      <td>0.529889</td>\n",
       "      <td>0.275250</td>\n",
       "      <td>0.009204</td>\n",
       "      <td>0.007268</td>\n",
       "      <td>0.001254</td>\n",
       "      <td>0.0</td>\n",
       "    </tr>\n",
       "    <tr>\n",
       "      <th>0.6</th>\n",
       "      <td>0.669643</td>\n",
       "      <td>0.385372</td>\n",
       "      <td>0.010726</td>\n",
       "      <td>0.008917</td>\n",
       "      <td>0.001678</td>\n",
       "      <td>0.0</td>\n",
       "    </tr>\n",
       "    <tr>\n",
       "      <th>0.7</th>\n",
       "      <td>0.730842</td>\n",
       "      <td>0.445548</td>\n",
       "      <td>0.012217</td>\n",
       "      <td>0.012455</td>\n",
       "      <td>0.002193</td>\n",
       "      <td>0.0</td>\n",
       "    </tr>\n",
       "    <tr>\n",
       "      <th>0.8</th>\n",
       "      <td>0.802432</td>\n",
       "      <td>0.505640</td>\n",
       "      <td>0.014764</td>\n",
       "      <td>0.012972</td>\n",
       "      <td>0.002320</td>\n",
       "      <td>0.0</td>\n",
       "    </tr>\n",
       "    <tr>\n",
       "      <th>0.9</th>\n",
       "      <td>1.080300</td>\n",
       "      <td>0.579086</td>\n",
       "      <td>0.013712</td>\n",
       "      <td>0.013665</td>\n",
       "      <td>0.002420</td>\n",
       "      <td>0.0</td>\n",
       "    </tr>\n",
       "  </tbody>\n",
       "</table>\n",
       "</div>"
      ],
      "text/plain": [
       "param        x1        x2        x3        x4        x5   x6\n",
       "h                                                           \n",
       "0.1    0.027539  0.009258  0.000429  0.000286  0.000048  0.0\n",
       "0.2    0.148050  0.061244  0.001700  0.001495  0.000243  0.0\n",
       "0.3    0.275678  0.111795  0.003281  0.003157  0.000532  0.0\n",
       "0.4    0.343214  0.196779  0.005292  0.005100  0.000775  0.0\n",
       "0.5    0.529889  0.275250  0.009204  0.007268  0.001254  0.0\n",
       "0.6    0.669643  0.385372  0.010726  0.008917  0.001678  0.0\n",
       "0.7    0.730842  0.445548  0.012217  0.012455  0.002193  0.0\n",
       "0.8    0.802432  0.505640  0.014764  0.012972  0.002320  0.0\n",
       "0.9    1.080300  0.579086  0.013712  0.013665  0.002420  0.0"
      ]
     },
     "execution_count": 15,
     "metadata": {},
     "output_type": "execute_result"
    }
   ],
   "source": [
    "experiment_1.gamma.unstack(0)"
   ]
  },
  {
   "cell_type": "markdown",
   "id": "17e23aff-2e21-482e-a0c0-792e700ad159",
   "metadata": {},
   "source": [
    "**Integrated variogram**"
   ]
  },
  {
   "cell_type": "code",
   "execution_count": 16,
   "id": "9a6bcc04-cc42-498d-a2f7-7a63c0b22a2c",
   "metadata": {},
   "outputs": [
    {
     "data": {
      "text/html": [
       "<div>\n",
       "<style scoped>\n",
       "    .dataframe tbody tr th:only-of-type {\n",
       "        vertical-align: middle;\n",
       "    }\n",
       "\n",
       "    .dataframe tbody tr th {\n",
       "        vertical-align: top;\n",
       "    }\n",
       "\n",
       "    .dataframe thead th {\n",
       "        text-align: right;\n",
       "    }\n",
       "</style>\n",
       "<table border=\"1\" class=\"dataframe\">\n",
       "  <thead>\n",
       "    <tr style=\"text-align: right;\">\n",
       "      <th></th>\n",
       "      <th>x1</th>\n",
       "      <th>x2</th>\n",
       "      <th>x3</th>\n",
       "      <th>x4</th>\n",
       "      <th>x5</th>\n",
       "      <th>x6</th>\n",
       "    </tr>\n",
       "  </thead>\n",
       "  <tbody>\n",
       "    <tr>\n",
       "      <th>0.1</th>\n",
       "      <td>0.001377</td>\n",
       "      <td>0.000463</td>\n",
       "      <td>0.000021</td>\n",
       "      <td>0.000014</td>\n",
       "      <td>0.000002</td>\n",
       "      <td>0.0</td>\n",
       "    </tr>\n",
       "    <tr>\n",
       "      <th>0.3</th>\n",
       "      <td>0.031343</td>\n",
       "      <td>0.012640</td>\n",
       "      <td>0.000377</td>\n",
       "      <td>0.000336</td>\n",
       "      <td>0.000056</td>\n",
       "      <td>0.0</td>\n",
       "    </tr>\n",
       "    <tr>\n",
       "      <th>0.5</th>\n",
       "      <td>0.105943</td>\n",
       "      <td>0.051670</td>\n",
       "      <td>0.001530</td>\n",
       "      <td>0.001367</td>\n",
       "      <td>0.000222</td>\n",
       "      <td>0.0</td>\n",
       "    </tr>\n",
       "  </tbody>\n",
       "</table>\n",
       "</div>"
      ],
      "text/plain": [
       "           x1        x2        x3        x4        x5   x6\n",
       "0.1  0.001377  0.000463  0.000021  0.000014  0.000002  0.0\n",
       "0.3  0.031343  0.012640  0.000377  0.000336  0.000056  0.0\n",
       "0.5  0.105943  0.051670  0.001530  0.001367  0.000222  0.0"
      ]
     },
     "execution_count": 16,
     "metadata": {},
     "output_type": "execute_result"
    }
   ],
   "source": [
    "experiment_1.ivars"
   ]
  },
  {
   "cell_type": "markdown",
   "id": "7a3447b3-65f2-443b-a083-d85c685031d3",
   "metadata": {},
   "source": [
    "**VARS-TO: Sobol total-order effects calculated through GVARS**"
   ]
  },
  {
   "cell_type": "code",
   "execution_count": 17,
   "id": "c4b62fa9-dfda-4b5b-9240-49efc7235ca3",
   "metadata": {},
   "outputs": [
    {
     "data": {
      "text/plain": [
       "param\n",
       "x1    4.611272e-01\n",
       "x2    2.436442e-01\n",
       "x3    5.886760e-03\n",
       "x4    5.976840e-03\n",
       "x5    1.014696e-03\n",
       "x6    4.525517e-31\n",
       "dtype: float64"
      ]
     },
     "execution_count": 17,
     "metadata": {},
     "output_type": "execute_result"
    }
   ],
   "source": [
    "experiment_1.st"
   ]
  },
  {
   "cell_type": "markdown",
   "id": "09591350-33a4-4cce-80f8-c3c27c205079",
   "metadata": {},
   "source": [
    "**VARS-ABE: Morris mean absolute elementary effects across scales**"
   ]
  },
  {
   "cell_type": "code",
   "execution_count": 18,
   "id": "9edeb357-31be-45c9-a2a9-fa463ff4809d",
   "metadata": {},
   "outputs": [
    {
     "data": {
      "text/html": [
       "<div>\n",
       "<style scoped>\n",
       "    .dataframe tbody tr th:only-of-type {\n",
       "        vertical-align: middle;\n",
       "    }\n",
       "\n",
       "    .dataframe tbody tr th {\n",
       "        vertical-align: top;\n",
       "    }\n",
       "\n",
       "    .dataframe thead th {\n",
       "        text-align: right;\n",
       "    }\n",
       "</style>\n",
       "<table border=\"1\" class=\"dataframe\">\n",
       "  <thead>\n",
       "    <tr style=\"text-align: right;\">\n",
       "      <th>param</th>\n",
       "      <th>x1</th>\n",
       "      <th>x2</th>\n",
       "      <th>x3</th>\n",
       "      <th>x4</th>\n",
       "      <th>x5</th>\n",
       "      <th>x6</th>\n",
       "    </tr>\n",
       "    <tr>\n",
       "      <th>h</th>\n",
       "      <th></th>\n",
       "      <th></th>\n",
       "      <th></th>\n",
       "      <th></th>\n",
       "      <th></th>\n",
       "      <th></th>\n",
       "    </tr>\n",
       "  </thead>\n",
       "  <tbody>\n",
       "    <tr>\n",
       "      <th>0.1</th>\n",
       "      <td>0.161903</td>\n",
       "      <td>0.106577</td>\n",
       "      <td>0.023399</td>\n",
       "      <td>0.018598</td>\n",
       "      <td>0.007784</td>\n",
       "      <td>0.0</td>\n",
       "    </tr>\n",
       "    <tr>\n",
       "      <th>0.2</th>\n",
       "      <td>0.416648</td>\n",
       "      <td>0.315379</td>\n",
       "      <td>0.050394</td>\n",
       "      <td>0.049220</td>\n",
       "      <td>0.019656</td>\n",
       "      <td>0.0</td>\n",
       "    </tr>\n",
       "    <tr>\n",
       "      <th>0.3</th>\n",
       "      <td>0.623010</td>\n",
       "      <td>0.424287</td>\n",
       "      <td>0.070776</td>\n",
       "      <td>0.071838</td>\n",
       "      <td>0.029678</td>\n",
       "      <td>0.0</td>\n",
       "    </tr>\n",
       "    <tr>\n",
       "      <th>0.4</th>\n",
       "      <td>0.704461</td>\n",
       "      <td>0.559624</td>\n",
       "      <td>0.093406</td>\n",
       "      <td>0.087685</td>\n",
       "      <td>0.034099</td>\n",
       "      <td>0.0</td>\n",
       "    </tr>\n",
       "    <tr>\n",
       "      <th>0.5</th>\n",
       "      <td>0.922656</td>\n",
       "      <td>0.656992</td>\n",
       "      <td>0.124594</td>\n",
       "      <td>0.105925</td>\n",
       "      <td>0.044873</td>\n",
       "      <td>0.0</td>\n",
       "    </tr>\n",
       "    <tr>\n",
       "      <th>0.6</th>\n",
       "      <td>1.067778</td>\n",
       "      <td>0.798566</td>\n",
       "      <td>0.133724</td>\n",
       "      <td>0.118424</td>\n",
       "      <td>0.051965</td>\n",
       "      <td>0.0</td>\n",
       "    </tr>\n",
       "    <tr>\n",
       "      <th>0.7</th>\n",
       "      <td>1.054544</td>\n",
       "      <td>0.839116</td>\n",
       "      <td>0.139830</td>\n",
       "      <td>0.144609</td>\n",
       "      <td>0.060544</td>\n",
       "      <td>0.0</td>\n",
       "    </tr>\n",
       "    <tr>\n",
       "      <th>0.8</th>\n",
       "      <td>1.110010</td>\n",
       "      <td>0.909620</td>\n",
       "      <td>0.159893</td>\n",
       "      <td>0.145930</td>\n",
       "      <td>0.061618</td>\n",
       "      <td>0.0</td>\n",
       "    </tr>\n",
       "    <tr>\n",
       "      <th>0.9</th>\n",
       "      <td>1.272295</td>\n",
       "      <td>0.982271</td>\n",
       "      <td>0.147578</td>\n",
       "      <td>0.148833</td>\n",
       "      <td>0.062148</td>\n",
       "      <td>0.0</td>\n",
       "    </tr>\n",
       "  </tbody>\n",
       "</table>\n",
       "</div>"
      ],
      "text/plain": [
       "param        x1        x2        x3        x4        x5   x6\n",
       "h                                                           \n",
       "0.1    0.161903  0.106577  0.023399  0.018598  0.007784  0.0\n",
       "0.2    0.416648  0.315379  0.050394  0.049220  0.019656  0.0\n",
       "0.3    0.623010  0.424287  0.070776  0.071838  0.029678  0.0\n",
       "0.4    0.704461  0.559624  0.093406  0.087685  0.034099  0.0\n",
       "0.5    0.922656  0.656992  0.124594  0.105925  0.044873  0.0\n",
       "0.6    1.067778  0.798566  0.133724  0.118424  0.051965  0.0\n",
       "0.7    1.054544  0.839116  0.139830  0.144609  0.060544  0.0\n",
       "0.8    1.110010  0.909620  0.159893  0.145930  0.061618  0.0\n",
       "0.9    1.272295  0.982271  0.147578  0.148833  0.062148  0.0"
      ]
     },
     "execution_count": 18,
     "metadata": {},
     "output_type": "execute_result"
    }
   ],
   "source": [
    "experiment_1.maee.unstack(0)"
   ]
  },
  {
   "cell_type": "markdown",
   "id": "c053a7a1-88e6-42c8-8490-2e0b1e4df757",
   "metadata": {},
   "source": [
    "**VARS-ACE: Morris mean actual elementary effects across scales**"
   ]
  },
  {
   "cell_type": "code",
   "execution_count": 19,
   "id": "99866771-18d8-4598-a912-8a3194c160b3",
   "metadata": {},
   "outputs": [
    {
     "data": {
      "text/html": [
       "<div>\n",
       "<style scoped>\n",
       "    .dataframe tbody tr th:only-of-type {\n",
       "        vertical-align: middle;\n",
       "    }\n",
       "\n",
       "    .dataframe tbody tr th {\n",
       "        vertical-align: top;\n",
       "    }\n",
       "\n",
       "    .dataframe thead th {\n",
       "        text-align: right;\n",
       "    }\n",
       "</style>\n",
       "<table border=\"1\" class=\"dataframe\">\n",
       "  <thead>\n",
       "    <tr style=\"text-align: right;\">\n",
       "      <th>param</th>\n",
       "      <th>x1</th>\n",
       "      <th>x2</th>\n",
       "      <th>x3</th>\n",
       "      <th>x4</th>\n",
       "      <th>x5</th>\n",
       "      <th>x6</th>\n",
       "    </tr>\n",
       "    <tr>\n",
       "      <th>h</th>\n",
       "      <th></th>\n",
       "      <th></th>\n",
       "      <th></th>\n",
       "      <th></th>\n",
       "      <th></th>\n",
       "      <th></th>\n",
       "    </tr>\n",
       "  </thead>\n",
       "  <tbody>\n",
       "    <tr>\n",
       "      <th>0.1</th>\n",
       "      <td>0.016542</td>\n",
       "      <td>-0.002391</td>\n",
       "      <td>-0.001988</td>\n",
       "      <td>-0.001526</td>\n",
       "      <td>-0.001608</td>\n",
       "      <td>0.0</td>\n",
       "    </tr>\n",
       "    <tr>\n",
       "      <th>0.2</th>\n",
       "      <td>-0.051656</td>\n",
       "      <td>0.038004</td>\n",
       "      <td>-0.004507</td>\n",
       "      <td>-0.000322</td>\n",
       "      <td>-0.003094</td>\n",
       "      <td>0.0</td>\n",
       "    </tr>\n",
       "    <tr>\n",
       "      <th>0.3</th>\n",
       "      <td>0.055890</td>\n",
       "      <td>0.010952</td>\n",
       "      <td>-0.008577</td>\n",
       "      <td>-0.008666</td>\n",
       "      <td>0.004396</td>\n",
       "      <td>0.0</td>\n",
       "    </tr>\n",
       "    <tr>\n",
       "      <th>0.4</th>\n",
       "      <td>0.049051</td>\n",
       "      <td>-0.105543</td>\n",
       "      <td>0.013886</td>\n",
       "      <td>0.004950</td>\n",
       "      <td>-0.002544</td>\n",
       "      <td>0.0</td>\n",
       "    </tr>\n",
       "    <tr>\n",
       "      <th>0.5</th>\n",
       "      <td>0.031622</td>\n",
       "      <td>-0.127835</td>\n",
       "      <td>0.012510</td>\n",
       "      <td>-0.012498</td>\n",
       "      <td>0.000934</td>\n",
       "      <td>0.0</td>\n",
       "    </tr>\n",
       "    <tr>\n",
       "      <th>0.6</th>\n",
       "      <td>0.106068</td>\n",
       "      <td>-0.087077</td>\n",
       "      <td>-0.008722</td>\n",
       "      <td>-0.014191</td>\n",
       "      <td>0.003048</td>\n",
       "      <td>0.0</td>\n",
       "    </tr>\n",
       "    <tr>\n",
       "      <th>0.7</th>\n",
       "      <td>-0.061547</td>\n",
       "      <td>0.017199</td>\n",
       "      <td>0.012321</td>\n",
       "      <td>-0.012489</td>\n",
       "      <td>0.003461</td>\n",
       "      <td>0.0</td>\n",
       "    </tr>\n",
       "    <tr>\n",
       "      <th>0.8</th>\n",
       "      <td>0.016166</td>\n",
       "      <td>-0.079092</td>\n",
       "      <td>-0.000511</td>\n",
       "      <td>0.002655</td>\n",
       "      <td>0.007436</td>\n",
       "      <td>0.0</td>\n",
       "    </tr>\n",
       "    <tr>\n",
       "      <th>0.9</th>\n",
       "      <td>-0.005276</td>\n",
       "      <td>0.061570</td>\n",
       "      <td>-0.028848</td>\n",
       "      <td>-0.016702</td>\n",
       "      <td>0.004156</td>\n",
       "      <td>0.0</td>\n",
       "    </tr>\n",
       "  </tbody>\n",
       "</table>\n",
       "</div>"
      ],
      "text/plain": [
       "param        x1        x2        x3        x4        x5   x6\n",
       "h                                                           \n",
       "0.1    0.016542 -0.002391 -0.001988 -0.001526 -0.001608  0.0\n",
       "0.2   -0.051656  0.038004 -0.004507 -0.000322 -0.003094  0.0\n",
       "0.3    0.055890  0.010952 -0.008577 -0.008666  0.004396  0.0\n",
       "0.4    0.049051 -0.105543  0.013886  0.004950 -0.002544  0.0\n",
       "0.5    0.031622 -0.127835  0.012510 -0.012498  0.000934  0.0\n",
       "0.6    0.106068 -0.087077 -0.008722 -0.014191  0.003048  0.0\n",
       "0.7   -0.061547  0.017199  0.012321 -0.012489  0.003461  0.0\n",
       "0.8    0.016166 -0.079092 -0.000511  0.002655  0.007436  0.0\n",
       "0.9   -0.005276  0.061570 -0.028848 -0.016702  0.004156  0.0"
      ]
     },
     "execution_count": 19,
     "metadata": {},
     "output_type": "execute_result"
    }
   ],
   "source": [
    "experiment_1.mee.unstack(0)"
   ]
  },
  {
   "cell_type": "markdown",
   "id": "14be6da7-84b4-43a4-b54a-da56b147d221",
   "metadata": {},
   "source": [
    "**The factor(parameter) rankings based on their influence for IVARS and Sobol results**. \n",
    "\n",
    "The influence is based on how large or small a result is. The lower the ranking the more influential(larger) a factor is."
   ]
  },
  {
   "cell_type": "code",
   "execution_count": 20,
   "id": "21ddcab3-3051-4572-89f8-e4a7ba6cfbbf",
   "metadata": {},
   "outputs": [
    {
     "data": {
      "text/html": [
       "<div>\n",
       "<style scoped>\n",
       "    .dataframe tbody tr th:only-of-type {\n",
       "        vertical-align: middle;\n",
       "    }\n",
       "\n",
       "    .dataframe tbody tr th {\n",
       "        vertical-align: top;\n",
       "    }\n",
       "\n",
       "    .dataframe thead th {\n",
       "        text-align: right;\n",
       "    }\n",
       "</style>\n",
       "<table border=\"1\" class=\"dataframe\">\n",
       "  <thead>\n",
       "    <tr style=\"text-align: right;\">\n",
       "      <th></th>\n",
       "      <th>x1</th>\n",
       "      <th>x2</th>\n",
       "      <th>x3</th>\n",
       "      <th>x4</th>\n",
       "      <th>x5</th>\n",
       "      <th>x6</th>\n",
       "    </tr>\n",
       "  </thead>\n",
       "  <tbody>\n",
       "    <tr>\n",
       "      <th>0.1</th>\n",
       "      <td>0</td>\n",
       "      <td>1</td>\n",
       "      <td>2</td>\n",
       "      <td>3</td>\n",
       "      <td>4</td>\n",
       "      <td>5</td>\n",
       "    </tr>\n",
       "    <tr>\n",
       "      <th>0.3</th>\n",
       "      <td>0</td>\n",
       "      <td>1</td>\n",
       "      <td>2</td>\n",
       "      <td>3</td>\n",
       "      <td>4</td>\n",
       "      <td>5</td>\n",
       "    </tr>\n",
       "    <tr>\n",
       "      <th>0.5</th>\n",
       "      <td>0</td>\n",
       "      <td>1</td>\n",
       "      <td>2</td>\n",
       "      <td>3</td>\n",
       "      <td>4</td>\n",
       "      <td>5</td>\n",
       "    </tr>\n",
       "  </tbody>\n",
       "</table>\n",
       "</div>"
      ],
      "text/plain": [
       "     x1  x2  x3  x4  x5  x6\n",
       "0.1   0   1   2   3   4   5\n",
       "0.3   0   1   2   3   4   5\n",
       "0.5   0   1   2   3   4   5"
      ]
     },
     "execution_count": 20,
     "metadata": {},
     "output_type": "execute_result"
    }
   ],
   "source": [
    "experiment_1.ivars_factor_ranking"
   ]
  },
  {
   "cell_type": "code",
   "execution_count": 21,
   "id": "14b50336-f7f6-470e-aca4-ac6cee41c1db",
   "metadata": {},
   "outputs": [
    {
     "data": {
      "text/html": [
       "<div>\n",
       "<style scoped>\n",
       "    .dataframe tbody tr th:only-of-type {\n",
       "        vertical-align: middle;\n",
       "    }\n",
       "\n",
       "    .dataframe tbody tr th {\n",
       "        vertical-align: top;\n",
       "    }\n",
       "\n",
       "    .dataframe thead th {\n",
       "        text-align: right;\n",
       "    }\n",
       "</style>\n",
       "<table border=\"1\" class=\"dataframe\">\n",
       "  <thead>\n",
       "    <tr style=\"text-align: right;\">\n",
       "      <th></th>\n",
       "      <th>x1</th>\n",
       "      <th>x2</th>\n",
       "      <th>x3</th>\n",
       "      <th>x4</th>\n",
       "      <th>x5</th>\n",
       "      <th>x6</th>\n",
       "    </tr>\n",
       "  </thead>\n",
       "  <tbody>\n",
       "    <tr>\n",
       "      <th></th>\n",
       "      <td>0</td>\n",
       "      <td>1</td>\n",
       "      <td>3</td>\n",
       "      <td>2</td>\n",
       "      <td>4</td>\n",
       "      <td>5</td>\n",
       "    </tr>\n",
       "  </tbody>\n",
       "</table>\n",
       "</div>"
      ],
      "text/plain": [
       "  x1  x2  x3  x4  x5  x6\n",
       "   0   1   3   2   4   5"
      ]
     },
     "execution_count": 21,
     "metadata": {},
     "output_type": "execute_result"
    }
   ],
   "source": [
    "experiment_1.st_factor_ranking"
   ]
  },
  {
   "cell_type": "markdown",
   "id": "8f267c46-7e93-40ac-86bc-a53fed5cd5f8",
   "metadata": {},
   "source": [
    "**Bootstrapping results based on the confidence interval limits**\n",
    "\n",
    "low is the lower limit of the results after `bootstrap_size` sampling iterations\n",
    "\n",
    "upp is the upper limit of the results after `bootstrap_size` sampling iterations"
   ]
  },
  {
   "cell_type": "code",
   "execution_count": 22,
   "id": "97a9875a-f896-484d-960f-e66d923f5dce",
   "metadata": {},
   "outputs": [
    {
     "data": {
      "text/html": [
       "<div>\n",
       "<style scoped>\n",
       "    .dataframe tbody tr th:only-of-type {\n",
       "        vertical-align: middle;\n",
       "    }\n",
       "\n",
       "    .dataframe tbody tr th {\n",
       "        vertical-align: top;\n",
       "    }\n",
       "\n",
       "    .dataframe thead th {\n",
       "        text-align: right;\n",
       "    }\n",
       "</style>\n",
       "<table border=\"1\" class=\"dataframe\">\n",
       "  <thead>\n",
       "    <tr style=\"text-align: right;\">\n",
       "      <th>h</th>\n",
       "      <th>x1</th>\n",
       "      <th>x2</th>\n",
       "      <th>x3</th>\n",
       "      <th>x4</th>\n",
       "      <th>x5</th>\n",
       "      <th>x6</th>\n",
       "    </tr>\n",
       "  </thead>\n",
       "  <tbody>\n",
       "    <tr>\n",
       "      <th>0.1</th>\n",
       "      <td>0.002797</td>\n",
       "      <td>0.007025</td>\n",
       "      <td>0.000450</td>\n",
       "      <td>0.000110</td>\n",
       "      <td>0.000020</td>\n",
       "      <td>0.0</td>\n",
       "    </tr>\n",
       "    <tr>\n",
       "      <th>0.2</th>\n",
       "      <td>0.058088</td>\n",
       "      <td>0.046820</td>\n",
       "      <td>0.000630</td>\n",
       "      <td>0.001269</td>\n",
       "      <td>0.000146</td>\n",
       "      <td>0.0</td>\n",
       "    </tr>\n",
       "    <tr>\n",
       "      <th>0.3</th>\n",
       "      <td>0.097579</td>\n",
       "      <td>0.074851</td>\n",
       "      <td>0.002426</td>\n",
       "      <td>0.002704</td>\n",
       "      <td>0.000399</td>\n",
       "      <td>0.0</td>\n",
       "    </tr>\n",
       "    <tr>\n",
       "      <th>0.4</th>\n",
       "      <td>0.190862</td>\n",
       "      <td>0.124551</td>\n",
       "      <td>0.002569</td>\n",
       "      <td>0.004097</td>\n",
       "      <td>0.000465</td>\n",
       "      <td>0.0</td>\n",
       "    </tr>\n",
       "    <tr>\n",
       "      <th>0.5</th>\n",
       "      <td>0.455756</td>\n",
       "      <td>0.170352</td>\n",
       "      <td>0.008907</td>\n",
       "      <td>0.003881</td>\n",
       "      <td>0.000908</td>\n",
       "      <td>0.0</td>\n",
       "    </tr>\n",
       "    <tr>\n",
       "      <th>0.6</th>\n",
       "      <td>0.510108</td>\n",
       "      <td>0.269494</td>\n",
       "      <td>0.006170</td>\n",
       "      <td>0.004355</td>\n",
       "      <td>0.001125</td>\n",
       "      <td>0.0</td>\n",
       "    </tr>\n",
       "    <tr>\n",
       "      <th>0.7</th>\n",
       "      <td>0.181560</td>\n",
       "      <td>0.326220</td>\n",
       "      <td>0.008922</td>\n",
       "      <td>0.007557</td>\n",
       "      <td>0.001342</td>\n",
       "      <td>0.0</td>\n",
       "    </tr>\n",
       "    <tr>\n",
       "      <th>0.8</th>\n",
       "      <td>0.781253</td>\n",
       "      <td>0.308761</td>\n",
       "      <td>0.015931</td>\n",
       "      <td>0.003118</td>\n",
       "      <td>0.001476</td>\n",
       "      <td>0.0</td>\n",
       "    </tr>\n",
       "    <tr>\n",
       "      <th>0.9</th>\n",
       "      <td>0.476362</td>\n",
       "      <td>0.366199</td>\n",
       "      <td>0.014232</td>\n",
       "      <td>0.012423</td>\n",
       "      <td>0.001650</td>\n",
       "      <td>0.0</td>\n",
       "    </tr>\n",
       "  </tbody>\n",
       "</table>\n",
       "</div>"
      ],
      "text/plain": [
       "h          x1        x2        x3        x4        x5   x6\n",
       "0.1  0.002797  0.007025  0.000450  0.000110  0.000020  0.0\n",
       "0.2  0.058088  0.046820  0.000630  0.001269  0.000146  0.0\n",
       "0.3  0.097579  0.074851  0.002426  0.002704  0.000399  0.0\n",
       "0.4  0.190862  0.124551  0.002569  0.004097  0.000465  0.0\n",
       "0.5  0.455756  0.170352  0.008907  0.003881  0.000908  0.0\n",
       "0.6  0.510108  0.269494  0.006170  0.004355  0.001125  0.0\n",
       "0.7  0.181560  0.326220  0.008922  0.007557  0.001342  0.0\n",
       "0.8  0.781253  0.308761  0.015931  0.003118  0.001476  0.0\n",
       "0.9  0.476362  0.366199  0.014232  0.012423  0.001650  0.0"
      ]
     },
     "execution_count": 22,
     "metadata": {},
     "output_type": "execute_result"
    }
   ],
   "source": [
    "experiment_1.gammalb"
   ]
  },
  {
   "cell_type": "code",
   "execution_count": 23,
   "id": "fcdb364f-aab1-4f1e-a5de-be61d104ac78",
   "metadata": {},
   "outputs": [
    {
     "data": {
      "text/html": [
       "<div>\n",
       "<style scoped>\n",
       "    .dataframe tbody tr th:only-of-type {\n",
       "        vertical-align: middle;\n",
       "    }\n",
       "\n",
       "    .dataframe tbody tr th {\n",
       "        vertical-align: top;\n",
       "    }\n",
       "\n",
       "    .dataframe thead th {\n",
       "        text-align: right;\n",
       "    }\n",
       "</style>\n",
       "<table border=\"1\" class=\"dataframe\">\n",
       "  <thead>\n",
       "    <tr style=\"text-align: right;\">\n",
       "      <th>h</th>\n",
       "      <th>x1</th>\n",
       "      <th>x2</th>\n",
       "      <th>x3</th>\n",
       "      <th>x4</th>\n",
       "      <th>x5</th>\n",
       "      <th>x6</th>\n",
       "    </tr>\n",
       "  </thead>\n",
       "  <tbody>\n",
       "    <tr>\n",
       "      <th>0.1</th>\n",
       "      <td>0.018877</td>\n",
       "      <td>0.019912</td>\n",
       "      <td>0.000762</td>\n",
       "      <td>0.000629</td>\n",
       "      <td>0.000053</td>\n",
       "      <td>0.0</td>\n",
       "    </tr>\n",
       "    <tr>\n",
       "      <th>0.2</th>\n",
       "      <td>0.175521</td>\n",
       "      <td>0.090266</td>\n",
       "      <td>0.002528</td>\n",
       "      <td>0.002028</td>\n",
       "      <td>0.000466</td>\n",
       "      <td>0.0</td>\n",
       "    </tr>\n",
       "    <tr>\n",
       "      <th>0.3</th>\n",
       "      <td>0.316609</td>\n",
       "      <td>0.146779</td>\n",
       "      <td>0.004676</td>\n",
       "      <td>0.004600</td>\n",
       "      <td>0.000728</td>\n",
       "      <td>0.0</td>\n",
       "    </tr>\n",
       "    <tr>\n",
       "      <th>0.4</th>\n",
       "      <td>0.363269</td>\n",
       "      <td>0.304317</td>\n",
       "      <td>0.006689</td>\n",
       "      <td>0.006865</td>\n",
       "      <td>0.001041</td>\n",
       "      <td>0.0</td>\n",
       "    </tr>\n",
       "    <tr>\n",
       "      <th>0.5</th>\n",
       "      <td>0.708093</td>\n",
       "      <td>0.295062</td>\n",
       "      <td>0.012629</td>\n",
       "      <td>0.010348</td>\n",
       "      <td>0.001734</td>\n",
       "      <td>0.0</td>\n",
       "    </tr>\n",
       "    <tr>\n",
       "      <th>0.6</th>\n",
       "      <td>0.779555</td>\n",
       "      <td>0.440409</td>\n",
       "      <td>0.012258</td>\n",
       "      <td>0.011474</td>\n",
       "      <td>0.002190</td>\n",
       "      <td>0.0</td>\n",
       "    </tr>\n",
       "    <tr>\n",
       "      <th>0.7</th>\n",
       "      <td>0.761966</td>\n",
       "      <td>0.689302</td>\n",
       "      <td>0.019494</td>\n",
       "      <td>0.016055</td>\n",
       "      <td>0.002812</td>\n",
       "      <td>0.0</td>\n",
       "    </tr>\n",
       "    <tr>\n",
       "      <th>0.8</th>\n",
       "      <td>1.136898</td>\n",
       "      <td>0.584143</td>\n",
       "      <td>0.023050</td>\n",
       "      <td>0.010628</td>\n",
       "      <td>0.002672</td>\n",
       "      <td>0.0</td>\n",
       "    </tr>\n",
       "    <tr>\n",
       "      <th>0.9</th>\n",
       "      <td>1.300275</td>\n",
       "      <td>0.687708</td>\n",
       "      <td>0.027356</td>\n",
       "      <td>0.018927</td>\n",
       "      <td>0.004060</td>\n",
       "      <td>0.0</td>\n",
       "    </tr>\n",
       "  </tbody>\n",
       "</table>\n",
       "</div>"
      ],
      "text/plain": [
       "h          x1        x2        x3        x4        x5   x6\n",
       "0.1  0.018877  0.019912  0.000762  0.000629  0.000053  0.0\n",
       "0.2  0.175521  0.090266  0.002528  0.002028  0.000466  0.0\n",
       "0.3  0.316609  0.146779  0.004676  0.004600  0.000728  0.0\n",
       "0.4  0.363269  0.304317  0.006689  0.006865  0.001041  0.0\n",
       "0.5  0.708093  0.295062  0.012629  0.010348  0.001734  0.0\n",
       "0.6  0.779555  0.440409  0.012258  0.011474  0.002190  0.0\n",
       "0.7  0.761966  0.689302  0.019494  0.016055  0.002812  0.0\n",
       "0.8  1.136898  0.584143  0.023050  0.010628  0.002672  0.0\n",
       "0.9  1.300275  0.687708  0.027356  0.018927  0.004060  0.0"
      ]
     },
     "execution_count": 23,
     "metadata": {},
     "output_type": "execute_result"
    }
   ],
   "source": [
    "experiment_1.gammaub"
   ]
  },
  {
   "cell_type": "code",
   "execution_count": 24,
   "id": "409029c1-b7d6-4ae2-91e5-e747cb3e7263",
   "metadata": {},
   "outputs": [
    {
     "data": {
      "text/html": [
       "<div>\n",
       "<style scoped>\n",
       "    .dataframe tbody tr th:only-of-type {\n",
       "        vertical-align: middle;\n",
       "    }\n",
       "\n",
       "    .dataframe tbody tr th {\n",
       "        vertical-align: top;\n",
       "    }\n",
       "\n",
       "    .dataframe thead th {\n",
       "        text-align: right;\n",
       "    }\n",
       "</style>\n",
       "<table border=\"1\" class=\"dataframe\">\n",
       "  <thead>\n",
       "    <tr style=\"text-align: right;\">\n",
       "      <th>param</th>\n",
       "      <th>x1</th>\n",
       "      <th>x2</th>\n",
       "      <th>x3</th>\n",
       "      <th>x4</th>\n",
       "      <th>x5</th>\n",
       "      <th>x6</th>\n",
       "    </tr>\n",
       "  </thead>\n",
       "  <tbody>\n",
       "    <tr>\n",
       "      <th></th>\n",
       "      <td>0.30154</td>\n",
       "      <td>0.046794</td>\n",
       "      <td>0.006464</td>\n",
       "      <td>0.003801</td>\n",
       "      <td>0.00085</td>\n",
       "      <td>3.616504e-31</td>\n",
       "    </tr>\n",
       "  </tbody>\n",
       "</table>\n",
       "</div>"
      ],
      "text/plain": [
       "param       x1        x2        x3        x4       x5            x6\n",
       "       0.30154  0.046794  0.006464  0.003801  0.00085  3.616504e-31"
      ]
     },
     "execution_count": 24,
     "metadata": {},
     "output_type": "execute_result"
    }
   ],
   "source": [
    "experiment_1.stlb"
   ]
  },
  {
   "cell_type": "code",
   "execution_count": 25,
   "id": "52ebfda4-1223-4793-97dc-e0049ee7a21c",
   "metadata": {},
   "outputs": [
    {
     "data": {
      "text/html": [
       "<div>\n",
       "<style scoped>\n",
       "    .dataframe tbody tr th:only-of-type {\n",
       "        vertical-align: middle;\n",
       "    }\n",
       "\n",
       "    .dataframe tbody tr th {\n",
       "        vertical-align: top;\n",
       "    }\n",
       "\n",
       "    .dataframe thead th {\n",
       "        text-align: right;\n",
       "    }\n",
       "</style>\n",
       "<table border=\"1\" class=\"dataframe\">\n",
       "  <thead>\n",
       "    <tr style=\"text-align: right;\">\n",
       "      <th>param</th>\n",
       "      <th>x1</th>\n",
       "      <th>x2</th>\n",
       "      <th>x3</th>\n",
       "      <th>x4</th>\n",
       "      <th>x5</th>\n",
       "      <th>x6</th>\n",
       "    </tr>\n",
       "  </thead>\n",
       "  <tbody>\n",
       "    <tr>\n",
       "      <th></th>\n",
       "      <td>1.119874</td>\n",
       "      <td>0.531976</td>\n",
       "      <td>0.023085</td>\n",
       "      <td>0.013497</td>\n",
       "      <td>0.002622</td>\n",
       "      <td>1.968754e-30</td>\n",
       "    </tr>\n",
       "  </tbody>\n",
       "</table>\n",
       "</div>"
      ],
      "text/plain": [
       "param        x1        x2        x3        x4        x5            x6\n",
       "       1.119874  0.531976  0.023085  0.013497  0.002622  1.968754e-30"
      ]
     },
     "execution_count": 25,
     "metadata": {},
     "output_type": "execute_result"
    }
   ],
   "source": [
    "experiment_1.stub"
   ]
  },
  {
   "cell_type": "code",
   "execution_count": 26,
   "id": "520ebff8-8b40-43d0-ac3f-8df0c08eea4c",
   "metadata": {},
   "outputs": [
    {
     "data": {
      "text/html": [
       "<div>\n",
       "<style scoped>\n",
       "    .dataframe tbody tr th:only-of-type {\n",
       "        vertical-align: middle;\n",
       "    }\n",
       "\n",
       "    .dataframe tbody tr th {\n",
       "        vertical-align: top;\n",
       "    }\n",
       "\n",
       "    .dataframe thead th {\n",
       "        text-align: right;\n",
       "    }\n",
       "</style>\n",
       "<table border=\"1\" class=\"dataframe\">\n",
       "  <thead>\n",
       "    <tr style=\"text-align: right;\">\n",
       "      <th></th>\n",
       "      <th>x1</th>\n",
       "      <th>x2</th>\n",
       "      <th>x3</th>\n",
       "      <th>x4</th>\n",
       "      <th>x5</th>\n",
       "      <th>x6</th>\n",
       "    </tr>\n",
       "  </thead>\n",
       "  <tbody>\n",
       "    <tr>\n",
       "      <th>0.1</th>\n",
       "      <td>0.000140</td>\n",
       "      <td>0.000351</td>\n",
       "      <td>0.000022</td>\n",
       "      <td>0.000005</td>\n",
       "      <td>9.984818e-07</td>\n",
       "      <td>0.0</td>\n",
       "    </tr>\n",
       "    <tr>\n",
       "      <th>0.3</th>\n",
       "      <td>0.013740</td>\n",
       "      <td>0.010882</td>\n",
       "      <td>0.000309</td>\n",
       "      <td>0.000321</td>\n",
       "      <td>4.516498e-05</td>\n",
       "      <td>0.0</td>\n",
       "    </tr>\n",
       "    <tr>\n",
       "      <th>0.5</th>\n",
       "      <td>0.067714</td>\n",
       "      <td>0.042862</td>\n",
       "      <td>0.001325</td>\n",
       "      <td>0.001217</td>\n",
       "      <td>1.807930e-04</td>\n",
       "      <td>0.0</td>\n",
       "    </tr>\n",
       "  </tbody>\n",
       "</table>\n",
       "</div>"
      ],
      "text/plain": [
       "           x1        x2        x3        x4            x5   x6\n",
       "0.1  0.000140  0.000351  0.000022  0.000005  9.984818e-07  0.0\n",
       "0.3  0.013740  0.010882  0.000309  0.000321  4.516498e-05  0.0\n",
       "0.5  0.067714  0.042862  0.001325  0.001217  1.807930e-04  0.0"
      ]
     },
     "execution_count": 26,
     "metadata": {},
     "output_type": "execute_result"
    }
   ],
   "source": [
    "experiment_1.ivarslb"
   ]
  },
  {
   "cell_type": "code",
   "execution_count": 27,
   "id": "d68e9900-b250-41a8-a1a0-6ab7fc5a5183",
   "metadata": {},
   "outputs": [
    {
     "data": {
      "text/html": [
       "<div>\n",
       "<style scoped>\n",
       "    .dataframe tbody tr th:only-of-type {\n",
       "        vertical-align: middle;\n",
       "    }\n",
       "\n",
       "    .dataframe tbody tr th {\n",
       "        vertical-align: top;\n",
       "    }\n",
       "\n",
       "    .dataframe thead th {\n",
       "        text-align: right;\n",
       "    }\n",
       "</style>\n",
       "<table border=\"1\" class=\"dataframe\">\n",
       "  <thead>\n",
       "    <tr style=\"text-align: right;\">\n",
       "      <th></th>\n",
       "      <th>x1</th>\n",
       "      <th>x2</th>\n",
       "      <th>x3</th>\n",
       "      <th>x4</th>\n",
       "      <th>x5</th>\n",
       "      <th>x6</th>\n",
       "    </tr>\n",
       "  </thead>\n",
       "  <tbody>\n",
       "    <tr>\n",
       "      <th>0.1</th>\n",
       "      <td>0.000944</td>\n",
       "      <td>0.000996</td>\n",
       "      <td>0.000038</td>\n",
       "      <td>0.000031</td>\n",
       "      <td>0.000003</td>\n",
       "      <td>0.0</td>\n",
       "    </tr>\n",
       "    <tr>\n",
       "      <th>0.3</th>\n",
       "      <td>0.033197</td>\n",
       "      <td>0.016258</td>\n",
       "      <td>0.000505</td>\n",
       "      <td>0.000461</td>\n",
       "      <td>0.000085</td>\n",
       "      <td>0.0</td>\n",
       "    </tr>\n",
       "    <tr>\n",
       "      <th>0.5</th>\n",
       "      <td>0.110204</td>\n",
       "      <td>0.061152</td>\n",
       "      <td>0.001801</td>\n",
       "      <td>0.001693</td>\n",
       "      <td>0.000275</td>\n",
       "      <td>0.0</td>\n",
       "    </tr>\n",
       "  </tbody>\n",
       "</table>\n",
       "</div>"
      ],
      "text/plain": [
       "           x1        x2        x3        x4        x5   x6\n",
       "0.1  0.000944  0.000996  0.000038  0.000031  0.000003  0.0\n",
       "0.3  0.033197  0.016258  0.000505  0.000461  0.000085  0.0\n",
       "0.5  0.110204  0.061152  0.001801  0.001693  0.000275  0.0"
      ]
     },
     "execution_count": 27,
     "metadata": {},
     "output_type": "execute_result"
    }
   ],
   "source": [
    "experiment_1.ivarsub"
   ]
  },
  {
   "cell_type": "markdown",
   "id": "02c7bf9f-6073-4ba6-a0b3-860932ef8eb9",
   "metadata": {},
   "source": [
    "**Reliability estimates of factor rankings based on VARS-TO**\n",
    "\n",
    "reliability estimates give the ratio of how many bootstrapped rankings were the same as the initial rankings for `bootstrap_size` sampling iterations"
   ]
  },
  {
   "cell_type": "code",
   "execution_count": 28,
   "id": "dfa3bfd1-a1bd-4d68-9c51-6aa733ab38cc",
   "metadata": {},
   "outputs": [
    {
     "data": {
      "text/html": [
       "<div>\n",
       "<style scoped>\n",
       "    .dataframe tbody tr th:only-of-type {\n",
       "        vertical-align: middle;\n",
       "    }\n",
       "\n",
       "    .dataframe tbody tr th {\n",
       "        vertical-align: top;\n",
       "    }\n",
       "\n",
       "    .dataframe thead th {\n",
       "        text-align: right;\n",
       "    }\n",
       "</style>\n",
       "<table border=\"1\" class=\"dataframe\">\n",
       "  <thead>\n",
       "    <tr style=\"text-align: right;\">\n",
       "      <th></th>\n",
       "      <th>x1</th>\n",
       "      <th>x2</th>\n",
       "      <th>x3</th>\n",
       "      <th>x4</th>\n",
       "      <th>x5</th>\n",
       "      <th>x6</th>\n",
       "    </tr>\n",
       "  </thead>\n",
       "  <tbody>\n",
       "    <tr>\n",
       "      <th></th>\n",
       "      <td>1.0</td>\n",
       "      <td>1.0</td>\n",
       "      <td>0.07</td>\n",
       "      <td>0.07</td>\n",
       "      <td>0.99</td>\n",
       "      <td>1.0</td>\n",
       "    </tr>\n",
       "  </tbody>\n",
       "</table>\n",
       "</div>"
      ],
      "text/plain": [
       "   x1   x2    x3    x4    x5   x6\n",
       "  1.0  1.0  0.07  0.07  0.99  1.0"
      ]
     },
     "execution_count": 28,
     "metadata": {},
     "output_type": "execute_result"
    }
   ],
   "source": [
    "experiment_1.rel_st_factor_ranking"
   ]
  },
  {
   "cell_type": "code",
   "execution_count": 29,
   "id": "e48d64ef-bfb5-4ed5-b971-283d6aff7e64",
   "metadata": {},
   "outputs": [
    {
     "data": {
      "text/html": [
       "<div>\n",
       "<style scoped>\n",
       "    .dataframe tbody tr th:only-of-type {\n",
       "        vertical-align: middle;\n",
       "    }\n",
       "\n",
       "    .dataframe tbody tr th {\n",
       "        vertical-align: top;\n",
       "    }\n",
       "\n",
       "    .dataframe thead th {\n",
       "        text-align: right;\n",
       "    }\n",
       "</style>\n",
       "<table border=\"1\" class=\"dataframe\">\n",
       "  <thead>\n",
       "    <tr style=\"text-align: right;\">\n",
       "      <th></th>\n",
       "      <th>x1</th>\n",
       "      <th>x2</th>\n",
       "      <th>x3</th>\n",
       "      <th>x4</th>\n",
       "      <th>x5</th>\n",
       "      <th>x6</th>\n",
       "    </tr>\n",
       "  </thead>\n",
       "  <tbody>\n",
       "    <tr>\n",
       "      <th>0.1</th>\n",
       "      <td>0.29</td>\n",
       "      <td>0.29</td>\n",
       "      <td>0.91</td>\n",
       "      <td>0.91</td>\n",
       "      <td>1.0</td>\n",
       "      <td>1.0</td>\n",
       "    </tr>\n",
       "    <tr>\n",
       "      <th>0.3</th>\n",
       "      <td>0.93</td>\n",
       "      <td>0.93</td>\n",
       "      <td>0.49</td>\n",
       "      <td>0.49</td>\n",
       "      <td>1.0</td>\n",
       "      <td>1.0</td>\n",
       "    </tr>\n",
       "    <tr>\n",
       "      <th>0.5</th>\n",
       "      <td>1.00</td>\n",
       "      <td>1.00</td>\n",
       "      <td>0.85</td>\n",
       "      <td>0.85</td>\n",
       "      <td>1.0</td>\n",
       "      <td>1.0</td>\n",
       "    </tr>\n",
       "  </tbody>\n",
       "</table>\n",
       "</div>"
      ],
      "text/plain": [
       "       x1    x2    x3    x4   x5   x6\n",
       "0.1  0.29  0.29  0.91  0.91  1.0  1.0\n",
       "0.3  0.93  0.93  0.49  0.49  1.0  1.0\n",
       "0.5  1.00  1.00  0.85  0.85  1.0  1.0"
      ]
     },
     "execution_count": 29,
     "metadata": {},
     "output_type": "execute_result"
    }
   ],
   "source": [
    "experiment_1.rel_ivars_factor_ranking"
   ]
  },
  {
   "cell_type": "markdown",
   "id": "5639d23c-8b1f-402e-a663-b59aa8ea9abd",
   "metadata": {},
   "source": [
    "**Factor grouping based on IVARS50 and Sobol results**"
   ]
  },
  {
   "cell_type": "code",
   "execution_count": 30,
   "id": "9ce4d679-43cb-4cc0-b187-e3ee8c456603",
   "metadata": {},
   "outputs": [
    {
     "data": {
      "text/html": [
       "<div>\n",
       "<style scoped>\n",
       "    .dataframe tbody tr th:only-of-type {\n",
       "        vertical-align: middle;\n",
       "    }\n",
       "\n",
       "    .dataframe tbody tr th {\n",
       "        vertical-align: top;\n",
       "    }\n",
       "\n",
       "    .dataframe thead th {\n",
       "        text-align: right;\n",
       "    }\n",
       "</style>\n",
       "<table border=\"1\" class=\"dataframe\">\n",
       "  <thead>\n",
       "    <tr style=\"text-align: right;\">\n",
       "      <th></th>\n",
       "      <th>x1</th>\n",
       "      <th>x2</th>\n",
       "      <th>x3</th>\n",
       "      <th>x4</th>\n",
       "      <th>x5</th>\n",
       "      <th>x6</th>\n",
       "    </tr>\n",
       "  </thead>\n",
       "  <tbody>\n",
       "    <tr>\n",
       "      <th>0.5</th>\n",
       "      <td>2</td>\n",
       "      <td>3</td>\n",
       "      <td>1</td>\n",
       "      <td>2</td>\n",
       "      <td>3</td>\n",
       "      <td>1</td>\n",
       "    </tr>\n",
       "  </tbody>\n",
       "</table>\n",
       "</div>"
      ],
      "text/plain": [
       "     x1  x2  x3  x4  x5  x6\n",
       "0.5   2   3   1   2   3   1"
      ]
     },
     "execution_count": 30,
     "metadata": {},
     "output_type": "execute_result"
    }
   ],
   "source": [
    "experiment_1.ivars50_grp"
   ]
  },
  {
   "cell_type": "code",
   "execution_count": 31,
   "id": "6712e863-2cb1-48ff-8feb-789e31a065d8",
   "metadata": {},
   "outputs": [
    {
     "data": {
      "text/html": [
       "<div>\n",
       "<style scoped>\n",
       "    .dataframe tbody tr th:only-of-type {\n",
       "        vertical-align: middle;\n",
       "    }\n",
       "\n",
       "    .dataframe tbody tr th {\n",
       "        vertical-align: top;\n",
       "    }\n",
       "\n",
       "    .dataframe thead th {\n",
       "        text-align: right;\n",
       "    }\n",
       "</style>\n",
       "<table border=\"1\" class=\"dataframe\">\n",
       "  <thead>\n",
       "    <tr style=\"text-align: right;\">\n",
       "      <th></th>\n",
       "      <th>x1</th>\n",
       "      <th>x2</th>\n",
       "      <th>x3</th>\n",
       "      <th>x4</th>\n",
       "      <th>x5</th>\n",
       "      <th>x6</th>\n",
       "    </tr>\n",
       "  </thead>\n",
       "  <tbody>\n",
       "    <tr>\n",
       "      <th></th>\n",
       "      <td>2</td>\n",
       "      <td>3</td>\n",
       "      <td>1</td>\n",
       "      <td>2</td>\n",
       "      <td>3</td>\n",
       "      <td>1</td>\n",
       "    </tr>\n",
       "  </tbody>\n",
       "</table>\n",
       "</div>"
      ],
      "text/plain": [
       "  x1  x2  x3  x4  x5  x6\n",
       "   2   3   1   2   3   1"
      ]
     },
     "execution_count": 31,
     "metadata": {},
     "output_type": "execute_result"
    }
   ],
   "source": [
    "experiment_1.st_grp"
   ]
  },
  {
   "cell_type": "markdown",
   "id": "29326681-2ac8-4605-8578-073cf6972815",
   "metadata": {},
   "source": [
    "**Reliability estimates of rankings based on grouping**"
   ]
  },
  {
   "cell_type": "code",
   "execution_count": 32,
   "id": "415ba831-a4fb-4810-8446-efacbbaf716b",
   "metadata": {},
   "outputs": [
    {
     "data": {
      "text/html": [
       "<div>\n",
       "<style scoped>\n",
       "    .dataframe tbody tr th:only-of-type {\n",
       "        vertical-align: middle;\n",
       "    }\n",
       "\n",
       "    .dataframe tbody tr th {\n",
       "        vertical-align: top;\n",
       "    }\n",
       "\n",
       "    .dataframe thead th {\n",
       "        text-align: right;\n",
       "    }\n",
       "</style>\n",
       "<table border=\"1\" class=\"dataframe\">\n",
       "  <thead>\n",
       "    <tr style=\"text-align: right;\">\n",
       "      <th></th>\n",
       "      <th>x1</th>\n",
       "      <th>x2</th>\n",
       "      <th>x3</th>\n",
       "      <th>x4</th>\n",
       "      <th>x5</th>\n",
       "      <th>x6</th>\n",
       "    </tr>\n",
       "  </thead>\n",
       "  <tbody>\n",
       "    <tr>\n",
       "      <th></th>\n",
       "      <td>1.0</td>\n",
       "      <td>1.0</td>\n",
       "      <td>0.07</td>\n",
       "      <td>0.07</td>\n",
       "      <td>0.99</td>\n",
       "      <td>1.0</td>\n",
       "    </tr>\n",
       "  </tbody>\n",
       "</table>\n",
       "</div>"
      ],
      "text/plain": [
       "   x1   x2    x3    x4    x5   x6\n",
       "  1.0  1.0  0.07  0.07  0.99  1.0"
      ]
     },
     "execution_count": 32,
     "metadata": {},
     "output_type": "execute_result"
    }
   ],
   "source": [
    "experiment_1.reli_st_grp"
   ]
  },
  {
   "cell_type": "code",
   "execution_count": 33,
   "id": "b93a71f5-41ba-4ca1-85c3-fcce7c4ee803",
   "metadata": {},
   "outputs": [
    {
     "data": {
      "text/html": [
       "<div>\n",
       "<style scoped>\n",
       "    .dataframe tbody tr th:only-of-type {\n",
       "        vertical-align: middle;\n",
       "    }\n",
       "\n",
       "    .dataframe tbody tr th {\n",
       "        vertical-align: top;\n",
       "    }\n",
       "\n",
       "    .dataframe thead th {\n",
       "        text-align: right;\n",
       "    }\n",
       "</style>\n",
       "<table border=\"1\" class=\"dataframe\">\n",
       "  <thead>\n",
       "    <tr style=\"text-align: right;\">\n",
       "      <th></th>\n",
       "      <th>x1</th>\n",
       "      <th>x2</th>\n",
       "      <th>x3</th>\n",
       "      <th>x4</th>\n",
       "      <th>x5</th>\n",
       "      <th>x6</th>\n",
       "    </tr>\n",
       "  </thead>\n",
       "  <tbody>\n",
       "    <tr>\n",
       "      <th>0.5</th>\n",
       "      <td>1.0</td>\n",
       "      <td>1.0</td>\n",
       "      <td>0.85</td>\n",
       "      <td>0.85</td>\n",
       "      <td>1.0</td>\n",
       "      <td>1.0</td>\n",
       "    </tr>\n",
       "  </tbody>\n",
       "</table>\n",
       "</div>"
      ],
      "text/plain": [
       "      x1   x2    x3    x4   x5   x6\n",
       "0.5  1.0  1.0  0.85  0.85  1.0  1.0"
      ]
     },
     "execution_count": 33,
     "metadata": {},
     "output_type": "execute_result"
    }
   ],
   "source": [
    "experiment_1.reli_ivars50_grp"
   ]
  },
  {
   "cell_type": "markdown",
   "id": "b94fb9b6-9de1-456d-9bed-bb35e864320c",
   "metadata": {},
   "source": [
    "#### Advanced Results\n",
    "\n",
    "**Directional covariogram results**"
   ]
  },
  {
   "cell_type": "code",
   "execution_count": 34,
   "id": "f5a3ac30-2acd-419b-b8ab-a500ea5caa88",
   "metadata": {},
   "outputs": [
    {
     "data": {
      "text/html": [
       "<div>\n",
       "<style scoped>\n",
       "    .dataframe tbody tr th:only-of-type {\n",
       "        vertical-align: middle;\n",
       "    }\n",
       "\n",
       "    .dataframe tbody tr th {\n",
       "        vertical-align: top;\n",
       "    }\n",
       "\n",
       "    .dataframe thead th {\n",
       "        text-align: right;\n",
       "    }\n",
       "</style>\n",
       "<table border=\"1\" class=\"dataframe\">\n",
       "  <thead>\n",
       "    <tr style=\"text-align: right;\">\n",
       "      <th>param</th>\n",
       "      <th>x1</th>\n",
       "      <th>x2</th>\n",
       "      <th>x3</th>\n",
       "      <th>x4</th>\n",
       "      <th>x5</th>\n",
       "      <th>x6</th>\n",
       "    </tr>\n",
       "    <tr>\n",
       "      <th>h</th>\n",
       "      <th></th>\n",
       "      <th></th>\n",
       "      <th></th>\n",
       "      <th></th>\n",
       "      <th></th>\n",
       "      <th></th>\n",
       "    </tr>\n",
       "  </thead>\n",
       "  <tbody>\n",
       "    <tr>\n",
       "      <th>0.1</th>\n",
       "      <td>0.803613</td>\n",
       "      <td>0.798991</td>\n",
       "      <td>0.874078</td>\n",
       "      <td>1.071337</td>\n",
       "      <td>0.855618</td>\n",
       "      <td>1.081476</td>\n",
       "    </tr>\n",
       "    <tr>\n",
       "      <th>0.2</th>\n",
       "      <td>0.725894</td>\n",
       "      <td>0.783040</td>\n",
       "      <td>0.898298</td>\n",
       "      <td>1.040044</td>\n",
       "      <td>1.006091</td>\n",
       "      <td>1.060838</td>\n",
       "    </tr>\n",
       "    <tr>\n",
       "      <th>0.3</th>\n",
       "      <td>0.629486</td>\n",
       "      <td>0.680222</td>\n",
       "      <td>0.928835</td>\n",
       "      <td>0.830261</td>\n",
       "      <td>1.027096</td>\n",
       "      <td>0.752228</td>\n",
       "    </tr>\n",
       "    <tr>\n",
       "      <th>0.4</th>\n",
       "      <td>0.420031</td>\n",
       "      <td>0.502681</td>\n",
       "      <td>0.693340</td>\n",
       "      <td>0.920251</td>\n",
       "      <td>0.929021</td>\n",
       "      <td>0.706769</td>\n",
       "    </tr>\n",
       "    <tr>\n",
       "      <th>0.5</th>\n",
       "      <td>0.367673</td>\n",
       "      <td>0.546526</td>\n",
       "      <td>0.913461</td>\n",
       "      <td>0.864427</td>\n",
       "      <td>0.987925</td>\n",
       "      <td>0.875260</td>\n",
       "    </tr>\n",
       "    <tr>\n",
       "      <th>0.6</th>\n",
       "      <td>0.130201</td>\n",
       "      <td>0.374403</td>\n",
       "      <td>0.857491</td>\n",
       "      <td>0.800880</td>\n",
       "      <td>0.902057</td>\n",
       "      <td>0.946023</td>\n",
       "    </tr>\n",
       "    <tr>\n",
       "      <th>0.7</th>\n",
       "      <td>0.038860</td>\n",
       "      <td>0.390505</td>\n",
       "      <td>0.928007</td>\n",
       "      <td>0.745147</td>\n",
       "      <td>0.984789</td>\n",
       "      <td>0.942275</td>\n",
       "    </tr>\n",
       "    <tr>\n",
       "      <th>0.8</th>\n",
       "      <td>-0.032013</td>\n",
       "      <td>0.284659</td>\n",
       "      <td>0.786583</td>\n",
       "      <td>0.763542</td>\n",
       "      <td>0.855299</td>\n",
       "      <td>0.934553</td>\n",
       "    </tr>\n",
       "    <tr>\n",
       "      <th>0.9</th>\n",
       "      <td>-0.248098</td>\n",
       "      <td>0.382494</td>\n",
       "      <td>0.812998</td>\n",
       "      <td>1.018950</td>\n",
       "      <td>1.116780</td>\n",
       "      <td>0.998786</td>\n",
       "    </tr>\n",
       "  </tbody>\n",
       "</table>\n",
       "</div>"
      ],
      "text/plain": [
       "param        x1        x2        x3        x4        x5        x6\n",
       "h                                                                \n",
       "0.1    0.803613  0.798991  0.874078  1.071337  0.855618  1.081476\n",
       "0.2    0.725894  0.783040  0.898298  1.040044  1.006091  1.060838\n",
       "0.3    0.629486  0.680222  0.928835  0.830261  1.027096  0.752228\n",
       "0.4    0.420031  0.502681  0.693340  0.920251  0.929021  0.706769\n",
       "0.5    0.367673  0.546526  0.913461  0.864427  0.987925  0.875260\n",
       "0.6    0.130201  0.374403  0.857491  0.800880  0.902057  0.946023\n",
       "0.7    0.038860  0.390505  0.928007  0.745147  0.984789  0.942275\n",
       "0.8   -0.032013  0.284659  0.786583  0.763542  0.855299  0.934553\n",
       "0.9   -0.248098  0.382494  0.812998  1.018950  1.116780  0.998786"
      ]
     },
     "execution_count": 34,
     "metadata": {},
     "output_type": "execute_result"
    }
   ],
   "source": [
    "experiment_1.cov.unstack(0)"
   ]
  },
  {
   "cell_type": "markdown",
   "id": "16427ae3-26f3-4f38-a337-feb3d5177d54",
   "metadata": {},
   "source": [
    "**Directional expected covariogram results**"
   ]
  },
  {
   "cell_type": "code",
   "execution_count": 35,
   "id": "816a2846-cdaf-476b-ac47-7424e83a7cdb",
   "metadata": {},
   "outputs": [
    {
     "data": {
      "text/html": [
       "<div>\n",
       "<style scoped>\n",
       "    .dataframe tbody tr th:only-of-type {\n",
       "        vertical-align: middle;\n",
       "    }\n",
       "\n",
       "    .dataframe tbody tr th {\n",
       "        vertical-align: top;\n",
       "    }\n",
       "\n",
       "    .dataframe thead th {\n",
       "        text-align: right;\n",
       "    }\n",
       "</style>\n",
       "<table border=\"1\" class=\"dataframe\">\n",
       "  <thead>\n",
       "    <tr style=\"text-align: right;\">\n",
       "      <th>param</th>\n",
       "      <th>x1</th>\n",
       "      <th>x2</th>\n",
       "      <th>x3</th>\n",
       "      <th>x4</th>\n",
       "      <th>x5</th>\n",
       "      <th>x6</th>\n",
       "    </tr>\n",
       "    <tr>\n",
       "      <th>h</th>\n",
       "      <th></th>\n",
       "      <th></th>\n",
       "      <th></th>\n",
       "      <th></th>\n",
       "      <th></th>\n",
       "      <th></th>\n",
       "    </tr>\n",
       "  </thead>\n",
       "  <tbody>\n",
       "    <tr>\n",
       "      <th>0.1</th>\n",
       "      <td>0.374366</td>\n",
       "      <td>0.203095</td>\n",
       "      <td>0.004702</td>\n",
       "      <td>0.004923</td>\n",
       "      <td>0.000836</td>\n",
       "      <td>3.944305e-31</td>\n",
       "    </tr>\n",
       "    <tr>\n",
       "      <th>0.2</th>\n",
       "      <td>0.219652</td>\n",
       "      <td>0.134645</td>\n",
       "      <td>0.004164</td>\n",
       "      <td>0.004020</td>\n",
       "      <td>0.000633</td>\n",
       "      <td>4.130859e-31</td>\n",
       "    </tr>\n",
       "    <tr>\n",
       "      <th>0.3</th>\n",
       "      <td>0.201421</td>\n",
       "      <td>0.132932</td>\n",
       "      <td>0.002683</td>\n",
       "      <td>0.001837</td>\n",
       "      <td>0.000422</td>\n",
       "      <td>3.591083e-31</td>\n",
       "    </tr>\n",
       "    <tr>\n",
       "      <th>0.4</th>\n",
       "      <td>0.110055</td>\n",
       "      <td>0.059337</td>\n",
       "      <td>0.001038</td>\n",
       "      <td>0.000679</td>\n",
       "      <td>0.000297</td>\n",
       "      <td>3.809226e-31</td>\n",
       "    </tr>\n",
       "    <tr>\n",
       "      <th>0.5</th>\n",
       "      <td>-0.044137</td>\n",
       "      <td>-0.003922</td>\n",
       "      <td>-0.002396</td>\n",
       "      <td>-0.001075</td>\n",
       "      <td>0.000011</td>\n",
       "      <td>3.944305e-31</td>\n",
       "    </tr>\n",
       "    <tr>\n",
       "      <th>0.6</th>\n",
       "      <td>-0.123749</td>\n",
       "      <td>-0.123098</td>\n",
       "      <td>-0.003529</td>\n",
       "      <td>-0.001931</td>\n",
       "      <td>-0.000376</td>\n",
       "      <td>4.379715e-31</td>\n",
       "    </tr>\n",
       "    <tr>\n",
       "      <th>0.7</th>\n",
       "      <td>-0.238123</td>\n",
       "      <td>-0.156732</td>\n",
       "      <td>-0.004497</td>\n",
       "      <td>-0.004530</td>\n",
       "      <td>-0.000817</td>\n",
       "      <td>3.701578e-31</td>\n",
       "    </tr>\n",
       "    <tr>\n",
       "      <th>0.8</th>\n",
       "      <td>-0.317992</td>\n",
       "      <td>-0.222719</td>\n",
       "      <td>-0.006603</td>\n",
       "      <td>-0.005304</td>\n",
       "      <td>-0.000973</td>\n",
       "      <td>4.064558e-31</td>\n",
       "    </tr>\n",
       "    <tr>\n",
       "      <th>0.9</th>\n",
       "      <td>-0.483668</td>\n",
       "      <td>-0.242282</td>\n",
       "      <td>-0.005710</td>\n",
       "      <td>-0.006257</td>\n",
       "      <td>-0.001107</td>\n",
       "      <td>4.222072e-31</td>\n",
       "    </tr>\n",
       "  </tbody>\n",
       "</table>\n",
       "</div>"
      ],
      "text/plain": [
       "param        x1        x2        x3        x4        x5            x6\n",
       "h                                                                    \n",
       "0.1    0.374366  0.203095  0.004702  0.004923  0.000836  3.944305e-31\n",
       "0.2    0.219652  0.134645  0.004164  0.004020  0.000633  4.130859e-31\n",
       "0.3    0.201421  0.132932  0.002683  0.001837  0.000422  3.591083e-31\n",
       "0.4    0.110055  0.059337  0.001038  0.000679  0.000297  3.809226e-31\n",
       "0.5   -0.044137 -0.003922 -0.002396 -0.001075  0.000011  3.944305e-31\n",
       "0.6   -0.123749 -0.123098 -0.003529 -0.001931 -0.000376  4.379715e-31\n",
       "0.7   -0.238123 -0.156732 -0.004497 -0.004530 -0.000817  3.701578e-31\n",
       "0.8   -0.317992 -0.222719 -0.006603 -0.005304 -0.000973  4.064558e-31\n",
       "0.9   -0.483668 -0.242282 -0.005710 -0.006257 -0.001107  4.222072e-31"
      ]
     },
     "execution_count": 35,
     "metadata": {},
     "output_type": "execute_result"
    }
   ],
   "source": [
    "experiment_1.ecov.unstack(0)"
   ]
  },
  {
   "cell_type": "markdown",
   "id": "65b0d8d9-d392-43f5-81b8-6274ec68f87d",
   "metadata": {},
   "source": [
    "## Example using the Ishigami model in offline mode"
   ]
  },
  {
   "cell_type": "markdown",
   "id": "8a5c0c26-e773-41e0-b358-40283420cd78",
   "metadata": {},
   "source": [
    "The offline mode of VARS tool is where the models are ran outside of the GVARS analysis\n",
    "\n",
    "So again, we start with creating `experiment_2`"
   ]
  },
  {
   "cell_type": "code",
   "execution_count": 15,
   "id": "03cfbbb9-3a13-4c71-ba39-1f70cb855279",
   "metadata": {},
   "outputs": [],
   "source": [
    "experiment_2 = GVARS(parameters = {'x1': (0, 1, None, 'unif'), \n",
    "                                  'x2': (0, 1, None, 'unif'), \n",
    "                                  'x3': (0, 1, None, 'unif')},\n",
    "                    corr_mat = [np.array([1, 0, 0],\n",
    "                                [0, 1, 0],\n",
    "                                [0, 0, 1])],\n",
    "                    num_stars=50,\n",
    "                    num_dir_samples=10,\n",
    "                    delta_h = 0.1,\n",
    "                    ivars_scales = (0.1, 0.3, 0.5),\n",
    "                    model = ishigami_model,\n",
    "                    seed = 1234,\n",
    "                    bootstrap_flag = True,\n",
    "                    bootstrap_size = 100,\n",
    "                    bootstrap_ci=0.9,\n",
    "                    grouping_flag=True,\n",
    "                    num_grps=2,\n",
    "                    report_verbose=True,\n",
    "                )"
   ]
  },
  {
   "cell_type": "markdown",
   "id": "c3f1b375-542a-4331-8a91-995edd1011a7",
   "metadata": {},
   "source": [
    "What we will be doing first is generating the `star_points` based of the star centre samples generated in the VARS instance using a method named `generate_star`"
   ]
  },
  {
   "cell_type": "code",
   "execution_count": 16,
   "id": "7705dbe3-aacc-4c3d-a5e0-1ea8dc36e394",
   "metadata": {},
   "outputs": [
    {
     "data": {
      "application/vnd.jupyter.widget-view+json": {
       "model_id": "4bde0d18661643e58f25dd8825a498e1",
       "version_major": 2,
       "version_minor": 0
      },
      "text/plain": [
       "generating star points:   0%|          | 0/10 [00:00<?, ?it/s]"
      ]
     },
     "metadata": {},
     "output_type": "display_data"
    }
   ],
   "source": [
    "star_points = experiment_2.generate_star()"
   ]
  },
  {
   "cell_type": "markdown",
   "id": "1f72d2ca-c28d-4fbe-a239-91baf90992d8",
   "metadata": {},
   "source": [
    "Now you will have access to the star points that you can apply to your model outside of Python or GVARS"
   ]
  },
  {
   "cell_type": "code",
   "execution_count": 17,
   "id": "c1898a3d-9db9-4ff0-9d4f-9136316e5e9d",
   "metadata": {},
   "outputs": [
    {
     "data": {
      "text/html": [
       "<div>\n",
       "<style scoped>\n",
       "    .dataframe tbody tr th:only-of-type {\n",
       "        vertical-align: middle;\n",
       "    }\n",
       "\n",
       "    .dataframe tbody tr th {\n",
       "        vertical-align: top;\n",
       "    }\n",
       "\n",
       "    .dataframe thead th {\n",
       "        text-align: right;\n",
       "    }\n",
       "</style>\n",
       "<table border=\"1\" class=\"dataframe\">\n",
       "  <thead>\n",
       "    <tr style=\"text-align: right;\">\n",
       "      <th></th>\n",
       "      <th></th>\n",
       "      <th></th>\n",
       "      <th>0</th>\n",
       "      <th>1</th>\n",
       "      <th>2</th>\n",
       "    </tr>\n",
       "    <tr>\n",
       "      <th>centre</th>\n",
       "      <th>param</th>\n",
       "      <th>points</th>\n",
       "      <th></th>\n",
       "      <th></th>\n",
       "      <th></th>\n",
       "    </tr>\n",
       "  </thead>\n",
       "  <tbody>\n",
       "    <tr>\n",
       "      <th rowspan=\"5\" valign=\"top\">0</th>\n",
       "      <th rowspan=\"5\" valign=\"top\">x1</th>\n",
       "      <th>0</th>\n",
       "      <td>0.855890</td>\n",
       "      <td>0.380670</td>\n",
       "      <td>0.649854</td>\n",
       "    </tr>\n",
       "    <tr>\n",
       "      <th>1</th>\n",
       "      <td>0.521713</td>\n",
       "      <td>0.380670</td>\n",
       "      <td>0.649854</td>\n",
       "    </tr>\n",
       "    <tr>\n",
       "      <th>2</th>\n",
       "      <td>0.299610</td>\n",
       "      <td>0.380670</td>\n",
       "      <td>0.649854</td>\n",
       "    </tr>\n",
       "    <tr>\n",
       "      <th>3</th>\n",
       "      <td>0.777878</td>\n",
       "      <td>0.380670</td>\n",
       "      <td>0.649854</td>\n",
       "    </tr>\n",
       "    <tr>\n",
       "      <th>4</th>\n",
       "      <td>0.761489</td>\n",
       "      <td>0.380670</td>\n",
       "      <td>0.649854</td>\n",
       "    </tr>\n",
       "    <tr>\n",
       "      <th>...</th>\n",
       "      <th>...</th>\n",
       "      <th>...</th>\n",
       "      <td>...</td>\n",
       "      <td>...</td>\n",
       "      <td>...</td>\n",
       "    </tr>\n",
       "    <tr>\n",
       "      <th rowspan=\"5\" valign=\"top\">49</th>\n",
       "      <th rowspan=\"5\" valign=\"top\">x3</th>\n",
       "      <th>5</th>\n",
       "      <td>0.333677</td>\n",
       "      <td>0.526927</td>\n",
       "      <td>0.600804</td>\n",
       "    </tr>\n",
       "    <tr>\n",
       "      <th>6</th>\n",
       "      <td>0.333677</td>\n",
       "      <td>0.526927</td>\n",
       "      <td>0.449691</td>\n",
       "    </tr>\n",
       "    <tr>\n",
       "      <th>7</th>\n",
       "      <td>0.333677</td>\n",
       "      <td>0.526927</td>\n",
       "      <td>0.169306</td>\n",
       "    </tr>\n",
       "    <tr>\n",
       "      <th>8</th>\n",
       "      <td>0.333677</td>\n",
       "      <td>0.526927</td>\n",
       "      <td>0.452187</td>\n",
       "    </tr>\n",
       "    <tr>\n",
       "      <th>9</th>\n",
       "      <td>0.333677</td>\n",
       "      <td>0.526927</td>\n",
       "      <td>0.211748</td>\n",
       "    </tr>\n",
       "  </tbody>\n",
       "</table>\n",
       "<p>1500 rows × 3 columns</p>\n",
       "</div>"
      ],
      "text/plain": [
       "                            0         1         2\n",
       "centre param points                              \n",
       "0      x1    0       0.855890  0.380670  0.649854\n",
       "             1       0.521713  0.380670  0.649854\n",
       "             2       0.299610  0.380670  0.649854\n",
       "             3       0.777878  0.380670  0.649854\n",
       "             4       0.761489  0.380670  0.649854\n",
       "...                       ...       ...       ...\n",
       "49     x3    5       0.333677  0.526927  0.600804\n",
       "             6       0.333677  0.526927  0.449691\n",
       "             7       0.333677  0.526927  0.169306\n",
       "             8       0.333677  0.526927  0.452187\n",
       "             9       0.333677  0.526927  0.211748\n",
       "\n",
       "[1500 rows x 3 columns]"
      ]
     },
     "execution_count": 17,
     "metadata": {},
     "output_type": "execute_result"
    }
   ],
   "source": [
    "star_points"
   ]
  },
  {
   "cell_type": "markdown",
   "id": "36caafc2-cc16-484b-b1b4-44da979ad37b",
   "metadata": {},
   "source": [
    "These star points (along with any of the GVARS result data frames) can be extracted to a .csv file by doing the following:\n",
    "\n",
    "note: the format of the .csv file will be the exact same as the data frame shown above but with `,` as the delimeter"
   ]
  },
  {
   "cell_type": "code",
   "execution_count": 18,
   "id": "29adac92-9d13-4aa0-986d-94fc731f6952",
   "metadata": {},
   "outputs": [],
   "source": [
    "path = 'star_points'  # type your desired file path here as a string (right now a file named star_points will be put in your current working directory)\n",
    "star_points.to_csv(path)"
   ]
  },
  {
   "cell_type": "markdown",
   "id": "babdcd8b-2af5-4c8a-9cc8-029c9a180d00",
   "metadata": {},
   "source": [
    "*****\n",
    "Here I will be creating the `star_points_results` csv file with ishigami applied to all the star points \n",
    "\n",
    "**NOTE**: this is the same as what is done in online mode and is just for example, you should do this your own way if you are wanting to use offline mode"
   ]
  },
  {
   "cell_type": "code",
   "execution_count": 19,
   "id": "dbc00707-0198-45fc-a42a-34c8502bad1b",
   "metadata": {},
   "outputs": [],
   "source": [
    "# **** you do not need to understand this block of code ****\n",
    "applied_df = star_points.merge(star_points.drop_duplicates()\n",
    "                     .assign(**{ishigami.__name__: lambda x: x.apply(ishigami, axis=1)}), \n",
    "                     how='left')\n",
    "\n",
    "applied_df.index = star_points.index\n",
    "\n",
    "applied_df.to_csv('star_points_results')"
   ]
  },
  {
   "cell_type": "markdown",
   "id": "1bb8abc4-7086-4c37-9314-1779fc432a36",
   "metadata": {},
   "source": [
    "****\n",
    "Now after you apply your model to the star points you must put your results in the right most column of the .csv file, with the header of the column being the name of the model you are using. This can be done in excel, notepad, etc. Once the results are placed in the .csv file correctly we must convert it back to a data frame to run the GVARS analysis by doing the following:\n",
    "\n",
    "note: this dataframe is the standard format that is expected to be inputted into the `run_offline` method"
   ]
  },
  {
   "cell_type": "code",
   "execution_count": 20,
   "id": "8ea20cd9-9a67-4607-906a-74716bc2e3d3",
   "metadata": {},
   "outputs": [
    {
     "data": {
      "text/html": [
       "<div>\n",
       "<style scoped>\n",
       "    .dataframe tbody tr th:only-of-type {\n",
       "        vertical-align: middle;\n",
       "    }\n",
       "\n",
       "    .dataframe tbody tr th {\n",
       "        vertical-align: top;\n",
       "    }\n",
       "\n",
       "    .dataframe thead th {\n",
       "        text-align: right;\n",
       "    }\n",
       "</style>\n",
       "<table border=\"1\" class=\"dataframe\">\n",
       "  <thead>\n",
       "    <tr style=\"text-align: right;\">\n",
       "      <th></th>\n",
       "      <th></th>\n",
       "      <th></th>\n",
       "      <th>0</th>\n",
       "      <th>1</th>\n",
       "      <th>2</th>\n",
       "      <th>ishigami</th>\n",
       "    </tr>\n",
       "    <tr>\n",
       "      <th>centre</th>\n",
       "      <th>param</th>\n",
       "      <th>points</th>\n",
       "      <th></th>\n",
       "      <th></th>\n",
       "      <th></th>\n",
       "      <th></th>\n",
       "    </tr>\n",
       "  </thead>\n",
       "  <tbody>\n",
       "    <tr>\n",
       "      <th rowspan=\"5\" valign=\"top\">0</th>\n",
       "      <th rowspan=\"5\" valign=\"top\">x1</th>\n",
       "      <th>0</th>\n",
       "      <td>0.855890</td>\n",
       "      <td>0.380670</td>\n",
       "      <td>0.649854</td>\n",
       "      <td>1.728197</td>\n",
       "    </tr>\n",
       "    <tr>\n",
       "      <th>1</th>\n",
       "      <td>0.521713</td>\n",
       "      <td>0.380670</td>\n",
       "      <td>0.649854</td>\n",
       "      <td>1.469119</td>\n",
       "    </tr>\n",
       "    <tr>\n",
       "      <th>2</th>\n",
       "      <td>0.299610</td>\n",
       "      <td>0.380670</td>\n",
       "      <td>0.649854</td>\n",
       "      <td>1.264088</td>\n",
       "    </tr>\n",
       "    <tr>\n",
       "      <th>3</th>\n",
       "      <td>0.777878</td>\n",
       "      <td>0.380670</td>\n",
       "      <td>0.649854</td>\n",
       "      <td>1.674336</td>\n",
       "    </tr>\n",
       "    <tr>\n",
       "      <th>4</th>\n",
       "      <td>0.761489</td>\n",
       "      <td>0.380670</td>\n",
       "      <td>0.649854</td>\n",
       "      <td>1.662461</td>\n",
       "    </tr>\n",
       "    <tr>\n",
       "      <th>...</th>\n",
       "      <th>...</th>\n",
       "      <th>...</th>\n",
       "      <td>...</td>\n",
       "      <td>...</td>\n",
       "      <td>...</td>\n",
       "      <td>...</td>\n",
       "    </tr>\n",
       "    <tr>\n",
       "      <th rowspan=\"5\" valign=\"top\">49</th>\n",
       "      <th rowspan=\"5\" valign=\"top\">x3</th>\n",
       "      <th>5</th>\n",
       "      <td>0.333677</td>\n",
       "      <td>0.526927</td>\n",
       "      <td>0.600804</td>\n",
       "      <td>2.099867</td>\n",
       "    </tr>\n",
       "    <tr>\n",
       "      <th>6</th>\n",
       "      <td>0.333677</td>\n",
       "      <td>0.526927</td>\n",
       "      <td>0.449691</td>\n",
       "      <td>2.098403</td>\n",
       "    </tr>\n",
       "    <tr>\n",
       "      <th>7</th>\n",
       "      <td>0.333677</td>\n",
       "      <td>0.526927</td>\n",
       "      <td>0.169306</td>\n",
       "      <td>2.097747</td>\n",
       "    </tr>\n",
       "    <tr>\n",
       "      <th>8</th>\n",
       "      <td>0.333677</td>\n",
       "      <td>0.526927</td>\n",
       "      <td>0.452187</td>\n",
       "      <td>2.098418</td>\n",
       "    </tr>\n",
       "    <tr>\n",
       "      <th>9</th>\n",
       "      <td>0.333677</td>\n",
       "      <td>0.526927</td>\n",
       "      <td>0.211748</td>\n",
       "      <td>2.097766</td>\n",
       "    </tr>\n",
       "  </tbody>\n",
       "</table>\n",
       "<p>1500 rows × 4 columns</p>\n",
       "</div>"
      ],
      "text/plain": [
       "                            0         1         2  ishigami\n",
       "centre param points                                        \n",
       "0      x1    0       0.855890  0.380670  0.649854  1.728197\n",
       "             1       0.521713  0.380670  0.649854  1.469119\n",
       "             2       0.299610  0.380670  0.649854  1.264088\n",
       "             3       0.777878  0.380670  0.649854  1.674336\n",
       "             4       0.761489  0.380670  0.649854  1.662461\n",
       "...                       ...       ...       ...       ...\n",
       "49     x3    5       0.333677  0.526927  0.600804  2.099867\n",
       "             6       0.333677  0.526927  0.449691  2.098403\n",
       "             7       0.333677  0.526927  0.169306  2.097747\n",
       "             8       0.333677  0.526927  0.452187  2.098418\n",
       "             9       0.333677  0.526927  0.211748  2.097766\n",
       "\n",
       "[1500 rows x 4 columns]"
      ]
     },
     "execution_count": 20,
     "metadata": {},
     "output_type": "execute_result"
    }
   ],
   "source": [
    "modelframe = pd.read_csv('star_points_results', index_col=[0, 1, 2])\n",
    "modelframe"
   ]
  },
  {
   "cell_type": "markdown",
   "id": "283cd048-aa4c-4cd3-b5a1-90835917481c",
   "metadata": {},
   "source": [
    "Now to run the GVARS analysis simply do the following:"
   ]
  },
  {
   "cell_type": "code",
   "execution_count": 21,
   "id": "cf0ebfbd-b082-44f5-8344-b44c56b87a9f",
   "metadata": {},
   "outputs": [
    {
     "data": {
      "application/vnd.jupyter.widget-view+json": {
       "model_id": "7cf4c8f838784560aefc459aed69bb74",
       "version_major": 2,
       "version_minor": 0
      },
      "text/plain": [
       "building pairs:   0%|          | 0/150 [00:00<?, ?it/s]"
      ]
     },
     "metadata": {},
     "output_type": "display_data"
    },
    {
     "data": {
      "application/vnd.jupyter.widget-view+json": {
       "model_id": "4607f52aa45c414ca63a5bf274e5db07",
       "version_major": 2,
       "version_minor": 0
      },
      "text/plain": [
       "calculating 'h' values:   0%|          | 0/50 [00:00<?, ?it/s]"
      ]
     },
     "metadata": {},
     "output_type": "display_data"
    },
    {
     "data": {
      "application/vnd.jupyter.widget-view+json": {
       "model_id": "b1bba856e1644f978c951bc3e003b8fd",
       "version_major": 2,
       "version_minor": 0
      },
      "text/plain": [
       "binning and reording pairs based on 'h' values:   0%|          | 0/2 [00:00<?, ?it/s]"
      ]
     },
     "metadata": {},
     "output_type": "display_data"
    },
    {
     "data": {
      "application/vnd.jupyter.widget-view+json": {
       "model_id": "85c4c4ca401c47f9be7e05b7df4bebb8",
       "version_major": 2,
       "version_minor": 0
      },
      "text/plain": [
       "VARS analysis:   0%|          | 0/10 [00:00<?, ?it/s]"
      ]
     },
     "metadata": {},
     "output_type": "display_data"
    },
    {
     "data": {
      "application/vnd.jupyter.widget-view+json": {
       "model_id": "d5ba1613a33b4063bbc10c136ab3f9e1",
       "version_major": 2,
       "version_minor": 0
      },
      "text/plain": [
       "factor ranking:   0%|          | 0/2 [00:00<?, ?it/s]"
      ]
     },
     "metadata": {},
     "output_type": "display_data"
    },
    {
     "data": {
      "application/vnd.jupyter.widget-view+json": {
       "model_id": "d8fe42c1cd354ab384762034ecc54c5c",
       "version_major": 2,
       "version_minor": 0
      },
      "text/plain": [
       "bootstrapping:   0%|          | 0/100 [00:00<?, ?it/s]"
      ]
     },
     "metadata": {},
     "output_type": "display_data"
    }
   ],
   "source": [
    "experiment_2.run_offline(modelframe)"
   ]
  },
  {
   "cell_type": "markdown",
   "id": "346a4bd3-1376-40b8-8d2c-5af7de994a05",
   "metadata": {},
   "source": [
    "Now all the results can be accesed the exact same way as they were for online mode with `experiment_1`"
   ]
  },
  {
   "cell_type": "markdown",
   "id": "baa9f9e6-5e8f-4705-b53d-9a01724f7073",
   "metadata": {},
   "source": [
    "# DIY"
   ]
  },
  {
   "cell_type": "markdown",
   "id": "291c93b7-a667-46a3-ad3c-3a027e93c1b4",
   "metadata": {},
   "source": [
    "How about you test `experiment_3` yourself? "
   ]
  },
  {
   "cell_type": "code",
   "execution_count": 10,
   "id": "458fd455-a757-4d88-b021-618a4fb66a13",
   "metadata": {},
   "outputs": [],
   "source": [
    "example_1_model = Model(example_1)"
   ]
  },
  {
   "cell_type": "code",
   "execution_count": 11,
   "id": "b4154f86-5849-4fb2-b3dc-2c841a050430",
   "metadata": {},
   "outputs": [],
   "source": [
    "experiment_3 = GVARS(parameters = {'x1': (-1, 1, None, 'unif'), \n",
    "                                  'x2': (-1, 1, None, 'unif')},\n",
    "                    corr_mat = np.array([[1, -0.8],\n",
    "                                [-0.8, 1]]),\n",
    "                    num_stars=1000,\n",
    "                    num_dir_samples=100,\n",
    "                    delta_h = 0.01,\n",
    "                    ivars_scales = (0.1, 0.3, 0.5),\n",
    "                    model = example_1_model,\n",
    "                    seed = 1234,\n",
    "                    bootstrap_flag = True,\n",
    "                    bootstrap_size = 100,\n",
    "                    bootstrap_ci=0.9,\n",
    "                    grouping_flag=False,\n",
    "                    num_grps=2,\n",
    "                    report_verbose=True,\n",
    "                )"
   ]
  },
  {
   "cell_type": "code",
   "execution_count": 12,
   "id": "72f0e464-8b24-423c-9eda-7c94c03a24db",
   "metadata": {},
   "outputs": [
    {
     "data": {
      "text/plain": [
       "Star Points: Not Loaded\n",
       "Parameters: 2 paremeters set\n",
       "Delta h: 0.01\n",
       "Model: example_1\n",
       "Seed Number: 45311056\n",
       "Bootstrap: On\n",
       "Bootstrap Size: 100\n",
       "Bootstrap CI: 0.9\n",
       "Grouping: On\n",
       "Number of Groups: 2\n",
       "Verbose: On\n",
       "GVARS Analysis: Not Done"
      ]
     },
     "execution_count": 12,
     "metadata": {},
     "output_type": "execute_result"
    }
   ],
   "source": [
    "experiment_3"
   ]
  },
  {
   "cell_type": "code",
   "execution_count": null,
   "id": "cdde6bc9-25b1-46d1-bfde-b6a5896ddc77",
   "metadata": {},
   "outputs": [],
   "source": []
  }
 ],
 "metadata": {
  "kernelspec": {
   "display_name": "Python 3",
   "language": "python",
   "name": "python3"
  },
  "language_info": {
   "codemirror_mode": {
    "name": "ipython",
    "version": 3
   },
   "file_extension": ".py",
   "mimetype": "text/x-python",
   "name": "python",
   "nbconvert_exporter": "python",
   "pygments_lexer": "ipython3",
   "version": "3.8.8"
  }
 },
 "nbformat": 4,
 "nbformat_minor": 5
}
