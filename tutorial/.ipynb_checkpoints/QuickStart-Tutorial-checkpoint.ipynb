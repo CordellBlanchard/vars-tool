{
 "cells": [
  {
   "cell_type": "markdown",
   "id": "7ecdb856",
   "metadata": {},
   "source": [
    "# VARS-TOOL Quick Start Tutorial"
   ]
  },
  {
   "cell_type": "markdown",
   "id": "495df5c8",
   "metadata": {},
   "source": [
    "## Install"
   ]
  },
  {
   "cell_type": "markdown",
   "id": "72900ca7",
   "metadata": {},
   "source": [
    "This is a simple tutorial show casing VARS-TOOL functionalities that are being implement in Python. Let's install the latest VARS-TOOL from GitHub: \n",
    "\n",
    "note: if the loading bars are not working, simply turn them off or install a lower version of pandas by doing the following:\n",
    "`!pip install pandas==1.2.5`"
   ]
  },
  {
   "cell_type": "code",
   "execution_count": 1,
   "id": "8a31db09",
   "metadata": {
    "scrolled": true
   },
   "outputs": [
    {
     "name": "stderr",
     "output_type": "stream",
     "text": [
      "'rm' is not recognized as an internal or external command,\n",
      "operable program or batch file.\n",
      "Cloning into 'vars-tool'...\n"
     ]
    },
    {
     "name": "stdout",
     "output_type": "stream",
     "text": [
      "Processing c:\\users\\corde\\giws\\vars-tool\\tutorial\\vars-tool\n",
      "  Installing build dependencies: started\n",
      "  Installing build dependencies: still running...\n",
      "  Installing build dependencies: finished with status 'done'\n",
      "  Getting requirements to build wheel: started\n",
      "  Getting requirements to build wheel: finished with status 'done'\n",
      "    Preparing wheel metadata: started\n",
      "    Preparing wheel metadata: finished with status 'done'\n",
      "Requirement already satisfied: pandas in c:\\users\\corde\\anaconda3\\lib\\site-packages (from varstool==2.3) (1.2.4)\n",
      "Requirement already satisfied: psutil in c:\\users\\corde\\anaconda3\\lib\\site-packages (from varstool==2.3) (5.8.0)\n",
      "Requirement already satisfied: mapply in c:\\users\\corde\\anaconda3\\lib\\site-packages (from varstool==2.3) (0.1.7)\n",
      "Requirement already satisfied: scipy in c:\\users\\corde\\anaconda3\\lib\\site-packages (from varstool==2.3) (1.6.2)\n",
      "Requirement already satisfied: tqdm in c:\\users\\corde\\anaconda3\\lib\\site-packages (from varstool==2.3) (4.59.0)\n",
      "Requirement already satisfied: numpy in c:\\users\\corde\\anaconda3\\lib\\site-packages (from varstool==2.3) (1.20.1)\n",
      "Requirement already satisfied: joblib in c:\\users\\corde\\anaconda3\\lib\\site-packages (from varstool==2.3) (1.0.1)\n",
      "Requirement already satisfied: matplotlib in c:\\users\\corde\\anaconda3\\lib\\site-packages (from varstool==2.3) (3.3.4)\n",
      "Requirement already satisfied: pathos>=0.2.0 in c:\\users\\corde\\anaconda3\\lib\\site-packages (from mapply->varstool==2.3) (0.2.8)\n",
      "Requirement already satisfied: dill>=0.3.4 in c:\\users\\corde\\anaconda3\\lib\\site-packages (from pathos>=0.2.0->mapply->varstool==2.3) (0.3.4)\n",
      "Requirement already satisfied: pox>=0.3.0 in c:\\users\\corde\\anaconda3\\lib\\site-packages (from pathos>=0.2.0->mapply->varstool==2.3) (0.3.0)\n",
      "Requirement already satisfied: multiprocess>=0.70.12 in c:\\users\\corde\\anaconda3\\lib\\site-packages (from pathos>=0.2.0->mapply->varstool==2.3) (0.70.12.2)\n",
      "Requirement already satisfied: ppft>=1.6.6.4 in c:\\users\\corde\\anaconda3\\lib\\site-packages (from pathos>=0.2.0->mapply->varstool==2.3) (1.6.6.4)\n",
      "Requirement already satisfied: six>=1.7.3 in c:\\users\\corde\\anaconda3\\lib\\site-packages (from ppft>=1.6.6.4->pathos>=0.2.0->mapply->varstool==2.3) (1.15.0)\n",
      "Requirement already satisfied: cycler>=0.10 in c:\\users\\corde\\anaconda3\\lib\\site-packages (from matplotlib->varstool==2.3) (0.10.0)\n",
      "Requirement already satisfied: python-dateutil>=2.1 in c:\\users\\corde\\anaconda3\\lib\\site-packages (from matplotlib->varstool==2.3) (2.8.1)\n",
      "Requirement already satisfied: kiwisolver>=1.0.1 in c:\\users\\corde\\anaconda3\\lib\\site-packages (from matplotlib->varstool==2.3) (1.3.1)\n",
      "Requirement already satisfied: pyparsing!=2.0.4,!=2.1.2,!=2.1.6,>=2.0.3 in c:\\users\\corde\\anaconda3\\lib\\site-packages (from matplotlib->varstool==2.3) (2.4.7)\n",
      "Requirement already satisfied: pillow>=6.2.0 in c:\\users\\corde\\anaconda3\\lib\\site-packages (from matplotlib->varstool==2.3) (8.2.0)\n",
      "Requirement already satisfied: pytz>=2017.3 in c:\\users\\corde\\anaconda3\\lib\\site-packages (from pandas->varstool==2.3) (2021.1)\n",
      "Building wheels for collected packages: varstool\n",
      "  Building wheel for varstool (PEP 517): started\n",
      "  Building wheel for varstool (PEP 517): finished with status 'done'\n",
      "  Created wheel for varstool: filename=varstool-2.3-py2.py3-none-any.whl size=422137 sha256=670173789c5758527c5ac4cda0a41f1bcd6f902fb070c0f8a2e9224fa124312b\n",
      "  Stored in directory: c:\\users\\corde\\appdata\\local\\pip\\cache\\wheels\\ea\\22\\e6\\94dfc4ddef885e03d97899daed3e63a6c2c3a1295f1b37f687\n",
      "Successfully built varstool\n",
      "Installing collected packages: varstool\n",
      "  Attempting uninstall: varstool\n",
      "    Found existing installation: varstool 2.3\n",
      "    Uninstalling varstool-2.3:\n",
      "      Successfully uninstalled varstool-2.3\n",
      "Successfully installed varstool-2.3\n"
     ]
    }
   ],
   "source": [
    "!rm -rf vars-tool\n",
    "!git clone https://github.com/vars-tool/vars-tool\n",
    "!pip install vars-tool/."
   ]
  },
  {
   "cell_type": "markdown",
   "id": "501b7725",
   "metadata": {},
   "source": [
    "## Example using the Ishigami and wavy6D models using online mode"
   ]
  },
  {
   "cell_type": "markdown",
   "id": "2a0d1c9f",
   "metadata": {},
   "source": [
    "The online mode of VARS tool is where the models are ran in the VARS analysis\n",
    "\n",
    "Let's import VARS for the analysis and the Model class for creating a wrapper around the desired model so that it can be inputted into VARS"
   ]
  },
  {
   "cell_type": "code",
   "execution_count": 2,
   "id": "7d922578",
   "metadata": {},
   "outputs": [],
   "source": [
    "# importing VARS and Model from varstool package\n",
    "from varstool import VARS, Model\n",
    "\n",
    "# these are being imported in order for us to display the data nicely on the notebook\n",
    "import numpy as np\n",
    "import pandas as pd"
   ]
  },
  {
   "cell_type": "markdown",
   "id": "62fe48d3",
   "metadata": {},
   "source": [
    "Here is a quick function definition of the Ishigami model:"
   ]
  },
  {
   "cell_type": "code",
   "execution_count": 3,
   "id": "a4bc799b",
   "metadata": {},
   "outputs": [],
   "source": [
    "def ishigami(x, a=7, b=0.05):\n",
    "    '''Ishigami test function'''\n",
    "    # check whether the input x is a dataframe\n",
    "    \n",
    "    if not isinstance(x, (pd.core.frame.DataFrame, pd.core.series.Series, np.ndarray, list)):\n",
    "        raise TypeError('`x` must be of type pandas.DataFrame, numpy.ndarray, pd.Series, or list')\n",
    "    \n",
    "    if len(x) > 3:\n",
    "        raise ValueError('`x` must have only three arguments at a time')\n",
    "    \n",
    "    return np.sin(x[0]) + a*(np.sin(x[1])**2) + b*(x[2]**4)*np.sin(x[0])"
   ]
  },
  {
   "cell_type": "markdown",
   "id": "72b8cf46",
   "metadata": {},
   "source": [
    "Here is a quick function definition of the wavy6D model:"
   ]
  },
  {
   "cell_type": "code",
   "execution_count": 4,
   "id": "73e9ed6d",
   "metadata": {},
   "outputs": [],
   "source": [
    "def wavy6D(x):\n",
    "    '''wavy6D test function'''\n",
    "    \n",
    "# The features include:             \n",
    "# (1) The 6 input factors are non-interacting                  \n",
    "# (2) The function is \"wavy\" along the first 5 dimensions but with different \n",
    "#     frequencies and amplitude at different directions                                     \n",
    "# (3) The last dimension (X6) is fully isensitive (dummy variable)                                         \n",
    "# (4) It possess large-scale features such multi-modality (X1) \n",
    "#     to small-scale features such as roughness (X3)          \n",
    "# (5) The directional variograms of X1 and X2 cross each other\n",
    "    \n",
    "    # check whether the input x is a dataframe\n",
    "    \n",
    "    if not isinstance(x, (pd.core.frame.DataFrame, pd.core.series.Series, np.ndarray, list)):\n",
    "        raise TypeError('`x` must be of type pandas.DataFrame, numpy.ndarray, pd.Series, or list')\n",
    "    \n",
    "    if len(x) > 6:\n",
    "        raise ValueError('`x` must have only five arguments at a time')\n",
    "    \n",
    "    y1 = -1*np.sin(2*np.pi*x[0]/2) - 0.3*np.sin(2*np.pi*x[0]/0.6)\n",
    "    y2 = 0.76*(-1*np.sin(2*np.pi*(x[1]-0.2)/2)) - 0.315\n",
    "    y3 = 0.12*(-1*np.sin(2*np.pi*(x[2]-0.2)/1.9)) + 0.02*(-1*np.sin(2*np.pi*x[2]/0.021)) - 0.96\n",
    "    y4 = 0.12*(-1*np.sin(2*np.pi*(x[3]-0.2)/1.9))-0.97\n",
    "    y5 = 0.05*(-1*np.sin(2*np.pi*(x[4]-0.2)/2))-1.02\n",
    "    y6 = -1.08\n",
    "\n",
    "    return y1 + y2 + y3 + y4 + y5 + y6"
   ]
  },
  {
   "cell_type": "markdown",
   "id": "6224d69d",
   "metadata": {},
   "source": [
    "As mentioned previously The `Model` class is a wrapper for custom functions(models) in the online version of VARS. However, the first paramter of every function must accept an array of parameters\n",
    "\n",
    "Here we will create two wrappers for the testing models ishigami and wavy6D:"
   ]
  },
  {
   "cell_type": "code",
   "execution_count": 5,
   "id": "b528e003",
   "metadata": {},
   "outputs": [],
   "source": [
    "ishigami_model = Model(ishigami)"
   ]
  },
  {
   "cell_type": "code",
   "execution_count": 6,
   "id": "bee508db",
   "metadata": {},
   "outputs": [],
   "source": [
    "wavy6D_model = Model(wavy6D)"
   ]
  },
  {
   "cell_type": "markdown",
   "id": "5fbd8d24",
   "metadata": {},
   "source": [
    "When creating an experiment you will need to assign a variable to an instance of VARS as shown below.\n",
    "\n",
    "The paramters of the VARS class are described as:\n",
    "\n",
    "**paramaters**: the name of each paramter along with their upper and lower bounds\n",
    "\n",
    "**num_stars**: the total number of star samples that are desired for STAR-VARS analysis\n",
    "\n",
    "**delta_h**: the sampling resolution of the VARS analysis\n",
    "\n",
    "**ivars_scales**: the scales that are to be used when doing IVARS, e.g, 0.1 and 0.3 correspond (0-0.1) and (0-0.3) <br /> note: can not have a scale larger then 0.5\n",
    "\n",
    "**star_centres**: This is only used if a sampler is not chosen and you are wanting to generate your own star centres(randomized numbers)\n",
    "\n",
    "**sampler**: the sampling strategy: `rnd`, `lhs`, `plhs`, `sobol_seq`, or `halton_seq` for generation of star centers.\n",
    "\n",
    "**slice_size**: the slice size used only for `plhs` sampling\n",
    "\n",
    "**seed**: the seed number for randomization of the sampling strategy specified by `sampler`, only needed if a sampler was chosen <br /> note: seed is a randomized integer from 1 to 123456789 as default if no seed is chosen\n",
    "\n",
    "**model**: the wrapper of your model you made when using the `Model` class\n",
    "\n",
    "**bootstrap_flag**: this is a True/False value that specifies if bootstrapping will be used in the VARS analysis\n",
    "\n",
    "**bootstrap_size**: the number of sampling iterations with replacement\n",
    "\n",
    "**bootstrap_ci**: the bootstrap-based confidence interval on results\n",
    "\n",
    "**grouping_flag**: this is a True/False value that specifies if paramater grouping will be used in the VARS analysis\n",
    "\n",
    "**num_grps**: the number of groups you want to split your paramaters into, if left blank the optimal number of groups will be calculated by VARS\n",
    "\n",
    "**report_verbose**: this is a True/False value that if True will display a loading bar to show the progession of the VARS analysis, else there will be no progression loading bar"
   ]
  },
  {
   "cell_type": "markdown",
   "id": "57b2d868",
   "metadata": {},
   "source": [
    "Create `experiment_1` and `experiment_2` then initialize the values needed to run a VARS analysis:\n",
    "\n",
    "`experiment_1` is an instance of VARS that is using the ishigami model"
   ]
  },
  {
   "cell_type": "code",
   "execution_count": 7,
   "id": "88ac9400",
   "metadata": {},
   "outputs": [],
   "source": [
    "experiment_1 = VARS(parameters = {'x1':(-3, 3), 'x2':(-2, 4), 'x3': (0, 1)},\n",
    "                    num_stars=1,\n",
    "                    delta_h = 0.1,\n",
    "                    ivars_scales = (0.1, 0.3, 0.5),\n",
    "                    sampler = 'rnd',\n",
    "                    seed = 123456789,\n",
    "                    model = ishigami_model,\n",
    "                    bootstrap_flag = True,\n",
    "                    bootstrap_size = 100,\n",
    "                    bootstrap_ci=0.9,\n",
    "                    grouping_flag=True,\n",
    "                    num_grps=2,\n",
    "                    report_verbose=True,\n",
    "                )"
   ]
  },
  {
   "cell_type": "markdown",
   "id": "89ff5996",
   "metadata": {},
   "source": [
    "`experiment_2` is an instance of VARS that is using the wavy6D model"
   ]
  },
  {
   "cell_type": "code",
   "execution_count": 8,
   "id": "3b2dac40",
   "metadata": {},
   "outputs": [],
   "source": [
    "experiment_2 = VARS(parameters = {'x1':(0, 1), 'x2':(0, 1), 'x3': (0, 1), \\\n",
    "                                  'x4':(0, 1), 'x5':(0, 1), 'x6': (0, 1)},\n",
    "                    num_stars=10,\n",
    "                    delta_h = 0.1,\n",
    "                    ivars_scales = (0.1,),\n",
    "                    sampler = 'rnd',\n",
    "                    seed = 123456789,\n",
    "                    model = wavy6D_model,\n",
    "                    bootstrap_flag = True,\n",
    "                    bootstrap_size = 100,\n",
    "                    bootstrap_ci=0.9,\n",
    "                    grouping_flag=True,\n",
    "                    num_grps=2,\n",
    "                    report_verbose=True,\n",
    "                )"
   ]
  },
  {
   "cell_type": "markdown",
   "id": "fa0faea7",
   "metadata": {},
   "source": [
    "A report displaying the current status of the VARS analysis can be found by typing in the variable name of the instance you created, here this is `experiment_1`"
   ]
  },
  {
   "cell_type": "code",
   "execution_count": 9,
   "id": "f693c4df",
   "metadata": {},
   "outputs": [
    {
     "data": {
      "text/plain": [
       "Star Centres: 1 Centers Loaded\n",
       "Star Points: Not Loaded\n",
       "Parameters: 3 paremeters set\n",
       "Delta h: 0.1\n",
       "Model: ishigami\n",
       "Seed Number: 123456789\n",
       "Bootstrap: On\n",
       "Bootstrap Size: 100\n",
       "Bootstrap CI: 0.9\n",
       "Grouping: On\n",
       "Number of Groups: 2\n",
       "Verbose: On\n",
       "VARS Analysis: Not Done"
      ]
     },
     "execution_count": 9,
     "metadata": {},
     "output_type": "execute_result"
    }
   ],
   "source": [
    "experiment_1"
   ]
  },
  {
   "cell_type": "markdown",
   "id": "dc0e54f5",
   "metadata": {},
   "source": [
    "To run the VARS analysis we can simply do the following:\n",
    "\n",
    "note: we are using `experiment_1` here, but `experiment_2` can be used in the same exact way"
   ]
  },
  {
   "cell_type": "code",
   "execution_count": 10,
   "id": "0042911e",
   "metadata": {},
   "outputs": [
    {
     "data": {
      "application/vnd.jupyter.widget-view+json": {
       "model_id": "982895f8ede548cb81e57ee91764621e",
       "version_major": 2,
       "version_minor": 0
      },
      "text/plain": [
       "function evaluation:   0%|                                                                      | 0/28 [00:00<…"
      ]
     },
     "metadata": {},
     "output_type": "display_data"
    },
    {
     "data": {
      "application/vnd.jupyter.widget-view+json": {
       "model_id": "54853833661f42a1939d16487997d8ee",
       "version_major": 2,
       "version_minor": 0
      },
      "text/plain": [
       "building pairs:   0%|                                                                            | 0/3 [00:00<…"
      ]
     },
     "metadata": {},
     "output_type": "display_data"
    },
    {
     "data": {
      "application/vnd.jupyter.widget-view+json": {
       "model_id": "d8016dbb0bea4ca78c3ae42c6080e53f",
       "version_major": 2,
       "version_minor": 0
      },
      "text/plain": [
       "VARS analysis:   0%|                                                                            | 0/10 [00:00<…"
      ]
     },
     "metadata": {},
     "output_type": "display_data"
    },
    {
     "data": {
      "application/vnd.jupyter.widget-view+json": {
       "model_id": "4d698e1676544979a37a2daa747f7675",
       "version_major": 2,
       "version_minor": 0
      },
      "text/plain": [
       "factor ranking:   0%|                                                                            | 0/2 [00:00<…"
      ]
     },
     "metadata": {},
     "output_type": "display_data"
    },
    {
     "data": {
      "application/vnd.jupyter.widget-view+json": {
       "model_id": "68ff7e82ce7342cfab70beb84bb84f37",
       "version_major": 2,
       "version_minor": 0
      },
      "text/plain": [
       "bootstrapping:   0%|                                                                           | 0/100 [00:00<…"
      ]
     },
     "metadata": {},
     "output_type": "display_data"
    },
    {
     "ename": "KeyError",
     "evalue": "8",
     "output_type": "error",
     "traceback": [
      "\u001b[1;31m---------------------------------------------------------------------------\u001b[0m",
      "\u001b[1;31mKeyError\u001b[0m                                  Traceback (most recent call last)",
      "\u001b[1;32m~\\anaconda3\\lib\\site-packages\\pandas\\core\\indexes\\base.py\u001b[0m in \u001b[0;36mget_loc\u001b[1;34m(self, key, method, tolerance)\u001b[0m\n\u001b[0;32m   3079\u001b[0m             \u001b[1;32mtry\u001b[0m\u001b[1;33m:\u001b[0m\u001b[1;33m\u001b[0m\u001b[1;33m\u001b[0m\u001b[0m\n\u001b[1;32m-> 3080\u001b[1;33m                 \u001b[1;32mreturn\u001b[0m \u001b[0mself\u001b[0m\u001b[1;33m.\u001b[0m\u001b[0m_engine\u001b[0m\u001b[1;33m.\u001b[0m\u001b[0mget_loc\u001b[0m\u001b[1;33m(\u001b[0m\u001b[0mcasted_key\u001b[0m\u001b[1;33m)\u001b[0m\u001b[1;33m\u001b[0m\u001b[1;33m\u001b[0m\u001b[0m\n\u001b[0m\u001b[0;32m   3081\u001b[0m             \u001b[1;32mexcept\u001b[0m \u001b[0mKeyError\u001b[0m \u001b[1;32mas\u001b[0m \u001b[0merr\u001b[0m\u001b[1;33m:\u001b[0m\u001b[1;33m\u001b[0m\u001b[1;33m\u001b[0m\u001b[0m\n",
      "\u001b[1;32mpandas\\_libs\\index.pyx\u001b[0m in \u001b[0;36mpandas._libs.index.IndexEngine.get_loc\u001b[1;34m()\u001b[0m\n",
      "\u001b[1;32mpandas\\_libs\\index.pyx\u001b[0m in \u001b[0;36mpandas._libs.index.IndexEngine.get_loc\u001b[1;34m()\u001b[0m\n",
      "\u001b[1;32mpandas\\_libs\\hashtable_class_helper.pxi\u001b[0m in \u001b[0;36mpandas._libs.hashtable.Int64HashTable.get_item\u001b[1;34m()\u001b[0m\n",
      "\u001b[1;32mpandas\\_libs\\hashtable_class_helper.pxi\u001b[0m in \u001b[0;36mpandas._libs.hashtable.Int64HashTable.get_item\u001b[1;34m()\u001b[0m\n",
      "\u001b[1;31mKeyError\u001b[0m: 8",
      "\nThe above exception was the direct cause of the following exception:\n",
      "\u001b[1;31mKeyError\u001b[0m                                  Traceback (most recent call last)",
      "\u001b[1;32m<ipython-input-10-a1f2a6c4aabb>\u001b[0m in \u001b[0;36m<module>\u001b[1;34m\u001b[0m\n\u001b[1;32m----> 1\u001b[1;33m \u001b[0mexperiment_1\u001b[0m\u001b[1;33m.\u001b[0m\u001b[0mrun_online\u001b[0m\u001b[1;33m(\u001b[0m\u001b[1;33m)\u001b[0m\u001b[1;33m\u001b[0m\u001b[1;33m\u001b[0m\u001b[0m\n\u001b[0m",
      "\u001b[1;32m~\\anaconda3\\lib\\site-packages\\varstool\\vars_sa.py\u001b[0m in \u001b[0;36mrun_online\u001b[1;34m(self)\u001b[0m\n\u001b[0;32m    743\u001b[0m             \u001b[0mself\u001b[0m\u001b[1;33m.\u001b[0m\u001b[0mgammalb\u001b[0m\u001b[1;33m,\u001b[0m \u001b[0mself\u001b[0m\u001b[1;33m.\u001b[0m\u001b[0mgammaub\u001b[0m\u001b[1;33m,\u001b[0m \u001b[0mself\u001b[0m\u001b[1;33m.\u001b[0m\u001b[0mstlb\u001b[0m\u001b[1;33m,\u001b[0m \u001b[0mself\u001b[0m\u001b[1;33m.\u001b[0m\u001b[0mstub\u001b[0m\u001b[1;33m,\u001b[0m \u001b[0mself\u001b[0m\u001b[1;33m.\u001b[0m\u001b[0mivarslb\u001b[0m\u001b[1;33m,\u001b[0m \u001b[0mself\u001b[0m\u001b[1;33m.\u001b[0m\u001b[0mivarsub\u001b[0m\u001b[1;33m,\u001b[0m\u001b[0;31m \u001b[0m\u001b[0;31m\\\u001b[0m\u001b[1;33m\u001b[0m\u001b[1;33m\u001b[0m\u001b[0m\n\u001b[0;32m    744\u001b[0m             \u001b[0mself\u001b[0m\u001b[1;33m.\u001b[0m\u001b[0mrel_st_factor_ranking\u001b[0m\u001b[1;33m,\u001b[0m \u001b[0mself\u001b[0m\u001b[1;33m.\u001b[0m\u001b[0mrel_ivars_factor_ranking\u001b[0m\u001b[1;33m,\u001b[0m \u001b[0mself\u001b[0m\u001b[1;33m.\u001b[0m\u001b[0mivars50_grp\u001b[0m\u001b[1;33m,\u001b[0m \u001b[0mself\u001b[0m\u001b[1;33m.\u001b[0m\u001b[0mst_grp\u001b[0m\u001b[1;33m,\u001b[0m\u001b[0;31m \u001b[0m\u001b[0;31m\\\u001b[0m\u001b[1;33m\u001b[0m\u001b[1;33m\u001b[0m\u001b[0m\n\u001b[1;32m--> 745\u001b[1;33m             self.reli_st_grp, self.reli_ivars50_grp = vars_funcs.bootstrapping(self.pair_df, self.model_df, self.cov_section_all,\n\u001b[0m\u001b[0;32m    746\u001b[0m                                                                                \u001b[0mself\u001b[0m\u001b[1;33m.\u001b[0m\u001b[0mbootstrap_size\u001b[0m\u001b[1;33m,\u001b[0m \u001b[0mself\u001b[0m\u001b[1;33m.\u001b[0m\u001b[0mbootstrap_ci\u001b[0m\u001b[1;33m,\u001b[0m\u001b[1;33m\u001b[0m\u001b[1;33m\u001b[0m\u001b[0m\n\u001b[0;32m    747\u001b[0m                                                                                \u001b[0mself\u001b[0m\u001b[1;33m.\u001b[0m\u001b[0mmodel\u001b[0m\u001b[1;33m.\u001b[0m\u001b[0mfunc\u001b[0m\u001b[1;33m,\u001b[0m \u001b[0mself\u001b[0m\u001b[1;33m.\u001b[0m\u001b[0mdelta_h\u001b[0m\u001b[1;33m,\u001b[0m \u001b[0mself\u001b[0m\u001b[1;33m.\u001b[0m\u001b[0mivars_scales\u001b[0m\u001b[1;33m,\u001b[0m\u001b[1;33m\u001b[0m\u001b[1;33m\u001b[0m\u001b[0m\n",
      "\u001b[1;32m~\\anaconda3\\lib\\site-packages\\varstool\\sa\\vars_funcs.py\u001b[0m in \u001b[0;36mbootstrapping\u001b[1;34m(pair_df, df, cov_section_all, bootstrap_size, bootstrap_ci, func, delta_h, ivars_scales, parameters, st_factor_ranking, ivars_factor_ranking, grouping_flag, num_grps, progress)\u001b[0m\n\u001b[0;32m    850\u001b[0m             list(range(0, 10)), size=len(range(0, 10)), replace=True).tolist()\n\u001b[0;32m    851\u001b[0m         bootstrapped_pairdf = pd.concat(\n\u001b[1;32m--> 852\u001b[1;33m             [pair_df.loc[pd.IndexSlice[i, :, :, :], :] for i in bootstrap_rand])\n\u001b[0m\u001b[0;32m    853\u001b[0m         bootstrapped_df = pd.concat(\n\u001b[0;32m    854\u001b[0m             [df.loc[pd.IndexSlice[i, :, :], :] for i in bootstrap_rand])\n",
      "\u001b[1;32m~\\anaconda3\\lib\\site-packages\\varstool\\sa\\vars_funcs.py\u001b[0m in \u001b[0;36m<listcomp>\u001b[1;34m(.0)\u001b[0m\n\u001b[0;32m    850\u001b[0m             list(range(0, 10)), size=len(range(0, 10)), replace=True).tolist()\n\u001b[0;32m    851\u001b[0m         bootstrapped_pairdf = pd.concat(\n\u001b[1;32m--> 852\u001b[1;33m             [pair_df.loc[pd.IndexSlice[i, :, :, :], :] for i in bootstrap_rand])\n\u001b[0m\u001b[0;32m    853\u001b[0m         bootstrapped_df = pd.concat(\n\u001b[0;32m    854\u001b[0m             [df.loc[pd.IndexSlice[i, :, :], :] for i in bootstrap_rand])\n",
      "\u001b[1;32m~\\anaconda3\\lib\\site-packages\\pandas\\core\\indexing.py\u001b[0m in \u001b[0;36m__getitem__\u001b[1;34m(self, key)\u001b[0m\n\u001b[0;32m    887\u001b[0m                     \u001b[1;31m# AttributeError for IntervalTree get_value\u001b[0m\u001b[1;33m\u001b[0m\u001b[1;33m\u001b[0m\u001b[1;33m\u001b[0m\u001b[0m\n\u001b[0;32m    888\u001b[0m                     \u001b[1;32mreturn\u001b[0m \u001b[0mself\u001b[0m\u001b[1;33m.\u001b[0m\u001b[0mobj\u001b[0m\u001b[1;33m.\u001b[0m\u001b[0m_get_value\u001b[0m\u001b[1;33m(\u001b[0m\u001b[1;33m*\u001b[0m\u001b[0mkey\u001b[0m\u001b[1;33m,\u001b[0m \u001b[0mtakeable\u001b[0m\u001b[1;33m=\u001b[0m\u001b[0mself\u001b[0m\u001b[1;33m.\u001b[0m\u001b[0m_takeable\u001b[0m\u001b[1;33m)\u001b[0m\u001b[1;33m\u001b[0m\u001b[1;33m\u001b[0m\u001b[0m\n\u001b[1;32m--> 889\u001b[1;33m             \u001b[1;32mreturn\u001b[0m \u001b[0mself\u001b[0m\u001b[1;33m.\u001b[0m\u001b[0m_getitem_tuple\u001b[0m\u001b[1;33m(\u001b[0m\u001b[0mkey\u001b[0m\u001b[1;33m)\u001b[0m\u001b[1;33m\u001b[0m\u001b[1;33m\u001b[0m\u001b[0m\n\u001b[0m\u001b[0;32m    890\u001b[0m         \u001b[1;32melse\u001b[0m\u001b[1;33m:\u001b[0m\u001b[1;33m\u001b[0m\u001b[1;33m\u001b[0m\u001b[0m\n\u001b[0;32m    891\u001b[0m             \u001b[1;31m# we by definition only have the 0th axis\u001b[0m\u001b[1;33m\u001b[0m\u001b[1;33m\u001b[0m\u001b[1;33m\u001b[0m\u001b[0m\n",
      "\u001b[1;32m~\\anaconda3\\lib\\site-packages\\pandas\\core\\indexing.py\u001b[0m in \u001b[0;36m_getitem_tuple\u001b[1;34m(self, tup)\u001b[0m\n\u001b[0;32m   1058\u001b[0m     \u001b[1;32mdef\u001b[0m \u001b[0m_getitem_tuple\u001b[0m\u001b[1;33m(\u001b[0m\u001b[0mself\u001b[0m\u001b[1;33m,\u001b[0m \u001b[0mtup\u001b[0m\u001b[1;33m:\u001b[0m \u001b[0mTuple\u001b[0m\u001b[1;33m)\u001b[0m\u001b[1;33m:\u001b[0m\u001b[1;33m\u001b[0m\u001b[1;33m\u001b[0m\u001b[0m\n\u001b[0;32m   1059\u001b[0m         \u001b[1;32mwith\u001b[0m \u001b[0msuppress\u001b[0m\u001b[1;33m(\u001b[0m\u001b[0mIndexingError\u001b[0m\u001b[1;33m)\u001b[0m\u001b[1;33m:\u001b[0m\u001b[1;33m\u001b[0m\u001b[1;33m\u001b[0m\u001b[0m\n\u001b[1;32m-> 1060\u001b[1;33m             \u001b[1;32mreturn\u001b[0m \u001b[0mself\u001b[0m\u001b[1;33m.\u001b[0m\u001b[0m_getitem_lowerdim\u001b[0m\u001b[1;33m(\u001b[0m\u001b[0mtup\u001b[0m\u001b[1;33m)\u001b[0m\u001b[1;33m\u001b[0m\u001b[1;33m\u001b[0m\u001b[0m\n\u001b[0m\u001b[0;32m   1061\u001b[0m \u001b[1;33m\u001b[0m\u001b[0m\n\u001b[0;32m   1062\u001b[0m         \u001b[1;31m# no multi-index, so validate all of the indexers\u001b[0m\u001b[1;33m\u001b[0m\u001b[1;33m\u001b[0m\u001b[1;33m\u001b[0m\u001b[0m\n",
      "\u001b[1;32m~\\anaconda3\\lib\\site-packages\\pandas\\core\\indexing.py\u001b[0m in \u001b[0;36m_getitem_lowerdim\u001b[1;34m(self, tup)\u001b[0m\n\u001b[0;32m    789\u001b[0m         \u001b[1;31m# we may have a nested tuples indexer here\u001b[0m\u001b[1;33m\u001b[0m\u001b[1;33m\u001b[0m\u001b[1;33m\u001b[0m\u001b[0m\n\u001b[0;32m    790\u001b[0m         \u001b[1;32mif\u001b[0m \u001b[0mself\u001b[0m\u001b[1;33m.\u001b[0m\u001b[0m_is_nested_tuple_indexer\u001b[0m\u001b[1;33m(\u001b[0m\u001b[0mtup\u001b[0m\u001b[1;33m)\u001b[0m\u001b[1;33m:\u001b[0m\u001b[1;33m\u001b[0m\u001b[1;33m\u001b[0m\u001b[0m\n\u001b[1;32m--> 791\u001b[1;33m             \u001b[1;32mreturn\u001b[0m \u001b[0mself\u001b[0m\u001b[1;33m.\u001b[0m\u001b[0m_getitem_nested_tuple\u001b[0m\u001b[1;33m(\u001b[0m\u001b[0mtup\u001b[0m\u001b[1;33m)\u001b[0m\u001b[1;33m\u001b[0m\u001b[1;33m\u001b[0m\u001b[0m\n\u001b[0m\u001b[0;32m    792\u001b[0m \u001b[1;33m\u001b[0m\u001b[0m\n\u001b[0;32m    793\u001b[0m         \u001b[1;31m# we maybe be using a tuple to represent multiple dimensions here\u001b[0m\u001b[1;33m\u001b[0m\u001b[1;33m\u001b[0m\u001b[1;33m\u001b[0m\u001b[0m\n",
      "\u001b[1;32m~\\anaconda3\\lib\\site-packages\\pandas\\core\\indexing.py\u001b[0m in \u001b[0;36m_getitem_nested_tuple\u001b[1;34m(self, tup)\u001b[0m\n\u001b[0;32m    863\u001b[0m \u001b[1;33m\u001b[0m\u001b[0m\n\u001b[0;32m    864\u001b[0m             \u001b[0mcurrent_ndim\u001b[0m \u001b[1;33m=\u001b[0m \u001b[0mobj\u001b[0m\u001b[1;33m.\u001b[0m\u001b[0mndim\u001b[0m\u001b[1;33m\u001b[0m\u001b[1;33m\u001b[0m\u001b[0m\n\u001b[1;32m--> 865\u001b[1;33m             \u001b[0mobj\u001b[0m \u001b[1;33m=\u001b[0m \u001b[0mgetattr\u001b[0m\u001b[1;33m(\u001b[0m\u001b[0mobj\u001b[0m\u001b[1;33m,\u001b[0m \u001b[0mself\u001b[0m\u001b[1;33m.\u001b[0m\u001b[0mname\u001b[0m\u001b[1;33m)\u001b[0m\u001b[1;33m.\u001b[0m\u001b[0m_getitem_axis\u001b[0m\u001b[1;33m(\u001b[0m\u001b[0mkey\u001b[0m\u001b[1;33m,\u001b[0m \u001b[0maxis\u001b[0m\u001b[1;33m=\u001b[0m\u001b[0maxis\u001b[0m\u001b[1;33m)\u001b[0m\u001b[1;33m\u001b[0m\u001b[1;33m\u001b[0m\u001b[0m\n\u001b[0m\u001b[0;32m    866\u001b[0m             \u001b[0maxis\u001b[0m \u001b[1;33m+=\u001b[0m \u001b[1;36m1\u001b[0m\u001b[1;33m\u001b[0m\u001b[1;33m\u001b[0m\u001b[0m\n\u001b[0;32m    867\u001b[0m \u001b[1;33m\u001b[0m\u001b[0m\n",
      "\u001b[1;32m~\\anaconda3\\lib\\site-packages\\pandas\\core\\indexing.py\u001b[0m in \u001b[0;36m_getitem_axis\u001b[1;34m(self, key, axis)\u001b[0m\n\u001b[0;32m   1115\u001b[0m             \u001b[1;31m# nested tuple slicing\u001b[0m\u001b[1;33m\u001b[0m\u001b[1;33m\u001b[0m\u001b[1;33m\u001b[0m\u001b[0m\n\u001b[0;32m   1116\u001b[0m             \u001b[1;32mif\u001b[0m \u001b[0mis_nested_tuple\u001b[0m\u001b[1;33m(\u001b[0m\u001b[0mkey\u001b[0m\u001b[1;33m,\u001b[0m \u001b[0mlabels\u001b[0m\u001b[1;33m)\u001b[0m\u001b[1;33m:\u001b[0m\u001b[1;33m\u001b[0m\u001b[1;33m\u001b[0m\u001b[0m\n\u001b[1;32m-> 1117\u001b[1;33m                 \u001b[0mlocs\u001b[0m \u001b[1;33m=\u001b[0m \u001b[0mlabels\u001b[0m\u001b[1;33m.\u001b[0m\u001b[0mget_locs\u001b[0m\u001b[1;33m(\u001b[0m\u001b[0mkey\u001b[0m\u001b[1;33m)\u001b[0m\u001b[1;33m\u001b[0m\u001b[1;33m\u001b[0m\u001b[0m\n\u001b[0m\u001b[0;32m   1118\u001b[0m                 \u001b[0mindexer\u001b[0m \u001b[1;33m=\u001b[0m \u001b[1;33m[\u001b[0m\u001b[0mslice\u001b[0m\u001b[1;33m(\u001b[0m\u001b[1;32mNone\u001b[0m\u001b[1;33m)\u001b[0m\u001b[1;33m]\u001b[0m \u001b[1;33m*\u001b[0m \u001b[0mself\u001b[0m\u001b[1;33m.\u001b[0m\u001b[0mndim\u001b[0m\u001b[1;33m\u001b[0m\u001b[1;33m\u001b[0m\u001b[0m\n\u001b[0;32m   1119\u001b[0m                 \u001b[0mindexer\u001b[0m\u001b[1;33m[\u001b[0m\u001b[0maxis\u001b[0m\u001b[1;33m]\u001b[0m \u001b[1;33m=\u001b[0m \u001b[0mlocs\u001b[0m\u001b[1;33m\u001b[0m\u001b[1;33m\u001b[0m\u001b[0m\n",
      "\u001b[1;32m~\\anaconda3\\lib\\site-packages\\pandas\\core\\indexes\\multi.py\u001b[0m in \u001b[0;36mget_locs\u001b[1;34m(self, seq)\u001b[0m\n\u001b[0;32m   3303\u001b[0m                 indexer = _update_indexer(\n\u001b[0;32m   3304\u001b[0m                     _convert_to_indexer(\n\u001b[1;32m-> 3305\u001b[1;33m                         \u001b[0mself\u001b[0m\u001b[1;33m.\u001b[0m\u001b[0mget_loc_level\u001b[0m\u001b[1;33m(\u001b[0m\u001b[0mk\u001b[0m\u001b[1;33m,\u001b[0m \u001b[0mlevel\u001b[0m\u001b[1;33m=\u001b[0m\u001b[0mi\u001b[0m\u001b[1;33m,\u001b[0m \u001b[0mdrop_level\u001b[0m\u001b[1;33m=\u001b[0m\u001b[1;32mFalse\u001b[0m\u001b[1;33m)\u001b[0m\u001b[1;33m[\u001b[0m\u001b[1;36m0\u001b[0m\u001b[1;33m]\u001b[0m\u001b[1;33m\u001b[0m\u001b[1;33m\u001b[0m\u001b[0m\n\u001b[0m\u001b[0;32m   3306\u001b[0m                     ),\n\u001b[0;32m   3307\u001b[0m                     \u001b[0mindexer\u001b[0m\u001b[1;33m=\u001b[0m\u001b[0mindexer\u001b[0m\u001b[1;33m,\u001b[0m\u001b[1;33m\u001b[0m\u001b[1;33m\u001b[0m\u001b[0m\n",
      "\u001b[1;32m~\\anaconda3\\lib\\site-packages\\pandas\\core\\indexes\\multi.py\u001b[0m in \u001b[0;36mget_loc_level\u001b[1;34m(self, key, level, drop_level)\u001b[0m\n\u001b[0;32m   2963\u001b[0m         \u001b[1;32melse\u001b[0m\u001b[1;33m:\u001b[0m\u001b[1;33m\u001b[0m\u001b[1;33m\u001b[0m\u001b[0m\n\u001b[0;32m   2964\u001b[0m             \u001b[0mlevel\u001b[0m \u001b[1;33m=\u001b[0m \u001b[1;33m[\u001b[0m\u001b[0mself\u001b[0m\u001b[1;33m.\u001b[0m\u001b[0m_get_level_number\u001b[0m\u001b[1;33m(\u001b[0m\u001b[0mlev\u001b[0m\u001b[1;33m)\u001b[0m \u001b[1;32mfor\u001b[0m \u001b[0mlev\u001b[0m \u001b[1;32min\u001b[0m \u001b[0mlevel\u001b[0m\u001b[1;33m]\u001b[0m\u001b[1;33m\u001b[0m\u001b[1;33m\u001b[0m\u001b[0m\n\u001b[1;32m-> 2965\u001b[1;33m         \u001b[1;32mreturn\u001b[0m \u001b[0mself\u001b[0m\u001b[1;33m.\u001b[0m\u001b[0m_get_loc_level\u001b[0m\u001b[1;33m(\u001b[0m\u001b[0mkey\u001b[0m\u001b[1;33m,\u001b[0m \u001b[0mlevel\u001b[0m\u001b[1;33m=\u001b[0m\u001b[0mlevel\u001b[0m\u001b[1;33m,\u001b[0m \u001b[0mdrop_level\u001b[0m\u001b[1;33m=\u001b[0m\u001b[0mdrop_level\u001b[0m\u001b[1;33m)\u001b[0m\u001b[1;33m\u001b[0m\u001b[1;33m\u001b[0m\u001b[0m\n\u001b[0m\u001b[0;32m   2966\u001b[0m \u001b[1;33m\u001b[0m\u001b[0m\n\u001b[0;32m   2967\u001b[0m     def _get_loc_level(\n",
      "\u001b[1;32m~\\anaconda3\\lib\\site-packages\\pandas\\core\\indexes\\multi.py\u001b[0m in \u001b[0;36m_get_loc_level\u001b[1;34m(self, key, level, drop_level)\u001b[0m\n\u001b[0;32m   3066\u001b[0m                 \u001b[1;32mreturn\u001b[0m \u001b[0mindexer\u001b[0m\u001b[1;33m,\u001b[0m \u001b[0mmaybe_mi_droplevels\u001b[0m\u001b[1;33m(\u001b[0m\u001b[0mindexer\u001b[0m\u001b[1;33m,\u001b[0m \u001b[0milevels\u001b[0m\u001b[1;33m,\u001b[0m \u001b[0mdrop_level\u001b[0m\u001b[1;33m)\u001b[0m\u001b[1;33m\u001b[0m\u001b[1;33m\u001b[0m\u001b[0m\n\u001b[0;32m   3067\u001b[0m         \u001b[1;32melse\u001b[0m\u001b[1;33m:\u001b[0m\u001b[1;33m\u001b[0m\u001b[1;33m\u001b[0m\u001b[0m\n\u001b[1;32m-> 3068\u001b[1;33m             \u001b[0mindexer\u001b[0m \u001b[1;33m=\u001b[0m \u001b[0mself\u001b[0m\u001b[1;33m.\u001b[0m\u001b[0m_get_level_indexer\u001b[0m\u001b[1;33m(\u001b[0m\u001b[0mkey\u001b[0m\u001b[1;33m,\u001b[0m \u001b[0mlevel\u001b[0m\u001b[1;33m=\u001b[0m\u001b[0mlevel\u001b[0m\u001b[1;33m)\u001b[0m\u001b[1;33m\u001b[0m\u001b[1;33m\u001b[0m\u001b[0m\n\u001b[0m\u001b[0;32m   3069\u001b[0m             \u001b[1;32mreturn\u001b[0m \u001b[0mindexer\u001b[0m\u001b[1;33m,\u001b[0m \u001b[0mmaybe_mi_droplevels\u001b[0m\u001b[1;33m(\u001b[0m\u001b[0mindexer\u001b[0m\u001b[1;33m,\u001b[0m \u001b[1;33m[\u001b[0m\u001b[0mlevel\u001b[0m\u001b[1;33m]\u001b[0m\u001b[1;33m,\u001b[0m \u001b[0mdrop_level\u001b[0m\u001b[1;33m)\u001b[0m\u001b[1;33m\u001b[0m\u001b[1;33m\u001b[0m\u001b[0m\n\u001b[0;32m   3070\u001b[0m \u001b[1;33m\u001b[0m\u001b[0m\n",
      "\u001b[1;32m~\\anaconda3\\lib\\site-packages\\pandas\\core\\indexes\\multi.py\u001b[0m in \u001b[0;36m_get_level_indexer\u001b[1;34m(self, key, level, indexer)\u001b[0m\n\u001b[0;32m   3156\u001b[0m         \u001b[1;32melse\u001b[0m\u001b[1;33m:\u001b[0m\u001b[1;33m\u001b[0m\u001b[1;33m\u001b[0m\u001b[0m\n\u001b[0;32m   3157\u001b[0m \u001b[1;33m\u001b[0m\u001b[0m\n\u001b[1;32m-> 3158\u001b[1;33m             \u001b[0midx\u001b[0m \u001b[1;33m=\u001b[0m \u001b[0mself\u001b[0m\u001b[1;33m.\u001b[0m\u001b[0m_get_loc_single_level_index\u001b[0m\u001b[1;33m(\u001b[0m\u001b[0mlevel_index\u001b[0m\u001b[1;33m,\u001b[0m \u001b[0mkey\u001b[0m\u001b[1;33m)\u001b[0m\u001b[1;33m\u001b[0m\u001b[1;33m\u001b[0m\u001b[0m\n\u001b[0m\u001b[0;32m   3159\u001b[0m \u001b[1;33m\u001b[0m\u001b[0m\n\u001b[0;32m   3160\u001b[0m             \u001b[1;32mif\u001b[0m \u001b[0mlevel\u001b[0m \u001b[1;33m>\u001b[0m \u001b[1;36m0\u001b[0m \u001b[1;32mor\u001b[0m \u001b[0mself\u001b[0m\u001b[1;33m.\u001b[0m\u001b[0mlexsort_depth\u001b[0m \u001b[1;33m==\u001b[0m \u001b[1;36m0\u001b[0m\u001b[1;33m:\u001b[0m\u001b[1;33m\u001b[0m\u001b[1;33m\u001b[0m\u001b[0m\n",
      "\u001b[1;32m~\\anaconda3\\lib\\site-packages\\pandas\\core\\indexes\\multi.py\u001b[0m in \u001b[0;36m_get_loc_single_level_index\u001b[1;34m(self, level_index, key)\u001b[0m\n\u001b[0;32m   2807\u001b[0m             \u001b[1;32mreturn\u001b[0m \u001b[1;33m-\u001b[0m\u001b[1;36m1\u001b[0m\u001b[1;33m\u001b[0m\u001b[1;33m\u001b[0m\u001b[0m\n\u001b[0;32m   2808\u001b[0m         \u001b[1;32melse\u001b[0m\u001b[1;33m:\u001b[0m\u001b[1;33m\u001b[0m\u001b[1;33m\u001b[0m\u001b[0m\n\u001b[1;32m-> 2809\u001b[1;33m             \u001b[1;32mreturn\u001b[0m \u001b[0mlevel_index\u001b[0m\u001b[1;33m.\u001b[0m\u001b[0mget_loc\u001b[0m\u001b[1;33m(\u001b[0m\u001b[0mkey\u001b[0m\u001b[1;33m)\u001b[0m\u001b[1;33m\u001b[0m\u001b[1;33m\u001b[0m\u001b[0m\n\u001b[0m\u001b[0;32m   2810\u001b[0m \u001b[1;33m\u001b[0m\u001b[0m\n\u001b[0;32m   2811\u001b[0m     \u001b[1;32mdef\u001b[0m \u001b[0mget_loc\u001b[0m\u001b[1;33m(\u001b[0m\u001b[0mself\u001b[0m\u001b[1;33m,\u001b[0m \u001b[0mkey\u001b[0m\u001b[1;33m,\u001b[0m \u001b[0mmethod\u001b[0m\u001b[1;33m=\u001b[0m\u001b[1;32mNone\u001b[0m\u001b[1;33m)\u001b[0m\u001b[1;33m:\u001b[0m\u001b[1;33m\u001b[0m\u001b[1;33m\u001b[0m\u001b[0m\n",
      "\u001b[1;32m~\\anaconda3\\lib\\site-packages\\pandas\\core\\indexes\\base.py\u001b[0m in \u001b[0;36mget_loc\u001b[1;34m(self, key, method, tolerance)\u001b[0m\n\u001b[0;32m   3080\u001b[0m                 \u001b[1;32mreturn\u001b[0m \u001b[0mself\u001b[0m\u001b[1;33m.\u001b[0m\u001b[0m_engine\u001b[0m\u001b[1;33m.\u001b[0m\u001b[0mget_loc\u001b[0m\u001b[1;33m(\u001b[0m\u001b[0mcasted_key\u001b[0m\u001b[1;33m)\u001b[0m\u001b[1;33m\u001b[0m\u001b[1;33m\u001b[0m\u001b[0m\n\u001b[0;32m   3081\u001b[0m             \u001b[1;32mexcept\u001b[0m \u001b[0mKeyError\u001b[0m \u001b[1;32mas\u001b[0m \u001b[0merr\u001b[0m\u001b[1;33m:\u001b[0m\u001b[1;33m\u001b[0m\u001b[1;33m\u001b[0m\u001b[0m\n\u001b[1;32m-> 3082\u001b[1;33m                 \u001b[1;32mraise\u001b[0m \u001b[0mKeyError\u001b[0m\u001b[1;33m(\u001b[0m\u001b[0mkey\u001b[0m\u001b[1;33m)\u001b[0m \u001b[1;32mfrom\u001b[0m \u001b[0merr\u001b[0m\u001b[1;33m\u001b[0m\u001b[1;33m\u001b[0m\u001b[0m\n\u001b[0m\u001b[0;32m   3083\u001b[0m \u001b[1;33m\u001b[0m\u001b[0m\n\u001b[0;32m   3084\u001b[0m         \u001b[1;32mif\u001b[0m \u001b[0mtolerance\u001b[0m \u001b[1;32mis\u001b[0m \u001b[1;32mnot\u001b[0m \u001b[1;32mNone\u001b[0m\u001b[1;33m:\u001b[0m\u001b[1;33m\u001b[0m\u001b[1;33m\u001b[0m\u001b[0m\n",
      "\u001b[1;31mKeyError\u001b[0m: 8"
     ]
    }
   ],
   "source": [
    "experiment_1.run_online()"
   ]
  },
  {
   "cell_type": "markdown",
   "id": "248aa7a7",
   "metadata": {},
   "source": [
    "Now if we take a look at the status report again we can see that the `Vars Analysis` is now done."
   ]
  },
  {
   "cell_type": "code",
   "execution_count": 11,
   "id": "ab473100",
   "metadata": {},
   "outputs": [
    {
     "ename": "KeyError",
     "evalue": "8",
     "output_type": "error",
     "traceback": [
      "\u001b[1;31m---------------------------------------------------------------------------\u001b[0m",
      "\u001b[1;31mKeyError\u001b[0m                                  Traceback (most recent call last)",
      "\u001b[1;32m~\\anaconda3\\lib\\site-packages\\pandas\\core\\indexes\\base.py\u001b[0m in \u001b[0;36mget_loc\u001b[1;34m(self, key, method, tolerance)\u001b[0m\n\u001b[0;32m   3079\u001b[0m             \u001b[1;32mtry\u001b[0m\u001b[1;33m:\u001b[0m\u001b[1;33m\u001b[0m\u001b[1;33m\u001b[0m\u001b[0m\n\u001b[1;32m-> 3080\u001b[1;33m                 \u001b[1;32mreturn\u001b[0m \u001b[0mself\u001b[0m\u001b[1;33m.\u001b[0m\u001b[0m_engine\u001b[0m\u001b[1;33m.\u001b[0m\u001b[0mget_loc\u001b[0m\u001b[1;33m(\u001b[0m\u001b[0mcasted_key\u001b[0m\u001b[1;33m)\u001b[0m\u001b[1;33m\u001b[0m\u001b[1;33m\u001b[0m\u001b[0m\n\u001b[0m\u001b[0;32m   3081\u001b[0m             \u001b[1;32mexcept\u001b[0m \u001b[0mKeyError\u001b[0m \u001b[1;32mas\u001b[0m \u001b[0merr\u001b[0m\u001b[1;33m:\u001b[0m\u001b[1;33m\u001b[0m\u001b[1;33m\u001b[0m\u001b[0m\n",
      "\u001b[1;32mpandas\\_libs\\index.pyx\u001b[0m in \u001b[0;36mpandas._libs.index.IndexEngine.get_loc\u001b[1;34m()\u001b[0m\n",
      "\u001b[1;32mpandas\\_libs\\index.pyx\u001b[0m in \u001b[0;36mpandas._libs.index.IndexEngine.get_loc\u001b[1;34m()\u001b[0m\n",
      "\u001b[1;32mpandas\\_libs\\hashtable_class_helper.pxi\u001b[0m in \u001b[0;36mpandas._libs.hashtable.Int64HashTable.get_item\u001b[1;34m()\u001b[0m\n",
      "\u001b[1;32mpandas\\_libs\\hashtable_class_helper.pxi\u001b[0m in \u001b[0;36mpandas._libs.hashtable.Int64HashTable.get_item\u001b[1;34m()\u001b[0m\n",
      "\u001b[1;31mKeyError\u001b[0m: 8",
      "\nThe above exception was the direct cause of the following exception:\n",
      "\u001b[1;31mKeyError\u001b[0m                                  Traceback (most recent call last)",
      "\u001b[1;32m<ipython-input-11-1dbd7b0a6fe5>\u001b[0m in \u001b[0;36m<module>\u001b[1;34m\u001b[0m\n\u001b[1;32m----> 1\u001b[1;33m \u001b[0mexperiment_1\u001b[0m\u001b[1;33m.\u001b[0m\u001b[0mpair_df\u001b[0m\u001b[1;33m.\u001b[0m\u001b[0mloc\u001b[0m\u001b[1;33m[\u001b[0m\u001b[0mpd\u001b[0m\u001b[1;33m.\u001b[0m\u001b[0mIndexSlice\u001b[0m\u001b[1;33m[\u001b[0m\u001b[1;36m8\u001b[0m\u001b[1;33m,\u001b[0m \u001b[1;33m:\u001b[0m\u001b[1;33m,\u001b[0m \u001b[1;33m:\u001b[0m\u001b[1;33m,\u001b[0m \u001b[1;33m:\u001b[0m\u001b[1;33m]\u001b[0m\u001b[1;33m,\u001b[0m \u001b[1;33m:\u001b[0m\u001b[1;33m]\u001b[0m\u001b[1;33m\u001b[0m\u001b[1;33m\u001b[0m\u001b[0m\n\u001b[0m",
      "\u001b[1;32m~\\anaconda3\\lib\\site-packages\\pandas\\core\\indexing.py\u001b[0m in \u001b[0;36m__getitem__\u001b[1;34m(self, key)\u001b[0m\n\u001b[0;32m    887\u001b[0m                     \u001b[1;31m# AttributeError for IntervalTree get_value\u001b[0m\u001b[1;33m\u001b[0m\u001b[1;33m\u001b[0m\u001b[1;33m\u001b[0m\u001b[0m\n\u001b[0;32m    888\u001b[0m                     \u001b[1;32mreturn\u001b[0m \u001b[0mself\u001b[0m\u001b[1;33m.\u001b[0m\u001b[0mobj\u001b[0m\u001b[1;33m.\u001b[0m\u001b[0m_get_value\u001b[0m\u001b[1;33m(\u001b[0m\u001b[1;33m*\u001b[0m\u001b[0mkey\u001b[0m\u001b[1;33m,\u001b[0m \u001b[0mtakeable\u001b[0m\u001b[1;33m=\u001b[0m\u001b[0mself\u001b[0m\u001b[1;33m.\u001b[0m\u001b[0m_takeable\u001b[0m\u001b[1;33m)\u001b[0m\u001b[1;33m\u001b[0m\u001b[1;33m\u001b[0m\u001b[0m\n\u001b[1;32m--> 889\u001b[1;33m             \u001b[1;32mreturn\u001b[0m \u001b[0mself\u001b[0m\u001b[1;33m.\u001b[0m\u001b[0m_getitem_tuple\u001b[0m\u001b[1;33m(\u001b[0m\u001b[0mkey\u001b[0m\u001b[1;33m)\u001b[0m\u001b[1;33m\u001b[0m\u001b[1;33m\u001b[0m\u001b[0m\n\u001b[0m\u001b[0;32m    890\u001b[0m         \u001b[1;32melse\u001b[0m\u001b[1;33m:\u001b[0m\u001b[1;33m\u001b[0m\u001b[1;33m\u001b[0m\u001b[0m\n\u001b[0;32m    891\u001b[0m             \u001b[1;31m# we by definition only have the 0th axis\u001b[0m\u001b[1;33m\u001b[0m\u001b[1;33m\u001b[0m\u001b[1;33m\u001b[0m\u001b[0m\n",
      "\u001b[1;32m~\\anaconda3\\lib\\site-packages\\pandas\\core\\indexing.py\u001b[0m in \u001b[0;36m_getitem_tuple\u001b[1;34m(self, tup)\u001b[0m\n\u001b[0;32m   1058\u001b[0m     \u001b[1;32mdef\u001b[0m \u001b[0m_getitem_tuple\u001b[0m\u001b[1;33m(\u001b[0m\u001b[0mself\u001b[0m\u001b[1;33m,\u001b[0m \u001b[0mtup\u001b[0m\u001b[1;33m:\u001b[0m \u001b[0mTuple\u001b[0m\u001b[1;33m)\u001b[0m\u001b[1;33m:\u001b[0m\u001b[1;33m\u001b[0m\u001b[1;33m\u001b[0m\u001b[0m\n\u001b[0;32m   1059\u001b[0m         \u001b[1;32mwith\u001b[0m \u001b[0msuppress\u001b[0m\u001b[1;33m(\u001b[0m\u001b[0mIndexingError\u001b[0m\u001b[1;33m)\u001b[0m\u001b[1;33m:\u001b[0m\u001b[1;33m\u001b[0m\u001b[1;33m\u001b[0m\u001b[0m\n\u001b[1;32m-> 1060\u001b[1;33m             \u001b[1;32mreturn\u001b[0m \u001b[0mself\u001b[0m\u001b[1;33m.\u001b[0m\u001b[0m_getitem_lowerdim\u001b[0m\u001b[1;33m(\u001b[0m\u001b[0mtup\u001b[0m\u001b[1;33m)\u001b[0m\u001b[1;33m\u001b[0m\u001b[1;33m\u001b[0m\u001b[0m\n\u001b[0m\u001b[0;32m   1061\u001b[0m \u001b[1;33m\u001b[0m\u001b[0m\n\u001b[0;32m   1062\u001b[0m         \u001b[1;31m# no multi-index, so validate all of the indexers\u001b[0m\u001b[1;33m\u001b[0m\u001b[1;33m\u001b[0m\u001b[1;33m\u001b[0m\u001b[0m\n",
      "\u001b[1;32m~\\anaconda3\\lib\\site-packages\\pandas\\core\\indexing.py\u001b[0m in \u001b[0;36m_getitem_lowerdim\u001b[1;34m(self, tup)\u001b[0m\n\u001b[0;32m    789\u001b[0m         \u001b[1;31m# we may have a nested tuples indexer here\u001b[0m\u001b[1;33m\u001b[0m\u001b[1;33m\u001b[0m\u001b[1;33m\u001b[0m\u001b[0m\n\u001b[0;32m    790\u001b[0m         \u001b[1;32mif\u001b[0m \u001b[0mself\u001b[0m\u001b[1;33m.\u001b[0m\u001b[0m_is_nested_tuple_indexer\u001b[0m\u001b[1;33m(\u001b[0m\u001b[0mtup\u001b[0m\u001b[1;33m)\u001b[0m\u001b[1;33m:\u001b[0m\u001b[1;33m\u001b[0m\u001b[1;33m\u001b[0m\u001b[0m\n\u001b[1;32m--> 791\u001b[1;33m             \u001b[1;32mreturn\u001b[0m \u001b[0mself\u001b[0m\u001b[1;33m.\u001b[0m\u001b[0m_getitem_nested_tuple\u001b[0m\u001b[1;33m(\u001b[0m\u001b[0mtup\u001b[0m\u001b[1;33m)\u001b[0m\u001b[1;33m\u001b[0m\u001b[1;33m\u001b[0m\u001b[0m\n\u001b[0m\u001b[0;32m    792\u001b[0m \u001b[1;33m\u001b[0m\u001b[0m\n\u001b[0;32m    793\u001b[0m         \u001b[1;31m# we maybe be using a tuple to represent multiple dimensions here\u001b[0m\u001b[1;33m\u001b[0m\u001b[1;33m\u001b[0m\u001b[1;33m\u001b[0m\u001b[0m\n",
      "\u001b[1;32m~\\anaconda3\\lib\\site-packages\\pandas\\core\\indexing.py\u001b[0m in \u001b[0;36m_getitem_nested_tuple\u001b[1;34m(self, tup)\u001b[0m\n\u001b[0;32m    863\u001b[0m \u001b[1;33m\u001b[0m\u001b[0m\n\u001b[0;32m    864\u001b[0m             \u001b[0mcurrent_ndim\u001b[0m \u001b[1;33m=\u001b[0m \u001b[0mobj\u001b[0m\u001b[1;33m.\u001b[0m\u001b[0mndim\u001b[0m\u001b[1;33m\u001b[0m\u001b[1;33m\u001b[0m\u001b[0m\n\u001b[1;32m--> 865\u001b[1;33m             \u001b[0mobj\u001b[0m \u001b[1;33m=\u001b[0m \u001b[0mgetattr\u001b[0m\u001b[1;33m(\u001b[0m\u001b[0mobj\u001b[0m\u001b[1;33m,\u001b[0m \u001b[0mself\u001b[0m\u001b[1;33m.\u001b[0m\u001b[0mname\u001b[0m\u001b[1;33m)\u001b[0m\u001b[1;33m.\u001b[0m\u001b[0m_getitem_axis\u001b[0m\u001b[1;33m(\u001b[0m\u001b[0mkey\u001b[0m\u001b[1;33m,\u001b[0m \u001b[0maxis\u001b[0m\u001b[1;33m=\u001b[0m\u001b[0maxis\u001b[0m\u001b[1;33m)\u001b[0m\u001b[1;33m\u001b[0m\u001b[1;33m\u001b[0m\u001b[0m\n\u001b[0m\u001b[0;32m    866\u001b[0m             \u001b[0maxis\u001b[0m \u001b[1;33m+=\u001b[0m \u001b[1;36m1\u001b[0m\u001b[1;33m\u001b[0m\u001b[1;33m\u001b[0m\u001b[0m\n\u001b[0;32m    867\u001b[0m \u001b[1;33m\u001b[0m\u001b[0m\n",
      "\u001b[1;32m~\\anaconda3\\lib\\site-packages\\pandas\\core\\indexing.py\u001b[0m in \u001b[0;36m_getitem_axis\u001b[1;34m(self, key, axis)\u001b[0m\n\u001b[0;32m   1115\u001b[0m             \u001b[1;31m# nested tuple slicing\u001b[0m\u001b[1;33m\u001b[0m\u001b[1;33m\u001b[0m\u001b[1;33m\u001b[0m\u001b[0m\n\u001b[0;32m   1116\u001b[0m             \u001b[1;32mif\u001b[0m \u001b[0mis_nested_tuple\u001b[0m\u001b[1;33m(\u001b[0m\u001b[0mkey\u001b[0m\u001b[1;33m,\u001b[0m \u001b[0mlabels\u001b[0m\u001b[1;33m)\u001b[0m\u001b[1;33m:\u001b[0m\u001b[1;33m\u001b[0m\u001b[1;33m\u001b[0m\u001b[0m\n\u001b[1;32m-> 1117\u001b[1;33m                 \u001b[0mlocs\u001b[0m \u001b[1;33m=\u001b[0m \u001b[0mlabels\u001b[0m\u001b[1;33m.\u001b[0m\u001b[0mget_locs\u001b[0m\u001b[1;33m(\u001b[0m\u001b[0mkey\u001b[0m\u001b[1;33m)\u001b[0m\u001b[1;33m\u001b[0m\u001b[1;33m\u001b[0m\u001b[0m\n\u001b[0m\u001b[0;32m   1118\u001b[0m                 \u001b[0mindexer\u001b[0m \u001b[1;33m=\u001b[0m \u001b[1;33m[\u001b[0m\u001b[0mslice\u001b[0m\u001b[1;33m(\u001b[0m\u001b[1;32mNone\u001b[0m\u001b[1;33m)\u001b[0m\u001b[1;33m]\u001b[0m \u001b[1;33m*\u001b[0m \u001b[0mself\u001b[0m\u001b[1;33m.\u001b[0m\u001b[0mndim\u001b[0m\u001b[1;33m\u001b[0m\u001b[1;33m\u001b[0m\u001b[0m\n\u001b[0;32m   1119\u001b[0m                 \u001b[0mindexer\u001b[0m\u001b[1;33m[\u001b[0m\u001b[0maxis\u001b[0m\u001b[1;33m]\u001b[0m \u001b[1;33m=\u001b[0m \u001b[0mlocs\u001b[0m\u001b[1;33m\u001b[0m\u001b[1;33m\u001b[0m\u001b[0m\n",
      "\u001b[1;32m~\\anaconda3\\lib\\site-packages\\pandas\\core\\indexes\\multi.py\u001b[0m in \u001b[0;36mget_locs\u001b[1;34m(self, seq)\u001b[0m\n\u001b[0;32m   3303\u001b[0m                 indexer = _update_indexer(\n\u001b[0;32m   3304\u001b[0m                     _convert_to_indexer(\n\u001b[1;32m-> 3305\u001b[1;33m                         \u001b[0mself\u001b[0m\u001b[1;33m.\u001b[0m\u001b[0mget_loc_level\u001b[0m\u001b[1;33m(\u001b[0m\u001b[0mk\u001b[0m\u001b[1;33m,\u001b[0m \u001b[0mlevel\u001b[0m\u001b[1;33m=\u001b[0m\u001b[0mi\u001b[0m\u001b[1;33m,\u001b[0m \u001b[0mdrop_level\u001b[0m\u001b[1;33m=\u001b[0m\u001b[1;32mFalse\u001b[0m\u001b[1;33m)\u001b[0m\u001b[1;33m[\u001b[0m\u001b[1;36m0\u001b[0m\u001b[1;33m]\u001b[0m\u001b[1;33m\u001b[0m\u001b[1;33m\u001b[0m\u001b[0m\n\u001b[0m\u001b[0;32m   3306\u001b[0m                     ),\n\u001b[0;32m   3307\u001b[0m                     \u001b[0mindexer\u001b[0m\u001b[1;33m=\u001b[0m\u001b[0mindexer\u001b[0m\u001b[1;33m,\u001b[0m\u001b[1;33m\u001b[0m\u001b[1;33m\u001b[0m\u001b[0m\n",
      "\u001b[1;32m~\\anaconda3\\lib\\site-packages\\pandas\\core\\indexes\\multi.py\u001b[0m in \u001b[0;36mget_loc_level\u001b[1;34m(self, key, level, drop_level)\u001b[0m\n\u001b[0;32m   2963\u001b[0m         \u001b[1;32melse\u001b[0m\u001b[1;33m:\u001b[0m\u001b[1;33m\u001b[0m\u001b[1;33m\u001b[0m\u001b[0m\n\u001b[0;32m   2964\u001b[0m             \u001b[0mlevel\u001b[0m \u001b[1;33m=\u001b[0m \u001b[1;33m[\u001b[0m\u001b[0mself\u001b[0m\u001b[1;33m.\u001b[0m\u001b[0m_get_level_number\u001b[0m\u001b[1;33m(\u001b[0m\u001b[0mlev\u001b[0m\u001b[1;33m)\u001b[0m \u001b[1;32mfor\u001b[0m \u001b[0mlev\u001b[0m \u001b[1;32min\u001b[0m \u001b[0mlevel\u001b[0m\u001b[1;33m]\u001b[0m\u001b[1;33m\u001b[0m\u001b[1;33m\u001b[0m\u001b[0m\n\u001b[1;32m-> 2965\u001b[1;33m         \u001b[1;32mreturn\u001b[0m \u001b[0mself\u001b[0m\u001b[1;33m.\u001b[0m\u001b[0m_get_loc_level\u001b[0m\u001b[1;33m(\u001b[0m\u001b[0mkey\u001b[0m\u001b[1;33m,\u001b[0m \u001b[0mlevel\u001b[0m\u001b[1;33m=\u001b[0m\u001b[0mlevel\u001b[0m\u001b[1;33m,\u001b[0m \u001b[0mdrop_level\u001b[0m\u001b[1;33m=\u001b[0m\u001b[0mdrop_level\u001b[0m\u001b[1;33m)\u001b[0m\u001b[1;33m\u001b[0m\u001b[1;33m\u001b[0m\u001b[0m\n\u001b[0m\u001b[0;32m   2966\u001b[0m \u001b[1;33m\u001b[0m\u001b[0m\n\u001b[0;32m   2967\u001b[0m     def _get_loc_level(\n",
      "\u001b[1;32m~\\anaconda3\\lib\\site-packages\\pandas\\core\\indexes\\multi.py\u001b[0m in \u001b[0;36m_get_loc_level\u001b[1;34m(self, key, level, drop_level)\u001b[0m\n\u001b[0;32m   3066\u001b[0m                 \u001b[1;32mreturn\u001b[0m \u001b[0mindexer\u001b[0m\u001b[1;33m,\u001b[0m \u001b[0mmaybe_mi_droplevels\u001b[0m\u001b[1;33m(\u001b[0m\u001b[0mindexer\u001b[0m\u001b[1;33m,\u001b[0m \u001b[0milevels\u001b[0m\u001b[1;33m,\u001b[0m \u001b[0mdrop_level\u001b[0m\u001b[1;33m)\u001b[0m\u001b[1;33m\u001b[0m\u001b[1;33m\u001b[0m\u001b[0m\n\u001b[0;32m   3067\u001b[0m         \u001b[1;32melse\u001b[0m\u001b[1;33m:\u001b[0m\u001b[1;33m\u001b[0m\u001b[1;33m\u001b[0m\u001b[0m\n\u001b[1;32m-> 3068\u001b[1;33m             \u001b[0mindexer\u001b[0m \u001b[1;33m=\u001b[0m \u001b[0mself\u001b[0m\u001b[1;33m.\u001b[0m\u001b[0m_get_level_indexer\u001b[0m\u001b[1;33m(\u001b[0m\u001b[0mkey\u001b[0m\u001b[1;33m,\u001b[0m \u001b[0mlevel\u001b[0m\u001b[1;33m=\u001b[0m\u001b[0mlevel\u001b[0m\u001b[1;33m)\u001b[0m\u001b[1;33m\u001b[0m\u001b[1;33m\u001b[0m\u001b[0m\n\u001b[0m\u001b[0;32m   3069\u001b[0m             \u001b[1;32mreturn\u001b[0m \u001b[0mindexer\u001b[0m\u001b[1;33m,\u001b[0m \u001b[0mmaybe_mi_droplevels\u001b[0m\u001b[1;33m(\u001b[0m\u001b[0mindexer\u001b[0m\u001b[1;33m,\u001b[0m \u001b[1;33m[\u001b[0m\u001b[0mlevel\u001b[0m\u001b[1;33m]\u001b[0m\u001b[1;33m,\u001b[0m \u001b[0mdrop_level\u001b[0m\u001b[1;33m)\u001b[0m\u001b[1;33m\u001b[0m\u001b[1;33m\u001b[0m\u001b[0m\n\u001b[0;32m   3070\u001b[0m \u001b[1;33m\u001b[0m\u001b[0m\n",
      "\u001b[1;32m~\\anaconda3\\lib\\site-packages\\pandas\\core\\indexes\\multi.py\u001b[0m in \u001b[0;36m_get_level_indexer\u001b[1;34m(self, key, level, indexer)\u001b[0m\n\u001b[0;32m   3156\u001b[0m         \u001b[1;32melse\u001b[0m\u001b[1;33m:\u001b[0m\u001b[1;33m\u001b[0m\u001b[1;33m\u001b[0m\u001b[0m\n\u001b[0;32m   3157\u001b[0m \u001b[1;33m\u001b[0m\u001b[0m\n\u001b[1;32m-> 3158\u001b[1;33m             \u001b[0midx\u001b[0m \u001b[1;33m=\u001b[0m \u001b[0mself\u001b[0m\u001b[1;33m.\u001b[0m\u001b[0m_get_loc_single_level_index\u001b[0m\u001b[1;33m(\u001b[0m\u001b[0mlevel_index\u001b[0m\u001b[1;33m,\u001b[0m \u001b[0mkey\u001b[0m\u001b[1;33m)\u001b[0m\u001b[1;33m\u001b[0m\u001b[1;33m\u001b[0m\u001b[0m\n\u001b[0m\u001b[0;32m   3159\u001b[0m \u001b[1;33m\u001b[0m\u001b[0m\n\u001b[0;32m   3160\u001b[0m             \u001b[1;32mif\u001b[0m \u001b[0mlevel\u001b[0m \u001b[1;33m>\u001b[0m \u001b[1;36m0\u001b[0m \u001b[1;32mor\u001b[0m \u001b[0mself\u001b[0m\u001b[1;33m.\u001b[0m\u001b[0mlexsort_depth\u001b[0m \u001b[1;33m==\u001b[0m \u001b[1;36m0\u001b[0m\u001b[1;33m:\u001b[0m\u001b[1;33m\u001b[0m\u001b[1;33m\u001b[0m\u001b[0m\n",
      "\u001b[1;32m~\\anaconda3\\lib\\site-packages\\pandas\\core\\indexes\\multi.py\u001b[0m in \u001b[0;36m_get_loc_single_level_index\u001b[1;34m(self, level_index, key)\u001b[0m\n\u001b[0;32m   2807\u001b[0m             \u001b[1;32mreturn\u001b[0m \u001b[1;33m-\u001b[0m\u001b[1;36m1\u001b[0m\u001b[1;33m\u001b[0m\u001b[1;33m\u001b[0m\u001b[0m\n\u001b[0;32m   2808\u001b[0m         \u001b[1;32melse\u001b[0m\u001b[1;33m:\u001b[0m\u001b[1;33m\u001b[0m\u001b[1;33m\u001b[0m\u001b[0m\n\u001b[1;32m-> 2809\u001b[1;33m             \u001b[1;32mreturn\u001b[0m \u001b[0mlevel_index\u001b[0m\u001b[1;33m.\u001b[0m\u001b[0mget_loc\u001b[0m\u001b[1;33m(\u001b[0m\u001b[0mkey\u001b[0m\u001b[1;33m)\u001b[0m\u001b[1;33m\u001b[0m\u001b[1;33m\u001b[0m\u001b[0m\n\u001b[0m\u001b[0;32m   2810\u001b[0m \u001b[1;33m\u001b[0m\u001b[0m\n\u001b[0;32m   2811\u001b[0m     \u001b[1;32mdef\u001b[0m \u001b[0mget_loc\u001b[0m\u001b[1;33m(\u001b[0m\u001b[0mself\u001b[0m\u001b[1;33m,\u001b[0m \u001b[0mkey\u001b[0m\u001b[1;33m,\u001b[0m \u001b[0mmethod\u001b[0m\u001b[1;33m=\u001b[0m\u001b[1;32mNone\u001b[0m\u001b[1;33m)\u001b[0m\u001b[1;33m:\u001b[0m\u001b[1;33m\u001b[0m\u001b[1;33m\u001b[0m\u001b[0m\n",
      "\u001b[1;32m~\\anaconda3\\lib\\site-packages\\pandas\\core\\indexes\\base.py\u001b[0m in \u001b[0;36mget_loc\u001b[1;34m(self, key, method, tolerance)\u001b[0m\n\u001b[0;32m   3080\u001b[0m                 \u001b[1;32mreturn\u001b[0m \u001b[0mself\u001b[0m\u001b[1;33m.\u001b[0m\u001b[0m_engine\u001b[0m\u001b[1;33m.\u001b[0m\u001b[0mget_loc\u001b[0m\u001b[1;33m(\u001b[0m\u001b[0mcasted_key\u001b[0m\u001b[1;33m)\u001b[0m\u001b[1;33m\u001b[0m\u001b[1;33m\u001b[0m\u001b[0m\n\u001b[0;32m   3081\u001b[0m             \u001b[1;32mexcept\u001b[0m \u001b[0mKeyError\u001b[0m \u001b[1;32mas\u001b[0m \u001b[0merr\u001b[0m\u001b[1;33m:\u001b[0m\u001b[1;33m\u001b[0m\u001b[1;33m\u001b[0m\u001b[0m\n\u001b[1;32m-> 3082\u001b[1;33m                 \u001b[1;32mraise\u001b[0m \u001b[0mKeyError\u001b[0m\u001b[1;33m(\u001b[0m\u001b[0mkey\u001b[0m\u001b[1;33m)\u001b[0m \u001b[1;32mfrom\u001b[0m \u001b[0merr\u001b[0m\u001b[1;33m\u001b[0m\u001b[1;33m\u001b[0m\u001b[0m\n\u001b[0m\u001b[0;32m   3083\u001b[0m \u001b[1;33m\u001b[0m\u001b[0m\n\u001b[0;32m   3084\u001b[0m         \u001b[1;32mif\u001b[0m \u001b[0mtolerance\u001b[0m \u001b[1;32mis\u001b[0m \u001b[1;32mnot\u001b[0m \u001b[1;32mNone\u001b[0m\u001b[1;33m:\u001b[0m\u001b[1;33m\u001b[0m\u001b[1;33m\u001b[0m\u001b[0m\n",
      "\u001b[1;31mKeyError\u001b[0m: 8"
     ]
    }
   ],
   "source": [
    "experiment_1.pair_df = experiment_1.pair_df.drop(['dissimilarity'], axis=1)\n",
    "experiment_1.pair_df.loc[pd.IndexSlice[8, :, :, :], :]"
   ]
  },
  {
   "cell_type": "markdown",
   "id": "42ccd1de",
   "metadata": {},
   "source": [
    "Users can create their own plots from the resulting dataframes, but there is also access to the two plots given by the VARS program. They can be shown by doing the following:\n",
    "\n",
    "note: if bootstrapping is done the confidence interval limits for the ivars50 and sobol results will be shown in the bar plot\n",
    "\n",
    "note: to display the variogram plot with the y axis in the logscale change the logy paramater to `True`\n",
    "\n",
    "note: the plot function returns the resulting plots axes, and the barchart figure incase the user wants to edit the plots"
   ]
  },
  {
   "cell_type": "code",
   "execution_count": null,
   "id": "0abf1a42",
   "metadata": {},
   "outputs": [],
   "source": [
    "varsax, barfig, barax = experiment_1.plot(logy=False)"
   ]
  },
  {
   "cell_type": "markdown",
   "id": "0159cc94",
   "metadata": {},
   "source": [
    "Most useful results are stored in the `.output` property as a dictionary. The variables stores could be seen quickly by:"
   ]
  },
  {
   "cell_type": "code",
   "execution_count": null,
   "id": "5b508555",
   "metadata": {},
   "outputs": [],
   "source": [
    "experiment_1.output.keys()"
   ]
  },
  {
   "cell_type": "markdown",
   "id": "82bdcb3c",
   "metadata": {},
   "source": [
    "and each output can be viewed by using the method shown in the next line:"
   ]
  },
  {
   "cell_type": "code",
   "execution_count": null,
   "id": "35755887",
   "metadata": {},
   "outputs": [],
   "source": [
    "experiment_1.output['Gamma'].unstack(level=0) # adding unstack to make it more legible"
   ]
  },
  {
   "cell_type": "markdown",
   "id": "c0ee2c3a",
   "metadata": {},
   "source": [
    "Now we can access all the results using 'dot' notation on our created instance:"
   ]
  },
  {
   "cell_type": "markdown",
   "id": "8150e63a",
   "metadata": {},
   "source": [
    "**Directional variogram results**\n",
    "\n",
    "There are 10 rows as the number of stars was 10, and each at a resolution incremented by 0.1 which was specificed to be the sampling resolution"
   ]
  },
  {
   "cell_type": "code",
   "execution_count": null,
   "id": "7a7603c9",
   "metadata": {},
   "outputs": [],
   "source": [
    "experiment_1.gamma.unstack(0)"
   ]
  },
  {
   "cell_type": "markdown",
   "id": "6339abc4",
   "metadata": {},
   "source": [
    "**Integrated variogram**"
   ]
  },
  {
   "cell_type": "code",
   "execution_count": null,
   "id": "25f48f3c",
   "metadata": {},
   "outputs": [],
   "source": [
    "experiment_1.ivars"
   ]
  },
  {
   "cell_type": "markdown",
   "id": "70973b79",
   "metadata": {},
   "source": [
    "**VARS-TO: Sobol total-order effects calculated through VARS**"
   ]
  },
  {
   "cell_type": "code",
   "execution_count": null,
   "id": "1c7881c2",
   "metadata": {},
   "outputs": [],
   "source": [
    "experiment_1.st"
   ]
  },
  {
   "cell_type": "markdown",
   "id": "58a960d4",
   "metadata": {},
   "source": [
    "**VARS-ABE: Morris mean absolute elementary effects across scales**"
   ]
  },
  {
   "cell_type": "code",
   "execution_count": null,
   "id": "00d1af86",
   "metadata": {},
   "outputs": [],
   "source": [
    "experiment_1.maee.unstack(0)"
   ]
  },
  {
   "cell_type": "markdown",
   "id": "4aba7b75",
   "metadata": {},
   "source": [
    "**VARS-ACE: Morris mean actual elementary effects across scales**"
   ]
  },
  {
   "cell_type": "code",
   "execution_count": null,
   "id": "95c20f8c",
   "metadata": {},
   "outputs": [],
   "source": [
    "experiment_1.mee.unstack(0)"
   ]
  },
  {
   "cell_type": "markdown",
   "id": "8f49bedb",
   "metadata": {},
   "source": [
    "**The factor(parameter) rankings based on their influence for IVARS and Sobol results**. \n",
    "\n",
    "The influence is based on how large or small a result is. The lower the ranking the more influential(larger) a factor is."
   ]
  },
  {
   "cell_type": "code",
   "execution_count": null,
   "id": "37e1ddea",
   "metadata": {},
   "outputs": [],
   "source": [
    "experiment_1.ivars_factor_ranking"
   ]
  },
  {
   "cell_type": "code",
   "execution_count": null,
   "id": "d80b1f00",
   "metadata": {},
   "outputs": [],
   "source": [
    "experiment_1.st_factor_ranking"
   ]
  },
  {
   "cell_type": "markdown",
   "id": "bd3fedf2",
   "metadata": {},
   "source": [
    "**Bootstrapping results based on the confidence interval limits**\n",
    "\n",
    "low is the lower limit of the results after `bootstrap_size` sampling iterations\n",
    "\n",
    "upp is the upper limit of the results after `bootstrap_size` sampling iterations"
   ]
  },
  {
   "cell_type": "code",
   "execution_count": null,
   "id": "8ccdd880",
   "metadata": {},
   "outputs": [],
   "source": [
    "experiment_1.gammalb"
   ]
  },
  {
   "cell_type": "code",
   "execution_count": null,
   "id": "76e5dbaf",
   "metadata": {},
   "outputs": [],
   "source": [
    "experiment_1.gammaub"
   ]
  },
  {
   "cell_type": "code",
   "execution_count": null,
   "id": "686eead9",
   "metadata": {},
   "outputs": [],
   "source": [
    "experiment_1.stlb"
   ]
  },
  {
   "cell_type": "code",
   "execution_count": null,
   "id": "078489dd",
   "metadata": {},
   "outputs": [],
   "source": [
    "experiment_1.stub"
   ]
  },
  {
   "cell_type": "code",
   "execution_count": null,
   "id": "a1c7a5ee",
   "metadata": {},
   "outputs": [],
   "source": [
    "experiment_1.ivarslb"
   ]
  },
  {
   "cell_type": "code",
   "execution_count": null,
   "id": "56a8922d",
   "metadata": {},
   "outputs": [],
   "source": [
    "experiment_1.ivarsub"
   ]
  },
  {
   "cell_type": "markdown",
   "id": "0df9c6e4",
   "metadata": {},
   "source": [
    "**Reliability estimates of factor rankings based on VARS-TO**\n",
    "\n",
    "reliability estimates give the ratio of how many bootstrapped rankings were the same as the initial rankings for `bootstrap_size` sampling iterations"
   ]
  },
  {
   "cell_type": "code",
   "execution_count": null,
   "id": "1f05bb9b",
   "metadata": {},
   "outputs": [],
   "source": [
    "experiment_1.rel_st_factor_ranking"
   ]
  },
  {
   "cell_type": "code",
   "execution_count": null,
   "id": "da2286cd",
   "metadata": {},
   "outputs": [],
   "source": [
    "experiment_1.rel_ivars_factor_ranking"
   ]
  },
  {
   "cell_type": "markdown",
   "id": "216f1e59",
   "metadata": {},
   "source": [
    "**Factor grouping based on IVARS50 and Sobol results**"
   ]
  },
  {
   "cell_type": "code",
   "execution_count": null,
   "id": "977e4198",
   "metadata": {},
   "outputs": [],
   "source": [
    "experiment_1.ivars50_grp"
   ]
  },
  {
   "cell_type": "code",
   "execution_count": null,
   "id": "8afbc617",
   "metadata": {},
   "outputs": [],
   "source": [
    "experiment_1.st_grp"
   ]
  },
  {
   "cell_type": "markdown",
   "id": "27479558",
   "metadata": {},
   "source": [
    "**Reliability estimates of rankings based on grouping**"
   ]
  },
  {
   "cell_type": "code",
   "execution_count": null,
   "id": "5d3e2110",
   "metadata": {},
   "outputs": [],
   "source": [
    "experiment_1.reli_st_grp"
   ]
  },
  {
   "cell_type": "code",
   "execution_count": null,
   "id": "3c5aaaf7",
   "metadata": {},
   "outputs": [],
   "source": [
    "experiment_1.reli_ivars50_grp"
   ]
  },
  {
   "cell_type": "markdown",
   "id": "edc7b298",
   "metadata": {},
   "source": [
    "#### Advanced Results\n",
    "\n",
    "**Directional covariogram results**"
   ]
  },
  {
   "cell_type": "code",
   "execution_count": null,
   "id": "ad527a8b",
   "metadata": {},
   "outputs": [],
   "source": [
    "experiment_1.cov.unstack(0)"
   ]
  },
  {
   "cell_type": "markdown",
   "id": "14bf13ed",
   "metadata": {},
   "source": [
    "**Directional expected covariogram results**"
   ]
  },
  {
   "cell_type": "code",
   "execution_count": null,
   "id": "e81b4d53",
   "metadata": {},
   "outputs": [],
   "source": [
    "experiment_1.ecov.unstack(0)"
   ]
  },
  {
   "cell_type": "markdown",
   "id": "c0aff666",
   "metadata": {},
   "source": [
    "## Example using the Ishigami model in offline mode"
   ]
  },
  {
   "cell_type": "markdown",
   "id": "ab9ab272",
   "metadata": {},
   "source": [
    "The offline mode of VARS tool is where the models are ran outside of the VARS analysis\n",
    "\n",
    "So again, we start with creating `experiment_3`"
   ]
  },
  {
   "cell_type": "code",
   "execution_count": null,
   "id": "15efac22",
   "metadata": {},
   "outputs": [],
   "source": [
    "experiment_3 = VARS(parameters = {'x1':(0, 1), 'x2':(0, 1), 'x3': (0, 1)},\n",
    "                    num_stars=10,\n",
    "                    delta_h = 0.1,\n",
    "                    ivars_scales = (0.1, 0.3, 0.5),\n",
    "                    sampler = 'rnd',\n",
    "                    seed = 123456789,\n",
    "                    model = ishigami_model,\n",
    "                    bootstrap_flag = True,\n",
    "                    bootstrap_size = 100,\n",
    "                    bootstrap_ci=0.9,\n",
    "                    grouping_flag=True,\n",
    "                    num_grps=2,\n",
    "                    report_verbose=True,\n",
    "                )"
   ]
  },
  {
   "cell_type": "markdown",
   "id": "be4967c5",
   "metadata": {},
   "source": [
    "What we will be doing first is generating the `star_points` based of the star centre samples generated in the VARS instance using a method named `generate_star`"
   ]
  },
  {
   "cell_type": "code",
   "execution_count": null,
   "id": "d2a13dcd",
   "metadata": {},
   "outputs": [],
   "source": [
    "star_points = experiment_3.generate_star()"
   ]
  },
  {
   "cell_type": "markdown",
   "id": "ed4bdc35",
   "metadata": {},
   "source": [
    "Now you will have access to the star points that you can apply to your model outside of Python or VARS"
   ]
  },
  {
   "cell_type": "code",
   "execution_count": null,
   "id": "8cd8c32a",
   "metadata": {},
   "outputs": [],
   "source": [
    "star_points"
   ]
  },
  {
   "cell_type": "markdown",
   "id": "4d5fe7dd",
   "metadata": {},
   "source": [
    "These star points (along with any of the VARS result data frames) can be extracted to a .csv file by doing the following:\n",
    "\n",
    "note: the format of the .csv file will be the exact same as the data frame shown above but with `,` as the delimeter"
   ]
  },
  {
   "cell_type": "code",
   "execution_count": null,
   "id": "aab70972",
   "metadata": {},
   "outputs": [],
   "source": [
    "path = 'star_points'  # type your desired file path here as a string (right now a file named star_points will be put in your current working directory)\n",
    "star_points.to_csv(path)"
   ]
  },
  {
   "cell_type": "markdown",
   "id": "e344d285",
   "metadata": {},
   "source": [
    "*****\n",
    "Here I will be creating the `star_points_results` csv file with ishigami applied to all the star points \n",
    "\n",
    "**NOTE**: this is the same as what is done in online mode and is just for example, you should do this your own way if you are wanting to use offline mode"
   ]
  },
  {
   "cell_type": "code",
   "execution_count": null,
   "id": "b7ed3c05",
   "metadata": {},
   "outputs": [],
   "source": [
    "# **** you do not need to understand this block of code ****\n",
    "applied_df = star_points.merge(star_points.drop_duplicates()\n",
    "                     .assign(**{ishigami.__name__: lambda x: x.apply(ishigami, axis=1)}), \n",
    "                     how='left')\n",
    "\n",
    "applied_df.index = star_points.index\n",
    "\n",
    "applied_df.to_csv('star_points_results')"
   ]
  },
  {
   "cell_type": "markdown",
   "id": "0d870a07",
   "metadata": {},
   "source": [
    "****\n",
    "Now after you apply your model to the star points you must put your results in the right most column of the .csv file, with the header of the column being the name of the model you are using. This can be done in excel, notepad, etc. Once the results are placed in the .csv file correctly we must convert it back to a data frame to run the VARS analysis by doing the following:\n",
    "\n",
    "note: this dataframe is the standard format that is expected to be inputted into the `run_offline` method"
   ]
  },
  {
   "cell_type": "code",
   "execution_count": null,
   "id": "8a681ab5",
   "metadata": {},
   "outputs": [],
   "source": [
    "modelframe = pd.read_csv('star_points_results', index_col=[0, 1, 2])\n",
    "modelframe"
   ]
  },
  {
   "cell_type": "markdown",
   "id": "0509a50f",
   "metadata": {},
   "source": [
    "Now to run the VARS analysis simply do the following:"
   ]
  },
  {
   "cell_type": "code",
   "execution_count": null,
   "id": "db439b49",
   "metadata": {},
   "outputs": [],
   "source": [
    "experiment_3.run_offline(modelframe)"
   ]
  },
  {
   "cell_type": "markdown",
   "id": "fa946d89",
   "metadata": {},
   "source": [
    "Now all the results can be accesed the exact same way as they were for online mode with `experiment_1` and `experiment_2`"
   ]
  },
  {
   "cell_type": "markdown",
   "id": "b2fe6f38",
   "metadata": {},
   "source": [
    "# DIY"
   ]
  },
  {
   "cell_type": "markdown",
   "id": "102723de",
   "metadata": {},
   "source": [
    "How about you test `experiment_2` yourself? "
   ]
  },
  {
   "cell_type": "code",
   "execution_count": null,
   "id": "d20a8d08",
   "metadata": {},
   "outputs": [],
   "source": [
    "experiment_2"
   ]
  },
  {
   "cell_type": "code",
   "execution_count": null,
   "id": "dc9eef9b",
   "metadata": {},
   "outputs": [],
   "source": []
  }
 ],
 "metadata": {
  "kernelspec": {
   "display_name": "Python 3",
   "language": "python",
   "name": "python3"
  },
  "language_info": {
   "codemirror_mode": {
    "name": "ipython",
    "version": 3
   },
   "file_extension": ".py",
   "mimetype": "text/x-python",
   "name": "python",
   "nbconvert_exporter": "python",
   "pygments_lexer": "ipython3",
   "version": "3.8.8"
  }
 },
 "nbformat": 4,
 "nbformat_minor": 5
}
