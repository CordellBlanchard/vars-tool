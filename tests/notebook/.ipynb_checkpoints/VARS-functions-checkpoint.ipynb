{
 "cells": [
  {
   "cell_type": "code",
   "execution_count": 1,
   "id": "exact-summary",
   "metadata": {},
   "outputs": [],
   "source": [
    "import pandas as pd\n",
    "import numpy  as np\n",
    "\n",
    "import matplotlib.pyplot as plt\n",
    "\n",
    "from typing import (\n",
    "    List,\n",
    "    Dict,\n",
    "    Optional,\n",
    "    Tuple,\n",
    "    Union,\n",
    "    Callable,\n",
    "    Sequence,\n",
    "    Any,\n",
    ")\n",
    "\n",
    "from typing_extensions import (\n",
    "    Protocol,\n",
    ")\n",
    "\n",
    "from collections.abc import (\n",
    "    Iterable,\n",
    ")"
   ]
  },
  {
   "cell_type": "code",
   "execution_count": 2,
   "id": "geological-reliance",
   "metadata": {},
   "outputs": [],
   "source": [
    "class Sampler():\n",
    "    __doc__ = \"\"\"A sampling class the returns random numbers based\n",
    "    on **kwargs variables\"\"\"\n",
    "    \n",
    "    def __init__(\n",
    "        self, \n",
    "        callback: Callable = None,\n",
    "        seed: Optional[int] = None,\n",
    "        args: Any = None,\n",
    "        kwargs: Dict[str, Any] = None,\n",
    "    ) -> None:\n",
    "        \n",
    "        # initialize instance values\n",
    "        self.callback = callback\n",
    "        self.kwargs   = size_kwargs\n",
    "\n",
    "    def sample(self, ) -> Union[Iterable, float]:\n",
    "        return self.callback(**self.kwargs)\n",
    "    \n",
    "    \n",
    "class Model():\n",
    "    __doc__ = \"\"\"A model class that runs the model in a iteration \n",
    "    (if needed) and returns values\"\"\"\n",
    "    \n",
    "    def __init__(self, ): ...\n",
    "    \n",
    "    def __iter__(self, ): ...\n",
    "        \n",
    "    def __next__(self, ): ..."
   ]
  },
  {
   "cell_type": "code",
   "execution_count": 3,
   "id": "cloudy-litigation",
   "metadata": {},
   "outputs": [],
   "source": [
    "class VARS(object):\n",
    "    __doc__ = \"\"\"VARS object\"\"\"\n",
    "    \n",
    "    #-------------------------------------------\n",
    "    # Constructors\n",
    "    \n",
    "    def __init__(\n",
    "        self,\n",
    "        parameters: Dict[str, Tuple[float, float]] = None,\n",
    "        delta_h: Optional[float] = 0.1,\n",
    "        num_stars: Optional[int] = 100,\n",
    "        ivars_scales: Optional[Tuple[float, ...]] = (0.1, 0.3, 0.5),\n",
    "        sampler: Sampler = None,\n",
    "        model: Model = None,\n",
    "        seed: Optional[int] = 123456789,\n",
    "        bootstrap_flag: Optional[bool] = False,\n",
    "        bootstrap_size: Optional[int]  = 1000,\n",
    "        bootstrap_ci: Optional[int] = 0.9,\n",
    "        report_verbose: Optional[bool] = False,\n",
    "        report_freq: int = 10,\n",
    "    ) -> None:\n",
    "        \n",
    "        # initialize values\n",
    "        self.delta_h = delta_h\n",
    "        self.num_stars = num_stars\n",
    "\n",
    "    @classmethod\n",
    "    def from_dict(cls, input_dict):\n",
    "        \n",
    "        return cls()\n",
    "    \n",
    "    @classmethod\n",
    "    def from_text(cls, input_text_file):\n",
    "        \n",
    "        return cls()\n",
    "    \n",
    "    #-------------------------------------------\n",
    "    # Representators\n",
    "    def __repr__(self, ):\n",
    "        \n",
    "        return \"test\"\n",
    "    \n",
    "    def _repr_html(self, ):\n",
    "        \n",
    "        pass\n",
    "    \n",
    "    def __str__(self, ):\n",
    "        \n",
    "        return\n",
    "    \n",
    "    #-------------------------------------------\n",
    "    # Core Functions\n",
    "    @staticmethod\n",
    "    def generate_star(star_centre):\n",
    "        \n",
    "        return\n",
    "    \n",
    "    def plot(self, ):\n",
    "        \n",
    "        return\n",
    "    \n",
    "    def run(self, ):\n",
    "        \n",
    "        return"
   ]
  },
  {
   "cell_type": "code",
   "execution_count": 4,
   "id": "medical-topic",
   "metadata": {},
   "outputs": [
    {
     "data": {
      "text/plain": [
       "array([[ 2.1209455 ,  1.83272279, -0.99067157],\n",
       "       [-0.30519608,  0.47593901, -0.45893449]])"
      ]
     },
     "execution_count": 4,
     "metadata": {},
     "output_type": "execute_result"
    }
   ],
   "source": [
    "np.random.normal(loc=0, scale=1, size=(2,3))"
   ]
  },
  {
   "cell_type": "code",
   "execution_count": 5,
   "id": "virgin-arkansas",
   "metadata": {},
   "outputs": [],
   "source": [
    "test = VARS(delta_h=0.1, num_stars=200)"
   ]
  },
  {
   "cell_type": "code",
   "execution_count": null,
   "id": "thirty-thickness",
   "metadata": {},
   "outputs": [],
   "source": []
  }
 ],
 "metadata": {
  "kernelspec": {
   "display_name": "Python 3",
   "language": "python",
   "name": "python3"
  },
  "language_info": {
   "codemirror_mode": {
    "name": "ipython",
    "version": 3
   },
   "file_extension": ".py",
   "mimetype": "text/x-python",
   "name": "python",
   "nbconvert_exporter": "python",
   "pygments_lexer": "ipython3",
   "version": "3.7.10"
  }
 },
 "nbformat": 4,
 "nbformat_minor": 5
}
