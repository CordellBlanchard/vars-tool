{
 "cells": [
  {
   "cell_type": "code",
   "execution_count": 1,
   "id": "exact-summary",
   "metadata": {},
   "outputs": [],
   "source": [
    "import pandas as pd\n",
    "import numpy  as np\n",
    "\n",
    "import matplotlib.pyplot as plt\n",
    "\n",
    "from typing import (\n",
    "    List,\n",
    "    Dict,\n",
    "    Iterable,\n",
    "    Iterator,\n",
    "    Optional,\n",
    "    Tuple,\n",
    "    Union,\n",
    "    Callable,\n",
    ")\n",
    "\n",
    "from typing_extensions import (\n",
    "    Protocol,\n",
    ")"
   ]
  },
  {
   "cell_type": "code",
   "execution_count": 4,
   "id": "complete-favor",
   "metadata": {},
   "outputs": [],
   "source": [
    "class Sampler(Protocol):\n",
    "    def __init__(self, ):\n",
    "        pass\n",
    "    \n",
    "    def __call__(self, **kwargs) -> pd.DataFrame:\n",
    "        \n",
    "        return"
   ]
  },
  {
   "cell_type": "code",
   "execution_count": 3,
   "id": "cloudy-litigation",
   "metadata": {},
   "outputs": [],
   "source": [
    "class VARS(object):\n",
    "    __doc__ = '''VARS object'''\n",
    "    \n",
    "    #-------------------------------------------\n",
    "    # Constructors\n",
    "    \n",
    "    def __init__(\n",
    "        self, \n",
    "        delta_h: float = 0.1,\n",
    "        num_stars: int = 100,\n",
    "        ivars_scales: Tuple[float, ...] = (0.1, 0.3, 0.5),\n",
    "        sampler: Sampler = None,\n",
    "    ):\n",
    "        # initialize values\n",
    "        self.delta_h = delta_h\n",
    "        self.num_stars = num_stars\n",
    "\n",
    "    @classmethod\n",
    "    def from_dict(cls, input_dict):\n",
    "        \n",
    "        return cls()\n",
    "    \n",
    "    @classmethod\n",
    "    def from_text(cls, input_text_file):\n",
    "        \n",
    "        return cls()\n",
    "    \n",
    "    #-------------------------------------------\n",
    "    # Representators\n",
    "    def __repr__(self, ):\n",
    "        \n",
    "        return \"test\"\n",
    "    \n",
    "    def _repr_html(self, ):\n",
    "        \n",
    "        pass\n",
    "    \n",
    "    def __str__(self, ):\n",
    "        \n",
    "        return\n",
    "    \n",
    "    #-------------------------------------------\n",
    "    # Core Functions\n",
    "    @staticmethod\n",
    "    def generate_star(star_centre):\n",
    "        \n",
    "        return\n",
    "    \n",
    "    def plot(self, ):\n",
    "        \n",
    "        return"
   ]
  },
  {
   "cell_type": "code",
   "execution_count": null,
   "id": "virgin-arkansas",
   "metadata": {},
   "outputs": [],
   "source": [
    "test = VARS(delta_h=0.1, num_stars=200)"
   ]
  }
 ],
 "metadata": {
  "kernelspec": {
   "display_name": "Python 3",
   "language": "python",
   "name": "python3"
  },
  "language_info": {
   "codemirror_mode": {
    "name": "ipython",
    "version": 3
   },
   "file_extension": ".py",
   "mimetype": "text/x-python",
   "name": "python",
   "nbconvert_exporter": "python",
   "pygments_lexer": "ipython3",
   "version": "3.7.10"
  }
 },
 "nbformat": 4,
 "nbformat_minor": 5
}
