{
 "cells": [
  {
   "cell_type": "code",
   "execution_count": 1,
   "id": "valuable-commons",
   "metadata": {},
   "outputs": [],
   "source": [
    "import numpy as np\n",
    "import pandas as pd\n",
    "\n",
    "from star import star_vars\n",
    "from itertools import combinations, chain, repeat"
   ]
  },
  {
   "cell_type": "code",
   "execution_count": 2,
   "id": "54242f7b-50d6-4c4d-9ed6-6c5dd9194e41",
   "metadata": {},
   "outputs": [],
   "source": [
    "param_names = ['x1', 'x2', 'x3']\n",
    "ivars_scales = [0.1, 0.3, 0.5]"
   ]
  },
  {
   "cell_type": "code",
   "execution_count": 3,
   "id": "colonial-whole",
   "metadata": {},
   "outputs": [],
   "source": [
    "def ishigami(x, a=7, b=0.05):\n",
    "    '''Ishigami test function'''\n",
    "    # check whether the input x is a dataframe\n",
    "    \n",
    "    if not isinstance(x, (pd.core.frame.DataFrame, pd.core.series.Series, np.ndarray, list)):\n",
    "        raise TypeError('`x` must be of type pandas.DataFrame, numpy.ndarray, pd.Series, or list')\n",
    "    \n",
    "    if x.shape[0] > 3:\n",
    "        raise ValueError('`x` must have only three arguments at a time')\n",
    "    \n",
    "    return np.sin(x[0]) + a*(np.sin(x[1])**2) + b*(x[2]**4)*np.sin(x[0])"
   ]
  },
  {
   "cell_type": "code",
   "execution_count": 4,
   "id": "fa8f4772-5fc1-4d19-b975-185e9495c689",
   "metadata": {},
   "outputs": [],
   "source": [
    "def factor_ranking(factors):\n",
    "    # gather indices for sorting factor\n",
    "    temp = np.argsort(factors)[::-1]\n",
    "    # create an array the same shape and type as temp\n",
    "    ranks = np.empty_like(temp)\n",
    "    # rank factors\n",
    "    ranks[temp] = np.arange(len(factors))\n",
    "\n",
    "    return ranks\n",
    "    "
   ]
  },
  {
   "cell_type": "code",
   "execution_count": 17,
   "id": "sapphire-meaning",
   "metadata": {},
   "outputs": [],
   "source": [
    "# helper functions\n",
    "def apply_unique(func, df, axis=1, *args, **kwargs):\n",
    "    '''Apply a function to unique rows of a DataFrame\n",
    "    for efficiency.'''\n",
    "\n",
    "    applied_df = df.merge(df.drop_duplicates()\n",
    "                         .assign(**{func.__name__: lambda x: x.apply(func, axis=axis)}), \n",
    "                         how='left')\n",
    "    applied_df.index = df.index\n",
    "    \n",
    "    return applied_df\n",
    "    \n",
    "    \n",
    "def scale(df, bounds, axis=1, *args, **kwargs):\n",
    "    '''scale the sampled matrix\n",
    "    bounds is a dict with ['ub', 'lb'] keys\n",
    "    the values are lists of the upper and lower bounds\n",
    "    of the parameters/variables/factors'''\n",
    "    \n",
    "    # numpy equivalent for math operations\n",
    "    bounds_np = {key:np.array(value) for key,value in bounds.items()}\n",
    "    \n",
    "    if axis:\n",
    "        return df * (bounds_np['ub'] - bounds_np['lb']) + bounds_np['lb']\n",
    "    else:\n",
    "        return df.T * (bounds_np['ub'] - bounds_np['lb']) + bounds_np['lb']\n",
    "    \n",
    "    \n",
    "def pairs_h(iterable):\n",
    "    '''gives the pairs of numbers considering their differences'''\n",
    "    interval = range(min(iterable), max(iterable)-min(iterable))\n",
    "    pairs  = {key+1:[j for j in combinations(iterable, 2) if np.abs(j[0]-j[1])==key+1] for key in interval}\n",
    "    return pairs\n",
    "    \n",
    "    \n",
    "def section_df(df, delta_h): # ***delta_h here is newly added*** July 6th, 2021 - Saman's comment\n",
    "    '''gets the paired values of each section based on index'''\n",
    "    pairs = pairs_h(df.index.get_level_values(-1))\n",
    "    df_values = df.to_numpy()\n",
    "    sample = pd.concat({h*delta_h:\n",
    "                    pd.DataFrame.from_dict({str(idx_tup): [df_values[idx_tup[0]], df_values[idx_tup[1]]] for idx_tup in idx}, 'index') \\\n",
    "                      for h, idx in pairs.items()}) \n",
    "\n",
    "    return sample\n",
    "    \n",
    "    \n",
    "# lambda functions\n",
    "'''covariogram of each section'''\n",
    "cov_section = lambda pair_cols, mu_star: (pair_cols.sub(mu_star, axis=0)[0] * pair_cols.sub(mu_star, axis=0)[1]).groupby(level=[0,1,2]).mean()\n",
    "\n",
    "'''variogram over all sections'''\n",
    "variogram = lambda pair_cols: 0.5*(pair_cols[0] - pair_cols[1]).pow(2).groupby(level=[1,2]).mean()\n",
    "\n",
    "'''morris sensitivity measure equivalent evaluated over all sections'''\n",
    "morris_eq = lambda pair_cols: ((pair_cols[1] - pair_cols[0]).abs().groupby(level=[1,2]).mean(), \\\n",
    "                               (pair_cols[1] - pair_cols[0]).groupby(level=[1,2]).mean())\n",
    "\n",
    "'''covariogram over all sections'''\n",
    "covariogram = lambda pair_cols, mu_overall: ((pair_cols - mu_overall)[0] * (pair_cols - mu_overall)[1]).groupby(level=[1,2]).mean()\n",
    "\n",
    "'''expected covariogram over all sections'''\n",
    "e_covariogram = lambda cov_section_all: cov_section_all.groupby(level=[1,2]).mean()\n",
    "\n",
    "'''sobol (total order) sensitivity measure equivalent evaluated over all sections''' # new sobol added *** 6 July 2021\n",
    "# sobol_eq = lambda gamma, ecov, variance: ((gamma + ecov) / variance).loc[:,1]\n",
    "sobol_eq = lambda gamma, ecov, variance, delta_h: ((gamma + ecov) / variance)[:, delta_h] # new July 6, 2021\n",
    "\n",
    "\n",
    "\n",
    "# ivars function\n",
    "def ivars(variogram_array, scale, delta_h):\n",
    "    '''generate Integrated Variogram Across a Range of Scales (IVARS)\n",
    "    by approximating area using right trapezoids having width of `delta_h`\n",
    "    and hights of variogram values'''\n",
    "    num_h  = len(variogram_value.index.levels[-1].to_list())\n",
    "    x_bench= np.arange(start=0, stop=delta_h*(num_h+1), step=delta_h)\n",
    "    x_int  = np.arange(start=0, stop=(scale*10+1)/10, step=delta_h)\n",
    "\n",
    "    # calculate interpolated values for both x (h) and y (variogram)\n",
    "    if x_int[-1] < scale:\n",
    "        x_int.append(scale)\n",
    "    y_bench= [0] + variogram_array.to_list()\n",
    "\n",
    "    y_int  = np.interp(x=x_int, xp=x_bench, fp=y_bench)\n",
    "    \n",
    "    # for loop for each step size to caluclate the area\n",
    "    ivars = 0\n",
    "    for i in range(len(x_int)-1):\n",
    "        ivars += 0.5*(y_int[i+1] + y_int[i]) * (x_int[i+1] - x_int[i])\n",
    "\n",
    "    return ivars\n",
    "\n",
    "# alias\n",
    "idx = pd.IndexSlice"
   ]
  },
  {
   "cell_type": "code",
   "execution_count": 6,
   "id": "north-loading",
   "metadata": {
    "scrolled": true
   },
   "outputs": [
    {
     "data": {
      "text/plain": [
       "array([[0.83498163, 0.59655403, 0.28886324],\n",
       "       [0.04295157, 0.9736544 , 0.5964717 ],\n",
       "       [0.79026316, 0.91033938, 0.68815445],\n",
       "       [0.18999147, 0.98147898, 0.28474005],\n",
       "       [0.62927317, 0.58103648, 0.59991227],\n",
       "       [0.53524811, 0.9957771 , 0.50194608],\n",
       "       [0.77102258, 0.49416178, 0.99767449],\n",
       "       [0.97862192, 0.39356804, 0.32192526],\n",
       "       [0.86218065, 0.7993249 , 0.69143063],\n",
       "       [0.40851785, 0.38976513, 0.1316484 ]])"
      ]
     },
     "execution_count": 6,
     "metadata": {},
     "output_type": "execute_result"
    }
   ],
   "source": [
    "delta_h = 0.1\n",
    "rng = np.random.default_rng(seed=100)\n",
    "star_centres = rng.random((10, 3))\n",
    "star_points  = star_vars(star_centres, delta_h=delta_h, parameters=['x1', 'x2', 'x3'], rettype='DataFrame')\n",
    "star_centres"
   ]
  },
  {
   "cell_type": "code",
   "execution_count": 7,
   "id": "statistical-intro",
   "metadata": {},
   "outputs": [
    {
     "data": {
      "text/html": [
       "<div>\n",
       "<style scoped>\n",
       "    .dataframe tbody tr th:only-of-type {\n",
       "        vertical-align: middle;\n",
       "    }\n",
       "\n",
       "    .dataframe tbody tr th {\n",
       "        vertical-align: top;\n",
       "    }\n",
       "\n",
       "    .dataframe thead th {\n",
       "        text-align: right;\n",
       "    }\n",
       "</style>\n",
       "<table border=\"1\" class=\"dataframe\">\n",
       "  <thead>\n",
       "    <tr style=\"text-align: right;\">\n",
       "      <th></th>\n",
       "      <th></th>\n",
       "      <th></th>\n",
       "      <th>0</th>\n",
       "      <th>1</th>\n",
       "      <th>2</th>\n",
       "    </tr>\n",
       "    <tr>\n",
       "      <th>centre</th>\n",
       "      <th>param</th>\n",
       "      <th>points</th>\n",
       "      <th></th>\n",
       "      <th></th>\n",
       "      <th></th>\n",
       "    </tr>\n",
       "  </thead>\n",
       "  <tbody>\n",
       "    <tr>\n",
       "      <th rowspan=\"5\" valign=\"top\">0</th>\n",
       "      <th rowspan=\"5\" valign=\"top\">x1</th>\n",
       "      <th>0</th>\n",
       "      <td>0.034982</td>\n",
       "      <td>0.596554</td>\n",
       "      <td>0.288863</td>\n",
       "    </tr>\n",
       "    <tr>\n",
       "      <th>1</th>\n",
       "      <td>0.134982</td>\n",
       "      <td>0.596554</td>\n",
       "      <td>0.288863</td>\n",
       "    </tr>\n",
       "    <tr>\n",
       "      <th>2</th>\n",
       "      <td>0.234982</td>\n",
       "      <td>0.596554</td>\n",
       "      <td>0.288863</td>\n",
       "    </tr>\n",
       "    <tr>\n",
       "      <th>3</th>\n",
       "      <td>0.334982</td>\n",
       "      <td>0.596554</td>\n",
       "      <td>0.288863</td>\n",
       "    </tr>\n",
       "    <tr>\n",
       "      <th>4</th>\n",
       "      <td>0.434982</td>\n",
       "      <td>0.596554</td>\n",
       "      <td>0.288863</td>\n",
       "    </tr>\n",
       "    <tr>\n",
       "      <th>...</th>\n",
       "      <th>...</th>\n",
       "      <th>...</th>\n",
       "      <td>...</td>\n",
       "      <td>...</td>\n",
       "      <td>...</td>\n",
       "    </tr>\n",
       "    <tr>\n",
       "      <th rowspan=\"5\" valign=\"top\">9</th>\n",
       "      <th rowspan=\"5\" valign=\"top\">x3</th>\n",
       "      <th>5</th>\n",
       "      <td>0.408518</td>\n",
       "      <td>0.389765</td>\n",
       "      <td>0.531648</td>\n",
       "    </tr>\n",
       "    <tr>\n",
       "      <th>6</th>\n",
       "      <td>0.408518</td>\n",
       "      <td>0.389765</td>\n",
       "      <td>0.631648</td>\n",
       "    </tr>\n",
       "    <tr>\n",
       "      <th>7</th>\n",
       "      <td>0.408518</td>\n",
       "      <td>0.389765</td>\n",
       "      <td>0.731648</td>\n",
       "    </tr>\n",
       "    <tr>\n",
       "      <th>8</th>\n",
       "      <td>0.408518</td>\n",
       "      <td>0.389765</td>\n",
       "      <td>0.831648</td>\n",
       "    </tr>\n",
       "    <tr>\n",
       "      <th>9</th>\n",
       "      <td>0.408518</td>\n",
       "      <td>0.389765</td>\n",
       "      <td>0.931648</td>\n",
       "    </tr>\n",
       "  </tbody>\n",
       "</table>\n",
       "<p>300 rows × 3 columns</p>\n",
       "</div>"
      ],
      "text/plain": [
       "                            0         1         2\n",
       "centre param points                              \n",
       "0      x1    0       0.034982  0.596554  0.288863\n",
       "             1       0.134982  0.596554  0.288863\n",
       "             2       0.234982  0.596554  0.288863\n",
       "             3       0.334982  0.596554  0.288863\n",
       "             4       0.434982  0.596554  0.288863\n",
       "...                       ...       ...       ...\n",
       "9      x3    5       0.408518  0.389765  0.531648\n",
       "             6       0.408518  0.389765  0.631648\n",
       "             7       0.408518  0.389765  0.731648\n",
       "             8       0.408518  0.389765  0.831648\n",
       "             9       0.408518  0.389765  0.931648\n",
       "\n",
       "[300 rows x 3 columns]"
      ]
     },
     "execution_count": 7,
     "metadata": {},
     "output_type": "execute_result"
    }
   ],
   "source": [
    "# bounds = {'ub':[3,4,5], 'lb':[-3,-4,-5]}\n",
    "# star_points_scaled = scale(star_points, bounds)\n",
    "star_points.index.names=['centre', 'param', 'points']\n",
    "star_points\n",
    "#np.array(star_centres).shape"
   ]
  },
  {
   "cell_type": "code",
   "execution_count": 8,
   "id": "special-anime",
   "metadata": {},
   "outputs": [
    {
     "name": "stderr",
     "output_type": "stream",
     "text": [
      "<ipython-input-8-2b471e26cf18>:1: TqdmExperimentalWarning: Using `tqdm.autonotebook.tqdm` in notebook mode. Use `tqdm.tqdm` instead to force console mode (e.g. in jupyter console)\n",
      "  from tqdm.autonotebook import tqdm\n"
     ]
    }
   ],
   "source": [
    "from tqdm.autonotebook import tqdm\n",
    "\n",
    "def apply_unique(func, df, axis=1, *args, **kwargs):\n",
    "    '''Apply a function to unique rows of a DataFrame\n",
    "    for efficiency.'''\n",
    "    \n",
    "    tqdm.pandas(desc=func.__name__ + ' evaluation')\n",
    "\n",
    "    applied_df = df.merge(df.drop_duplicates()\n",
    "                         .assign(**{func.__name__: lambda x: x.progress_apply(func, axis=axis)}), \n",
    "                         how='left')\n",
    "    applied_df.index = df.index\n",
    "    \n",
    "    return applied_df"
   ]
  },
  {
   "cell_type": "code",
   "execution_count": 9,
   "id": "mineral-vietnamese",
   "metadata": {},
   "outputs": [
    {
     "data": {
      "application/vnd.jupyter.widget-view+json": {
       "model_id": "48552c2da5a24f139d8b00ad4dba2f1e",
       "version_major": 2,
       "version_minor": 0
      },
      "text/plain": [
       "ishigami evaluation:   0%|          | 0/280 [00:00<?, ?it/s]"
      ]
     },
     "metadata": {},
     "output_type": "display_data"
    },
    {
     "data": {
      "text/html": [
       "<div>\n",
       "<style scoped>\n",
       "    .dataframe tbody tr th:only-of-type {\n",
       "        vertical-align: middle;\n",
       "    }\n",
       "\n",
       "    .dataframe tbody tr th {\n",
       "        vertical-align: top;\n",
       "    }\n",
       "\n",
       "    .dataframe thead th {\n",
       "        text-align: right;\n",
       "    }\n",
       "</style>\n",
       "<table border=\"1\" class=\"dataframe\">\n",
       "  <thead>\n",
       "    <tr style=\"text-align: right;\">\n",
       "      <th></th>\n",
       "      <th></th>\n",
       "      <th></th>\n",
       "      <th>0</th>\n",
       "      <th>1</th>\n",
       "      <th>2</th>\n",
       "      <th>ishigami</th>\n",
       "    </tr>\n",
       "    <tr>\n",
       "      <th>centre</th>\n",
       "      <th>param</th>\n",
       "      <th>points</th>\n",
       "      <th></th>\n",
       "      <th></th>\n",
       "      <th></th>\n",
       "      <th></th>\n",
       "    </tr>\n",
       "  </thead>\n",
       "  <tbody>\n",
       "    <tr>\n",
       "      <th rowspan=\"5\" valign=\"top\">0</th>\n",
       "      <th rowspan=\"5\" valign=\"top\">x1</th>\n",
       "      <th>0</th>\n",
       "      <td>0.034982</td>\n",
       "      <td>0.596554</td>\n",
       "      <td>0.288863</td>\n",
       "      <td>2.244282</td>\n",
       "    </tr>\n",
       "    <tr>\n",
       "      <th>1</th>\n",
       "      <td>0.134982</td>\n",
       "      <td>0.596554</td>\n",
       "      <td>0.288863</td>\n",
       "      <td>2.343915</td>\n",
       "    </tr>\n",
       "    <tr>\n",
       "      <th>2</th>\n",
       "      <td>0.234982</td>\n",
       "      <td>0.596554</td>\n",
       "      <td>0.288863</td>\n",
       "      <td>2.442202</td>\n",
       "    </tr>\n",
       "    <tr>\n",
       "      <th>3</th>\n",
       "      <td>0.334982</td>\n",
       "      <td>0.596554</td>\n",
       "      <td>0.288863</td>\n",
       "      <td>2.538162</td>\n",
       "    </tr>\n",
       "    <tr>\n",
       "      <th>4</th>\n",
       "      <td>0.434982</td>\n",
       "      <td>0.596554</td>\n",
       "      <td>0.288863</td>\n",
       "      <td>2.630836</td>\n",
       "    </tr>\n",
       "    <tr>\n",
       "      <th>...</th>\n",
       "      <th>...</th>\n",
       "      <th>...</th>\n",
       "      <td>...</td>\n",
       "      <td>...</td>\n",
       "      <td>...</td>\n",
       "      <td>...</td>\n",
       "    </tr>\n",
       "    <tr>\n",
       "      <th rowspan=\"5\" valign=\"top\">9</th>\n",
       "      <th rowspan=\"5\" valign=\"top\">x3</th>\n",
       "      <th>5</th>\n",
       "      <td>0.408518</td>\n",
       "      <td>0.389765</td>\n",
       "      <td>0.531648</td>\n",
       "      <td>1.409483</td>\n",
       "    </tr>\n",
       "    <tr>\n",
       "      <th>6</th>\n",
       "      <td>0.408518</td>\n",
       "      <td>0.389765</td>\n",
       "      <td>0.631648</td>\n",
       "      <td>1.411058</td>\n",
       "    </tr>\n",
       "    <tr>\n",
       "      <th>7</th>\n",
       "      <td>0.408518</td>\n",
       "      <td>0.389765</td>\n",
       "      <td>0.731648</td>\n",
       "      <td>1.413588</td>\n",
       "    </tr>\n",
       "    <tr>\n",
       "      <th>8</th>\n",
       "      <td>0.408518</td>\n",
       "      <td>0.389765</td>\n",
       "      <td>0.831648</td>\n",
       "      <td>1.417398</td>\n",
       "    </tr>\n",
       "    <tr>\n",
       "      <th>9</th>\n",
       "      <td>0.408518</td>\n",
       "      <td>0.389765</td>\n",
       "      <td>0.931648</td>\n",
       "      <td>1.422860</td>\n",
       "    </tr>\n",
       "  </tbody>\n",
       "</table>\n",
       "<p>300 rows × 4 columns</p>\n",
       "</div>"
      ],
      "text/plain": [
       "                            0         1         2  ishigami\n",
       "centre param points                                        \n",
       "0      x1    0       0.034982  0.596554  0.288863  2.244282\n",
       "             1       0.134982  0.596554  0.288863  2.343915\n",
       "             2       0.234982  0.596554  0.288863  2.442202\n",
       "             3       0.334982  0.596554  0.288863  2.538162\n",
       "             4       0.434982  0.596554  0.288863  2.630836\n",
       "...                       ...       ...       ...       ...\n",
       "9      x3    5       0.408518  0.389765  0.531648  1.409483\n",
       "             6       0.408518  0.389765  0.631648  1.411058\n",
       "             7       0.408518  0.389765  0.731648  1.413588\n",
       "             8       0.408518  0.389765  0.831648  1.417398\n",
       "             9       0.408518  0.389765  0.931648  1.422860\n",
       "\n",
       "[300 rows x 4 columns]"
      ]
     },
     "execution_count": 9,
     "metadata": {},
     "output_type": "execute_result"
    }
   ],
   "source": [
    "# df = apply_unique(ishigami, star_points_scaled, axis=1)\n",
    "df = apply_unique(ishigami, star_points, axis=1)\n",
    "df.index.names=['centre', 'param', 'points']\n",
    "df"
   ]
  },
  {
   "cell_type": "code",
   "execution_count": 10,
   "id": "oriented-devon",
   "metadata": {},
   "outputs": [
    {
     "data": {
      "application/vnd.jupyter.widget-view+json": {
       "model_id": "96b578a60451431e943fa88536f5e499",
       "version_major": 2,
       "version_minor": 0
      },
      "text/plain": [
       "building pairs:   0%|          | 0/30 [00:00<?, ?it/s]"
      ]
     },
     "metadata": {},
     "output_type": "display_data"
    },
    {
     "data": {
      "text/html": [
       "<div>\n",
       "<style scoped>\n",
       "    .dataframe tbody tr th:only-of-type {\n",
       "        vertical-align: middle;\n",
       "    }\n",
       "\n",
       "    .dataframe tbody tr th {\n",
       "        vertical-align: top;\n",
       "    }\n",
       "\n",
       "    .dataframe thead th {\n",
       "        text-align: right;\n",
       "    }\n",
       "</style>\n",
       "<table border=\"1\" class=\"dataframe\">\n",
       "  <thead>\n",
       "    <tr style=\"text-align: right;\">\n",
       "      <th></th>\n",
       "      <th></th>\n",
       "      <th></th>\n",
       "      <th></th>\n",
       "      <th>0</th>\n",
       "      <th>1</th>\n",
       "    </tr>\n",
       "    <tr>\n",
       "      <th>centre</th>\n",
       "      <th>param</th>\n",
       "      <th>h</th>\n",
       "      <th>pair_ind</th>\n",
       "      <th></th>\n",
       "      <th></th>\n",
       "    </tr>\n",
       "  </thead>\n",
       "  <tbody>\n",
       "    <tr>\n",
       "      <th rowspan=\"5\" valign=\"top\">0</th>\n",
       "      <th rowspan=\"5\" valign=\"top\">x1</th>\n",
       "      <th rowspan=\"5\" valign=\"top\">0.1</th>\n",
       "      <th>(0, 1)</th>\n",
       "      <td>2.244282</td>\n",
       "      <td>2.343915</td>\n",
       "    </tr>\n",
       "    <tr>\n",
       "      <th>(1, 2)</th>\n",
       "      <td>2.343915</td>\n",
       "      <td>2.442202</td>\n",
       "    </tr>\n",
       "    <tr>\n",
       "      <th>(2, 3)</th>\n",
       "      <td>2.442202</td>\n",
       "      <td>2.538162</td>\n",
       "    </tr>\n",
       "    <tr>\n",
       "      <th>(3, 4)</th>\n",
       "      <td>2.538162</td>\n",
       "      <td>2.630836</td>\n",
       "    </tr>\n",
       "    <tr>\n",
       "      <th>(4, 5)</th>\n",
       "      <td>2.630836</td>\n",
       "      <td>2.719298</td>\n",
       "    </tr>\n",
       "    <tr>\n",
       "      <th>...</th>\n",
       "      <th>...</th>\n",
       "      <th>...</th>\n",
       "      <th>...</th>\n",
       "      <td>...</td>\n",
       "      <td>...</td>\n",
       "    </tr>\n",
       "    <tr>\n",
       "      <th rowspan=\"5\" valign=\"top\">9</th>\n",
       "      <th rowspan=\"5\" valign=\"top\">x3</th>\n",
       "      <th rowspan=\"2\" valign=\"top\">0.7</th>\n",
       "      <th>(1, 8)</th>\n",
       "      <td>1.407902</td>\n",
       "      <td>1.417398</td>\n",
       "    </tr>\n",
       "    <tr>\n",
       "      <th>(2, 9)</th>\n",
       "      <td>1.407953</td>\n",
       "      <td>1.422860</td>\n",
       "    </tr>\n",
       "    <tr>\n",
       "      <th rowspan=\"2\" valign=\"top\">0.8</th>\n",
       "      <th>(0, 8)</th>\n",
       "      <td>1.407896</td>\n",
       "      <td>1.417398</td>\n",
       "    </tr>\n",
       "    <tr>\n",
       "      <th>(1, 9)</th>\n",
       "      <td>1.407902</td>\n",
       "      <td>1.422860</td>\n",
       "    </tr>\n",
       "    <tr>\n",
       "      <th>0.9</th>\n",
       "      <th>(0, 9)</th>\n",
       "      <td>1.407896</td>\n",
       "      <td>1.422860</td>\n",
       "    </tr>\n",
       "  </tbody>\n",
       "</table>\n",
       "<p>1350 rows × 2 columns</p>\n",
       "</div>"
      ],
      "text/plain": [
       "                                  0         1\n",
       "centre param h   pair_ind                    \n",
       "0      x1    0.1 (0, 1)    2.244282  2.343915\n",
       "                 (1, 2)    2.343915  2.442202\n",
       "                 (2, 3)    2.442202  2.538162\n",
       "                 (3, 4)    2.538162  2.630836\n",
       "                 (4, 5)    2.630836  2.719298\n",
       "...                             ...       ...\n",
       "9      x3    0.7 (1, 8)    1.407902  1.417398\n",
       "                 (2, 9)    1.407953  1.422860\n",
       "             0.8 (0, 8)    1.407896  1.417398\n",
       "                 (1, 9)    1.407902  1.422860\n",
       "             0.9 (0, 9)    1.407896  1.422860\n",
       "\n",
       "[1350 rows x 2 columns]"
      ]
     },
     "execution_count": 10,
     "metadata": {},
     "output_type": "execute_result"
    }
   ],
   "source": [
    "# getting the paired values of each section based on `h`\n",
    "tqdm.pandas(desc='building pairs')\n",
    "\n",
    "pair_df = df[ishigami.__name__].groupby(level=[0,1]).progress_apply(section_df, delta_h=delta_h)\n",
    "pair_df.index.names = ['centre', 'param', 'h', 'pair_ind']\n",
    "pair_df"
   ]
  },
  {
   "cell_type": "code",
   "execution_count": 11,
   "id": "divine-melbourne",
   "metadata": {},
   "outputs": [
    {
     "data": {
      "application/vnd.jupyter.widget-view+json": {
       "model_id": "034b74bba111446e83c8d1368b97f938",
       "version_major": 2,
       "version_minor": 0
      },
      "text/plain": [
       "VARS Analysis:   0%|          | 0/10 [00:00<?, ?it/s]"
      ]
     },
     "metadata": {},
     "output_type": "display_data"
    }
   ],
   "source": [
    "vars_pbar = tqdm( desc='VARS Analysis', total=10, )"
   ]
  },
  {
   "cell_type": "code",
   "execution_count": 12,
   "id": "collect-optimum",
   "metadata": {},
   "outputs": [
    {
     "name": "stdout",
     "output_type": "stream",
     "text": [
      "Averages of model runs (`mu_star`) calculated - access via .mu_star_df\n"
     ]
    },
    {
     "data": {
      "text/html": [
       "<div>\n",
       "<style scoped>\n",
       "    .dataframe tbody tr th:only-of-type {\n",
       "        vertical-align: middle;\n",
       "    }\n",
       "\n",
       "    .dataframe tbody tr th {\n",
       "        vertical-align: top;\n",
       "    }\n",
       "\n",
       "    .dataframe thead th {\n",
       "        text-align: right;\n",
       "    }\n",
       "</style>\n",
       "<table border=\"1\" class=\"dataframe\">\n",
       "  <thead>\n",
       "    <tr style=\"text-align: right;\">\n",
       "      <th>param</th>\n",
       "      <th>x1</th>\n",
       "      <th>x2</th>\n",
       "      <th>x3</th>\n",
       "    </tr>\n",
       "    <tr>\n",
       "      <th>centre</th>\n",
       "      <th></th>\n",
       "      <th></th>\n",
       "      <th></th>\n",
       "    </tr>\n",
       "  </thead>\n",
       "  <tbody>\n",
       "    <tr>\n",
       "      <th>0</th>\n",
       "      <td>2.656646</td>\n",
       "      <td>2.885317</td>\n",
       "      <td>2.959480</td>\n",
       "    </tr>\n",
       "    <tr>\n",
       "      <th>1</th>\n",
       "      <td>5.243696</td>\n",
       "      <td>2.068463</td>\n",
       "      <td>4.830351</td>\n",
       "    </tr>\n",
       "    <tr>\n",
       "      <th>2</th>\n",
       "      <td>4.864449</td>\n",
       "      <td>2.432892</td>\n",
       "      <td>5.084556</td>\n",
       "    </tr>\n",
       "    <tr>\n",
       "      <th>3</th>\n",
       "      <td>5.330994</td>\n",
       "      <td>2.254328</td>\n",
       "      <td>5.028727</td>\n",
       "    </tr>\n",
       "    <tr>\n",
       "      <th>4</th>\n",
       "      <td>2.554175</td>\n",
       "      <td>2.655503</td>\n",
       "      <td>2.704976</td>\n",
       "    </tr>\n",
       "    <tr>\n",
       "      <th>5</th>\n",
       "      <td>5.378425</td>\n",
       "      <td>2.651379</td>\n",
       "      <td>5.443588</td>\n",
       "    </tr>\n",
       "    <tr>\n",
       "      <th>6</th>\n",
       "      <td>2.075819</td>\n",
       "      <td>2.862646</td>\n",
       "      <td>2.280281</td>\n",
       "    </tr>\n",
       "    <tr>\n",
       "      <th>7</th>\n",
       "      <td>1.513483</td>\n",
       "      <td>2.958328</td>\n",
       "      <td>1.866293</td>\n",
       "    </tr>\n",
       "    <tr>\n",
       "      <th>8</th>\n",
       "      <td>4.072956</td>\n",
       "      <td>2.926255</td>\n",
       "      <td>4.365968</td>\n",
       "    </tr>\n",
       "    <tr>\n",
       "      <th>9</th>\n",
       "      <td>1.435236</td>\n",
       "      <td>2.505585</td>\n",
       "      <td>1.411486</td>\n",
       "    </tr>\n",
       "  </tbody>\n",
       "</table>\n",
       "</div>"
      ],
      "text/plain": [
       "param         x1        x2        x3\n",
       "centre                              \n",
       "0       2.656646  2.885317  2.959480\n",
       "1       5.243696  2.068463  4.830351\n",
       "2       4.864449  2.432892  5.084556\n",
       "3       5.330994  2.254328  5.028727\n",
       "4       2.554175  2.655503  2.704976\n",
       "5       5.378425  2.651379  5.443588\n",
       "6       2.075819  2.862646  2.280281\n",
       "7       1.513483  2.958328  1.866293\n",
       "8       4.072956  2.926255  4.365968\n",
       "9       1.435236  2.505585  1.411486"
      ]
     },
     "execution_count": 12,
     "metadata": {},
     "output_type": "execute_result"
    }
   ],
   "source": [
    "# mu_star calculation\n",
    "\n",
    "vars_pbar.update(1)\n",
    "vars_pbar.write('Averages of model runs (`mu_star`) calculated - access via .mu_star_df')\n",
    "\n",
    "\n",
    "mu_star_df = df[ishigami.__name__].groupby(level=[0,1]).mean()\n",
    "mu_star_df.index.names = ['centre', 'param']\n",
    "mu_star_df.unstack(level=1)"
   ]
  },
  {
   "cell_type": "code",
   "execution_count": 13,
   "id": "induced-jackson",
   "metadata": {},
   "outputs": [
    {
     "name": "stdout",
     "output_type": "stream",
     "text": [
      "Overall expected value (`mu_overall`) calculated - access via .mu_overall\n"
     ]
    },
    {
     "data": {
      "text/plain": [
       "3.2181307939105364"
      ]
     },
     "execution_count": 13,
     "metadata": {},
     "output_type": "execute_result"
    }
   ],
   "source": [
    "# overall mu (mean) of the unique evaluated function values over all stars points\n",
    "\n",
    "vars_pbar.update(1)\n",
    "vars_pbar.write('Overall expected value (`mu_overall`) calculated - access via .mu_overall')\n",
    "\n",
    "mu_overall = df[ishigami.__name__].unique().mean()\n",
    "mu_overall"
   ]
  },
  {
   "cell_type": "code",
   "execution_count": 14,
   "id": "stupid-bulgarian",
   "metadata": {},
   "outputs": [
    {
     "name": "stdout",
     "output_type": "stream",
     "text": [
      "Overall variance (`var_overall`) calculated - access via .var_overall\n"
     ]
    },
    {
     "data": {
      "text/plain": [
       "2.625633323232234"
      ]
     },
     "execution_count": 14,
     "metadata": {},
     "output_type": "execute_result"
    }
   ],
   "source": [
    "# overall var (variance) of the unique evaluated function values over all stars points\n",
    "\n",
    "vars_pbar.update(1)\n",
    "vars_pbar.write('Overall variance (`var_overall`) calculated - access via .var_overall')\n",
    "\n",
    "\n",
    "var_overall = df[ishigami.__name__].unique().var(ddof=1)\n",
    "var_overall"
   ]
  },
  {
   "cell_type": "code",
   "execution_count": 15,
   "id": "timely-defendant",
   "metadata": {},
   "outputs": [
    {
     "name": "stdout",
     "output_type": "stream",
     "text": [
      "Sectional covariogram `cov_section_all` calculated - access via .cov_section_all\n"
     ]
    },
    {
     "data": {
      "text/html": [
       "<div>\n",
       "<style scoped>\n",
       "    .dataframe tbody tr th:only-of-type {\n",
       "        vertical-align: middle;\n",
       "    }\n",
       "\n",
       "    .dataframe tbody tr th {\n",
       "        vertical-align: top;\n",
       "    }\n",
       "\n",
       "    .dataframe thead th {\n",
       "        text-align: right;\n",
       "    }\n",
       "</style>\n",
       "<table border=\"1\" class=\"dataframe\">\n",
       "  <thead>\n",
       "    <tr style=\"text-align: right;\">\n",
       "      <th></th>\n",
       "      <th>param</th>\n",
       "      <th>x1</th>\n",
       "      <th>x2</th>\n",
       "      <th>x3</th>\n",
       "    </tr>\n",
       "    <tr>\n",
       "      <th>centre</th>\n",
       "      <th>h</th>\n",
       "      <th></th>\n",
       "      <th></th>\n",
       "      <th></th>\n",
       "    </tr>\n",
       "  </thead>\n",
       "  <tbody>\n",
       "    <tr>\n",
       "      <th rowspan=\"5\" valign=\"top\">0</th>\n",
       "      <th>0.1</th>\n",
       "      <td>0.048396</td>\n",
       "      <td>2.130395</td>\n",
       "      <td>0.000085</td>\n",
       "    </tr>\n",
       "    <tr>\n",
       "      <th>0.2</th>\n",
       "      <td>0.032084</td>\n",
       "      <td>1.415033</td>\n",
       "      <td>0.000045</td>\n",
       "    </tr>\n",
       "    <tr>\n",
       "      <th>0.3</th>\n",
       "      <td>0.013009</td>\n",
       "      <td>0.545250</td>\n",
       "      <td>0.000009</td>\n",
       "    </tr>\n",
       "    <tr>\n",
       "      <th>0.4</th>\n",
       "      <td>-0.008655</td>\n",
       "      <td>-0.447458</td>\n",
       "      <td>-0.000026</td>\n",
       "    </tr>\n",
       "    <tr>\n",
       "      <th>0.5</th>\n",
       "      <td>-0.032701</td>\n",
       "      <td>-1.525340</td>\n",
       "      <td>-0.000059</td>\n",
       "    </tr>\n",
       "    <tr>\n",
       "      <th>...</th>\n",
       "      <th>...</th>\n",
       "      <td>...</td>\n",
       "      <td>...</td>\n",
       "      <td>...</td>\n",
       "    </tr>\n",
       "    <tr>\n",
       "      <th rowspan=\"5\" valign=\"top\">9</th>\n",
       "      <th>0.5</th>\n",
       "      <td>-0.033542</td>\n",
       "      <td>-1.506603</td>\n",
       "      <td>-0.000010</td>\n",
       "    </tr>\n",
       "    <tr>\n",
       "      <th>0.6</th>\n",
       "      <td>-0.060431</td>\n",
       "      <td>-2.610690</td>\n",
       "      <td>-0.000016</td>\n",
       "    </tr>\n",
       "    <tr>\n",
       "      <th>0.7</th>\n",
       "      <td>-0.089252</td>\n",
       "      <td>-3.710385</td>\n",
       "      <td>-0.000023</td>\n",
       "    </tr>\n",
       "    <tr>\n",
       "      <th>0.8</th>\n",
       "      <td>-0.119703</td>\n",
       "      <td>-4.758991</td>\n",
       "      <td>-0.000031</td>\n",
       "    </tr>\n",
       "    <tr>\n",
       "      <th>0.9</th>\n",
       "      <td>-0.151457</td>\n",
       "      <td>-5.710391</td>\n",
       "      <td>-0.000041</td>\n",
       "    </tr>\n",
       "  </tbody>\n",
       "</table>\n",
       "<p>90 rows × 3 columns</p>\n",
       "</div>"
      ],
      "text/plain": [
       "param             x1        x2        x3\n",
       "centre h                                \n",
       "0      0.1  0.048396  2.130395  0.000085\n",
       "       0.2  0.032084  1.415033  0.000045\n",
       "       0.3  0.013009  0.545250  0.000009\n",
       "       0.4 -0.008655 -0.447458 -0.000026\n",
       "       0.5 -0.032701 -1.525340 -0.000059\n",
       "...              ...       ...       ...\n",
       "9      0.5 -0.033542 -1.506603 -0.000010\n",
       "       0.6 -0.060431 -2.610690 -0.000016\n",
       "       0.7 -0.089252 -3.710385 -0.000023\n",
       "       0.8 -0.119703 -4.758991 -0.000031\n",
       "       0.9 -0.151457 -5.710391 -0.000041\n",
       "\n",
       "[90 rows x 3 columns]"
      ]
     },
     "execution_count": 15,
     "metadata": {},
     "output_type": "execute_result"
    }
   ],
   "source": [
    "# sectional covariogram calculation - content matches MATLAB code style!!\n",
    "\n",
    "vars_pbar.update(1)\n",
    "vars_pbar.write('Sectional covariogram `cov_section_all` calculated - access via .cov_section_all')\n",
    "\n",
    "\n",
    "cov_section_all = cov_section(pair_df, mu_star_df)\n",
    "cov_section_all.unstack(level=1)"
   ]
  },
  {
   "cell_type": "code",
   "execution_count": 18,
   "id": "square-boost",
   "metadata": {},
   "outputs": [
    {
     "name": "stdout",
     "output_type": "stream",
     "text": [
      "Variogram (`gamma`) calculated - access via .gamma\n"
     ]
    },
    {
     "data": {
      "text/html": [
       "<div>\n",
       "<style scoped>\n",
       "    .dataframe tbody tr th:only-of-type {\n",
       "        vertical-align: middle;\n",
       "    }\n",
       "\n",
       "    .dataframe tbody tr th {\n",
       "        vertical-align: top;\n",
       "    }\n",
       "\n",
       "    .dataframe thead th {\n",
       "        text-align: right;\n",
       "    }\n",
       "</style>\n",
       "<table border=\"1\" class=\"dataframe\">\n",
       "  <thead>\n",
       "    <tr style=\"text-align: right;\">\n",
       "      <th>param</th>\n",
       "      <th>x1</th>\n",
       "      <th>x2</th>\n",
       "      <th>x3</th>\n",
       "    </tr>\n",
       "    <tr>\n",
       "      <th>h</th>\n",
       "      <th></th>\n",
       "      <th></th>\n",
       "      <th></th>\n",
       "    </tr>\n",
       "  </thead>\n",
       "  <tbody>\n",
       "    <tr>\n",
       "      <th>0.1</th>\n",
       "      <td>0.003723</td>\n",
       "      <td>0.157006</td>\n",
       "      <td>0.000009</td>\n",
       "    </tr>\n",
       "    <tr>\n",
       "      <th>0.2</th>\n",
       "      <td>0.014996</td>\n",
       "      <td>0.643154</td>\n",
       "      <td>0.000030</td>\n",
       "    </tr>\n",
       "    <tr>\n",
       "      <th>0.3</th>\n",
       "      <td>0.033887</td>\n",
       "      <td>1.467836</td>\n",
       "      <td>0.000055</td>\n",
       "    </tr>\n",
       "    <tr>\n",
       "      <th>0.4</th>\n",
       "      <td>0.060336</td>\n",
       "      <td>2.620288</td>\n",
       "      <td>0.000081</td>\n",
       "    </tr>\n",
       "    <tr>\n",
       "      <th>0.5</th>\n",
       "      <td>0.094159</td>\n",
       "      <td>4.067930</td>\n",
       "      <td>0.000110</td>\n",
       "    </tr>\n",
       "    <tr>\n",
       "      <th>0.6</th>\n",
       "      <td>0.135042</td>\n",
       "      <td>5.756585</td>\n",
       "      <td>0.000144</td>\n",
       "    </tr>\n",
       "    <tr>\n",
       "      <th>0.7</th>\n",
       "      <td>0.182547</td>\n",
       "      <td>7.612715</td>\n",
       "      <td>0.000191</td>\n",
       "    </tr>\n",
       "    <tr>\n",
       "      <th>0.8</th>\n",
       "      <td>0.236120</td>\n",
       "      <td>9.547591</td>\n",
       "      <td>0.000259</td>\n",
       "    </tr>\n",
       "    <tr>\n",
       "      <th>0.9</th>\n",
       "      <td>0.295096</td>\n",
       "      <td>11.463071</td>\n",
       "      <td>0.000365</td>\n",
       "    </tr>\n",
       "  </tbody>\n",
       "</table>\n",
       "</div>"
      ],
      "text/plain": [
       "param        x1         x2        x3\n",
       "h                                   \n",
       "0.1    0.003723   0.157006  0.000009\n",
       "0.2    0.014996   0.643154  0.000030\n",
       "0.3    0.033887   1.467836  0.000055\n",
       "0.4    0.060336   2.620288  0.000081\n",
       "0.5    0.094159   4.067930  0.000110\n",
       "0.6    0.135042   5.756585  0.000144\n",
       "0.7    0.182547   7.612715  0.000191\n",
       "0.8    0.236120   9.547591  0.000259\n",
       "0.9    0.295096  11.463071  0.000365"
      ]
     },
     "execution_count": 18,
     "metadata": {},
     "output_type": "execute_result"
    }
   ],
   "source": [
    "# variogram calculation\n",
    "\n",
    "vars_pbar.update(1)\n",
    "vars_pbar.write('Variogram (`gamma`) calculated - access via .gamma')\n",
    "\n",
    "variogram_value = variogram(pair_df)\n",
    "variogram_value.unstack(level=0)"
   ]
  },
  {
   "cell_type": "code",
   "execution_count": 17,
   "id": "dried-hygiene",
   "metadata": {},
   "outputs": [
    {
     "name": "stdout",
     "output_type": "stream",
     "text": [
      "Morris MAEE and MEE (`maee` and `mee`) calculated - access via .maee and .mee\n"
     ]
    },
    {
     "data": {
      "text/html": [
       "<div>\n",
       "<style scoped>\n",
       "    .dataframe tbody tr th:only-of-type {\n",
       "        vertical-align: middle;\n",
       "    }\n",
       "\n",
       "    .dataframe tbody tr th {\n",
       "        vertical-align: top;\n",
       "    }\n",
       "\n",
       "    .dataframe thead th {\n",
       "        text-align: right;\n",
       "    }\n",
       "</style>\n",
       "<table border=\"1\" class=\"dataframe\">\n",
       "  <thead>\n",
       "    <tr style=\"text-align: right;\">\n",
       "      <th>param</th>\n",
       "      <th>x1</th>\n",
       "      <th>x2</th>\n",
       "      <th>x3</th>\n",
       "    </tr>\n",
       "    <tr>\n",
       "      <th>h</th>\n",
       "      <th></th>\n",
       "      <th></th>\n",
       "      <th></th>\n",
       "    </tr>\n",
       "  </thead>\n",
       "  <tbody>\n",
       "    <tr>\n",
       "      <th>0.1</th>\n",
       "      <td>0.085347</td>\n",
       "      <td>0.531766</td>\n",
       "      <td>0.002697</td>\n",
       "    </tr>\n",
       "    <tr>\n",
       "      <th>0.2</th>\n",
       "      <td>0.171708</td>\n",
       "      <td>1.090234</td>\n",
       "      <td>0.004997</td>\n",
       "    </tr>\n",
       "    <tr>\n",
       "      <th>0.3</th>\n",
       "      <td>0.258653</td>\n",
       "      <td>1.664431</td>\n",
       "      <td>0.007070</td>\n",
       "    </tr>\n",
       "    <tr>\n",
       "      <th>0.4</th>\n",
       "      <td>0.345745</td>\n",
       "      <td>2.242759</td>\n",
       "      <td>0.009086</td>\n",
       "    </tr>\n",
       "    <tr>\n",
       "      <th>0.5</th>\n",
       "      <td>0.432546</td>\n",
       "      <td>2.813301</td>\n",
       "      <td>0.011216</td>\n",
       "    </tr>\n",
       "    <tr>\n",
       "      <th>0.6</th>\n",
       "      <td>0.518617</td>\n",
       "      <td>3.364139</td>\n",
       "      <td>0.013629</td>\n",
       "    </tr>\n",
       "    <tr>\n",
       "      <th>0.7</th>\n",
       "      <td>0.603523</td>\n",
       "      <td>3.883672</td>\n",
       "      <td>0.016496</td>\n",
       "    </tr>\n",
       "    <tr>\n",
       "      <th>0.8</th>\n",
       "      <td>0.686833</td>\n",
       "      <td>4.360934</td>\n",
       "      <td>0.019987</td>\n",
       "    </tr>\n",
       "    <tr>\n",
       "      <th>0.9</th>\n",
       "      <td>0.768126</td>\n",
       "      <td>4.785892</td>\n",
       "      <td>0.024272</td>\n",
       "    </tr>\n",
       "  </tbody>\n",
       "</table>\n",
       "</div>"
      ],
      "text/plain": [
       "param        x1        x2        x3\n",
       "h                                  \n",
       "0.1    0.085347  0.531766  0.002697\n",
       "0.2    0.171708  1.090234  0.004997\n",
       "0.3    0.258653  1.664431  0.007070\n",
       "0.4    0.345745  2.242759  0.009086\n",
       "0.5    0.432546  2.813301  0.011216\n",
       "0.6    0.518617  3.364139  0.013629\n",
       "0.7    0.603523  3.883672  0.016496\n",
       "0.8    0.686833  4.360934  0.019987\n",
       "0.9    0.768126  4.785892  0.024272"
      ]
     },
     "execution_count": 17,
     "metadata": {},
     "output_type": "execute_result"
    }
   ],
   "source": [
    "# morris calculation\n",
    "\n",
    "vars_pbar.update(1)\n",
    "vars_pbar.write('Morris MAEE and MEE (`maee` and `mee`) calculated - access via .maee and .mee')\n",
    "\n",
    "\n",
    "morris_values = morris_eq(pair_df)\n",
    "morris_values[0].unstack(level=0)"
   ]
  },
  {
   "cell_type": "code",
   "execution_count": 18,
   "id": "polar-skirt",
   "metadata": {
    "scrolled": true
   },
   "outputs": [
    {
     "data": {
      "text/html": [
       "<div>\n",
       "<style scoped>\n",
       "    .dataframe tbody tr th:only-of-type {\n",
       "        vertical-align: middle;\n",
       "    }\n",
       "\n",
       "    .dataframe tbody tr th {\n",
       "        vertical-align: top;\n",
       "    }\n",
       "\n",
       "    .dataframe thead th {\n",
       "        text-align: right;\n",
       "    }\n",
       "</style>\n",
       "<table border=\"1\" class=\"dataframe\">\n",
       "  <thead>\n",
       "    <tr style=\"text-align: right;\">\n",
       "      <th>param</th>\n",
       "      <th>x1</th>\n",
       "      <th>x2</th>\n",
       "      <th>x3</th>\n",
       "    </tr>\n",
       "    <tr>\n",
       "      <th>h</th>\n",
       "      <th></th>\n",
       "      <th></th>\n",
       "      <th></th>\n",
       "    </tr>\n",
       "  </thead>\n",
       "  <tbody>\n",
       "    <tr>\n",
       "      <th>0.1</th>\n",
       "      <td>0.085347</td>\n",
       "      <td>0.531766</td>\n",
       "      <td>0.002697</td>\n",
       "    </tr>\n",
       "    <tr>\n",
       "      <th>0.2</th>\n",
       "      <td>0.171708</td>\n",
       "      <td>1.090234</td>\n",
       "      <td>0.004997</td>\n",
       "    </tr>\n",
       "    <tr>\n",
       "      <th>0.3</th>\n",
       "      <td>0.258653</td>\n",
       "      <td>1.664431</td>\n",
       "      <td>0.007070</td>\n",
       "    </tr>\n",
       "    <tr>\n",
       "      <th>0.4</th>\n",
       "      <td>0.345745</td>\n",
       "      <td>2.242759</td>\n",
       "      <td>0.009086</td>\n",
       "    </tr>\n",
       "    <tr>\n",
       "      <th>0.5</th>\n",
       "      <td>0.432546</td>\n",
       "      <td>2.813301</td>\n",
       "      <td>0.011216</td>\n",
       "    </tr>\n",
       "    <tr>\n",
       "      <th>0.6</th>\n",
       "      <td>0.518617</td>\n",
       "      <td>3.364139</td>\n",
       "      <td>0.013629</td>\n",
       "    </tr>\n",
       "    <tr>\n",
       "      <th>0.7</th>\n",
       "      <td>0.603523</td>\n",
       "      <td>3.883672</td>\n",
       "      <td>0.016496</td>\n",
       "    </tr>\n",
       "    <tr>\n",
       "      <th>0.8</th>\n",
       "      <td>0.686833</td>\n",
       "      <td>4.360934</td>\n",
       "      <td>0.019987</td>\n",
       "    </tr>\n",
       "    <tr>\n",
       "      <th>0.9</th>\n",
       "      <td>0.768126</td>\n",
       "      <td>4.785892</td>\n",
       "      <td>0.024272</td>\n",
       "    </tr>\n",
       "  </tbody>\n",
       "</table>\n",
       "</div>"
      ],
      "text/plain": [
       "param        x1        x2        x3\n",
       "h                                  \n",
       "0.1    0.085347  0.531766  0.002697\n",
       "0.2    0.171708  1.090234  0.004997\n",
       "0.3    0.258653  1.664431  0.007070\n",
       "0.4    0.345745  2.242759  0.009086\n",
       "0.5    0.432546  2.813301  0.011216\n",
       "0.6    0.518617  3.364139  0.013629\n",
       "0.7    0.603523  3.883672  0.016496\n",
       "0.8    0.686833  4.360934  0.019987\n",
       "0.9    0.768126  4.785892  0.024272"
      ]
     },
     "execution_count": 18,
     "metadata": {},
     "output_type": "execute_result"
    }
   ],
   "source": [
    "morris_values[1].unstack(level=0)"
   ]
  },
  {
   "cell_type": "code",
   "execution_count": 19,
   "id": "religious-musical",
   "metadata": {
    "scrolled": true
   },
   "outputs": [
    {
     "name": "stdout",
     "output_type": "stream",
     "text": [
      "Covariogram (`cov`) calculated - access via .cov\n"
     ]
    },
    {
     "data": {
      "text/html": [
       "<div>\n",
       "<style scoped>\n",
       "    .dataframe tbody tr th:only-of-type {\n",
       "        vertical-align: middle;\n",
       "    }\n",
       "\n",
       "    .dataframe tbody tr th {\n",
       "        vertical-align: top;\n",
       "    }\n",
       "\n",
       "    .dataframe thead th {\n",
       "        text-align: right;\n",
       "    }\n",
       "</style>\n",
       "<table border=\"1\" class=\"dataframe\">\n",
       "  <thead>\n",
       "    <tr style=\"text-align: right;\">\n",
       "      <th>param</th>\n",
       "      <th>x1</th>\n",
       "      <th>x2</th>\n",
       "      <th>x3</th>\n",
       "    </tr>\n",
       "    <tr>\n",
       "      <th>h</th>\n",
       "      <th></th>\n",
       "      <th></th>\n",
       "      <th></th>\n",
       "    </tr>\n",
       "  </thead>\n",
       "  <tbody>\n",
       "    <tr>\n",
       "      <th>0.1</th>\n",
       "      <td>2.532258</td>\n",
       "      <td>2.555273</td>\n",
       "      <td>2.193087</td>\n",
       "    </tr>\n",
       "    <tr>\n",
       "      <th>0.2</th>\n",
       "      <td>2.517009</td>\n",
       "      <td>1.886561</td>\n",
       "      <td>2.192966</td>\n",
       "    </tr>\n",
       "    <tr>\n",
       "      <th>0.3</th>\n",
       "      <td>2.498010</td>\n",
       "      <td>1.042883</td>\n",
       "      <td>2.192949</td>\n",
       "    </tr>\n",
       "    <tr>\n",
       "      <th>0.4</th>\n",
       "      <td>2.475428</td>\n",
       "      <td>0.054558</td>\n",
       "      <td>2.193032</td>\n",
       "    </tr>\n",
       "    <tr>\n",
       "      <th>0.5</th>\n",
       "      <td>2.449472</td>\n",
       "      <td>-1.041330</td>\n",
       "      <td>2.193213</td>\n",
       "    </tr>\n",
       "    <tr>\n",
       "      <th>0.6</th>\n",
       "      <td>2.420388</td>\n",
       "      <td>-2.202352</td>\n",
       "      <td>2.193492</td>\n",
       "    </tr>\n",
       "    <tr>\n",
       "      <th>0.7</th>\n",
       "      <td>2.388463</td>\n",
       "      <td>-3.382391</td>\n",
       "      <td>2.193875</td>\n",
       "    </tr>\n",
       "    <tr>\n",
       "      <th>0.8</th>\n",
       "      <td>2.354013</td>\n",
       "      <td>-4.533451</td>\n",
       "      <td>2.194370</td>\n",
       "    </tr>\n",
       "    <tr>\n",
       "      <th>0.9</th>\n",
       "      <td>2.317387</td>\n",
       "      <td>-5.607577</td>\n",
       "      <td>2.194989</td>\n",
       "    </tr>\n",
       "  </tbody>\n",
       "</table>\n",
       "</div>"
      ],
      "text/plain": [
       "param        x1        x2        x3\n",
       "h                                  \n",
       "0.1    2.532258  2.555273  2.193087\n",
       "0.2    2.517009  1.886561  2.192966\n",
       "0.3    2.498010  1.042883  2.192949\n",
       "0.4    2.475428  0.054558  2.193032\n",
       "0.5    2.449472 -1.041330  2.193213\n",
       "0.6    2.420388 -2.202352  2.193492\n",
       "0.7    2.388463 -3.382391  2.193875\n",
       "0.8    2.354013 -4.533451  2.194370\n",
       "0.9    2.317387 -5.607577  2.194989"
      ]
     },
     "execution_count": 19,
     "metadata": {},
     "output_type": "execute_result"
    }
   ],
   "source": [
    "# overall covariogram calculation\n",
    "\n",
    "vars_pbar.update(1)\n",
    "vars_pbar.write('Covariogram (`cov`) calculated - access via .cov')\n",
    "\n",
    "covariogram_value = covariogram(pair_df, mu_overall)\n",
    "covariogram_value.unstack(level=0)"
   ]
  },
  {
   "cell_type": "code",
   "execution_count": 20,
   "id": "medical-separate",
   "metadata": {},
   "outputs": [
    {
     "name": "stdout",
     "output_type": "stream",
     "text": [
      "Expected value of covariogram (`ecov`) calculated - access via .ecov\n"
     ]
    },
    {
     "data": {
      "text/html": [
       "<div>\n",
       "<style scoped>\n",
       "    .dataframe tbody tr th:only-of-type {\n",
       "        vertical-align: middle;\n",
       "    }\n",
       "\n",
       "    .dataframe tbody tr th {\n",
       "        vertical-align: top;\n",
       "    }\n",
       "\n",
       "    .dataframe thead th {\n",
       "        text-align: right;\n",
       "    }\n",
       "</style>\n",
       "<table border=\"1\" class=\"dataframe\">\n",
       "  <thead>\n",
       "    <tr style=\"text-align: right;\">\n",
       "      <th>param</th>\n",
       "      <th>x1</th>\n",
       "      <th>x2</th>\n",
       "      <th>x3</th>\n",
       "    </tr>\n",
       "    <tr>\n",
       "      <th>h</th>\n",
       "      <th></th>\n",
       "      <th></th>\n",
       "      <th></th>\n",
       "    </tr>\n",
       "  </thead>\n",
       "  <tbody>\n",
       "    <tr>\n",
       "      <th>0.1</th>\n",
       "      <td>0.048206</td>\n",
       "      <td>2.064049</td>\n",
       "      <td>0.000049</td>\n",
       "    </tr>\n",
       "    <tr>\n",
       "      <th>0.2</th>\n",
       "      <td>0.031950</td>\n",
       "      <td>1.368743</td>\n",
       "      <td>0.000026</td>\n",
       "    </tr>\n",
       "    <tr>\n",
       "      <th>0.3</th>\n",
       "      <td>0.012943</td>\n",
       "      <td>0.524264</td>\n",
       "      <td>0.000005</td>\n",
       "    </tr>\n",
       "    <tr>\n",
       "      <th>0.4</th>\n",
       "      <td>-0.008639</td>\n",
       "      <td>-0.438263</td>\n",
       "      <td>-0.000015</td>\n",
       "    </tr>\n",
       "    <tr>\n",
       "      <th>0.5</th>\n",
       "      <td>-0.032586</td>\n",
       "      <td>-1.481585</td>\n",
       "      <td>-0.000034</td>\n",
       "    </tr>\n",
       "    <tr>\n",
       "      <th>0.6</th>\n",
       "      <td>-0.058656</td>\n",
       "      <td>-2.563760</td>\n",
       "      <td>-0.000055</td>\n",
       "    </tr>\n",
       "    <tr>\n",
       "      <th>0.7</th>\n",
       "      <td>-0.086574</td>\n",
       "      <td>-3.639797</td>\n",
       "      <td>-0.000078</td>\n",
       "    </tr>\n",
       "    <tr>\n",
       "      <th>0.8</th>\n",
       "      <td>-0.116039</td>\n",
       "      <td>-4.663456</td>\n",
       "      <td>-0.000104</td>\n",
       "    </tr>\n",
       "    <tr>\n",
       "      <th>0.9</th>\n",
       "      <td>-0.146724</td>\n",
       "      <td>-5.589107</td>\n",
       "      <td>-0.000136</td>\n",
       "    </tr>\n",
       "  </tbody>\n",
       "</table>\n",
       "</div>"
      ],
      "text/plain": [
       "param        x1        x2        x3\n",
       "h                                  \n",
       "0.1    0.048206  2.064049  0.000049\n",
       "0.2    0.031950  1.368743  0.000026\n",
       "0.3    0.012943  0.524264  0.000005\n",
       "0.4   -0.008639 -0.438263 -0.000015\n",
       "0.5   -0.032586 -1.481585 -0.000034\n",
       "0.6   -0.058656 -2.563760 -0.000055\n",
       "0.7   -0.086574 -3.639797 -0.000078\n",
       "0.8   -0.116039 -4.663456 -0.000104\n",
       "0.9   -0.146724 -5.589107 -0.000136"
      ]
     },
     "execution_count": 20,
     "metadata": {},
     "output_type": "execute_result"
    }
   ],
   "source": [
    "# expected value of the overall covariogram calculation\n",
    "\n",
    "vars_pbar.update(1)\n",
    "vars_pbar.write('Expected value of covariogram (`ecov`) calculated - access via .ecov')\n",
    "\n",
    "e_covariogram_value = e_covariogram(cov_section_all)\n",
    "e_covariogram_value.unstack(level=0)"
   ]
  },
  {
   "cell_type": "code",
   "execution_count": 21,
   "id": "known-singapore",
   "metadata": {},
   "outputs": [
    {
     "name": "stdout",
     "output_type": "stream",
     "text": [
      "Sobol ST (`st`) calculated - access via .st\n"
     ]
    },
    {
     "data": {
      "text/plain": [
       "param\n",
       "x1    0.019777\n",
       "x2    0.845912\n",
       "x3    0.000022\n",
       "dtype: float64"
      ]
     },
     "execution_count": 21,
     "metadata": {},
     "output_type": "execute_result"
    }
   ],
   "source": [
    "# sobol calculation\n",
    "\n",
    "vars_pbar.update(1)\n",
    "vars_pbar.write('Sobol ST (`st`) calculated - access via .st')\n",
    "\n",
    "sobol_value = sobol_eq(variogram_value, e_covariogram_value, var_overall, delta_h)\n",
    "sobol_value"
   ]
  },
  {
   "cell_type": "code",
   "execution_count": 22,
   "id": "sealed-council",
   "metadata": {},
   "outputs": [
    {
     "name": "stdout",
     "output_type": "stream",
     "text": [
      "IVARS (`ivars`) calculated - access via .ivars\n"
     ]
    },
    {
     "data": {
      "text/html": [
       "<div>\n",
       "<style scoped>\n",
       "    .dataframe tbody tr th:only-of-type {\n",
       "        vertical-align: middle;\n",
       "    }\n",
       "\n",
       "    .dataframe tbody tr th {\n",
       "        vertical-align: top;\n",
       "    }\n",
       "\n",
       "    .dataframe thead th {\n",
       "        text-align: right;\n",
       "    }\n",
       "</style>\n",
       "<table border=\"1\" class=\"dataframe\">\n",
       "  <thead>\n",
       "    <tr style=\"text-align: right;\">\n",
       "      <th></th>\n",
       "      <th>x1</th>\n",
       "      <th>x2</th>\n",
       "      <th>x3</th>\n",
       "    </tr>\n",
       "  </thead>\n",
       "  <tbody>\n",
       "    <tr>\n",
       "      <th>0.1</th>\n",
       "      <td>0.000186</td>\n",
       "      <td>0.007850</td>\n",
       "      <td>4.686609e-07</td>\n",
       "    </tr>\n",
       "    <tr>\n",
       "      <th>0.3</th>\n",
       "      <td>0.003566</td>\n",
       "      <td>0.153408</td>\n",
       "      <td>6.656532e-06</td>\n",
       "    </tr>\n",
       "    <tr>\n",
       "      <th>0.5</th>\n",
       "      <td>0.016002</td>\n",
       "      <td>0.692225</td>\n",
       "      <td>2.297963e-05</td>\n",
       "    </tr>\n",
       "  </tbody>\n",
       "</table>\n",
       "</div>"
      ],
      "text/plain": [
       "           x1        x2            x3\n",
       "0.1  0.000186  0.007850  4.686609e-07\n",
       "0.3  0.003566  0.153408  6.656532e-06\n",
       "0.5  0.016002  0.692225  2.297963e-05"
      ]
     },
     "execution_count": 22,
     "metadata": {},
     "output_type": "execute_result"
    }
   ],
   "source": [
    "# IVARS calculation\n",
    "\n",
    "vars_pbar.update(1)\n",
    "vars_pbar.write('IVARS (`ivars`) calculated - access via .ivars')\n",
    "\n",
    "ivars_values = [0.1, 0.3, 0.5]\n",
    "ivars_df = pd.DataFrame.from_dict({scale: variogram_value.groupby(level=0).apply(ivars, scale=scale, delta_h=delta_h) \\\n",
    "                      for scale in ivars_values}, 'index')\n",
    "ivars_df"
   ]
  },
  {
   "cell_type": "code",
   "execution_count": 23,
   "id": "determined-dispute",
   "metadata": {},
   "outputs": [],
   "source": [
    "vars_pbar.close()"
   ]
  },
  {
   "cell_type": "code",
   "execution_count": 24,
   "id": "cc50beb7-aa1e-419f-b6dd-25433e709ee6",
   "metadata": {},
   "outputs": [
    {
     "data": {
      "text/html": [
       "<div>\n",
       "<style scoped>\n",
       "    .dataframe tbody tr th:only-of-type {\n",
       "        vertical-align: middle;\n",
       "    }\n",
       "\n",
       "    .dataframe tbody tr th {\n",
       "        vertical-align: top;\n",
       "    }\n",
       "\n",
       "    .dataframe thead th {\n",
       "        text-align: right;\n",
       "    }\n",
       "</style>\n",
       "<table border=\"1\" class=\"dataframe\">\n",
       "  <thead>\n",
       "    <tr style=\"text-align: right;\">\n",
       "      <th></th>\n",
       "      <th>x1</th>\n",
       "      <th>x2</th>\n",
       "      <th>x3</th>\n",
       "    </tr>\n",
       "  </thead>\n",
       "  <tbody>\n",
       "    <tr>\n",
       "      <th></th>\n",
       "      <td>1</td>\n",
       "      <td>0</td>\n",
       "      <td>2</td>\n",
       "    </tr>\n",
       "  </tbody>\n",
       "</table>\n",
       "</div>"
      ],
      "text/plain": [
       "  x1  x2  x3\n",
       "   1   0   2"
      ]
     },
     "execution_count": 24,
     "metadata": {},
     "output_type": "execute_result"
    }
   ],
   "source": [
    "# calculating rankings of sobol and ivars\n",
    "sobol_ranking = factor_ranking(sobol_value)\n",
    "sobol_ranking_df = pd.DataFrame(data=[sobol_ranking], columns=param_names, index=[''])\n",
    "sobol_ranking_df"
   ]
  },
  {
   "cell_type": "code",
   "execution_count": 25,
   "id": "ff5c4b83-2074-45f5-86c6-e44804f33a21",
   "metadata": {},
   "outputs": [
    {
     "data": {
      "text/html": [
       "<div>\n",
       "<style scoped>\n",
       "    .dataframe tbody tr th:only-of-type {\n",
       "        vertical-align: middle;\n",
       "    }\n",
       "\n",
       "    .dataframe tbody tr th {\n",
       "        vertical-align: top;\n",
       "    }\n",
       "\n",
       "    .dataframe thead th {\n",
       "        text-align: right;\n",
       "    }\n",
       "</style>\n",
       "<table border=\"1\" class=\"dataframe\">\n",
       "  <thead>\n",
       "    <tr style=\"text-align: right;\">\n",
       "      <th></th>\n",
       "      <th>x1</th>\n",
       "      <th>x2</th>\n",
       "      <th>x3</th>\n",
       "    </tr>\n",
       "  </thead>\n",
       "  <tbody>\n",
       "    <tr>\n",
       "      <th>0.1</th>\n",
       "      <td>1</td>\n",
       "      <td>0</td>\n",
       "      <td>2</td>\n",
       "    </tr>\n",
       "    <tr>\n",
       "      <th>0.3</th>\n",
       "      <td>1</td>\n",
       "      <td>0</td>\n",
       "      <td>2</td>\n",
       "    </tr>\n",
       "    <tr>\n",
       "      <th>0.5</th>\n",
       "      <td>1</td>\n",
       "      <td>0</td>\n",
       "      <td>2</td>\n",
       "    </tr>\n",
       "  </tbody>\n",
       "</table>\n",
       "</div>"
      ],
      "text/plain": [
       "     x1  x2  x3\n",
       "0.1   1   0   2\n",
       "0.3   1   0   2\n",
       "0.5   1   0   2"
      ]
     },
     "execution_count": 25,
     "metadata": {},
     "output_type": "execute_result"
    }
   ],
   "source": [
    "ivars_ranking = []\n",
    "for scale in ivars_scales:\n",
    "    ivars_ranking.append(factor_ranking(ivars_df.loc[scale]))\n",
    "\n",
    "ivars_ranking_df = pd.DataFrame(data=ivars_ranking, columns=param_names, index=ivars_scales)\n",
    "ivars_ranking_df"
   ]
  },
  {
   "cell_type": "code",
   "execution_count": 26,
   "id": "brilliant-homework",
   "metadata": {},
   "outputs": [],
   "source": [
    "# bootstrapping to get CIs\n",
    "bootstrap_size = 1000\n",
    "\n",
    "# create result dataframes/series if bootstrapping is chosen to be done\n",
    "result_bs_variogram = pd.DataFrame()\n",
    "result_bs_sobol = pd.DataFrame()\n",
    "result_bs_ivars_df = pd.DataFrame()\n",
    "result_bs_sobol_ranking = pd.DataFrame()\n",
    "result_bs_ivars_ranking = pd.DataFrame()\n",
    "\n",
    "for _ in range(0, bootstrap_size):\n",
    "    ## specify random sequence by sampling with replacement\n",
    "    bootstrap_rand = np.random.choice(list(range(0,10)), size=len(range(0,10)), replace=True).tolist()\n",
    "    bootstrapped_pairdf = pd.concat([pair_df.loc[idx[i, :, :, :], :] for i in bootstrap_rand])\n",
    "    bootstrapped_df     = pd.concat([df.loc[idx[i, :, :], :] for i in bootstrap_rand])\n",
    "    #display(bootstrapped_pairdf)\n",
    "    #display(bootstrap_rand)\n",
    "\n",
    "    ## calculating sectional covariograms\n",
    "    bootstrapped_cov_section_all = pd.concat([cov_section_all.loc[idx[i, :]] for i in bootstrap_rand])\n",
    "    #display('sectional variogram:')\n",
    "    #display(bootstrapped_cov_section_all)\n",
    "    #display(bootstrap_rand)\n",
    "\n",
    "    ## calculating variogram, ecovariogram, variance, mean, Sobol, and IVARS values\n",
    "    bootstrapped_variogram = variogram(bootstrapped_pairdf)\n",
    "    #display('variogram:')\n",
    "    #display(bootstrapped_variogram.unstack(level=0))\n",
    "\n",
    "    bootstrapped_ecovariogram = e_covariogram(bootstrapped_cov_section_all)\n",
    "    #display('E(covariogram):')\n",
    "    #display(bootstrapped_ecovariogram.unstack(level=0))\n",
    "\n",
    "    bootstrapped_var = bootstrapped_df[ishigami.__name__].unique().var(ddof=1)\n",
    "    #display('variance:', bootstrapped_var)\n",
    "\n",
    "    bootstrapped_sobol = sobol_eq(bootstrapped_variogram, bootstrapped_ecovariogram, bootstrapped_var, delta_h)\n",
    "    #display('sobol:', bootstrapped_sobol)\n",
    "    \n",
    "    bootstrapped_sobol_ranking = factor_ranking(bootstrapped_sobol)\n",
    "    bootstrapped_sobol_ranking_df = pd.DataFrame(data=[bootstrapped_sobol_ranking], columns=param_names)\n",
    "\n",
    "    bootstrapped_ivars_df = pd.DataFrame.from_dict({scale: bootstrapped_variogram.groupby(level=0).apply(ivars, scale=scale, delta_h=delta_h) \\\n",
    "                                                    for scale in ivars_scales}, 'index')\n",
    "    \n",
    "    bootstrapped_ivars_ranking = []\n",
    "    for scale in ivars_scales:\n",
    "        bootstrapped_ivars_ranking.append(factor_ranking(ivars_df.loc[scale]))\n",
    "\n",
    "    bootstrapped_ivars_ranking_df = pd.DataFrame(data=ivars_ranking, columns=param_names, index=ivars_scales)\n",
    "    \n",
    "    #display('ivars:', boostrapped_ivars_df)\n",
    "    \n",
    "    # unstack variogram\n",
    "    bootstrapped_variogram_df = bootstrapped_variogram.unstack(level=0)\n",
    "    \n",
    "    # transpose sobol values for stacking of results\n",
    "    bootstrapped_sobol_df = bootstrapped_sobol.to_frame().transpose()\n",
    "    \n",
    "    # attatch new results to previous results (order does not matter here)\n",
    "    result_bs_variogram = pd.concat([bootstrapped_variogram_df, result_bs_variogram])\n",
    "    result_bs_sobol = pd.concat([bootstrapped_sobol_df, result_bs_sobol])\n",
    "    result_bs_ivars_df = pd.concat([bootstrapped_ivars_df, result_bs_ivars_df])\n",
    "    result_bs_sobol_ranking = pd.concat([bootstrapped_sobol_ranking_df, result_bs_sobol_ranking])\n",
    "    result_bs_ivars_ranking = pd.concat([bootstrapped_ivars_ranking_df, result_bs_ivars_ranking])"
   ]
  },
  {
   "cell_type": "markdown",
   "id": "proper-balance",
   "metadata": {},
   "source": [
    "___\n",
    "new bootstrapping - efficient but might result in memory leak"
   ]
  },
  {
   "cell_type": "code",
   "execution_count": null,
   "id": "foreign-psychiatry",
   "metadata": {},
   "outputs": [],
   "source": [
    "%%timeit\n",
    "bootstrap_rand = np.random.choice(list(range(0,10)), size=len(range(0,10*1000)), replace=True).tolist()\n",
    "b = pd.concat([pair_df.loc[idx[i, :, :, :], :] for i in bootstrap_rand])"
   ]
  },
  {
   "cell_type": "code",
   "execution_count": null,
   "id": "signed-blackberry",
   "metadata": {},
   "outputs": [],
   "source": [
    "%%timeit\n",
    "# large memory usage though just below this line\n",
    "a = pair_df.unstack(['param', 'h', 'pair_ind']).\\\n",
    "            sample(10*1000, replace=True).\\\n",
    "            stack(['param', 'h', 'pair_ind'])"
   ]
  },
  {
   "cell_type": "code",
   "execution_count": null,
   "id": "starting-marina",
   "metadata": {},
   "outputs": [],
   "source": [
    "# large memory usage though just below this line\n",
    "a = pair_df.unstack(['param', 'h', 'pair_ind']).\\\n",
    "            sample(10*1000, replace=True).\\\n",
    "            stack(['param', 'h', 'pair_ind'])\n",
    "\n",
    "# this one is efficient and does not result \n",
    "\n",
    "num_stars = 10\n",
    "num_bstrap = 1000\n",
    "bstrap_index = list(chain.from_iterable(repeat(e, pair_df.shape[0]) for e in range(int(num_bstrap))))"
   ]
  },
  {
   "cell_type": "code",
   "execution_count": null,
   "id": "square-france",
   "metadata": {},
   "outputs": [],
   "source": [
    "#taken from https://stackoverflow.com/a/57979836/5188208\n",
    "\n",
    "def _handle_insert_loc(loc, n):\n",
    "    \"\"\"\n",
    "    Computes the insert index from the right if loc is negative for a given size of n.\n",
    "    \"\"\"\n",
    "    return n + loc + 1 if loc < 0 else loc\n",
    "\n",
    "\n",
    "def add_index_level(old_index, value, name = None, loc = 0):\n",
    "    \"\"\"\n",
    "    Expand a (multi)index by adding a level to it.\n",
    "\n",
    "    :param old_index: The index to expand\n",
    "    :param name: The name of the new index level\n",
    "    :param value: Scalar or list-like, the values of the new index level\n",
    "    :param loc: Where to insert the level in the index, 0 is at the front, negative values count back from the rear end\n",
    "    :return: A new multi-index with the new level added\n",
    "    \"\"\"\n",
    "    loc = _handle_insert_loc(loc, len(old_index.names))\n",
    "    old_index_df = old_index.to_frame()\n",
    "    old_index_df.insert(loc, name, value)\n",
    "    new_index_names = list(old_index.names)  # sometimes new index level names are invented when converting to a df,\n",
    "    new_index_names.insert(loc, name)        # here the original names are reconstructed\n",
    "    new_index = pd.MultiIndex.from_frame(old_index_df, names=new_index_names)\n",
    "    return new_index"
   ]
  },
  {
   "cell_type": "code",
   "execution_count": null,
   "id": "manual-cross",
   "metadata": {},
   "outputs": [],
   "source": [
    "a.index = add_index_level(a.index, bstrap_index, 'bootstrap', loc=0)\n",
    "d = a.groupby('bootstrap')"
   ]
  },
  {
   "cell_type": "code",
   "execution_count": null,
   "id": "foster-usage",
   "metadata": {},
   "outputs": [],
   "source": [
    "d.apply(variogram)"
   ]
  },
  {
   "cell_type": "code",
   "execution_count": 27,
   "id": "7c446620-fd70-43b9-bc87-ec6fbc5bff1c",
   "metadata": {},
   "outputs": [
    {
     "data": {
      "text/html": [
       "<div>\n",
       "<style scoped>\n",
       "    .dataframe tbody tr th:only-of-type {\n",
       "        vertical-align: middle;\n",
       "    }\n",
       "\n",
       "    .dataframe tbody tr th {\n",
       "        vertical-align: top;\n",
       "    }\n",
       "\n",
       "    .dataframe thead th {\n",
       "        text-align: right;\n",
       "    }\n",
       "</style>\n",
       "<table border=\"1\" class=\"dataframe\">\n",
       "  <thead>\n",
       "    <tr style=\"text-align: right;\">\n",
       "      <th></th>\n",
       "      <th>x1</th>\n",
       "      <th>x2</th>\n",
       "      <th>x3</th>\n",
       "    </tr>\n",
       "  </thead>\n",
       "  <tbody>\n",
       "    <tr>\n",
       "      <th>0.1</th>\n",
       "      <td>0.000183</td>\n",
       "      <td>0.007673</td>\n",
       "      <td>3.195736e-07</td>\n",
       "    </tr>\n",
       "    <tr>\n",
       "      <th>0.3</th>\n",
       "      <td>0.003504</td>\n",
       "      <td>0.149410</td>\n",
       "      <td>4.524379e-06</td>\n",
       "    </tr>\n",
       "    <tr>\n",
       "      <th>0.5</th>\n",
       "      <td>0.015719</td>\n",
       "      <td>0.672098</td>\n",
       "      <td>1.551601e-05</td>\n",
       "    </tr>\n",
       "  </tbody>\n",
       "</table>\n",
       "</div>"
      ],
      "text/plain": [
       "           x1        x2            x3\n",
       "0.1  0.000183  0.007673  3.195736e-07\n",
       "0.3  0.003504  0.149410  4.524379e-06\n",
       "0.5  0.015719  0.672098  1.551601e-05"
      ]
     },
     "metadata": {},
     "output_type": "display_data"
    },
    {
     "data": {
      "text/html": [
       "<div>\n",
       "<style scoped>\n",
       "    .dataframe tbody tr th:only-of-type {\n",
       "        vertical-align: middle;\n",
       "    }\n",
       "\n",
       "    .dataframe tbody tr th {\n",
       "        vertical-align: top;\n",
       "    }\n",
       "\n",
       "    .dataframe thead th {\n",
       "        text-align: right;\n",
       "    }\n",
       "</style>\n",
       "<table border=\"1\" class=\"dataframe\">\n",
       "  <thead>\n",
       "    <tr style=\"text-align: right;\">\n",
       "      <th></th>\n",
       "      <th>x1</th>\n",
       "      <th>x2</th>\n",
       "      <th>x3</th>\n",
       "    </tr>\n",
       "  </thead>\n",
       "  <tbody>\n",
       "    <tr>\n",
       "      <th>0.1</th>\n",
       "      <td>0.000189</td>\n",
       "      <td>0.007976</td>\n",
       "      <td>6.491545e-07</td>\n",
       "    </tr>\n",
       "    <tr>\n",
       "      <th>0.3</th>\n",
       "      <td>0.003626</td>\n",
       "      <td>0.156250</td>\n",
       "      <td>9.243789e-06</td>\n",
       "    </tr>\n",
       "    <tr>\n",
       "      <th>0.5</th>\n",
       "      <td>0.016276</td>\n",
       "      <td>0.706532</td>\n",
       "      <td>3.201788e-05</td>\n",
       "    </tr>\n",
       "  </tbody>\n",
       "</table>\n",
       "</div>"
      ],
      "text/plain": [
       "           x1        x2            x3\n",
       "0.1  0.000189  0.007976  6.491545e-07\n",
       "0.3  0.003626  0.156250  9.243789e-06\n",
       "0.5  0.016276  0.706532  3.201788e-05"
      ]
     },
     "metadata": {},
     "output_type": "display_data"
    }
   ],
   "source": [
    "# calculate upper and lower confidence interval limits of the ivars values\n",
    "ivars_low = pd.DataFrame()\n",
    "ivars_upp = pd.DataFrame()\n",
    "for scale in ivars_scales:\n",
    "    ivars_low = pd.concat([ivars_low, result_bs_ivars_df.loc[scale].quantile((1-0.9)/2).rename(scale).to_frame()], axis=1)\n",
    "    ivars_upp = pd.concat([ivars_upp, result_bs_ivars_df.loc[scale].quantile(1-((1-0.9)/2)).rename(scale).to_frame()], axis=1)\n",
    "\n",
    "ivars_low = ivars_low.transpose()\n",
    "ivars_upp = ivars_upp.transpose()\n",
    "display(ivars_low)\n",
    "display(ivars_upp)"
   ]
  },
  {
   "cell_type": "code",
   "execution_count": 28,
   "id": "38bba42e-6d7c-4fe0-af9a-fdadb9ee491a",
   "metadata": {},
   "outputs": [
    {
     "data": {
      "text/html": [
       "<div>\n",
       "<style scoped>\n",
       "    .dataframe tbody tr th:only-of-type {\n",
       "        vertical-align: middle;\n",
       "    }\n",
       "\n",
       "    .dataframe tbody tr th {\n",
       "        vertical-align: top;\n",
       "    }\n",
       "\n",
       "    .dataframe thead th {\n",
       "        text-align: right;\n",
       "    }\n",
       "</style>\n",
       "<table border=\"1\" class=\"dataframe\">\n",
       "  <thead>\n",
       "    <tr style=\"text-align: right;\">\n",
       "      <th>param</th>\n",
       "      <th>x1</th>\n",
       "      <th>x2</th>\n",
       "      <th>x3</th>\n",
       "    </tr>\n",
       "    <tr>\n",
       "      <th>h</th>\n",
       "      <th></th>\n",
       "      <th></th>\n",
       "      <th></th>\n",
       "    </tr>\n",
       "  </thead>\n",
       "  <tbody>\n",
       "    <tr>\n",
       "      <th>0.1</th>\n",
       "      <td>0.003659</td>\n",
       "      <td>0.153459</td>\n",
       "      <td>0.000006</td>\n",
       "    </tr>\n",
       "    <tr>\n",
       "      <th>0.2</th>\n",
       "      <td>0.014735</td>\n",
       "      <td>0.626937</td>\n",
       "      <td>0.000020</td>\n",
       "    </tr>\n",
       "    <tr>\n",
       "      <th>0.3</th>\n",
       "      <td>0.033289</td>\n",
       "      <td>1.427406</td>\n",
       "      <td>0.000037</td>\n",
       "    </tr>\n",
       "    <tr>\n",
       "      <th>0.4</th>\n",
       "      <td>0.059263</td>\n",
       "      <td>2.542821</td>\n",
       "      <td>0.000055</td>\n",
       "    </tr>\n",
       "    <tr>\n",
       "      <th>0.5</th>\n",
       "      <td>0.092459</td>\n",
       "      <td>3.940723</td>\n",
       "      <td>0.000074</td>\n",
       "    </tr>\n",
       "    <tr>\n",
       "      <th>0.6</th>\n",
       "      <td>0.132585</td>\n",
       "      <td>5.568557</td>\n",
       "      <td>0.000096</td>\n",
       "    </tr>\n",
       "    <tr>\n",
       "      <th>0.7</th>\n",
       "      <td>0.179205</td>\n",
       "      <td>7.355842</td>\n",
       "      <td>0.000127</td>\n",
       "    </tr>\n",
       "    <tr>\n",
       "      <th>0.8</th>\n",
       "      <td>0.231777</td>\n",
       "      <td>9.218091</td>\n",
       "      <td>0.000173</td>\n",
       "    </tr>\n",
       "    <tr>\n",
       "      <th>0.9</th>\n",
       "      <td>0.289649</td>\n",
       "      <td>11.062189</td>\n",
       "      <td>0.000245</td>\n",
       "    </tr>\n",
       "  </tbody>\n",
       "</table>\n",
       "</div>"
      ],
      "text/plain": [
       "param        x1         x2        x3\n",
       "h                                   \n",
       "0.1    0.003659   0.153459  0.000006\n",
       "0.2    0.014735   0.626937  0.000020\n",
       "0.3    0.033289   1.427406  0.000037\n",
       "0.4    0.059263   2.542821  0.000055\n",
       "0.5    0.092459   3.940723  0.000074\n",
       "0.6    0.132585   5.568557  0.000096\n",
       "0.7    0.179205   7.355842  0.000127\n",
       "0.8    0.231777   9.218091  0.000173\n",
       "0.9    0.289649  11.062189  0.000245"
      ]
     },
     "metadata": {},
     "output_type": "display_data"
    },
    {
     "data": {
      "text/html": [
       "<div>\n",
       "<style scoped>\n",
       "    .dataframe tbody tr th:only-of-type {\n",
       "        vertical-align: middle;\n",
       "    }\n",
       "\n",
       "    .dataframe tbody tr th {\n",
       "        vertical-align: top;\n",
       "    }\n",
       "\n",
       "    .dataframe thead th {\n",
       "        text-align: right;\n",
       "    }\n",
       "</style>\n",
       "<table border=\"1\" class=\"dataframe\">\n",
       "  <thead>\n",
       "    <tr style=\"text-align: right;\">\n",
       "      <th>param</th>\n",
       "      <th>x1</th>\n",
       "      <th>x2</th>\n",
       "      <th>x3</th>\n",
       "    </tr>\n",
       "    <tr>\n",
       "      <th>h</th>\n",
       "      <th></th>\n",
       "      <th></th>\n",
       "      <th></th>\n",
       "    </tr>\n",
       "  </thead>\n",
       "  <tbody>\n",
       "    <tr>\n",
       "      <th>0.1</th>\n",
       "      <td>0.003785</td>\n",
       "      <td>0.159527</td>\n",
       "      <td>0.000013</td>\n",
       "    </tr>\n",
       "    <tr>\n",
       "      <th>0.2</th>\n",
       "      <td>0.015248</td>\n",
       "      <td>0.654683</td>\n",
       "      <td>0.000041</td>\n",
       "    </tr>\n",
       "    <tr>\n",
       "      <th>0.3</th>\n",
       "      <td>0.034462</td>\n",
       "      <td>1.496577</td>\n",
       "      <td>0.000076</td>\n",
       "    </tr>\n",
       "    <tr>\n",
       "      <th>0.4</th>\n",
       "      <td>0.061370</td>\n",
       "      <td>2.675357</td>\n",
       "      <td>0.000113</td>\n",
       "    </tr>\n",
       "    <tr>\n",
       "      <th>0.5</th>\n",
       "      <td>0.095782</td>\n",
       "      <td>4.158358</td>\n",
       "      <td>0.000153</td>\n",
       "    </tr>\n",
       "    <tr>\n",
       "      <th>0.6</th>\n",
       "      <td>0.137375</td>\n",
       "      <td>5.890248</td>\n",
       "      <td>0.000202</td>\n",
       "    </tr>\n",
       "    <tr>\n",
       "      <th>0.7</th>\n",
       "      <td>0.185695</td>\n",
       "      <td>7.795317</td>\n",
       "      <td>0.000267</td>\n",
       "    </tr>\n",
       "    <tr>\n",
       "      <th>0.8</th>\n",
       "      <td>0.240186</td>\n",
       "      <td>9.781823</td>\n",
       "      <td>0.000362</td>\n",
       "    </tr>\n",
       "    <tr>\n",
       "      <th>0.9</th>\n",
       "      <td>0.300173</td>\n",
       "      <td>11.748046</td>\n",
       "      <td>0.000509</td>\n",
       "    </tr>\n",
       "  </tbody>\n",
       "</table>\n",
       "</div>"
      ],
      "text/plain": [
       "param        x1         x2        x3\n",
       "h                                   \n",
       "0.1    0.003785   0.159527  0.000013\n",
       "0.2    0.015248   0.654683  0.000041\n",
       "0.3    0.034462   1.496577  0.000076\n",
       "0.4    0.061370   2.675357  0.000113\n",
       "0.5    0.095782   4.158358  0.000153\n",
       "0.6    0.137375   5.890248  0.000202\n",
       "0.7    0.185695   7.795317  0.000267\n",
       "0.8    0.240186   9.781823  0.000362\n",
       "0.9    0.300173  11.748046  0.000509"
      ]
     },
     "metadata": {},
     "output_type": "display_data"
    }
   ],
   "source": [
    "variogram_low = pd.DataFrame()\n",
    "variogram_upp = pd.DataFrame()\n",
    "for h in np.unique(result_bs_variogram.index.values).tolist():\n",
    "    variogram_low = pd.concat([variogram_low, result_bs_variogram.loc[h].quantile((1-0.9)/2).rename(h).to_frame()], axis=1)\n",
    "    variogram_upp = pd.concat([variogram_upp, result_bs_variogram.loc[h].quantile(1-((1-0.9)/2)).rename(h).to_frame()], axis=1)\n",
    "    \n",
    "variogram_low = variogram_low.transpose()\n",
    "variogram_upp = variogram_upp.transpose()\n",
    "\n",
    "variogram_low.index.names = ['h']\n",
    "variogram_upp.index.names = ['h']\n",
    "\n",
    "display(variogram_low)\n",
    "display(variogram_upp)"
   ]
  },
  {
   "cell_type": "code",
   "execution_count": 29,
   "id": "9bad1763-699b-48b2-be2f-79f780ef17e0",
   "metadata": {},
   "outputs": [
    {
     "data": {
      "text/html": [
       "<div>\n",
       "<style scoped>\n",
       "    .dataframe tbody tr th:only-of-type {\n",
       "        vertical-align: middle;\n",
       "    }\n",
       "\n",
       "    .dataframe tbody tr th {\n",
       "        vertical-align: top;\n",
       "    }\n",
       "\n",
       "    .dataframe thead th {\n",
       "        text-align: right;\n",
       "    }\n",
       "</style>\n",
       "<table border=\"1\" class=\"dataframe\">\n",
       "  <thead>\n",
       "    <tr style=\"text-align: right;\">\n",
       "      <th>param</th>\n",
       "      <th>x1</th>\n",
       "      <th>x2</th>\n",
       "      <th>x3</th>\n",
       "    </tr>\n",
       "  </thead>\n",
       "  <tbody>\n",
       "    <tr>\n",
       "      <th></th>\n",
       "      <td>0.017317</td>\n",
       "      <td>0.735027</td>\n",
       "      <td>0.000013</td>\n",
       "    </tr>\n",
       "  </tbody>\n",
       "</table>\n",
       "</div>"
      ],
      "text/plain": [
       "param        x1        x2        x3\n",
       "       0.017317  0.735027  0.000013"
      ]
     },
     "metadata": {},
     "output_type": "display_data"
    },
    {
     "data": {
      "text/html": [
       "<div>\n",
       "<style scoped>\n",
       "    .dataframe tbody tr th:only-of-type {\n",
       "        vertical-align: middle;\n",
       "    }\n",
       "\n",
       "    .dataframe tbody tr th {\n",
       "        vertical-align: top;\n",
       "    }\n",
       "\n",
       "    .dataframe thead th {\n",
       "        text-align: right;\n",
       "    }\n",
       "</style>\n",
       "<table border=\"1\" class=\"dataframe\">\n",
       "  <thead>\n",
       "    <tr style=\"text-align: right;\">\n",
       "      <th>param</th>\n",
       "      <th>x1</th>\n",
       "      <th>x2</th>\n",
       "      <th>x3</th>\n",
       "    </tr>\n",
       "  </thead>\n",
       "  <tbody>\n",
       "    <tr>\n",
       "      <th></th>\n",
       "      <td>0.025047</td>\n",
       "      <td>1.068822</td>\n",
       "      <td>0.000037</td>\n",
       "    </tr>\n",
       "  </tbody>\n",
       "</table>\n",
       "</div>"
      ],
      "text/plain": [
       "param        x1        x2        x3\n",
       "       0.025047  1.068822  0.000037"
      ]
     },
     "metadata": {},
     "output_type": "display_data"
    }
   ],
   "source": [
    "sobol_low = result_bs_sobol.quantile((1-0.9)/2).rename('').to_frame().transpose()\n",
    "sobol_upp = result_bs_sobol.quantile(1-((1-0.9)/2)).rename('').to_frame().transpose()\n",
    "                            \n",
    "display(sobol_low)\n",
    "display(sobol_upp)"
   ]
  },
  {
   "cell_type": "code",
   "execution_count": 30,
   "id": "ba023452-b5f2-4914-b6eb-d1bec211b996",
   "metadata": {},
   "outputs": [
    {
     "data": {
      "text/html": [
       "<div>\n",
       "<style scoped>\n",
       "    .dataframe tbody tr th:only-of-type {\n",
       "        vertical-align: middle;\n",
       "    }\n",
       "\n",
       "    .dataframe tbody tr th {\n",
       "        vertical-align: top;\n",
       "    }\n",
       "\n",
       "    .dataframe thead th {\n",
       "        text-align: right;\n",
       "    }\n",
       "</style>\n",
       "<table border=\"1\" class=\"dataframe\">\n",
       "  <thead>\n",
       "    <tr style=\"text-align: right;\">\n",
       "      <th></th>\n",
       "      <th>x1</th>\n",
       "      <th>x2</th>\n",
       "      <th>x3</th>\n",
       "    </tr>\n",
       "  </thead>\n",
       "  <tbody>\n",
       "    <tr>\n",
       "      <th></th>\n",
       "      <td>1.0</td>\n",
       "      <td>1.0</td>\n",
       "      <td>1.0</td>\n",
       "    </tr>\n",
       "  </tbody>\n",
       "</table>\n",
       "</div>"
      ],
      "text/plain": [
       "   x1   x2   x3\n",
       "  1.0  1.0  1.0"
      ]
     },
     "execution_count": 30,
     "metadata": {},
     "output_type": "execute_result"
    }
   ],
   "source": [
    "rel_sobol_results = []\n",
    "for param in param_names:\n",
    "    rel_sobol_results.append(result_bs_sobol_ranking[param].eq(sobol_ranking_df[param][0]).sum()/bootstrap_size)\n",
    "\n",
    "rel_sobol = pd.DataFrame([rel_sobol_results],  columns=param_names, index=[''])\n",
    "rel_sobol"
   ]
  },
  {
   "cell_type": "code",
   "execution_count": 31,
   "id": "e3c1dc13-d277-44c1-a33b-f5ee7d3c1b52",
   "metadata": {},
   "outputs": [
    {
     "data": {
      "text/plain": [
       "1"
      ]
     },
     "execution_count": 31,
     "metadata": {},
     "output_type": "execute_result"
    }
   ],
   "source": [
    "# small test to see if this works properly\n",
    "df = pd.DataFrame({'x1' : [2], 'x2' : [0], 'x3' : [1]}, index = [0])\n",
    "df\n",
    "df2 = pd.DataFrame({'x1' : [1, 0, 2, 2], 'x2' : [0, 0, 0, 0], 'x3' : [0, 3, 4, 1]}, index=[0, 0, 0, 0])\n",
    "df2.eq(df)['x3'].sum()"
   ]
  },
  {
   "cell_type": "code",
   "execution_count": 32,
   "id": "c7f75872-7a09-41f3-84b9-5aa718e1eb89",
   "metadata": {},
   "outputs": [
    {
     "data": {
      "text/html": [
       "<div>\n",
       "<style scoped>\n",
       "    .dataframe tbody tr th:only-of-type {\n",
       "        vertical-align: middle;\n",
       "    }\n",
       "\n",
       "    .dataframe tbody tr th {\n",
       "        vertical-align: top;\n",
       "    }\n",
       "\n",
       "    .dataframe thead th {\n",
       "        text-align: right;\n",
       "    }\n",
       "</style>\n",
       "<table border=\"1\" class=\"dataframe\">\n",
       "  <thead>\n",
       "    <tr style=\"text-align: right;\">\n",
       "      <th></th>\n",
       "      <th>x1</th>\n",
       "      <th>x2</th>\n",
       "      <th>x3</th>\n",
       "    </tr>\n",
       "  </thead>\n",
       "  <tbody>\n",
       "    <tr>\n",
       "      <th>0.1</th>\n",
       "      <td>1.0</td>\n",
       "      <td>1.0</td>\n",
       "      <td>1.0</td>\n",
       "    </tr>\n",
       "    <tr>\n",
       "      <th>0.3</th>\n",
       "      <td>1.0</td>\n",
       "      <td>1.0</td>\n",
       "      <td>1.0</td>\n",
       "    </tr>\n",
       "    <tr>\n",
       "      <th>0.5</th>\n",
       "      <td>1.0</td>\n",
       "      <td>1.0</td>\n",
       "      <td>1.0</td>\n",
       "    </tr>\n",
       "  </tbody>\n",
       "</table>\n",
       "</div>"
      ],
      "text/plain": [
       "      x1   x2   x3\n",
       "0.1  1.0  1.0  1.0\n",
       "0.3  1.0  1.0  1.0\n",
       "0.5  1.0  1.0  1.0"
      ]
     },
     "execution_count": 32,
     "metadata": {},
     "output_type": "execute_result"
    }
   ],
   "source": [
    "# calculate relibability estimate based on ivars factor rankings\n",
    "rel_ivars_results = []\n",
    "for param in param_names:\n",
    "    rel_ivars_results_scale = []\n",
    "    for scale in ivars_scales:\n",
    "        rel_ivars_results_scale.append(result_bs_ivars_ranking[param].loc[scale].eq(ivars_ranking_df[param].loc[scale]).sum()/bootstrap_size)\n",
    "    rel_ivars_results.append(rel_ivars_results_scale)\n",
    "\n",
    "rel_ivars = pd.DataFrame(rel_ivars_results,  columns=ivars_scales, index=param_names)\n",
    "# tranpose to get data in right format\n",
    "rel_ivars = rel_ivars.transpose()\n",
    "\n",
    "rel_ivars"
   ]
  },
  {
   "cell_type": "code",
   "execution_count": 33,
   "id": "bd398d78-5eba-41ae-ae85-5d385d26d6fe",
   "metadata": {},
   "outputs": [],
   "source": [
    "import scipy.stats as stat\n",
    "import scipy.cluster.hierarchy as hchy\n",
    "import scipy.spatial.distance as dist\n",
    "from matplotlib import pyplot as plt\n",
    "from itertools import compress"
   ]
  },
  {
   "cell_type": "code",
   "execution_count": 34,
   "id": "ba96ed6e-bec9-4541-8f50-845d8ed59ecb",
   "metadata": {},
   "outputs": [],
   "source": [
    "def factor_grouping(sens_idx, num_grp=None):\n",
    "    [m, n] = sens_idx.shape\n",
    "\n",
    "    # make data 1d\n",
    "    R = sens_idx.stack()\n",
    "    # replacing zeros with a constant number due to numerical reasoning\n",
    "    R[R == 0] = np.ones(len(R[R == 0]))\n",
    "\n",
    "    # do a box-cox transformation\n",
    "    [TRANSDAT, LAMBDA] = stat.boxcox(R)\n",
    "    if LAMBDA <= 0.0099:\n",
    "        TRANSDAT = np.log(R)\n",
    "\n",
    "    indices = np.argwhere(np.isinf(TRANSDAT).tolist())\n",
    "    if indices.shape == (2, 1):\n",
    "        TRANSDAT[indices[0], indices[1]] = np.log(R[R > 0])\n",
    "\n",
    "    # reshape data for the linkage calculation\n",
    "    S = np.reshape(TRANSDAT.tolist(), [n, m])\n",
    "    \n",
    "    # Agglomerative hierarchical cluster\n",
    "    Z = hchy.linkage(S, method='ward', metric='euclidean')\n",
    "    \n",
    "    # Optimal group number\n",
    "    Clusters = []\n",
    "    for i in range(2, n+1):\n",
    "        Clusters.append(hchy.fcluster(Z, criterion='maxclust', t=i))\n",
    "    # if user gives the group number preform calculations\n",
    "    if num_grp:\n",
    "        rank_grp = hchy.fcluster(Z, criterion='maxclust', t=num_grp)\n",
    "        optm_num_grp = num_grp\n",
    "        nn = 1\n",
    "        id = len(Z)\n",
    "        while nn != optm_num_grp:\n",
    "            cutoff = Z[id-1][2]\n",
    "            rank_grp = hchy.fcluster(Z, criterion='distance', t=cutoff)\n",
    "            nn = np.amax(rank_grp)\n",
    "            id = id - 1\n",
    "\n",
    "        clrThrshl = 0.5*(Z[id][2] + Z[id+1][2])\n",
    "    # if user does not give optimal group number use elbow method\n",
    "    else:\n",
    "        cutoff, clrThrshl = elbow_method(Z)\n",
    "        rank_grp = hchy.fcluster(Z, criterion='distance', t=cutoff)\n",
    "        optm_num_grp = max(rank_grp)\n",
    "        \n",
    "    \n",
    "    #*** this part can be edited once we start working on plots\n",
    "    #fig = plt.figure(figsize=(25,10))\n",
    "    #dn = hchy.dendrogram(Z)\n",
    "    #plt.show()\n",
    "    \n",
    "    return optm_num_grp, rank_grp, Clusters\n",
    "    "
   ]
  },
  {
   "cell_type": "code",
   "execution_count": 35,
   "id": "ca9c5ea3-91b7-4785-93d5-6a6d193dec29",
   "metadata": {},
   "outputs": [],
   "source": [
    "def elbow_method(Z):\n",
    "    Q1 = np.array([1, Z[0][2]])\n",
    "    Q2 = np.array([len(Z), Z[-1][2]])\n",
    "    \n",
    "    d = []\n",
    "    for i in range(0, len(Z) - 2):\n",
    "        P = [i+1, Z[i][2]]\n",
    "        d.append(np.abs(np.linalg.det(np.array([[Q2 - Q1], [P-Q1]])))/np.linalg.norm(Q2-Q1))\n",
    "    id = d.index(max(d))\n",
    "    cutoff = Z[id][2]\n",
    "    clrThrshl = 0.5*(Z[id][2] + Z[id+1][2])\n",
    "    \n",
    "    return cutoff, clrThrshl"
   ]
  },
  {
   "cell_type": "code",
   "execution_count": 36,
   "id": "a7ae9cf7-e0a3-42fb-af98-eb9aa6599f69",
   "metadata": {},
   "outputs": [
    {
     "data": {
      "text/plain": [
       "2"
      ]
     },
     "metadata": {},
     "output_type": "display_data"
    },
    {
     "data": {
      "text/plain": [
       "2"
      ]
     },
     "metadata": {},
     "output_type": "display_data"
    },
    {
     "data": {
      "text/plain": [
       "array([1, 1, 2], dtype=int32)"
      ]
     },
     "metadata": {},
     "output_type": "display_data"
    },
    {
     "data": {
      "text/plain": [
       "array([1, 1, 2], dtype=int32)"
      ]
     },
     "metadata": {},
     "output_type": "display_data"
    },
    {
     "data": {
      "text/plain": [
       "[array([1, 1, 1], dtype=int32), array([1, 1, 1], dtype=int32)]"
      ]
     },
     "metadata": {},
     "output_type": "display_data"
    },
    {
     "data": {
      "text/plain": [
       "[array([1, 1, 1], dtype=int32), array([1, 1, 1], dtype=int32)]"
      ]
     },
     "metadata": {},
     "output_type": "display_data"
    }
   ],
   "source": [
    "# grouping\n",
    "num_grp_ivars50, ivars50_grp_array, ClustersIvars50 = factor_grouping(result_bs_ivars_df.loc[0.5], num_grp=2)\n",
    "num_grp_sobol, sobol_grp_array, ClustersSobol = factor_grouping(result_bs_sobol, num_grp=2)\n",
    "\n",
    "display(num_grp_ivars50)\n",
    "display(num_grp_sobol)\n",
    "\n",
    "display(ivars50_grp_array)\n",
    "display(sobol_grp_array)\n",
    "\n",
    "display(ClustersIvars50)\n",
    "display(ClustersSobol)"
   ]
  },
  {
   "cell_type": "code",
   "execution_count": 37,
   "id": "f34b77eb-1992-4dae-b9d5-a4b082e980f0",
   "metadata": {},
   "outputs": [
    {
     "data": {
      "text/plain": [
       "[array([0, 1], dtype=int64), array([2], dtype=int64)]"
      ]
     },
     "metadata": {},
     "output_type": "display_data"
    },
    {
     "data": {
      "text/plain": [
       "[array([0, 1], dtype=int64), array([2], dtype=int64)]"
      ]
     },
     "metadata": {},
     "output_type": "display_data"
    }
   ],
   "source": [
    "# Reliability estimates of group\n",
    "cluster_sobol = []\n",
    "cluster_rank_sobol = []\n",
    "for g in range(0, num_grp_sobol):\n",
    "    cluster_sobol.append(np.argwhere(sobol_grp_array==g + 1).flatten())\n",
    "    cluster_rank_sobol.append(sobol_ranking_df.to_numpy().flatten()[cluster_sobol[g]])\n",
    "    cluster_rank_sobol[g] = np.sort(cluster_rank_sobol[g], axis=0)\n",
    "\n",
    "display(cluster_sobol)\n",
    "display(cluster_rank_sobol)"
   ]
  },
  {
   "cell_type": "code",
   "execution_count": 38,
   "id": "882d9ea1-2e56-4e96-8653-ec041fad5f20",
   "metadata": {},
   "outputs": [
    {
     "data": {
      "text/plain": [
       "[array([0, 1], dtype=int64), array([2], dtype=int64)]"
      ]
     },
     "metadata": {},
     "output_type": "display_data"
    },
    {
     "data": {
      "text/plain": [
       "[array([0, 1], dtype=int64), array([2], dtype=int64)]"
      ]
     },
     "metadata": {},
     "output_type": "display_data"
    }
   ],
   "source": [
    "cluster_ivars50 = []\n",
    "cluster_rank_ivars50 = []\n",
    "for g in range(0, num_grp_ivars50):\n",
    "    cluster_ivars50.append(np.argwhere(ivars50_grp_array==g + 1).flatten())\n",
    "    cluster_rank_ivars50.append(ivars_ranking_df.loc[0.5].to_numpy()[cluster_ivars50[g]])\n",
    "    cluster_rank_ivars50[g] = np.sort(cluster_rank_ivars50[g], axis=0)\n",
    "\n",
    "display(cluster_ivars50)\n",
    "display(cluster_rank_ivars50)"
   ]
  },
  {
   "cell_type": "code",
   "execution_count": 39,
   "id": "b3773c66-b051-4300-96e2-81fd56abf029",
   "metadata": {},
   "outputs": [
    {
     "data": {
      "text/html": [
       "<div>\n",
       "<style scoped>\n",
       "    .dataframe tbody tr th:only-of-type {\n",
       "        vertical-align: middle;\n",
       "    }\n",
       "\n",
       "    .dataframe tbody tr th {\n",
       "        vertical-align: top;\n",
       "    }\n",
       "\n",
       "    .dataframe thead th {\n",
       "        text-align: right;\n",
       "    }\n",
       "</style>\n",
       "<table border=\"1\" class=\"dataframe\">\n",
       "  <thead>\n",
       "    <tr style=\"text-align: right;\">\n",
       "      <th></th>\n",
       "      <th>x1</th>\n",
       "      <th>x2</th>\n",
       "      <th>x3</th>\n",
       "    </tr>\n",
       "  </thead>\n",
       "  <tbody>\n",
       "    <tr>\n",
       "      <th></th>\n",
       "      <td>1.0</td>\n",
       "      <td>1.0</td>\n",
       "      <td>1.0</td>\n",
       "    </tr>\n",
       "  </tbody>\n",
       "</table>\n",
       "</div>"
      ],
      "text/plain": [
       "   x1   x2   x3\n",
       "  1.0  1.0  1.0"
      ]
     },
     "metadata": {},
     "output_type": "display_data"
    },
    {
     "data": {
      "text/html": [
       "<div>\n",
       "<style scoped>\n",
       "    .dataframe tbody tr th:only-of-type {\n",
       "        vertical-align: middle;\n",
       "    }\n",
       "\n",
       "    .dataframe tbody tr th {\n",
       "        vertical-align: top;\n",
       "    }\n",
       "\n",
       "    .dataframe thead th {\n",
       "        text-align: right;\n",
       "    }\n",
       "</style>\n",
       "<table border=\"1\" class=\"dataframe\">\n",
       "  <thead>\n",
       "    <tr style=\"text-align: right;\">\n",
       "      <th></th>\n",
       "      <th>x1</th>\n",
       "      <th>x2</th>\n",
       "      <th>x3</th>\n",
       "    </tr>\n",
       "  </thead>\n",
       "  <tbody>\n",
       "    <tr>\n",
       "      <th>0.5</th>\n",
       "      <td>1.0</td>\n",
       "      <td>1.0</td>\n",
       "      <td>1.0</td>\n",
       "    </tr>\n",
       "  </tbody>\n",
       "</table>\n",
       "</div>"
      ],
      "text/plain": [
       "      x1   x2   x3\n",
       "0.5  1.0  1.0  1.0"
      ]
     },
     "metadata": {},
     "output_type": "display_data"
    }
   ],
   "source": [
    "\n",
    "reli_sobol_grp_array = np.zeros(len(param_names))\n",
    "reli_ivars50_grp_array = np.zeros(len(param_names))\n",
    "for D in range (0, len(param_names)):\n",
    "    match = [np.argwhere(cluster_sobol[x]==D).flatten() for x in range(0, len(cluster_sobol))]\n",
    "    rank_range_sobol = [(match[x].size != 0) for x in range(0, len(match))]\n",
    "    rank_sobol_benchmark = list(compress(cluster_rank_sobol, rank_range_sobol))\n",
    "    rank_sobol_benchmark = rank_sobol_benchmark[0]\n",
    "    \n",
    "    match = [np.argwhere(cluster_ivars50[x]==D).flatten() for x in range(0, len(cluster_ivars50))]\n",
    "    rank_range_ivars50 = [(match[x].size != 0) for x in range(0, len(match))]\n",
    "    rank_ivars50_benchmark = list(compress(cluster_rank_ivars50, rank_range_ivars50))\n",
    "    rank_ivars50_benchmark = rank_ivars50_benchmark[0]\n",
    "    \n",
    "    # calculate the reliability of paramter number D\n",
    "    reli_sobol = 0\n",
    "    reli_ivars50 = 0\n",
    "    for i in range(0, bootstrap_size):\n",
    "        reli_sobol += len(np.argwhere(result_bs_sobol_ranking.iloc[i, D] == rank_sobol_benchmark))/bootstrap_size\n",
    "        reli_ivars50 += len(np.argwhere(result_bs_ivars_ranking.loc[0.5].iloc[i, D] == rank_ivars50_benchmark))/bootstrap_size\n",
    "        \n",
    "    reli_sobol_grp_array[D] = reli_sobol\n",
    "    reli_ivars50_grp_array[D] = reli_ivars50\n",
    "\n",
    "reli_sobol_grp = pd.DataFrame([reli_sobol_grp_array], columns=param_names, index=[''])\n",
    "reli_ivars50_grp = pd.DataFrame([reli_ivars50_grp_array], columns=param_names, index=[0.5])\n",
    "    \n",
    "display(reli_sobol_grp)\n",
    "display(reli_ivars50_grp)"
   ]
  },
  {
   "cell_type": "code",
   "execution_count": 40,
   "id": "294a5e2c-116c-40a5-9ff5-c12f795bc097",
   "metadata": {},
   "outputs": [
    {
     "data": {
      "text/plain": [
       "array([2, 2, 1], dtype=int32)"
      ]
     },
     "metadata": {},
     "output_type": "display_data"
    },
    {
     "data": {
      "text/plain": [
       "array([2, 2, 1], dtype=int32)"
      ]
     },
     "metadata": {},
     "output_type": "display_data"
    }
   ],
   "source": [
    "# change the ordering of the groups to match matlab style\n",
    "numgrp = 2\n",
    "for i in range(0, len(ivars50_grp_array)):\n",
    "    ivars50_grp_array[i] = np.abs(ivars50_grp_array[i] - numgrp) + 1\n",
    "   \n",
    "for i in range(0, len(sobol_grp_array)):\n",
    "    sobol_grp_array[i] = np.abs(sobol_grp_array[i] - numgrp) + 1  \n",
    "    \n",
    "display(ivars50_grp_array)\n",
    "display(sobol_grp_array)"
   ]
  },
  {
   "cell_type": "code",
   "execution_count": 41,
   "id": "e4228c95-0f9d-4a80-8f57-a511abc86588",
   "metadata": {},
   "outputs": [
    {
     "data": {
      "text/html": [
       "<div>\n",
       "<style scoped>\n",
       "    .dataframe tbody tr th:only-of-type {\n",
       "        vertical-align: middle;\n",
       "    }\n",
       "\n",
       "    .dataframe tbody tr th {\n",
       "        vertical-align: top;\n",
       "    }\n",
       "\n",
       "    .dataframe thead th {\n",
       "        text-align: right;\n",
       "    }\n",
       "</style>\n",
       "<table border=\"1\" class=\"dataframe\">\n",
       "  <thead>\n",
       "    <tr style=\"text-align: right;\">\n",
       "      <th></th>\n",
       "      <th>x1</th>\n",
       "      <th>x2</th>\n",
       "      <th>x3</th>\n",
       "    </tr>\n",
       "  </thead>\n",
       "  <tbody>\n",
       "    <tr>\n",
       "      <th>0.5</th>\n",
       "      <td>2</td>\n",
       "      <td>2</td>\n",
       "      <td>1</td>\n",
       "    </tr>\n",
       "  </tbody>\n",
       "</table>\n",
       "</div>"
      ],
      "text/plain": [
       "     x1  x2  x3\n",
       "0.5   2   2   1"
      ]
     },
     "metadata": {},
     "output_type": "display_data"
    },
    {
     "data": {
      "text/html": [
       "<div>\n",
       "<style scoped>\n",
       "    .dataframe tbody tr th:only-of-type {\n",
       "        vertical-align: middle;\n",
       "    }\n",
       "\n",
       "    .dataframe tbody tr th {\n",
       "        vertical-align: top;\n",
       "    }\n",
       "\n",
       "    .dataframe thead th {\n",
       "        text-align: right;\n",
       "    }\n",
       "</style>\n",
       "<table border=\"1\" class=\"dataframe\">\n",
       "  <thead>\n",
       "    <tr style=\"text-align: right;\">\n",
       "      <th></th>\n",
       "      <th>x1</th>\n",
       "      <th>x2</th>\n",
       "      <th>x3</th>\n",
       "    </tr>\n",
       "  </thead>\n",
       "  <tbody>\n",
       "    <tr>\n",
       "      <th></th>\n",
       "      <td>2</td>\n",
       "      <td>2</td>\n",
       "      <td>1</td>\n",
       "    </tr>\n",
       "  </tbody>\n",
       "</table>\n",
       "</div>"
      ],
      "text/plain": [
       "  x1  x2  x3\n",
       "   2   2   1"
      ]
     },
     "metadata": {},
     "output_type": "display_data"
    }
   ],
   "source": [
    "# display groups\n",
    "ivars50_grps = pd.DataFrame([ivars50_grp_array], columns=param_names, index=[0.5])\n",
    "sobol_grps = pd.DataFrame([sobol_grp_array], columns=param_names, index=[''])\n",
    "\n",
    "display(ivars50_grps)\n",
    "display(sobol_grps)"
   ]
  },
  {
   "cell_type": "code",
   "execution_count": 42,
   "id": "f73919e4-dd5c-4a35-b992-0d0a87e18693",
   "metadata": {},
   "outputs": [
    {
     "data": {
      "text/plain": [
       "121530491"
      ]
     },
     "execution_count": 42,
     "metadata": {},
     "output_type": "execute_result"
    }
   ],
   "source": [
    "# create a random int for the default seed\n",
    "np.random.randint(1, 123456790)\n"
   ]
  },
  {
   "cell_type": "code",
   "execution_count": 43,
   "id": "dc9728bd-1fe6-4727-8443-b217f3aaabc5",
   "metadata": {},
   "outputs": [
    {
     "data": {
      "text/plain": [
       "<AxesSubplot:xlabel='Perturbation Scale, h', ylabel='Variogram, $\\\\gamma$(h)'>"
      ]
     },
     "execution_count": 43,
     "metadata": {},
     "output_type": "execute_result"
    },
    {
     "data": {
      "image/png": "[encoded data removed]",
      "text/plain": [
       "<Figure size 432x288 with 1 Axes>"
      ]
     },
     "metadata": {
      "needs_background": "light"
     },
     "output_type": "display_data"
    }
   ],
   "source": [
    "ymax = variogram_value.unstack(0).loc[0:0.6].max().max()\n",
    "variogram_value.unstack(0).plot(xlabel='Perturbation Scale, h', ylabel='Variogram, $\\gamma$(h)', xlim=(0,0.5), ylim=(0, ymax), marker='o')"
   ]
  },
  {
   "cell_type": "code",
   "execution_count": 95,
   "id": "a38bc8be-eca8-4925-b7ef-209202bba922",
   "metadata": {},
   "outputs": [
    {
     "data": {
      "text/plain": [
       "param\n",
       "x1    0.022845\n",
       "x2    0.977129\n",
       "x3    0.000026\n",
       "dtype: float64"
      ]
     },
     "metadata": {},
     "output_type": "display_data"
    },
    {
     "data": {
      "text/plain": [
       "x1    0.022594\n",
       "x2    0.977374\n",
       "x3    0.000032\n",
       "Name: 0.5, dtype: float64"
      ]
     },
     "metadata": {},
     "output_type": "display_data"
    }
   ],
   "source": [
    "# normalize data using mean normalization\n",
    "df1 = morris_values[0].unstack(0).iloc[0]\n",
    "df2 = sobol_value\n",
    "df3 = ivars_df.loc[0.5]\n",
    "\n",
    "normalized_maee = df1/df1.sum()\n",
    "normalized_sobol = df2/df2.sum()\n",
    "normalized_ivars50 = df3/df3.sum()\n",
    "display(normalized_sobol)\n",
    "display(normalized_ivars50)"
   ]
  },
  {
   "cell_type": "code",
   "execution_count": 92,
   "id": "ab8a8997-c7d8-4085-92b0-a42dae3f58c1",
   "metadata": {},
   "outputs": [
    {
     "data": {
      "text/plain": [
       "array([[4.00348167e-04, 2.84172511e-02, 1.05381205e-05],\n",
       "       [3.86139878e-04, 2.02009004e-02, 1.27613845e-05]])"
      ]
     },
     "metadata": {},
     "output_type": "display_data"
    },
    {
     "data": {
      "text/plain": [
       "array([[2.84263448e-03, 1.28085441e-01, 1.02072365e-05],\n",
       "       [6.08709900e-03, 2.57488066e-01, 1.65302469e-05]])"
      ]
     },
     "metadata": {},
     "output_type": "display_data"
    }
   ],
   "source": [
    "# if bootstrapping is a thing compute bar chart confidence intervals\n",
    "# not sure if this will be included in code\n",
    "ivars50_err_upp = ivars_upp.loc[0.5]/df3.sum()\n",
    "ivars50_err_low = ivars_low.loc[0.5]/df3.sum()\n",
    "sobol_err_upp = (sobol_upp/df2.to_numpy().sum()).to_numpy().flatten()\n",
    "sobol_err_low = (sobol_low/df2.to_numpy().sum()).to_numpy().flatten()\n",
    "\n",
    "# subtract from normalized values so that error bars work properly\n",
    "ivars50_err_upp = np.abs(ivars50_err_upp - normalized_ivars50)\n",
    "ivars50_err_low = np.abs(ivars50_err_low - normalized_ivars50)\n",
    "sobol_err_upp = np.abs(sobol_err_upp - normalized_sobol)\n",
    "sobol_err_low = np.abs(sobol_err_low - normalized_sobol)\n",
    "\n",
    "ivars50_err = np.array([ivars50_err_low, ivars50_err_upp])\n",
    "sobol_err = np.array([sobol_err_low, sobol_err_upp])\n",
    "\n",
    "display(ivars50_err)\n",
    "display(sobol_err)"
   ]
  },
  {
   "cell_type": "code",
   "execution_count": 93,
   "id": "fcdc9711-efeb-48f7-8289-f8b792b41cea",
   "metadata": {},
   "outputs": [
    {
     "data": {
      "image/png": "[encoded data removed]",
      "text/plain": [
       "<Figure size 432x288 with 1 Axes>"
      ]
     },
     "metadata": {
      "needs_background": "light"
     },
     "output_type": "display_data"
    }
   ],
   "source": [
    "# create barchart\n",
    "x = np.arange(len(param_names))  # the label locations\n",
    "width = 0.1  # the width of the bars\n",
    "\n",
    "fig, ax = plt.subplots()\n",
    "rects1 = ax.bar(x - width, normalized_maee, width, label='VARS-ABE (Morris)')\n",
    "rects2 = ax.bar(x, normalized_ivars50, width, label='IVARS50', yerr=ivars50_err)\n",
    "rects3 = ax.bar(x + width, normalized_sobol, width, label='VARS-TO (Sobol)', yerr=sobol_err)\n",
    "\n",
    "# Add some text for labels, and custom x-axis tick labels, etc.\n",
    "ax.set_ylabel('Ratio of Factor Importance')\n",
    "ax.set_xlabel('Factor')\n",
    "ax.set_xticks(x)\n",
    "ax.set_xticklabels(param_names)\n",
    "ax.legend()\n",
    "\n",
    "fig.tight_layout()\n",
    "\n",
    "plt.show()"
   ]
  },
  {
   "cell_type": "code",
   "execution_count": 12,
   "id": "f12b6fa1-782d-4793-8909-0814debf4034",
   "metadata": {},
   "outputs": [
    {
     "data": {
      "text/plain": [
       "<pandas.core.indexing._IndexSlice at 0x24435825070>"
      ]
     },
     "execution_count": 12,
     "metadata": {},
     "output_type": "execute_result"
    }
   ],
   "source": [
    "idx"
   ]
  },
  {
   "cell_type": "code",
   "execution_count": null,
   "id": "14e27055-b23f-4c7f-a0db-49b09b0008c5",
   "metadata": {},
   "outputs": [],
   "source": []
  }
 ],
 "metadata": {
  "kernelspec": {
   "display_name": "Python 3",
   "language": "python",
   "name": "python3"
  },
  "language_info": {
   "codemirror_mode": {
    "name": "ipython",
    "version": 3
   },
   "file_extension": ".py",
   "mimetype": "text/x-python",
   "name": "python",
   "nbconvert_exporter": "python",
   "pygments_lexer": "ipython3",
   "version": "3.8.8"
  }
 },
 "nbformat": 4,
 "nbformat_minor": 5
}
