{
 "cells": [
  {
   "cell_type": "code",
   "execution_count": null,
   "id": "inclusive-scholar",
   "metadata": {},
   "outputs": [],
   "source": [
    "import numpy as np"
   ]
  },
  {
   "cell_type": "code",
   "execution_count": null,
   "id": "micro-mobility",
   "metadata": {},
   "outputs": [],
   "source": [
    "def sobol_sequence(sp:int, params:int, seed:int=None, scramble:bool=True) -> numpy.ndarray:\n",
    "    \n",
    "    return\n",
    "\n",
    "def _sobol_scramble(arr:np.ndarray):\n",
    "    \n",
    "    return\n",
    "\n",
    "def _"
   ]
  },
  {
   "cell_type": "code",
   "execution_count": null,
   "id": "balanced-intention",
   "metadata": {},
   "outputs": [],
   "source": []
  }
 ],
 "metadata": {
  "kernelspec": {
   "display_name": "Python 3",
   "language": "python",
   "name": "python3"
  },
  "language_info": {
   "codemirror_mode": {
    "name": "ipython",
    "version": 3
   },
   "file_extension": ".py",
   "mimetype": "text/x-python",
   "name": "python",
   "nbconvert_exporter": "python",
   "pygments_lexer": "ipython3",
   "version": "3.7.10"
  }
 },
 "nbformat": 4,
 "nbformat_minor": 5
}
