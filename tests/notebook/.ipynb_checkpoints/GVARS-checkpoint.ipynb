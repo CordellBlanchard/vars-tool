{
 "cells": [
  {
   "cell_type": "code",
   "execution_count": 1,
   "id": "965cc71f-c5e9-4c62-b596-29ed91199872",
   "metadata": {},
   "outputs": [],
   "source": [
    "import numpy as np\n",
    "import pandas as pd"
   ]
  },
  {
   "cell_type": "code",
   "execution_count": 2,
   "id": "993d8e78-2fe0-481f-a6da-1d391d764910",
   "metadata": {},
   "outputs": [],
   "source": [
    "def linearAdditive(x):\n",
    "    term1 = 2*x[0]\n",
    "    term2 = 3*x[1]\n",
    "    return term1 + term2"
   ]
  },
  {
   "cell_type": "code",
   "execution_count": 3,
   "id": "4c69bdf9-a8fa-4ed3-8291-a217af723c94",
   "metadata": {},
   "outputs": [],
   "source": [
    "# GVARS inputs\n",
    "seed = 123456789\n",
    "num_stars = 10\n",
    "num_dir_samples = 50\n",
    "delta_h = 0.1\n",
    "ivars_scales = [0.1, 0.3, 0.5]\n",
    "paramaters = {'x1' : (0, 0),\n",
    "              'x2' : (1, 1),\n",
    "              'x3' : (None, None)}\n",
    "dist_types = ['norm', 'norm']\n",
    "corr_mat = np.array([[1, 0.6], [0.6, 1]])"
   ]
  },
  {
   "cell_type": "code",
   "execution_count": 4,
   "id": "32b8ddd4-5795-4d80-a3d6-59c8d4c7bd27",
   "metadata": {},
   "outputs": [],
   "source": [
    "n_var = corr_mat.shape[1]\n",
    "cov_mat = np.array([[1, 0.6], [0.6, 1]]) # make funcion for this for now just using matlab results"
   ]
  },
  {
   "cell_type": "code",
   "execution_count": 5,
   "id": "3ece33a3-9933-4526-a4d5-a04cef976a0e",
   "metadata": {},
   "outputs": [
    {
     "data": {
      "text/plain": [
       "array([[-1.16643708,  0.45195623],\n",
       "       [-0.54084976,  0.96755504],\n",
       "       [ 0.14584264, -1.41103991],\n",
       "       [ 0.83043501, -0.26991621],\n",
       "       [-0.92883213,  0.10967209],\n",
       "       [-0.74416014, -1.54517335],\n",
       "       [ 0.52863669,  0.05796084],\n",
       "       [ 0.53650245,  0.44821014],\n",
       "       [-2.02403021, -0.16494227],\n",
       "       [-1.5967665 , -1.12988588]])"
      ]
     },
     "execution_count": 5,
     "metadata": {},
     "output_type": "execute_result"
    }
   ],
   "source": [
    "# Generate independent standard normal samples\n",
    "# the amount of samples is the same as the amount of stars\n",
    "U = np.random.multivariate_normal(np.zeros(n_var), np.eye(n_var), num_stars)\n",
    "U"
   ]
  },
  {
   "cell_type": "code",
   "execution_count": 6,
   "id": "ba47dd74-d3c7-49b8-9b98-6a242c4d6623",
   "metadata": {},
   "outputs": [
    {
     "data": {
      "text/plain": [
       "array([[-1.16643708, -0.33829727],\n",
       "       [-0.54084976,  0.44953417],\n",
       "       [ 0.14584264, -1.04132634],\n",
       "       [ 0.83043501,  0.28232804],\n",
       "       [-0.92883213, -0.46956161],\n",
       "       [-0.74416014, -1.68263476],\n",
       "       [ 0.52863669,  0.36355069],\n",
       "       [ 0.53650245,  0.68046958],\n",
       "       [-2.02403021, -1.34637195],\n",
       "       [-1.5967665 , -1.86196861]])"
      ]
     },
     "metadata": {},
     "output_type": "display_data"
    }
   ],
   "source": [
    "# Generate correlated standard normal samples\n",
    "# the amount of samples is the same as the amount of stars\n",
    "cholU = np.linalg.cholesky(cov_mat)\n",
    "cholU = cholU.transpose() # to get in correct format for matrix multiplication\n",
    "Z = np.matmul(U,cholU) # transform samples to standard normal distribution\n",
    "display(Z)"
   ]
  },
  {
   "cell_type": "code",
   "execution_count": 7,
   "id": "f868e7f9-4b2a-4839-8475-e5d20983e5da",
   "metadata": {},
   "outputs": [],
   "source": [
    "# Generate Nstar actual multivariate samples X (not done yet)\n",
    "X = 0"
   ]
  },
  {
   "cell_type": "code",
   "execution_count": 8,
   "id": "a2230473-12d9-44d0-ac79-ae93375fd8b7",
   "metadata": {},
   "outputs": [
    {
     "data": {
      "text/plain": [
       "array([[1],\n",
       "       [0]])"
      ]
     },
     "execution_count": 8,
     "metadata": {},
     "output_type": "execute_result"
    }
   ],
   "source": [
    "# define index matrix of complement subset\n",
    "compsub = np.empty([n_var, n_var-1])\n",
    "for i in range (0, n_var):\n",
    "\n",
    "    temp = np.arange(n_var)\n",
    "    compsub[i] = np.delete(temp, i)   \n",
    "compsub = compsub.astype(int)\n",
    "compsub"
   ]
  },
  {
   "cell_type": "code",
   "execution_count": 9,
   "id": "d461e084-e2de-4c2f-bff8-1544104e6d46",
   "metadata": {},
   "outputs": [],
   "source": [
    "# computer coditional variance and conditional expectation for each star center\n",
    "chol_cond_std = []\n",
    "std_cond_norm = []\n",
    "mui_on_noti = np.zeros((len(Z), n_var))\n",
    "for i in range(0, n_var):\n",
    "    noti = compsub[i]\n",
    "    # 2 dimensional or greater matrix case\n",
    "    if (cov_mat[noti, noti].ndim >= 2):\n",
    "        cond_std = cov_mat[i][i] - cov_mat[i,noti]*np.linalg.inv(cov_mat[noti, noti])*cov_mat[noti,i]\n",
    "        chol_cond_std.append(np.linalg.cholesky(cond_std))\n",
    "        std_cond_norm.append(con_std)\n",
    "        for j in range(0, len(Z)):\n",
    "            mui_on_noti[j][i] = cov_mat[i,noti]*np.linalg.inv(cov_mat[noti, noti])*Z[j,noti]\n",
    "    # less then 2 dimenional matrix case\n",
    "    else:\n",
    "        cond_std = cov_mat[i][i] - cov_mat[i,noti]*cov_mat[noti, noti]*cov_mat[noti,i]\n",
    "        chol_cond_std.append(np.linalg.cholesky([[cond_std]]).flatten())\n",
    "        std_cond_norm.append(cond_std)\n",
    "        for j in range(0, len(Z)):\n",
    "            mui_on_noti[j][i] = cov_mat[i, noti]*cov_mat[noti, noti]*Z[j, noti]\n"
   ]
  },
  {
   "cell_type": "code",
   "execution_count": 10,
   "id": "3dc2d686-e7aa-4cd2-8613-c3eb42f0ac98",
   "metadata": {},
   "outputs": [
    {
     "data": {
      "text/plain": [
       "(50, 2, 10)"
      ]
     },
     "execution_count": 10,
     "metadata": {},
     "output_type": "execute_result"
    }
   ],
   "source": [
    "# Generate directional sample:\n",
    "# Create samples in correlated standard normal space\n",
    "all_section_condZ = []\n",
    "condZ = []\n",
    "for j in range(0, num_dir_samples):\n",
    "    stnrm_base = np.random.multivariate_normal(np.zeros(n_var), np.eye(n_var), num_stars)\n",
    "    for i in range(0, n_var):\n",
    "        condZ.append(stnrm_base[:, i]*chol_cond_std[i] + mui_on_noti[:, i])\n",
    "    all_section_condZ.append(condZ.copy())\n",
    "    condZ.clear()\n",
    "np.array(all_section_condZ).shape"
   ]
  },
  {
   "cell_type": "code",
   "execution_count": 11,
   "id": "ad806f7c-86fc-4d6f-993a-8d3acf6ae07e",
   "metadata": {},
   "outputs": [],
   "source": [
    "# transform to original distribution and compute response surface\n",
    "Xi_on_Xnoti = []\n",
    "f_cond = []\n",
    "Xi_on_Xnoti_and_Xnoti = []\n",
    "for j in range(0, num_dir_samples):\n",
    "    for i in range(0, n_var):\n",
    "        X"
   ]
  },
  {
   "cell_type": "code",
   "execution_count": null,
   "id": "48ef6347-5a45-429c-968d-09ae7cc3f02f",
   "metadata": {},
   "outputs": [],
   "source": []
  }
 ],
 "metadata": {
  "kernelspec": {
   "display_name": "Python 3",
   "language": "python",
   "name": "python3"
  },
  "language_info": {
   "codemirror_mode": {
    "name": "ipython",
    "version": 3
   },
   "file_extension": ".py",
   "mimetype": "text/x-python",
   "name": "python",
   "nbconvert_exporter": "python",
   "pygments_lexer": "ipython3",
   "version": "3.8.8"
  }
 },
 "nbformat": 4,
 "nbformat_minor": 5
}
