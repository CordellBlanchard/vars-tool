{
 "cells": [
  {
   "cell_type": "code",
   "execution_count": 1,
   "id": "965cc71f-c5e9-4c62-b596-29ed91199872",
   "metadata": {},
   "outputs": [],
   "source": [
    "import numpy as np\n",
    "import pandas as pd\n",
    "import UQpy as UQ\n",
    "import scipy.stats as stat\n",
    "import matplotlib as plt\n",
    "from scipy.optimize import newton_krylov\n",
    "from scipy.integrate import dblquad\n",
    "from itertools import combinations, chain, repeat\n",
    "from tqdm import trange\n"
   ]
  },
  {
   "cell_type": "code",
   "execution_count": 2,
   "id": "3f602e6a-5b31-4744-bd15-d5015471129f",
   "metadata": {},
   "outputs": [],
   "source": [
    "def linear_additive(x):\n",
    "    term1 = 2*x[0]\n",
    "    term2 = 3*x[1]\n",
    "    return term1 + term2"
   ]
  },
  {
   "cell_type": "code",
   "execution_count": 3,
   "id": "93dbdb8a-4de7-4496-9b0f-b458f7bdcbc4",
   "metadata": {},
   "outputs": [],
   "source": [
    "def ishigami(x, a=7, b=0.1):\n",
    "    '''Ishigami test function'''\n",
    "    # check whether the input x is a dataframe\n",
    "    \n",
    "    if not isinstance(x, (pd.core.frame.DataFrame, pd.core.series.Series, np.ndarray, list)):\n",
    "        raise TypeError('`x` must be of type pandas.DataFrame, numpy.ndarray, pd.Series, or list')\n",
    "    \n",
    "    if x.shape[0] > 3:\n",
    "        raise ValueError('`x` must have only three arguments at a time')\n",
    "    \n",
    "    return np.sin(x[0]) + a*(np.sin(x[1])**2) + b*(x[2]**4)*np.sin(x[0])"
   ]
  },
  {
   "cell_type": "code",
   "execution_count": 4,
   "id": "af108795-6f09-40f8-836f-72ebc9d02101",
   "metadata": {},
   "outputs": [],
   "source": [
    "def factor_ranking(factors):\n",
    "    # gather indices for sorting factor\n",
    "    temp = np.argsort(factors)[::-1]\n",
    "    # create an array the same shape and type as temp\n",
    "    ranks = np.empty_like(temp)\n",
    "    # rank factors\n",
    "    ranks[temp] = np.arange(len(factors))\n",
    "\n",
    "    return ranks\n",
    "    "
   ]
  },
  {
   "cell_type": "code",
   "execution_count": 5,
   "id": "e49bcea5-5928-4b78-8682-c4076dcea1b1",
   "metadata": {},
   "outputs": [],
   "source": [
    "# helper functions\n",
    "def apply_unique(func, df, axis=1, *args, **kwargs):\n",
    "    '''Apply a function to unique rows of a DataFrame\n",
    "    for efficiency.'''\n",
    "\n",
    "    applied_df = df.merge(df.drop_duplicates()\n",
    "                         .assign(**{func.__name__: lambda x: x.apply(func, axis=axis)}), \n",
    "                         how='left')\n",
    "    applied_df.index = df.index\n",
    "    \n",
    "    return applied_df\n",
    "    \n",
    "    \n",
    "def scale(df, bounds, axis=1, *args, **kwargs):\n",
    "    '''scale the sampled matrix\n",
    "    bounds is a dict with ['ub', 'lb'] keys\n",
    "    the values are lists of the upper and lower bounds\n",
    "    of the parameters/variables/factors'''\n",
    "    \n",
    "    # numpy equivalent for math operations\n",
    "    bounds_np = {key:np.array(value) for key,value in bounds.items()}\n",
    "    display(bounds_np)\n",
    "    \n",
    "    if axis:\n",
    "        return df * (bounds_np['ub'] - bounds_np['lb']) + bounds_np['lb']\n",
    "    else:\n",
    "        return df.T * (bounds_np['ub'] - bounds_np['lb']) + bounds_np['lb']\n",
    "    \n",
    "    \n",
    "def pairs_h(iterable):\n",
    "    '''gives the pairs of numbers considering their differences'''\n",
    "    interval = range(min(iterable), max(iterable)-min(iterable))\n",
    "    pairs  = {key+1:[j for j in combinations(iterable, 2) if np.abs(j[0]-j[1])==key+1] for key in interval}\n",
    "    return pairs\n",
    "    \n",
    "    \n",
    "def section_df(df, delta_h): # ***delta_h here is newly added*** July 6th, 2021 - Saman's comment\n",
    "    '''gets the paired values of each section based on index'''\n",
    "    pairs = pairs_h(df.index.get_level_values(-1))\n",
    "    df_values = df.to_numpy()\n",
    "    sample = pd.concat({h*delta_h:\n",
    "                    pd.DataFrame.from_dict({str(idx_tup): [df_values[idx_tup[0]], df_values[idx_tup[1]]] for idx_tup in idx}, 'index') \\\n",
    "                      for h, idx in pairs.items()}) \n",
    "\n",
    "    return sample\n",
    "    \n",
    "    \n",
    "# lambda functions\n",
    "'''covariogram of each section'''\n",
    "cov_section = lambda pair_cols, mu_star: (pair_cols.sub(mu_star, axis=0)[0] * pair_cols.sub(mu_star, axis=0)[1]).groupby(level=[0,1,2]).mean()\n",
    "\n",
    "'''variogram over all sections'''\n",
    "variogram = lambda pair_cols: 0.5*(pair_cols[0] - pair_cols[1]).pow(2).groupby(level=[1,2]).mean()\n",
    "\n",
    "'''morris sensitivity measure equivalent evaluated over all sections'''\n",
    "morris_eq = lambda pair_cols: ((pair_cols[1] - pair_cols[0]).abs().groupby(level=[1,2]).mean(), \\\n",
    "                               (pair_cols[1] - pair_cols[0]).groupby(level=[1,2]).mean())\n",
    "\n",
    "'''covariogram over all sections'''\n",
    "covariogram = lambda pair_cols, mu_overall: ((pair_cols - mu_overall)[0] * (pair_cols - mu_overall)[1]).groupby(level=[1,2]).mean()\n",
    "\n",
    "'''expected covariogram over all sections'''\n",
    "e_covariogram = lambda cov_section_all: cov_section_all.groupby(level=[1,2]).mean()\n",
    "\n",
    "'''sobol (total order) sensitivity measure equivalent evaluated over all sections''' # new sobol added *** 6 July 2021\n",
    "# sobol_eq = lambda gamma, ecov, variance: ((gamma + ecov) / variance).loc[:,1]\n",
    "sobol_eq = lambda gamma, ecov, variance, delta_h: ((gamma + ecov) / variance)[:, delta_h] # new July 6, 2021\n",
    "\n",
    "\n",
    "\n",
    "# ivars function\n",
    "def ivars(variogram_array, scale, delta_h):\n",
    "    '''generate Integrated Variogram Across a Range of Scales (IVARS)\n",
    "    by approximating area using right trapezoids having width of `delta_h`\n",
    "    and hights of variogram values'''\n",
    "    num_h  = len(variogram_value.index.levels[-1].to_list())\n",
    "    x_bench= np.arange(start=0, stop=delta_h*(num_h+1), step=delta_h)\n",
    "    x_int  = np.arange(start=0, stop=(scale*10+1)/10, step=delta_h)\n",
    "\n",
    "    # calculate interpolated values for both x (h) and y (variogram)\n",
    "    if x_int[-1] < scale:\n",
    "        x_int.append(scale)\n",
    "    y_bench= [0] + variogram_array.to_list()\n",
    "\n",
    "    y_int  = np.interp(x=x_int, xp=x_bench, fp=y_bench)\n",
    "    \n",
    "    # for loop for each step size to caluclate the area\n",
    "    ivars = 0\n",
    "    for i in range(len(x_int)-1):\n",
    "        ivars += 0.5*(y_int[i+1] + y_int[i]) * (x_int[i+1] - x_int[i])\n",
    "\n",
    "    return ivars\n",
    "\n",
    "# alias\n",
    "ind = pd.IndexSlice"
   ]
  },
  {
   "cell_type": "code",
   "execution_count": 6,
   "id": "6df4b82f-1faf-4290-9666-c64b2c913e51",
   "metadata": {},
   "outputs": [],
   "source": [
    "from tqdm.autonotebook import tqdm\n",
    "\n",
    "def apply_unique(func, df, axis=1, *args, **kwargs):\n",
    "    '''Apply a function to unique rows of a DataFrame\n",
    "    for efficiency.'''\n",
    "    \n",
    "    tqdm.pandas(desc=func.__name__ + ' evaluation')\n",
    "\n",
    "    applied_df = df.merge(df.drop_duplicates()\n",
    "                         .assign(**{func.__name__: lambda x: x.progress_apply(func, axis=axis)}), \n",
    "                         how='left')\n",
    "    applied_df.index = df.index\n",
    "    \n",
    "    return applied_df"
   ]
  },
  {
   "cell_type": "code",
   "execution_count": 40,
   "id": "2b828b23-50e6-427f-83f9-035d79c7ef81",
   "metadata": {},
   "outputs": [],
   "source": [
    "def reorder_pairs(pair_df, num_stars, parameters, df, delta_h, xmax, xmin):\n",
    "    # gather the actual 'h' differences between each star point value for every pair\n",
    "    # possibly find a faster way to do this later\n",
    "    dist_list = []\n",
    "    temp = []\n",
    "    for star_centre in tqdm(range(0, num_stars), desc = 'calculating \\'h\\' values'):\n",
    "        param_num=0\n",
    "        for param in parameters.keys():\n",
    "            pairs = pairs_h(df.loc[star_centre, param][param_num].index.get_level_values(-1))\n",
    "            for ignore, idx in pairs.items():\n",
    "                for idx_tup in idx:\n",
    "                    # note: the distances are being scaled between 0-1, and the star points have not been scaled so the pair indices will not have the same h value in the star point data frame\n",
    "                    temp.append(np.abs((df.loc[star_centre, param][param_num][idx_tup[0]] - df.loc[star_centre, param][param_num][idx_tup[1]])/(xmax[param_num]-xmin[param_num])))\n",
    "            # sort distances for each parameter at each star centre\n",
    "            temp.sort()\n",
    "            # append the sorted distances into dist_list\n",
    "            dist_list.extend(temp.copy())\n",
    "            temp.clear()\n",
    "            param_num = param_num + 1\n",
    "    \n",
    "    # loading bar for binning and reording pairs based on new 'h' values\n",
    "    pairs_pbar = tqdm( desc='binning and reording pairs based on \\'h\\' values', total=2, dynamic_ncols=True)\n",
    "    \n",
    "    # add new distances to dataframe\n",
    "    pair_df['actual h'] = dist_list\n",
    "    \n",
    "    # create bin ranges\n",
    "    num_bins = int(1/delta_h) # the number of bins created by delta h\n",
    "    bins = np.arange(start=delta_h/2, step=delta_h, stop=1) # create middle bin ranges\n",
    "    \n",
    "    # create labels for the bin ranges which will be the actual delta h values\n",
    "    labels = np.arange(start=delta_h, step=delta_h, stop=1)\n",
    "\n",
    "    # bin pair values according to their distances 'h' for each paramter at each star centre\n",
    "    binned_pairs = []\n",
    "    for star_centre in range(0, num_stars):\n",
    "        for param in parameters.keys():\n",
    "            binned_pairs.append(pd.cut(pair_df.loc[star_centre, param, :]['actual h'], bins=bins, labels=labels).sort_values())\n",
    "    \n",
    "    # put binned pairs into a panda series\n",
    "    binned_pairs = pd.concat(binned_pairs, ignore_index=False)\n",
    "    \n",
    "    pairs_pbar.update(1)\n",
    "    \n",
    "    # re order pairs values according to the bins\n",
    "    pair_df = pair_df.loc[binned_pairs.index]\n",
    "    \n",
    "    # add in new index h, according to bin ranges\n",
    "    # ex.) h = 0.1 = [0-0.15], h = 0.2 = [0.15-0.25]\n",
    "    h = list(binned_pairs.values)\n",
    "    pair_df['h'] = h\n",
    "    \n",
    "    # format data frame so that it works properly with variogram analsysis functions\n",
    "    pair_df.set_index('h', append=True, inplace=True)\n",
    "    pair_df.set_index('actual h', append=True, inplace=True)\n",
    "    \n",
    "    pair_df = pair_df.reorder_levels(['centre', 'param', 'h', 'actual h', 'pair_ind'])\n",
    "    \n",
    "    pairs_pbar.update(1)\n",
    "    pairs_pbar.close()\n",
    "    \n",
    "    return pair_df"
   ]
  },
  {
   "cell_type": "code",
   "execution_count": 8,
   "id": "cebb9abd-b50d-4e84-a2c6-87eceaebbfcf",
   "metadata": {},
   "outputs": [],
   "source": [
    "def find_boundaries(parameters):\n",
    "    # store parameter info in a list\n",
    "    param_info = list(parameters.values()) \n",
    "    \n",
    "    # store the max and min values of each paramter in arrays\n",
    "    xmin = np.zeros(len(parameters))\n",
    "    xmax = np.zeros(len(parameters))\n",
    "    for i in range(0, len(parameters)):\n",
    "        if param_info[i][3] == 'unif':\n",
    "            xmin[i] = param_info[i][0] # lower bound\n",
    "            xmax[i] = param_info[i][1] # upper bound\n",
    "        elif param_info[i][3] == 'triangle':\n",
    "            xmin[i] = param_info[i][0] # lower bound\n",
    "            xmax[i] = param_info[i][1] # upper bound\n",
    "        elif param_info[i][3] == 'norm':\n",
    "            xmin[i] = param_info[i][0] - 3*param_info[i][1]\n",
    "            xmax[i] = param_info[i][0] + 3*param_info[i][1]\n",
    "        elif param_info[i][3] == 'lognorm':\n",
    "            xmin[i] = 1\n",
    "            xmax[i] = 1.25\n",
    "        elif param_info[i][3] == 'expo':\n",
    "            xmin[i] = 0 # change this\n",
    "            xmax[i] = 0 # change this\n",
    "        elif param_info[i][3] == 'gev':\n",
    "            xmin[i] = 0 # change this\n",
    "            xmax[i] = 0 # change this   \n",
    "            \n",
    "    return xmin, xmax\n",
    "        "
   ]
  },
  {
   "cell_type": "code",
   "execution_count": 9,
   "id": "58b8067c-ab82-41f8-9156-f24850ef4ef6",
   "metadata": {},
   "outputs": [],
   "source": [
    "def rx2rn(distpair_type, param1, param2, rxpair):\n",
    "    \n",
    "    # getting the inverse cdf of distribution 1\n",
    "    if (distpair_type[0] == 'unif'):\n",
    "        mu1 = (param1[1] + param1[0])/2\n",
    "        std1 = (param1[1] - param1[0])/12**0.5\n",
    "        inv_cdf1 = lambda x : param1[0] + (param1[1] - param1[0])*x\n",
    "    elif (distpair_type[0] == 'norm'):\n",
    "        mu1 = param1[0]\n",
    "        std1 = param1[1]\n",
    "        inv_cdf1 = lambda x : stat.norm.ppf(x, mu1, std1)\n",
    "    elif (distpair_type[0] == 'triangle'):\n",
    "        mu1 = (param1[0] + param1[1] + param1[2])/3\n",
    "        std1 = (np.sqrt(param1[0]**2+param1[1]**2+param1[2]**2-param1[0]*param1[1]-param1[0]*param1[2]-param1[1]*param1[2]))/np.sqrt(18)\n",
    "        loc1 = param1[0]\n",
    "        scale1 = param1[1] - param1[0]\n",
    "        c1 = (param1[2] - param1[0])/(param1[1] - param1[0])\n",
    "        inv_cdf1 = lambda x : stat.triang.ppf(q=x, c=c1, loc=loc1, scale=scale1)\n",
    "    elif (distpair_type[0] == 'lognorm'):\n",
    "        mu1= param1[0]\n",
    "        std1=param1[1]\n",
    "        # compute associated normal\n",
    "        cv=std1/mu1**2\n",
    "        m = np.log(mu1/(np.sqrt(1+cv)))\n",
    "        v = np.sqrt(np.log(1+cv))           \n",
    "        inv_cdf1 = lambda x : stat.lognorm.ppf(x, scale=np.exp(m), s=v, loc=0)\n",
    "    elif (distpair_type[0] == 'expo'):\n",
    "        lamda= param1[0]\n",
    "        mu1=1/lamda\n",
    "        std1=1/(lamda**2)\n",
    "        inv_cdf1 = lambda x : stat.expon.ppf(x, scale=mu1)\n",
    "    elif (distpair_type[0] == 'gev'):\n",
    "        mu=param1[0] #location\n",
    "        sigma=param1[1] #scale\n",
    "        k1=-1*param1[2] #shape\n",
    "        inv_cdf1 = lambda x : stat.genextreme.ppf(x,c=k1,scale=sigma,loc=mu);\n",
    "        [mu1,std1] = stat.genextreme.stats(k1,scale=sigma,loc=mu);\n",
    "        \n",
    "    # getting the inverse cdf of distribution 2\n",
    "    if (distpair_type[1] == 'unif'):\n",
    "        mu2 = (param2[1] + param2[0])/2\n",
    "        std2 = (param2[1] - param2[0])/12**0.5\n",
    "        inv_cdf2 = lambda x : param2[0] + (param2[1] - param2[0])*x\n",
    "    elif (distpair_type[1] == 'norm'):\n",
    "        mu2 = param2[0]\n",
    "        std2 = param2[1]\n",
    "        inv_cdf2 = lambda x : stat.norm.ppf(x, mu2, std2)\n",
    "    elif (distpair_type[1] == 'triangle'):\n",
    "        mu2 = (param2[0] + param2[1] + param2[2])/3\n",
    "        std2 = (np.sqrt(param2[0]**2+param2[1]**2+param2[2]**2-param2[0]*param2[1]-param2[0]*param2[2]-param2[1]*param2[2]))/np.sqrt(18)\n",
    "        loc2 = param2[0]\n",
    "        scale2 = param2[1] - param2[0]\n",
    "        c2 = (param2[2] - param2[0])/(param2[1] - param2[0])\n",
    "        inv_cdf2 = lambda x : stat.triang.ppf(q=x, c=c2, loc=loc2, scale=scale2)\n",
    "    elif (distpair_type[1] == 'lognorm'):\n",
    "        mu2= param2[0]\n",
    "        std2=param2[1]\n",
    "        # compute associated normal\n",
    "        cv=std2/mu2**2\n",
    "        m = np.log(mu2/(np.sqrt(1+cv)))\n",
    "        v = np.sqrt(np.log(1+cv))           \n",
    "        inv_cdf2 = lambda x : stat.lognorm.ppf(x, scale=np.exp(m), s=v, loc=0)\n",
    "    elif (distpair_type[1] == 'expo'):\n",
    "        lamda= param2[0]\n",
    "        mu2=1/lamda\n",
    "        std2=1/(lamda**2)\n",
    "        inv_cdf2 = lambda x : stat.expon.ppf(x, scale=mu2)\n",
    "    elif (distpair_type[1] == 'gev'):\n",
    "        mu=param2[0] #location\n",
    "        sigma=param2[1] #scale\n",
    "        k2=-1*param2[2] #shape\n",
    "        inv_cdf2 = lambda x : stat.genextreme.ppf(x,c=k2,scale=sigma,loc=mu)\n",
    "        [mu2,std2] = stat.genextreme.stats(k2,scale=sigma,loc=mu)\n",
    "    \n",
    "    # bivariate standard normal distribution\n",
    "    stdnorm2_pdf = lambda x1, x2 : np.exp(-1*(x1**2 + x2**2)/2.0)/(2.0*np.pi)\n",
    "\n",
    "    # integral bound zmax=5.0, zmin = -5.0\n",
    "    integrand = lambda x1, x2 : inv_cdf1(stat.norm.cdf(x1*np.sqrt(1-rxpair**2)+ rxpair*x2,0,1))*inv_cdf2(stat.norm.cdf(x2,0,1))*stdnorm2_pdf(x1, x2)\n",
    "    # compute double integral of integrand with x1 ranging from -5.0 to 5.0 and x2 ranging from -5.0 to 5.0\n",
    "    integral_val = dblquad(integrand, -5, 5, lambda x : -5, lambda x : 5, epsabs=1.49e-06, epsrel=1.49e-06)[0]\n",
    "    rn = (integral_val - mu1*mu2)/(std1*std2)\n",
    "    \n",
    "    return rn"
   ]
  },
  {
   "cell_type": "code",
   "execution_count": 10,
   "id": "e915ce16-5f60-4286-9cfe-74e0d8f9e4ad",
   "metadata": {},
   "outputs": [],
   "source": [
    "def rn2rx(distpair_type, param1, param2, rnpair):    \n",
    "    fun = lambda r : (rnpair - rx2rn(distpair_type, param1, param2, r))\n",
    "    # try to find point x where fun(x) = 0\n",
    "    try:\n",
    "        rx = newton_krylov(F=fun, xin=rnpair, x_tol=1e-5)\n",
    "    except:\n",
    "        print(\"Function could not converge, fictive matrix was not computed\")\n",
    "        rx = rnpair\n",
    "            \n",
    "    return rx    "
   ]
  },
  {
   "cell_type": "code",
   "execution_count": 11,
   "id": "a7130e67-255f-457e-b9c6-7c2d055e0930",
   "metadata": {},
   "outputs": [],
   "source": [
    "def map_2_cornorm(parameters, corr_mat):\n",
    "    # store parameter info in a list\n",
    "    param_info = list(parameters.values())\n",
    "    \n",
    "    corr_n = np.eye(corr_mat.shape[0], corr_mat.shape[1])\n",
    "    for i in range(0, corr_mat.shape[0] - 1):\n",
    "        for j in range(i+1, corr_mat.shape[0]):\n",
    "            # input paramter info (lb, ub, ?, dist type)\n",
    "            corr_n[i][j] = rn2rx([param_info[i][3], param_info[j][3]], [param_info[i][0], param_info[i][1], param_info[i][2]],[param_info[j][0], param_info[j][1], param_info[j][2]],corr_mat[i][j])\n",
    "            # matrix is symmetrical\n",
    "            corr_n[j][i] = corr_n[i][j]\n",
    "    return corr_n"
   ]
  },
  {
   "cell_type": "code",
   "execution_count": 12,
   "id": "862018d4-c471-4888-827b-92a6a6a8bc23",
   "metadata": {},
   "outputs": [],
   "source": [
    "def map_2_cornorm_uqpy(parameters, corr_mat):\n",
    "    # store parameter info in a list\n",
    "    param_info = list(parameters.values())\n",
    "    \n",
    "    # list that holds the distributions\n",
    "    dist_object = []\n",
    "    \n",
    "    # put each paramter in its corresponding distribution\n",
    "    for i in range(0, len(parameters)):\n",
    "        if param_info[i][3] == 'unif':\n",
    "            dist_object.append(UQ.Distributions.Uniform(loc=param_info[i][0], scale=param_info[i][1]))\n",
    "        elif param_info[i][3] == 'norm':\n",
    "            dist_object.append(UQ.Distributions.Normal(loc=param_info[i][0], scale=param_info[i][1]))\n",
    "        # UQpy does not have a triangle distribution\n",
    "        #elif param_info[i][3] == 'triangle':\n",
    "            # dist_object.append(UQ.Distributions.)\n",
    "        elif param_info[i][3] == 'lognorm':\n",
    "            dist_object.append(UQ.Distributions.Lognormal(scale=np.exp(param_info[i][0]), s=param_info[i][1], loc=0))\n",
    "        elif param_info[i][3] == 'expo':\n",
    "            dist_object.append(UQ.Distributions.Exponential(loc=param_info[i][0], scale=param_info[i][1]))\n",
    "        elif param_info[i][3] == 'gev':\n",
    "            dist_object.append(UQ.Distributions.GenExtreme(c=param_info[i][2], loc=param_info[i][0], scale=param_info[i][1]))\n",
    "\n",
    "    # do nataf transformation on correlation matrix\n",
    "    nataf_obj = UQ.Transformations.Nataf(dist_object=dist_object, corr_x=corr_mat)\n",
    "\n",
    "    \n",
    "    return nataf_obj.corr_z"
   ]
  },
  {
   "cell_type": "code",
   "execution_count": 13,
   "id": "4bad9f51-b1e7-4d41-85b9-482766efa263",
   "metadata": {},
   "outputs": [],
   "source": [
    "def n2x_transform(norm_vectors, param_info):\n",
    "    # Transform from correlated standard normal to original distributions\n",
    "    \n",
    "    k = norm_vectors.shape[1]   \n",
    "    x = np.zeros(norm_vectors.shape)\n",
    "\n",
    "    for i in range(0, k):\n",
    "        if param_info[i][3] == 'unif':\n",
    "            lb = param_info[i][0]\n",
    "            ub = param_info[i][1]\n",
    "\n",
    "            x[:, i] = lb + (ub - lb)*stat.norm.cdf(norm_vectors[:, i],0,1)\n",
    "        elif param_info[i][3] == 'norm':\n",
    "            mu = param_info[i][0]\n",
    "            std = param_info[i][1]\n",
    "\n",
    "            x[:, i] = stat.norm.ppf(stat.norm.cdf(norm_vectors[:, i],0,1), mu, std)\n",
    "        elif param_info[i][3] == 'triangle':\n",
    "            a = param_info[i][0]\n",
    "            b = param_info[i][1]\n",
    "            c = param_info[i][2]\n",
    "            mid = (c-a)/(b-a)\n",
    "            term1 = (b-a)*(c-a)\n",
    "            term2 = (b-a)*(b-c)\n",
    "            x_norm = stat.norm.cdf(norm_vectors[:, i],0,1)\n",
    "            x[:, i] = (a+np.sqrt(term1)*np.sqrt(x_norm))*((x_norm >= 0).astype(int))*((x_norm < mid).astype(int))+(b-np.sqrt(term2)*np.sqrt((1-x_norm)))*((x_norm >= mid).astype(int))*((x_norm < 1).astype(int))\n",
    "        elif param_info[i][3] == 'lognorm':\n",
    "            mu = param_info[i][0]\n",
    "            std = param_info[i][1]\n",
    "            term1 = std/mu**2\n",
    "            m = np.log(mu/(np.sqrt(1+term1)))\n",
    "            v = np.sqrt(np.log(1+term1))\n",
    "            x[:, i] = np.lognorm.ppf(stat.norm.cdf(norm_vectors[:, i],0,1), scale=np.exp(mu), s=std, loc=0)\n",
    "        elif param_info[i][3] == 'expo':\n",
    "            mu = param_info[i][0]\n",
    "            x[:, i] = np.expon.ppf(stat.norm.cdf(norm_vectors[:, i],0,1), scale=mu)\n",
    "        elif param_info[i][3] == 'gev':\n",
    "            mu = param_info[i][0] # location\n",
    "            sigma = param_info[i][1] # scale\n",
    "            k = -1*param_info[i][2] # shape\n",
    "            x[:, i] = stat.genextreme.ppf(stat.norm.cdf(norm_vectors[:, i],0,1),c=k,scale=sigma,loc=mu)\n",
    "    \n",
    "    return x"
   ]
  },
  {
   "cell_type": "code",
   "execution_count": 14,
   "id": "4c69bdf9-a8fa-4ed3-8291-a217af723c94",
   "metadata": {},
   "outputs": [
    {
     "data": {
      "text/plain": [
       "2"
      ]
     },
     "execution_count": 14,
     "metadata": {},
     "output_type": "execute_result"
    }
   ],
   "source": [
    "# GVARS inputs\n",
    "num_stars = 50\n",
    "num_dir_samples = 10\n",
    "delta_h = 0.05\n",
    "seed = 123456789\n",
    "ivars_scales = [0.1, 0.3, 0.5]\n",
    "parameters = {'x1' : (5, 10, None, 'unif'),\n",
    "              'x2' : (0, 1, None, 'unif')}\n",
    "corr_mat = np.array([[1, -0.8], [-0.8, 1]])\n",
    "n_var = len(parameters)\n",
    "n_var"
   ]
  },
  {
   "cell_type": "code",
   "execution_count": 15,
   "id": "32b8ddd4-5795-4d80-a3d6-59c8d4c7bd27",
   "metadata": {},
   "outputs": [
    {
     "data": {
      "text/plain": [
       "array([[ 1.        , -0.81346509],\n",
       "       [-0.81346509,  1.        ]])"
      ]
     },
     "execution_count": 15,
     "metadata": {},
     "output_type": "execute_result"
    }
   ],
   "source": [
    "#stars_pbar = tqdm(desc='generating star points', total=10, dynamic_ncols=True)\n",
    "#cov_mat = map_2_cornorm_uqpy(parameters, corr_mat)\n",
    "#or\n",
    "cov_mat = map_2_cornorm(parameters, corr_mat)\n",
    "#stars_pbar.update(1)\n",
    "cov_mat"
   ]
  },
  {
   "cell_type": "code",
   "execution_count": 16,
   "id": "ba47dd74-d3c7-49b8-9b98-6a242c4d6623",
   "metadata": {},
   "outputs": [
    {
     "data": {
      "text/plain": [
       "array([[ 0.3919982 , -0.0580669 ],\n",
       "       [ 0.41645287,  0.60761863],\n",
       "       [-0.12111507,  0.82129171],\n",
       "       [-1.62625401,  1.70155029],\n",
       "       [ 0.37040035, -0.2787617 ],\n",
       "       [-0.5283513 ,  1.08025096],\n",
       "       [-0.03430598, -0.56867536],\n",
       "       [-1.29708812,  0.65752229],\n",
       "       [-1.96195618,  3.38283166],\n",
       "       [-1.05673515,  1.25790612],\n",
       "       [ 0.62967875, -1.39428719],\n",
       "       [ 0.38294807,  0.4815147 ],\n",
       "       [ 1.13451382, -0.93182576],\n",
       "       [ 1.0106299 , -1.01905646],\n",
       "       [-0.18880506,  0.81089052],\n",
       "       [ 2.13765577, -1.69966086],\n",
       "       [-0.10611478,  0.13984874],\n",
       "       [ 1.29031632, -1.27532177],\n",
       "       [ 1.55783097, -1.71959385],\n",
       "       [-2.27197502,  2.07500439],\n",
       "       [ 0.82801996, -0.6781066 ],\n",
       "       [ 0.34583906,  0.66803751],\n",
       "       [-1.63986234,  1.72363544],\n",
       "       [-1.09777662,  0.40673951],\n",
       "       [-0.52664102, -0.30471091],\n",
       "       [-1.59344536,  1.52063739],\n",
       "       [-0.37281004, -0.31447164],\n",
       "       [ 0.60107106, -1.52914537],\n",
       "       [ 1.05223277, -0.56741093],\n",
       "       [ 0.23133359, -0.38068763],\n",
       "       [ 0.96781206, -0.97800437],\n",
       "       [ 0.03764941,  0.44828588],\n",
       "       [ 1.17527262, -1.46327622],\n",
       "       [-0.14068847, -0.13398401],\n",
       "       [ 0.11482974,  1.24063655],\n",
       "       [-0.25987538,  1.05949812],\n",
       "       [-0.96266401,  0.02499162],\n",
       "       [ 0.6172811 , -1.2579136 ],\n",
       "       [-1.66301076,  1.82322086],\n",
       "       [-0.78623989, -0.15928251],\n",
       "       [ 0.11370189, -0.4058896 ],\n",
       "       [-0.8503739 , -0.02750165],\n",
       "       [-0.83837905,  0.49125453],\n",
       "       [ 0.41448534,  0.00832659],\n",
       "       [-0.12943941, -0.03964556],\n",
       "       [-1.11632396,  0.67074794],\n",
       "       [ 0.18619266,  0.3906616 ],\n",
       "       [-0.75230103,  0.35539464],\n",
       "       [-0.55155682,  0.32329285],\n",
       "       [-0.70329032,  0.90102856]])"
      ]
     },
     "metadata": {},
     "output_type": "display_data"
    }
   ],
   "source": [
    "# Generate correlated standard normal samples\n",
    "# the amount of samples is the same as the amount of stars\n",
    "Z = np.random.default_rng(seed=seed).multivariate_normal(np.zeros(n_var), cov=cov_mat, size=num_stars)\n",
    "#stars_pbar.update(1)\n",
    "display(Z)"
   ]
  },
  {
   "cell_type": "code",
   "execution_count": 17,
   "id": "f868e7f9-4b2a-4839-8475-e5d20983e5da",
   "metadata": {},
   "outputs": [
    {
     "data": {
      "text/plain": [
       "array([[8.26235114, 0.47684767],\n",
       "       [8.30730339, 0.72827978],\n",
       "       [7.25899974, 0.79425993],\n",
       "       [5.25973908, 0.95558015],\n",
       "       [8.22228946, 0.39021385],\n",
       "       [6.49313882, 0.85998478],\n",
       "       [7.43158288, 0.28478824],\n",
       "       [5.48650217, 0.74457743],\n",
       "       [5.12441897, 0.99964129],\n",
       "       [5.72658119, 0.89578715],\n",
       "       [8.67773803, 0.08161545],\n",
       "       [8.24560433, 0.68492463],\n",
       "       [9.3585523 , 0.17571329],\n",
       "       [9.219516  , 0.15408808],\n",
       "       [7.12561402, 0.79128573],\n",
       "       [9.91863827, 0.04459737],\n",
       "       [7.28872821, 0.55561025],\n",
       "       [9.50764786, 0.10109769],\n",
       "       [9.70181669, 0.04275315],\n",
       "       [5.05772005, 0.98100694],\n",
       "       [8.980852  , 0.24885205],\n",
       "       [8.17634083, 0.74794518],\n",
       "       [5.25258448, 0.95761316],\n",
       "       [5.68075511, 0.65790034],\n",
       "       [6.49610725, 0.38029317],\n",
       "       [5.27765079, 0.93582457],\n",
       "       [6.77322458, 0.37658142],\n",
       "       [8.63051835, 0.06311421],\n",
       "       [9.26826808, 0.28521751],\n",
       "       [7.95736087, 0.35171752],\n",
       "       [9.1671544 , 0.16403608],\n",
       "       [7.57508197, 0.67302655],\n",
       "       [9.40028584, 0.07169591],\n",
       "       [7.22029013, 0.44670761],\n",
       "       [7.72854981, 0.89262998],\n",
       "       [6.98739976, 0.85531351],\n",
       "       [5.8392904 , 0.50996918],\n",
       "       [8.65737667, 0.1042115 ],\n",
       "       [5.2407757 , 0.96586503],\n",
       "       [6.07931739, 0.43672315],\n",
       "       [7.72631471, 0.34241186],\n",
       "       [5.9877931 , 0.48902981],\n",
       "       [6.00454463, 0.68837678],\n",
       "       [8.30370324, 0.50332179],\n",
       "       [7.24252491, 0.48418785],\n",
       "       [5.66070872, 0.74880944],\n",
       "       [7.86926579, 0.65197631],\n",
       "       [6.12967511, 0.63885302],\n",
       "       [6.45313007, 0.62676326],\n",
       "       [6.20468711, 0.81621343]])"
      ]
     },
     "execution_count": 17,
     "metadata": {},
     "output_type": "execute_result"
    }
   ],
   "source": [
    "# Generate Nstar actual multivariate samples X\n",
    "param_info = list(parameters.values()) # store dictionary values in a list\n",
    "X = n2x_transform(Z, param_info)\n",
    "#stars_pbar.update(1)\n",
    "X"
   ]
  },
  {
   "cell_type": "code",
   "execution_count": 18,
   "id": "a2230473-12d9-44d0-ac79-ae93375fd8b7",
   "metadata": {},
   "outputs": [
    {
     "data": {
      "text/plain": [
       "array([[1],\n",
       "       [0]])"
      ]
     },
     "execution_count": 18,
     "metadata": {},
     "output_type": "execute_result"
    }
   ],
   "source": [
    "# define index matrix of complement subset\n",
    "compsub = np.empty([n_var, n_var-1])\n",
    "for i in range (0, n_var):\n",
    "\n",
    "    temp = np.arange(n_var)\n",
    "    compsub[i] = np.delete(temp, i)   \n",
    "compsub = compsub.astype(int)\n",
    "#stars_pbar.update(1)\n",
    "compsub"
   ]
  },
  {
   "cell_type": "code",
   "execution_count": 19,
   "id": "d461e084-e2de-4c2f-bff8-1544104e6d46",
   "metadata": {},
   "outputs": [
    {
     "data": {
      "text/plain": [
       "[0.33827455546519625, 0.33827455546519625]"
      ]
     },
     "metadata": {},
     "output_type": "display_data"
    },
    {
     "data": {
      "text/plain": [
       "[array([0.58161375]), array([0.58161375])]"
      ]
     },
     "metadata": {},
     "output_type": "display_data"
    },
    {
     "data": {
      "text/plain": [
       "array([[ 0.04723539, -0.31887685],\n",
       "       [-0.49427654, -0.33876987],\n",
       "       [-0.66809213,  0.09852288],\n",
       "       [-1.38415175,  1.32290086],\n",
       "       [ 0.22676291, -0.30130775],\n",
       "       [-0.87874644,  0.42979534],\n",
       "       [ 0.46259755,  0.02790672],\n",
       "       [-0.53487142,  1.0551359 ],\n",
       "       [-2.75181545,  1.59598285],\n",
       "       [-1.02326271,  0.85961715],\n",
       "       [ 1.13420394, -0.51222168],\n",
       "       [-0.3916954 , -0.31151488],\n",
       "       [ 0.75800772, -0.92288738],\n",
       "       [ 0.82896685, -0.82211214],\n",
       "       [-0.65963113,  0.15358632],\n",
       "       [ 1.38261476, -1.73890833],\n",
       "       [-0.11376207,  0.08632067],\n",
       "       [ 1.03742973, -1.04962727],\n",
       "       [ 1.39882955, -1.2672411 ],\n",
       "       [-1.68794362,  1.84817235],\n",
       "       [ 0.55161605, -0.67356532],\n",
       "       [-0.54342519, -0.281328  ],\n",
       "       [-1.40211725,  1.33397076],\n",
       "       [-0.33086839,  0.89300295],\n",
       "       [ 0.24787168,  0.42840408],\n",
       "       [-1.23698543,  1.29621216],\n",
       "       [ 0.2558117 ,  0.30326795],\n",
       "       [ 1.24390637, -0.48895032],\n",
       "       [ 0.46156898, -0.85595462],\n",
       "       [ 0.3096761 , -0.1881818 ],\n",
       "       [ 0.7955724 , -0.78728132],\n",
       "       [-0.36466491, -0.03062648],\n",
       "       [ 1.19032411, -0.95604324],\n",
       "       [ 0.10899132,  0.11444516],\n",
       "       [-1.00921452, -0.09340998],\n",
       "       [-0.86186473,  0.21139955],\n",
       "       [-0.02032981,  0.78309356],\n",
       "       [ 1.0232688 , -0.50213662],\n",
       "       [-1.48312651,  1.35280119],\n",
       "       [ 0.12957076,  0.6395787 ],\n",
       "       [ 0.33017702, -0.09249252],\n",
       "       [ 0.02237163,  0.69174948],\n",
       "       [-0.3996184 ,  0.68199208],\n",
       "       [-0.00677339, -0.33716935],\n",
       "       [ 0.03225028,  0.10529444],\n",
       "       [-0.54563003,  0.90809057],\n",
       "       [-0.31778957, -0.15146122],\n",
       "       [-0.28910113,  0.61197063],\n",
       "       [-0.26298744,  0.44867221],\n",
       "       [-0.73295528,  0.57210212]])"
      ]
     },
     "metadata": {},
     "output_type": "display_data"
    }
   ],
   "source": [
    "# computer coditional variance and conditional expectation for each star center\n",
    "chol_cond_std = []\n",
    "std_cond_norm = []\n",
    "mui_on_noti = np.zeros((len(Z), n_var))\n",
    "for i in range(0, n_var):\n",
    "    noti = compsub[i]\n",
    "    # 2 dimensional or greater matrix case\n",
    "    if (cov_mat[noti,:][:,noti].ndim >= 2):\n",
    "        cond_std = cov_mat[i][i] - np.matmul(cov_mat[i,noti], np.matmul(np.linalg.inv(cov_mat[noti,:][:,noti]),cov_mat[noti,i]))\n",
    "        chol_cond_std.append(np.linalg.cholesky([[cond_std]]).flatten())\n",
    "        std_cond_norm.append(cond_std)\n",
    "        for j in range(0, len(Z)):\n",
    "            mui_on_noti[j][i] = np.matmul(cov_mat[i,noti], np.matmul(np.linalg.inv(cov_mat[noti,:][:,noti]),Z[j,noti]))\n",
    "    # less then 2 dimenional matrix case\n",
    "    else:\n",
    "        cond_std = cov_mat[i][i] - np.matmul(cov_mat[i,noti],np.matmul(cov_mat[noti,:][:,noti],cov_mat[noti,i]))\n",
    "        chol_cond_std.append(np.linalg.cholesky([[cond_std]]).flatten())\n",
    "        std_cond_norm.append(cond_std)\n",
    "        for j in range(0, len(Z)):\n",
    "            mui_on_noti[j][i] = np.matmul(cov_mat[i, noti],np.matmul(cov_mat[noti,:][:,noti]*Z[j, noti]))\n",
    "#stars_pbar.update(1)\n",
    "display(std_cond_norm)\n",
    "display(chol_cond_std)\n",
    "display(mui_on_noti)"
   ]
  },
  {
   "cell_type": "code",
   "execution_count": 20,
   "id": "3dc2d686-e7aa-4cd2-8613-c3eb42f0ac98",
   "metadata": {},
   "outputs": [
    {
     "data": {
      "text/plain": [
       "(10, 2, 50)"
      ]
     },
     "execution_count": 20,
     "metadata": {},
     "output_type": "execute_result"
    }
   ],
   "source": [
    "# Generate directional sample:\n",
    "# Create samples in correlated standard normal space\n",
    "all_section_condZ = []\n",
    "condZ = []\n",
    "for j in range(0, num_dir_samples):\n",
    "    stnrm_base = np.random.default_rng().multivariate_normal(np.zeros(n_var), np.eye(n_var), size=num_stars) # is there a way to do this without using cholesky method?\n",
    "    for i in range(0, n_var):\n",
    "        condZ.append(stnrm_base[:, i]*chol_cond_std[i] + mui_on_noti[:, i])\n",
    "    all_section_condZ.append(condZ.copy())\n",
    "    condZ.clear()\n",
    "#stars_pbar.update(1)\n",
    "    \n",
    "np.array(all_section_condZ).shape"
   ]
  },
  {
   "cell_type": "code",
   "execution_count": 21,
   "id": "82def3cd-1173-4d7b-9b5f-8880f9bf6acb",
   "metadata": {},
   "outputs": [
    {
     "data": {
      "text/plain": [
       "(10, 2, 50, 2)"
      ]
     },
     "execution_count": 21,
     "metadata": {},
     "output_type": "execute_result"
    }
   ],
   "source": [
    "# transform to original distribution and compute response surface\n",
    "Xi_on_Xnoti = []\n",
    "tmp1 = []\n",
    "Xi_on_Xnoti_and_Xnoti_temp = []\n",
    "Xi_on_Xnoti_and_Xnoti = []\n",
    "for j in range(0, num_dir_samples):\n",
    "    for i in range(0, len(parameters)):\n",
    "        tmp1.append(n2x_transform(np.array([all_section_condZ[j][i]]).transpose(), [param_info[i]]).flatten())\n",
    "        tmp2 = X.copy()\n",
    "        tmp2[:, i] = tmp1[i]\n",
    "        Xi_on_Xnoti_and_Xnoti_temp.append(tmp2.copy()) \n",
    "    # attatch results from tmp1 onto Xi_on_Xnoti and Xi_on_Xnoti_and_Xnoti\n",
    "    Xi_on_Xnoti.append(tmp1.copy())\n",
    "    tmp1.clear() # clear for next iteration\n",
    "    Xi_on_Xnoti_and_Xnoti.append(Xi_on_Xnoti_and_Xnoti_temp.copy())\n",
    "    Xi_on_Xnoti_and_Xnoti_temp.clear() # clear for next iteration\n",
    "#stars_pbar.update(1)\n",
    "np.array(Xi_on_Xnoti_and_Xnoti).shape # check that shape is the same as all_section condZ"
   ]
  },
  {
   "cell_type": "code",
   "execution_count": 22,
   "id": "9ca0e96a-49d4-40b6-8a83-d8059babd566",
   "metadata": {},
   "outputs": [],
   "source": [
    "# Put Star points into a dataframe\n",
    "params = [*parameters]\n",
    "star_points = {}\n",
    "points = {}\n",
    "temp = np.zeros([num_dir_samples, len(parameters)])\n",
    "for i in range(0, num_stars):\n",
    "    for j in range(0, len(parameters)):\n",
    "        for k in range(0, num_dir_samples):\n",
    "            temp[k, :] = Xi_on_Xnoti_and_Xnoti[k][j][i]\n",
    "        points[params[j]] = np.copy(temp)\n",
    "    star_points[i] = points.copy()\n",
    "#stars_pbar.update(1)"
   ]
  },
  {
   "cell_type": "code",
   "execution_count": 23,
   "id": "9d0ac6b2-fdc6-4ca2-905d-a398471f4837",
   "metadata": {},
   "outputs": [
    {
     "data": {
      "text/html": [
       "<div>\n",
       "<style scoped>\n",
       "    .dataframe tbody tr th:only-of-type {\n",
       "        vertical-align: middle;\n",
       "    }\n",
       "\n",
       "    .dataframe tbody tr th {\n",
       "        vertical-align: top;\n",
       "    }\n",
       "\n",
       "    .dataframe thead th {\n",
       "        text-align: right;\n",
       "    }\n",
       "</style>\n",
       "<table border=\"1\" class=\"dataframe\">\n",
       "  <thead>\n",
       "    <tr style=\"text-align: right;\">\n",
       "      <th></th>\n",
       "      <th></th>\n",
       "      <th></th>\n",
       "      <th>0</th>\n",
       "      <th>1</th>\n",
       "    </tr>\n",
       "    <tr>\n",
       "      <th>centre</th>\n",
       "      <th>param</th>\n",
       "      <th>points</th>\n",
       "      <th></th>\n",
       "      <th></th>\n",
       "    </tr>\n",
       "  </thead>\n",
       "  <tbody>\n",
       "    <tr>\n",
       "      <th rowspan=\"5\" valign=\"top\">0</th>\n",
       "      <th rowspan=\"5\" valign=\"top\">x1</th>\n",
       "      <th>0</th>\n",
       "      <td>8.619818</td>\n",
       "      <td>0.476848</td>\n",
       "    </tr>\n",
       "    <tr>\n",
       "      <th>1</th>\n",
       "      <td>7.070464</td>\n",
       "      <td>0.476848</td>\n",
       "    </tr>\n",
       "    <tr>\n",
       "      <th>2</th>\n",
       "      <td>8.025801</td>\n",
       "      <td>0.476848</td>\n",
       "    </tr>\n",
       "    <tr>\n",
       "      <th>3</th>\n",
       "      <td>5.201690</td>\n",
       "      <td>0.476848</td>\n",
       "    </tr>\n",
       "    <tr>\n",
       "      <th>4</th>\n",
       "      <td>8.765391</td>\n",
       "      <td>0.476848</td>\n",
       "    </tr>\n",
       "    <tr>\n",
       "      <th>...</th>\n",
       "      <th>...</th>\n",
       "      <th>...</th>\n",
       "      <td>...</td>\n",
       "      <td>...</td>\n",
       "    </tr>\n",
       "    <tr>\n",
       "      <th rowspan=\"5\" valign=\"top\">49</th>\n",
       "      <th rowspan=\"5\" valign=\"top\">x2</th>\n",
       "      <th>5</th>\n",
       "      <td>6.204687</td>\n",
       "      <td>0.114040</td>\n",
       "    </tr>\n",
       "    <tr>\n",
       "      <th>6</th>\n",
       "      <td>6.204687</td>\n",
       "      <td>0.774198</td>\n",
       "    </tr>\n",
       "    <tr>\n",
       "      <th>7</th>\n",
       "      <td>6.204687</td>\n",
       "      <td>0.548366</td>\n",
       "    </tr>\n",
       "    <tr>\n",
       "      <th>8</th>\n",
       "      <td>6.204687</td>\n",
       "      <td>0.694823</td>\n",
       "    </tr>\n",
       "    <tr>\n",
       "      <th>9</th>\n",
       "      <td>6.204687</td>\n",
       "      <td>0.583816</td>\n",
       "    </tr>\n",
       "  </tbody>\n",
       "</table>\n",
       "<p>1000 rows × 2 columns</p>\n",
       "</div>"
      ],
      "text/plain": [
       "                            0         1\n",
       "centre param points                    \n",
       "0      x1    0       8.619818  0.476848\n",
       "             1       7.070464  0.476848\n",
       "             2       8.025801  0.476848\n",
       "             3       5.201690  0.476848\n",
       "             4       8.765391  0.476848\n",
       "...                       ...       ...\n",
       "49     x2    5       6.204687  0.114040\n",
       "             6       6.204687  0.774198\n",
       "             7       6.204687  0.548366\n",
       "             8       6.204687  0.694823\n",
       "             9       6.204687  0.583816\n",
       "\n",
       "[1000 rows x 2 columns]"
      ]
     },
     "execution_count": 23,
     "metadata": {},
     "output_type": "execute_result"
    }
   ],
   "source": [
    "star_points_df = pd.concat({key: pd.concat({k: pd.DataFrame(d) for k, d in value.items()}) for key, value in star_points.items()})\n",
    "star_points_df.index.names=['centre', 'param', 'points']\n",
    "#stars_pbar.update(1)\n",
    "star_points_df"
   ]
  },
  {
   "cell_type": "code",
   "execution_count": 24,
   "id": "c3e733e7-03e7-48bd-96ec-954abcc7e1ac",
   "metadata": {},
   "outputs": [
    {
     "data": {
      "application/vnd.jupyter.widget-view+json": {
       "model_id": "fcfbea0d28844bcaa48f0e3848dbf7ae",
       "version_major": 2,
       "version_minor": 0
      },
      "text/plain": [
       "linear_additive evaluation:   0%|          | 0/1000 [00:00<?, ?it/s]"
      ]
     },
     "metadata": {},
     "output_type": "display_data"
    },
    {
     "data": {
      "text/html": [
       "<div>\n",
       "<style scoped>\n",
       "    .dataframe tbody tr th:only-of-type {\n",
       "        vertical-align: middle;\n",
       "    }\n",
       "\n",
       "    .dataframe tbody tr th {\n",
       "        vertical-align: top;\n",
       "    }\n",
       "\n",
       "    .dataframe thead th {\n",
       "        text-align: right;\n",
       "    }\n",
       "</style>\n",
       "<table border=\"1\" class=\"dataframe\">\n",
       "  <thead>\n",
       "    <tr style=\"text-align: right;\">\n",
       "      <th></th>\n",
       "      <th></th>\n",
       "      <th></th>\n",
       "      <th>0</th>\n",
       "      <th>1</th>\n",
       "      <th>linear_additive</th>\n",
       "    </tr>\n",
       "    <tr>\n",
       "      <th>centre</th>\n",
       "      <th>param</th>\n",
       "      <th>points</th>\n",
       "      <th></th>\n",
       "      <th></th>\n",
       "      <th></th>\n",
       "    </tr>\n",
       "  </thead>\n",
       "  <tbody>\n",
       "    <tr>\n",
       "      <th rowspan=\"5\" valign=\"top\">0</th>\n",
       "      <th rowspan=\"5\" valign=\"top\">x1</th>\n",
       "      <th>0</th>\n",
       "      <td>8.619818</td>\n",
       "      <td>0.476848</td>\n",
       "      <td>18.670179</td>\n",
       "    </tr>\n",
       "    <tr>\n",
       "      <th>1</th>\n",
       "      <td>7.070464</td>\n",
       "      <td>0.476848</td>\n",
       "      <td>15.571471</td>\n",
       "    </tr>\n",
       "    <tr>\n",
       "      <th>2</th>\n",
       "      <td>8.025801</td>\n",
       "      <td>0.476848</td>\n",
       "      <td>17.482146</td>\n",
       "    </tr>\n",
       "    <tr>\n",
       "      <th>3</th>\n",
       "      <td>5.201690</td>\n",
       "      <td>0.476848</td>\n",
       "      <td>11.833923</td>\n",
       "    </tr>\n",
       "    <tr>\n",
       "      <th>4</th>\n",
       "      <td>8.765391</td>\n",
       "      <td>0.476848</td>\n",
       "      <td>18.961326</td>\n",
       "    </tr>\n",
       "    <tr>\n",
       "      <th>...</th>\n",
       "      <th>...</th>\n",
       "      <th>...</th>\n",
       "      <td>...</td>\n",
       "      <td>...</td>\n",
       "      <td>...</td>\n",
       "    </tr>\n",
       "    <tr>\n",
       "      <th rowspan=\"5\" valign=\"top\">49</th>\n",
       "      <th rowspan=\"5\" valign=\"top\">x2</th>\n",
       "      <th>5</th>\n",
       "      <td>6.204687</td>\n",
       "      <td>0.114040</td>\n",
       "      <td>12.751494</td>\n",
       "    </tr>\n",
       "    <tr>\n",
       "      <th>6</th>\n",
       "      <td>6.204687</td>\n",
       "      <td>0.774198</td>\n",
       "      <td>14.731967</td>\n",
       "    </tr>\n",
       "    <tr>\n",
       "      <th>7</th>\n",
       "      <td>6.204687</td>\n",
       "      <td>0.548366</td>\n",
       "      <td>14.054472</td>\n",
       "    </tr>\n",
       "    <tr>\n",
       "      <th>8</th>\n",
       "      <td>6.204687</td>\n",
       "      <td>0.694823</td>\n",
       "      <td>14.493844</td>\n",
       "    </tr>\n",
       "    <tr>\n",
       "      <th>9</th>\n",
       "      <td>6.204687</td>\n",
       "      <td>0.583816</td>\n",
       "      <td>14.160822</td>\n",
       "    </tr>\n",
       "  </tbody>\n",
       "</table>\n",
       "<p>1000 rows × 3 columns</p>\n",
       "</div>"
      ],
      "text/plain": [
       "                            0         1  linear_additive\n",
       "centre param points                                     \n",
       "0      x1    0       8.619818  0.476848        18.670179\n",
       "             1       7.070464  0.476848        15.571471\n",
       "             2       8.025801  0.476848        17.482146\n",
       "             3       5.201690  0.476848        11.833923\n",
       "             4       8.765391  0.476848        18.961326\n",
       "...                       ...       ...              ...\n",
       "49     x2    5       6.204687  0.114040        12.751494\n",
       "             6       6.204687  0.774198        14.731967\n",
       "             7       6.204687  0.548366        14.054472\n",
       "             8       6.204687  0.694823        14.493844\n",
       "             9       6.204687  0.583816        14.160822\n",
       "\n",
       "[1000 rows x 3 columns]"
      ]
     },
     "execution_count": 24,
     "metadata": {},
     "output_type": "execute_result"
    }
   ],
   "source": [
    "model_name = linear_additive\n",
    "df = apply_unique(model_name, star_points_df, axis=1)\n",
    "df.index.names=['centre', 'param', 'points']\n",
    "df"
   ]
  },
  {
   "cell_type": "code",
   "execution_count": 38,
   "id": "0eea66ae-1734-4b0b-ba34-f86ece823eb8",
   "metadata": {
    "tags": []
   },
   "outputs": [
    {
     "data": {
      "application/vnd.jupyter.widget-view+json": {
       "model_id": "0b6de795c3654cf397480f596380c205",
       "version_major": 2,
       "version_minor": 0
      },
      "text/plain": [
       "building pairs:   0%|          | 0/100 [00:00<?, ?it/s]"
      ]
     },
     "metadata": {},
     "output_type": "display_data"
    },
    {
     "data": {
      "text/html": [
       "<div>\n",
       "<style scoped>\n",
       "    .dataframe tbody tr th:only-of-type {\n",
       "        vertical-align: middle;\n",
       "    }\n",
       "\n",
       "    .dataframe tbody tr th {\n",
       "        vertical-align: top;\n",
       "    }\n",
       "\n",
       "    .dataframe thead th {\n",
       "        text-align: right;\n",
       "    }\n",
       "</style>\n",
       "<table border=\"1\" class=\"dataframe\">\n",
       "  <thead>\n",
       "    <tr style=\"text-align: right;\">\n",
       "      <th></th>\n",
       "      <th></th>\n",
       "      <th></th>\n",
       "      <th>0</th>\n",
       "      <th>1</th>\n",
       "    </tr>\n",
       "    <tr>\n",
       "      <th>centre</th>\n",
       "      <th>param</th>\n",
       "      <th>pair_ind</th>\n",
       "      <th></th>\n",
       "      <th></th>\n",
       "    </tr>\n",
       "  </thead>\n",
       "  <tbody>\n",
       "    <tr>\n",
       "      <th rowspan=\"5\" valign=\"top\">0</th>\n",
       "      <th rowspan=\"5\" valign=\"top\">x1</th>\n",
       "      <th>(0, 1)</th>\n",
       "      <td>18.670179</td>\n",
       "      <td>15.571471</td>\n",
       "    </tr>\n",
       "    <tr>\n",
       "      <th>(1, 2)</th>\n",
       "      <td>15.571471</td>\n",
       "      <td>17.482146</td>\n",
       "    </tr>\n",
       "    <tr>\n",
       "      <th>(2, 3)</th>\n",
       "      <td>17.482146</td>\n",
       "      <td>11.833923</td>\n",
       "    </tr>\n",
       "    <tr>\n",
       "      <th>(3, 4)</th>\n",
       "      <td>11.833923</td>\n",
       "      <td>18.961326</td>\n",
       "    </tr>\n",
       "    <tr>\n",
       "      <th>(4, 5)</th>\n",
       "      <td>18.961326</td>\n",
       "      <td>16.081326</td>\n",
       "    </tr>\n",
       "    <tr>\n",
       "      <th>...</th>\n",
       "      <th>...</th>\n",
       "      <th>...</th>\n",
       "      <td>...</td>\n",
       "      <td>...</td>\n",
       "    </tr>\n",
       "    <tr>\n",
       "      <th rowspan=\"5\" valign=\"top\">49</th>\n",
       "      <th rowspan=\"5\" valign=\"top\">x2</th>\n",
       "      <th>(1, 8)</th>\n",
       "      <td>14.606092</td>\n",
       "      <td>14.493844</td>\n",
       "    </tr>\n",
       "    <tr>\n",
       "      <th>(2, 9)</th>\n",
       "      <td>13.219412</td>\n",
       "      <td>14.160822</td>\n",
       "    </tr>\n",
       "    <tr>\n",
       "      <th>(0, 8)</th>\n",
       "      <td>15.222862</td>\n",
       "      <td>14.493844</td>\n",
       "    </tr>\n",
       "    <tr>\n",
       "      <th>(1, 9)</th>\n",
       "      <td>14.606092</td>\n",
       "      <td>14.160822</td>\n",
       "    </tr>\n",
       "    <tr>\n",
       "      <th>(0, 9)</th>\n",
       "      <td>15.222862</td>\n",
       "      <td>14.160822</td>\n",
       "    </tr>\n",
       "  </tbody>\n",
       "</table>\n",
       "<p>4500 rows × 2 columns</p>\n",
       "</div>"
      ],
      "text/plain": [
       "                               0          1\n",
       "centre param pair_ind                      \n",
       "0      x1    (0, 1)    18.670179  15.571471\n",
       "             (1, 2)    15.571471  17.482146\n",
       "             (2, 3)    17.482146  11.833923\n",
       "             (3, 4)    11.833923  18.961326\n",
       "             (4, 5)    18.961326  16.081326\n",
       "...                          ...        ...\n",
       "49     x2    (1, 8)    14.606092  14.493844\n",
       "             (2, 9)    13.219412  14.160822\n",
       "             (0, 8)    15.222862  14.493844\n",
       "             (1, 9)    14.606092  14.160822\n",
       "             (0, 9)    15.222862  14.160822\n",
       "\n",
       "[4500 rows x 2 columns]"
      ]
     },
     "execution_count": 38,
     "metadata": {},
     "output_type": "execute_result"
    }
   ],
   "source": [
    "# getting the paired values of each section based on `h`\n",
    "tqdm.pandas(desc='building pairs')\n",
    "\n",
    "pair_df = df[model_name.__name__].groupby(level=[0,1]).progress_apply(section_df, delta_h=delta_h)\n",
    "pair_df.index.names = ['centre', 'param', 'h', 'pair_ind']\n",
    "# drop irrelevant h values\n",
    "pair_df = pair_df.droplevel('h')\n",
    "pair_df"
   ]
  },
  {
   "cell_type": "code",
   "execution_count": 39,
   "id": "06042982-04b1-47d9-8613-acc67393e003",
   "metadata": {
    "tags": []
   },
   "outputs": [
    {
     "data": {
      "text/plain": [
       "array([10.,  1.])"
      ]
     },
     "metadata": {},
     "output_type": "display_data"
    },
    {
     "data": {
      "text/plain": [
       "array([5., 0.])"
      ]
     },
     "metadata": {},
     "output_type": "display_data"
    },
    {
     "data": {
      "application/vnd.jupyter.widget-view+json": {
       "model_id": "178c49cf71c54174b00ddc92de59eeb7",
       "version_major": 2,
       "version_minor": 0
      },
      "text/plain": [
       "calculating 'h' values:   0%|          | 0/50 [00:00<?, ?it/s]"
      ]
     },
     "metadata": {},
     "output_type": "display_data"
    },
    {
     "data": {
      "text/plain": [
       "45"
      ]
     },
     "metadata": {},
     "output_type": "display_data"
    },
    {
     "data": {
      "text/plain": [
       "90"
      ]
     },
     "metadata": {},
     "output_type": "display_data"
    },
    {
     "data": {
      "text/plain": [
       "135"
      ]
     },
     "metadata": {},
     "output_type": "display_data"
    },
    {
     "data": {
      "text/plain": [
       "180"
      ]
     },
     "metadata": {},
     "output_type": "display_data"
    },
    {
     "data": {
      "text/plain": [
       "225"
      ]
     },
     "metadata": {},
     "output_type": "display_data"
    },
    {
     "data": {
      "text/plain": [
       "270"
      ]
     },
     "metadata": {},
     "output_type": "display_data"
    },
    {
     "data": {
      "text/plain": [
       "315"
      ]
     },
     "metadata": {},
     "output_type": "display_data"
    },
    {
     "data": {
      "text/plain": [
       "360"
      ]
     },
     "metadata": {},
     "output_type": "display_data"
    },
    {
     "data": {
      "text/plain": [
       "405"
      ]
     },
     "metadata": {},
     "output_type": "display_data"
    },
    {
     "data": {
      "text/plain": [
       "450"
      ]
     },
     "metadata": {},
     "output_type": "display_data"
    },
    {
     "data": {
      "text/plain": [
       "495"
      ]
     },
     "metadata": {},
     "output_type": "display_data"
    },
    {
     "data": {
      "text/plain": [
       "540"
      ]
     },
     "metadata": {},
     "output_type": "display_data"
    },
    {
     "data": {
      "text/plain": [
       "585"
      ]
     },
     "metadata": {},
     "output_type": "display_data"
    },
    {
     "data": {
      "text/plain": [
       "630"
      ]
     },
     "metadata": {},
     "output_type": "display_data"
    },
    {
     "data": {
      "text/plain": [
       "675"
      ]
     },
     "metadata": {},
     "output_type": "display_data"
    },
    {
     "data": {
      "text/plain": [
       "720"
      ]
     },
     "metadata": {},
     "output_type": "display_data"
    },
    {
     "data": {
      "text/plain": [
       "765"
      ]
     },
     "metadata": {},
     "output_type": "display_data"
    },
    {
     "data": {
      "text/plain": [
       "810"
      ]
     },
     "metadata": {},
     "output_type": "display_data"
    },
    {
     "data": {
      "text/plain": [
       "855"
      ]
     },
     "metadata": {},
     "output_type": "display_data"
    },
    {
     "data": {
      "text/plain": [
       "900"
      ]
     },
     "metadata": {},
     "output_type": "display_data"
    },
    {
     "data": {
      "text/plain": [
       "945"
      ]
     },
     "metadata": {},
     "output_type": "display_data"
    },
    {
     "data": {
      "text/plain": [
       "990"
      ]
     },
     "metadata": {},
     "output_type": "display_data"
    },
    {
     "data": {
      "text/plain": [
       "1035"
      ]
     },
     "metadata": {},
     "output_type": "display_data"
    },
    {
     "data": {
      "text/plain": [
       "1080"
      ]
     },
     "metadata": {},
     "output_type": "display_data"
    },
    {
     "data": {
      "text/plain": [
       "1125"
      ]
     },
     "metadata": {},
     "output_type": "display_data"
    },
    {
     "data": {
      "text/plain": [
       "1170"
      ]
     },
     "metadata": {},
     "output_type": "display_data"
    },
    {
     "data": {
      "text/plain": [
       "1215"
      ]
     },
     "metadata": {},
     "output_type": "display_data"
    },
    {
     "data": {
      "text/plain": [
       "1260"
      ]
     },
     "metadata": {},
     "output_type": "display_data"
    },
    {
     "data": {
      "text/plain": [
       "1305"
      ]
     },
     "metadata": {},
     "output_type": "display_data"
    },
    {
     "data": {
      "text/plain": [
       "1350"
      ]
     },
     "metadata": {},
     "output_type": "display_data"
    },
    {
     "data": {
      "text/plain": [
       "1395"
      ]
     },
     "metadata": {},
     "output_type": "display_data"
    },
    {
     "data": {
      "text/plain": [
       "1440"
      ]
     },
     "metadata": {},
     "output_type": "display_data"
    },
    {
     "data": {
      "text/plain": [
       "1485"
      ]
     },
     "metadata": {},
     "output_type": "display_data"
    },
    {
     "data": {
      "text/plain": [
       "1530"
      ]
     },
     "metadata": {},
     "output_type": "display_data"
    },
    {
     "data": {
      "text/plain": [
       "1575"
      ]
     },
     "metadata": {},
     "output_type": "display_data"
    },
    {
     "data": {
      "text/plain": [
       "1620"
      ]
     },
     "metadata": {},
     "output_type": "display_data"
    },
    {
     "data": {
      "text/plain": [
       "1665"
      ]
     },
     "metadata": {},
     "output_type": "display_data"
    },
    {
     "data": {
      "text/plain": [
       "1710"
      ]
     },
     "metadata": {},
     "output_type": "display_data"
    },
    {
     "data": {
      "text/plain": [
       "1755"
      ]
     },
     "metadata": {},
     "output_type": "display_data"
    },
    {
     "data": {
      "text/plain": [
       "1800"
      ]
     },
     "metadata": {},
     "output_type": "display_data"
    },
    {
     "data": {
      "text/plain": [
       "1845"
      ]
     },
     "metadata": {},
     "output_type": "display_data"
    },
    {
     "data": {
      "text/plain": [
       "1890"
      ]
     },
     "metadata": {},
     "output_type": "display_data"
    },
    {
     "data": {
      "text/plain": [
       "1935"
      ]
     },
     "metadata": {},
     "output_type": "display_data"
    },
    {
     "data": {
      "text/plain": [
       "1980"
      ]
     },
     "metadata": {},
     "output_type": "display_data"
    },
    {
     "data": {
      "text/plain": [
       "2025"
      ]
     },
     "metadata": {},
     "output_type": "display_data"
    },
    {
     "data": {
      "text/plain": [
       "2070"
      ]
     },
     "metadata": {},
     "output_type": "display_data"
    },
    {
     "data": {
      "text/plain": [
       "2115"
      ]
     },
     "metadata": {},
     "output_type": "display_data"
    },
    {
     "data": {
      "text/plain": [
       "2160"
      ]
     },
     "metadata": {},
     "output_type": "display_data"
    },
    {
     "data": {
      "text/plain": [
       "2205"
      ]
     },
     "metadata": {},
     "output_type": "display_data"
    },
    {
     "data": {
      "text/plain": [
       "2250"
      ]
     },
     "metadata": {},
     "output_type": "display_data"
    },
    {
     "data": {
      "text/plain": [
       "2295"
      ]
     },
     "metadata": {},
     "output_type": "display_data"
    },
    {
     "data": {
      "text/plain": [
       "2340"
      ]
     },
     "metadata": {},
     "output_type": "display_data"
    },
    {
     "data": {
      "text/plain": [
       "2385"
      ]
     },
     "metadata": {},
     "output_type": "display_data"
    },
    {
     "data": {
      "text/plain": [
       "2430"
      ]
     },
     "metadata": {},
     "output_type": "display_data"
    },
    {
     "data": {
      "text/plain": [
       "2475"
      ]
     },
     "metadata": {},
     "output_type": "display_data"
    },
    {
     "data": {
      "text/plain": [
       "2520"
      ]
     },
     "metadata": {},
     "output_type": "display_data"
    },
    {
     "data": {
      "text/plain": [
       "2565"
      ]
     },
     "metadata": {},
     "output_type": "display_data"
    },
    {
     "data": {
      "text/plain": [
       "2610"
      ]
     },
     "metadata": {},
     "output_type": "display_data"
    },
    {
     "data": {
      "text/plain": [
       "2655"
      ]
     },
     "metadata": {},
     "output_type": "display_data"
    },
    {
     "data": {
      "text/plain": [
       "2700"
      ]
     },
     "metadata": {},
     "output_type": "display_data"
    },
    {
     "data": {
      "text/plain": [
       "2745"
      ]
     },
     "metadata": {},
     "output_type": "display_data"
    },
    {
     "data": {
      "text/plain": [
       "2790"
      ]
     },
     "metadata": {},
     "output_type": "display_data"
    },
    {
     "data": {
      "text/plain": [
       "2835"
      ]
     },
     "metadata": {},
     "output_type": "display_data"
    },
    {
     "data": {
      "text/plain": [
       "2880"
      ]
     },
     "metadata": {},
     "output_type": "display_data"
    },
    {
     "data": {
      "text/plain": [
       "2925"
      ]
     },
     "metadata": {},
     "output_type": "display_data"
    },
    {
     "data": {
      "text/plain": [
       "2970"
      ]
     },
     "metadata": {},
     "output_type": "display_data"
    },
    {
     "data": {
      "text/plain": [
       "3015"
      ]
     },
     "metadata": {},
     "output_type": "display_data"
    },
    {
     "data": {
      "text/plain": [
       "3060"
      ]
     },
     "metadata": {},
     "output_type": "display_data"
    },
    {
     "data": {
      "text/plain": [
       "3105"
      ]
     },
     "metadata": {},
     "output_type": "display_data"
    },
    {
     "data": {
      "text/plain": [
       "3150"
      ]
     },
     "metadata": {},
     "output_type": "display_data"
    },
    {
     "data": {
      "text/plain": [
       "3195"
      ]
     },
     "metadata": {},
     "output_type": "display_data"
    },
    {
     "data": {
      "text/plain": [
       "3240"
      ]
     },
     "metadata": {},
     "output_type": "display_data"
    },
    {
     "data": {
      "text/plain": [
       "3285"
      ]
     },
     "metadata": {},
     "output_type": "display_data"
    },
    {
     "data": {
      "text/plain": [
       "3330"
      ]
     },
     "metadata": {},
     "output_type": "display_data"
    },
    {
     "data": {
      "text/plain": [
       "3375"
      ]
     },
     "metadata": {},
     "output_type": "display_data"
    },
    {
     "data": {
      "text/plain": [
       "3420"
      ]
     },
     "metadata": {},
     "output_type": "display_data"
    },
    {
     "data": {
      "text/plain": [
       "3465"
      ]
     },
     "metadata": {},
     "output_type": "display_data"
    },
    {
     "data": {
      "text/plain": [
       "3510"
      ]
     },
     "metadata": {},
     "output_type": "display_data"
    },
    {
     "data": {
      "text/plain": [
       "3555"
      ]
     },
     "metadata": {},
     "output_type": "display_data"
    },
    {
     "data": {
      "text/plain": [
       "3600"
      ]
     },
     "metadata": {},
     "output_type": "display_data"
    },
    {
     "data": {
      "text/plain": [
       "3645"
      ]
     },
     "metadata": {},
     "output_type": "display_data"
    },
    {
     "data": {
      "text/plain": [
       "3690"
      ]
     },
     "metadata": {},
     "output_type": "display_data"
    },
    {
     "data": {
      "text/plain": [
       "3735"
      ]
     },
     "metadata": {},
     "output_type": "display_data"
    },
    {
     "data": {
      "text/plain": [
       "3780"
      ]
     },
     "metadata": {},
     "output_type": "display_data"
    },
    {
     "data": {
      "text/plain": [
       "3825"
      ]
     },
     "metadata": {},
     "output_type": "display_data"
    },
    {
     "data": {
      "text/plain": [
       "3870"
      ]
     },
     "metadata": {},
     "output_type": "display_data"
    },
    {
     "data": {
      "text/plain": [
       "3915"
      ]
     },
     "metadata": {},
     "output_type": "display_data"
    },
    {
     "data": {
      "text/plain": [
       "3960"
      ]
     },
     "metadata": {},
     "output_type": "display_data"
    },
    {
     "data": {
      "text/plain": [
       "4005"
      ]
     },
     "metadata": {},
     "output_type": "display_data"
    },
    {
     "data": {
      "text/plain": [
       "4050"
      ]
     },
     "metadata": {},
     "output_type": "display_data"
    },
    {
     "data": {
      "text/plain": [
       "4095"
      ]
     },
     "metadata": {},
     "output_type": "display_data"
    },
    {
     "data": {
      "text/plain": [
       "4140"
      ]
     },
     "metadata": {},
     "output_type": "display_data"
    },
    {
     "data": {
      "text/plain": [
       "4185"
      ]
     },
     "metadata": {},
     "output_type": "display_data"
    },
    {
     "data": {
      "text/plain": [
       "4230"
      ]
     },
     "metadata": {},
     "output_type": "display_data"
    },
    {
     "data": {
      "text/plain": [
       "4275"
      ]
     },
     "metadata": {},
     "output_type": "display_data"
    },
    {
     "data": {
      "text/plain": [
       "4320"
      ]
     },
     "metadata": {},
     "output_type": "display_data"
    },
    {
     "data": {
      "text/plain": [
       "4365"
      ]
     },
     "metadata": {},
     "output_type": "display_data"
    },
    {
     "data": {
      "text/plain": [
       "4410"
      ]
     },
     "metadata": {},
     "output_type": "display_data"
    },
    {
     "data": {
      "text/plain": [
       "4455"
      ]
     },
     "metadata": {},
     "output_type": "display_data"
    },
    {
     "data": {
      "text/plain": [
       "4500"
      ]
     },
     "metadata": {},
     "output_type": "display_data"
    },
    {
     "data": {
      "application/vnd.jupyter.widget-view+json": {
       "model_id": "69faebbd7a1f470095a069dc56ef5b97",
       "version_major": 2,
       "version_minor": 0
      },
      "text/plain": [
       "binning and reording pairs based on 'h' values:   0%|          | 0/2 [00:00<?, ?it/s]"
      ]
     },
     "metadata": {},
     "output_type": "display_data"
    },
    {
     "data": {
      "text/html": [
       "<div>\n",
       "<style scoped>\n",
       "    .dataframe tbody tr th:only-of-type {\n",
       "        vertical-align: middle;\n",
       "    }\n",
       "\n",
       "    .dataframe tbody tr th {\n",
       "        vertical-align: top;\n",
       "    }\n",
       "\n",
       "    .dataframe thead th {\n",
       "        text-align: right;\n",
       "    }\n",
       "</style>\n",
       "<table border=\"1\" class=\"dataframe\">\n",
       "  <thead>\n",
       "    <tr style=\"text-align: right;\">\n",
       "      <th></th>\n",
       "      <th></th>\n",
       "      <th></th>\n",
       "      <th></th>\n",
       "      <th></th>\n",
       "      <th>0</th>\n",
       "      <th>1</th>\n",
       "    </tr>\n",
       "    <tr>\n",
       "      <th>centre</th>\n",
       "      <th>param</th>\n",
       "      <th>h</th>\n",
       "      <th>actual h</th>\n",
       "      <th>pair_ind</th>\n",
       "      <th></th>\n",
       "      <th></th>\n",
       "    </tr>\n",
       "  </thead>\n",
       "  <tbody>\n",
       "    <tr>\n",
       "      <th rowspan=\"5\" valign=\"top\">0</th>\n",
       "      <th rowspan=\"5\" valign=\"top\">x1</th>\n",
       "      <th rowspan=\"5\" valign=\"top\">0.05</th>\n",
       "      <th>0.028666</th>\n",
       "      <th>(3, 4)</th>\n",
       "      <td>11.833923</td>\n",
       "      <td>18.961326</td>\n",
       "    </tr>\n",
       "    <tr>\n",
       "      <th>0.029115</th>\n",
       "      <th>(4, 5)</th>\n",
       "      <td>18.961326</td>\n",
       "      <td>16.081326</td>\n",
       "    </tr>\n",
       "    <tr>\n",
       "      <th>0.032904</th>\n",
       "      <th>(5, 6)</th>\n",
       "      <td>16.081326</td>\n",
       "      <td>18.999215</td>\n",
       "    </tr>\n",
       "    <tr>\n",
       "      <th>0.050075</th>\n",
       "      <th>(6, 7)</th>\n",
       "      <td>18.999215</td>\n",
       "      <td>14.596643</td>\n",
       "    </tr>\n",
       "    <tr>\n",
       "      <th>0.050986</th>\n",
       "      <th>(7, 8)</th>\n",
       "      <td>14.596643</td>\n",
       "      <td>18.956838</td>\n",
       "    </tr>\n",
       "    <tr>\n",
       "      <th>...</th>\n",
       "      <th>...</th>\n",
       "      <th>...</th>\n",
       "      <th>...</th>\n",
       "      <th>...</th>\n",
       "      <td>...</td>\n",
       "      <td>...</td>\n",
       "    </tr>\n",
       "    <tr>\n",
       "      <th rowspan=\"5\" valign=\"top\">49</th>\n",
       "      <th rowspan=\"5\" valign=\"top\">x2</th>\n",
       "      <th>0.70</th>\n",
       "      <th>0.682073</th>\n",
       "      <th>(0, 8)</th>\n",
       "      <td>15.222862</td>\n",
       "      <td>14.493844</td>\n",
       "    </tr>\n",
       "    <tr>\n",
       "      <th rowspan=\"2\" valign=\"top\">0.80</th>\n",
       "      <th>0.803239</th>\n",
       "      <th>(1, 9)</th>\n",
       "      <td>14.606092</td>\n",
       "      <td>14.160822</td>\n",
       "    </tr>\n",
       "    <tr>\n",
       "      <th>0.823789</th>\n",
       "      <th>(0, 9)</th>\n",
       "      <td>15.222862</td>\n",
       "      <td>14.160822</td>\n",
       "    </tr>\n",
       "    <tr>\n",
       "      <th rowspan=\"2\" valign=\"top\">NaN</th>\n",
       "      <th>0.020551</th>\n",
       "      <th>(0, 1)</th>\n",
       "      <td>15.222862</td>\n",
       "      <td>14.606092</td>\n",
       "    </tr>\n",
       "    <tr>\n",
       "      <th>0.021915</th>\n",
       "      <th>(1, 2)</th>\n",
       "      <td>14.606092</td>\n",
       "      <td>13.219412</td>\n",
       "    </tr>\n",
       "  </tbody>\n",
       "</table>\n",
       "<p>4500 rows × 2 columns</p>\n",
       "</div>"
      ],
      "text/plain": [
       "                                             0          1\n",
       "centre param h    actual h pair_ind                      \n",
       "0      x1    0.05 0.028666 (3, 4)    11.833923  18.961326\n",
       "                  0.029115 (4, 5)    18.961326  16.081326\n",
       "                  0.032904 (5, 6)    16.081326  18.999215\n",
       "                  0.050075 (6, 7)    18.999215  14.596643\n",
       "                  0.050986 (7, 8)    14.596643  18.956838\n",
       "...                                        ...        ...\n",
       "49     x2    0.70 0.682073 (0, 8)    15.222862  14.493844\n",
       "             0.80 0.803239 (1, 9)    14.606092  14.160822\n",
       "                  0.823789 (0, 9)    15.222862  14.160822\n",
       "             NaN  0.020551 (0, 1)    15.222862  14.606092\n",
       "                  0.021915 (1, 2)    14.606092  13.219412\n",
       "\n",
       "[4500 rows x 2 columns]"
      ]
     },
     "execution_count": 39,
     "metadata": {},
     "output_type": "execute_result"
    }
   ],
   "source": [
    "# bin and reorder pairs based on 'h'\n",
    "# note: the distances are being scaled between 0-1 inside the reorder_pairs function, and the star points have not been scaled \n",
    "# so the pair indices will not have the same h value in the star point data frame\n",
    "xmin, xmax = find_boundaries(parameters)\n",
    "display(xmax)\n",
    "display(xmin)\n",
    "pair_df = reorder_pairs(pair_df, num_stars, parameters, df, delta_h, xmax, xmin)\n",
    "pair_df"
   ]
  },
  {
   "cell_type": "code",
   "execution_count": 106,
   "id": "193ecfd6-51c4-4e81-9b0d-cef74af0d42f",
   "metadata": {},
   "outputs": [
    {
     "data": {
      "application/vnd.jupyter.widget-view+json": {
       "model_id": "2fda12fae58941b3b649762ab0df0c32",
       "version_major": 2,
       "version_minor": 0
      },
      "text/plain": [
       "VARS Analysis:   0%|          | 0/10 [00:00<?, ?it/s]"
      ]
     },
     "metadata": {},
     "output_type": "display_data"
    }
   ],
   "source": [
    "vars_pbar = tqdm( desc='VARS Analysis', total=10, )"
   ]
  },
  {
   "cell_type": "code",
   "execution_count": 107,
   "id": "0a0f596d-56ac-4070-b726-4f2c59e77f03",
   "metadata": {},
   "outputs": [
    {
     "name": "stdout",
     "output_type": "stream",
     "text": [
      "Averages of model runs (`mu_star`) calculated - access via .mu_star_df\n"
     ]
    },
    {
     "data": {
      "text/html": [
       "<div>\n",
       "<style scoped>\n",
       "    .dataframe tbody tr th:only-of-type {\n",
       "        vertical-align: middle;\n",
       "    }\n",
       "\n",
       "    .dataframe tbody tr th {\n",
       "        vertical-align: top;\n",
       "    }\n",
       "\n",
       "    .dataframe thead th {\n",
       "        text-align: right;\n",
       "    }\n",
       "</style>\n",
       "<table border=\"1\" class=\"dataframe\">\n",
       "  <thead>\n",
       "    <tr style=\"text-align: right;\">\n",
       "      <th>param</th>\n",
       "      <th>x1</th>\n",
       "      <th>x2</th>\n",
       "    </tr>\n",
       "    <tr>\n",
       "      <th>centre</th>\n",
       "      <th></th>\n",
       "      <th></th>\n",
       "    </tr>\n",
       "  </thead>\n",
       "  <tbody>\n",
       "    <tr>\n",
       "      <th>0</th>\n",
       "      <td>16.426749</td>\n",
       "      <td>17.673007</td>\n",
       "    </tr>\n",
       "    <tr>\n",
       "      <th>1</th>\n",
       "      <td>16.204146</td>\n",
       "      <td>17.545287</td>\n",
       "    </tr>\n",
       "    <tr>\n",
       "      <th>2</th>\n",
       "      <td>15.316798</td>\n",
       "      <td>15.993028</td>\n",
       "    </tr>\n",
       "    <tr>\n",
       "      <th>3</th>\n",
       "      <td>13.808148</td>\n",
       "      <td>13.100866</td>\n",
       "    </tr>\n",
       "    <tr>\n",
       "      <th>4</th>\n",
       "      <td>16.810625</td>\n",
       "      <td>17.842936</td>\n",
       "    </tr>\n",
       "    <tr>\n",
       "      <th>5</th>\n",
       "      <td>15.420003</td>\n",
       "      <td>15.025937</td>\n",
       "    </tr>\n",
       "    <tr>\n",
       "      <th>6</th>\n",
       "      <td>17.135583</td>\n",
       "      <td>16.131712</td>\n",
       "    </tr>\n",
       "    <tr>\n",
       "      <th>7</th>\n",
       "      <td>15.564367</td>\n",
       "      <td>13.512588</td>\n",
       "    </tr>\n",
       "    <tr>\n",
       "      <th>8</th>\n",
       "      <td>13.142547</td>\n",
       "      <td>12.966883</td>\n",
       "    </tr>\n",
       "    <tr>\n",
       "      <th>9</th>\n",
       "      <td>14.096150</td>\n",
       "      <td>13.892384</td>\n",
       "    </tr>\n",
       "    <tr>\n",
       "      <th>10</th>\n",
       "      <td>17.567701</td>\n",
       "      <td>18.379757</td>\n",
       "    </tr>\n",
       "    <tr>\n",
       "      <th>11</th>\n",
       "      <td>15.802890</td>\n",
       "      <td>17.448006</td>\n",
       "    </tr>\n",
       "    <tr>\n",
       "      <th>12</th>\n",
       "      <td>17.936321</td>\n",
       "      <td>19.371871</td>\n",
       "    </tr>\n",
       "    <tr>\n",
       "      <th>13</th>\n",
       "      <td>17.731053</td>\n",
       "      <td>19.039192</td>\n",
       "    </tr>\n",
       "    <tr>\n",
       "      <th>14</th>\n",
       "      <td>14.926704</td>\n",
       "      <td>15.991924</td>\n",
       "    </tr>\n",
       "    <tr>\n",
       "      <th>15</th>\n",
       "      <td>18.837985</td>\n",
       "      <td>20.118811</td>\n",
       "    </tr>\n",
       "    <tr>\n",
       "      <th>16</th>\n",
       "      <td>16.105762</td>\n",
       "      <td>16.414672</td>\n",
       "    </tr>\n",
       "    <tr>\n",
       "      <th>17</th>\n",
       "      <td>18.507629</td>\n",
       "      <td>19.508487</td>\n",
       "    </tr>\n",
       "    <tr>\n",
       "      <th>18</th>\n",
       "      <td>18.784908</td>\n",
       "      <td>19.887834</td>\n",
       "    </tr>\n",
       "    <tr>\n",
       "      <th>19</th>\n",
       "      <td>13.511888</td>\n",
       "      <td>12.976576</td>\n",
       "    </tr>\n",
       "    <tr>\n",
       "      <th>20</th>\n",
       "      <td>16.995333</td>\n",
       "      <td>18.919907</td>\n",
       "    </tr>\n",
       "    <tr>\n",
       "      <th>21</th>\n",
       "      <td>14.930214</td>\n",
       "      <td>17.567906</td>\n",
       "    </tr>\n",
       "    <tr>\n",
       "      <th>22</th>\n",
       "      <td>14.094598</td>\n",
       "      <td>13.144062</td>\n",
       "    </tr>\n",
       "    <tr>\n",
       "      <th>23</th>\n",
       "      <td>15.462160</td>\n",
       "      <td>13.927718</td>\n",
       "    </tr>\n",
       "    <tr>\n",
       "      <th>24</th>\n",
       "      <td>17.554163</td>\n",
       "      <td>14.926034</td>\n",
       "    </tr>\n",
       "    <tr>\n",
       "      <th>25</th>\n",
       "      <td>14.770399</td>\n",
       "      <td>13.223587</td>\n",
       "    </tr>\n",
       "    <tr>\n",
       "      <th>26</th>\n",
       "      <td>16.087287</td>\n",
       "      <td>15.319948</td>\n",
       "    </tr>\n",
       "    <tr>\n",
       "      <th>27</th>\n",
       "      <td>18.286440</td>\n",
       "      <td>17.865368</td>\n",
       "    </tr>\n",
       "    <tr>\n",
       "      <th>28</th>\n",
       "      <td>17.683765</td>\n",
       "      <td>19.073486</td>\n",
       "    </tr>\n",
       "    <tr>\n",
       "      <th>29</th>\n",
       "      <td>17.022745</td>\n",
       "      <td>17.051867</td>\n",
       "    </tr>\n",
       "    <tr>\n",
       "      <th>30</th>\n",
       "      <td>18.078754</td>\n",
       "      <td>19.159676</td>\n",
       "    </tr>\n",
       "    <tr>\n",
       "      <th>31</th>\n",
       "      <td>15.308624</td>\n",
       "      <td>16.692483</td>\n",
       "    </tr>\n",
       "    <tr>\n",
       "      <th>32</th>\n",
       "      <td>19.116934</td>\n",
       "      <td>19.578175</td>\n",
       "    </tr>\n",
       "    <tr>\n",
       "      <th>33</th>\n",
       "      <td>16.689223</td>\n",
       "      <td>15.989234</td>\n",
       "    </tr>\n",
       "    <tr>\n",
       "      <th>34</th>\n",
       "      <td>15.162634</td>\n",
       "      <td>16.562057</td>\n",
       "    </tr>\n",
       "    <tr>\n",
       "      <th>35</th>\n",
       "      <td>14.462000</td>\n",
       "      <td>15.519640</td>\n",
       "    </tr>\n",
       "    <tr>\n",
       "      <th>36</th>\n",
       "      <td>16.959249</td>\n",
       "      <td>13.811496</td>\n",
       "    </tr>\n",
       "    <tr>\n",
       "      <th>37</th>\n",
       "      <td>18.504951</td>\n",
       "      <td>18.379289</td>\n",
       "    </tr>\n",
       "    <tr>\n",
       "      <th>38</th>\n",
       "      <td>13.931499</td>\n",
       "      <td>13.271046</td>\n",
       "    </tr>\n",
       "    <tr>\n",
       "      <th>39</th>\n",
       "      <td>16.038413</td>\n",
       "      <td>14.262786</td>\n",
       "    </tr>\n",
       "    <tr>\n",
       "      <th>40</th>\n",
       "      <td>17.518645</td>\n",
       "      <td>16.785725</td>\n",
       "    </tr>\n",
       "    <tr>\n",
       "      <th>41</th>\n",
       "      <td>17.648716</td>\n",
       "      <td>13.954320</td>\n",
       "    </tr>\n",
       "    <tr>\n",
       "      <th>42</th>\n",
       "      <td>15.401521</td>\n",
       "      <td>14.288263</td>\n",
       "    </tr>\n",
       "    <tr>\n",
       "      <th>43</th>\n",
       "      <td>17.382419</td>\n",
       "      <td>18.091893</td>\n",
       "    </tr>\n",
       "    <tr>\n",
       "      <th>44</th>\n",
       "      <td>17.100823</td>\n",
       "      <td>15.793082</td>\n",
       "    </tr>\n",
       "    <tr>\n",
       "      <th>45</th>\n",
       "      <td>16.025038</td>\n",
       "      <td>13.670426</td>\n",
       "    </tr>\n",
       "    <tr>\n",
       "      <th>46</th>\n",
       "      <td>14.625263</td>\n",
       "      <td>16.908424</td>\n",
       "    </tr>\n",
       "    <tr>\n",
       "      <th>47</th>\n",
       "      <td>16.013798</td>\n",
       "      <td>14.227873</td>\n",
       "    </tr>\n",
       "    <tr>\n",
       "      <th>48</th>\n",
       "      <td>16.819630</td>\n",
       "      <td>14.614523</td>\n",
       "    </tr>\n",
       "    <tr>\n",
       "      <th>49</th>\n",
       "      <td>15.874136</td>\n",
       "      <td>14.202240</td>\n",
       "    </tr>\n",
       "  </tbody>\n",
       "</table>\n",
       "</div>"
      ],
      "text/plain": [
       "param          x1         x2\n",
       "centre                      \n",
       "0       16.426749  17.673007\n",
       "1       16.204146  17.545287\n",
       "2       15.316798  15.993028\n",
       "3       13.808148  13.100866\n",
       "4       16.810625  17.842936\n",
       "5       15.420003  15.025937\n",
       "6       17.135583  16.131712\n",
       "7       15.564367  13.512588\n",
       "8       13.142547  12.966883\n",
       "9       14.096150  13.892384\n",
       "10      17.567701  18.379757\n",
       "11      15.802890  17.448006\n",
       "12      17.936321  19.371871\n",
       "13      17.731053  19.039192\n",
       "14      14.926704  15.991924\n",
       "15      18.837985  20.118811\n",
       "16      16.105762  16.414672\n",
       "17      18.507629  19.508487\n",
       "18      18.784908  19.887834\n",
       "19      13.511888  12.976576\n",
       "20      16.995333  18.919907\n",
       "21      14.930214  17.567906\n",
       "22      14.094598  13.144062\n",
       "23      15.462160  13.927718\n",
       "24      17.554163  14.926034\n",
       "25      14.770399  13.223587\n",
       "26      16.087287  15.319948\n",
       "27      18.286440  17.865368\n",
       "28      17.683765  19.073486\n",
       "29      17.022745  17.051867\n",
       "30      18.078754  19.159676\n",
       "31      15.308624  16.692483\n",
       "32      19.116934  19.578175\n",
       "33      16.689223  15.989234\n",
       "34      15.162634  16.562057\n",
       "35      14.462000  15.519640\n",
       "36      16.959249  13.811496\n",
       "37      18.504951  18.379289\n",
       "38      13.931499  13.271046\n",
       "39      16.038413  14.262786\n",
       "40      17.518645  16.785725\n",
       "41      17.648716  13.954320\n",
       "42      15.401521  14.288263\n",
       "43      17.382419  18.091893\n",
       "44      17.100823  15.793082\n",
       "45      16.025038  13.670426\n",
       "46      14.625263  16.908424\n",
       "47      16.013798  14.227873\n",
       "48      16.819630  14.614523\n",
       "49      15.874136  14.202240"
      ]
     },
     "execution_count": 107,
     "metadata": {},
     "output_type": "execute_result"
    }
   ],
   "source": [
    "# mu_star calculation\n",
    "\n",
    "vars_pbar.update(1)\n",
    "vars_pbar.write('Averages of model runs (`mu_star`) calculated - access via .mu_star_df')\n",
    "\n",
    "\n",
    "mu_star_df = df[model_name.__name__].groupby(level=[0,1]).mean()\n",
    "mu_star_df.index.names = ['centre', 'param']\n",
    "mu_star_df.unstack(level=1)"
   ]
  },
  {
   "cell_type": "code",
   "execution_count": 108,
   "id": "f7145693-4f65-41ef-aa57-e55fb235bc96",
   "metadata": {},
   "outputs": [
    {
     "name": "stdout",
     "output_type": "stream",
     "text": [
      "Overall expected value (`mu_overall`) calculated - access via .mu_overall\n"
     ]
    },
    {
     "data": {
      "text/plain": [
       "16.24791622669522"
      ]
     },
     "execution_count": 108,
     "metadata": {},
     "output_type": "execute_result"
    }
   ],
   "source": [
    "# overall mu (mean) of the unique evaluated function values over all stars points\n",
    "\n",
    "vars_pbar.update(1)\n",
    "vars_pbar.write('Overall expected value (`mu_overall`) calculated - access via .mu_overall')\n",
    "\n",
    "mu_overall = df[model_name.__name__].unique().mean()\n",
    "mu_overall"
   ]
  },
  {
   "cell_type": "code",
   "execution_count": 109,
   "id": "a4fde585-299d-4345-8d45-09e23d0d0e9f",
   "metadata": {},
   "outputs": [
    {
     "name": "stdout",
     "output_type": "stream",
     "text": [
      "Overall variance (`var_overall`) calculated - access via .var_overall\n"
     ]
    },
    {
     "data": {
      "text/plain": [
       "5.092240243276703"
      ]
     },
     "execution_count": 109,
     "metadata": {},
     "output_type": "execute_result"
    }
   ],
   "source": [
    "# overall var (variance) of the unique evaluated function values over all stars points\n",
    "\n",
    "vars_pbar.update(1)\n",
    "vars_pbar.write('Overall variance (`var_overall`) calculated - access via .var_overall')\n",
    "\n",
    "\n",
    "var_overall = df[model_name.__name__].unique().var(ddof=1)\n",
    "var_overall"
   ]
  },
  {
   "cell_type": "code",
   "execution_count": 110,
   "id": "98cd634c-bcc2-425a-8feb-e9f4e273e538",
   "metadata": {},
   "outputs": [
    {
     "name": "stdout",
     "output_type": "stream",
     "text": [
      "Sectional covariogram `cov_section_all` calculated - access via .cov_section_all\n"
     ]
    },
    {
     "data": {
      "text/html": [
       "<div>\n",
       "<style scoped>\n",
       "    .dataframe tbody tr th:only-of-type {\n",
       "        vertical-align: middle;\n",
       "    }\n",
       "\n",
       "    .dataframe tbody tr th {\n",
       "        vertical-align: top;\n",
       "    }\n",
       "\n",
       "    .dataframe thead th {\n",
       "        text-align: right;\n",
       "    }\n",
       "</style>\n",
       "<table border=\"1\" class=\"dataframe\">\n",
       "  <thead>\n",
       "    <tr style=\"text-align: right;\">\n",
       "      <th></th>\n",
       "      <th>param</th>\n",
       "      <th>x1</th>\n",
       "      <th>x2</th>\n",
       "    </tr>\n",
       "    <tr>\n",
       "      <th>centre</th>\n",
       "      <th>h</th>\n",
       "      <th></th>\n",
       "      <th></th>\n",
       "    </tr>\n",
       "  </thead>\n",
       "  <tbody>\n",
       "    <tr>\n",
       "      <th rowspan=\"5\" valign=\"top\">0</th>\n",
       "      <th>0.05</th>\n",
       "      <td>2.744433</td>\n",
       "      <td>0.199169</td>\n",
       "    </tr>\n",
       "    <tr>\n",
       "      <th>0.10</th>\n",
       "      <td>2.449676</td>\n",
       "      <td>0.067428</td>\n",
       "    </tr>\n",
       "    <tr>\n",
       "      <th>0.15</th>\n",
       "      <td>0.866171</td>\n",
       "      <td>0.254020</td>\n",
       "    </tr>\n",
       "    <tr>\n",
       "      <th>0.20</th>\n",
       "      <td>-0.129274</td>\n",
       "      <td>-0.020400</td>\n",
       "    </tr>\n",
       "    <tr>\n",
       "      <th>0.25</th>\n",
       "      <td>-1.299946</td>\n",
       "      <td>-0.011458</td>\n",
       "    </tr>\n",
       "    <tr>\n",
       "      <th>...</th>\n",
       "      <th>...</th>\n",
       "      <td>...</td>\n",
       "      <td>...</td>\n",
       "    </tr>\n",
       "    <tr>\n",
       "      <th rowspan=\"5\" valign=\"top\">49</th>\n",
       "      <th>0.40</th>\n",
       "      <td>-2.270129</td>\n",
       "      <td>-0.311147</td>\n",
       "    </tr>\n",
       "    <tr>\n",
       "      <th>0.45</th>\n",
       "      <td>-4.429085</td>\n",
       "      <td>-0.397833</td>\n",
       "    </tr>\n",
       "    <tr>\n",
       "      <th>0.50</th>\n",
       "      <td>NaN</td>\n",
       "      <td>-0.554682</td>\n",
       "    </tr>\n",
       "    <tr>\n",
       "      <th>0.55</th>\n",
       "      <td>-7.438597</td>\n",
       "      <td>NaN</td>\n",
       "    </tr>\n",
       "    <tr>\n",
       "      <th>0.65</th>\n",
       "      <td>-10.375949</td>\n",
       "      <td>NaN</td>\n",
       "    </tr>\n",
       "  </tbody>\n",
       "</table>\n",
       "<p>560 rows × 2 columns</p>\n",
       "</div>"
      ],
      "text/plain": [
       "param               x1        x2\n",
       "centre h                        \n",
       "0      0.05   2.744433  0.199169\n",
       "       0.10   2.449676  0.067428\n",
       "       0.15   0.866171  0.254020\n",
       "       0.20  -0.129274 -0.020400\n",
       "       0.25  -1.299946 -0.011458\n",
       "...                ...       ...\n",
       "49     0.40  -2.270129 -0.311147\n",
       "       0.45  -4.429085 -0.397833\n",
       "       0.50        NaN -0.554682\n",
       "       0.55  -7.438597       NaN\n",
       "       0.65 -10.375949       NaN\n",
       "\n",
       "[560 rows x 2 columns]"
      ]
     },
     "execution_count": 110,
     "metadata": {},
     "output_type": "execute_result"
    }
   ],
   "source": [
    "# sectional covariogram calculation - content matches MATLAB code style!!\n",
    "\n",
    "vars_pbar.update(1)\n",
    "vars_pbar.write('Sectional covariogram `cov_section_all` calculated - access via .cov_section_all')\n",
    "\n",
    "\n",
    "cov_section_all = cov_section(pair_df, mu_star_df)\n",
    "cov_section_all.unstack(level=1)"
   ]
  },
  {
   "cell_type": "code",
   "execution_count": 111,
   "id": "0a7e59a2-d402-4aaf-9b41-543fc44572b9",
   "metadata": {},
   "outputs": [
    {
     "name": "stdout",
     "output_type": "stream",
     "text": [
      "Variogram (`gamma`) calculated - access via .gamma\n"
     ]
    },
    {
     "data": {
      "text/html": [
       "<div>\n",
       "<style scoped>\n",
       "    .dataframe tbody tr th:only-of-type {\n",
       "        vertical-align: middle;\n",
       "    }\n",
       "\n",
       "    .dataframe tbody tr th {\n",
       "        vertical-align: top;\n",
       "    }\n",
       "\n",
       "    .dataframe thead th {\n",
       "        text-align: right;\n",
       "    }\n",
       "</style>\n",
       "<table border=\"1\" class=\"dataframe\">\n",
       "  <thead>\n",
       "    <tr style=\"text-align: right;\">\n",
       "      <th>param</th>\n",
       "      <th>x1</th>\n",
       "      <th>x2</th>\n",
       "    </tr>\n",
       "    <tr>\n",
       "      <th>h</th>\n",
       "      <th></th>\n",
       "      <th></th>\n",
       "    </tr>\n",
       "  </thead>\n",
       "  <tbody>\n",
       "    <tr>\n",
       "      <th>0.05</th>\n",
       "      <td>0.137604</td>\n",
       "      <td>0.011494</td>\n",
       "    </tr>\n",
       "    <tr>\n",
       "      <th>0.10</th>\n",
       "      <td>0.508225</td>\n",
       "      <td>0.045139</td>\n",
       "    </tr>\n",
       "    <tr>\n",
       "      <th>0.15</th>\n",
       "      <td>1.114375</td>\n",
       "      <td>0.100982</td>\n",
       "    </tr>\n",
       "    <tr>\n",
       "      <th>0.20</th>\n",
       "      <td>2.002688</td>\n",
       "      <td>0.176188</td>\n",
       "    </tr>\n",
       "    <tr>\n",
       "      <th>0.25</th>\n",
       "      <td>3.086411</td>\n",
       "      <td>0.283288</td>\n",
       "    </tr>\n",
       "    <tr>\n",
       "      <th>0.30</th>\n",
       "      <td>4.493950</td>\n",
       "      <td>0.401394</td>\n",
       "    </tr>\n",
       "    <tr>\n",
       "      <th>0.35</th>\n",
       "      <td>6.056580</td>\n",
       "      <td>0.545899</td>\n",
       "    </tr>\n",
       "    <tr>\n",
       "      <th>0.40</th>\n",
       "      <td>7.949825</td>\n",
       "      <td>0.715819</td>\n",
       "    </tr>\n",
       "    <tr>\n",
       "      <th>0.45</th>\n",
       "      <td>10.008280</td>\n",
       "      <td>0.921497</td>\n",
       "    </tr>\n",
       "    <tr>\n",
       "      <th>0.50</th>\n",
       "      <td>12.477623</td>\n",
       "      <td>1.129932</td>\n",
       "    </tr>\n",
       "    <tr>\n",
       "      <th>0.55</th>\n",
       "      <td>14.997130</td>\n",
       "      <td>1.354790</td>\n",
       "    </tr>\n",
       "    <tr>\n",
       "      <th>0.60</th>\n",
       "      <td>18.050452</td>\n",
       "      <td>1.602436</td>\n",
       "    </tr>\n",
       "    <tr>\n",
       "      <th>0.65</th>\n",
       "      <td>20.913054</td>\n",
       "      <td>1.894927</td>\n",
       "    </tr>\n",
       "    <tr>\n",
       "      <th>0.70</th>\n",
       "      <td>24.381975</td>\n",
       "      <td>2.220085</td>\n",
       "    </tr>\n",
       "    <tr>\n",
       "      <th>0.75</th>\n",
       "      <td>27.720860</td>\n",
       "      <td>2.468094</td>\n",
       "    </tr>\n",
       "    <tr>\n",
       "      <th>0.80</th>\n",
       "      <td>32.437491</td>\n",
       "      <td>2.797032</td>\n",
       "    </tr>\n",
       "    <tr>\n",
       "      <th>0.85</th>\n",
       "      <td>34.968355</td>\n",
       "      <td>0.000000</td>\n",
       "    </tr>\n",
       "  </tbody>\n",
       "</table>\n",
       "</div>"
      ],
      "text/plain": [
       "param         x1        x2\n",
       "h                         \n",
       "0.05    0.137604  0.011494\n",
       "0.10    0.508225  0.045139\n",
       "0.15    1.114375  0.100982\n",
       "0.20    2.002688  0.176188\n",
       "0.25    3.086411  0.283288\n",
       "0.30    4.493950  0.401394\n",
       "0.35    6.056580  0.545899\n",
       "0.40    7.949825  0.715819\n",
       "0.45   10.008280  0.921497\n",
       "0.50   12.477623  1.129932\n",
       "0.55   14.997130  1.354790\n",
       "0.60   18.050452  1.602436\n",
       "0.65   20.913054  1.894927\n",
       "0.70   24.381975  2.220085\n",
       "0.75   27.720860  2.468094\n",
       "0.80   32.437491  2.797032\n",
       "0.85   34.968355  0.000000"
      ]
     },
     "execution_count": 111,
     "metadata": {},
     "output_type": "execute_result"
    }
   ],
   "source": [
    "# variogram calculation\n",
    "\n",
    "vars_pbar.update(1)\n",
    "vars_pbar.write('Variogram (`gamma`) calculated - access via .gamma')\n",
    "\n",
    "variogram_value = variogram(pair_df)\n",
    "variogram_value.unstack(level=0)"
   ]
  },
  {
   "cell_type": "code",
   "execution_count": 112,
   "id": "de7a3034-719d-46e0-b76d-383e934b778e",
   "metadata": {},
   "outputs": [
    {
     "name": "stdout",
     "output_type": "stream",
     "text": [
      "Morris MAEE and MEE (`maee` and `mee`) calculated - access via .maee and .mee\n"
     ]
    },
    {
     "data": {
      "text/html": [
       "<div>\n",
       "<style scoped>\n",
       "    .dataframe tbody tr th:only-of-type {\n",
       "        vertical-align: middle;\n",
       "    }\n",
       "\n",
       "    .dataframe tbody tr th {\n",
       "        vertical-align: top;\n",
       "    }\n",
       "\n",
       "    .dataframe thead th {\n",
       "        text-align: right;\n",
       "    }\n",
       "</style>\n",
       "<table border=\"1\" class=\"dataframe\">\n",
       "  <thead>\n",
       "    <tr style=\"text-align: right;\">\n",
       "      <th>param</th>\n",
       "      <th>x1</th>\n",
       "      <th>x2</th>\n",
       "    </tr>\n",
       "    <tr>\n",
       "      <th>h</th>\n",
       "      <th></th>\n",
       "      <th></th>\n",
       "    </tr>\n",
       "  </thead>\n",
       "  <tbody>\n",
       "    <tr>\n",
       "      <th>0.05</th>\n",
       "      <td>0.504906</td>\n",
       "      <td>0.145116</td>\n",
       "    </tr>\n",
       "    <tr>\n",
       "      <th>0.10</th>\n",
       "      <td>0.997869</td>\n",
       "      <td>0.297303</td>\n",
       "    </tr>\n",
       "    <tr>\n",
       "      <th>0.15</th>\n",
       "      <td>1.485604</td>\n",
       "      <td>0.447313</td>\n",
       "    </tr>\n",
       "    <tr>\n",
       "      <th>0.20</th>\n",
       "      <td>1.996246</td>\n",
       "      <td>0.592097</td>\n",
       "    </tr>\n",
       "    <tr>\n",
       "      <th>0.25</th>\n",
       "      <td>2.480210</td>\n",
       "      <td>0.751480</td>\n",
       "    </tr>\n",
       "    <tr>\n",
       "      <th>0.30</th>\n",
       "      <td>2.995117</td>\n",
       "      <td>0.894908</td>\n",
       "    </tr>\n",
       "    <tr>\n",
       "      <th>0.35</th>\n",
       "      <td>3.477717</td>\n",
       "      <td>1.044063</td>\n",
       "    </tr>\n",
       "    <tr>\n",
       "      <th>0.40</th>\n",
       "      <td>3.984700</td>\n",
       "      <td>1.195669</td>\n",
       "    </tr>\n",
       "    <tr>\n",
       "      <th>0.45</th>\n",
       "      <td>4.471383</td>\n",
       "      <td>1.356922</td>\n",
       "    </tr>\n",
       "    <tr>\n",
       "      <th>0.50</th>\n",
       "      <td>4.993575</td>\n",
       "      <td>1.502683</td>\n",
       "    </tr>\n",
       "    <tr>\n",
       "      <th>0.55</th>\n",
       "      <td>5.474674</td>\n",
       "      <td>1.645585</td>\n",
       "    </tr>\n",
       "    <tr>\n",
       "      <th>0.60</th>\n",
       "      <td>6.006136</td>\n",
       "      <td>1.789600</td>\n",
       "    </tr>\n",
       "    <tr>\n",
       "      <th>0.65</th>\n",
       "      <td>6.465818</td>\n",
       "      <td>1.946235</td>\n",
       "    </tr>\n",
       "    <tr>\n",
       "      <th>0.70</th>\n",
       "      <td>6.982154</td>\n",
       "      <td>2.106638</td>\n",
       "    </tr>\n",
       "    <tr>\n",
       "      <th>0.75</th>\n",
       "      <td>7.445245</td>\n",
       "      <td>2.221571</td>\n",
       "    </tr>\n",
       "    <tr>\n",
       "      <th>0.80</th>\n",
       "      <td>8.053501</td>\n",
       "      <td>2.364848</td>\n",
       "    </tr>\n",
       "    <tr>\n",
       "      <th>0.85</th>\n",
       "      <td>8.362616</td>\n",
       "      <td>NaN</td>\n",
       "    </tr>\n",
       "  </tbody>\n",
       "</table>\n",
       "</div>"
      ],
      "text/plain": [
       "param        x1        x2\n",
       "h                        \n",
       "0.05   0.504906  0.145116\n",
       "0.10   0.997869  0.297303\n",
       "0.15   1.485604  0.447313\n",
       "0.20   1.996246  0.592097\n",
       "0.25   2.480210  0.751480\n",
       "0.30   2.995117  0.894908\n",
       "0.35   3.477717  1.044063\n",
       "0.40   3.984700  1.195669\n",
       "0.45   4.471383  1.356922\n",
       "0.50   4.993575  1.502683\n",
       "0.55   5.474674  1.645585\n",
       "0.60   6.006136  1.789600\n",
       "0.65   6.465818  1.946235\n",
       "0.70   6.982154  2.106638\n",
       "0.75   7.445245  2.221571\n",
       "0.80   8.053501  2.364848\n",
       "0.85   8.362616       NaN"
      ]
     },
     "execution_count": 112,
     "metadata": {},
     "output_type": "execute_result"
    }
   ],
   "source": [
    "# morris calculation\n",
    "\n",
    "vars_pbar.update(1)\n",
    "vars_pbar.write('Morris MAEE and MEE (`maee` and `mee`) calculated - access via .maee and .mee')\n",
    "\n",
    "\n",
    "morris_values = morris_eq(pair_df)\n",
    "morris_values[0].unstack(level=0)"
   ]
  },
  {
   "cell_type": "code",
   "execution_count": 113,
   "id": "a624cf06-ab1e-4285-bdb2-50ee9445fa1f",
   "metadata": {
    "scrolled": true
   },
   "outputs": [
    {
     "data": {
      "text/html": [
       "<div>\n",
       "<style scoped>\n",
       "    .dataframe tbody tr th:only-of-type {\n",
       "        vertical-align: middle;\n",
       "    }\n",
       "\n",
       "    .dataframe tbody tr th {\n",
       "        vertical-align: top;\n",
       "    }\n",
       "\n",
       "    .dataframe thead th {\n",
       "        text-align: right;\n",
       "    }\n",
       "</style>\n",
       "<table border=\"1\" class=\"dataframe\">\n",
       "  <thead>\n",
       "    <tr style=\"text-align: right;\">\n",
       "      <th>param</th>\n",
       "      <th>x1</th>\n",
       "      <th>x2</th>\n",
       "    </tr>\n",
       "    <tr>\n",
       "      <th>h</th>\n",
       "      <th></th>\n",
       "      <th></th>\n",
       "    </tr>\n",
       "  </thead>\n",
       "  <tbody>\n",
       "    <tr>\n",
       "      <th>0.05</th>\n",
       "      <td>-0.002378</td>\n",
       "      <td>-0.007594</td>\n",
       "    </tr>\n",
       "    <tr>\n",
       "      <th>0.10</th>\n",
       "      <td>-0.108888</td>\n",
       "      <td>-0.003290</td>\n",
       "    </tr>\n",
       "    <tr>\n",
       "      <th>0.15</th>\n",
       "      <td>-0.174175</td>\n",
       "      <td>-0.015015</td>\n",
       "    </tr>\n",
       "    <tr>\n",
       "      <th>0.20</th>\n",
       "      <td>0.004330</td>\n",
       "      <td>0.035476</td>\n",
       "    </tr>\n",
       "    <tr>\n",
       "      <th>0.25</th>\n",
       "      <td>0.203734</td>\n",
       "      <td>-0.013826</td>\n",
       "    </tr>\n",
       "    <tr>\n",
       "      <th>0.30</th>\n",
       "      <td>0.011694</td>\n",
       "      <td>-0.134546</td>\n",
       "    </tr>\n",
       "    <tr>\n",
       "      <th>0.35</th>\n",
       "      <td>0.538983</td>\n",
       "      <td>0.210133</td>\n",
       "    </tr>\n",
       "    <tr>\n",
       "      <th>0.40</th>\n",
       "      <td>0.318090</td>\n",
       "      <td>0.088241</td>\n",
       "    </tr>\n",
       "    <tr>\n",
       "      <th>0.45</th>\n",
       "      <td>-0.813476</td>\n",
       "      <td>-0.454172</td>\n",
       "    </tr>\n",
       "    <tr>\n",
       "      <th>0.50</th>\n",
       "      <td>0.108833</td>\n",
       "      <td>-0.085592</td>\n",
       "    </tr>\n",
       "    <tr>\n",
       "      <th>0.55</th>\n",
       "      <td>1.336763</td>\n",
       "      <td>0.519479</td>\n",
       "    </tr>\n",
       "    <tr>\n",
       "      <th>0.60</th>\n",
       "      <td>0.383820</td>\n",
       "      <td>0.150466</td>\n",
       "    </tr>\n",
       "    <tr>\n",
       "      <th>0.65</th>\n",
       "      <td>0.011040</td>\n",
       "      <td>0.343070</td>\n",
       "    </tr>\n",
       "    <tr>\n",
       "      <th>0.70</th>\n",
       "      <td>-0.386794</td>\n",
       "      <td>-0.730645</td>\n",
       "    </tr>\n",
       "    <tr>\n",
       "      <th>0.75</th>\n",
       "      <td>-1.507045</td>\n",
       "      <td>-0.005101</td>\n",
       "    </tr>\n",
       "    <tr>\n",
       "      <th>0.80</th>\n",
       "      <td>-2.800807</td>\n",
       "      <td>0.803106</td>\n",
       "    </tr>\n",
       "    <tr>\n",
       "      <th>0.85</th>\n",
       "      <td>-8.362616</td>\n",
       "      <td>NaN</td>\n",
       "    </tr>\n",
       "  </tbody>\n",
       "</table>\n",
       "</div>"
      ],
      "text/plain": [
       "param        x1        x2\n",
       "h                        \n",
       "0.05  -0.002378 -0.007594\n",
       "0.10  -0.108888 -0.003290\n",
       "0.15  -0.174175 -0.015015\n",
       "0.20   0.004330  0.035476\n",
       "0.25   0.203734 -0.013826\n",
       "0.30   0.011694 -0.134546\n",
       "0.35   0.538983  0.210133\n",
       "0.40   0.318090  0.088241\n",
       "0.45  -0.813476 -0.454172\n",
       "0.50   0.108833 -0.085592\n",
       "0.55   1.336763  0.519479\n",
       "0.60   0.383820  0.150466\n",
       "0.65   0.011040  0.343070\n",
       "0.70  -0.386794 -0.730645\n",
       "0.75  -1.507045 -0.005101\n",
       "0.80  -2.800807  0.803106\n",
       "0.85  -8.362616       NaN"
      ]
     },
     "execution_count": 113,
     "metadata": {},
     "output_type": "execute_result"
    }
   ],
   "source": [
    "morris_values[1].unstack(level=0)"
   ]
  },
  {
   "cell_type": "code",
   "execution_count": 114,
   "id": "00fe8c39-feb9-41b5-87df-966b02905130",
   "metadata": {
    "scrolled": true
   },
   "outputs": [
    {
     "name": "stdout",
     "output_type": "stream",
     "text": [
      "Covariogram (`cov`) calculated - access via .cov\n"
     ]
    },
    {
     "data": {
      "text/html": [
       "<div>\n",
       "<style scoped>\n",
       "    .dataframe tbody tr th:only-of-type {\n",
       "        vertical-align: middle;\n",
       "    }\n",
       "\n",
       "    .dataframe tbody tr th {\n",
       "        vertical-align: top;\n",
       "    }\n",
       "\n",
       "    .dataframe thead th {\n",
       "        text-align: right;\n",
       "    }\n",
       "</style>\n",
       "<table border=\"1\" class=\"dataframe\">\n",
       "  <thead>\n",
       "    <tr style=\"text-align: right;\">\n",
       "      <th>param</th>\n",
       "      <th>x1</th>\n",
       "      <th>x2</th>\n",
       "    </tr>\n",
       "    <tr>\n",
       "      <th>h</th>\n",
       "      <th></th>\n",
       "      <th></th>\n",
       "    </tr>\n",
       "  </thead>\n",
       "  <tbody>\n",
       "    <tr>\n",
       "      <th>0.05</th>\n",
       "      <td>4.939457</td>\n",
       "      <td>5.660962</td>\n",
       "    </tr>\n",
       "    <tr>\n",
       "      <th>0.10</th>\n",
       "      <td>4.074127</td>\n",
       "      <td>5.107909</td>\n",
       "    </tr>\n",
       "    <tr>\n",
       "      <th>0.15</th>\n",
       "      <td>3.432376</td>\n",
       "      <td>4.883110</td>\n",
       "    </tr>\n",
       "    <tr>\n",
       "      <th>0.20</th>\n",
       "      <td>1.946154</td>\n",
       "      <td>4.537834</td>\n",
       "    </tr>\n",
       "    <tr>\n",
       "      <th>0.25</th>\n",
       "      <td>1.409467</td>\n",
       "      <td>4.169031</td>\n",
       "    </tr>\n",
       "    <tr>\n",
       "      <th>0.30</th>\n",
       "      <td>-0.193340</td>\n",
       "      <td>4.208927</td>\n",
       "    </tr>\n",
       "    <tr>\n",
       "      <th>0.35</th>\n",
       "      <td>-1.324130</td>\n",
       "      <td>4.058743</td>\n",
       "    </tr>\n",
       "    <tr>\n",
       "      <th>0.40</th>\n",
       "      <td>-2.549008</td>\n",
       "      <td>3.134052</td>\n",
       "    </tr>\n",
       "    <tr>\n",
       "      <th>0.45</th>\n",
       "      <td>-4.065529</td>\n",
       "      <td>2.659560</td>\n",
       "    </tr>\n",
       "    <tr>\n",
       "      <th>0.50</th>\n",
       "      <td>-5.111137</td>\n",
       "      <td>1.997049</td>\n",
       "    </tr>\n",
       "    <tr>\n",
       "      <th>0.55</th>\n",
       "      <td>-7.036212</td>\n",
       "      <td>2.714773</td>\n",
       "    </tr>\n",
       "    <tr>\n",
       "      <th>0.60</th>\n",
       "      <td>-8.232322</td>\n",
       "      <td>1.812416</td>\n",
       "    </tr>\n",
       "    <tr>\n",
       "      <th>0.65</th>\n",
       "      <td>-9.850620</td>\n",
       "      <td>1.821368</td>\n",
       "    </tr>\n",
       "    <tr>\n",
       "      <th>0.70</th>\n",
       "      <td>-11.572186</td>\n",
       "      <td>1.213980</td>\n",
       "    </tr>\n",
       "    <tr>\n",
       "      <th>0.75</th>\n",
       "      <td>-13.170840</td>\n",
       "      <td>1.925300</td>\n",
       "    </tr>\n",
       "    <tr>\n",
       "      <th>0.80</th>\n",
       "      <td>-15.764616</td>\n",
       "      <td>0.046571</td>\n",
       "    </tr>\n",
       "    <tr>\n",
       "      <th>0.85</th>\n",
       "      <td>-17.141542</td>\n",
       "      <td>NaN</td>\n",
       "    </tr>\n",
       "  </tbody>\n",
       "</table>\n",
       "</div>"
      ],
      "text/plain": [
       "param         x1        x2\n",
       "h                         \n",
       "0.05    4.939457  5.660962\n",
       "0.10    4.074127  5.107909\n",
       "0.15    3.432376  4.883110\n",
       "0.20    1.946154  4.537834\n",
       "0.25    1.409467  4.169031\n",
       "0.30   -0.193340  4.208927\n",
       "0.35   -1.324130  4.058743\n",
       "0.40   -2.549008  3.134052\n",
       "0.45   -4.065529  2.659560\n",
       "0.50   -5.111137  1.997049\n",
       "0.55   -7.036212  2.714773\n",
       "0.60   -8.232322  1.812416\n",
       "0.65   -9.850620  1.821368\n",
       "0.70  -11.572186  1.213980\n",
       "0.75  -13.170840  1.925300\n",
       "0.80  -15.764616  0.046571\n",
       "0.85  -17.141542       NaN"
      ]
     },
     "execution_count": 114,
     "metadata": {},
     "output_type": "execute_result"
    }
   ],
   "source": [
    "# overall covariogram calculation\n",
    "\n",
    "vars_pbar.update(1)\n",
    "vars_pbar.write('Covariogram (`cov`) calculated - access via .cov')\n",
    "\n",
    "covariogram_value = covariogram(pair_df, mu_overall)\n",
    "covariogram_value.unstack(level=0)"
   ]
  },
  {
   "cell_type": "code",
   "execution_count": 115,
   "id": "e422865f-17f6-49af-87fc-f1aca1bca3a2",
   "metadata": {},
   "outputs": [
    {
     "name": "stdout",
     "output_type": "stream",
     "text": [
      "Expected value of covariogram (`ecov`) calculated - access via .ecov\n"
     ]
    },
    {
     "data": {
      "text/html": [
       "<div>\n",
       "<style scoped>\n",
       "    .dataframe tbody tr th:only-of-type {\n",
       "        vertical-align: middle;\n",
       "    }\n",
       "\n",
       "    .dataframe tbody tr th {\n",
       "        vertical-align: top;\n",
       "    }\n",
       "\n",
       "    .dataframe thead th {\n",
       "        text-align: right;\n",
       "    }\n",
       "</style>\n",
       "<table border=\"1\" class=\"dataframe\">\n",
       "  <thead>\n",
       "    <tr style=\"text-align: right;\">\n",
       "      <th>param</th>\n",
       "      <th>x1</th>\n",
       "      <th>x2</th>\n",
       "    </tr>\n",
       "    <tr>\n",
       "      <th>h</th>\n",
       "      <th></th>\n",
       "      <th></th>\n",
       "    </tr>\n",
       "  </thead>\n",
       "  <tbody>\n",
       "    <tr>\n",
       "      <th>0.05</th>\n",
       "      <td>1.730412</td>\n",
       "      <td>0.131666</td>\n",
       "    </tr>\n",
       "    <tr>\n",
       "      <th>0.10</th>\n",
       "      <td>1.703621</td>\n",
       "      <td>0.109465</td>\n",
       "    </tr>\n",
       "    <tr>\n",
       "      <th>0.15</th>\n",
       "      <td>1.403128</td>\n",
       "      <td>0.096547</td>\n",
       "    </tr>\n",
       "    <tr>\n",
       "      <th>0.20</th>\n",
       "      <td>0.132023</td>\n",
       "      <td>0.024369</td>\n",
       "    </tr>\n",
       "    <tr>\n",
       "      <th>0.25</th>\n",
       "      <td>-0.206416</td>\n",
       "      <td>-0.021177</td>\n",
       "    </tr>\n",
       "    <tr>\n",
       "      <th>0.30</th>\n",
       "      <td>-0.782082</td>\n",
       "      <td>-0.100397</td>\n",
       "    </tr>\n",
       "    <tr>\n",
       "      <th>0.35</th>\n",
       "      <td>-1.802838</td>\n",
       "      <td>-0.165960</td>\n",
       "    </tr>\n",
       "    <tr>\n",
       "      <th>0.40</th>\n",
       "      <td>-2.880564</td>\n",
       "      <td>-0.209940</td>\n",
       "    </tr>\n",
       "    <tr>\n",
       "      <th>0.45</th>\n",
       "      <td>-4.059924</td>\n",
       "      <td>-0.362538</td>\n",
       "    </tr>\n",
       "    <tr>\n",
       "      <th>0.50</th>\n",
       "      <td>-5.084999</td>\n",
       "      <td>-0.438510</td>\n",
       "    </tr>\n",
       "    <tr>\n",
       "      <th>0.55</th>\n",
       "      <td>-6.670055</td>\n",
       "      <td>-0.538752</td>\n",
       "    </tr>\n",
       "    <tr>\n",
       "      <th>0.60</th>\n",
       "      <td>-7.854371</td>\n",
       "      <td>-0.670753</td>\n",
       "    </tr>\n",
       "    <tr>\n",
       "      <th>0.65</th>\n",
       "      <td>-9.221352</td>\n",
       "      <td>-0.816083</td>\n",
       "    </tr>\n",
       "    <tr>\n",
       "      <th>0.70</th>\n",
       "      <td>-11.283952</td>\n",
       "      <td>-1.043435</td>\n",
       "    </tr>\n",
       "    <tr>\n",
       "      <th>0.75</th>\n",
       "      <td>-12.672314</td>\n",
       "      <td>-1.146572</td>\n",
       "    </tr>\n",
       "    <tr>\n",
       "      <th>0.80</th>\n",
       "      <td>-14.811639</td>\n",
       "      <td>-1.331992</td>\n",
       "    </tr>\n",
       "    <tr>\n",
       "      <th>0.85</th>\n",
       "      <td>-16.064113</td>\n",
       "      <td>NaN</td>\n",
       "    </tr>\n",
       "  </tbody>\n",
       "</table>\n",
       "</div>"
      ],
      "text/plain": [
       "param         x1        x2\n",
       "h                         \n",
       "0.05    1.730412  0.131666\n",
       "0.10    1.703621  0.109465\n",
       "0.15    1.403128  0.096547\n",
       "0.20    0.132023  0.024369\n",
       "0.25   -0.206416 -0.021177\n",
       "0.30   -0.782082 -0.100397\n",
       "0.35   -1.802838 -0.165960\n",
       "0.40   -2.880564 -0.209940\n",
       "0.45   -4.059924 -0.362538\n",
       "0.50   -5.084999 -0.438510\n",
       "0.55   -6.670055 -0.538752\n",
       "0.60   -7.854371 -0.670753\n",
       "0.65   -9.221352 -0.816083\n",
       "0.70  -11.283952 -1.043435\n",
       "0.75  -12.672314 -1.146572\n",
       "0.80  -14.811639 -1.331992\n",
       "0.85  -16.064113       NaN"
      ]
     },
     "execution_count": 115,
     "metadata": {},
     "output_type": "execute_result"
    }
   ],
   "source": [
    "# expected value of the overall covariogram calculation\n",
    "\n",
    "vars_pbar.update(1)\n",
    "vars_pbar.write('Expected value of covariogram (`ecov`) calculated - access via .ecov')\n",
    "\n",
    "e_covariogram_value = e_covariogram(cov_section_all)\n",
    "e_covariogram_value.unstack(level=0)"
   ]
  },
  {
   "cell_type": "code",
   "execution_count": 116,
   "id": "46126795-7ff8-4e35-ab04-d2c614f438d8",
   "metadata": {},
   "outputs": [
    {
     "name": "stdout",
     "output_type": "stream",
     "text": [
      "Sobol ST (`st`) calculated - access via .st\n"
     ]
    },
    {
     "data": {
      "text/plain": [
       "param\n",
       "x1    0.366836\n",
       "x2    0.028113\n",
       "dtype: float64"
      ]
     },
     "execution_count": 116,
     "metadata": {},
     "output_type": "execute_result"
    }
   ],
   "source": [
    "# sobol calculation\n",
    "\n",
    "vars_pbar.update(1)\n",
    "vars_pbar.write('Sobol ST (`st`) calculated - access via .st')\n",
    "\n",
    "sobol_value = sobol_eq(variogram_value, e_covariogram_value, var_overall, delta_h)\n",
    "sobol_value"
   ]
  },
  {
   "cell_type": "code",
   "execution_count": 117,
   "id": "5399ae10-0c1e-4f0d-9fb4-1f4ea8562bba",
   "metadata": {},
   "outputs": [
    {
     "name": "stdout",
     "output_type": "stream",
     "text": [
      "IVARS (`ivars`) calculated - access via .ivars\n"
     ]
    },
    {
     "data": {
      "text/html": [
       "<div>\n",
       "<style scoped>\n",
       "    .dataframe tbody tr th:only-of-type {\n",
       "        vertical-align: middle;\n",
       "    }\n",
       "\n",
       "    .dataframe tbody tr th {\n",
       "        vertical-align: top;\n",
       "    }\n",
       "\n",
       "    .dataframe thead th {\n",
       "        text-align: right;\n",
       "    }\n",
       "</style>\n",
       "<table border=\"1\" class=\"dataframe\">\n",
       "  <thead>\n",
       "    <tr style=\"text-align: right;\">\n",
       "      <th></th>\n",
       "      <th>x1</th>\n",
       "      <th>x2</th>\n",
       "    </tr>\n",
       "  </thead>\n",
       "  <tbody>\n",
       "    <tr>\n",
       "      <th>0.1</th>\n",
       "      <td>0.060151</td>\n",
       "      <td>0.005356</td>\n",
       "    </tr>\n",
       "    <tr>\n",
       "      <th>0.3</th>\n",
       "      <td>0.718577</td>\n",
       "      <td>0.064572</td>\n",
       "    </tr>\n",
       "    <tr>\n",
       "      <th>0.5</th>\n",
       "      <td>2.766706</td>\n",
       "      <td>0.250451</td>\n",
       "    </tr>\n",
       "  </tbody>\n",
       "</table>\n",
       "</div>"
      ],
      "text/plain": [
       "           x1        x2\n",
       "0.1  0.060151  0.005356\n",
       "0.3  0.718577  0.064572\n",
       "0.5  2.766706  0.250451"
      ]
     },
     "execution_count": 117,
     "metadata": {},
     "output_type": "execute_result"
    }
   ],
   "source": [
    "# IVARS calculation\n",
    "\n",
    "vars_pbar.update(1)\n",
    "vars_pbar.write('IVARS (`ivars`) calculated - access via .ivars')\n",
    "\n",
    "ivars_values = [0.1, 0.3, 0.5]\n",
    "ivars_df = pd.DataFrame.from_dict({scale: variogram_value.groupby(level=0).apply(ivars, scale=scale, delta_h=delta_h) \\\n",
    "                      for scale in ivars_values}, 'index')\n",
    "ivars_df"
   ]
  },
  {
   "cell_type": "code",
   "execution_count": 118,
   "id": "e29d2003-930a-49db-bb0b-ae4b916539ca",
   "metadata": {},
   "outputs": [],
   "source": [
    "vars_pbar.close()"
   ]
  },
  {
   "cell_type": "code",
   "execution_count": 119,
   "id": "384cb9b0-3b87-416d-b81b-1474710da45e",
   "metadata": {},
   "outputs": [
    {
     "data": {
      "text/html": [
       "<div>\n",
       "<style scoped>\n",
       "    .dataframe tbody tr th:only-of-type {\n",
       "        vertical-align: middle;\n",
       "    }\n",
       "\n",
       "    .dataframe tbody tr th {\n",
       "        vertical-align: top;\n",
       "    }\n",
       "\n",
       "    .dataframe thead th {\n",
       "        text-align: right;\n",
       "    }\n",
       "</style>\n",
       "<table border=\"1\" class=\"dataframe\">\n",
       "  <thead>\n",
       "    <tr style=\"text-align: right;\">\n",
       "      <th></th>\n",
       "      <th>x1</th>\n",
       "      <th>x2</th>\n",
       "    </tr>\n",
       "  </thead>\n",
       "  <tbody>\n",
       "    <tr>\n",
       "      <th></th>\n",
       "      <td>0</td>\n",
       "      <td>1</td>\n",
       "    </tr>\n",
       "  </tbody>\n",
       "</table>\n",
       "</div>"
      ],
      "text/plain": [
       "  x1  x2\n",
       "   0   1"
      ]
     },
     "execution_count": 119,
     "metadata": {},
     "output_type": "execute_result"
    }
   ],
   "source": [
    "# calculating rankings of sobol and ivars\n",
    "sobol_ranking = factor_ranking(sobol_value)\n",
    "sobol_ranking_df = pd.DataFrame(data=[sobol_ranking], columns=parameters.keys(), index=[''])\n",
    "sobol_ranking_df"
   ]
  },
  {
   "cell_type": "code",
   "execution_count": 120,
   "id": "84efc5b9-9d0b-44ad-aa97-2ff2b4d1083c",
   "metadata": {},
   "outputs": [
    {
     "data": {
      "text/html": [
       "<div>\n",
       "<style scoped>\n",
       "    .dataframe tbody tr th:only-of-type {\n",
       "        vertical-align: middle;\n",
       "    }\n",
       "\n",
       "    .dataframe tbody tr th {\n",
       "        vertical-align: top;\n",
       "    }\n",
       "\n",
       "    .dataframe thead th {\n",
       "        text-align: right;\n",
       "    }\n",
       "</style>\n",
       "<table border=\"1\" class=\"dataframe\">\n",
       "  <thead>\n",
       "    <tr style=\"text-align: right;\">\n",
       "      <th></th>\n",
       "      <th>x1</th>\n",
       "      <th>x2</th>\n",
       "    </tr>\n",
       "  </thead>\n",
       "  <tbody>\n",
       "    <tr>\n",
       "      <th>0.1</th>\n",
       "      <td>0</td>\n",
       "      <td>1</td>\n",
       "    </tr>\n",
       "    <tr>\n",
       "      <th>0.3</th>\n",
       "      <td>0</td>\n",
       "      <td>1</td>\n",
       "    </tr>\n",
       "    <tr>\n",
       "      <th>0.5</th>\n",
       "      <td>0</td>\n",
       "      <td>1</td>\n",
       "    </tr>\n",
       "  </tbody>\n",
       "</table>\n",
       "</div>"
      ],
      "text/plain": [
       "     x1  x2\n",
       "0.1   0   1\n",
       "0.3   0   1\n",
       "0.5   0   1"
      ]
     },
     "execution_count": 120,
     "metadata": {},
     "output_type": "execute_result"
    }
   ],
   "source": [
    "ivars_ranking = []\n",
    "for scale in ivars_scales:\n",
    "    ivars_ranking.append(factor_ranking(ivars_df.loc[scale]))\n",
    "\n",
    "ivars_ranking_df = pd.DataFrame(data=ivars_ranking, columns=parameters.keys(), index=ivars_scales)\n",
    "ivars_ranking_df"
   ]
  },
  {
   "cell_type": "code",
   "execution_count": 121,
   "id": "cbaa8375-b5e6-407b-a493-8cbcf3f89ecf",
   "metadata": {},
   "outputs": [
    {
     "ename": "ValueError",
     "evalue": "fp and xp are not of the same length.",
     "output_type": "error",
     "traceback": [
      "\u001b[1;31m---------------------------------------------------------------------------\u001b[0m",
      "\u001b[1;31mValueError\u001b[0m                                Traceback (most recent call last)",
      "\u001b[1;32m<ipython-input-121-8044a9adbed6>\u001b[0m in \u001b[0;36m<module>\u001b[1;34m\u001b[0m\n\u001b[0;32m     44\u001b[0m \u001b[1;33m\u001b[0m\u001b[0m\n\u001b[0;32m     45\u001b[0m \u001b[1;33m\u001b[0m\u001b[0m\n\u001b[1;32m---> 46\u001b[1;33m     bootstrapped_ivars_df = pd.DataFrame.from_dict({scale: bootstrapped_variogram.groupby(level=0).apply(ivars, scale=scale, delta_h=delta_h) \\\n\u001b[0m\u001b[0;32m     47\u001b[0m                                                     for scale in ivars_scales}, 'index')\n\u001b[0;32m     48\u001b[0m \u001b[1;33m\u001b[0m\u001b[0m\n",
      "\u001b[1;32m<ipython-input-121-8044a9adbed6>\u001b[0m in \u001b[0;36m<dictcomp>\u001b[1;34m(.0)\u001b[0m\n\u001b[0;32m     44\u001b[0m \u001b[1;33m\u001b[0m\u001b[0m\n\u001b[0;32m     45\u001b[0m \u001b[1;33m\u001b[0m\u001b[0m\n\u001b[1;32m---> 46\u001b[1;33m     bootstrapped_ivars_df = pd.DataFrame.from_dict({scale: bootstrapped_variogram.groupby(level=0).apply(ivars, scale=scale, delta_h=delta_h) \\\n\u001b[0m\u001b[0;32m     47\u001b[0m                                                     for scale in ivars_scales}, 'index')\n\u001b[0;32m     48\u001b[0m \u001b[1;33m\u001b[0m\u001b[0m\n",
      "\u001b[1;32m~\\anaconda3\\lib\\site-packages\\pandas\\core\\groupby\\generic.py\u001b[0m in \u001b[0;36mapply\u001b[1;34m(self, func, *args, **kwargs)\u001b[0m\n\u001b[0;32m    219\u001b[0m     )\n\u001b[0;32m    220\u001b[0m     \u001b[1;32mdef\u001b[0m \u001b[0mapply\u001b[0m\u001b[1;33m(\u001b[0m\u001b[0mself\u001b[0m\u001b[1;33m,\u001b[0m \u001b[0mfunc\u001b[0m\u001b[1;33m,\u001b[0m \u001b[1;33m*\u001b[0m\u001b[0margs\u001b[0m\u001b[1;33m,\u001b[0m \u001b[1;33m**\u001b[0m\u001b[0mkwargs\u001b[0m\u001b[1;33m)\u001b[0m\u001b[1;33m:\u001b[0m\u001b[1;33m\u001b[0m\u001b[1;33m\u001b[0m\u001b[0m\n\u001b[1;32m--> 221\u001b[1;33m         \u001b[1;32mreturn\u001b[0m \u001b[0msuper\u001b[0m\u001b[1;33m(\u001b[0m\u001b[1;33m)\u001b[0m\u001b[1;33m.\u001b[0m\u001b[0mapply\u001b[0m\u001b[1;33m(\u001b[0m\u001b[0mfunc\u001b[0m\u001b[1;33m,\u001b[0m \u001b[1;33m*\u001b[0m\u001b[0margs\u001b[0m\u001b[1;33m,\u001b[0m \u001b[1;33m**\u001b[0m\u001b[0mkwargs\u001b[0m\u001b[1;33m)\u001b[0m\u001b[1;33m\u001b[0m\u001b[1;33m\u001b[0m\u001b[0m\n\u001b[0m\u001b[0;32m    222\u001b[0m \u001b[1;33m\u001b[0m\u001b[0m\n\u001b[0;32m    223\u001b[0m     \u001b[1;33m@\u001b[0m\u001b[0mdoc\u001b[0m\u001b[1;33m(\u001b[0m\u001b[0m_agg_template\u001b[0m\u001b[1;33m,\u001b[0m \u001b[0mexamples\u001b[0m\u001b[1;33m=\u001b[0m\u001b[0m_agg_examples_doc\u001b[0m\u001b[1;33m,\u001b[0m \u001b[0mklass\u001b[0m\u001b[1;33m=\u001b[0m\u001b[1;34m\"Series\"\u001b[0m\u001b[1;33m)\u001b[0m\u001b[1;33m\u001b[0m\u001b[1;33m\u001b[0m\u001b[0m\n",
      "\u001b[1;32m~\\anaconda3\\lib\\site-packages\\pandas\\core\\groupby\\groupby.py\u001b[0m in \u001b[0;36mapply\u001b[1;34m(self, func, *args, **kwargs)\u001b[0m\n\u001b[0;32m    892\u001b[0m         \u001b[1;32mwith\u001b[0m \u001b[0moption_context\u001b[0m\u001b[1;33m(\u001b[0m\u001b[1;34m\"mode.chained_assignment\"\u001b[0m\u001b[1;33m,\u001b[0m \u001b[1;32mNone\u001b[0m\u001b[1;33m)\u001b[0m\u001b[1;33m:\u001b[0m\u001b[1;33m\u001b[0m\u001b[1;33m\u001b[0m\u001b[0m\n\u001b[0;32m    893\u001b[0m             \u001b[1;32mtry\u001b[0m\u001b[1;33m:\u001b[0m\u001b[1;33m\u001b[0m\u001b[1;33m\u001b[0m\u001b[0m\n\u001b[1;32m--> 894\u001b[1;33m                 \u001b[0mresult\u001b[0m \u001b[1;33m=\u001b[0m \u001b[0mself\u001b[0m\u001b[1;33m.\u001b[0m\u001b[0m_python_apply_general\u001b[0m\u001b[1;33m(\u001b[0m\u001b[0mf\u001b[0m\u001b[1;33m,\u001b[0m \u001b[0mself\u001b[0m\u001b[1;33m.\u001b[0m\u001b[0m_selected_obj\u001b[0m\u001b[1;33m)\u001b[0m\u001b[1;33m\u001b[0m\u001b[1;33m\u001b[0m\u001b[0m\n\u001b[0m\u001b[0;32m    895\u001b[0m             \u001b[1;32mexcept\u001b[0m \u001b[0mTypeError\u001b[0m\u001b[1;33m:\u001b[0m\u001b[1;33m\u001b[0m\u001b[1;33m\u001b[0m\u001b[0m\n\u001b[0;32m    896\u001b[0m                 \u001b[1;31m# gh-20949\u001b[0m\u001b[1;33m\u001b[0m\u001b[1;33m\u001b[0m\u001b[1;33m\u001b[0m\u001b[0m\n",
      "\u001b[1;32m~\\anaconda3\\lib\\site-packages\\pandas\\core\\groupby\\groupby.py\u001b[0m in \u001b[0;36m_python_apply_general\u001b[1;34m(self, f, data)\u001b[0m\n\u001b[0;32m    926\u001b[0m             \u001b[0mdata\u001b[0m \u001b[0mafter\u001b[0m \u001b[0mapplying\u001b[0m \u001b[0mf\u001b[0m\u001b[1;33m\u001b[0m\u001b[1;33m\u001b[0m\u001b[0m\n\u001b[0;32m    927\u001b[0m         \"\"\"\n\u001b[1;32m--> 928\u001b[1;33m         \u001b[0mkeys\u001b[0m\u001b[1;33m,\u001b[0m \u001b[0mvalues\u001b[0m\u001b[1;33m,\u001b[0m \u001b[0mmutated\u001b[0m \u001b[1;33m=\u001b[0m \u001b[0mself\u001b[0m\u001b[1;33m.\u001b[0m\u001b[0mgrouper\u001b[0m\u001b[1;33m.\u001b[0m\u001b[0mapply\u001b[0m\u001b[1;33m(\u001b[0m\u001b[0mf\u001b[0m\u001b[1;33m,\u001b[0m \u001b[0mdata\u001b[0m\u001b[1;33m,\u001b[0m \u001b[0mself\u001b[0m\u001b[1;33m.\u001b[0m\u001b[0maxis\u001b[0m\u001b[1;33m)\u001b[0m\u001b[1;33m\u001b[0m\u001b[1;33m\u001b[0m\u001b[0m\n\u001b[0m\u001b[0;32m    929\u001b[0m \u001b[1;33m\u001b[0m\u001b[0m\n\u001b[0;32m    930\u001b[0m         return self._wrap_applied_output(\n",
      "\u001b[1;32m~\\anaconda3\\lib\\site-packages\\pandas\\core\\groupby\\ops.py\u001b[0m in \u001b[0;36mapply\u001b[1;34m(self, f, data, axis)\u001b[0m\n\u001b[0;32m    236\u001b[0m             \u001b[1;31m# group might be modified\u001b[0m\u001b[1;33m\u001b[0m\u001b[1;33m\u001b[0m\u001b[1;33m\u001b[0m\u001b[0m\n\u001b[0;32m    237\u001b[0m             \u001b[0mgroup_axes\u001b[0m \u001b[1;33m=\u001b[0m \u001b[0mgroup\u001b[0m\u001b[1;33m.\u001b[0m\u001b[0maxes\u001b[0m\u001b[1;33m\u001b[0m\u001b[1;33m\u001b[0m\u001b[0m\n\u001b[1;32m--> 238\u001b[1;33m             \u001b[0mres\u001b[0m \u001b[1;33m=\u001b[0m \u001b[0mf\u001b[0m\u001b[1;33m(\u001b[0m\u001b[0mgroup\u001b[0m\u001b[1;33m)\u001b[0m\u001b[1;33m\u001b[0m\u001b[1;33m\u001b[0m\u001b[0m\n\u001b[0m\u001b[0;32m    239\u001b[0m             \u001b[1;32mif\u001b[0m \u001b[1;32mnot\u001b[0m \u001b[0m_is_indexed_like\u001b[0m\u001b[1;33m(\u001b[0m\u001b[0mres\u001b[0m\u001b[1;33m,\u001b[0m \u001b[0mgroup_axes\u001b[0m\u001b[1;33m,\u001b[0m \u001b[0maxis\u001b[0m\u001b[1;33m)\u001b[0m\u001b[1;33m:\u001b[0m\u001b[1;33m\u001b[0m\u001b[1;33m\u001b[0m\u001b[0m\n\u001b[0;32m    240\u001b[0m                 \u001b[0mmutated\u001b[0m \u001b[1;33m=\u001b[0m \u001b[1;32mTrue\u001b[0m\u001b[1;33m\u001b[0m\u001b[1;33m\u001b[0m\u001b[0m\n",
      "\u001b[1;32m~\\anaconda3\\lib\\site-packages\\pandas\\core\\groupby\\groupby.py\u001b[0m in \u001b[0;36mf\u001b[1;34m(g)\u001b[0m\n\u001b[0;32m    876\u001b[0m                 \u001b[1;32mdef\u001b[0m \u001b[0mf\u001b[0m\u001b[1;33m(\u001b[0m\u001b[0mg\u001b[0m\u001b[1;33m)\u001b[0m\u001b[1;33m:\u001b[0m\u001b[1;33m\u001b[0m\u001b[1;33m\u001b[0m\u001b[0m\n\u001b[0;32m    877\u001b[0m                     \u001b[1;32mwith\u001b[0m \u001b[0mnp\u001b[0m\u001b[1;33m.\u001b[0m\u001b[0merrstate\u001b[0m\u001b[1;33m(\u001b[0m\u001b[0mall\u001b[0m\u001b[1;33m=\u001b[0m\u001b[1;34m\"ignore\"\u001b[0m\u001b[1;33m)\u001b[0m\u001b[1;33m:\u001b[0m\u001b[1;33m\u001b[0m\u001b[1;33m\u001b[0m\u001b[0m\n\u001b[1;32m--> 878\u001b[1;33m                         \u001b[1;32mreturn\u001b[0m \u001b[0mfunc\u001b[0m\u001b[1;33m(\u001b[0m\u001b[0mg\u001b[0m\u001b[1;33m,\u001b[0m \u001b[1;33m*\u001b[0m\u001b[0margs\u001b[0m\u001b[1;33m,\u001b[0m \u001b[1;33m**\u001b[0m\u001b[0mkwargs\u001b[0m\u001b[1;33m)\u001b[0m\u001b[1;33m\u001b[0m\u001b[1;33m\u001b[0m\u001b[0m\n\u001b[0m\u001b[0;32m    879\u001b[0m \u001b[1;33m\u001b[0m\u001b[0m\n\u001b[0;32m    880\u001b[0m             \u001b[1;32melif\u001b[0m \u001b[0mhasattr\u001b[0m\u001b[1;33m(\u001b[0m\u001b[0mnanops\u001b[0m\u001b[1;33m,\u001b[0m \u001b[1;34m\"nan\"\u001b[0m \u001b[1;33m+\u001b[0m \u001b[0mfunc\u001b[0m\u001b[1;33m)\u001b[0m\u001b[1;33m:\u001b[0m\u001b[1;33m\u001b[0m\u001b[1;33m\u001b[0m\u001b[0m\n",
      "\u001b[1;32m<ipython-input-10-bd65024e8767>\u001b[0m in \u001b[0;36mivars\u001b[1;34m(variogram_array, scale, delta_h)\u001b[0m\n\u001b[0;32m     83\u001b[0m     \u001b[0my_bench\u001b[0m\u001b[1;33m=\u001b[0m \u001b[1;33m[\u001b[0m\u001b[1;36m0\u001b[0m\u001b[1;33m]\u001b[0m \u001b[1;33m+\u001b[0m \u001b[0mvariogram_array\u001b[0m\u001b[1;33m.\u001b[0m\u001b[0mto_list\u001b[0m\u001b[1;33m(\u001b[0m\u001b[1;33m)\u001b[0m\u001b[1;33m\u001b[0m\u001b[1;33m\u001b[0m\u001b[0m\n\u001b[0;32m     84\u001b[0m \u001b[1;33m\u001b[0m\u001b[0m\n\u001b[1;32m---> 85\u001b[1;33m     \u001b[0my_int\u001b[0m  \u001b[1;33m=\u001b[0m \u001b[0mnp\u001b[0m\u001b[1;33m.\u001b[0m\u001b[0minterp\u001b[0m\u001b[1;33m(\u001b[0m\u001b[0mx\u001b[0m\u001b[1;33m=\u001b[0m\u001b[0mx_int\u001b[0m\u001b[1;33m,\u001b[0m \u001b[0mxp\u001b[0m\u001b[1;33m=\u001b[0m\u001b[0mx_bench\u001b[0m\u001b[1;33m,\u001b[0m \u001b[0mfp\u001b[0m\u001b[1;33m=\u001b[0m\u001b[0my_bench\u001b[0m\u001b[1;33m)\u001b[0m\u001b[1;33m\u001b[0m\u001b[1;33m\u001b[0m\u001b[0m\n\u001b[0m\u001b[0;32m     86\u001b[0m \u001b[1;33m\u001b[0m\u001b[0m\n\u001b[0;32m     87\u001b[0m     \u001b[1;31m# for loop for each step size to caluclate the area\u001b[0m\u001b[1;33m\u001b[0m\u001b[1;33m\u001b[0m\u001b[1;33m\u001b[0m\u001b[0m\n",
      "\u001b[1;32m<__array_function__ internals>\u001b[0m in \u001b[0;36minterp\u001b[1;34m(*args, **kwargs)\u001b[0m\n",
      "\u001b[1;32m~\\anaconda3\\lib\\site-packages\\numpy\\lib\\function_base.py\u001b[0m in \u001b[0;36minterp\u001b[1;34m(x, xp, fp, left, right, period)\u001b[0m\n\u001b[0;32m   1426\u001b[0m         \u001b[0mfp\u001b[0m \u001b[1;33m=\u001b[0m \u001b[0mnp\u001b[0m\u001b[1;33m.\u001b[0m\u001b[0mconcatenate\u001b[0m\u001b[1;33m(\u001b[0m\u001b[1;33m(\u001b[0m\u001b[0mfp\u001b[0m\u001b[1;33m[\u001b[0m\u001b[1;33m-\u001b[0m\u001b[1;36m1\u001b[0m\u001b[1;33m:\u001b[0m\u001b[1;33m]\u001b[0m\u001b[1;33m,\u001b[0m \u001b[0mfp\u001b[0m\u001b[1;33m,\u001b[0m \u001b[0mfp\u001b[0m\u001b[1;33m[\u001b[0m\u001b[1;36m0\u001b[0m\u001b[1;33m:\u001b[0m\u001b[1;36m1\u001b[0m\u001b[1;33m]\u001b[0m\u001b[1;33m)\u001b[0m\u001b[1;33m)\u001b[0m\u001b[1;33m\u001b[0m\u001b[1;33m\u001b[0m\u001b[0m\n\u001b[0;32m   1427\u001b[0m \u001b[1;33m\u001b[0m\u001b[0m\n\u001b[1;32m-> 1428\u001b[1;33m     \u001b[1;32mreturn\u001b[0m \u001b[0minterp_func\u001b[0m\u001b[1;33m(\u001b[0m\u001b[0mx\u001b[0m\u001b[1;33m,\u001b[0m \u001b[0mxp\u001b[0m\u001b[1;33m,\u001b[0m \u001b[0mfp\u001b[0m\u001b[1;33m,\u001b[0m \u001b[0mleft\u001b[0m\u001b[1;33m,\u001b[0m \u001b[0mright\u001b[0m\u001b[1;33m)\u001b[0m\u001b[1;33m\u001b[0m\u001b[1;33m\u001b[0m\u001b[0m\n\u001b[0m\u001b[0;32m   1429\u001b[0m \u001b[1;33m\u001b[0m\u001b[0m\n\u001b[0;32m   1430\u001b[0m \u001b[1;33m\u001b[0m\u001b[0m\n",
      "\u001b[1;31mValueError\u001b[0m: fp and xp are not of the same length."
     ]
    }
   ],
   "source": [
    "# bootstrapping to get CIs\n",
    "bootstrap_size = 100\n",
    "\n",
    "# create result dataframes/series if bootstrapping is chosen to be done\n",
    "result_bs_variogram = pd.DataFrame()\n",
    "result_bs_sobol = pd.DataFrame()\n",
    "result_bs_ivars_df = pd.DataFrame()\n",
    "result_bs_sobol_ranking = pd.DataFrame()\n",
    "result_bs_ivars_ranking = pd.DataFrame()\n",
    "\n",
    "for _ in range(0, bootstrap_size):\n",
    "    ## specify random sequence by sampling with replacement\n",
    "    bootstrap_rand = np.random.choice(list(range(0,10)), size=len(range(0,10)), replace=True).tolist()\n",
    "    bootstrapped_pairdf = pd.concat([pair_df.loc[ind[i, :, :, :], :] for i in bootstrap_rand])\n",
    "    bootstrapped_df     = pd.concat([df.loc[ind[i, :, :], :] for i in bootstrap_rand])\n",
    "    #display(bootstrapped_pairdf)\n",
    "    #display(bootstrap_rand)\n",
    "\n",
    "    ## calculating sectional covariograms\n",
    "    bootstrapped_cov_section_all = pd.concat([cov_section_all.loc[ind[i, :]] for i in bootstrap_rand])\n",
    "    #display('sectional variogram:')\n",
    "    #display(bootstrapped_cov_section_all)\n",
    "    #display(bootstrap_rand)\n",
    "\n",
    "    ## calculating variogram, ecovariogram, variance, mean, Sobol, and IVARS values\n",
    "    bootstrapped_variogram = variogram(bootstrapped_pairdf)\n",
    "    #display('variogram:')\n",
    "    #display(bootstrapped_variogram.unstack(0))\n",
    "\n",
    "    bootstrapped_ecovariogram = e_covariogram(bootstrapped_cov_section_all)\n",
    "    #display('E(covariogram):')\n",
    "    #display(bootstrapped_ecovariogram.unstack(level=0))\n",
    "\n",
    "    bootstrapped_var = bootstrapped_df[model_name.__name__].unique().var(ddof=1)\n",
    "    #display('variance:', bootstrapped_var)\n",
    "\n",
    "    bootstrapped_sobol = sobol_eq(bootstrapped_variogram, bootstrapped_ecovariogram, bootstrapped_var, delta_h)\n",
    "    #display('sobol:', bootstrapped_sobol)\n",
    "    \n",
    "    bootstrapped_sobol_ranking = factor_ranking(bootstrapped_sobol)\n",
    "    bootstrapped_sobol_ranking_df = pd.DataFrame(data=[bootstrapped_sobol_ranking], columns=parameters.keys())\n",
    "\n",
    "    \n",
    "    bootstrapped_ivars_df = pd.DataFrame.from_dict({scale: bootstrapped_variogram.groupby(level=0).apply(ivars, scale=scale, delta_h=delta_h) \\\n",
    "                                                    for scale in ivars_scales}, 'index')\n",
    "    \n",
    "    bootstrapped_ivars_ranking = []\n",
    "    for scale in ivars_scales:\n",
    "        bootstrapped_ivars_ranking.append(factor_ranking(ivars_df.loc[scale]))\n",
    "\n",
    "    bootstrapped_ivars_ranking_df = pd.DataFrame(data=ivars_ranking, columns=parameters.keys(), index=ivars_scales)\n",
    "    \n",
    "    #display('ivars:', boostrapped_ivars_df)\n",
    "    \n",
    "    # unstack variogram\n",
    "    bootstrapped_variogram_df = bootstrapped_variogram.unstack(level=0)\n",
    "    \n",
    "    # transpose sobol values for stacking of results\n",
    "    bootstrapped_sobol_df = bootstrapped_sobol.to_frame().transpose()\n",
    "    \n",
    "    # attatch new results to previous results (order does not matter here)\n",
    "    result_bs_variogram = pd.concat([bootstrapped_variogram_df, result_bs_variogram])\n",
    "    result_bs_sobol = pd.concat([bootstrapped_sobol_df, result_bs_sobol])\n",
    "    result_bs_ivars_df = pd.concat([bootstrapped_ivars_df, result_bs_ivars_df])\n",
    "    result_bs_sobol_ranking = pd.concat([bootstrapped_sobol_ranking_df, result_bs_sobol_ranking])\n",
    "    result_bs_ivars_ranking = pd.concat([bootstrapped_ivars_ranking_df, result_bs_ivars_ranking])"
   ]
  },
  {
   "cell_type": "code",
   "execution_count": null,
   "id": "a0dcbd26-67c9-4769-82a3-5489b6bc4826",
   "metadata": {},
   "outputs": [],
   "source": [
    "# calculate upper and lower confidence interval limits of the ivars values\n",
    "ivars_low = pd.DataFrame()\n",
    "ivars_upp = pd.DataFrame()\n",
    "for scale in ivars_scales:\n",
    "    ivars_low = pd.concat([ivars_low, result_bs_ivars_df.loc[scale].quantile((1-0.9)/2).rename(scale).to_frame()], axis=1)\n",
    "    ivars_upp = pd.concat([ivars_upp, result_bs_ivars_df.loc[scale].quantile(1-((1-0.9)/2)).rename(scale).to_frame()], axis=1)\n",
    "\n",
    "ivars_low = ivars_low.transpose()\n",
    "ivars_upp = ivars_upp.transpose()\n",
    "display(ivars_low)\n",
    "display(ivars_upp)"
   ]
  },
  {
   "cell_type": "code",
   "execution_count": null,
   "id": "703b38d7-34c1-46da-95fa-16fc1972f8e3",
   "metadata": {},
   "outputs": [],
   "source": [
    "variogram_low = pd.DataFrame()\n",
    "variogram_upp = pd.DataFrame()\n",
    "for h in np.unique(result_bs_variogram.index.values).tolist():\n",
    "    variogram_low = pd.concat([variogram_low, result_bs_variogram.loc[h].quantile((1-0.9)/2).rename(h).to_frame()], axis=1)\n",
    "    variogram_upp = pd.concat([variogram_upp, result_bs_variogram.loc[h].quantile(1-((1-0.9)/2)).rename(h).to_frame()], axis=1)\n",
    "    \n",
    "variogram_low = variogram_low.transpose()\n",
    "variogram_upp = variogram_upp.transpose()\n",
    "\n",
    "variogram_low.index.names = ['h']\n",
    "variogram_upp.index.names = ['h']\n",
    "\n",
    "display(variogram_low)\n",
    "display(variogram_upp)"
   ]
  },
  {
   "cell_type": "code",
   "execution_count": null,
   "id": "dcaa763d-946f-4f0b-af53-08ffcf4e106b",
   "metadata": {},
   "outputs": [],
   "source": [
    "sobol_low = result_bs_sobol.quantile((1-0.9)/2).rename('').to_frame().transpose()\n",
    "sobol_upp = result_bs_sobol.quantile(1-((1-0.9)/2)).rename('').to_frame().transpose()\n",
    "                            \n",
    "display(sobol_low)\n",
    "display(sobol_upp)"
   ]
  },
  {
   "cell_type": "code",
   "execution_count": null,
   "id": "28a904b4-75ad-42a1-bb4f-75baf994ea57",
   "metadata": {},
   "outputs": [],
   "source": [
    "rel_sobol_results = []\n",
    "for param in parameters.keys():\n",
    "    rel_sobol_results.append(result_bs_sobol_ranking[param].eq(sobol_ranking_df[param][0]).sum()/bootstrap_size)\n",
    "\n",
    "rel_sobol = pd.DataFrame([rel_sobol_results],  columns=parameters.keys(), index=[''])\n",
    "rel_sobol"
   ]
  },
  {
   "cell_type": "code",
   "execution_count": null,
   "id": "31dce8e8-a44b-4d67-ac3f-0d5c223a27cc",
   "metadata": {},
   "outputs": [],
   "source": [
    "# small test to see if this works properly\n",
    "df_1 = pd.DataFrame({'x1' : [2], 'x2' : [0], 'x3' : [1]}, index = [0])\n",
    "df2 = pd.DataFrame({'x1' : [1, 0, 2, 2], 'x2' : [0, 0, 0, 0], 'x3' : [0, 3, 4, 1]}, index=[0, 0, 0, 0])\n",
    "df2.eq(df_1)['x3'].sum()"
   ]
  },
  {
   "cell_type": "code",
   "execution_count": 123,
   "id": "1a8d30d7-4494-470f-844c-34d6f07d0e7c",
   "metadata": {},
   "outputs": [
    {
     "ename": "AttributeError",
     "evalue": "'numpy.int64' object has no attribute 'eq'",
     "output_type": "error",
     "traceback": [
      "\u001b[1;31m---------------------------------------------------------------------------\u001b[0m",
      "\u001b[1;31mAttributeError\u001b[0m                            Traceback (most recent call last)",
      "\u001b[1;32m<ipython-input-123-a309e389752b>\u001b[0m in \u001b[0;36m<module>\u001b[1;34m\u001b[0m\n\u001b[0;32m      4\u001b[0m     \u001b[0mrel_ivars_results_scale\u001b[0m \u001b[1;33m=\u001b[0m \u001b[1;33m[\u001b[0m\u001b[1;33m]\u001b[0m\u001b[1;33m\u001b[0m\u001b[1;33m\u001b[0m\u001b[0m\n\u001b[0;32m      5\u001b[0m     \u001b[1;32mfor\u001b[0m \u001b[0mscale\u001b[0m \u001b[1;32min\u001b[0m \u001b[0mivars_scales\u001b[0m\u001b[1;33m:\u001b[0m\u001b[1;33m\u001b[0m\u001b[1;33m\u001b[0m\u001b[0m\n\u001b[1;32m----> 6\u001b[1;33m         \u001b[0mrel_ivars_results_scale\u001b[0m\u001b[1;33m.\u001b[0m\u001b[0mappend\u001b[0m\u001b[1;33m(\u001b[0m\u001b[0mresult_bs_ivars_ranking\u001b[0m\u001b[1;33m[\u001b[0m\u001b[0mparam\u001b[0m\u001b[1;33m]\u001b[0m\u001b[1;33m.\u001b[0m\u001b[0mloc\u001b[0m\u001b[1;33m[\u001b[0m\u001b[0mscale\u001b[0m\u001b[1;33m]\u001b[0m\u001b[1;33m.\u001b[0m\u001b[0meq\u001b[0m\u001b[1;33m(\u001b[0m\u001b[0mivars_ranking_df\u001b[0m\u001b[1;33m[\u001b[0m\u001b[0mparam\u001b[0m\u001b[1;33m]\u001b[0m\u001b[1;33m.\u001b[0m\u001b[0mloc\u001b[0m\u001b[1;33m[\u001b[0m\u001b[0mscale\u001b[0m\u001b[1;33m]\u001b[0m\u001b[1;33m)\u001b[0m\u001b[1;33m.\u001b[0m\u001b[0msum\u001b[0m\u001b[1;33m(\u001b[0m\u001b[1;33m)\u001b[0m\u001b[1;33m/\u001b[0m\u001b[0mbootstrap_size\u001b[0m\u001b[1;33m)\u001b[0m\u001b[1;33m\u001b[0m\u001b[1;33m\u001b[0m\u001b[0m\n\u001b[0m\u001b[0;32m      7\u001b[0m     \u001b[0mrel_ivars_results\u001b[0m\u001b[1;33m.\u001b[0m\u001b[0mappend\u001b[0m\u001b[1;33m(\u001b[0m\u001b[0mrel_ivars_results_scale\u001b[0m\u001b[1;33m)\u001b[0m\u001b[1;33m\u001b[0m\u001b[1;33m\u001b[0m\u001b[0m\n\u001b[0;32m      8\u001b[0m \u001b[1;33m\u001b[0m\u001b[0m\n",
      "\u001b[1;31mAttributeError\u001b[0m: 'numpy.int64' object has no attribute 'eq'"
     ]
    }
   ],
   "source": [
    "# calculate relibability estimate based on ivars factor rankings\n",
    "rel_ivars_results = []\n",
    "for param in parameters.keys():\n",
    "    rel_ivars_results_scale = []\n",
    "    for scale in ivars_scales:\n",
    "        rel_ivars_results_scale.append(result_bs_ivars_ranking[param].loc[scale].eq(ivars_ranking_df[param].loc[scale]).sum()/bootstrap_size)\n",
    "    rel_ivars_results.append(rel_ivars_results_scale)\n",
    "\n",
    "rel_ivars = pd.DataFrame(rel_ivars_results,  columns=ivars_scales, index=parameters.keys())\n",
    "# tranpose to get data in right format\n",
    "rel_ivars = rel_ivars.transpose()\n",
    "\n",
    "rel_ivars"
   ]
  },
  {
   "cell_type": "code",
   "execution_count": 130,
   "id": "627713f2-abee-4cef-a7d6-e4a963c0d02e",
   "metadata": {},
   "outputs": [],
   "source": [
    "import scipy.stats as stat\n",
    "import scipy.cluster.hierarchy as hchy\n",
    "import scipy.spatial.distance as dist\n",
    "from matplotlib import pyplot as plt\n",
    "from itertools import compress"
   ]
  },
  {
   "cell_type": "code",
   "execution_count": 126,
   "id": "757c9bdc-c8e2-4193-9880-dfd971ca1eb0",
   "metadata": {},
   "outputs": [],
   "source": [
    "def factor_grouping(sens_idx, num_grp=None):\n",
    "    [m, n] = sens_idx.shape\n",
    "\n",
    "    # make data 1d\n",
    "    R = sens_idx.stack()\n",
    "    # replacing zeros with a constant number due to numerical reasoning\n",
    "    R[R == 0] = np.ones(len(R[R == 0]))\n",
    "\n",
    "    # do a box-cox transformation\n",
    "    [TRANSDAT, LAMBDA] = stat.boxcox(R)\n",
    "    if LAMBDA <= 0.0099:\n",
    "        TRANSDAT = np.log(R)\n",
    "\n",
    "    indices = np.argwhere(np.isinf(TRANSDAT).tolist())\n",
    "    if indices.shape == (2, 1):\n",
    "        TRANSDAT[indices[0], indices[1]] = np.log(R[R > 0])\n",
    "\n",
    "    # reshape data for the linkage calculation\n",
    "    S = np.reshape(TRANSDAT.tolist(), [n, m])\n",
    "    \n",
    "    # Agglomerative hierarchical cluster\n",
    "    Z = hchy.linkage(S, method='ward', metric='euclidean')\n",
    "    \n",
    "    # Optimal group number\n",
    "    Clusters = []\n",
    "    for i in range(2, n+1):\n",
    "        Clusters.append(hchy.fcluster(Z, criterion='maxclust', t=i))\n",
    "    # if user gives the group number preform calculations\n",
    "    if num_grp:\n",
    "        rank_grp = hchy.fcluster(Z, criterion='maxclust', t=num_grp)\n",
    "        optm_num_grp = num_grp\n",
    "        nn = 1\n",
    "        id = len(Z)\n",
    "        while nn != optm_num_grp:\n",
    "            cutoff = Z[id-1][2]\n",
    "            rank_grp = hchy.fcluster(Z, criterion='distance', t=cutoff)\n",
    "            nn = np.amax(rank_grp)\n",
    "            id = id - 1\n",
    "\n",
    "    # if user does not give optimal group number use elbow method\n",
    "    else:\n",
    "        cutoff = elbow_method(Z)\n",
    "        rank_grp = hchy.fcluster(Z, criterion='distance', t=cutoff)\n",
    "        optm_num_grp = max(rank_grp)\n",
    "        \n",
    "    \n",
    "    #*** this part can be edited once we start working on plots\n",
    "    #fig = plt.figure(figsize=(25,10))\n",
    "    #dn = hchy.dendrogram(Z)\n",
    "    #plt.show()\n",
    "    \n",
    "    return optm_num_grp, rank_grp, Clusters\n",
    "    "
   ]
  },
  {
   "cell_type": "code",
   "execution_count": 127,
   "id": "e16ca206-4bde-4f3b-9b4b-5c70c7908fd8",
   "metadata": {},
   "outputs": [],
   "source": [
    "def elbow_method(Z):\n",
    "    Q1 = np.array([1, Z[0][2]])\n",
    "    Q2 = np.array([len(Z), Z[-1][2]])\n",
    "    \n",
    "    d = []\n",
    "    for i in range(0, len(Z) - 2):\n",
    "        P = [i+1, Z[i][2]]\n",
    "        d.append(np.abs(np.linalg.det(np.array([[Q2 - Q1], [P-Q1]])))/np.linalg.norm(Q2-Q1))\n",
    "    id = d.index(max(d))\n",
    "    cutoff = Z[id][2]\n",
    "    \n",
    "    return cutoff"
   ]
  },
  {
   "cell_type": "code",
   "execution_count": null,
   "id": "6953a8ca-12e4-42c6-a8e5-12f5f837c5f1",
   "metadata": {},
   "outputs": [],
   "source": [
    "# grouping\n",
    "num_grp_ivars50, ivars50_grp_array, ClustersIvars50 = factor_grouping(result_bs_ivars_df.loc[0.5], num_grp=2)\n",
    "num_grp_sobol, sobol_grp_array, ClustersSobol = factor_grouping(result_bs_sobol, num_grp=2)\n",
    "\n",
    "display(num_grp_ivars50)\n",
    "display(num_grp_sobol)\n",
    "\n",
    "display(ivars50_grp_array)\n",
    "display(sobol_grp_array)\n",
    "\n",
    "display(ClustersIvars50)\n",
    "display(ClustersSobol)"
   ]
  },
  {
   "cell_type": "code",
   "execution_count": null,
   "id": "44fc6e84-714a-455c-93d7-1e463a58236f",
   "metadata": {},
   "outputs": [],
   "source": [
    "# Reliability estimates of group\n",
    "cluster_sobol = []\n",
    "cluster_rank_sobol = []\n",
    "for g in range(0, num_grp_sobol):\n",
    "    cluster_sobol.append(np.argwhere(sobol_grp_array==g + 1).flatten())\n",
    "    cluster_rank_sobol.append(sobol_ranking_df.to_numpy().flatten()[cluster_sobol[g]])\n",
    "    cluster_rank_sobol[g] = np.sort(cluster_rank_sobol[g], axis=0)\n",
    "\n",
    "display(cluster_sobol)\n",
    "display(cluster_rank_sobol)"
   ]
  },
  {
   "cell_type": "code",
   "execution_count": null,
   "id": "6b0543b2-787c-47b5-ace0-797333feeecc",
   "metadata": {},
   "outputs": [],
   "source": [
    "cluster_ivars50 = []\n",
    "cluster_rank_ivars50 = []\n",
    "for g in range(0, num_grp_ivars50):\n",
    "    cluster_ivars50.append(np.argwhere(ivars50_grp_array==g + 1).flatten())\n",
    "    cluster_rank_ivars50.append(ivars_ranking_df.loc[0.5].to_numpy()[cluster_ivars50[g]])\n",
    "    cluster_rank_ivars50[g] = np.sort(cluster_rank_ivars50[g], axis=0)\n",
    "\n",
    "display(cluster_ivars50)\n",
    "display(cluster_rank_ivars50)"
   ]
  },
  {
   "cell_type": "code",
   "execution_count": null,
   "id": "5d67d933-c72f-4c06-b933-2b5dc86e3e77",
   "metadata": {},
   "outputs": [],
   "source": [
    "\n",
    "reli_sobol_grp_array = np.zeros(len(parameters.keys()))\n",
    "reli_ivars50_grp_array = np.zeros(len(parameters.keys()))\n",
    "for D in range (0, len(parameters.keys())):\n",
    "    match = [np.argwhere(cluster_sobol[x]==D).flatten() for x in range(0, len(cluster_sobol))]\n",
    "    rank_range_sobol = [(match[x].size != 0) for x in range(0, len(match))]\n",
    "    rank_sobol_benchmark = list(compress(cluster_rank_sobol, rank_range_sobol))\n",
    "    rank_sobol_benchmark = rank_sobol_benchmark[0]\n",
    "    \n",
    "    match = [np.argwhere(cluster_ivars50[x]==D).flatten() for x in range(0, len(cluster_ivars50))]\n",
    "    rank_range_ivars50 = [(match[x].size != 0) for x in range(0, len(match))]\n",
    "    rank_ivars50_benchmark = list(compress(cluster_rank_ivars50, rank_range_ivars50))\n",
    "    rank_ivars50_benchmark = rank_ivars50_benchmark[0]\n",
    "    \n",
    "    # calculate the reliability of paramter number D\n",
    "    reli_sobol = 0\n",
    "    reli_ivars50 = 0\n",
    "    for i in range(0, bootstrap_size):\n",
    "        reli_sobol += len(np.argwhere(result_bs_sobol_ranking.iloc[i, D] == rank_sobol_benchmark))/bootstrap_size\n",
    "        reli_ivars50 += len(np.argwhere(result_bs_ivars_ranking.loc[0.5].iloc[i, D] == rank_ivars50_benchmark))/bootstrap_size\n",
    "        \n",
    "    reli_sobol_grp_array[D] = reli_sobol\n",
    "    reli_ivars50_grp_array[D] = reli_ivars50\n",
    "\n",
    "reli_sobol_grp = pd.DataFrame([reli_sobol_grp_array], columns=parameters.keys(), index=[''])\n",
    "reli_ivars50_grp = pd.DataFrame([reli_ivars50_grp_array], columns=parameters.keys(), index=[0.5])\n",
    "    \n",
    "display(reli_sobol_grp)\n",
    "display(reli_ivars50_grp)"
   ]
  },
  {
   "cell_type": "code",
   "execution_count": null,
   "id": "ef91c52a-9b53-4192-81bc-95a5d75807b0",
   "metadata": {},
   "outputs": [],
   "source": [
    "# change the ordering of the groups to match matlab style\n",
    "numgrp = 2\n",
    "for i in range(0, len(ivars50_grp_array)):\n",
    "    ivars50_grp_array[i] = np.abs(ivars50_grp_array[i] - numgrp) + 1\n",
    "   \n",
    "for i in range(0, len(sobol_grp_array)):\n",
    "    sobol_grp_array[i] = np.abs(sobol_grp_array[i] - numgrp) + 1  \n",
    "    \n",
    "display(ivars50_grp_array)\n",
    "display(sobol_grp_array)"
   ]
  },
  {
   "cell_type": "code",
   "execution_count": null,
   "id": "f20be4fa-dec8-411b-b4f7-788b0189e92f",
   "metadata": {},
   "outputs": [],
   "source": [
    "# display groups\n",
    "ivars50_grps = pd.DataFrame([ivars50_grp_array], columns=parameters.keys(), index=[0.5])\n",
    "sobol_grps = pd.DataFrame([sobol_grp_array], columns=parameters.keys(), index=[''])\n",
    "\n",
    "display(ivars50_grps)\n",
    "display(sobol_grps)"
   ]
  },
  {
   "cell_type": "code",
   "execution_count": null,
   "id": "8d2983b5-0294-4af0-a88c-0369e113bc8a",
   "metadata": {},
   "outputs": [],
   "source": [
    "# create a random int for the default seed\n",
    "np.random.randint(1, 123456790)\n"
   ]
  },
  {
   "cell_type": "code",
   "execution_count": 124,
   "id": "c6473a9a-3b80-48c8-a4dd-db5e7be91e45",
   "metadata": {},
   "outputs": [
    {
     "data": {
      "image/png": "[encoded data removed]",
      "text/plain": [
       "<Figure size 432x288 with 1 Axes>"
      ]
     },
     "metadata": {
      "needs_background": "light"
     },
     "output_type": "display_data"
    }
   ],
   "source": [
    "ymax = variogram_value.unstack(0).loc[0:0.6].max().max()\n",
    "varax = variogram_value.unstack(0).plot(xlabel='Perturbation Scale, h', ylabel='Variogram, $\\gamma$(h)', xlim=(0, 0.5),\n",
    "                                ylim=(0, ymax), marker='o')"
   ]
  },
  {
   "cell_type": "code",
   "execution_count": 125,
   "id": "b2f80d62-c27d-4de6-a013-cf40ece3d937",
   "metadata": {},
   "outputs": [
    {
     "data": {
      "text/plain": [
       "param\n",
       "x1    0.928818\n",
       "x2    0.071182\n",
       "dtype: float64"
      ]
     },
     "metadata": {},
     "output_type": "display_data"
    },
    {
     "data": {
      "text/plain": [
       "x1    0.916991\n",
       "x2    0.083009\n",
       "Name: 0.5, dtype: float64"
      ]
     },
     "metadata": {},
     "output_type": "display_data"
    }
   ],
   "source": [
    "# normalize data using mean normalization\n",
    "df1 = morris_values[0].unstack(0).iloc[0]\n",
    "df2 = sobol_value\n",
    "df3 = ivars_df.loc[0.5]\n",
    "\n",
    "normalized_maee = df1/df1.sum()\n",
    "normalized_sobol = df2/df2.sum()\n",
    "normalized_ivars50 = df3/df3.sum()\n",
    "display(normalized_sobol)\n",
    "display(normalized_ivars50)"
   ]
  },
  {
   "cell_type": "code",
   "execution_count": 126,
   "id": "8c02e955-5ac9-4330-aad3-e3cc9ffe2a29",
   "metadata": {},
   "outputs": [
    {
     "ename": "NameError",
     "evalue": "name 'ivars_upp' is not defined",
     "output_type": "error",
     "traceback": [
      "\u001b[1;31m---------------------------------------------------------------------------\u001b[0m",
      "\u001b[1;31mNameError\u001b[0m                                 Traceback (most recent call last)",
      "\u001b[1;32m<ipython-input-126-75d2bd81e23a>\u001b[0m in \u001b[0;36m<module>\u001b[1;34m\u001b[0m\n\u001b[0;32m      1\u001b[0m \u001b[1;31m# if bootstrapping is a thing compute bar chart confidence intervals\u001b[0m\u001b[1;33m\u001b[0m\u001b[1;33m\u001b[0m\u001b[1;33m\u001b[0m\u001b[0m\n\u001b[0;32m      2\u001b[0m \u001b[1;31m# not sure if this will be included in code\u001b[0m\u001b[1;33m\u001b[0m\u001b[1;33m\u001b[0m\u001b[1;33m\u001b[0m\u001b[0m\n\u001b[1;32m----> 3\u001b[1;33m \u001b[0mivars50_err_upp\u001b[0m \u001b[1;33m=\u001b[0m \u001b[0mivars_upp\u001b[0m\u001b[1;33m.\u001b[0m\u001b[0mloc\u001b[0m\u001b[1;33m[\u001b[0m\u001b[1;36m0.5\u001b[0m\u001b[1;33m]\u001b[0m\u001b[1;33m/\u001b[0m\u001b[0mdf3\u001b[0m\u001b[1;33m.\u001b[0m\u001b[0msum\u001b[0m\u001b[1;33m(\u001b[0m\u001b[1;33m)\u001b[0m\u001b[1;33m\u001b[0m\u001b[1;33m\u001b[0m\u001b[0m\n\u001b[0m\u001b[0;32m      4\u001b[0m \u001b[0mivars50_err_low\u001b[0m \u001b[1;33m=\u001b[0m \u001b[0mivars_low\u001b[0m\u001b[1;33m.\u001b[0m\u001b[0mloc\u001b[0m\u001b[1;33m[\u001b[0m\u001b[1;36m0.5\u001b[0m\u001b[1;33m]\u001b[0m\u001b[1;33m/\u001b[0m\u001b[0mdf3\u001b[0m\u001b[1;33m.\u001b[0m\u001b[0msum\u001b[0m\u001b[1;33m(\u001b[0m\u001b[1;33m)\u001b[0m\u001b[1;33m\u001b[0m\u001b[1;33m\u001b[0m\u001b[0m\n\u001b[0;32m      5\u001b[0m \u001b[0msobol_err_upp\u001b[0m \u001b[1;33m=\u001b[0m \u001b[1;33m(\u001b[0m\u001b[0msobol_upp\u001b[0m\u001b[1;33m/\u001b[0m\u001b[0mdf2\u001b[0m\u001b[1;33m.\u001b[0m\u001b[0mto_numpy\u001b[0m\u001b[1;33m(\u001b[0m\u001b[1;33m)\u001b[0m\u001b[1;33m.\u001b[0m\u001b[0msum\u001b[0m\u001b[1;33m(\u001b[0m\u001b[1;33m)\u001b[0m\u001b[1;33m)\u001b[0m\u001b[1;33m.\u001b[0m\u001b[0mto_numpy\u001b[0m\u001b[1;33m(\u001b[0m\u001b[1;33m)\u001b[0m\u001b[1;33m.\u001b[0m\u001b[0mflatten\u001b[0m\u001b[1;33m(\u001b[0m\u001b[1;33m)\u001b[0m\u001b[1;33m\u001b[0m\u001b[1;33m\u001b[0m\u001b[0m\n",
      "\u001b[1;31mNameError\u001b[0m: name 'ivars_upp' is not defined"
     ]
    }
   ],
   "source": [
    "# if bootstrapping is a thing compute bar chart confidence intervals\n",
    "# not sure if this will be included in code\n",
    "ivars50_err_upp = ivars_upp.loc[0.5]/df3.sum()\n",
    "ivars50_err_low = ivars_low.loc[0.5]/df3.sum()\n",
    "sobol_err_upp = (sobol_upp/df2.to_numpy().sum()).to_numpy().flatten()\n",
    "sobol_err_low = (sobol_low/df2.to_numpy().sum()).to_numpy().flatten()\n",
    "\n",
    "# subtract from normalized values so that error bars work properly\n",
    "ivars50_err_upp = np.abs(ivars50_err_upp - normalized_ivars50)\n",
    "ivars50_err_low = np.abs(ivars50_err_low - normalized_ivars50)\n",
    "sobol_err_upp = np.abs(sobol_err_upp - normalized_sobol)\n",
    "sobol_err_low = np.abs(sobol_err_low - normalized_sobol)\n",
    "\n",
    "ivars50_err = np.array([ivars50_err_low, ivars50_err_upp])\n",
    "sobol_err = np.array([sobol_err_low, sobol_err_upp])\n",
    "\n",
    "display(ivars50_err)\n",
    "display(sobol_err)"
   ]
  },
  {
   "cell_type": "code",
   "execution_count": 132,
   "id": "b67e7825-d317-4a3d-b2f9-ddfa946dfe50",
   "metadata": {},
   "outputs": [
    {
     "ename": "NameError",
     "evalue": "name 'ivars50_err' is not defined",
     "output_type": "error",
     "traceback": [
      "\u001b[1;31m---------------------------------------------------------------------------\u001b[0m",
      "\u001b[1;31mNameError\u001b[0m                                 Traceback (most recent call last)",
      "\u001b[1;32m<ipython-input-132-22a848aeb519>\u001b[0m in \u001b[0;36m<module>\u001b[1;34m\u001b[0m\n\u001b[0;32m      5\u001b[0m \u001b[0mfig\u001b[0m\u001b[1;33m,\u001b[0m \u001b[0max\u001b[0m \u001b[1;33m=\u001b[0m \u001b[0mplt\u001b[0m\u001b[1;33m.\u001b[0m\u001b[0msubplots\u001b[0m\u001b[1;33m(\u001b[0m\u001b[1;33m)\u001b[0m\u001b[1;33m\u001b[0m\u001b[1;33m\u001b[0m\u001b[0m\n\u001b[0;32m      6\u001b[0m \u001b[0mrects1\u001b[0m \u001b[1;33m=\u001b[0m \u001b[0max\u001b[0m\u001b[1;33m.\u001b[0m\u001b[0mbar\u001b[0m\u001b[1;33m(\u001b[0m\u001b[0mx\u001b[0m \u001b[1;33m-\u001b[0m \u001b[0mwidth\u001b[0m\u001b[1;33m,\u001b[0m \u001b[0mnormalized_maee\u001b[0m\u001b[1;33m,\u001b[0m \u001b[0mwidth\u001b[0m\u001b[1;33m,\u001b[0m \u001b[0mlabel\u001b[0m\u001b[1;33m=\u001b[0m\u001b[1;34m'VARS-ABE (Morris)'\u001b[0m\u001b[1;33m)\u001b[0m\u001b[1;33m\u001b[0m\u001b[1;33m\u001b[0m\u001b[0m\n\u001b[1;32m----> 7\u001b[1;33m \u001b[0mrects2\u001b[0m \u001b[1;33m=\u001b[0m \u001b[0max\u001b[0m\u001b[1;33m.\u001b[0m\u001b[0mbar\u001b[0m\u001b[1;33m(\u001b[0m\u001b[0mx\u001b[0m\u001b[1;33m,\u001b[0m \u001b[0mnormalized_ivars50\u001b[0m\u001b[1;33m,\u001b[0m \u001b[0mwidth\u001b[0m\u001b[1;33m,\u001b[0m \u001b[0mlabel\u001b[0m\u001b[1;33m=\u001b[0m\u001b[1;34m'IVARS50'\u001b[0m\u001b[1;33m,\u001b[0m \u001b[0myerr\u001b[0m\u001b[1;33m=\u001b[0m\u001b[0mivars50_err\u001b[0m\u001b[1;33m)\u001b[0m\u001b[1;33m\u001b[0m\u001b[1;33m\u001b[0m\u001b[0m\n\u001b[0m\u001b[0;32m      8\u001b[0m \u001b[0mrects3\u001b[0m \u001b[1;33m=\u001b[0m \u001b[0max\u001b[0m\u001b[1;33m.\u001b[0m\u001b[0mbar\u001b[0m\u001b[1;33m(\u001b[0m\u001b[0mx\u001b[0m \u001b[1;33m+\u001b[0m \u001b[0mwidth\u001b[0m\u001b[1;33m,\u001b[0m \u001b[0mnormalized_sobol\u001b[0m\u001b[1;33m,\u001b[0m \u001b[0mwidth\u001b[0m\u001b[1;33m,\u001b[0m \u001b[0mlabel\u001b[0m\u001b[1;33m=\u001b[0m\u001b[1;34m'VARS-TO (Sobol)'\u001b[0m\u001b[1;33m,\u001b[0m \u001b[0myerr\u001b[0m\u001b[1;33m=\u001b[0m\u001b[0msobol_err\u001b[0m\u001b[1;33m)\u001b[0m\u001b[1;33m\u001b[0m\u001b[1;33m\u001b[0m\u001b[0m\n\u001b[0;32m      9\u001b[0m \u001b[1;33m\u001b[0m\u001b[0m\n",
      "\u001b[1;31mNameError\u001b[0m: name 'ivars50_err' is not defined"
     ]
    },
    {
     "data": {
      "image/png": "[encoded data removed]",
      "text/plain": [
       "<Figure size 432x288 with 1 Axes>"
      ]
     },
     "metadata": {
      "needs_background": "light"
     },
     "output_type": "display_data"
    }
   ],
   "source": [
    "# create barchart\n",
    "x = np.arange(len(parameters.keys()))  # the label locations\n",
    "width = 0.1  # the width of the bars\n",
    "\n",
    "fig, ax = plt.subplots()\n",
    "rects1 = ax.bar(x - width, normalized_maee, width, label='VARS-ABE (Morris)')\n",
    "rects2 = ax.bar(x, normalized_ivars50, width, label='IVARS50', yerr=ivars50_err)\n",
    "rects3 = ax.bar(x + width, normalized_sobol, width, label='VARS-TO (Sobol)', yerr=sobol_err)\n",
    "\n",
    "# Add some text for labels, and custom x-axis tick labels, etc.\n",
    "ax.set_ylabel('Ratio of Factor Importance')\n",
    "ax.set_xlabel('Factor')\n",
    "ax.set_xticks(x)\n",
    "ax.set_xticklabels(parameters.keys())\n",
    "ax.legend()\n",
    "\n",
    "fig.tight_layout()\n",
    "\n",
    "plt.show()"
   ]
  },
  {
   "cell_type": "code",
   "execution_count": 131,
   "id": "55682daf-1966-45ec-9f97-8eddec6dd95f",
   "metadata": {},
   "outputs": [
    {
     "data": {
      "text/plain": [
       "<matplotlib.legend.Legend at 0x1cb1a20b040>"
      ]
     },
     "execution_count": 131,
     "metadata": {},
     "output_type": "execute_result"
    },
    {
     "data": {
      "image/png": "[encoded data removed]",
      "text/plain": [
       "<Figure size 864x576 with 1 Axes>"
      ]
     },
     "metadata": {
      "needs_background": "light"
     },
     "output_type": "display_data"
    }
   ],
   "source": [
    "# plot star centres and cross sections of a pair of parameters\n",
    "ax = star_points_df.unstack(0).loc['x1'].stack(-1).plot.scatter(0, 1, title='Star Points', color='grey', marker='*')\n",
    "star_points_df.unstack(0).loc['x2'].stack(-1).plot.scatter(0, 1, ax=ax, color='green', marker=\"+\", xlabel='x1', ylabel='x2', figsize=(12,8))\n",
    "plt.scatter(X[:, 0], X[:, 1], color='orange')\n",
    "plt.legend(['x1', 'x2', 'star centers'])"
   ]
  },
  {
   "cell_type": "code",
   "execution_count": 89,
   "id": "6ba8788a-fafc-4654-b58a-02fa68e593c9",
   "metadata": {},
   "outputs": [
    {
     "data": {
      "text/plain": [
       "5.0"
      ]
     },
     "execution_count": 89,
     "metadata": {},
     "output_type": "execute_result"
    }
   ],
   "source": [
    "xmax[0] - xmin[0]"
   ]
  },
  {
   "cell_type": "code",
   "execution_count": 90,
   "id": "174df7e9-9216-4ca0-a9c2-bce9d38ec78d",
   "metadata": {},
   "outputs": [
    {
     "data": {
      "text/plain": [
       "1.0"
      ]
     },
     "execution_count": 90,
     "metadata": {},
     "output_type": "execute_result"
    }
   ],
   "source": [
    "xmax[1] - xmin[1]"
   ]
  },
  {
   "cell_type": "code",
   "execution_count": null,
   "id": "459f26b8-db1c-4c93-92ef-b7308e036c64",
   "metadata": {},
   "outputs": [],
   "source": []
  }
 ],
 "metadata": {
  "kernelspec": {
   "display_name": "Python 3",
   "language": "python",
   "name": "python3"
  },
  "language_info": {
   "codemirror_mode": {
    "name": "ipython",
    "version": 3
   },
   "file_extension": ".py",
   "mimetype": "text/x-python",
   "name": "python",
   "nbconvert_exporter": "python",
   "pygments_lexer": "ipython3",
   "version": "3.8.8"
  }
 },
 "nbformat": 4,
 "nbformat_minor": 5
}
