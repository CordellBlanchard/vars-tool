{
 "cells": [
  {
   "cell_type": "code",
   "execution_count": 2,
   "id": "90b52a5e-2d9f-4b69-8c94-88c527022499",
   "metadata": {},
   "outputs": [],
   "source": [
    "import numpy as np\n",
    "import pandas as pd"
   ]
  },
  {
   "cell_type": "code",
   "execution_count": 29,
   "id": "e1e958b8-f903-489c-8657-e5b364401ba0",
   "metadata": {},
   "outputs": [
    {
     "data": {
      "text/plain": [
       "array([[ 0.04, -0.04],\n",
       "       [-0.04,  0.04]])"
      ]
     },
     "execution_count": 29,
     "metadata": {},
     "output_type": "execute_result"
    }
   ],
   "source": [
    "corr_mat = np.array([[1.0, 0.6], [0.6, 1]])\n",
    "cov_mat = np.cov(corr_mat, bias=True)\n",
    "cov_mat"
   ]
  },
  {
   "cell_type": "code",
   "execution_count": 19,
   "id": "b5621798-8f64-4244-9522-bf59c20ecbe0",
   "metadata": {},
   "outputs": [
    {
     "data": {
      "text/plain": [
       "array([[1., 2., 3., 4., 5., 6., 7., 8., 9.],\n",
       "       [0., 2., 3., 4., 5., 6., 7., 8., 9.],\n",
       "       [0., 1., 3., 4., 5., 6., 7., 8., 9.],\n",
       "       [0., 1., 2., 4., 5., 6., 7., 8., 9.],\n",
       "       [0., 1., 2., 3., 5., 6., 7., 8., 9.],\n",
       "       [0., 1., 2., 3., 4., 6., 7., 8., 9.],\n",
       "       [0., 1., 2., 3., 4., 5., 7., 8., 9.],\n",
       "       [0., 1., 2., 3., 4., 5., 6., 8., 9.],\n",
       "       [0., 1., 2., 3., 4., 5., 6., 7., 9.],\n",
       "       [0., 1., 2., 3., 4., 5., 6., 7., 8.]])"
      ]
     },
     "execution_count": 19,
     "metadata": {},
     "output_type": "execute_result"
    }
   ],
   "source": [
    "n_var = 10\n",
    "compsub = np.empty([n_var, n_var-1])\n",
    "for i in range (0, n_var):\n",
    "    temp = np.arange(n_var)\n",
    "    compsub[i] = np.delete(temp, i)\n",
    "    \n",
    "compsub"
   ]
  },
  {
   "cell_type": "code",
   "execution_count": 20,
   "id": "492935f3-9a6f-4eae-84c1-277cb4431280",
   "metadata": {},
   "outputs": [
    {
     "data": {
      "text/plain": [
       "array([1., 2., 3., 4., 5., 6., 7., 8., 9.])"
      ]
     },
     "execution_count": 20,
     "metadata": {},
     "output_type": "execute_result"
    }
   ],
   "source": []
  },
  {
   "cell_type": "code",
   "execution_count": null,
   "id": "48ef6347-5a45-429c-968d-09ae7cc3f02f",
   "metadata": {},
   "outputs": [],
   "source": []
  }
 ],
 "metadata": {
  "kernelspec": {
   "display_name": "Python 3",
   "language": "python",
   "name": "python3"
  },
  "language_info": {
   "codemirror_mode": {
    "name": "ipython",
    "version": 3
   },
   "file_extension": ".py",
   "mimetype": "text/x-python",
   "name": "python",
   "nbconvert_exporter": "python",
   "pygments_lexer": "ipython3",
   "version": "3.8.8"
  }
 },
 "nbformat": 4,
 "nbformat_minor": 5
}
