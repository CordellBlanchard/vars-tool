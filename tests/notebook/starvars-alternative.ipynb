{
 "cells": [
  {
   "cell_type": "code",
   "execution_count": 1,
   "id": "minor-lounge",
   "metadata": {},
   "outputs": [],
   "source": [
    "import numpy as np\n",
    "\n",
    "from typing import List"
   ]
  },
  {
   "cell_type": "code",
   "execution_count": 20,
   "id": "preceding-millennium",
   "metadata": {},
   "outputs": [],
   "source": [
    "def star_vars(star_centres:np.ndarray, delta_h:float=0.1) -> np.ndarray:\n",
    "    '''\n",
    "    Description:\n",
    "    ------------\n",
    "    This function generates ``star_points`` based on [1]_ for each\n",
    "    sample set (i.e., each row consisting of ``star_centres``).\n",
    "    ``star_centres`` are the points along which in each direction\n",
    "    the `star_points` are generated. The resolution of sampling is\n",
    "    :math:`\\Delta h` (``delta_h``). This appraoch is a structured\n",
    "    sampling straregy; read more in [2]_ and [3]_.\n",
    "    \n",
    "    \n",
    "    Arguments:\n",
    "    ----------\n",
    "    :param centres: the 2d array (n, m) containing sample sets\n",
    "                    ``n`` is the number of sample sets and\n",
    "                    ``m`` is the number of parameters/factors/\n",
    "                    variables\n",
    "    :type centres: np.ndarray\n",
    "    :param delta_h: sampling resolution, defaults to 0.1\n",
    "    :type delta_h: float\n",
    "    \n",
    "    \n",
    "    Returns:\n",
    "    --------\n",
    "    :return star_points: np.array of star points, each element of this 4d\n",
    "                         array is a 3d np.array with each 2d array containing\n",
    "                         star points along each parameter/factor/variable.\n",
    "    :rtype star_points: np.ndarray\n",
    "    \n",
    "    \n",
    "    References:\n",
    "    -----------\n",
    "    .. [1] Razavi, S., Sheikholeslami, R., Gupta, H. V., &\n",
    "           Haghnegahdar, A. (2019). VARS-TOOL: A toolbox for\n",
    "           comprehensive, efficient, and robust sensitivity \n",
    "           and uncertainty analysis. Environmental modelling\n",
    "           & software, 112, 95-107.\n",
    "           doi: 10.1016/j.envsoft.2018.10.005\n",
    "    .. [2] Razavi, S., & Gupta, H. V. (2016). A new framework\n",
    "           for comprehensive, robust, and efficient global sensitivity\n",
    "           analysis: 1. Theory. Water Resources Research, 52(1), 423-439.\n",
    "           doi: 10.1002/2015WR017558\n",
    "    .. [3] Razavi, S., & Gupta, H. V. (2016). A new framework\n",
    "           for comprehensive, robust, and efficient global sensitivity\n",
    "           analysis: 2. Application. Water Resources Research, 52(1),\n",
    "           423-439. doi: 10.1002/2015WR017559\n",
    "    \n",
    "    \n",
    "    Contributors:\n",
    "    -------------\n",
    "    Razavi, Saman, (2016): algorithm, code in MATLAB (c)\n",
    "    Gupta, Hoshin, (2016): algorithm, code in MATLAB (c)\n",
    "    Keshavarz, Kasra, (2021): code in Python 3\n",
    "    '''\n",
    "\n",
    "    if star_centres.ndim == 1:\n",
    "        # star_points\n",
    "        return _star_sampler(star_centres.reshape(1, star_centers.size), delta_h)\n",
    "    \n",
    "    elif star_centres.ndim == 2:\n",
    "        # star_points\n",
    "        return _star_sampler(star_centres, delta_h)\n",
    "    \n",
    "    else:\n",
    "        # cannot operate on more than 2 dimensional arrays at the moment\n",
    "        raise ValueError('dimension mismatch: \"star_centres\" must be a 1- or 2-dimensional array')\n",
    "\n",
    "\n",
    "def _star_sampler(centres, resolution):\n",
    "    '''\n",
    "    \n",
    "    '''\n",
    "    # initialize a 4d array \n",
    "    star_points = np.zeros((centres.shape[0], \\\n",
    "                            centres.shape[1], \\\n",
    "                            int(1/resolution), \\\n",
    "                            centres.shape[1]))\n",
    "    \n",
    "    # fill the array gradually with a for loop\n",
    "    # there is no other way IMO!\n",
    "    for i in range(star_points.shape[0]):\n",
    "        for j in range(star_points.shape[1]):\n",
    "            star_points[i,j, ...] = np.broadcast_to(centres[i, :], (int(1/resolution), star_points.shape[1])).reshape(int(1/resolution), \\\n",
    "                                                    star_points.shape[1])\n",
    "            star_points[i, j, ..., j] = _range_vector(centres[i,j], step=resolution)\n",
    "\n",
    "    return star_points\n",
    "\n",
    "\n",
    "def _range_vector(num, start=0, end=1, step=0.1):\n",
    "    '''\n",
    "    Produces the ranges between 0 and 1 with\n",
    "    incremental steps while including 0<``num``<1.\n",
    "    '''\n",
    "\n",
    "    return np.sort(np.concatenate([-np.arange(-num, start, step)[1:], np.arange(num, end, step)]))"
   ]
  },
  {
   "cell_type": "code",
   "execution_count": 21,
   "id": "early-seeker",
   "metadata": {},
   "outputs": [
    {
     "data": {
      "text/plain": [
       "array([[0.16905063, 0.93259538, 0.91082723, 0.90533541, 0.008527  ],\n",
       "       [0.08879256, 0.91535613, 0.60371834, 0.33959878, 0.74847387],\n",
       "       [0.3646195 , 0.008047  , 0.1114922 , 0.61238496, 0.04220749],\n",
       "       [0.18947409, 0.92137535, 0.19252028, 0.89781543, 0.3043993 ],\n",
       "       [0.31569873, 0.76239757, 0.65947596, 0.12660649, 0.48035367],\n",
       "       [0.21746691, 0.27361196, 0.48725712, 0.37287558, 0.58777903],\n",
       "       [0.76016125, 0.96785637, 0.57017219, 0.4452969 , 0.87547747],\n",
       "       [0.45026877, 0.26028053, 0.86346143, 0.06613639, 0.44654586],\n",
       "       [0.80836621, 0.55292408, 0.60906603, 0.08303495, 0.95107167],\n",
       "       [0.16170643, 0.89635796, 0.15370988, 0.28015183, 0.98772656],\n",
       "       [0.59704898, 0.88300025, 0.21776289, 0.76878714, 0.64403386],\n",
       "       [0.76000611, 0.3154646 , 0.48430839, 0.74928813, 0.03700099],\n",
       "       [0.33841967, 0.85726701, 0.22185116, 0.32399832, 0.32877212],\n",
       "       [0.34961178, 0.19814846, 0.41161534, 0.44961166, 0.64426586],\n",
       "       [0.47290348, 0.02560143, 0.66849398, 0.7962542 , 0.28147415],\n",
       "       [0.79671067, 0.60969701, 0.95805929, 0.64713977, 0.99447018],\n",
       "       [0.18520036, 0.90298915, 0.59717906, 0.43371209, 0.67779487],\n",
       "       [0.38656167, 0.5146988 , 0.29812672, 0.34777648, 0.20216844],\n",
       "       [0.49658691, 0.89861291, 0.95612758, 0.6512783 , 0.58214119],\n",
       "       [0.33735602, 0.43309838, 0.43505722, 0.47296058, 0.34883241]])"
      ]
     },
     "execution_count": 21,
     "metadata": {},
     "output_type": "execute_result"
    }
   ],
   "source": [
    "a = np.random.rand(20,5)\n",
    "a"
   ]
  },
  {
   "cell_type": "code",
   "execution_count": 22,
   "id": "meaningful-grocery",
   "metadata": {},
   "outputs": [],
   "source": [
    "sample = a[0,:]"
   ]
  },
  {
   "cell_type": "code",
   "execution_count": 25,
   "id": "athletic-divorce",
   "metadata": {},
   "outputs": [
    {
     "name": "stdout",
     "output_type": "stream",
     "text": [
      "<map object at 0x0000028D67AB7B48>\n"
     ]
    }
   ],
   "source": [
    "print(map(_range_vector, sample))"
   ]
  },
  {
   "cell_type": "code",
   "execution_count": 24,
   "id": "appreciated-visiting",
   "metadata": {},
   "outputs": [
    {
     "name": "stdout",
     "output_type": "stream",
     "text": [
      "[0.06905063 0.16905063 0.26905063 0.36905063 0.46905063 0.56905063\n",
      " 0.66905063 0.76905063 0.86905063 0.96905063]\n",
      "[0.03259538 0.13259538 0.23259538 0.33259538 0.43259538 0.53259538\n",
      " 0.63259538 0.73259538 0.83259538 0.93259538]\n",
      "[0.01082723 0.11082723 0.21082723 0.31082723 0.41082723 0.51082723\n",
      " 0.61082723 0.71082723 0.81082723 0.91082723]\n",
      "[0.00533541 0.10533541 0.20533541 0.30533541 0.40533541 0.50533541\n",
      " 0.60533541 0.70533541 0.80533541 0.90533541]\n",
      "[0.008527 0.108527 0.208527 0.308527 0.408527 0.508527 0.608527 0.708527\n",
      " 0.808527 0.908527]\n"
     ]
    }
   ],
   "source": [
    "for i in sample:\n",
    "    print(_range_vector(i))"
   ]
  },
  {
   "cell_type": "code",
   "execution_count": 28,
   "id": "hourly-intersection",
   "metadata": {},
   "outputs": [
    {
     "data": {
      "text/plain": [
       "array([0.1, 0.2, 0.3, 0.4, 0.5, 0.6, 0.7, 0.8, 0.9])"
      ]
     },
     "execution_count": 28,
     "metadata": {},
     "output_type": "execute_result"
    }
   ],
   "source": [
    "_range_vector(0.2, step=0.1)"
   ]
  },
  {
   "cell_type": "code",
   "execution_count": 27,
   "id": "inappropriate-modification",
   "metadata": {},
   "outputs": [
    {
     "data": {
      "text/plain": [
       "array([0. , 0.1, 0.2, 0.3, 0.4, 0.5, 0.6, 0.7])"
      ]
     },
     "execution_count": 27,
     "metadata": {},
     "output_type": "execute_result"
    }
   ],
   "source": [
    "np.arange(0, 0.8, 0.1)"
   ]
  }
 ],
 "metadata": {
  "kernelspec": {
   "display_name": "Python 3",
   "language": "python",
   "name": "python3"
  },
  "language_info": {
   "codemirror_mode": {
    "name": "ipython",
    "version": 3
   },
   "file_extension": ".py",
   "mimetype": "text/x-python",
   "name": "python",
   "nbconvert_exporter": "python",
   "pygments_lexer": "ipython3",
   "version": "3.7.10"
  }
 },
 "nbformat": 4,
 "nbformat_minor": 5
}
