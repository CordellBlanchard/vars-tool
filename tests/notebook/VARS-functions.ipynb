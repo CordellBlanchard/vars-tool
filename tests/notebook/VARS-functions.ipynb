{
 "cells": [
  {
   "cell_type": "code",
   "execution_count": null,
   "id": "exact-summary",
   "metadata": {},
   "outputs": [],
   "source": [
    "import pandas as pd\n",
    "import numpy  as np\n",
    "\n",
    "import matplotlib.pyplot as plt\n",
    "\n",
    "from typing import (\n",
    "    List,\n",
    "    Dict,\n",
    "    Iterable,\n",
    "    Iterator,\n",
    "    Optional,\n",
    "    Tuple,\n",
    ")"
   ]
  },
  {
   "cell_type": "code",
   "execution_count": null,
   "id": "cloudy-litigation",
   "metadata": {},
   "outputs": [],
   "source": [
    "class VARS(object):\n",
    "    '''VARS object'''\n",
    "    \n",
    "    #-------------------------------------------\n",
    "    # Constructors\n",
    "    \n",
    "    def __init__(\n",
    "        self, \n",
    "        delta_h: float,\n",
    "        num_star_centres: Tuple,\n",
    "        \n",
    "        \n",
    "    ):\n",
    "        # initialize values\n",
    "        self.delta_h = delta_h\n",
    "        self.num_star_centers = num_star_centres\n",
    "\n",
    "    @classmethod\n",
    "    def from_dict(cls, input_dict):\n",
    "        \n",
    "        return cls()\n",
    "    \n",
    "    @classmethod\n",
    "    def from_text(cls, input_text_file):\n",
    "        \n",
    "        return cls()\n",
    "    \n",
    "    #-------------------------------------------\n",
    "    # Representators\n",
    "    def __repr__(self, ):\n",
    "        \n",
    "        return \"test\"\n",
    "    \n",
    "    def _repr_html(self, ):\n",
    "        \n",
    "        pass\n",
    "    \n",
    "    def __str__(self, ):\n",
    "        \n",
    "        return\n",
    "    \n",
    "    #-------------------------------------------\n",
    "    # Core Functions\n",
    "    @statismethod\n",
    "    def generate_star(star_centre):\n",
    "        \n",
    "        return\n",
    "    \n",
    "    def plot_status(self, ):\n",
    "        \n",
    "        return"
   ]
  },
  {
   "cell_type": "code",
   "execution_count": null,
   "id": "virgin-arkansas",
   "metadata": {},
   "outputs": [],
   "source": [
    "test = VARS(delta_h=0.1, num_star_centres=200)"
   ]
  },
  {
   "cell_type": "code",
   "execution_count": null,
   "id": "specialized-apartment",
   "metadata": {},
   "outputs": [],
   "source": []
  }
 ],
 "metadata": {
  "kernelspec": {
   "display_name": "Python 3",
   "language": "python",
   "name": "python3"
  },
  "language_info": {
   "codemirror_mode": {
    "name": "ipython",
    "version": 3
   },
   "file_extension": ".py",
   "mimetype": "text/x-python",
   "name": "python",
   "nbconvert_exporter": "python",
   "pygments_lexer": "ipython3",
   "version": "3.7.10"
  }
 },
 "nbformat": 4,
 "nbformat_minor": 5
}
