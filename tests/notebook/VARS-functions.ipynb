{
 "cells": [
  {
   "cell_type": "code",
   "execution_count": 1,
   "id": "exact-summary",
   "metadata": {},
   "outputs": [],
   "source": [
    "import pandas as pd\n",
    "import numpy  as np\n",
    "\n",
    "import matplotlib.pyplot as plt\n",
    "\n",
    "from typing import (\n",
    "    List,\n",
    "    Dict,\n",
    "    Optional,\n",
    "    Tuple,\n",
    "    Union,\n",
    "    Callable,\n",
    ")\n",
    "\n",
    "from typing_extensions import (\n",
    "    Protocol,\n",
    ")\n",
    "\n",
    "from collections.abc import (\n",
    "    Iterable,\n",
    ")"
   ]
  },
  {
   "cell_type": "code",
   "execution_count": 2,
   "id": "geological-reliance",
   "metadata": {},
   "outputs": [],
   "source": [
    "class Sampler():\n",
    "    __doc__ = \"\"\"A sampling class the returns random numbers based\n",
    "    on **kwargs variables\"\"\"\n",
    "    \n",
    "    def __init__(\n",
    "        self, \n",
    "        callback: Callable[[Dict[str, int]], Iterable], \n",
    "        size_kwargs: Dict[str, int],\n",
    "    ) -> None:\n",
    "        \n",
    "        # initialize instance values\n",
    "        self.callback = callback\n",
    "        self.kwargs   = size_kwargs\n",
    "\n",
    "    def sample(self, ) -> Union[Iterable, float]:\n",
    "        return self.callback(**self.kwargs)"
   ]
  },
  {
   "cell_type": "code",
   "execution_count": 3,
   "id": "opposed-interface",
   "metadata": {},
   "outputs": [],
   "source": [
    "a = Sampler(np.random.uniform, {'low':0, 'high':1, 'size':(5,4)})"
   ]
  },
  {
   "cell_type": "code",
   "execution_count": 4,
   "id": "abstract-layer",
   "metadata": {},
   "outputs": [
    {
     "data": {
      "text/plain": [
       "array([[0.24770259, 0.23613586, 0.62574117, 0.95906261],\n",
       "       [0.23012512, 0.04171712, 0.97161363, 0.1455872 ],\n",
       "       [0.2834882 , 0.99043248, 0.55617763, 0.18057117],\n",
       "       [0.14291068, 0.60070779, 0.96026339, 0.4879971 ],\n",
       "       [0.20494301, 0.439113  , 0.59533254, 0.9480471 ]])"
      ]
     },
     "execution_count": 4,
     "metadata": {},
     "output_type": "execute_result"
    }
   ],
   "source": [
    "a.sample()"
   ]
  },
  {
   "cell_type": "code",
   "execution_count": 6,
   "id": "cloudy-litigation",
   "metadata": {},
   "outputs": [
    {
     "ename": "TypeError",
     "evalue": "Type Tuple cannot be instantiated; use tuple() instead",
     "output_type": "error",
     "traceback": [
      "\u001b[1;31m---------------------------------------------------------------------------\u001b[0m",
      "\u001b[1;31mTypeError\u001b[0m                                 Traceback (most recent call last)",
      "\u001b[1;32m<ipython-input-6-53efd20c3c58>\u001b[0m in \u001b[0;36m<module>\u001b[1;34m\u001b[0m\n\u001b[1;32m----> 1\u001b[1;33m \u001b[1;32mclass\u001b[0m \u001b[0mVARS\u001b[0m\u001b[1;33m(\u001b[0m\u001b[0mobject\u001b[0m\u001b[1;33m)\u001b[0m\u001b[1;33m:\u001b[0m\u001b[1;33m\u001b[0m\u001b[1;33m\u001b[0m\u001b[0m\n\u001b[0m\u001b[0;32m      2\u001b[0m     \u001b[0m__doc__\u001b[0m \u001b[1;33m=\u001b[0m \u001b[1;34m\"\"\"VARS object\"\"\"\u001b[0m\u001b[1;33m\u001b[0m\u001b[1;33m\u001b[0m\u001b[0m\n\u001b[0;32m      3\u001b[0m \u001b[1;33m\u001b[0m\u001b[0m\n\u001b[0;32m      4\u001b[0m     \u001b[1;31m#-------------------------------------------\u001b[0m\u001b[1;33m\u001b[0m\u001b[1;33m\u001b[0m\u001b[1;33m\u001b[0m\u001b[0m\n\u001b[0;32m      5\u001b[0m     \u001b[1;31m# Constructors\u001b[0m\u001b[1;33m\u001b[0m\u001b[1;33m\u001b[0m\u001b[1;33m\u001b[0m\u001b[0m\n",
      "\u001b[1;32m<ipython-input-6-53efd20c3c58>\u001b[0m in \u001b[0;36mVARS\u001b[1;34m()\u001b[0m\n\u001b[0;32m     12\u001b[0m         \u001b[0mivars_scales\u001b[0m\u001b[1;33m:\u001b[0m \u001b[0mTuple\u001b[0m\u001b[1;33m[\u001b[0m\u001b[0mfloat\u001b[0m\u001b[1;33m,\u001b[0m \u001b[1;33m...\u001b[0m\u001b[1;33m]\u001b[0m \u001b[1;33m=\u001b[0m \u001b[1;33m(\u001b[0m\u001b[1;36m0.1\u001b[0m\u001b[1;33m,\u001b[0m \u001b[1;36m0.3\u001b[0m\u001b[1;33m,\u001b[0m \u001b[1;36m0.5\u001b[0m\u001b[1;33m)\u001b[0m\u001b[1;33m,\u001b[0m\u001b[1;33m\u001b[0m\u001b[1;33m\u001b[0m\u001b[0m\n\u001b[0;32m     13\u001b[0m         \u001b[0msampler\u001b[0m\u001b[1;33m:\u001b[0m \u001b[0mSampler\u001b[0m \u001b[1;33m=\u001b[0m \u001b[1;32mNone\u001b[0m\u001b[1;33m,\u001b[0m\u001b[1;33m\u001b[0m\u001b[1;33m\u001b[0m\u001b[0m\n\u001b[1;32m---> 14\u001b[1;33m         \u001b[0mmodel\u001b[0m\u001b[1;33m:\u001b[0m \u001b[0mCallback\u001b[0m\u001b[1;33m[\u001b[0m\u001b[1;33m[\u001b[0m\u001b[0mIterable\u001b[0m\u001b[1;33m[\u001b[0m\u001b[0mfloat\u001b[0m\u001b[1;33m]\u001b[0m\u001b[1;33m]\u001b[0m\u001b[1;33m,\u001b[0m \u001b[0mUnion\u001b[0m\u001b[1;33m[\u001b[0m\u001b[0mIterable\u001b[0m\u001b[1;33m[\u001b[0m\u001b[0mfloat\u001b[0m\u001b[1;33m]\u001b[0m\u001b[1;33m,\u001b[0m \u001b[0mfloat\u001b[0m\u001b[1;33m]\u001b[0m\u001b[1;33m]\u001b[0m \u001b[1;33m=\u001b[0m \u001b[1;32mNone\u001b[0m\u001b[1;33m,\u001b[0m\u001b[1;33m\u001b[0m\u001b[1;33m\u001b[0m\u001b[0m\n\u001b[0m\u001b[0;32m     15\u001b[0m     ):\n\u001b[0;32m     16\u001b[0m         \u001b[1;31m# initialize values\u001b[0m\u001b[1;33m\u001b[0m\u001b[1;33m\u001b[0m\u001b[1;33m\u001b[0m\u001b[0m\n",
      "\u001b[1;32mC:\\Kasra\\ProgramFiles\\lib\\typing.py\u001b[0m in \u001b[0;36m__call__\u001b[1;34m(self, *args, **kwargs)\u001b[0m\n\u001b[0;32m    674\u001b[0m     \u001b[1;32mdef\u001b[0m \u001b[0m__call__\u001b[0m\u001b[1;33m(\u001b[0m\u001b[0mself\u001b[0m\u001b[1;33m,\u001b[0m \u001b[1;33m*\u001b[0m\u001b[0margs\u001b[0m\u001b[1;33m,\u001b[0m \u001b[1;33m**\u001b[0m\u001b[0mkwargs\u001b[0m\u001b[1;33m)\u001b[0m\u001b[1;33m:\u001b[0m\u001b[1;33m\u001b[0m\u001b[1;33m\u001b[0m\u001b[0m\n\u001b[0;32m    675\u001b[0m         \u001b[1;32mif\u001b[0m \u001b[1;32mnot\u001b[0m \u001b[0mself\u001b[0m\u001b[1;33m.\u001b[0m\u001b[0m_inst\u001b[0m\u001b[1;33m:\u001b[0m\u001b[1;33m\u001b[0m\u001b[1;33m\u001b[0m\u001b[0m\n\u001b[1;32m--> 676\u001b[1;33m             raise TypeError(f\"Type {self._name} cannot be instantiated; \"\n\u001b[0m\u001b[0;32m    677\u001b[0m                             f\"use {self._name.lower()}() instead\")\n\u001b[0;32m    678\u001b[0m         \u001b[0mresult\u001b[0m \u001b[1;33m=\u001b[0m \u001b[0mself\u001b[0m\u001b[1;33m.\u001b[0m\u001b[0m__origin__\u001b[0m\u001b[1;33m(\u001b[0m\u001b[1;33m*\u001b[0m\u001b[0margs\u001b[0m\u001b[1;33m,\u001b[0m \u001b[1;33m**\u001b[0m\u001b[0mkwargs\u001b[0m\u001b[1;33m)\u001b[0m\u001b[1;33m\u001b[0m\u001b[1;33m\u001b[0m\u001b[0m\n",
      "\u001b[1;31mTypeError\u001b[0m: Type Tuple cannot be instantiated; use tuple() instead"
     ]
    }
   ],
   "source": [
    "class VARS(object):\n",
    "    __doc__ = \"\"\"VARS object\"\"\"\n",
    "    \n",
    "    #-------------------------------------------\n",
    "    # Constructors\n",
    "    \n",
    "    def __init__(\n",
    "        self,\n",
    "        parameters: Dict[str, Tuple(float, float)] = None,\n",
    "        delta_h: float = 0.1,\n",
    "        num_stars: int = 100,\n",
    "        ivars_scales: Tuple[float, ...] = (0.1, 0.3, 0.5),\n",
    "        sampler: Sampler = None,\n",
    "        model: Callback[[Iterable[float]], Union[Iterable[float], float]] = None,\n",
    "    ):\n",
    "        # initialize values\n",
    "        self.delta_h = delta_h\n",
    "        self.num_stars = num_stars\n",
    "\n",
    "    @classmethod\n",
    "    def from_dict(cls, input_dict):\n",
    "        \n",
    "        return cls()\n",
    "    \n",
    "    @classmethod\n",
    "    def from_text(cls, input_text_file):\n",
    "        \n",
    "        return cls()\n",
    "    \n",
    "    #-------------------------------------------\n",
    "    # Representators\n",
    "    def __repr__(self, ):\n",
    "        \n",
    "        return \"test\"\n",
    "    \n",
    "    def _repr_html(self, ):\n",
    "        \n",
    "        pass\n",
    "    \n",
    "    def __str__(self, ):\n",
    "        \n",
    "        return\n",
    "    \n",
    "    #-------------------------------------------\n",
    "    # Core Functions\n",
    "    @staticmethod\n",
    "    def generate_star(star_centre):\n",
    "        \n",
    "        return\n",
    "    \n",
    "    def plot(self, ):\n",
    "        \n",
    "        return\n",
    "    \n",
    "    def run(self, ):\n",
    "        \n",
    "        return"
   ]
  },
  {
   "cell_type": "code",
   "execution_count": null,
   "id": "virgin-arkansas",
   "metadata": {},
   "outputs": [],
   "source": [
    "test = VARS(delta_h=0.1, num_stars=200)"
   ]
  }
 ],
 "metadata": {
  "kernelspec": {
   "display_name": "Python 3",
   "language": "python",
   "name": "python3"
  },
  "language_info": {
   "codemirror_mode": {
    "name": "ipython",
    "version": 3
   },
   "file_extension": ".py",
   "mimetype": "text/x-python",
   "name": "python",
   "nbconvert_exporter": "python",
   "pygments_lexer": "ipython3",
   "version": "3.8.8"
  }
 },
 "nbformat": 4,
 "nbformat_minor": 5
}
