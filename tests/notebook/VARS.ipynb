{
 "cells": [
  {
   "cell_type": "code",
<<<<<<< HEAD
   "execution_count": 1,
=======
<<<<<<< HEAD
   "execution_count": 1,
=======
   "execution_count": 33,
>>>>>>> 82202d1899e4a0a76e6311a625001983e20e2518
>>>>>>> f2017b34fab086412c0ec41776379ab6b4e842eb
   "id": "valuable-commons",
   "metadata": {},
   "outputs": [],
   "source": [
    "import numpy as np\n",
    "import pandas as pd\n",
    "\n",
    "from star import star_vars\n",
    "from itertools import combinations"
   ]
  },
  {
   "cell_type": "code",
<<<<<<< HEAD
   "execution_count": 2,
=======
<<<<<<< HEAD
   "execution_count": 2,
=======
   "execution_count": 34,
>>>>>>> 82202d1899e4a0a76e6311a625001983e20e2518
>>>>>>> f2017b34fab086412c0ec41776379ab6b4e842eb
   "id": "colonial-whole",
   "metadata": {},
   "outputs": [],
   "source": [
    "def ishigami(x, a=7, b=0.05):\n",
    "    '''Ishigami test function'''\n",
    "    # check whether the input x is a dataframe\n",
    "    \n",
    "    if not isinstance(x, (pd.core.frame.DataFrame, pd.core.series.Series, np.ndarray, list)):\n",
    "        raise TypeError('`x` must be of type pandas.DataFrame, numpy.ndarray, pd.Series, or list')\n",
    "    \n",
    "    if x.shape[0] > 3:\n",
    "        raise ValueError('`x` must have only three arguments at a time')\n",
    "    \n",
    "    return np.sin(x[0]) + a*(np.sin(x[1])**2) + b*(x[2]**4)*np.sin(x[0])"
   ]
  },
  {
   "cell_type": "code",
<<<<<<< HEAD
   "execution_count": 3,
=======
<<<<<<< HEAD
   "execution_count": 3,
=======
   "execution_count": 35,
>>>>>>> 82202d1899e4a0a76e6311a625001983e20e2518
>>>>>>> f2017b34fab086412c0ec41776379ab6b4e842eb
   "id": "sapphire-meaning",
   "metadata": {},
   "outputs": [],
   "source": [
    "# helper functions\n",
    "def apply_unique(func, df, axis=1, *args, **kwargs):\n",
    "    '''Apply a function to unique rows of a DataFrame\n",
    "    for efficiency.'''\n",
    "\n",
    "    applied_df = df.merge(df.drop_duplicates()\n",
    "                         .assign(**{func.__name__: lambda x: x.apply(func, axis=axis)}), \n",
    "                         how='left')\n",
    "    applied_df.index = df.index\n",
    "    \n",
    "    return applied_df\n",
    "    \n",
    "    \n",
    "def scale(df, bounds, axis=1, *args, **kwargs):\n",
    "    '''scale the sampled matrix\n",
    "    bounds is a dict with ['ub', 'lb'] keys\n",
    "    the values are lists of the upper and lower bounds\n",
    "    of the parameters/variables/factors'''\n",
    "    \n",
    "    # numpy equivalent for math operations\n",
    "    bounds_np = {key:np.array(value) for key,value in bounds.items()}\n",
    "    \n",
    "    if axis:\n",
    "        return df * (bounds_np['ub'] - bounds_np['lb']) + bounds_np['lb']\n",
    "    else:\n",
    "        return df.T * (bounds_np['ub'] - bounds_np['lb']) + bounds_np['lb']\n",
    "    \n",
    "    \n",
    "def pairs_h(iterable):\n",
    "    '''gives the pairs of numbers considering their differences'''\n",
    "    interval = range(min(iterable), max(iterable)-min(iterable))\n",
    "    pairs  = {key+1:[j for j in combinations(iterable, 2) if np.abs(j[0]-j[1])==key+1] for key in interval}\n",
    "    return pairs\n",
    "    \n",
    "    \n",
    "def section_df(df):\n",
    "    '''gets the paired values of each section based on index'''\n",
    "    pairs = pairs_h(df.index.get_level_values(-1))\n",
    "    df_values = df.to_numpy()\n",
    "    sample = pd.concat({h:\n",
    "                    pd.DataFrame.from_dict({str(idx_tup): [df_values[idx_tup[0]], df_values[idx_tup[1]]] for idx_tup in idx}, 'index') \\\n",
    "                      for h, idx in pairs.items()})\n",
    "\n",
    "    return sample\n",
    "    \n",
    "    \n",
    "# lambda functions\n",
    "'''covariogram of each section'''\n",
    "cov_section = lambda pair_cols, mu_star: (pair_cols.sub(mu_star, axis=0)[0] * pair_cols.sub(mu_star, axis=0)[1]).groupby(level=[0,1,2]).mean()\n",
    "\n",
    "'''variogram over all sections'''\n",
    "variogram = lambda pair_cols: 0.5*(pair_cols[0] - pair_cols[1]).pow(2).groupby(level=[1,2]).mean()\n",
    "\n",
    "'''morris sensitivity measure equivalent evaluated over all sections'''\n",
    "morris_eq = lambda pair_cols: ((pair_cols[1] - pair_cols[0]).abs().groupby(level=[1,2]).mean(), \\\n",
    "                               (pair_cols[1] - pair_cols[0]).groupby(level=[1,2]).mean())\n",
    "\n",
    "'''covariogram over all sections'''\n",
    "covariogram = lambda pair_cols, mu_overall: ((pair_cols - mu_overall)[0] * (pair_cols - mu_overall)[1]).groupby(level=[1,2]).mean()\n",
    "\n",
    "'''expected covariogram over all sections'''\n",
    "e_covariogram = lambda cov_section_all: cov_section_all.groupby(level=[1,2]).mean()\n",
    "\n",
    "'''sobol (total order) sensitivity measure equivalent evaluated over all sections'''\n",
    "sobol_eq = lambda gamma, ecov, variance: ((gamma + ecov) / variance).loc[:,1]\n",
    "\n",
    "# ivars function\n",
    "def ivars(variogram_array, scale, delta_h):\n",
    "    '''generate Integrated Variogram Across a Range of Scales (IVARS)\n",
    "    by approximating area using right trapezoids having width of `delta_h`\n",
    "    and hights of variogram values'''\n",
    "    num_h  = len(variogram_value.index.levels[-1].to_list())\n",
    "    x_bench= np.arange(start=0, stop=delta_h*(num_h+1), step=delta_h)\n",
    "    x_int  = np.arange(start=0, stop=(scale*10+1)/10, step=delta_h)\n",
    "\n",
    "    # calculate interpolated values for both x (h) and y (variogram)\n",
    "    if x_int[-1] < scale:\n",
    "        x_int.append(scale)\n",
    "    y_bench= [0] + variogram_array.to_list()\n",
    "\n",
    "    y_int  = np.interp(x=x_int, xp=x_bench, fp=y_bench)\n",
    "    \n",
    "    # for loop for each step size to caluclate the area\n",
    "    ivars = 0\n",
    "    for i in range(len(x_int)-1):\n",
    "        ivars += 0.5*(y_int[i+1] + y_int[i]) * (x_int[i+1] - x_int[i])\n",
    "\n",
    "    return ivars\n",
    "\n",
    "# alias\n",
    "idx = pd.IndexSlice"
   ]
  },
  {
   "cell_type": "code",
<<<<<<< HEAD
   "execution_count": 4,
=======
<<<<<<< HEAD
   "execution_count": 4,
=======
   "execution_count": 36,
>>>>>>> 82202d1899e4a0a76e6311a625001983e20e2518
>>>>>>> f2017b34fab086412c0ec41776379ab6b4e842eb
   "id": "north-loading",
   "metadata": {
    "scrolled": true
   },
   "outputs": [],
   "source": [
    "delta_h = 0.1\n",
    "rng = np.random.default_rng(seed=100)\n",
    "star_centres = rng.random((10, 3))\n",
    "star_points  = star_vars(star_centres, delta_h=delta_h, parameters=['x1', 'x2', 'x3'], rettype='DataFrame')"
   ]
  },
  {
   "cell_type": "code",
<<<<<<< HEAD
   "execution_count": 5,
=======
<<<<<<< HEAD
   "execution_count": 5,
=======
   "execution_count": 37,
>>>>>>> 82202d1899e4a0a76e6311a625001983e20e2518
>>>>>>> f2017b34fab086412c0ec41776379ab6b4e842eb
   "id": "statistical-intro",
   "metadata": {},
   "outputs": [
    {
     "data": {
      "text/plain": [
       "array([[0.62549749, 0.08240137, 0.27457299],\n",
       "       [0.65611703, 0.01467603, 0.83453217],\n",
       "       [0.07239908, 0.52412082, 0.54655052],\n",
       "       [0.22724696, 0.95597822, 0.34096385],\n",
       "       [0.50470744, 0.86738361, 0.65695295],\n",
       "       [0.38472241, 0.09627241, 0.95580562],\n",
       "       [0.58956713, 0.58216289, 0.59714527],\n",
       "       [0.14887393, 0.56004863, 0.56316752],\n",
       "       [0.58098818, 0.184949  , 0.70961891],\n",
       "       [0.07002066, 0.32486494, 0.10685547]])"
      ]
     },
<<<<<<< HEAD
     "execution_count": 5,
=======
<<<<<<< HEAD
     "execution_count": 5,
=======
     "execution_count": 37,
>>>>>>> 82202d1899e4a0a76e6311a625001983e20e2518
>>>>>>> f2017b34fab086412c0ec41776379ab6b4e842eb
     "metadata": {},
     "output_type": "execute_result"
    }
   ],
   "source": [
    "# bounds = {'ub':[3,4,5], 'lb':[-3,-4,-5]}\n",
    "# star_points_scaled = scale(star_points, bounds)\n",
    "rng.random((10,3))"
   ]
  },
  {
   "cell_type": "code",
<<<<<<< HEAD
   "execution_count": 6,
=======
<<<<<<< HEAD
   "execution_count": 6,
=======
   "execution_count": 38,
>>>>>>> 82202d1899e4a0a76e6311a625001983e20e2518
>>>>>>> f2017b34fab086412c0ec41776379ab6b4e842eb
   "id": "mineral-vietnamese",
   "metadata": {},
   "outputs": [
    {
     "data": {
      "text/html": [
       "<div>\n",
       "<style scoped>\n",
       "    .dataframe tbody tr th:only-of-type {\n",
       "        vertical-align: middle;\n",
       "    }\n",
       "\n",
       "    .dataframe tbody tr th {\n",
       "        vertical-align: top;\n",
       "    }\n",
       "\n",
       "    .dataframe thead th {\n",
       "        text-align: right;\n",
       "    }\n",
       "</style>\n",
       "<table border=\"1\" class=\"dataframe\">\n",
       "  <thead>\n",
       "    <tr style=\"text-align: right;\">\n",
       "      <th></th>\n",
       "      <th></th>\n",
       "      <th></th>\n",
       "      <th>0</th>\n",
       "      <th>1</th>\n",
       "      <th>2</th>\n",
       "      <th>ishigami</th>\n",
       "    </tr>\n",
       "    <tr>\n",
       "      <th>centre</th>\n",
       "      <th>param</th>\n",
       "      <th>points</th>\n",
       "      <th></th>\n",
       "      <th></th>\n",
       "      <th></th>\n",
       "      <th></th>\n",
       "    </tr>\n",
       "  </thead>\n",
       "  <tbody>\n",
       "    <tr>\n",
       "      <th rowspan=\"5\" valign=\"top\">0</th>\n",
       "      <th rowspan=\"5\" valign=\"top\">x1</th>\n",
       "      <th>0</th>\n",
       "      <td>0.034982</td>\n",
       "      <td>0.596554</td>\n",
       "      <td>0.288863</td>\n",
       "      <td>2.244282</td>\n",
       "    </tr>\n",
       "    <tr>\n",
       "      <th>1</th>\n",
       "      <td>0.134982</td>\n",
       "      <td>0.596554</td>\n",
       "      <td>0.288863</td>\n",
       "      <td>2.343915</td>\n",
       "    </tr>\n",
       "    <tr>\n",
       "      <th>2</th>\n",
       "      <td>0.234982</td>\n",
       "      <td>0.596554</td>\n",
       "      <td>0.288863</td>\n",
       "      <td>2.442202</td>\n",
       "    </tr>\n",
       "    <tr>\n",
       "      <th>3</th>\n",
       "      <td>0.334982</td>\n",
       "      <td>0.596554</td>\n",
       "      <td>0.288863</td>\n",
       "      <td>2.538162</td>\n",
       "    </tr>\n",
       "    <tr>\n",
       "      <th>4</th>\n",
       "      <td>0.434982</td>\n",
       "      <td>0.596554</td>\n",
       "      <td>0.288863</td>\n",
       "      <td>2.630836</td>\n",
       "    </tr>\n",
       "    <tr>\n",
       "      <th>...</th>\n",
       "      <th>...</th>\n",
       "      <th>...</th>\n",
       "      <td>...</td>\n",
       "      <td>...</td>\n",
       "      <td>...</td>\n",
       "      <td>...</td>\n",
       "    </tr>\n",
       "    <tr>\n",
       "      <th rowspan=\"5\" valign=\"top\">9</th>\n",
       "      <th rowspan=\"5\" valign=\"top\">x3</th>\n",
       "      <th>5</th>\n",
       "      <td>0.408518</td>\n",
       "      <td>0.389765</td>\n",
       "      <td>0.531648</td>\n",
       "      <td>1.409483</td>\n",
       "    </tr>\n",
       "    <tr>\n",
       "      <th>6</th>\n",
       "      <td>0.408518</td>\n",
       "      <td>0.389765</td>\n",
       "      <td>0.631648</td>\n",
       "      <td>1.411058</td>\n",
       "    </tr>\n",
       "    <tr>\n",
       "      <th>7</th>\n",
       "      <td>0.408518</td>\n",
       "      <td>0.389765</td>\n",
       "      <td>0.731648</td>\n",
       "      <td>1.413588</td>\n",
       "    </tr>\n",
       "    <tr>\n",
       "      <th>8</th>\n",
       "      <td>0.408518</td>\n",
       "      <td>0.389765</td>\n",
       "      <td>0.831648</td>\n",
       "      <td>1.417398</td>\n",
       "    </tr>\n",
       "    <tr>\n",
       "      <th>9</th>\n",
       "      <td>0.408518</td>\n",
       "      <td>0.389765</td>\n",
       "      <td>0.931648</td>\n",
       "      <td>1.422860</td>\n",
       "    </tr>\n",
       "  </tbody>\n",
       "</table>\n",
       "<p>300 rows × 4 columns</p>\n",
       "</div>"
      ],
      "text/plain": [
       "                            0         1         2  ishigami\n",
       "centre param points                                        \n",
       "0      x1    0       0.034982  0.596554  0.288863  2.244282\n",
       "             1       0.134982  0.596554  0.288863  2.343915\n",
       "             2       0.234982  0.596554  0.288863  2.442202\n",
       "             3       0.334982  0.596554  0.288863  2.538162\n",
       "             4       0.434982  0.596554  0.288863  2.630836\n",
       "...                       ...       ...       ...       ...\n",
       "9      x3    5       0.408518  0.389765  0.531648  1.409483\n",
       "             6       0.408518  0.389765  0.631648  1.411058\n",
       "             7       0.408518  0.389765  0.731648  1.413588\n",
       "             8       0.408518  0.389765  0.831648  1.417398\n",
       "             9       0.408518  0.389765  0.931648  1.422860\n",
       "\n",
       "[300 rows x 4 columns]"
      ]
     },
<<<<<<< HEAD
     "execution_count": 6,
=======
<<<<<<< HEAD
     "execution_count": 6,
=======
     "execution_count": 38,
>>>>>>> 82202d1899e4a0a76e6311a625001983e20e2518
>>>>>>> f2017b34fab086412c0ec41776379ab6b4e842eb
     "metadata": {},
     "output_type": "execute_result"
    }
   ],
   "source": [
    "# df = apply_unique(ishigami, star_points_scaled, axis=1)\n",
    "df = apply_unique(ishigami, star_points, axis=1)\n",
    "df.index.names=['centre', 'param', 'points']\n",
    "df"
   ]
  },
  {
   "cell_type": "code",
<<<<<<< HEAD
   "execution_count": 7,
=======
<<<<<<< HEAD
   "execution_count": 7,
=======
   "execution_count": 39,
>>>>>>> 82202d1899e4a0a76e6311a625001983e20e2518
>>>>>>> f2017b34fab086412c0ec41776379ab6b4e842eb
   "id": "oriented-devon",
   "metadata": {},
   "outputs": [
    {
     "data": {
      "text/html": [
       "<div>\n",
       "<style scoped>\n",
       "    .dataframe tbody tr th:only-of-type {\n",
       "        vertical-align: middle;\n",
       "    }\n",
       "\n",
       "    .dataframe tbody tr th {\n",
       "        vertical-align: top;\n",
       "    }\n",
       "\n",
       "    .dataframe thead th {\n",
       "        text-align: right;\n",
       "    }\n",
       "</style>\n",
       "<table border=\"1\" class=\"dataframe\">\n",
       "  <thead>\n",
       "    <tr style=\"text-align: right;\">\n",
       "      <th></th>\n",
       "      <th></th>\n",
       "      <th></th>\n",
       "      <th></th>\n",
       "      <th>0</th>\n",
       "      <th>1</th>\n",
       "    </tr>\n",
       "    <tr>\n",
       "      <th>centre</th>\n",
       "      <th>param</th>\n",
       "      <th>h</th>\n",
       "      <th>pair_ind</th>\n",
       "      <th></th>\n",
       "      <th></th>\n",
       "    </tr>\n",
       "  </thead>\n",
       "  <tbody>\n",
       "    <tr>\n",
       "      <th rowspan=\"5\" valign=\"top\">0</th>\n",
       "      <th rowspan=\"5\" valign=\"top\">x1</th>\n",
       "      <th rowspan=\"5\" valign=\"top\">1</th>\n",
       "      <th>(0, 1)</th>\n",
       "      <td>2.244282</td>\n",
       "      <td>2.343915</td>\n",
       "    </tr>\n",
       "    <tr>\n",
       "      <th>(1, 2)</th>\n",
       "      <td>2.343915</td>\n",
       "      <td>2.442202</td>\n",
       "    </tr>\n",
       "    <tr>\n",
       "      <th>(2, 3)</th>\n",
       "      <td>2.442202</td>\n",
       "      <td>2.538162</td>\n",
       "    </tr>\n",
       "    <tr>\n",
       "      <th>(3, 4)</th>\n",
       "      <td>2.538162</td>\n",
       "      <td>2.630836</td>\n",
       "    </tr>\n",
       "    <tr>\n",
       "      <th>(4, 5)</th>\n",
       "      <td>2.630836</td>\n",
       "      <td>2.719298</td>\n",
       "    </tr>\n",
       "    <tr>\n",
       "      <th>...</th>\n",
       "      <th>...</th>\n",
       "      <th>...</th>\n",
       "      <th>...</th>\n",
       "      <td>...</td>\n",
       "      <td>...</td>\n",
       "    </tr>\n",
       "    <tr>\n",
       "      <th rowspan=\"5\" valign=\"top\">9</th>\n",
       "      <th rowspan=\"5\" valign=\"top\">x3</th>\n",
       "      <th rowspan=\"2\" valign=\"top\">7</th>\n",
       "      <th>(1, 8)</th>\n",
       "      <td>1.407902</td>\n",
       "      <td>1.417398</td>\n",
       "    </tr>\n",
       "    <tr>\n",
       "      <th>(2, 9)</th>\n",
       "      <td>1.407953</td>\n",
       "      <td>1.422860</td>\n",
       "    </tr>\n",
       "    <tr>\n",
       "      <th rowspan=\"2\" valign=\"top\">8</th>\n",
       "      <th>(0, 8)</th>\n",
       "      <td>1.407896</td>\n",
       "      <td>1.417398</td>\n",
       "    </tr>\n",
       "    <tr>\n",
       "      <th>(1, 9)</th>\n",
       "      <td>1.407902</td>\n",
       "      <td>1.422860</td>\n",
       "    </tr>\n",
       "    <tr>\n",
       "      <th>9</th>\n",
       "      <th>(0, 9)</th>\n",
       "      <td>1.407896</td>\n",
       "      <td>1.422860</td>\n",
       "    </tr>\n",
       "  </tbody>\n",
       "</table>\n",
       "<p>1350 rows × 2 columns</p>\n",
       "</div>"
      ],
      "text/plain": [
       "                                0         1\n",
       "centre param h pair_ind                    \n",
       "0      x1    1 (0, 1)    2.244282  2.343915\n",
       "               (1, 2)    2.343915  2.442202\n",
       "               (2, 3)    2.442202  2.538162\n",
       "               (3, 4)    2.538162  2.630836\n",
       "               (4, 5)    2.630836  2.719298\n",
       "...                           ...       ...\n",
       "9      x3    7 (1, 8)    1.407902  1.417398\n",
       "               (2, 9)    1.407953  1.422860\n",
       "             8 (0, 8)    1.407896  1.417398\n",
       "               (1, 9)    1.407902  1.422860\n",
       "             9 (0, 9)    1.407896  1.422860\n",
       "\n",
       "[1350 rows x 2 columns]"
      ]
     },
<<<<<<< HEAD
     "execution_count": 7,
=======
<<<<<<< HEAD
     "execution_count": 7,
=======
     "execution_count": 39,
>>>>>>> 82202d1899e4a0a76e6311a625001983e20e2518
>>>>>>> f2017b34fab086412c0ec41776379ab6b4e842eb
     "metadata": {},
     "output_type": "execute_result"
    }
   ],
   "source": [
    "# getting the paired values of each section based on `h`\n",
    "pair_df = df[ishigami.__name__].groupby(level=[0,1]).apply(section_df)\n",
    "pair_df.index.names = ['centre', 'param', 'h', 'pair_ind']\n",
    "pair_df"
   ]
  },
  {
   "cell_type": "code",
<<<<<<< HEAD
   "execution_count": null,
   "id": "collect-optimum",
   "metadata": {},
   "outputs": [],
=======
<<<<<<< HEAD
   "execution_count": null,
   "id": "collect-optimum",
   "metadata": {},
   "outputs": [],
=======
   "execution_count": 40,
   "id": "collect-optimum",
   "metadata": {},
   "outputs": [
    {
     "data": {
      "text/html": [
       "<div>\n",
       "<style scoped>\n",
       "    .dataframe tbody tr th:only-of-type {\n",
       "        vertical-align: middle;\n",
       "    }\n",
       "\n",
       "    .dataframe tbody tr th {\n",
       "        vertical-align: top;\n",
       "    }\n",
       "\n",
       "    .dataframe thead th {\n",
       "        text-align: right;\n",
       "    }\n",
       "</style>\n",
       "<table border=\"1\" class=\"dataframe\">\n",
       "  <thead>\n",
       "    <tr style=\"text-align: right;\">\n",
       "      <th>param</th>\n",
       "      <th>x1</th>\n",
       "      <th>x2</th>\n",
       "      <th>x3</th>\n",
       "    </tr>\n",
       "    <tr>\n",
       "      <th>centre</th>\n",
       "      <th></th>\n",
       "      <th></th>\n",
       "      <th></th>\n",
       "    </tr>\n",
       "  </thead>\n",
       "  <tbody>\n",
       "    <tr>\n",
       "      <th>0</th>\n",
       "      <td>2.656646</td>\n",
       "      <td>2.885317</td>\n",
       "      <td>2.959480</td>\n",
       "    </tr>\n",
       "    <tr>\n",
       "      <th>1</th>\n",
       "      <td>5.243696</td>\n",
       "      <td>2.068463</td>\n",
       "      <td>4.830351</td>\n",
       "    </tr>\n",
       "    <tr>\n",
       "      <th>2</th>\n",
       "      <td>4.864449</td>\n",
       "      <td>2.432892</td>\n",
       "      <td>5.084556</td>\n",
       "    </tr>\n",
       "    <tr>\n",
       "      <th>3</th>\n",
       "      <td>5.330994</td>\n",
       "      <td>2.254328</td>\n",
       "      <td>5.028727</td>\n",
       "    </tr>\n",
       "    <tr>\n",
       "      <th>4</th>\n",
       "      <td>2.554175</td>\n",
       "      <td>2.655503</td>\n",
       "      <td>2.704976</td>\n",
       "    </tr>\n",
       "    <tr>\n",
       "      <th>5</th>\n",
       "      <td>5.378425</td>\n",
       "      <td>2.651379</td>\n",
       "      <td>5.443588</td>\n",
       "    </tr>\n",
       "    <tr>\n",
       "      <th>6</th>\n",
       "      <td>2.075819</td>\n",
       "      <td>2.862646</td>\n",
       "      <td>2.280281</td>\n",
       "    </tr>\n",
       "    <tr>\n",
       "      <th>7</th>\n",
       "      <td>1.513483</td>\n",
       "      <td>2.958328</td>\n",
       "      <td>1.866293</td>\n",
       "    </tr>\n",
       "    <tr>\n",
       "      <th>8</th>\n",
       "      <td>4.072956</td>\n",
       "      <td>2.926255</td>\n",
       "      <td>4.365968</td>\n",
       "    </tr>\n",
       "    <tr>\n",
       "      <th>9</th>\n",
       "      <td>1.435236</td>\n",
       "      <td>2.505585</td>\n",
       "      <td>1.411486</td>\n",
       "    </tr>\n",
       "  </tbody>\n",
       "</table>\n",
       "</div>"
      ],
      "text/plain": [
       "param         x1        x2        x3\n",
       "centre                              \n",
       "0       2.656646  2.885317  2.959480\n",
       "1       5.243696  2.068463  4.830351\n",
       "2       4.864449  2.432892  5.084556\n",
       "3       5.330994  2.254328  5.028727\n",
       "4       2.554175  2.655503  2.704976\n",
       "5       5.378425  2.651379  5.443588\n",
       "6       2.075819  2.862646  2.280281\n",
       "7       1.513483  2.958328  1.866293\n",
       "8       4.072956  2.926255  4.365968\n",
       "9       1.435236  2.505585  1.411486"
      ]
     },
     "execution_count": 40,
     "metadata": {},
     "output_type": "execute_result"
    }
   ],
>>>>>>> 82202d1899e4a0a76e6311a625001983e20e2518
>>>>>>> f2017b34fab086412c0ec41776379ab6b4e842eb
   "source": [
    "# mu_star calculation\n",
    "mu_star_df = df[ishigami.__name__].groupby(level=[0,1]).mean()\n",
    "mu_star_df.index.names = ['centre', 'param']\n",
    "mu_star_df.unstack(level=1)"
   ]
  },
  {
   "cell_type": "code",
<<<<<<< HEAD
   "execution_count": null,
   "id": "induced-jackson",
   "metadata": {},
   "outputs": [],
=======
<<<<<<< HEAD
   "execution_count": null,
   "id": "induced-jackson",
   "metadata": {},
   "outputs": [],
=======
   "execution_count": 41,
   "id": "induced-jackson",
   "metadata": {},
   "outputs": [
    {
     "data": {
      "text/plain": [
       "3.2181307939105364"
      ]
     },
     "execution_count": 41,
     "metadata": {},
     "output_type": "execute_result"
    }
   ],
>>>>>>> 82202d1899e4a0a76e6311a625001983e20e2518
>>>>>>> f2017b34fab086412c0ec41776379ab6b4e842eb
   "source": [
    "# overall mu (mean) of the unique evaluated function values over all stars points\n",
    "mu_overall = df[ishigami.__name__].unique().mean()\n",
    "mu_overall"
   ]
  },
  {
   "cell_type": "code",
<<<<<<< HEAD
   "execution_count": null,
   "id": "stupid-bulgarian",
   "metadata": {},
   "outputs": [],
=======
<<<<<<< HEAD
   "execution_count": null,
   "id": "stupid-bulgarian",
   "metadata": {},
   "outputs": [],
=======
   "execution_count": 42,
   "id": "stupid-bulgarian",
   "metadata": {},
   "outputs": [
    {
     "data": {
      "text/plain": [
       "2.625633323232234"
      ]
     },
     "execution_count": 42,
     "metadata": {},
     "output_type": "execute_result"
    }
   ],
>>>>>>> 82202d1899e4a0a76e6311a625001983e20e2518
>>>>>>> f2017b34fab086412c0ec41776379ab6b4e842eb
   "source": [
    "# overall var (variance) of the unique evaluated function values over all stars points\n",
    "var_overall = df[ishigami.__name__].unique().var(ddof=1)\n",
    "var_overall"
   ]
  },
  {
   "cell_type": "code",
<<<<<<< HEAD
   "execution_count": null,
   "id": "timely-defendant",
   "metadata": {},
   "outputs": [],
=======
<<<<<<< HEAD
   "execution_count": null,
   "id": "timely-defendant",
   "metadata": {},
   "outputs": [],
=======
   "execution_count": 43,
   "id": "timely-defendant",
   "metadata": {},
   "outputs": [
    {
     "data": {
      "text/html": [
       "<div>\n",
       "<style scoped>\n",
       "    .dataframe tbody tr th:only-of-type {\n",
       "        vertical-align: middle;\n",
       "    }\n",
       "\n",
       "    .dataframe tbody tr th {\n",
       "        vertical-align: top;\n",
       "    }\n",
       "\n",
       "    .dataframe thead th {\n",
       "        text-align: right;\n",
       "    }\n",
       "</style>\n",
       "<table border=\"1\" class=\"dataframe\">\n",
       "  <thead>\n",
       "    <tr style=\"text-align: right;\">\n",
       "      <th></th>\n",
       "      <th>param</th>\n",
       "      <th>x1</th>\n",
       "      <th>x2</th>\n",
       "      <th>x3</th>\n",
       "    </tr>\n",
       "    <tr>\n",
       "      <th>centre</th>\n",
       "      <th>h</th>\n",
       "      <th></th>\n",
       "      <th></th>\n",
       "      <th></th>\n",
       "    </tr>\n",
       "  </thead>\n",
       "  <tbody>\n",
       "    <tr>\n",
       "      <th rowspan=\"5\" valign=\"top\">0</th>\n",
       "      <th>1</th>\n",
       "      <td>0.048396</td>\n",
       "      <td>2.130395</td>\n",
       "      <td>0.000085</td>\n",
       "    </tr>\n",
       "    <tr>\n",
       "      <th>2</th>\n",
       "      <td>0.032084</td>\n",
       "      <td>1.415033</td>\n",
       "      <td>0.000045</td>\n",
       "    </tr>\n",
       "    <tr>\n",
       "      <th>3</th>\n",
       "      <td>0.013009</td>\n",
       "      <td>0.545250</td>\n",
       "      <td>0.000009</td>\n",
       "    </tr>\n",
       "    <tr>\n",
       "      <th>4</th>\n",
       "      <td>-0.008655</td>\n",
       "      <td>-0.447458</td>\n",
       "      <td>-0.000026</td>\n",
       "    </tr>\n",
       "    <tr>\n",
       "      <th>5</th>\n",
       "      <td>-0.032701</td>\n",
       "      <td>-1.525340</td>\n",
       "      <td>-0.000059</td>\n",
       "    </tr>\n",
       "    <tr>\n",
       "      <th>...</th>\n",
       "      <th>...</th>\n",
       "      <td>...</td>\n",
       "      <td>...</td>\n",
       "      <td>...</td>\n",
       "    </tr>\n",
       "    <tr>\n",
       "      <th rowspan=\"5\" valign=\"top\">9</th>\n",
       "      <th>5</th>\n",
       "      <td>-0.033542</td>\n",
       "      <td>-1.506603</td>\n",
       "      <td>-0.000010</td>\n",
       "    </tr>\n",
       "    <tr>\n",
       "      <th>6</th>\n",
       "      <td>-0.060431</td>\n",
       "      <td>-2.610690</td>\n",
       "      <td>-0.000016</td>\n",
       "    </tr>\n",
       "    <tr>\n",
       "      <th>7</th>\n",
       "      <td>-0.089252</td>\n",
       "      <td>-3.710385</td>\n",
       "      <td>-0.000023</td>\n",
       "    </tr>\n",
       "    <tr>\n",
       "      <th>8</th>\n",
       "      <td>-0.119703</td>\n",
       "      <td>-4.758991</td>\n",
       "      <td>-0.000031</td>\n",
       "    </tr>\n",
       "    <tr>\n",
       "      <th>9</th>\n",
       "      <td>-0.151457</td>\n",
       "      <td>-5.710391</td>\n",
       "      <td>-0.000041</td>\n",
       "    </tr>\n",
       "  </tbody>\n",
       "</table>\n",
       "<p>90 rows × 3 columns</p>\n",
       "</div>"
      ],
      "text/plain": [
       "param           x1        x2        x3\n",
       "centre h                              \n",
       "0      1  0.048396  2.130395  0.000085\n",
       "       2  0.032084  1.415033  0.000045\n",
       "       3  0.013009  0.545250  0.000009\n",
       "       4 -0.008655 -0.447458 -0.000026\n",
       "       5 -0.032701 -1.525340 -0.000059\n",
       "...            ...       ...       ...\n",
       "9      5 -0.033542 -1.506603 -0.000010\n",
       "       6 -0.060431 -2.610690 -0.000016\n",
       "       7 -0.089252 -3.710385 -0.000023\n",
       "       8 -0.119703 -4.758991 -0.000031\n",
       "       9 -0.151457 -5.710391 -0.000041\n",
       "\n",
       "[90 rows x 3 columns]"
      ]
     },
     "execution_count": 43,
     "metadata": {},
     "output_type": "execute_result"
    }
   ],
>>>>>>> 82202d1899e4a0a76e6311a625001983e20e2518
>>>>>>> f2017b34fab086412c0ec41776379ab6b4e842eb
   "source": [
    "# sectional covariogram calculation - content matches MATLAB code style!!\n",
    "cov_section_all = cov_section(pair_df, mu_star_df)\n",
    "cov_section_all.unstack(level=1)"
   ]
  },
  {
   "cell_type": "code",
<<<<<<< HEAD
   "execution_count": null,
   "id": "square-boost",
   "metadata": {},
   "outputs": [],
=======
<<<<<<< HEAD
   "execution_count": null,
   "id": "square-boost",
   "metadata": {},
   "outputs": [],
=======
   "execution_count": 44,
   "id": "square-boost",
   "metadata": {},
   "outputs": [
    {
     "data": {
      "text/html": [
       "<div>\n",
       "<style scoped>\n",
       "    .dataframe tbody tr th:only-of-type {\n",
       "        vertical-align: middle;\n",
       "    }\n",
       "\n",
       "    .dataframe tbody tr th {\n",
       "        vertical-align: top;\n",
       "    }\n",
       "\n",
       "    .dataframe thead th {\n",
       "        text-align: right;\n",
       "    }\n",
       "</style>\n",
       "<table border=\"1\" class=\"dataframe\">\n",
       "  <thead>\n",
       "    <tr style=\"text-align: right;\">\n",
       "      <th>param</th>\n",
       "      <th>x1</th>\n",
       "      <th>x2</th>\n",
       "      <th>x3</th>\n",
       "    </tr>\n",
       "    <tr>\n",
       "      <th>h</th>\n",
       "      <th></th>\n",
       "      <th></th>\n",
       "      <th></th>\n",
       "    </tr>\n",
       "  </thead>\n",
       "  <tbody>\n",
       "    <tr>\n",
       "      <th>1</th>\n",
       "      <td>0.003723</td>\n",
       "      <td>0.157006</td>\n",
       "      <td>0.000009</td>\n",
       "    </tr>\n",
       "    <tr>\n",
       "      <th>2</th>\n",
       "      <td>0.014996</td>\n",
       "      <td>0.643154</td>\n",
       "      <td>0.000030</td>\n",
       "    </tr>\n",
       "    <tr>\n",
       "      <th>3</th>\n",
       "      <td>0.033887</td>\n",
       "      <td>1.467836</td>\n",
       "      <td>0.000055</td>\n",
       "    </tr>\n",
       "    <tr>\n",
       "      <th>4</th>\n",
       "      <td>0.060336</td>\n",
       "      <td>2.620288</td>\n",
       "      <td>0.000081</td>\n",
       "    </tr>\n",
       "    <tr>\n",
       "      <th>5</th>\n",
       "      <td>0.094159</td>\n",
       "      <td>4.067930</td>\n",
       "      <td>0.000110</td>\n",
       "    </tr>\n",
       "    <tr>\n",
       "      <th>6</th>\n",
       "      <td>0.135042</td>\n",
       "      <td>5.756585</td>\n",
       "      <td>0.000144</td>\n",
       "    </tr>\n",
       "    <tr>\n",
       "      <th>7</th>\n",
       "      <td>0.182547</td>\n",
       "      <td>7.612715</td>\n",
       "      <td>0.000191</td>\n",
       "    </tr>\n",
       "    <tr>\n",
       "      <th>8</th>\n",
       "      <td>0.236120</td>\n",
       "      <td>9.547591</td>\n",
       "      <td>0.000259</td>\n",
       "    </tr>\n",
       "    <tr>\n",
       "      <th>9</th>\n",
       "      <td>0.295096</td>\n",
       "      <td>11.463071</td>\n",
       "      <td>0.000365</td>\n",
       "    </tr>\n",
       "  </tbody>\n",
       "</table>\n",
       "</div>"
      ],
      "text/plain": [
       "param        x1         x2        x3\n",
       "h                                   \n",
       "1      0.003723   0.157006  0.000009\n",
       "2      0.014996   0.643154  0.000030\n",
       "3      0.033887   1.467836  0.000055\n",
       "4      0.060336   2.620288  0.000081\n",
       "5      0.094159   4.067930  0.000110\n",
       "6      0.135042   5.756585  0.000144\n",
       "7      0.182547   7.612715  0.000191\n",
       "8      0.236120   9.547591  0.000259\n",
       "9      0.295096  11.463071  0.000365"
      ]
     },
     "execution_count": 44,
     "metadata": {},
     "output_type": "execute_result"
    }
   ],
>>>>>>> 82202d1899e4a0a76e6311a625001983e20e2518
>>>>>>> f2017b34fab086412c0ec41776379ab6b4e842eb
   "source": [
    "# variogram calculation\n",
    "variogram_value = variogram(pair_df)\n",
    "variogram_value.unstack(level=0)"
   ]
  },
  {
   "cell_type": "code",
<<<<<<< HEAD
   "execution_count": null,
   "id": "dried-hygiene",
   "metadata": {},
   "outputs": [],
=======
<<<<<<< HEAD
   "execution_count": null,
   "id": "dried-hygiene",
   "metadata": {},
   "outputs": [],
=======
   "execution_count": 45,
   "id": "dried-hygiene",
   "metadata": {},
   "outputs": [
    {
     "data": {
      "text/html": [
       "<div>\n",
       "<style scoped>\n",
       "    .dataframe tbody tr th:only-of-type {\n",
       "        vertical-align: middle;\n",
       "    }\n",
       "\n",
       "    .dataframe tbody tr th {\n",
       "        vertical-align: top;\n",
       "    }\n",
       "\n",
       "    .dataframe thead th {\n",
       "        text-align: right;\n",
       "    }\n",
       "</style>\n",
       "<table border=\"1\" class=\"dataframe\">\n",
       "  <thead>\n",
       "    <tr style=\"text-align: right;\">\n",
       "      <th>param</th>\n",
       "      <th>x1</th>\n",
       "      <th>x2</th>\n",
       "      <th>x3</th>\n",
       "    </tr>\n",
       "    <tr>\n",
       "      <th>h</th>\n",
       "      <th></th>\n",
       "      <th></th>\n",
       "      <th></th>\n",
       "    </tr>\n",
       "  </thead>\n",
       "  <tbody>\n",
       "    <tr>\n",
       "      <th>1</th>\n",
       "      <td>0.085347</td>\n",
       "      <td>0.531766</td>\n",
       "      <td>0.002697</td>\n",
       "    </tr>\n",
       "    <tr>\n",
       "      <th>2</th>\n",
       "      <td>0.171708</td>\n",
       "      <td>1.090234</td>\n",
       "      <td>0.004997</td>\n",
       "    </tr>\n",
       "    <tr>\n",
       "      <th>3</th>\n",
       "      <td>0.258653</td>\n",
       "      <td>1.664431</td>\n",
       "      <td>0.007070</td>\n",
       "    </tr>\n",
       "    <tr>\n",
       "      <th>4</th>\n",
       "      <td>0.345745</td>\n",
       "      <td>2.242759</td>\n",
       "      <td>0.009086</td>\n",
       "    </tr>\n",
       "    <tr>\n",
       "      <th>5</th>\n",
       "      <td>0.432546</td>\n",
       "      <td>2.813301</td>\n",
       "      <td>0.011216</td>\n",
       "    </tr>\n",
       "    <tr>\n",
       "      <th>6</th>\n",
       "      <td>0.518617</td>\n",
       "      <td>3.364139</td>\n",
       "      <td>0.013629</td>\n",
       "    </tr>\n",
       "    <tr>\n",
       "      <th>7</th>\n",
       "      <td>0.603523</td>\n",
       "      <td>3.883672</td>\n",
       "      <td>0.016496</td>\n",
       "    </tr>\n",
       "    <tr>\n",
       "      <th>8</th>\n",
       "      <td>0.686833</td>\n",
       "      <td>4.360934</td>\n",
       "      <td>0.019987</td>\n",
       "    </tr>\n",
       "    <tr>\n",
       "      <th>9</th>\n",
       "      <td>0.768126</td>\n",
       "      <td>4.785892</td>\n",
       "      <td>0.024272</td>\n",
       "    </tr>\n",
       "  </tbody>\n",
       "</table>\n",
       "</div>"
      ],
      "text/plain": [
       "param        x1        x2        x3\n",
       "h                                  \n",
       "1      0.085347  0.531766  0.002697\n",
       "2      0.171708  1.090234  0.004997\n",
       "3      0.258653  1.664431  0.007070\n",
       "4      0.345745  2.242759  0.009086\n",
       "5      0.432546  2.813301  0.011216\n",
       "6      0.518617  3.364139  0.013629\n",
       "7      0.603523  3.883672  0.016496\n",
       "8      0.686833  4.360934  0.019987\n",
       "9      0.768126  4.785892  0.024272"
      ]
     },
     "execution_count": 45,
     "metadata": {},
     "output_type": "execute_result"
    }
   ],
>>>>>>> 82202d1899e4a0a76e6311a625001983e20e2518
>>>>>>> f2017b34fab086412c0ec41776379ab6b4e842eb
   "source": [
    "# morris calculation\n",
    "morris_values = morris_eq(pair_df)\n",
    "morris_values[0].unstack(level=0)"
   ]
  },
  {
   "cell_type": "code",
<<<<<<< HEAD
   "execution_count": null,
   "id": "polar-skirt",
   "metadata": {},
   "outputs": [],
=======
<<<<<<< HEAD
   "execution_count": null,
   "id": "polar-skirt",
   "metadata": {},
   "outputs": [],
=======
   "execution_count": 46,
   "id": "polar-skirt",
   "metadata": {},
   "outputs": [
    {
     "data": {
      "text/html": [
       "<div>\n",
       "<style scoped>\n",
       "    .dataframe tbody tr th:only-of-type {\n",
       "        vertical-align: middle;\n",
       "    }\n",
       "\n",
       "    .dataframe tbody tr th {\n",
       "        vertical-align: top;\n",
       "    }\n",
       "\n",
       "    .dataframe thead th {\n",
       "        text-align: right;\n",
       "    }\n",
       "</style>\n",
       "<table border=\"1\" class=\"dataframe\">\n",
       "  <thead>\n",
       "    <tr style=\"text-align: right;\">\n",
       "      <th>param</th>\n",
       "      <th>x1</th>\n",
       "      <th>x2</th>\n",
       "      <th>x3</th>\n",
       "    </tr>\n",
       "    <tr>\n",
       "      <th>h</th>\n",
       "      <th></th>\n",
       "      <th></th>\n",
       "      <th></th>\n",
       "    </tr>\n",
       "  </thead>\n",
       "  <tbody>\n",
       "    <tr>\n",
       "      <th>1</th>\n",
       "      <td>0.085347</td>\n",
       "      <td>0.531766</td>\n",
       "      <td>0.002697</td>\n",
       "    </tr>\n",
       "    <tr>\n",
       "      <th>2</th>\n",
       "      <td>0.171708</td>\n",
       "      <td>1.090234</td>\n",
       "      <td>0.004997</td>\n",
       "    </tr>\n",
       "    <tr>\n",
       "      <th>3</th>\n",
       "      <td>0.258653</td>\n",
       "      <td>1.664431</td>\n",
       "      <td>0.007070</td>\n",
       "    </tr>\n",
       "    <tr>\n",
       "      <th>4</th>\n",
       "      <td>0.345745</td>\n",
       "      <td>2.242759</td>\n",
       "      <td>0.009086</td>\n",
       "    </tr>\n",
       "    <tr>\n",
       "      <th>5</th>\n",
       "      <td>0.432546</td>\n",
       "      <td>2.813301</td>\n",
       "      <td>0.011216</td>\n",
       "    </tr>\n",
       "    <tr>\n",
       "      <th>6</th>\n",
       "      <td>0.518617</td>\n",
       "      <td>3.364139</td>\n",
       "      <td>0.013629</td>\n",
       "    </tr>\n",
       "    <tr>\n",
       "      <th>7</th>\n",
       "      <td>0.603523</td>\n",
       "      <td>3.883672</td>\n",
       "      <td>0.016496</td>\n",
       "    </tr>\n",
       "    <tr>\n",
       "      <th>8</th>\n",
       "      <td>0.686833</td>\n",
       "      <td>4.360934</td>\n",
       "      <td>0.019987</td>\n",
       "    </tr>\n",
       "    <tr>\n",
       "      <th>9</th>\n",
       "      <td>0.768126</td>\n",
       "      <td>4.785892</td>\n",
       "      <td>0.024272</td>\n",
       "    </tr>\n",
       "  </tbody>\n",
       "</table>\n",
       "</div>"
      ],
      "text/plain": [
       "param        x1        x2        x3\n",
       "h                                  \n",
       "1      0.085347  0.531766  0.002697\n",
       "2      0.171708  1.090234  0.004997\n",
       "3      0.258653  1.664431  0.007070\n",
       "4      0.345745  2.242759  0.009086\n",
       "5      0.432546  2.813301  0.011216\n",
       "6      0.518617  3.364139  0.013629\n",
       "7      0.603523  3.883672  0.016496\n",
       "8      0.686833  4.360934  0.019987\n",
       "9      0.768126  4.785892  0.024272"
      ]
     },
     "execution_count": 46,
     "metadata": {},
     "output_type": "execute_result"
    }
   ],
>>>>>>> 82202d1899e4a0a76e6311a625001983e20e2518
>>>>>>> f2017b34fab086412c0ec41776379ab6b4e842eb
   "source": [
    "morris_values[1].unstack(level=0)"
   ]
  },
  {
   "cell_type": "code",
   "execution_count": null,
   "id": "religious-musical",
   "metadata": {},
   "outputs": [],
   "source": [
    "# overall covariogram calculation\n",
    "covariogram_value = covariogram(pair_df, mu_overall)\n",
    "covariogram_value.unstack(level=0)"
   ]
  },
  {
   "cell_type": "code",
   "execution_count": null,
   "id": "medical-separate",
   "metadata": {
    "scrolled": true
   },
   "outputs": [],
   "source": [
    "# expected value of the overall covariogram calculation\n",
    "e_covariogram_value = e_covariogram(cov_section_all)\n",
    "e_covariogram_value.unstack(level=0)"
   ]
  },
  {
   "cell_type": "code",
<<<<<<< HEAD
   "execution_count": null,
   "id": "known-singapore",
   "metadata": {},
   "outputs": [],
=======
<<<<<<< HEAD
   "execution_count": null,
   "id": "known-singapore",
   "metadata": {},
   "outputs": [],
=======
   "execution_count": 24,
   "id": "known-singapore",
   "metadata": {},
   "outputs": [
    {
     "data": {
      "text/plain": [
       "param\n",
       "x1    0.019777\n",
       "x2    0.845912\n",
       "x3    0.000022\n",
       "dtype: float64"
      ]
     },
     "execution_count": 24,
     "metadata": {},
     "output_type": "execute_result"
    }
   ],
>>>>>>> 82202d1899e4a0a76e6311a625001983e20e2518
>>>>>>> f2017b34fab086412c0ec41776379ab6b4e842eb
   "source": [
    "# sobol calculation\n",
    "sobol_value = sobol_eq(variogram_value, e_covariogram_value, var_overall)\n",
    "sobol_value"
   ]
  },
  {
   "cell_type": "code",
<<<<<<< HEAD
   "execution_count": null,
   "id": "sealed-council",
   "metadata": {},
   "outputs": [],
=======
<<<<<<< HEAD
   "execution_count": null,
   "id": "sealed-council",
   "metadata": {},
   "outputs": [],
=======
   "execution_count": 25,
   "id": "sealed-council",
   "metadata": {},
   "outputs": [
    {
     "data": {
      "text/html": [
       "<div>\n",
       "<style scoped>\n",
       "    .dataframe tbody tr th:only-of-type {\n",
       "        vertical-align: middle;\n",
       "    }\n",
       "\n",
       "    .dataframe tbody tr th {\n",
       "        vertical-align: top;\n",
       "    }\n",
       "\n",
       "    .dataframe thead th {\n",
       "        text-align: right;\n",
       "    }\n",
       "</style>\n",
       "<table border=\"1\" class=\"dataframe\">\n",
       "  <thead>\n",
       "    <tr style=\"text-align: right;\">\n",
       "      <th></th>\n",
       "      <th>x1</th>\n",
       "      <th>x2</th>\n",
       "      <th>x3</th>\n",
       "    </tr>\n",
       "  </thead>\n",
       "  <tbody>\n",
       "    <tr>\n",
       "      <th>0.1</th>\n",
       "      <td>0.000186</td>\n",
       "      <td>0.007850</td>\n",
       "      <td>4.686609e-07</td>\n",
       "    </tr>\n",
       "    <tr>\n",
       "      <th>0.3</th>\n",
       "      <td>0.003566</td>\n",
       "      <td>0.153408</td>\n",
       "      <td>6.656532e-06</td>\n",
       "    </tr>\n",
       "    <tr>\n",
       "      <th>0.5</th>\n",
       "      <td>0.016002</td>\n",
       "      <td>0.692225</td>\n",
       "      <td>2.297963e-05</td>\n",
       "    </tr>\n",
       "  </tbody>\n",
       "</table>\n",
       "</div>"
      ],
      "text/plain": [
       "           x1        x2            x3\n",
       "0.1  0.000186  0.007850  4.686609e-07\n",
       "0.3  0.003566  0.153408  6.656532e-06\n",
       "0.5  0.016002  0.692225  2.297963e-05"
      ]
     },
     "execution_count": 25,
     "metadata": {},
     "output_type": "execute_result"
    }
   ],
>>>>>>> 82202d1899e4a0a76e6311a625001983e20e2518
>>>>>>> f2017b34fab086412c0ec41776379ab6b4e842eb
   "source": [
    "# IVARS calculation\n",
    "ivars_values = [0.1, 0.3, 0.5]\n",
    "ivars_df = pd.DataFrame.from_dict({scale: variogram_value.groupby(level=0).apply(ivars, scale=scale, delta_h=delta_h) \\\n",
    "                      for scale in ivars_values}, 'index')\n",
    "ivars_df"
   ]
  },
  {
   "cell_type": "code",
<<<<<<< HEAD
   "execution_count": null,
=======
<<<<<<< HEAD
   "execution_count": null,
=======
   "execution_count": 47,
>>>>>>> 82202d1899e4a0a76e6311a625001983e20e2518
>>>>>>> f2017b34fab086412c0ec41776379ab6b4e842eb
   "id": "brilliant-homework",
   "metadata": {},
   "outputs": [],
   "source": [
    "# bootstrapping to get CIs\n",
    "\n",
    "# create result dataframes/series if bootstrapping is chosen to be done\n",
    "result_bs_variogram = pd.DataFrame()\n",
    "result_bs_sobol = pd.DataFrame()\n",
    "result_bs_ivars_df = pd.DataFrame()\n",
    "\n",
    "for iter in range(0, 1000):\n",
    "    ## specify random sequence by sampling with replacement\n",
    "    bootstrap_rand = np.random.choice(list(range(0,10)), size=len(range(0,10)), replace=True).tolist()\n",
    "    bootstrapped_pairdf = pd.concat([pair_df.loc[idx[i, :, :, :], :] for i in bootstrap_rand])\n",
    "    bootstrapped_df     = pd.concat([df.loc[idx[i, :, :], :] for i in bootstrap_rand])\n",
    "    #display(bootstrapped_pairdf)\n",
    "    #display(bootstrap_rand)\n",
    "\n",
    "    ## calculating sectional covariograms\n",
    "    bootstrapped_cov_section_all = pd.concat([cov_section_all.loc[idx[i, :]] for i in bootstrap_rand])\n",
    "    #display('sectional variogram:')\n",
    "    #display(bootstrapped_cov_section_all)\n",
    "    #display(bootstrap_rand)\n",
    "\n",
    "    ## calculating variogram, ecovariogram, variance, mean, Sobol, and IVARS values\n",
    "    bootstrapped_variogram = variogram(bootstrapped_pairdf)\n",
    "    #display('variogram:')\n",
    "    #display(bootstrapped_variogram.unstack(level=0))\n",
    "\n",
    "    bootstrapped_ecovariogram = e_covariogram(bootstrapped_cov_section_all)\n",
    "    #display('E(covariogram):')\n",
    "    #display(bootstrapped_ecovariogram.unstack(level=0))\n",
    "\n",
    "    bootstrapped_var = bootstrapped_df[ishigami.__name__].unique().var(ddof=1)\n",
    "    #display('variance:', bootstrapped_var)\n",
    "\n",
    "    bootstrapped_sobol = sobol_eq(bootstrapped_variogram, bootstrapped_ecovariogram, bootstrapped_var)\n",
    "    #display('sobol:', bootstrapped_sobol)\n",
    "\n",
    "    ivars_values = [0.1, 0.3, 0.5]\n",
    "    delta_h = 0.1\n",
    "    bootstrapped_ivars_df = pd.DataFrame.from_dict({scale: bootstrapped_variogram.groupby(level=0).apply(ivars, scale=scale, delta_h=delta_h) \\\n",
    "                                                    for scale in ivars_values}, 'index')\n",
    "    #display('ivars:', boostrapped_ivars_df)\n",
    "    \n",
    "    # unstack variogram\n",
    "    bootstrapped_variogram_df = bootstrapped_variogram.unstack(level=0)\n",
    "    \n",
    "    # transpose sobol values for stacking of results\n",
    "    bootstrapped_sobol_df = bootstrapped_sobol.to_frame().transpose()\n",
    "    \n",
    "    # attatch new results to previous results (order does not matter here)\n",
    "    result_bs_variogram = pd.concat([bootstrapped_variogram_df, result_bs_variogram])\n",
    "    result_bs_sobol = pd.concat([bootstrapped_sobol_df, result_bs_sobol])\n",
    "    result_bs_ivars_df = pd.concat([bootstrapped_ivars_df, result_bs_ivars_df])\n",
    "    \n",
    "\n",
<<<<<<< HEAD
=======
<<<<<<< HEAD
=======
    "    \n",
    "    \n",
    "\n",
>>>>>>> 82202d1899e4a0a76e6311a625001983e20e2518
>>>>>>> f2017b34fab086412c0ec41776379ab6b4e842eb
    "#all these functions must be put in a for loop to derive the CIs at the end\n",
    "# use pd.concat to put together all the matrices and calculate CIs - bootstrapping is done!"
   ]
  },
  {
   "cell_type": "code",
<<<<<<< HEAD
=======
<<<<<<< HEAD
>>>>>>> f2017b34fab086412c0ec41776379ab6b4e842eb
   "execution_count": null,
   "id": "starting-marina",
   "metadata": {},
   "outputs": [],
   "source": [
    "# one solution - large memory usage though\n",
    "a = pair_df.unstack(['param', 'h', 'pair_ind']).\\\n",
    "            sample(500*200, replace=True).\\\n",
    "            stack(['param', 'h', 'pair_ind'])"
   ]
  },
  {
   "cell_type": "code",
   "execution_count": null,
   "id": "7c446620-fd70-43b9-bc87-ec6fbc5bff1c",
   "metadata": {},
   "outputs": [],
<<<<<<< HEAD
=======
=======
   "execution_count": 51,
   "id": "7c446620-fd70-43b9-bc87-ec6fbc5bff1c",
   "metadata": {},
   "outputs": [
    {
     "data": {
      "text/html": [
       "<div>\n",
       "<style scoped>\n",
       "    .dataframe tbody tr th:only-of-type {\n",
       "        vertical-align: middle;\n",
       "    }\n",
       "\n",
       "    .dataframe tbody tr th {\n",
       "        vertical-align: top;\n",
       "    }\n",
       "\n",
       "    .dataframe thead th {\n",
       "        text-align: right;\n",
       "    }\n",
       "</style>\n",
       "<table border=\"1\" class=\"dataframe\">\n",
       "  <thead>\n",
       "    <tr style=\"text-align: right;\">\n",
       "      <th></th>\n",
       "      <th>x1</th>\n",
       "      <th>x2</th>\n",
       "      <th>x3</th>\n",
       "    </tr>\n",
       "  </thead>\n",
       "  <tbody>\n",
       "    <tr>\n",
       "      <th>0.1</th>\n",
       "      <td>0.000183</td>\n",
       "      <td>0.007671</td>\n",
       "      <td>2.952371e-07</td>\n",
       "    </tr>\n",
       "    <tr>\n",
       "      <th>0.3</th>\n",
       "      <td>0.003507</td>\n",
       "      <td>0.149374</td>\n",
       "      <td>4.196782e-06</td>\n",
       "    </tr>\n",
       "    <tr>\n",
       "      <th>0.5</th>\n",
       "      <td>0.015732</td>\n",
       "      <td>0.671920</td>\n",
       "      <td>1.438543e-05</td>\n",
       "    </tr>\n",
       "  </tbody>\n",
       "</table>\n",
       "</div>"
      ],
      "text/plain": [
       "           x1        x2            x3\n",
       "0.1  0.000183  0.007671  2.952371e-07\n",
       "0.3  0.003507  0.149374  4.196782e-06\n",
       "0.5  0.015732  0.671920  1.438543e-05"
      ]
     },
     "metadata": {},
     "output_type": "display_data"
    },
    {
     "data": {
      "text/html": [
       "<div>\n",
       "<style scoped>\n",
       "    .dataframe tbody tr th:only-of-type {\n",
       "        vertical-align: middle;\n",
       "    }\n",
       "\n",
       "    .dataframe tbody tr th {\n",
       "        vertical-align: top;\n",
       "    }\n",
       "\n",
       "    .dataframe thead th {\n",
       "        text-align: right;\n",
       "    }\n",
       "</style>\n",
       "<table border=\"1\" class=\"dataframe\">\n",
       "  <thead>\n",
       "    <tr style=\"text-align: right;\">\n",
       "      <th></th>\n",
       "      <th>x1</th>\n",
       "      <th>x2</th>\n",
       "      <th>x3</th>\n",
       "    </tr>\n",
       "  </thead>\n",
       "  <tbody>\n",
       "    <tr>\n",
       "      <th>0.1</th>\n",
       "      <td>0.000190</td>\n",
       "      <td>0.007978</td>\n",
       "      <td>6.267774e-07</td>\n",
       "    </tr>\n",
       "    <tr>\n",
       "      <th>0.3</th>\n",
       "      <td>0.003632</td>\n",
       "      <td>0.156296</td>\n",
       "      <td>8.904561e-06</td>\n",
       "    </tr>\n",
       "    <tr>\n",
       "      <th>0.5</th>\n",
       "      <td>0.016302</td>\n",
       "      <td>0.706764</td>\n",
       "      <td>3.086915e-05</td>\n",
       "    </tr>\n",
       "  </tbody>\n",
       "</table>\n",
       "</div>"
      ],
      "text/plain": [
       "           x1        x2            x3\n",
       "0.1  0.000190  0.007978  6.267774e-07\n",
       "0.3  0.003632  0.156296  8.904561e-06\n",
       "0.5  0.016302  0.706764  3.086915e-05"
      ]
     },
     "metadata": {},
     "output_type": "display_data"
    }
   ],
>>>>>>> 82202d1899e4a0a76e6311a625001983e20e2518
>>>>>>> f2017b34fab086412c0ec41776379ab6b4e842eb
   "source": [
    "# calculate upper and lower confidence interval limits of the ivars values\n",
    "param_names = ['x1', 'x2', 'x3']\n",
    "ivars_scales = [0.1, 0.3, 0.5]\n",
    "ivars_low = pd.DataFrame()\n",
    "ivars_upp = pd.DataFrame()\n",
    "for scale in ivars_scales:\n",
    "    ivars_low = pd.concat([ivars_low, result_bs_ivars_df.loc[scale].quantile((1-0.9)/2).rename(scale).to_frame()], axis=1)\n",
    "    ivars_upp = pd.concat([ivars_upp, result_bs_ivars_df.loc[scale].quantile(1-((1-0.9)/2)).rename(scale).to_frame()], axis=1)\n",
    "\n",
    "ivars_low = ivars_low.transpose()\n",
    "ivars_upp = ivars_upp.transpose()\n",
    "display(ivars_low)\n",
    "display(ivars_upp)"
   ]
  },
  {
   "cell_type": "code",
<<<<<<< HEAD
   "execution_count": null,
   "id": "38bba42e-6d7c-4fe0-af9a-fdadb9ee491a",
   "metadata": {},
   "outputs": [],
=======
<<<<<<< HEAD
   "execution_count": null,
   "id": "38bba42e-6d7c-4fe0-af9a-fdadb9ee491a",
   "metadata": {},
   "outputs": [],
=======
   "execution_count": 49,
   "id": "38bba42e-6d7c-4fe0-af9a-fdadb9ee491a",
   "metadata": {},
   "outputs": [
    {
     "data": {
      "text/html": [
       "<div>\n",
       "<style scoped>\n",
       "    .dataframe tbody tr th:only-of-type {\n",
       "        vertical-align: middle;\n",
       "    }\n",
       "\n",
       "    .dataframe tbody tr th {\n",
       "        vertical-align: top;\n",
       "    }\n",
       "\n",
       "    .dataframe thead th {\n",
       "        text-align: right;\n",
       "    }\n",
       "</style>\n",
       "<table border=\"1\" class=\"dataframe\">\n",
       "  <thead>\n",
       "    <tr style=\"text-align: right;\">\n",
       "      <th>param</th>\n",
       "      <th>x1</th>\n",
       "      <th>x2</th>\n",
       "      <th>x3</th>\n",
       "    </tr>\n",
       "    <tr>\n",
       "      <th>h</th>\n",
       "      <th></th>\n",
       "      <th></th>\n",
       "      <th></th>\n",
       "    </tr>\n",
       "  </thead>\n",
       "  <tbody>\n",
       "    <tr>\n",
       "      <th>1</th>\n",
       "      <td>0.003662</td>\n",
       "      <td>0.153428</td>\n",
       "      <td>0.000006</td>\n",
       "    </tr>\n",
       "    <tr>\n",
       "      <th>2</th>\n",
       "      <td>0.014748</td>\n",
       "      <td>0.626793</td>\n",
       "      <td>0.000019</td>\n",
       "    </tr>\n",
       "    <tr>\n",
       "      <th>3</th>\n",
       "      <td>0.033320</td>\n",
       "      <td>1.427047</td>\n",
       "      <td>0.000034</td>\n",
       "    </tr>\n",
       "    <tr>\n",
       "      <th>4</th>\n",
       "      <td>0.059315</td>\n",
       "      <td>2.542135</td>\n",
       "      <td>0.000051</td>\n",
       "    </tr>\n",
       "    <tr>\n",
       "      <th>5</th>\n",
       "      <td>0.092548</td>\n",
       "      <td>3.939596</td>\n",
       "      <td>0.000068</td>\n",
       "    </tr>\n",
       "    <tr>\n",
       "      <th>6</th>\n",
       "      <td>0.132704</td>\n",
       "      <td>5.566892</td>\n",
       "      <td>0.000089</td>\n",
       "    </tr>\n",
       "    <tr>\n",
       "      <th>7</th>\n",
       "      <td>0.179364</td>\n",
       "      <td>7.353567</td>\n",
       "      <td>0.000118</td>\n",
       "    </tr>\n",
       "    <tr>\n",
       "      <th>8</th>\n",
       "      <td>0.231994</td>\n",
       "      <td>9.215172</td>\n",
       "      <td>0.000161</td>\n",
       "    </tr>\n",
       "    <tr>\n",
       "      <th>9</th>\n",
       "      <td>0.289934</td>\n",
       "      <td>11.058638</td>\n",
       "      <td>0.000228</td>\n",
       "    </tr>\n",
       "  </tbody>\n",
       "</table>\n",
       "</div>"
      ],
      "text/plain": [
       "param        x1         x2        x3\n",
       "h                                   \n",
       "1      0.003662   0.153428  0.000006\n",
       "2      0.014748   0.626793  0.000019\n",
       "3      0.033320   1.427047  0.000034\n",
       "4      0.059315   2.542135  0.000051\n",
       "5      0.092548   3.939596  0.000068\n",
       "6      0.132704   5.566892  0.000089\n",
       "7      0.179364   7.353567  0.000118\n",
       "8      0.231994   9.215172  0.000161\n",
       "9      0.289934  11.058638  0.000228"
      ]
     },
     "metadata": {},
     "output_type": "display_data"
    },
    {
     "data": {
      "text/html": [
       "<div>\n",
       "<style scoped>\n",
       "    .dataframe tbody tr th:only-of-type {\n",
       "        vertical-align: middle;\n",
       "    }\n",
       "\n",
       "    .dataframe tbody tr th {\n",
       "        vertical-align: top;\n",
       "    }\n",
       "\n",
       "    .dataframe thead th {\n",
       "        text-align: right;\n",
       "    }\n",
       "</style>\n",
       "<table border=\"1\" class=\"dataframe\">\n",
       "  <thead>\n",
       "    <tr style=\"text-align: right;\">\n",
       "      <th>param</th>\n",
       "      <th>x1</th>\n",
       "      <th>x2</th>\n",
       "      <th>x3</th>\n",
       "    </tr>\n",
       "    <tr>\n",
       "      <th>h</th>\n",
       "      <th></th>\n",
       "      <th></th>\n",
       "      <th></th>\n",
       "    </tr>\n",
       "  </thead>\n",
       "  <tbody>\n",
       "    <tr>\n",
       "      <th>1</th>\n",
       "      <td>0.003791</td>\n",
       "      <td>0.159567</td>\n",
       "      <td>0.000013</td>\n",
       "    </tr>\n",
       "    <tr>\n",
       "      <th>2</th>\n",
       "      <td>0.015272</td>\n",
       "      <td>0.654870</td>\n",
       "      <td>0.000040</td>\n",
       "    </tr>\n",
       "    <tr>\n",
       "      <th>3</th>\n",
       "      <td>0.034517</td>\n",
       "      <td>1.497042</td>\n",
       "      <td>0.000073</td>\n",
       "    </tr>\n",
       "    <tr>\n",
       "      <th>4</th>\n",
       "      <td>0.061469</td>\n",
       "      <td>2.676248</td>\n",
       "      <td>0.000109</td>\n",
       "    </tr>\n",
       "    <tr>\n",
       "      <th>5</th>\n",
       "      <td>0.095925</td>\n",
       "      <td>4.159821</td>\n",
       "      <td>0.000148</td>\n",
       "    </tr>\n",
       "    <tr>\n",
       "      <th>6</th>\n",
       "      <td>0.137564</td>\n",
       "      <td>5.892411</td>\n",
       "      <td>0.000194</td>\n",
       "    </tr>\n",
       "    <tr>\n",
       "      <th>7</th>\n",
       "      <td>0.185945</td>\n",
       "      <td>7.798272</td>\n",
       "      <td>0.000257</td>\n",
       "    </tr>\n",
       "    <tr>\n",
       "      <th>8</th>\n",
       "      <td>0.240503</td>\n",
       "      <td>9.785613</td>\n",
       "      <td>0.000349</td>\n",
       "    </tr>\n",
       "    <tr>\n",
       "      <th>9</th>\n",
       "      <td>0.300566</td>\n",
       "      <td>11.752658</td>\n",
       "      <td>0.000490</td>\n",
       "    </tr>\n",
       "  </tbody>\n",
       "</table>\n",
       "</div>"
      ],
      "text/plain": [
       "param        x1         x2        x3\n",
       "h                                   \n",
       "1      0.003791   0.159567  0.000013\n",
       "2      0.015272   0.654870  0.000040\n",
       "3      0.034517   1.497042  0.000073\n",
       "4      0.061469   2.676248  0.000109\n",
       "5      0.095925   4.159821  0.000148\n",
       "6      0.137564   5.892411  0.000194\n",
       "7      0.185945   7.798272  0.000257\n",
       "8      0.240503   9.785613  0.000349\n",
       "9      0.300566  11.752658  0.000490"
      ]
     },
     "metadata": {},
     "output_type": "display_data"
    }
   ],
>>>>>>> 82202d1899e4a0a76e6311a625001983e20e2518
>>>>>>> f2017b34fab086412c0ec41776379ab6b4e842eb
   "source": [
    "variogram_low = pd.DataFrame()\n",
    "variogram_upp = pd.DataFrame()\n",
    "for h in np.unique(result_bs_variogram.index.values).tolist():\n",
    "    variogram_low = pd.concat([variogram_low, result_bs_variogram.loc[h].quantile((1-0.9)/2).rename(h).to_frame()], axis=1)\n",
    "    variogram_upp = pd.concat([variogram_upp, result_bs_variogram.loc[h].quantile(1-((1-0.9)/2)).rename(h).to_frame()], axis=1)\n",
    "    \n",
    "variogram_low = variogram_low.transpose()\n",
    "variogram_upp = variogram_upp.transpose()\n",
    "\n",
    "variogram_low.index.names = ['h']\n",
    "variogram_upp.index.names = ['h']\n",
    "\n",
    "display(variogram_low)\n",
    "display(variogram_upp)"
   ]
  },
  {
   "cell_type": "code",
<<<<<<< HEAD
   "execution_count": null,
   "id": "9bad1763-699b-48b2-be2f-79f780ef17e0",
   "metadata": {},
   "outputs": [],
=======
<<<<<<< HEAD
   "execution_count": null,
   "id": "9bad1763-699b-48b2-be2f-79f780ef17e0",
   "metadata": {},
   "outputs": [],
=======
   "execution_count": 50,
   "id": "9bad1763-699b-48b2-be2f-79f780ef17e0",
   "metadata": {},
   "outputs": [
    {
     "data": {
      "text/html": [
       "<div>\n",
       "<style scoped>\n",
       "    .dataframe tbody tr th:only-of-type {\n",
       "        vertical-align: middle;\n",
       "    }\n",
       "\n",
       "    .dataframe tbody tr th {\n",
       "        vertical-align: top;\n",
       "    }\n",
       "\n",
       "    .dataframe thead th {\n",
       "        text-align: right;\n",
       "    }\n",
       "</style>\n",
       "<table border=\"1\" class=\"dataframe\">\n",
       "  <thead>\n",
       "    <tr style=\"text-align: right;\">\n",
       "      <th>param</th>\n",
       "      <th>x1</th>\n",
       "      <th>x2</th>\n",
       "      <th>x3</th>\n",
       "    </tr>\n",
       "  </thead>\n",
       "  <tbody>\n",
       "    <tr>\n",
       "      <th></th>\n",
       "      <td>0.017127</td>\n",
       "      <td>0.728644</td>\n",
       "      <td>0.000012</td>\n",
       "    </tr>\n",
       "  </tbody>\n",
       "</table>\n",
       "</div>"
      ],
      "text/plain": [
       "param        x1        x2        x3\n",
       "       0.017127  0.728644  0.000012"
      ]
     },
     "execution_count": 50,
     "metadata": {},
     "output_type": "execute_result"
    }
   ],
>>>>>>> 82202d1899e4a0a76e6311a625001983e20e2518
>>>>>>> f2017b34fab086412c0ec41776379ab6b4e842eb
   "source": [
    "result_bs_sobol.quantile((1-0.9)/2).rename('').to_frame().transpose() # low"
   ]
  },
  {
   "cell_type": "code",
<<<<<<< HEAD
   "execution_count": null,
=======
<<<<<<< HEAD
   "execution_count": null,
=======
   "execution_count": 30,
>>>>>>> 82202d1899e4a0a76e6311a625001983e20e2518
>>>>>>> f2017b34fab086412c0ec41776379ab6b4e842eb
   "id": "a96cd498-4bc5-46b8-bc9b-63aa206bdca7",
   "metadata": {},
   "outputs": [],
   "source": [
    "def factor_ranking(factors):\n",
    "    # gather indices for sorting factor\n",
    "    temp = np.argsort(factors)[::-1]\n",
    "    # create an array the same shape and type as temp\n",
    "    ranks = np.empty_like(temp)\n",
    "    # rank factors\n",
    "    ranks[temp] = np.arange(len(factors))\n",
    "\n",
    "    return ranks\n",
    "    "
   ]
  },
  {
   "cell_type": "code",
<<<<<<< HEAD
=======
<<<<<<< HEAD
>>>>>>> f2017b34fab086412c0ec41776379ab6b4e842eb
   "execution_count": null,
   "id": "37c795cd-61cd-445a-832b-13f2294568fb",
   "metadata": {},
   "outputs": [],
   "source": [
    "sobol_ranking = factor_ranking(sobol_value)\n",
    "sobol_ranking"
<<<<<<< HEAD
=======
=======
   "execution_count": 31,
   "id": "37c795cd-61cd-445a-832b-13f2294568fb",
   "metadata": {},
   "outputs": [
    {
     "data": {
      "text/plain": [
       "array([1, 0, 2], dtype=int64)"
      ]
     },
     "execution_count": 31,
     "metadata": {},
     "output_type": "execute_result"
    }
   ],
   "source": [
    "sobol_ranking = factor_ranking(sobol_value)\n",
    "sobol_ranking"
   ]
  },
  {
   "cell_type": "code",
   "execution_count": 32,
   "id": "6b098b6f-af42-4285-bcae-3d440b934fca",
   "metadata": {},
   "outputs": [
    {
     "data": {
      "text/plain": [
       "array([[0, 1, 2],\n",
       "       [0, 1, 2],\n",
       "       [0, 1, 2]], dtype=int64)"
      ]
     },
     "execution_count": 32,
     "metadata": {},
     "output_type": "execute_result"
    }
   ],
   "source": [
    "ivars_ranking = factor_ranking(ivars_df)\n",
    "ivars_ranking"
>>>>>>> 82202d1899e4a0a76e6311a625001983e20e2518
>>>>>>> f2017b34fab086412c0ec41776379ab6b4e842eb
   ]
  },
  {
   "cell_type": "code",
   "execution_count": null,
<<<<<<< HEAD
   "id": "6b098b6f-af42-4285-bcae-3d440b934fca",
=======
<<<<<<< HEAD
   "id": "6b098b6f-af42-4285-bcae-3d440b934fca",
=======
   "id": "a93e6d47-b016-4118-a7dd-b6309d60feeb",
>>>>>>> 82202d1899e4a0a76e6311a625001983e20e2518
>>>>>>> f2017b34fab086412c0ec41776379ab6b4e842eb
   "metadata": {},
   "outputs": [],
   "source": [
    "ivars_ranking = factor_ranking(ivars_df)\n",
    "ivars_ranking"
   ]
  }
 ],
 "metadata": {
  "kernelspec": {
   "display_name": "Python 3",
   "language": "python",
   "name": "python3"
  },
  "language_info": {
   "codemirror_mode": {
    "name": "ipython",
    "version": 3
   },
   "file_extension": ".py",
   "mimetype": "text/x-python",
   "name": "python",
   "nbconvert_exporter": "python",
   "pygments_lexer": "ipython3",
   "version": "3.8.8"
  }
 },
 "nbformat": 4,
 "nbformat_minor": 5
}
