{
 "cells": [
  {
   "cell_type": "code",
   "execution_count": 1,
   "id": "de1a9c54-edc8-4bc8-b8f3-95d6285a8688",
   "metadata": {},
   "outputs": [],
   "source": [
    "# importing VARS and Model from varstool package\n",
    "from varstool import VARS, Model\n",
    "\n",
    "import numpy as np\n",
    "import pandas as pd"
   ]
  },
  {
   "cell_type": "code",
   "execution_count": 2,
   "id": "08c53527-613f-45a6-9171-37567e2c586b",
   "metadata": {},
   "outputs": [],
   "source": [
    "def ishigami(x, a=7, b=0.05):\n",
    "    '''Ishigami test function'''\n",
    "    # check whether the input x is a dataframe\n",
    "    \n",
    "    if not isinstance(x, (pd.core.frame.DataFrame, pd.core.series.Series, np.ndarray, list)):\n",
    "        raise TypeError('`x` must be of type pandas.DataFrame, numpy.ndarray, pd.Series, or list')\n",
    "    \n",
    "    if len(x) > 3:\n",
    "        raise ValueError('`x` must have only three arguments at a time')\n",
    "    \n",
    "    return np.sin(x[0]) + a*(np.sin(x[1])**2) + b*(x[2]**4)*np.sin(x[0])"
   ]
  },
  {
   "cell_type": "code",
   "execution_count": 3,
   "id": "5c6d17f6-743a-478b-8a18-ea0314f0ea4c",
   "metadata": {},
   "outputs": [],
   "source": [
    "ishigami_model = Model(ishigami)"
   ]
  },
  {
   "cell_type": "code",
   "execution_count": 4,
   "id": "efedd234-dc89-4619-96cd-bcf0d72caf56",
   "metadata": {},
   "outputs": [],
   "source": [
    "experiment_1 = VARS(parameters = {'x1':(0, 1), 'x2':(0, 1), 'x3': (0, 1)},\n",
    "                    delta_h = 0.1,\n",
    "                    ivars_scales = (0.1, 0.3, 0.5),\n",
    "                    num_stars=10,\n",
    "                    sampler = 'rnd',\n",
    "                    model = ishigami_model,\n",
    "                    bootstrap_flag = True,\n",
    "                    bootstrap_size = 100,\n",
    "                    bootstrap_ci=0.9,\n",
    "                    grouping_flag=True,\n",
    "                    num_grps=2\n",
    "                )"
   ]
  },
  {
   "cell_type": "code",
   "execution_count": 5,
   "id": "99d573ae-c656-4f0c-8906-10c8f63c4027",
   "metadata": {},
   "outputs": [
    {
     "data": {
      "text/plain": [
       "Star Centres: Loaded\n",
       "Star Points: Not Loaded\n",
       "Parameters: 3 paremeters set\n",
       "Delta h: 0.1\n",
       "Model: ishigami\n",
       "Seed Number: 123456789\n",
       "Bootstrap: On\n",
       "Bootstrap Size: 100\n",
       "Bootstrap CI: 0.9\n",
       "Grouping: On\n",
       "Number of Groups: 2\n",
       "VARS Analysis: Not Done"
      ]
     },
     "execution_count": 5,
     "metadata": {},
     "output_type": "execute_result"
    }
   ],
   "source": [
    "experiment_1"
   ]
  },
  {
   "cell_type": "code",
   "execution_count": null,
   "id": "f552d0ae-9770-46be-9c24-0eff1e9776b5",
   "metadata": {},
   "outputs": [],
   "source": [
    "experiment_1.run_online()\n",
    "experiment_1"
   ]
  },
  {
   "cell_type": "code",
   "execution_count": null,
   "id": "c3c72d33-f986-418e-a3c7-22be65d8cb9d",
   "metadata": {},
   "outputs": [],
   "source": [
    "experiment_1.variogram_value.unstack(0)"
   ]
  },
  {
   "cell_type": "code",
   "execution_count": null,
   "id": "2af4c640-8fc7-4698-beb2-e3d6a45b254b",
   "metadata": {},
   "outputs": [],
   "source": [
    "experiment_1.covariogram_value.unstack(0)"
   ]
  },
  {
   "cell_type": "code",
   "execution_count": null,
   "id": "d314819a-90b9-43cc-afb3-ab5b9b385c25",
   "metadata": {},
   "outputs": [],
   "source": [
    "experiment_1.sobol_value"
   ]
  },
  {
   "cell_type": "code",
   "execution_count": null,
   "id": "795e6a6c-ae5f-4f47-8adb-0306607f3fe3",
   "metadata": {},
   "outputs": [],
   "source": [
    "experiment_1.morris_value[0].unstack(0)"
   ]
  },
  {
   "cell_type": "code",
   "execution_count": null,
   "id": "298505be-af40-498d-ba59-2c213cb3719d",
   "metadata": {},
   "outputs": [],
   "source": [
    "experiment_1.morris_value[1].unstack(0)"
   ]
  },
  {
   "cell_type": "code",
   "execution_count": null,
   "id": "792507f6-f92d-4973-97a3-7e512004537b",
   "metadata": {},
   "outputs": [],
   "source": [
    "experiment_1.e_covariogram_value.unstack(0)"
   ]
  },
  {
   "cell_type": "code",
   "execution_count": null,
   "id": "7fad2c5e-b0b8-415b-aa16-e2e23cafb36b",
   "metadata": {},
   "outputs": [],
   "source": [
    "experiment_1.sobol_factor_ranking"
   ]
  },
  {
   "cell_type": "code",
   "execution_count": null,
   "id": "cf9ee8c7-0811-467a-85e1-9ba397b4807e",
   "metadata": {},
   "outputs": [],
   "source": [
    "experiment_1.ivars"
   ]
  },
  {
   "cell_type": "code",
   "execution_count": null,
   "id": "e765d7c7-925d-492e-9b0a-46c63c61e514",
   "metadata": {},
   "outputs": [],
   "source": [
    "experiment_1.ivars_factor_ranking"
   ]
  },
  {
   "cell_type": "code",
   "execution_count": null,
   "id": "1467e19c-e176-4038-a1eb-c715646379ef",
   "metadata": {},
   "outputs": [],
   "source": [
    "experiment_1.variogram_low"
   ]
  },
  {
   "cell_type": "code",
   "execution_count": null,
   "id": "6a81e956-3bdd-49d3-968f-38d978ea0b52",
   "metadata": {},
   "outputs": [],
   "source": [
    "experiment_1.variogram_upp"
   ]
  },
  {
   "cell_type": "code",
   "execution_count": null,
   "id": "14995fb5-5aca-4f5a-b141-65212146410e",
   "metadata": {},
   "outputs": [],
   "source": [
    "experiment_1.sobol_low"
   ]
  },
  {
   "cell_type": "code",
   "execution_count": null,
   "id": "b1050325-357b-44fe-a3fb-9836e2287221",
   "metadata": {},
   "outputs": [],
   "source": [
    "experiment_1.sobol_upp"
   ]
  },
  {
   "cell_type": "code",
   "execution_count": null,
   "id": "a96a473c-6f0f-4b1d-959c-d611491aabae",
   "metadata": {},
   "outputs": [],
   "source": [
    "experiment_1.ivars_low"
   ]
  },
  {
   "cell_type": "code",
   "execution_count": null,
   "id": "1ea8087f-9f33-4b7e-8e7d-92615c726b53",
   "metadata": {},
   "outputs": [],
   "source": [
    "experiment_1.ivars_upp"
   ]
  },
  {
   "cell_type": "code",
   "execution_count": null,
   "id": "7ee65640-fc93-46e6-b200-1e35b7dcf512",
   "metadata": {},
   "outputs": [],
   "source": [
    "experiment_1.rel_sobol_factor_ranking"
   ]
  },
  {
   "cell_type": "code",
   "execution_count": null,
   "id": "65abec79-3754-49ee-9c10-9d18575ba369",
   "metadata": {},
   "outputs": [],
   "source": [
    "experiment_1.rel_ivars_factor_ranking"
   ]
  },
  {
   "cell_type": "code",
   "execution_count": null,
   "id": "52500f27-0396-497a-bd88-fcb47400d3b0",
   "metadata": {},
   "outputs": [],
   "source": [
    "experiment_1.ivars50_grp"
   ]
  },
  {
   "cell_type": "code",
   "execution_count": null,
   "id": "c6ac0330-9727-4a07-9e92-a57a10d34475",
   "metadata": {},
   "outputs": [],
   "source": [
    "experiment_1.sobol_grp"
   ]
  },
  {
   "cell_type": "code",
   "execution_count": null,
   "id": "29a8206f-f042-4e3f-bc72-0a5d1c079522",
   "metadata": {},
   "outputs": [],
   "source": [
    "experiment_1.reli_sobol_grp"
   ]
  },
  {
   "cell_type": "code",
   "execution_count": null,
   "id": "b57479ee-6ec3-4f90-93b9-02bceb02c414",
   "metadata": {},
   "outputs": [],
   "source": [
    "experiment_1.reli_ivars50_grp"
   ]
  },
  {
   "cell_type": "code",
   "execution_count": null,
   "id": "60b86514-44dd-4354-85cd-4a4a28c87324",
   "metadata": {},
   "outputs": [],
   "source": []
  }
 ],
 "metadata": {
  "kernelspec": {
   "display_name": "Python 3",
   "language": "python",
   "name": "python3"
  },
  "language_info": {
   "codemirror_mode": {
    "name": "ipython",
    "version": 3
   },
   "file_extension": ".py",
   "mimetype": "text/x-python",
   "name": "python",
   "nbconvert_exporter": "python",
   "pygments_lexer": "ipython3",
   "version": "3.8.8"
  }
 },
 "nbformat": 4,
 "nbformat_minor": 5
}
