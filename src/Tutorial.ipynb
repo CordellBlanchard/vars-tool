{
 "cells": [
  {
   "cell_type": "markdown",
   "id": "ambient-mattress",
   "metadata": {},
   "source": [
    "# VARS-TOOL Toturial (alpha)"
   ]
  },
  {
   "cell_type": "markdown",
   "id": "governmental-physics",
   "metadata": {},
   "source": [
    "The package is accessible from the `git` repository at: https://github.com/vars-tool/vars-tool"
   ]
  },
  {
   "cell_type": "markdown",
   "id": "union-gateway",
   "metadata": {},
   "source": [
    "Let's clone the repo and install it locally on the machine:"
   ]
  },
  {
   "cell_type": "code",
   "execution_count": null,
   "id": "structured-indie",
   "metadata": {},
   "outputs": [],
   "source": [
    "!git clone https://github.com/vars-tool/vars-tool"
   ]
  },
  {
   "cell_type": "code",
   "execution_count": 10,
   "id": "successful-miracle",
   "metadata": {},
   "outputs": [
    {
     "name": "stderr",
     "output_type": "stream",
     "text": [
      "ERROR: Directory './varstool/.' is not installable. Neither 'setup.py' nor 'pyproject.toml' found.\n"
     ]
    }
   ],
   "source": [
    "!pip install ./varstool/."
   ]
  },
  {
   "cell_type": "code",
   "execution_count": 5,
   "id": "comfortable-turning",
   "metadata": {},
   "outputs": [
    {
     "name": "stdout",
     "output_type": "stream",
     "text": [
      " Volume in drive C is Windows\n",
      " Volume Serial Number is F4B1-1B0B\n",
      "\n",
      " Directory of C:\\Users\\kak136\\OneDrive - University of Saskatchewan\\VARS\\varstool\\src\n",
      "\n",
      "06/16/2021  04:01 PM    <DIR>          .\n",
      "06/16/2021  04:01 PM    <DIR>          ..\n",
      "06/16/2021  03:58 PM    <DIR>          .ipynb_checkpoints\n",
      "06/16/2021  04:01 PM             5,708 Tutorial.ipynb\n",
      "06/16/2021  03:58 PM    <DIR>          varstool\n",
      "               1 File(s)          5,708 bytes\n",
      "               4 Dir(s)   9,451,536,384 bytes free\n"
     ]
    }
   ],
   "source": [
    "!dir"
   ]
  },
  {
   "cell_type": "code",
   "execution_count": null,
   "id": "b868edd1-06f2-476f-9aed-dee3632abbf7",
   "metadata": {},
   "outputs": [],
   "source": [
    "import varstool\n"
   ]
  },
  {
   "cell_type": "code",
   "execution_count": null,
   "id": "b9a7664d-dce3-4e20-a9a4-eeb5188bf772",
   "metadata": {},
   "outputs": [],
   "source": [
    "# practice model for non timer series outputs\n",
    "def ishigami(x, a=7, b=0.05):\n",
    "    '''Ishigami test function'''\n",
    "    # check whether the input x is a dataframe\n",
    "    \n",
    "    if not isinstance(x, (pd.core.frame.DataFrame, pd.core.series.Series, np.ndarray, list)):\n",
    "        raise TypeError('`x` must be of type pandas.DataFrame, numpy.ndarray, pd.Series, or list')\n",
    "    \n",
    "    if x.shape[0] > 3:\n",
    "        raise ValueError('`x` must have only three arguments at a time')\n",
    "    \n",
    "    return np.sin(x[0]) + a*(np.sin(x[1])**2) + b*(x[2]**4)*np.sin(x[0])"
   ]
  },
  {
   "cell_type": "code",
   "execution_count": null,
   "id": "5882d628-6e42-4b3e-9af9-8d1be6347a4f",
   "metadata": {},
   "outputs": [],
   "source": [
    "# sample star centres (random numbers), user will do this themselves (maybe there will be a default star_centre sampler)\n",
    "rng = np.random.default_rng(seed=100)\n",
    "star_centres = rng.random((10, 3))\n",
    "\n",
    "star_centres"
   ]
  },
  {
   "cell_type": "code",
   "execution_count": null,
   "id": "0de7e7db-5c0c-449b-845c-390b3119cfbc",
   "metadata": {},
   "outputs": [],
   "source": [
    "# create VARS expermient\n",
    "Experiment = vt.VARS(\n",
    "                    star_centres, # for some reason star_centres=star_centres doesnt work\n",
    "                    model=ishigami,\n",
    "                    bootstrap_flag=True)\n",
    "# run experiment\n",
    "param_names = ['x1', 'x2', 'x3'] # create a list containing paramter names (maybe we can make a better version incase there is a ton of parameters)\n",
    "Experiment.run_online(param_names)"
   ]
  },
  {
   "cell_type": "code",
   "execution_count": null,
   "id": "ad678ad4-e2de-4c3c-8b72-a131941406eb",
   "metadata": {},
   "outputs": [],
   "source": [
    "# Access analysis results\n",
    "# maybe can change results so the user doesnt have to unstack them?\n",
    "Experiment.variogram_value.unstack(level=0)"
   ]
  },
  {
   "cell_type": "code",
   "execution_count": null,
   "id": "0b43ce3c-cb4f-4004-9ffb-4e45b93d114b",
   "metadata": {},
   "outputs": [],
   "source": [
    "Experiment.morris_values.unstack(level=0)"
   ]
  },
  {
   "cell_type": "code",
   "execution_count": null,
   "id": "8ba5685d-74f0-48d8-9b2d-a32a25573d81",
   "metadata": {},
   "outputs": [],
   "source": [
    "Experiment.covariogram_value.unstack(level=0)"
   ]
  },
  {
   "cell_type": "code",
   "execution_count": null,
   "id": "54fd4642-9125-4d91-b518-7ec6b6397044",
   "metadata": {},
   "outputs": [],
   "source": [
    "Experiment.e_covariogram_value.unstack(level=0)"
   ]
  },
  {
   "cell_type": "code",
   "execution_count": null,
   "id": "df687980-3587-40e1-a990-7c62c4a9af8c",
   "metadata": {},
   "outputs": [],
   "source": [
    "Experiment.sobol_value"
   ]
  },
  {
   "cell_type": "code",
   "execution_count": null,
   "id": "9825218d-2dac-4ebe-9f78-14243c04dd7c",
   "metadata": {},
   "outputs": [],
   "source": [
    "Experiment.ivars_df"
   ]
  },
  {
   "cell_type": "code",
   "execution_count": null,
   "id": "bd4c6804-2488-43f9-bcd6-eb69efb332e9",
   "metadata": {},
   "outputs": [],
   "source": [
    "# Access bootstrapping results\n",
    "display(Experiment.variogram_low)\n",
    "display(Experiment.variogram_upp)"
   ]
  },
  {
   "cell_type": "code",
   "execution_count": null,
   "id": "26157cc3-bcc1-43ae-a97c-13fab4cba8c2",
   "metadata": {},
   "outputs": [],
   "source": [
    "display(Experiment.sobol_low)\n",
    "display(Experiment.sobol_upp)"
   ]
  },
  {
   "cell_type": "code",
   "execution_count": null,
   "id": "049e5350-d161-4908-a170-a0b89e5759a9",
   "metadata": {},
   "outputs": [],
   "source": [
    "display(Experiment.ivars_low)\n",
    "display(Experiment.ivars_upp)"
   ]
  },
  {
   "cell_type": "code",
   "execution_count": null,
   "id": "9d936871-c3c2-4cb9-b83f-fcc73003f7c4",
   "metadata": {},
   "outputs": [],
   "source": []
  }
 ],
 "metadata": {
  "kernelspec": {
   "display_name": "Python 3",
   "language": "python",
   "name": "python3"
  },
  "language_info": {
   "codemirror_mode": {
    "name": "ipython",
    "version": 3
   },
   "file_extension": ".py",
   "mimetype": "text/x-python",
   "name": "python",
   "nbconvert_exporter": "python",
   "pygments_lexer": "ipython3",
   "version": "3.7.10"
  }
 },
 "nbformat": 4,
 "nbformat_minor": 5
}
