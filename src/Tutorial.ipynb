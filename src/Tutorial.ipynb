{
 "cells": [
  {
   "cell_type": "code",
   "execution_count": 6,
   "id": "b868edd1-06f2-476f-9aed-dee3632abbf7",
   "metadata": {},
   "outputs": [],
   "source": [
    "import varstool as vt\n"
   ]
  },
  {
   "cell_type": "code",
   "execution_count": null,
   "id": "b9a7664d-dce3-4e20-a9a4-eeb5188bf772",
   "metadata": {},
   "outputs": [],
   "source": []
  }
 ],
 "metadata": {
  "kernelspec": {
   "display_name": "Python 3",
   "language": "python",
   "name": "python3"
  },
  "language_info": {
   "codemirror_mode": {
    "name": "ipython",
    "version": 3
   },
   "file_extension": ".py",
   "mimetype": "text/x-python",
   "name": "python",
   "nbconvert_exporter": "python",
   "pygments_lexer": "ipython3",
   "version": "3.8.8"
  }
 },
 "nbformat": 4,
 "nbformat_minor": 5
}
