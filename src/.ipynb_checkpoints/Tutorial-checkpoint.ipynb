{
 "cells": [
  {
   "cell_type": "code",
   "execution_count": 65,
   "id": "b868edd1-06f2-476f-9aed-dee3632abbf7",
   "metadata": {},
   "outputs": [],
   "source": [
    "import varstool as vt\n",
    "import numpy as np"
   ]
  },
  {
   "cell_type": "code",
   "execution_count": 18,
   "id": "b9a7664d-dce3-4e20-a9a4-eeb5188bf772",
   "metadata": {},
   "outputs": [],
   "source": [
    "# practice model for non timer series outputs\n",
    "def ishigami(x, a=7, b=0.05):\n",
    "    '''Ishigami test function'''\n",
    "    # check whether the input x is a dataframe\n",
    "    \n",
    "    if not isinstance(x, (pd.core.frame.DataFrame, pd.core.series.Series, np.ndarray, list)):\n",
    "        raise TypeError('`x` must be of type pandas.DataFrame, numpy.ndarray, pd.Series, or list')\n",
    "    \n",
    "    if x.shape[0] > 3:\n",
    "        raise ValueError('`x` must have only three arguments at a time')\n",
    "    \n",
    "    return np.sin(x[0]) + a*(np.sin(x[1])**2) + b*(x[2]**4)*np.sin(x[0])"
   ]
  },
  {
   "cell_type": "code",
   "execution_count": 25,
   "id": "5882d628-6e42-4b3e-9af9-8d1be6347a4f",
   "metadata": {},
   "outputs": [
    {
     "data": {
      "text/plain": [
       "array([[0.83498163, 0.59655403, 0.28886324],\n",
       "       [0.04295157, 0.9736544 , 0.5964717 ],\n",
       "       [0.79026316, 0.91033938, 0.68815445],\n",
       "       [0.18999147, 0.98147898, 0.28474005],\n",
       "       [0.62927317, 0.58103648, 0.59991227],\n",
       "       [0.53524811, 0.9957771 , 0.50194608],\n",
       "       [0.77102258, 0.49416178, 0.99767449],\n",
       "       [0.97862192, 0.39356804, 0.32192526],\n",
       "       [0.86218065, 0.7993249 , 0.69143063],\n",
       "       [0.40851785, 0.38976513, 0.1316484 ]])"
      ]
     },
     "execution_count": 25,
     "metadata": {},
     "output_type": "execute_result"
    }
   ],
   "source": [
    "# sample star centres (random numbers), user will do this themselves (maybe there will be a default star_centre sampler)\n",
    "rng = np.random.default_rng(seed=100)\n",
    "star_centres = rng.random((10, 3))\n",
    "\n",
    "star_centres"
   ]
  },
  {
   "cell_type": "code",
   "execution_count": 58,
   "id": "0de7e7db-5c0c-449b-845c-390b3119cfbc",
   "metadata": {},
   "outputs": [
    {
     "ename": "TypeError",
     "evalue": "'numpy.ndarray' object is not callable",
     "output_type": "error",
     "traceback": [
      "\u001b[1;31m---------------------------------------------------------------------------\u001b[0m",
      "\u001b[1;31mTypeError\u001b[0m                                 Traceback (most recent call last)",
      "\u001b[1;32m<ipython-input-58-51f8070db93c>\u001b[0m in \u001b[0;36m<module>\u001b[1;34m\u001b[0m\n\u001b[0;32m      6\u001b[0m \u001b[1;31m# run experiment\u001b[0m\u001b[1;33m\u001b[0m\u001b[1;33m\u001b[0m\u001b[1;33m\u001b[0m\u001b[0m\n\u001b[0;32m      7\u001b[0m \u001b[0mparam_names\u001b[0m \u001b[1;33m=\u001b[0m \u001b[1;33m[\u001b[0m\u001b[1;34m'x1'\u001b[0m\u001b[1;33m,\u001b[0m \u001b[1;34m'x2'\u001b[0m\u001b[1;33m,\u001b[0m \u001b[1;34m'x3'\u001b[0m\u001b[1;33m]\u001b[0m \u001b[1;31m# create a list containing paramter names (maybe we can make a better version incase there is a ton of parameters)\u001b[0m\u001b[1;33m\u001b[0m\u001b[1;33m\u001b[0m\u001b[0m\n\u001b[1;32m----> 8\u001b[1;33m \u001b[0mExperiment\u001b[0m\u001b[1;33m.\u001b[0m\u001b[0mrun_online\u001b[0m\u001b[1;33m(\u001b[0m\u001b[0mparam_names\u001b[0m\u001b[1;33m)\u001b[0m\u001b[1;33m\u001b[0m\u001b[1;33m\u001b[0m\u001b[0m\n\u001b[0m",
      "\u001b[1;32m~\\GIWS\\vars-tool\\src\\varstool\\vars_sa.py\u001b[0m in \u001b[0;36mrun_online\u001b[1;34m(self, param_names)\u001b[0m\n\u001b[0;32m    271\u001b[0m \u001b[1;33m\u001b[0m\u001b[0m\n\u001b[0;32m    272\u001b[0m         \u001b[1;31m# generate star points\u001b[0m\u001b[1;33m\u001b[0m\u001b[1;33m\u001b[0m\u001b[1;33m\u001b[0m\u001b[0m\n\u001b[1;32m--> 273\u001b[1;33m         \u001b[0mself\u001b[0m\u001b[1;33m.\u001b[0m\u001b[0m__star_points\u001b[0m \u001b[1;33m=\u001b[0m \u001b[0mstarvars\u001b[0m\u001b[1;33m.\u001b[0m\u001b[0mstar\u001b[0m\u001b[1;33m(\u001b[0m\u001b[0mself\u001b[0m\u001b[1;33m.\u001b[0m\u001b[0m__star_centres\u001b[0m\u001b[1;33m,\u001b[0m \u001b[0mdelta_h\u001b[0m\u001b[1;33m=\u001b[0m\u001b[0mself\u001b[0m\u001b[1;33m.\u001b[0m\u001b[0mdelta_h\u001b[0m\u001b[1;33m,\u001b[0m \u001b[0mparameters\u001b[0m\u001b[1;33m=\u001b[0m\u001b[0mparam_names\u001b[0m\u001b[1;33m,\u001b[0m \u001b[0mrettype\u001b[0m\u001b[1;33m=\u001b[0m\u001b[1;34m'DataFrame'\u001b[0m\u001b[1;33m)\u001b[0m\u001b[1;33m\u001b[0m\u001b[1;33m\u001b[0m\u001b[0m\n\u001b[0m\u001b[0;32m    274\u001b[0m \u001b[1;33m\u001b[0m\u001b[0m\n\u001b[0;32m    275\u001b[0m         \u001b[1;31m# apply model to the generated star points\u001b[0m\u001b[1;33m\u001b[0m\u001b[1;33m\u001b[0m\u001b[1;33m\u001b[0m\u001b[0m\n",
      "\u001b[1;31mTypeError\u001b[0m: 'numpy.ndarray' object is not callable"
     ]
    }
   ],
   "source": [
    "# create VARS expermient\n",
    "Experiment = vt.VARS(\n",
    "                    star_centres, # for some reason star_centres=star_centres doesnt work\n",
    "                    model=ishigami,\n",
    "                    bootstrap_flag=True)\n",
    "# run experiment\n",
    "param_names = ['x1', 'x2', 'x3'] # create a list containing paramter names (maybe we can make a better version incase there is a ton of parameters)\n",
    "Experiment.run_online(param_names)"
   ]
  },
  {
   "cell_type": "code",
   "execution_count": null,
   "id": "ad678ad4-e2de-4c3c-8b72-a131941406eb",
   "metadata": {},
   "outputs": [],
   "source": [
    "# Access analysis results\n",
    "# maybe can change results so the user doesnt have to unstack them?\n",
    "Experiment.variogram_value.unstack(level=0)"
   ]
  },
  {
   "cell_type": "code",
   "execution_count": 46,
   "id": "0b43ce3c-cb4f-4004-9ffb-4e45b93d114b",
   "metadata": {},
   "outputs": [
    {
     "ename": "AttributeError",
     "evalue": "'VARS' object has no attribute 'morris_values'",
     "output_type": "error",
     "traceback": [
      "\u001b[1;31m---------------------------------------------------------------------------\u001b[0m",
      "\u001b[1;31mAttributeError\u001b[0m                            Traceback (most recent call last)",
      "\u001b[1;32m<ipython-input-46-8b8ecfe0cb74>\u001b[0m in \u001b[0;36m<module>\u001b[1;34m\u001b[0m\n\u001b[1;32m----> 1\u001b[1;33m \u001b[0mExperiment\u001b[0m\u001b[1;33m.\u001b[0m\u001b[0mmorris_values\u001b[0m\u001b[1;33m\u001b[0m\u001b[1;33m\u001b[0m\u001b[0m\n\u001b[0m",
      "\u001b[1;31mAttributeError\u001b[0m: 'VARS' object has no attribute 'morris_values'"
     ]
    }
   ],
   "source": [
    "Experiment.morris_values.unstack(level=0)"
   ]
  },
  {
   "cell_type": "code",
   "execution_count": 47,
   "id": "8ba5685d-74f0-48d8-9b2d-a32a25573d81",
   "metadata": {},
   "outputs": [
    {
     "ename": "AttributeError",
     "evalue": "'VARS' object has no attribute 'covariogram_value'",
     "output_type": "error",
     "traceback": [
      "\u001b[1;31m---------------------------------------------------------------------------\u001b[0m",
      "\u001b[1;31mAttributeError\u001b[0m                            Traceback (most recent call last)",
      "\u001b[1;32m<ipython-input-47-7190f2285e59>\u001b[0m in \u001b[0;36m<module>\u001b[1;34m\u001b[0m\n\u001b[1;32m----> 1\u001b[1;33m \u001b[0mExperiment\u001b[0m\u001b[1;33m.\u001b[0m\u001b[0mcovariogram_value\u001b[0m\u001b[1;33m\u001b[0m\u001b[1;33m\u001b[0m\u001b[0m\n\u001b[0m",
      "\u001b[1;31mAttributeError\u001b[0m: 'VARS' object has no attribute 'covariogram_value'"
     ]
    }
   ],
   "source": [
    "Experiment.covariogram_value.unstack(level=0)"
   ]
  },
  {
   "cell_type": "code",
   "execution_count": 48,
   "id": "54fd4642-9125-4d91-b518-7ec6b6397044",
   "metadata": {},
   "outputs": [
    {
     "ename": "AttributeError",
     "evalue": "'VARS' object has no attribute 'e_covariogram_value'",
     "output_type": "error",
     "traceback": [
      "\u001b[1;31m---------------------------------------------------------------------------\u001b[0m",
      "\u001b[1;31mAttributeError\u001b[0m                            Traceback (most recent call last)",
      "\u001b[1;32m<ipython-input-48-922493ecd36e>\u001b[0m in \u001b[0;36m<module>\u001b[1;34m\u001b[0m\n\u001b[1;32m----> 1\u001b[1;33m \u001b[0mExperiment\u001b[0m\u001b[1;33m.\u001b[0m\u001b[0me_covariogram_value\u001b[0m\u001b[1;33m\u001b[0m\u001b[1;33m\u001b[0m\u001b[0m\n\u001b[0m",
      "\u001b[1;31mAttributeError\u001b[0m: 'VARS' object has no attribute 'e_covariogram_value'"
     ]
    }
   ],
   "source": [
    "Experiment.e_covariogram_value.unstack(level=0)"
   ]
  },
  {
   "cell_type": "code",
   "execution_count": 49,
   "id": "df687980-3587-40e1-a990-7c62c4a9af8c",
   "metadata": {},
   "outputs": [
    {
     "ename": "AttributeError",
     "evalue": "'VARS' object has no attribute 'sobol_value'",
     "output_type": "error",
     "traceback": [
      "\u001b[1;31m---------------------------------------------------------------------------\u001b[0m",
      "\u001b[1;31mAttributeError\u001b[0m                            Traceback (most recent call last)",
      "\u001b[1;32m<ipython-input-49-f4b1d30dc892>\u001b[0m in \u001b[0;36m<module>\u001b[1;34m\u001b[0m\n\u001b[1;32m----> 1\u001b[1;33m \u001b[0mExperiment\u001b[0m\u001b[1;33m.\u001b[0m\u001b[0msobol_value\u001b[0m\u001b[1;33m\u001b[0m\u001b[1;33m\u001b[0m\u001b[0m\n\u001b[0m",
      "\u001b[1;31mAttributeError\u001b[0m: 'VARS' object has no attribute 'sobol_value'"
     ]
    }
   ],
   "source": [
    "Experiment.sobol_value"
   ]
  },
  {
   "cell_type": "code",
   "execution_count": 50,
   "id": "9825218d-2dac-4ebe-9f78-14243c04dd7c",
   "metadata": {},
   "outputs": [
    {
     "ename": "AttributeError",
     "evalue": "'VARS' object has no attribute 'ivars_df'",
     "output_type": "error",
     "traceback": [
      "\u001b[1;31m---------------------------------------------------------------------------\u001b[0m",
      "\u001b[1;31mAttributeError\u001b[0m                            Traceback (most recent call last)",
      "\u001b[1;32m<ipython-input-50-ef1e78a0afba>\u001b[0m in \u001b[0;36m<module>\u001b[1;34m\u001b[0m\n\u001b[1;32m----> 1\u001b[1;33m \u001b[0mExperiment\u001b[0m\u001b[1;33m.\u001b[0m\u001b[0mivars_df\u001b[0m\u001b[1;33m\u001b[0m\u001b[1;33m\u001b[0m\u001b[0m\n\u001b[0m",
      "\u001b[1;31mAttributeError\u001b[0m: 'VARS' object has no attribute 'ivars_df'"
     ]
    }
   ],
   "source": [
    "Experiment.ivars_df"
   ]
  },
  {
   "cell_type": "code",
   "execution_count": 51,
   "id": "bd4c6804-2488-43f9-bcd6-eb69efb332e9",
   "metadata": {},
   "outputs": [
    {
     "ename": "AttributeError",
     "evalue": "'VARS' object has no attribute 'variogram_low'",
     "output_type": "error",
     "traceback": [
      "\u001b[1;31m---------------------------------------------------------------------------\u001b[0m",
      "\u001b[1;31mAttributeError\u001b[0m                            Traceback (most recent call last)",
      "\u001b[1;32m<ipython-input-51-be681e484ba5>\u001b[0m in \u001b[0;36m<module>\u001b[1;34m\u001b[0m\n\u001b[0;32m      1\u001b[0m \u001b[1;31m# Access bootstrapping\u001b[0m\u001b[1;33m\u001b[0m\u001b[1;33m\u001b[0m\u001b[1;33m\u001b[0m\u001b[0m\n\u001b[1;32m----> 2\u001b[1;33m \u001b[0mdisplay\u001b[0m\u001b[1;33m(\u001b[0m\u001b[0mExperiment\u001b[0m\u001b[1;33m.\u001b[0m\u001b[0mvariogram_low\u001b[0m\u001b[1;33m)\u001b[0m\u001b[1;33m\u001b[0m\u001b[1;33m\u001b[0m\u001b[0m\n\u001b[0m\u001b[0;32m      3\u001b[0m \u001b[0mdisplay\u001b[0m\u001b[1;33m(\u001b[0m\u001b[0mExperiment\u001b[0m\u001b[1;33m.\u001b[0m\u001b[0mvariogram_upp\u001b[0m\u001b[1;33m)\u001b[0m\u001b[1;33m\u001b[0m\u001b[1;33m\u001b[0m\u001b[0m\n",
      "\u001b[1;31mAttributeError\u001b[0m: 'VARS' object has no attribute 'variogram_low'"
     ]
    }
   ],
   "source": [
    "# Access bootstrapping results\n",
    "display(Experiment.variogram_low)\n",
    "display(Experiment.variogram_upp)"
   ]
  },
  {
   "cell_type": "code",
   "execution_count": 52,
   "id": "26157cc3-bcc1-43ae-a97c-13fab4cba8c2",
   "metadata": {},
   "outputs": [
    {
     "ename": "AttributeError",
     "evalue": "'VARS' object has no attribute 'sobol_low'",
     "output_type": "error",
     "traceback": [
      "\u001b[1;31m---------------------------------------------------------------------------\u001b[0m",
      "\u001b[1;31mAttributeError\u001b[0m                            Traceback (most recent call last)",
      "\u001b[1;32m<ipython-input-52-704572e611ec>\u001b[0m in \u001b[0;36m<module>\u001b[1;34m\u001b[0m\n\u001b[1;32m----> 1\u001b[1;33m \u001b[0mdisplay\u001b[0m\u001b[1;33m(\u001b[0m\u001b[0mExperiment\u001b[0m\u001b[1;33m.\u001b[0m\u001b[0msobol_low\u001b[0m\u001b[1;33m)\u001b[0m\u001b[1;33m\u001b[0m\u001b[1;33m\u001b[0m\u001b[0m\n\u001b[0m\u001b[0;32m      2\u001b[0m \u001b[0mdisplay\u001b[0m\u001b[1;33m(\u001b[0m\u001b[0mExperiment\u001b[0m\u001b[1;33m.\u001b[0m\u001b[0msobol_upp\u001b[0m\u001b[1;33m)\u001b[0m\u001b[1;33m\u001b[0m\u001b[1;33m\u001b[0m\u001b[0m\n",
      "\u001b[1;31mAttributeError\u001b[0m: 'VARS' object has no attribute 'sobol_low'"
     ]
    }
   ],
   "source": [
    "display(Experiment.sobol_low)\n",
    "display(Experiment.sobol_upp)"
   ]
  },
  {
   "cell_type": "code",
   "execution_count": 53,
   "id": "049e5350-d161-4908-a170-a0b89e5759a9",
   "metadata": {},
   "outputs": [
    {
     "ename": "AttributeError",
     "evalue": "'VARS' object has no attribute 'ivars_low'",
     "output_type": "error",
     "traceback": [
      "\u001b[1;31m---------------------------------------------------------------------------\u001b[0m",
      "\u001b[1;31mAttributeError\u001b[0m                            Traceback (most recent call last)",
      "\u001b[1;32m<ipython-input-53-5602f45730dd>\u001b[0m in \u001b[0;36m<module>\u001b[1;34m\u001b[0m\n\u001b[1;32m----> 1\u001b[1;33m \u001b[0mdisplay\u001b[0m\u001b[1;33m(\u001b[0m\u001b[0mExperiment\u001b[0m\u001b[1;33m.\u001b[0m\u001b[0mivars_low\u001b[0m\u001b[1;33m)\u001b[0m\u001b[1;33m\u001b[0m\u001b[1;33m\u001b[0m\u001b[0m\n\u001b[0m\u001b[0;32m      2\u001b[0m \u001b[0mdisplay\u001b[0m\u001b[1;33m(\u001b[0m\u001b[0mExperiment\u001b[0m\u001b[1;33m.\u001b[0m\u001b[0mivars_upp\u001b[0m\u001b[1;33m)\u001b[0m\u001b[1;33m\u001b[0m\u001b[1;33m\u001b[0m\u001b[0m\n",
      "\u001b[1;31mAttributeError\u001b[0m: 'VARS' object has no attribute 'ivars_low'"
     ]
    }
   ],
   "source": [
    "display(Experiment.ivars_low)\n",
    "display(Experiment.ivars_upp)"
   ]
  },
  {
   "cell_type": "code",
   "execution_count": null,
   "id": "9d936871-c3c2-4cb9-b83f-fcc73003f7c4",
   "metadata": {},
   "outputs": [],
   "source": []
  }
 ],
 "metadata": {
  "kernelspec": {
   "display_name": "Python 3",
   "language": "python",
   "name": "python3"
  },
  "language_info": {
   "codemirror_mode": {
    "name": "ipython",
    "version": 3
   },
   "file_extension": ".py",
   "mimetype": "text/x-python",
   "name": "python",
   "nbconvert_exporter": "python",
   "pygments_lexer": "ipython3",
   "version": "3.8.8"
  }
 },
 "nbformat": 4,
 "nbformat_minor": 5
}
