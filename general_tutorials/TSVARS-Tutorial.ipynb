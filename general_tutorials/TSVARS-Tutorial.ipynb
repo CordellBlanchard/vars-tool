{
 "cells": [
  {
   "cell_type": "markdown",
   "id": "5fb4e299",
   "metadata": {},
   "source": [
    "# A Real-world Example Using HBV-SASK Hydrological Model"
   ]
  },
  {
   "cell_type": "markdown",
   "id": "2d0a723e",
   "metadata": {},
   "source": [
    "## Installation (from source)"
   ]
  },
  {
   "cell_type": "markdown",
   "id": "f855db8b",
   "metadata": {},
   "source": [
    "The latest version of the varstool sensitivity and uncertainty package can always be retrieved from its GitHub repo using the following commands:\n",
    "\n",
    "note: if the loading bars are not working, simply turn them off or install a lower version of pandas by doing the following:\n",
    "`!pip install pandas==1.2.5`"
   ]
  },
  {
   "cell_type": "code",
   "execution_count": null,
   "id": "645dd088",
   "metadata": {
    "scrolled": true
   },
   "outputs": [],
   "source": [
    "# !rm -rf vars-tool\n",
    "# !git clone https://github.com/vars-tool/vars-tool\n",
    "# !pip install vars-tool/.\n",
    "# !pip install seaborn"
   ]
  },
  {
   "cell_type": "markdown",
   "id": "a3f7a87f",
   "metadata": {},
   "source": [
    "## HBV-SASK Model - A Real-world Sensitivity Analysis Problem"
   ]
  },
  {
   "cell_type": "markdown",
   "id": "da54adb7",
   "metadata": {},
   "source": [
    "The HBV-SASK Model is a real-world hydrological model that has been developed within the [**\"Watershed Systems Analysis and Modelling Lab\"**](https://www.samanrazavi.com) for educational purposes. In this example, we analyze the sensitivity of each parameter of the HBV-SASK model to the simulated streamflow (i.e., output) using the state-of-the-art varstool Python package.\n",
    "\n",
    "HBV-SASK utilizes daily time-series of precipitation and temperature and produced many outputs, such as streamflow, evapotransipration, state variables, etc.\n",
    "\n",
    "For more information see: Razavi, S., Sheikholeslami, R., Gupta, H. V., & Haghnegahdar, A. (2019). ***VARS-TOOL: A toolbox for comprehensive, efficient, and robust sensitivity and uncertainty analysis.*** Environmental modelling & software, 112, 95-107. doi: https://doi.org/10.1016/j.envsoft.2018.10.005"
   ]
  },
  {
   "cell_type": "code",
   "execution_count": 1,
   "id": "b849b9d0",
   "metadata": {},
   "outputs": [],
   "source": [
    "from varstool import TSVARS, Model\n",
    "\n",
    "# Loading the \"HBV_SASK\" model that is included in this package\n",
    "from varstool.example_models import HBV_SASK\n",
    "\n",
    "exp_1_model = Model(HBV_SASK)"
   ]
  },
  {
   "cell_type": "markdown",
   "id": "4a7cb9f4",
   "metadata": {},
   "source": [
    "Let's just see how the model works. The object \"Model\" is an standard way of wrapping different functions that are going to be used by varstool. Therefore, users must communicate with their function of interest using this simple wrapper class. The arguments of this class can be quickly viewed by the following command:"
   ]
  },
  {
   "cell_type": "code",
   "execution_count": 2,
   "id": "9a135b8c",
   "metadata": {},
   "outputs": [
    {
     "data": {
      "text/plain": [
       "\u001b[1;31mInit signature:\u001b[0m \u001b[0mModel\u001b[0m\u001b[1;33m(\u001b[0m\u001b[0mfunc\u001b[0m\u001b[1;33m:\u001b[0m \u001b[0mCallable\u001b[0m \u001b[1;33m=\u001b[0m \u001b[1;32mNone\u001b[0m\u001b[1;33m,\u001b[0m \u001b[0munknown_options\u001b[0m\u001b[1;33m:\u001b[0m \u001b[0mDict\u001b[0m\u001b[1;33m[\u001b[0m\u001b[0mstr\u001b[0m\u001b[1;33m,\u001b[0m \u001b[0mAny\u001b[0m\u001b[1;33m]\u001b[0m \u001b[1;33m=\u001b[0m \u001b[1;33m{\u001b[0m\u001b[1;33m}\u001b[0m\u001b[1;33m)\u001b[0m \u001b[1;33m->\u001b[0m \u001b[1;32mNone\u001b[0m\u001b[1;33m\u001b[0m\u001b[1;33m\u001b[0m\u001b[0m\n",
       "\u001b[1;31mDocstring:\u001b[0m     \n",
       "Description:\n",
       "------------\n",
       "A wrapper class to contain various models and functions\n",
       "to be fed into VARS and its variations. The models can be\n",
       "called by simply calling the wrapper class itself.\n",
       "\n",
       "\n",
       "Parameters:\n",
       "-----------\n",
       ":param func: function of interest\n",
       ":type func: Callable\n",
       ":param unknown_options: a dictionary of options with keys as\n",
       "                        parameters and values of parameter\n",
       "                        values.\n",
       ":type unknown_options: dict\n",
       "\u001b[1;31mFile:\u001b[0m           c:\\users\\corde\\anaconda3\\lib\\site-packages\\varstool\\varstool.py\n",
       "\u001b[1;31mType:\u001b[0m           type\n",
       "\u001b[1;31mSubclasses:\u001b[0m     \n"
      ]
     },
     "metadata": {},
     "output_type": "display_data"
    }
   ],
   "source": [
    "Model?"
   ]
  },
  {
   "cell_type": "markdown",
   "id": "86a9508b",
   "metadata": {},
   "source": [
    "To quickly test the HBV-SASK model with some random numbers as its input, follow the cell below:"
   ]
  },
  {
   "cell_type": "code",
   "execution_count": 3,
   "id": "afbfc23e",
   "metadata": {
    "scrolled": true
   },
   "outputs": [],
   "source": [
    "import pandas as pd\n",
    "\n",
    "params={#name  #value\n",
    "       'TT'   : -4.00,\n",
    "       'C0'   : 0.00,\n",
    "       'ETF'  : 0.00,\n",
    "       'LP'   : 0.10,\n",
    "       'FC'   : 50.0,\n",
    "       'beta' : 1.00,\n",
    "       'FRAC' : 0.10,\n",
    "       'K1'   : 0.05,\n",
    "       'alpha': 1.00,\n",
    "       'K2'   : 0.00,\n",
    "       'UBAS' : 1.00,\n",
    "       'PM'   : 0.50,\n",
    "}"
   ]
  },
  {
   "cell_type": "markdown",
   "id": "58de73aa",
   "metadata": {},
   "source": [
    "HBV-SASK returns many outputs; for the sake of simplicity, here we just use the simulated streamflow as the chosen model response (shown below). HBV-SASK returns a time-series of streamflow but, we are using GVARS which only accepts non time-series inputs right now. The time-series version of this algorithm is detailed in the following publication:\n",
    "\n",
    "* Gupta, H. V., & Razavi, S. (2018). Revisiting the basis of sensitivity analysis for dynamical earth system models. Water Resources Research, 54(11), 8692-8717. doi: https://doi.org/10.1029/2018WR022668"
   ]
  },
  {
   "cell_type": "code",
   "execution_count": 4,
   "id": "164f9ab4",
   "metadata": {},
   "outputs": [
    {
     "data": {
      "text/plain": [
       "2011-12-12    0.337263\n",
       "2011-12-13    0.320400\n",
       "2011-12-14    0.304380\n",
       "2011-12-15    0.289161\n",
       "2011-12-16    0.274703\n",
       "2011-12-17    0.260968\n",
       "2011-12-18    0.669035\n",
       "2011-12-19    0.635583\n",
       "2011-12-20    0.603804\n",
       "2011-12-21    0.573614\n",
       "2011-12-22    0.544933\n",
       "2011-12-23    0.517687\n",
       "2011-12-24    0.491802\n",
       "2011-12-25    0.467212\n",
       "2011-12-26    0.443851\n",
       "2011-12-27    0.421659\n",
       "2011-12-28    0.400576\n",
       "2011-12-29    0.738123\n",
       "2011-12-30    0.892118\n",
       "2011-12-31    0.847512\n",
       "Name: Q_cms, dtype: float64"
      ]
     },
     "execution_count": 4,
     "metadata": {},
     "output_type": "execute_result"
    }
   ],
   "source": [
    "# custome output selection - we are just now using the last 20 time-steps\n",
    "def custom_HBV_SASK(x):\n",
    "    # on MS Windows machines, import the original library again in\n",
    "    # the body of the function to be wrapped, if any.\n",
    "    # No need to import again on *nix machines\n",
    "    from varstool.example_models import HBV_SASK\n",
    "    \n",
    "    return HBV_SASK(x)[0]['Q_cms'][-20:]\n",
    "\n",
    "exp_1_model = Model(custom_HBV_SASK)\n",
    "\n",
    "# and testing the output\n",
    "exp_1_model(pd.Series(params))"
   ]
  },
  {
   "cell_type": "code",
   "execution_count": 5,
   "id": "c3bebe8c",
   "metadata": {},
   "outputs": [],
   "source": [
    "# setting up a TSVARS experiment for the HBV-SASK model\n",
    "\n",
    "exp_1 = TSVARS(num_stars=2,\n",
    "               parameters={  #lb     #ub\n",
    "                   'TT'   : [-4.00, 4.00],\n",
    "                   'C0'   : [0.00 , 10.0],\n",
    "                   'ETF'  : [0.00 , 1.00],\n",
    "                   'LP'   : [0.00 , 1.00],\n",
    "                   'FC'   : [50.0 ,500.0],\n",
    "                   'beta' : [1.00 , 3.00], \n",
    "                   'FRAC' : [0.10 , 0.90],\n",
    "                   'K1'   : [0.05 , 1.00],\n",
    "                   'alpha': [1.00 , 3.00],\n",
    "                   'K2'   : [0.00 , 0.05],\n",
    "                   'UBAS' : [1.00 , 3.00],\n",
    "                   'PM'   : [0.50 , 2.00],\n",
    "               },\n",
    "               delta_h=0.1,\n",
    "               ivars_scales=(0.1, 0.3, 0.5),\n",
    "               model=exp_1_model,\n",
    "               seed=1001,\n",
    "               sampler='lhs',\n",
    "               bootstrap_flag=False,\n",
    "               grouping_flag=False,\n",
    "               report_verbose=True,\n",
    "               func_eval_method='parallel',\n",
    "               vars_eval_method='parallel',\n",
    "               vars_chunk_size=None,\n",
    "          )"
   ]
  },
  {
   "cell_type": "markdown",
   "id": "6984c6af",
   "metadata": {},
   "source": [
    "At any time, the status of the VARS analysis could be viewed by typing the name of the instance that is used to initiate the experiment. Here, it is `exp_1`:"
   ]
  },
  {
   "cell_type": "code",
   "execution_count": 6,
   "id": "dc863476",
   "metadata": {},
   "outputs": [
    {
     "data": {
      "text/plain": [
       "Star Centres: Loaded\n",
       "Star Points: Not Loaded\n",
       "Parameters: 12 paremeters set\n",
       "Delta h: 0.1\n",
       "Model: custom_HBV_SASK\n",
       "Seed Number: 1001\n",
       "Bootstrap: Off\n",
       "Bootstrap Size: N/A\n",
       "Bootstrap CI: N/A\n",
       "Grouping: Off\n",
       "Number of Groups: None\n",
       "Function Evaluation Method: parallel\n",
       "TSVARS Evaluation Method: parallel\n",
       "TSVARS Chunk Size: N/A\n",
       "Verbose: On\n",
       "TSVARS Analysis: Not Done"
      ]
     },
     "execution_count": 6,
     "metadata": {},
     "output_type": "execute_result"
    }
   ],
   "source": [
    "exp_1"
   ]
  },
  {
   "cell_type": "markdown",
   "id": "f20d7843",
   "metadata": {},
   "source": [
    "From the status report, it could be viewed that the `star_centres` are fully sampled (via `lhs`) and loaded. Meanwhile, $\\Delta$h (`delta_h`) is set to 0.1, `seed` is set to 1001, and 12 parameters are fully set to begin the VARS sensitivity analysis.\n",
    "\n",
    "Time-series VARS (TSVARS) comes with two computational methods to carry out sensitivity analysis, that are:\n",
    "1. Serial and\n",
    "2. Parallel.\n",
    "\n",
    "It is worth noting that these computational methods are applicable to: **a**) while varstool runs the `Model` and **b**) when varstool computes common `VARS` indices. For the former `func_eval_method` method must be changed and for the latter `vars_eval_method` to either `'serial'` or `'parallel'`.\n",
    "\n",
    "Furthermore, to save memory usage, the computations can be chunked into several segments to avoid memory leak. In this example, first a simple serial version without chunking is demonstrated. It should be noted that the parallel version are unstable and might result in unexpected errors."
   ]
  },
  {
   "cell_type": "markdown",
   "id": "de7b9bcb",
   "metadata": {},
   "source": [
    "Before carrying out a sensitivity analysis, let's check the loaded `star_centres`:"
   ]
  },
  {
   "cell_type": "code",
   "execution_count": 7,
   "id": "1bc8aa70",
   "metadata": {
    "scrolled": true
   },
   "outputs": [
    {
     "data": {
      "text/plain": [
       "array([[0.74408722, 0.96041308, 0.09803003, 0.21526074, 0.01155678,\n",
       "        0.09789096, 0.9911775 , 0.51015798, 0.85274302, 0.29022856,\n",
       "        0.6763727 , 0.02056527],\n",
       "       [0.15311609, 0.13253178, 0.55455094, 0.70552831, 0.73506341,\n",
       "        0.56364827, 0.17640264, 0.11162101, 0.30676093, 0.98275457,\n",
       "        0.42678384, 0.80294738]])"
      ]
     },
     "execution_count": 7,
     "metadata": {},
     "output_type": "execute_result"
    }
   ],
   "source": [
    "exp_1.star_centres"
   ]
  },
  {
   "cell_type": "markdown",
   "id": "f8df6e70",
   "metadata": {},
   "source": [
    "It could be seen that 2 star centres for 12 parameters of the HBV-SASK model are successfully produced. Now let's move on to the sensitivity analysis bit:"
   ]
  },
  {
   "cell_type": "code",
   "execution_count": 8,
   "id": "b6c282c5",
   "metadata": {},
   "outputs": [
    {
     "name": "stderr",
     "output_type": "stream",
     "text": [
      "C:\\Users\\Corde\\anaconda3\\lib\\site-packages\\varstool\\varstool.py:1881: UserWarning: Evaluating function in parallel mode is not stable yet. varstool currently uses `mapply` to parallelize function evaluations, see https://github.com/ddelange/mapply\n",
      "  warnings.warn(\n"
     ]
    },
    {
     "data": {
      "application/vnd.jupyter.widget-view+json": {
       "model_id": "17df077f31c2431db10fabd67c7246b1",
       "version_major": 2,
       "version_minor": 0
      },
      "text/plain": [
       "  0%|          | 0/240 [00:00<?, ?it/s]"
      ]
     },
     "metadata": {},
     "output_type": "display_data"
    },
    {
     "data": {
      "application/vnd.jupyter.widget-view+json": {
       "model_id": "d870c3822cd24ce09a2c0284620e95c0",
       "version_major": 2,
       "version_minor": 0
      },
      "text/plain": [
       "building pairs:   0%|          | 0/20 [00:00<?, ?it/s]"
      ]
     },
     "metadata": {},
     "output_type": "display_data"
    },
    {
     "data": {
      "application/vnd.jupyter.widget-view+json": {
       "model_id": "c6726b91066149c6a92200f78f8393cf",
       "version_major": 2,
       "version_minor": 0
      },
      "text/plain": [
       "VARS analysis:   0%|          | 0/10 [00:00<?, ?it/s]"
      ]
     },
     "metadata": {},
     "output_type": "display_data"
    }
   ],
   "source": [
    "exp_1.run_online()"
   ]
  },
  {
   "cell_type": "markdown",
   "id": "6685b8b7",
   "metadata": {},
   "source": [
    "You can see the list of chosen outputs in the `output` attribute of the VARS analysis experiment:"
   ]
  },
  {
   "cell_type": "code",
   "execution_count": 54,
   "id": "d7776218",
   "metadata": {},
   "outputs": [
    {
     "data": {
      "text/plain": [
       "param  h  \n",
       "C0     0.1    1.638033\n",
       "       0.2    1.833067\n",
       "       0.3    2.034193\n",
       "       0.4    2.294297\n",
       "       0.5    2.632140\n",
       "                ...   \n",
       "beta   0.5    1.604701\n",
       "       0.6    2.299489\n",
       "       0.7    3.143297\n",
       "       0.8    4.162663\n",
       "       0.9    5.397008\n",
       "Length: 108, dtype: float64"
      ]
     },
     "metadata": {},
     "output_type": "display_data"
    },
    {
     "data": {
      "text/plain": [
       "param  h  \n",
       "C0     0.1    0.05\n",
       "       0.2    0.05\n",
       "       0.3    0.05\n",
       "       0.4    0.05\n",
       "       0.5    0.05\n",
       "              ... \n",
       "beta   0.5    0.05\n",
       "       0.6    0.05\n",
       "       0.7    0.05\n",
       "       0.8    0.05\n",
       "       0.9    0.05\n",
       "Length: 108, dtype: float64"
      ]
     },
     "metadata": {},
     "output_type": "display_data"
    },
    {
     "data": {
      "text/html": [
       "<div>\n",
       "<style scoped>\n",
       "    .dataframe tbody tr th:only-of-type {\n",
       "        vertical-align: middle;\n",
       "    }\n",
       "\n",
       "    .dataframe tbody tr th {\n",
       "        vertical-align: top;\n",
       "    }\n",
       "\n",
       "    .dataframe thead th {\n",
       "        text-align: right;\n",
       "    }\n",
       "</style>\n",
       "<table border=\"1\" class=\"dataframe\">\n",
       "  <thead>\n",
       "    <tr style=\"text-align: right;\">\n",
       "      <th></th>\n",
       "      <th>ts</th>\n",
       "      <th>2011-12-12</th>\n",
       "      <th>2011-12-13</th>\n",
       "      <th>2011-12-14</th>\n",
       "      <th>2011-12-15</th>\n",
       "      <th>2011-12-16</th>\n",
       "      <th>2011-12-17</th>\n",
       "      <th>2011-12-18</th>\n",
       "      <th>2011-12-19</th>\n",
       "      <th>2011-12-20</th>\n",
       "      <th>2011-12-21</th>\n",
       "      <th>2011-12-22</th>\n",
       "      <th>2011-12-23</th>\n",
       "      <th>2011-12-24</th>\n",
       "      <th>2011-12-25</th>\n",
       "      <th>2011-12-26</th>\n",
       "      <th>2011-12-27</th>\n",
       "      <th>2011-12-28</th>\n",
       "      <th>2011-12-29</th>\n",
       "      <th>2011-12-30</th>\n",
       "      <th>2011-12-31</th>\n",
       "    </tr>\n",
       "    <tr>\n",
       "      <th>param</th>\n",
       "      <th>h</th>\n",
       "      <th></th>\n",
       "      <th></th>\n",
       "      <th></th>\n",
       "      <th></th>\n",
       "      <th></th>\n",
       "      <th></th>\n",
       "      <th></th>\n",
       "      <th></th>\n",
       "      <th></th>\n",
       "      <th></th>\n",
       "      <th></th>\n",
       "      <th></th>\n",
       "      <th></th>\n",
       "      <th></th>\n",
       "      <th></th>\n",
       "      <th></th>\n",
       "      <th></th>\n",
       "      <th></th>\n",
       "      <th></th>\n",
       "      <th></th>\n",
       "    </tr>\n",
       "  </thead>\n",
       "  <tbody>\n",
       "    <tr>\n",
       "      <th rowspan=\"5\" valign=\"top\">C0</th>\n",
       "      <th>0.1</th>\n",
       "      <td>0.019971</td>\n",
       "      <td>0.017964</td>\n",
       "      <td>0.016172</td>\n",
       "      <td>0.014570</td>\n",
       "      <td>0.013133</td>\n",
       "      <td>0.011844</td>\n",
       "      <td>0.206902</td>\n",
       "      <td>0.231874</td>\n",
       "      <td>0.110201</td>\n",
       "      <td>0.071365</td>\n",
       "      <td>0.053341</td>\n",
       "      <td>0.042938</td>\n",
       "      <td>0.036020</td>\n",
       "      <td>0.030964</td>\n",
       "      <td>0.027024</td>\n",
       "      <td>0.023818</td>\n",
       "      <td>0.021131</td>\n",
       "      <td>0.018833</td>\n",
       "      <td>0.016840</td>\n",
       "      <td>0.015093</td>\n",
       "    </tr>\n",
       "    <tr>\n",
       "      <th>0.2</th>\n",
       "      <td>0.019927</td>\n",
       "      <td>0.017924</td>\n",
       "      <td>0.016137</td>\n",
       "      <td>0.014538</td>\n",
       "      <td>0.013105</td>\n",
       "      <td>0.011819</td>\n",
       "      <td>0.207159</td>\n",
       "      <td>0.232266</td>\n",
       "      <td>0.110246</td>\n",
       "      <td>0.071326</td>\n",
       "      <td>0.053282</td>\n",
       "      <td>0.042877</td>\n",
       "      <td>0.035963</td>\n",
       "      <td>0.030911</td>\n",
       "      <td>0.026976</td>\n",
       "      <td>0.023775</td>\n",
       "      <td>0.021093</td>\n",
       "      <td>0.018799</td>\n",
       "      <td>0.016809</td>\n",
       "      <td>0.015066</td>\n",
       "    </tr>\n",
       "    <tr>\n",
       "      <th>0.3</th>\n",
       "      <td>0.019626</td>\n",
       "      <td>0.017655</td>\n",
       "      <td>0.015895</td>\n",
       "      <td>0.014321</td>\n",
       "      <td>0.012910</td>\n",
       "      <td>0.011643</td>\n",
       "      <td>0.207982</td>\n",
       "      <td>0.233447</td>\n",
       "      <td>0.110476</td>\n",
       "      <td>0.071318</td>\n",
       "      <td>0.053204</td>\n",
       "      <td>0.042777</td>\n",
       "      <td>0.035861</td>\n",
       "      <td>0.030813</td>\n",
       "      <td>0.026885</td>\n",
       "      <td>0.023691</td>\n",
       "      <td>0.021016</td>\n",
       "      <td>0.018729</td>\n",
       "      <td>0.016746</td>\n",
       "      <td>0.015008</td>\n",
       "    </tr>\n",
       "    <tr>\n",
       "      <th>0.4</th>\n",
       "      <td>0.019244</td>\n",
       "      <td>0.017311</td>\n",
       "      <td>0.015586</td>\n",
       "      <td>0.014043</td>\n",
       "      <td>0.012659</td>\n",
       "      <td>0.011417</td>\n",
       "      <td>0.208799</td>\n",
       "      <td>0.234766</td>\n",
       "      <td>0.110831</td>\n",
       "      <td>0.071382</td>\n",
       "      <td>0.053165</td>\n",
       "      <td>0.042700</td>\n",
       "      <td>0.035769</td>\n",
       "      <td>0.030719</td>\n",
       "      <td>0.026793</td>\n",
       "      <td>0.023604</td>\n",
       "      <td>0.020935</td>\n",
       "      <td>0.018654</td>\n",
       "      <td>0.016677</td>\n",
       "      <td>0.014945</td>\n",
       "    </tr>\n",
       "    <tr>\n",
       "      <th>0.5</th>\n",
       "      <td>0.019010</td>\n",
       "      <td>0.017101</td>\n",
       "      <td>0.015397</td>\n",
       "      <td>0.013872</td>\n",
       "      <td>0.012506</td>\n",
       "      <td>0.011279</td>\n",
       "      <td>0.209241</td>\n",
       "      <td>0.235621</td>\n",
       "      <td>0.111104</td>\n",
       "      <td>0.071445</td>\n",
       "      <td>0.053148</td>\n",
       "      <td>0.042650</td>\n",
       "      <td>0.035706</td>\n",
       "      <td>0.030652</td>\n",
       "      <td>0.026727</td>\n",
       "      <td>0.023541</td>\n",
       "      <td>0.020876</td>\n",
       "      <td>0.018599</td>\n",
       "      <td>0.016626</td>\n",
       "      <td>0.014899</td>\n",
       "    </tr>\n",
       "    <tr>\n",
       "      <th>...</th>\n",
       "      <th>...</th>\n",
       "      <td>...</td>\n",
       "      <td>...</td>\n",
       "      <td>...</td>\n",
       "      <td>...</td>\n",
       "      <td>...</td>\n",
       "      <td>...</td>\n",
       "      <td>...</td>\n",
       "      <td>...</td>\n",
       "      <td>...</td>\n",
       "      <td>...</td>\n",
       "      <td>...</td>\n",
       "      <td>...</td>\n",
       "      <td>...</td>\n",
       "      <td>...</td>\n",
       "      <td>...</td>\n",
       "      <td>...</td>\n",
       "      <td>...</td>\n",
       "      <td>...</td>\n",
       "      <td>...</td>\n",
       "      <td>...</td>\n",
       "    </tr>\n",
       "    <tr>\n",
       "      <th rowspan=\"5\" valign=\"top\">beta</th>\n",
       "      <th>0.5</th>\n",
       "      <td>0.018187</td>\n",
       "      <td>0.016326</td>\n",
       "      <td>0.014674</td>\n",
       "      <td>0.013201</td>\n",
       "      <td>0.011885</td>\n",
       "      <td>0.010707</td>\n",
       "      <td>0.194960</td>\n",
       "      <td>0.227395</td>\n",
       "      <td>0.117166</td>\n",
       "      <td>0.076782</td>\n",
       "      <td>0.057065</td>\n",
       "      <td>0.045508</td>\n",
       "      <td>0.037834</td>\n",
       "      <td>0.032274</td>\n",
       "      <td>0.027991</td>\n",
       "      <td>0.024546</td>\n",
       "      <td>0.021688</td>\n",
       "      <td>0.019266</td>\n",
       "      <td>0.017180</td>\n",
       "      <td>0.015364</td>\n",
       "    </tr>\n",
       "    <tr>\n",
       "      <th>0.6</th>\n",
       "      <td>0.018183</td>\n",
       "      <td>0.016323</td>\n",
       "      <td>0.014670</td>\n",
       "      <td>0.013197</td>\n",
       "      <td>0.011882</td>\n",
       "      <td>0.010704</td>\n",
       "      <td>0.194808</td>\n",
       "      <td>0.227297</td>\n",
       "      <td>0.117219</td>\n",
       "      <td>0.076835</td>\n",
       "      <td>0.057106</td>\n",
       "      <td>0.045538</td>\n",
       "      <td>0.037857</td>\n",
       "      <td>0.032292</td>\n",
       "      <td>0.028005</td>\n",
       "      <td>0.024557</td>\n",
       "      <td>0.021697</td>\n",
       "      <td>0.019273</td>\n",
       "      <td>0.017186</td>\n",
       "      <td>0.015369</td>\n",
       "    </tr>\n",
       "    <tr>\n",
       "      <th>0.7</th>\n",
       "      <td>0.018170</td>\n",
       "      <td>0.016310</td>\n",
       "      <td>0.014659</td>\n",
       "      <td>0.013187</td>\n",
       "      <td>0.011873</td>\n",
       "      <td>0.010696</td>\n",
       "      <td>0.194863</td>\n",
       "      <td>0.227345</td>\n",
       "      <td>0.117213</td>\n",
       "      <td>0.076828</td>\n",
       "      <td>0.057100</td>\n",
       "      <td>0.045534</td>\n",
       "      <td>0.037854</td>\n",
       "      <td>0.032290</td>\n",
       "      <td>0.028003</td>\n",
       "      <td>0.024555</td>\n",
       "      <td>0.021696</td>\n",
       "      <td>0.019272</td>\n",
       "      <td>0.017185</td>\n",
       "      <td>0.015368</td>\n",
       "    </tr>\n",
       "    <tr>\n",
       "      <th>0.8</th>\n",
       "      <td>0.018145</td>\n",
       "      <td>0.016289</td>\n",
       "      <td>0.014640</td>\n",
       "      <td>0.013170</td>\n",
       "      <td>0.011857</td>\n",
       "      <td>0.010682</td>\n",
       "      <td>0.195135</td>\n",
       "      <td>0.227548</td>\n",
       "      <td>0.117145</td>\n",
       "      <td>0.076757</td>\n",
       "      <td>0.057046</td>\n",
       "      <td>0.045494</td>\n",
       "      <td>0.037823</td>\n",
       "      <td>0.032266</td>\n",
       "      <td>0.027984</td>\n",
       "      <td>0.024540</td>\n",
       "      <td>0.021683</td>\n",
       "      <td>0.019261</td>\n",
       "      <td>0.017176</td>\n",
       "      <td>0.015360</td>\n",
       "    </tr>\n",
       "    <tr>\n",
       "      <th>0.9</th>\n",
       "      <td>0.018108</td>\n",
       "      <td>0.016256</td>\n",
       "      <td>0.014611</td>\n",
       "      <td>0.013144</td>\n",
       "      <td>0.011834</td>\n",
       "      <td>0.010662</td>\n",
       "      <td>0.195653</td>\n",
       "      <td>0.227924</td>\n",
       "      <td>0.117007</td>\n",
       "      <td>0.076615</td>\n",
       "      <td>0.056938</td>\n",
       "      <td>0.045413</td>\n",
       "      <td>0.037762</td>\n",
       "      <td>0.032218</td>\n",
       "      <td>0.027946</td>\n",
       "      <td>0.024509</td>\n",
       "      <td>0.021657</td>\n",
       "      <td>0.019240</td>\n",
       "      <td>0.017158</td>\n",
       "      <td>0.015345</td>\n",
       "    </tr>\n",
       "  </tbody>\n",
       "</table>\n",
       "<p>108 rows × 20 columns</p>\n",
       "</div>"
      ],
      "text/plain": [
       "ts         2011-12-12  2011-12-13  2011-12-14  2011-12-15  2011-12-16  \\\n",
       "param h                                                                 \n",
       "C0    0.1    0.019971    0.017964    0.016172    0.014570    0.013133   \n",
       "      0.2    0.019927    0.017924    0.016137    0.014538    0.013105   \n",
       "      0.3    0.019626    0.017655    0.015895    0.014321    0.012910   \n",
       "      0.4    0.019244    0.017311    0.015586    0.014043    0.012659   \n",
       "      0.5    0.019010    0.017101    0.015397    0.013872    0.012506   \n",
       "...               ...         ...         ...         ...         ...   \n",
       "beta  0.5    0.018187    0.016326    0.014674    0.013201    0.011885   \n",
       "      0.6    0.018183    0.016323    0.014670    0.013197    0.011882   \n",
       "      0.7    0.018170    0.016310    0.014659    0.013187    0.011873   \n",
       "      0.8    0.018145    0.016289    0.014640    0.013170    0.011857   \n",
       "      0.9    0.018108    0.016256    0.014611    0.013144    0.011834   \n",
       "\n",
       "ts         2011-12-17  2011-12-18  2011-12-19  2011-12-20  2011-12-21  \\\n",
       "param h                                                                 \n",
       "C0    0.1    0.011844    0.206902    0.231874    0.110201    0.071365   \n",
       "      0.2    0.011819    0.207159    0.232266    0.110246    0.071326   \n",
       "      0.3    0.011643    0.207982    0.233447    0.110476    0.071318   \n",
       "      0.4    0.011417    0.208799    0.234766    0.110831    0.071382   \n",
       "      0.5    0.011279    0.209241    0.235621    0.111104    0.071445   \n",
       "...               ...         ...         ...         ...         ...   \n",
       "beta  0.5    0.010707    0.194960    0.227395    0.117166    0.076782   \n",
       "      0.6    0.010704    0.194808    0.227297    0.117219    0.076835   \n",
       "      0.7    0.010696    0.194863    0.227345    0.117213    0.076828   \n",
       "      0.8    0.010682    0.195135    0.227548    0.117145    0.076757   \n",
       "      0.9    0.010662    0.195653    0.227924    0.117007    0.076615   \n",
       "\n",
       "ts         2011-12-22  2011-12-23  2011-12-24  2011-12-25  2011-12-26  \\\n",
       "param h                                                                 \n",
       "C0    0.1    0.053341    0.042938    0.036020    0.030964    0.027024   \n",
       "      0.2    0.053282    0.042877    0.035963    0.030911    0.026976   \n",
       "      0.3    0.053204    0.042777    0.035861    0.030813    0.026885   \n",
       "      0.4    0.053165    0.042700    0.035769    0.030719    0.026793   \n",
       "      0.5    0.053148    0.042650    0.035706    0.030652    0.026727   \n",
       "...               ...         ...         ...         ...         ...   \n",
       "beta  0.5    0.057065    0.045508    0.037834    0.032274    0.027991   \n",
       "      0.6    0.057106    0.045538    0.037857    0.032292    0.028005   \n",
       "      0.7    0.057100    0.045534    0.037854    0.032290    0.028003   \n",
       "      0.8    0.057046    0.045494    0.037823    0.032266    0.027984   \n",
       "      0.9    0.056938    0.045413    0.037762    0.032218    0.027946   \n",
       "\n",
       "ts         2011-12-27  2011-12-28  2011-12-29  2011-12-30  2011-12-31  \n",
       "param h                                                                \n",
       "C0    0.1    0.023818    0.021131    0.018833    0.016840    0.015093  \n",
       "      0.2    0.023775    0.021093    0.018799    0.016809    0.015066  \n",
       "      0.3    0.023691    0.021016    0.018729    0.016746    0.015008  \n",
       "      0.4    0.023604    0.020935    0.018654    0.016677    0.014945  \n",
       "      0.5    0.023541    0.020876    0.018599    0.016626    0.014899  \n",
       "...               ...         ...         ...         ...         ...  \n",
       "beta  0.5    0.024546    0.021688    0.019266    0.017180    0.015364  \n",
       "      0.6    0.024557    0.021697    0.019273    0.017186    0.015369  \n",
       "      0.7    0.024555    0.021696    0.019272    0.017185    0.015368  \n",
       "      0.8    0.024540    0.021683    0.019261    0.017176    0.015360  \n",
       "      0.9    0.024509    0.021657    0.019240    0.017158    0.015345  \n",
       "\n",
       "[108 rows x 20 columns]"
      ]
     },
     "metadata": {},
     "output_type": "display_data"
    }
   ],
   "source": [
    "df = exp_1.gamma.unstack(level=0)\n",
    "df2 = df.div(df.sum(axis=1), axis=0)\n",
    "display(exp_1.gamma.aggregate)\n",
    "# let him know the normalized average is always going to be the same for all h values\n",
    "display(df2.sum(axis=1)/df2.shape[1])\n",
    "display(df2)"
   ]
  },
  {
   "cell_type": "markdown",
   "id": "f2ecaf78",
   "metadata": {},
   "source": [
    "To view the produced variogram:"
   ]
  },
  {
   "cell_type": "code",
   "execution_count": null,
   "id": "ca3aef39",
   "metadata": {},
   "outputs": [],
   "source": [
    "exp_1.output['Gamma'].unstack(level=1) # unstack to make the dataframe more legible"
   ]
  },
  {
   "cell_type": "markdown",
   "id": "b763c10f",
   "metadata": {},
   "source": [
    "## Aggregated Values"
   ]
  },
  {
   "cell_type": "markdown",
   "id": "9b1666dd",
   "metadata": {},
   "source": [
    "The aggregated values of the produced outputs are also possible by getting `.aggregate` of each value, for example:"
   ]
  },
  {
   "cell_type": "code",
   "execution_count": 11,
   "id": "aa8603f9",
   "metadata": {},
   "outputs": [
    {
     "data": {
      "text/plain": [
       "param  h  \n",
       "C0     0.1    1.638033\n",
       "       0.2    1.833067\n",
       "       0.3    2.034193\n",
       "       0.4    2.294297\n",
       "       0.5    2.632140\n",
       "                ...   \n",
       "beta   0.5    1.604701\n",
       "       0.6    2.299489\n",
       "       0.7    3.143297\n",
       "       0.8    4.162663\n",
       "       0.9    5.397008\n",
       "Length: 108, dtype: float64"
      ]
     },
     "execution_count": 11,
     "metadata": {},
     "output_type": "execute_result"
    }
   ],
   "source": [
    "exp_1.gamma.aggregate"
   ]
  },
  {
   "cell_type": "markdown",
   "id": "29343bd3",
   "metadata": {},
   "source": [
    "or"
   ]
  },
  {
   "cell_type": "code",
   "execution_count": null,
   "id": "dcb145fb",
   "metadata": {},
   "outputs": [],
   "source": [
    "exp_1.output['Gamma'].aggregate"
   ]
  },
  {
   "cell_type": "markdown",
   "id": "0f69bcce",
   "metadata": {},
   "source": [
    "## Plotting Sensitivity Measures"
   ]
  },
  {
   "cell_type": "markdown",
   "id": "d3abced5",
   "metadata": {},
   "source": [
    "Depending on the sensitivity analysis problem at hand, several plots could be drawn. Two examples of them are included below:"
   ]
  },
  {
   "cell_type": "code",
   "execution_count": null,
   "id": "a0c59345",
   "metadata": {},
   "outputs": [],
   "source": [
    "# Plotting IVARS-50 measure for two parameters\n",
    "\n",
    "idx = pd.IndexSlice\n",
    "\n",
    "exp_1.ivars.loc[idx[:, :, 0.5]].unstack(level=-1)[['C0', 'ETF', 'LP']].plot()"
   ]
  },
  {
   "cell_type": "code",
   "execution_count": null,
   "id": "d9e18604",
   "metadata": {},
   "outputs": [],
   "source": [
    "# Plotting IVARS-50 measure using emperical cdfs for two parameters\n",
    "\n",
    "import seaborn as sns\n",
    "\n",
    "sns.ecdfplot(exp_1.ivars.loc[idx[:, :, 0.5]].unstack(level=-1)[['C0', 'ETF', 'LP']])"
   ]
  },
  {
   "cell_type": "markdown",
   "id": "d60a5e32",
   "metadata": {},
   "source": [
    "# DYI"
   ]
  },
  {
   "cell_type": "markdown",
   "id": "677b9dea",
   "metadata": {},
   "source": [
    "How about you test other outputs of HBV-SASK yourself below?"
   ]
  },
  {
   "cell_type": "code",
   "execution_count": null,
   "id": "1c6f9d85",
   "metadata": {
    "scrolled": true
   },
   "outputs": [],
   "source": [
    "exp_2_model = Model(...)\n",
    "\n",
    "exp_2 = TSVARS(...)"
   ]
  }
 ],
 "metadata": {
  "kernelspec": {
   "display_name": "Python 3",
   "language": "python",
   "name": "python3"
  },
  "language_info": {
   "codemirror_mode": {
    "name": "ipython",
    "version": 3
   },
   "file_extension": ".py",
   "mimetype": "text/x-python",
   "name": "python",
   "nbconvert_exporter": "python",
   "pygments_lexer": "ipython3",
   "version": "3.8.8"
  }
 },
 "nbformat": 4,
 "nbformat_minor": 5
}
