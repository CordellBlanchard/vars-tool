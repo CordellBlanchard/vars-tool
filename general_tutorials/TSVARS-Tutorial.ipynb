{
 "cells": [
  {
   "cell_type": "markdown",
   "id": "5fb4e299",
   "metadata": {},
   "source": [
    "# A Real-world Example Using HBV-SASK Hydrological Model"
   ]
  },
  {
   "cell_type": "markdown",
   "id": "2d0a723e",
   "metadata": {},
   "source": [
    "## Installation (from source)"
   ]
  },
  {
   "cell_type": "markdown",
   "id": "f855db8b",
   "metadata": {},
   "source": [
    "The latest version of the varstool sensitivity and uncertainty package can always be retrieved from its GitHub repo using the following commands:\n",
    "\n",
    "note: if the loading bars are not working, simply turn them off or install a lower version of pandas by doing the following:\n",
    "`!pip install pandas==1.2.5`"
   ]
  },
  {
   "cell_type": "code",
   "execution_count": null,
   "id": "645dd088",
   "metadata": {
    "scrolled": true
   },
   "outputs": [],
   "source": [
    "# !rm -rf vars-tool\n",
    "# !git clone https://github.com/vars-tool/vars-tool\n",
    "# !pip install vars-tool/.\n",
    "# !pip install seaborn"
   ]
  },
  {
   "cell_type": "markdown",
   "id": "a3f7a87f",
   "metadata": {},
   "source": [
    "## HBV-SASK Model - A Real-world Sensitivity Analysis Problem"
   ]
  },
  {
   "cell_type": "markdown",
   "id": "da54adb7",
   "metadata": {},
   "source": [
    "The HBV-SASK Model is a real-world hydrological model that has been developed within the [**\"Watershed Systems Analysis and Modelling Lab\"**](https://www.samanrazavi.com) for educational purposes. In this example, we analyze the sensitivity of each parameter of the HBV-SASK model to the simulated streamflow (i.e., output) using the state-of-the-art varstool Python package.\n",
    "\n",
    "HBV-SASK utilizes daily time-series of precipitation and temperature and produced many outputs, such as streamflow, evapotransipration, state variables, etc.\n",
    "\n",
    "For more information see: Razavi, S., Sheikholeslami, R., Gupta, H. V., & Haghnegahdar, A. (2019). ***VARS-TOOL: A toolbox for comprehensive, efficient, and robust sensitivity and uncertainty analysis.*** Environmental modelling & software, 112, 95-107. doi: https://doi.org/10.1016/j.envsoft.2018.10.005"
   ]
  },
  {
   "cell_type": "code",
   "execution_count": 1,
   "id": "b849b9d0",
   "metadata": {},
   "outputs": [],
   "source": [
    "from varstool import TSVARS, Model\n",
    "\n",
    "# Loading the \"HBV_SASK\" model that is included in this package\n",
    "from varstool.example_models import HBV_SASK\n",
    "\n",
    "exp_1_model = Model(HBV_SASK)"
   ]
  },
  {
   "cell_type": "markdown",
   "id": "4a7cb9f4",
   "metadata": {},
   "source": [
    "Let's just see how the model works. The object \"Model\" is an standard way of wrapping different functions that are going to be used by varstool. Therefore, users must communicate with their function of interest using this simple wrapper class. The arguments of this class can be quickly viewed by the following command:"
   ]
  },
  {
   "cell_type": "code",
   "execution_count": 2,
   "id": "9a135b8c",
   "metadata": {},
   "outputs": [
    {
     "data": {
      "text/plain": [
       "\u001b[1;31mInit signature:\u001b[0m \u001b[0mModel\u001b[0m\u001b[1;33m(\u001b[0m\u001b[0mfunc\u001b[0m\u001b[1;33m:\u001b[0m \u001b[0mCallable\u001b[0m \u001b[1;33m=\u001b[0m \u001b[1;32mNone\u001b[0m\u001b[1;33m,\u001b[0m \u001b[0munknown_options\u001b[0m\u001b[1;33m:\u001b[0m \u001b[0mDict\u001b[0m\u001b[1;33m[\u001b[0m\u001b[0mstr\u001b[0m\u001b[1;33m,\u001b[0m \u001b[0mAny\u001b[0m\u001b[1;33m]\u001b[0m \u001b[1;33m=\u001b[0m \u001b[1;33m{\u001b[0m\u001b[1;33m}\u001b[0m\u001b[1;33m)\u001b[0m \u001b[1;33m->\u001b[0m \u001b[1;32mNone\u001b[0m\u001b[1;33m\u001b[0m\u001b[1;33m\u001b[0m\u001b[0m\n",
       "\u001b[1;31mDocstring:\u001b[0m     \n",
       "Description:\n",
       "------------\n",
       "A wrapper class to contain various models and functions\n",
       "to be fed into VARS and its variations. The models can be\n",
       "called by simply calling the wrapper class itself.\n",
       "\n",
       "\n",
       "Parameters:\n",
       "-----------\n",
       ":param func: function of interest\n",
       ":type func: Callable\n",
       ":param unknown_options: a dictionary of options with keys as\n",
       "                        parameters and values of parameter\n",
       "                        values.\n",
       ":type unknown_options: dict\n",
       "\u001b[1;31mFile:\u001b[0m           c:\\users\\corde\\anaconda3\\lib\\site-packages\\varstool\\vars_sa.py\n",
       "\u001b[1;31mType:\u001b[0m           type\n",
       "\u001b[1;31mSubclasses:\u001b[0m     \n"
      ]
     },
     "metadata": {},
     "output_type": "display_data"
    }
   ],
   "source": [
    "Model?"
   ]
  },
  {
   "cell_type": "markdown",
   "id": "86a9508b",
   "metadata": {},
   "source": [
    "To quickly test the HBV-SASK model with some random numbers as its input, follow the cell below:"
   ]
  },
  {
   "cell_type": "code",
   "execution_count": 3,
   "id": "afbfc23e",
   "metadata": {
    "scrolled": true
   },
   "outputs": [],
   "source": [
    "import pandas as pd\n",
    "\n",
    "params={#name  #value\n",
    "       'TT'   : -4.00,\n",
    "       'C0'   : 0.00,\n",
    "       'ETF'  : 0.00,\n",
    "       'LP'   : 0.10,\n",
    "       'FC'   : 50.0,\n",
    "       'beta' : 1.00,\n",
    "       'FRAC' : 0.10,\n",
    "       'K1'   : 0.05,\n",
    "       'alpha': 1.00,\n",
    "       'K2'   : 0.00,\n",
    "       'UBAS' : 1.00,\n",
    "       'PM'   : 0.50,\n",
    "}"
   ]
  },
  {
   "cell_type": "markdown",
   "id": "58de73aa",
   "metadata": {},
   "source": [
    "HBV-SASK returns many outputs; for the sake of simplicity, here we just use the simulated streamflow as the chosen model response (shown below). HBV-SASK returns a time-series of streamflow but, we are using GVARS which only accepts non time-series inputs right now. The time-series version of this algorithm is detailed in the following publication:\n",
    "\n",
    "* Gupta, H. V., & Razavi, S. (2018). Revisiting the basis of sensitivity analysis for dynamical earth system models. Water Resources Research, 54(11), 8692-8717. doi: https://doi.org/10.1029/2018WR022668"
   ]
  },
  {
   "cell_type": "code",
   "execution_count": 4,
   "id": "164f9ab4",
   "metadata": {},
   "outputs": [
    {
     "data": {
      "text/plain": [
       "2011-12-12    0.337263\n",
       "2011-12-13    0.320400\n",
       "2011-12-14    0.304380\n",
       "2011-12-15    0.289161\n",
       "2011-12-16    0.274703\n",
       "2011-12-17    0.260968\n",
       "2011-12-18    0.669035\n",
       "2011-12-19    0.635583\n",
       "2011-12-20    0.603804\n",
       "2011-12-21    0.573614\n",
       "2011-12-22    0.544933\n",
       "2011-12-23    0.517687\n",
       "2011-12-24    0.491802\n",
       "2011-12-25    0.467212\n",
       "2011-12-26    0.443851\n",
       "2011-12-27    0.421659\n",
       "2011-12-28    0.400576\n",
       "2011-12-29    0.738123\n",
       "2011-12-30    0.892118\n",
       "2011-12-31    0.847512\n",
       "Name: Q_cms, dtype: float64"
      ]
     },
     "execution_count": 4,
     "metadata": {},
     "output_type": "execute_result"
    }
   ],
   "source": [
    "# custome output selection - we are just now using the last 20 time-steps\n",
    "def custom_HBV_SASK(x):\n",
    "    # on MS Windows machines, import the original library again in\n",
    "    # the body of the function to be wrapped, if any.\n",
    "    # No need to import again on *nix machines\n",
    "    from varstool.funcs import HBV_SASK\n",
    "    \n",
    "    return HBV_SASK(x)[0]['Q_cms'][-20:]\n",
    "\n",
    "exp_1_model = Model(custom_HBV_SASK)\n",
    "\n",
    "# and testing the output\n",
    "exp_1_model(pd.Series(params))"
   ]
  },
  {
   "cell_type": "code",
   "execution_count": 5,
   "id": "c3bebe8c",
   "metadata": {},
   "outputs": [],
   "source": [
    "# setting up a TSVARS experiment for the HBV-SASK model\n",
    "\n",
    "exp_1 = TSVARS(num_stars=2,\n",
    "               parameters={  #lb     #ub\n",
    "                   'TT'   : [-4.00, 4.00],\n",
    "                   'C0'   : [0.00 , 10.0],\n",
    "                   'ETF'  : [0.00 , 1.00],\n",
    "                   'LP'   : [0.00 , 1.00],\n",
    "                   'FC'   : [50.0 ,500.0],\n",
    "                   'beta' : [1.00 , 3.00],\n",
    "                   'FRAC' : [0.10 , 0.90],\n",
    "                   'K1'   : [0.05 , 1.00],\n",
    "                   'alpha': [1.00 , 3.00],\n",
    "                   'K2'   : [0.00 , 0.05],\n",
    "                   'UBAS' : [1.00 , 3.00],\n",
    "                   'PM'   : [0.50 , 2.00],\n",
    "               },\n",
    "               delta_h=0.1,\n",
    "               ivars_scales=(0.1, 0.3, 0.5),\n",
    "               model=exp_1_model,\n",
    "               seed=1001,\n",
    "               sampler='lhs',\n",
    "               bootstrap_flag=False,\n",
    "               grouping_flag=False,\n",
    "               report_verbose=True,\n",
    "               func_eval_method='parallel',\n",
    "               vars_eval_method='parallel',\n",
    "               vars_chunk_size=None,\n",
    "          )"
   ]
  },
  {
   "cell_type": "markdown",
   "id": "6984c6af",
   "metadata": {},
   "source": [
    "At any time, the status of the VARS analysis could be viewed by typing the name of the instance that is used to initiate the experiment. Here, it is `exp_1`:"
   ]
  },
  {
   "cell_type": "code",
   "execution_count": 6,
   "id": "dc863476",
   "metadata": {},
   "outputs": [
    {
     "data": {
      "text/plain": [
       "Star Centres: Loaded\n",
       "Star Points: Not Loaded\n",
       "Parameters: 12 paremeters set\n",
       "Delta h: 0.1\n",
       "Model: custom_HBV_SASK\n",
       "Seed Number: 1001\n",
       "Bootstrap: Off\n",
       "Bootstrap Size: N/A\n",
       "Bootstrap CI: N/A\n",
       "Grouping: Off\n",
       "Number of Groups: None\n",
       "Function Evaluation Method: parallel\n",
       "TSVARS Evaluation Method: parallel\n",
       "TSVARS Chunk Size: N/A\n",
       "Verbose: On\n",
       "TSVARS Analysis: Not Done"
      ]
     },
     "execution_count": 6,
     "metadata": {},
     "output_type": "execute_result"
    }
   ],
   "source": [
    "exp_1"
   ]
  },
  {
   "cell_type": "markdown",
   "id": "f20d7843",
   "metadata": {},
   "source": [
    "From the status report, it could be viewed that the `star_centres` are fully sampled (via `lhs`) and loaded. Meanwhile, $\\Delta$h (`delta_h`) is set to 0.1, `seed` is set to 1001, and 12 parameters are fully set to begin the VARS sensitivity analysis.\n",
    "\n",
    "Time-series VARS (TSVARS) comes with two computational methods to carry out sensitivity analysis, that are:\n",
    "1. Serial and\n",
    "2. Parallel.\n",
    "\n",
    "It is worth noting that these computational methods are applicable to: **a**) while varstool runs the `Model` and **b**) when varstool computes common `VARS` indices. For the former `func_eval_method` method must be changed and for the latter `vars_eval_method` to either `'serial'` or `'parallel'`.\n",
    "\n",
    "Furthermore, to save memory usage, the computations can be chunked into several segments to avoid memory leak. In this example, first a simple serial version without chunking is demonstrated. It should be noted that the parallel version are unstable and might result in unexpected errors."
   ]
  },
  {
   "cell_type": "markdown",
   "id": "de7b9bcb",
   "metadata": {},
   "source": [
    "Before carrying out a sensitivity analysis, let's check the loaded `star_centres`:"
   ]
  },
  {
   "cell_type": "code",
   "execution_count": 7,
   "id": "1bc8aa70",
   "metadata": {
    "scrolled": true
   },
   "outputs": [
    {
     "data": {
      "text/plain": [
       "array([[0.74408722, 0.96041308, 0.09803003, 0.21526074, 0.01155678,\n",
       "        0.09789096, 0.9911775 , 0.51015798, 0.85274302, 0.29022856,\n",
       "        0.6763727 , 0.02056527],\n",
       "       [0.15311609, 0.13253178, 0.55455094, 0.70552831, 0.73506341,\n",
       "        0.56364827, 0.17640264, 0.11162101, 0.30676093, 0.98275457,\n",
       "        0.42678384, 0.80294738]])"
      ]
     },
     "execution_count": 7,
     "metadata": {},
     "output_type": "execute_result"
    }
   ],
   "source": [
    "exp_1.star_centres"
   ]
  },
  {
   "cell_type": "markdown",
   "id": "f8df6e70",
   "metadata": {},
   "source": [
    "It could be seen that 2 star centres for 12 parameters of the HBV-SASK model are successfully produced. Now let's move on to the sensitivity analysis bit:"
   ]
  },
  {
   "cell_type": "code",
   "execution_count": 8,
   "id": "b6c282c5",
   "metadata": {},
   "outputs": [
    {
     "name": "stderr",
     "output_type": "stream",
     "text": [
      "C:\\Users\\Corde\\anaconda3\\lib\\site-packages\\varstool\\vars_sa.py:1808: UserWarning: Evaluating function in parallel mode is not stable yet. varstool currently uses `mapply` to parallelize function evaluations, see https://github.com/ddelange/mapply\n",
      "  warnings.warn(\n"
     ]
    },
    {
     "data": {
      "application/vnd.jupyter.widget-view+json": {
       "model_id": "879e37849f724bca9518216e05165510",
       "version_major": 2,
       "version_minor": 0
      },
      "text/plain": [
       "  0%|                                                                                          | 0/240 [00:00<…"
      ]
     },
     "metadata": {},
     "output_type": "display_data"
    },
    {
     "data": {
      "application/vnd.jupyter.widget-view+json": {
       "model_id": "b2de3a818bf04fcfad5bef3d314d2797",
       "version_major": 2,
       "version_minor": 0
      },
      "text/plain": [
       "building pairs:   0%|                                                                           | 0/20 [00:00<…"
      ]
     },
     "metadata": {},
     "output_type": "display_data"
    },
    {
     "data": {
      "application/vnd.jupyter.widget-view+json": {
       "model_id": "11b1518e492942c69c2cf0653eced46f",
       "version_major": 2,
       "version_minor": 0
      },
      "text/plain": [
       "VARS analysis:   0%|                                                                            | 0/10 [00:00<…"
      ]
     },
     "metadata": {},
     "output_type": "display_data"
    }
   ],
   "source": [
    "exp_1.run_online()"
   ]
  },
  {
   "cell_type": "markdown",
   "id": "6685b8b7",
   "metadata": {},
   "source": [
    "You can see the list of chosen outputs in the `output` attribute of the VARS analysis experiment:"
   ]
  },
  {
   "cell_type": "code",
   "execution_count": 9,
   "id": "d7776218",
   "metadata": {},
   "outputs": [
    {
     "data": {
      "text/plain": [
       "dict_keys(['Gamma', 'ST', 'MAEE', 'MEE', 'COV', 'ECOV', 'IVARS', 'IVARSid'])"
      ]
     },
     "execution_count": 9,
     "metadata": {},
     "output_type": "execute_result"
    }
   ],
   "source": [
    "exp_1.output.keys()"
   ]
  },
  {
   "cell_type": "markdown",
   "id": "f2ecaf78",
   "metadata": {},
   "source": [
    "To view the produced variogram:"
   ]
  },
  {
   "cell_type": "code",
   "execution_count": null,
   "id": "ca3aef39",
   "metadata": {},
   "outputs": [],
   "source": [
    "exp_1.output['Gamma'].unstack(level=1) # unstack to make the dataframe more legible"
   ]
  },
  {
   "cell_type": "markdown",
   "id": "b763c10f",
   "metadata": {},
   "source": [
    "## Aggregated Values"
   ]
  },
  {
   "cell_type": "markdown",
   "id": "9b1666dd",
   "metadata": {},
   "source": [
    "The aggregated values of the produced outputs are also possible by getting `.aggregate` of each value, for example:"
   ]
  },
  {
   "cell_type": "code",
   "execution_count": 11,
   "id": "aa8603f9",
   "metadata": {},
   "outputs": [
    {
     "data": {
      "text/plain": [
       "param  h  \n",
       "C0     0.1    1.638033\n",
       "       0.2    1.833067\n",
       "       0.3    2.034193\n",
       "       0.4    2.294297\n",
       "       0.5    2.632140\n",
       "                ...   \n",
       "beta   0.5    1.604701\n",
       "       0.6    2.299489\n",
       "       0.7    3.143297\n",
       "       0.8    4.162663\n",
       "       0.9    5.397008\n",
       "Length: 108, dtype: float64"
      ]
     },
     "execution_count": 11,
     "metadata": {},
     "output_type": "execute_result"
    }
   ],
   "source": [
    "exp_1.gamma.aggregate"
   ]
  },
  {
   "cell_type": "markdown",
   "id": "29343bd3",
   "metadata": {},
   "source": [
    "or"
   ]
  },
  {
   "cell_type": "code",
   "execution_count": null,
   "id": "dcb145fb",
   "metadata": {},
   "outputs": [],
   "source": [
    "exp_1.output['Gamma'].aggregate"
   ]
  },
  {
   "cell_type": "markdown",
   "id": "0f69bcce",
   "metadata": {},
   "source": [
    "## Plotting Sensitivity Measures"
   ]
  },
  {
   "cell_type": "markdown",
   "id": "d3abced5",
   "metadata": {},
   "source": [
    "Depending on the sensitivity analysis problem at hand, several plots could be drawn. Two examples of them are included below:"
   ]
  },
  {
   "cell_type": "code",
   "execution_count": null,
   "id": "a0c59345",
   "metadata": {},
   "outputs": [],
   "source": [
    "# Plotting IVARS-50 measure for two parameters\n",
    "\n",
    "idx = pd.IndexSlice\n",
    "\n",
    "exp_1.ivars.loc[idx[:, :, 0.5]].unstack(level=-1)[['C0', 'ETF', 'LP']].plot()"
   ]
  },
  {
   "cell_type": "code",
   "execution_count": null,
   "id": "d9e18604",
   "metadata": {},
   "outputs": [],
   "source": [
    "# Plotting IVARS-50 measure using emperical cdfs for two parameters\n",
    "\n",
    "import seaborn as sns\n",
    "\n",
    "sns.ecdfplot(exp_1.ivars.loc[idx[:, :, 0.5]].unstack(level=-1)[['C0', 'ETF', 'LP']])"
   ]
  },
  {
   "cell_type": "markdown",
   "id": "d60a5e32",
   "metadata": {},
   "source": [
    "# DYI"
   ]
  },
  {
   "cell_type": "markdown",
   "id": "677b9dea",
   "metadata": {},
   "source": [
    "How about you test other outputs of HBV-SASK yourself below?"
   ]
  },
  {
   "cell_type": "code",
   "execution_count": null,
   "id": "1c6f9d85",
   "metadata": {
    "scrolled": true
   },
   "outputs": [],
   "source": [
    "exp_2_model = Model(...)\n",
    "\n",
    "exp_2 = TSVARS(...)"
   ]
  }
 ],
 "metadata": {
  "kernelspec": {
   "display_name": "Python 3",
   "language": "python",
   "name": "python3"
  },
  "language_info": {
   "codemirror_mode": {
    "name": "ipython",
    "version": 3
   },
   "file_extension": ".py",
   "mimetype": "text/x-python",
   "name": "python",
   "nbconvert_exporter": "python",
   "pygments_lexer": "ipython3",
   "version": "3.8.8"
  }
 },
 "nbformat": 4,
 "nbformat_minor": 5
}
